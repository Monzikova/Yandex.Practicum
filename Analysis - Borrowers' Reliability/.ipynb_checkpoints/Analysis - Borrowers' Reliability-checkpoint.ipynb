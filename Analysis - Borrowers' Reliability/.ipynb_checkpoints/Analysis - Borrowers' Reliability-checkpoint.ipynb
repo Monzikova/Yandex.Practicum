{
 "cells": [
  {
   "cell_type": "markdown",
   "id": "9e29750a",
   "metadata": {
    "id": "c81daeeb"
   },
   "source": [
    "# Исследование надежности заемщиков\n"
   ]
  },
  {
   "cell_type": "markdown",
   "id": "a63fbaf4",
   "metadata": {},
   "source": [
    "Заказчик — кредитный отдел банка. Нужно разобраться, влияет ли семейное положение и количество детей клиента на факт погашения кредита в срок. Входные данные от банка — статистика о платёжеспособности клиентов.\n",
    "Результаты исследования будут учтены при построении модели кредитного скоринга — специальной системы, которая оценивает способность потенциального заёмщика вернуть кредит банку.\n",
    "\n",
    "**Описание данных**\n",
    "\n",
    "`children` — количество детей в семье\n",
    "\n",
    "`days_employed` — общий трудовой стаж в днях\n",
    "\n",
    "`dob_years` — возраст клиента в годах\n",
    "\n",
    "`education` — уровень образования клиента\n",
    "\n",
    "`education_id` — идентификатор уровня образования\n",
    "\n",
    "`family_status` — семейное положение\n",
    "\n",
    "`family_status_id` — идентификатор семейного положения\n",
    "\n",
    "`gender` — пол клиента\n",
    "\n",
    "`income_type` — тип занятости\n",
    "\n",
    "`debt` — имел ли задолженность по возврату кредитов\n",
    "\n",
    "`total_income` — ежемесячный доход\n",
    "\n",
    "`purpose` — цель получения кредита"
   ]
  },
  {
   "cell_type": "markdown",
   "id": "c6c19885",
   "metadata": {
    "id": "744d7639"
   },
   "source": [
    "## Загрузка данных"
   ]
  },
  {
   "cell_type": "code",
   "execution_count": null,
   "id": "1339baf6",
   "metadata": {
    "id": "7bcf75c9"
   },
   "outputs": [],
   "source": [
    "import pandas as pd\n",
    "\n",
    "try:\n",
    "    data = pd.read_csv('/datasets/data.csv')\n",
    "except:\n",
    "    data = pd.read_csv('https://code.s3.yandex.net/datasets/data.csv')"
   ]
  },
  {
   "cell_type": "code",
   "execution_count": 2,
   "id": "076ce173",
   "metadata": {
    "id": "2a7cab99",
    "outputId": "1a8f3ef2-d323-4ec2-ddf7-89670b5944c4"
   },
   "outputs": [
    {
     "data": {
      "text/html": [
       "<div>\n",
       "<style scoped>\n",
       "    .dataframe tbody tr th:only-of-type {\n",
       "        vertical-align: middle;\n",
       "    }\n",
       "\n",
       "    .dataframe tbody tr th {\n",
       "        vertical-align: top;\n",
       "    }\n",
       "\n",
       "    .dataframe thead th {\n",
       "        text-align: right;\n",
       "    }\n",
       "</style>\n",
       "<table border=\"1\" class=\"dataframe\">\n",
       "  <thead>\n",
       "    <tr style=\"text-align: right;\">\n",
       "      <th></th>\n",
       "      <th>children</th>\n",
       "      <th>days_employed</th>\n",
       "      <th>dob_years</th>\n",
       "      <th>education</th>\n",
       "      <th>education_id</th>\n",
       "      <th>family_status</th>\n",
       "      <th>family_status_id</th>\n",
       "      <th>gender</th>\n",
       "      <th>income_type</th>\n",
       "      <th>debt</th>\n",
       "      <th>total_income</th>\n",
       "      <th>purpose</th>\n",
       "    </tr>\n",
       "  </thead>\n",
       "  <tbody>\n",
       "    <tr>\n",
       "      <th>0</th>\n",
       "      <td>1</td>\n",
       "      <td>-8437.673028</td>\n",
       "      <td>42</td>\n",
       "      <td>высшее</td>\n",
       "      <td>0</td>\n",
       "      <td>женат / замужем</td>\n",
       "      <td>0</td>\n",
       "      <td>F</td>\n",
       "      <td>сотрудник</td>\n",
       "      <td>0</td>\n",
       "      <td>253875.639453</td>\n",
       "      <td>покупка жилья</td>\n",
       "    </tr>\n",
       "    <tr>\n",
       "      <th>1</th>\n",
       "      <td>1</td>\n",
       "      <td>-4024.803754</td>\n",
       "      <td>36</td>\n",
       "      <td>среднее</td>\n",
       "      <td>1</td>\n",
       "      <td>женат / замужем</td>\n",
       "      <td>0</td>\n",
       "      <td>F</td>\n",
       "      <td>сотрудник</td>\n",
       "      <td>0</td>\n",
       "      <td>112080.014102</td>\n",
       "      <td>приобретение автомобиля</td>\n",
       "    </tr>\n",
       "    <tr>\n",
       "      <th>2</th>\n",
       "      <td>0</td>\n",
       "      <td>-5623.422610</td>\n",
       "      <td>33</td>\n",
       "      <td>Среднее</td>\n",
       "      <td>1</td>\n",
       "      <td>женат / замужем</td>\n",
       "      <td>0</td>\n",
       "      <td>M</td>\n",
       "      <td>сотрудник</td>\n",
       "      <td>0</td>\n",
       "      <td>145885.952297</td>\n",
       "      <td>покупка жилья</td>\n",
       "    </tr>\n",
       "    <tr>\n",
       "      <th>3</th>\n",
       "      <td>3</td>\n",
       "      <td>-4124.747207</td>\n",
       "      <td>32</td>\n",
       "      <td>среднее</td>\n",
       "      <td>1</td>\n",
       "      <td>женат / замужем</td>\n",
       "      <td>0</td>\n",
       "      <td>M</td>\n",
       "      <td>сотрудник</td>\n",
       "      <td>0</td>\n",
       "      <td>267628.550329</td>\n",
       "      <td>дополнительное образование</td>\n",
       "    </tr>\n",
       "    <tr>\n",
       "      <th>4</th>\n",
       "      <td>0</td>\n",
       "      <td>340266.072047</td>\n",
       "      <td>53</td>\n",
       "      <td>среднее</td>\n",
       "      <td>1</td>\n",
       "      <td>гражданский брак</td>\n",
       "      <td>1</td>\n",
       "      <td>F</td>\n",
       "      <td>пенсионер</td>\n",
       "      <td>0</td>\n",
       "      <td>158616.077870</td>\n",
       "      <td>сыграть свадьбу</td>\n",
       "    </tr>\n",
       "    <tr>\n",
       "      <th>5</th>\n",
       "      <td>0</td>\n",
       "      <td>-926.185831</td>\n",
       "      <td>27</td>\n",
       "      <td>высшее</td>\n",
       "      <td>0</td>\n",
       "      <td>гражданский брак</td>\n",
       "      <td>1</td>\n",
       "      <td>M</td>\n",
       "      <td>компаньон</td>\n",
       "      <td>0</td>\n",
       "      <td>255763.565419</td>\n",
       "      <td>покупка жилья</td>\n",
       "    </tr>\n",
       "    <tr>\n",
       "      <th>6</th>\n",
       "      <td>0</td>\n",
       "      <td>-2879.202052</td>\n",
       "      <td>43</td>\n",
       "      <td>высшее</td>\n",
       "      <td>0</td>\n",
       "      <td>женат / замужем</td>\n",
       "      <td>0</td>\n",
       "      <td>F</td>\n",
       "      <td>компаньон</td>\n",
       "      <td>0</td>\n",
       "      <td>240525.971920</td>\n",
       "      <td>операции с жильем</td>\n",
       "    </tr>\n",
       "    <tr>\n",
       "      <th>7</th>\n",
       "      <td>0</td>\n",
       "      <td>-152.779569</td>\n",
       "      <td>50</td>\n",
       "      <td>СРЕДНЕЕ</td>\n",
       "      <td>1</td>\n",
       "      <td>женат / замужем</td>\n",
       "      <td>0</td>\n",
       "      <td>M</td>\n",
       "      <td>сотрудник</td>\n",
       "      <td>0</td>\n",
       "      <td>135823.934197</td>\n",
       "      <td>образование</td>\n",
       "    </tr>\n",
       "    <tr>\n",
       "      <th>8</th>\n",
       "      <td>2</td>\n",
       "      <td>-6929.865299</td>\n",
       "      <td>35</td>\n",
       "      <td>ВЫСШЕЕ</td>\n",
       "      <td>0</td>\n",
       "      <td>гражданский брак</td>\n",
       "      <td>1</td>\n",
       "      <td>F</td>\n",
       "      <td>сотрудник</td>\n",
       "      <td>0</td>\n",
       "      <td>95856.832424</td>\n",
       "      <td>на проведение свадьбы</td>\n",
       "    </tr>\n",
       "    <tr>\n",
       "      <th>9</th>\n",
       "      <td>0</td>\n",
       "      <td>-2188.756445</td>\n",
       "      <td>41</td>\n",
       "      <td>среднее</td>\n",
       "      <td>1</td>\n",
       "      <td>женат / замужем</td>\n",
       "      <td>0</td>\n",
       "      <td>M</td>\n",
       "      <td>сотрудник</td>\n",
       "      <td>0</td>\n",
       "      <td>144425.938277</td>\n",
       "      <td>покупка жилья для семьи</td>\n",
       "    </tr>\n",
       "    <tr>\n",
       "      <th>10</th>\n",
       "      <td>2</td>\n",
       "      <td>-4171.483647</td>\n",
       "      <td>36</td>\n",
       "      <td>высшее</td>\n",
       "      <td>0</td>\n",
       "      <td>женат / замужем</td>\n",
       "      <td>0</td>\n",
       "      <td>M</td>\n",
       "      <td>компаньон</td>\n",
       "      <td>0</td>\n",
       "      <td>113943.491460</td>\n",
       "      <td>покупка недвижимости</td>\n",
       "    </tr>\n",
       "    <tr>\n",
       "      <th>11</th>\n",
       "      <td>0</td>\n",
       "      <td>-792.701887</td>\n",
       "      <td>40</td>\n",
       "      <td>среднее</td>\n",
       "      <td>1</td>\n",
       "      <td>женат / замужем</td>\n",
       "      <td>0</td>\n",
       "      <td>F</td>\n",
       "      <td>сотрудник</td>\n",
       "      <td>0</td>\n",
       "      <td>77069.234271</td>\n",
       "      <td>покупка коммерческой недвижимости</td>\n",
       "    </tr>\n",
       "    <tr>\n",
       "      <th>12</th>\n",
       "      <td>0</td>\n",
       "      <td>NaN</td>\n",
       "      <td>65</td>\n",
       "      <td>среднее</td>\n",
       "      <td>1</td>\n",
       "      <td>гражданский брак</td>\n",
       "      <td>1</td>\n",
       "      <td>M</td>\n",
       "      <td>пенсионер</td>\n",
       "      <td>0</td>\n",
       "      <td>NaN</td>\n",
       "      <td>сыграть свадьбу</td>\n",
       "    </tr>\n",
       "    <tr>\n",
       "      <th>13</th>\n",
       "      <td>0</td>\n",
       "      <td>-1846.641941</td>\n",
       "      <td>54</td>\n",
       "      <td>неоконченное высшее</td>\n",
       "      <td>2</td>\n",
       "      <td>женат / замужем</td>\n",
       "      <td>0</td>\n",
       "      <td>F</td>\n",
       "      <td>сотрудник</td>\n",
       "      <td>0</td>\n",
       "      <td>130458.228857</td>\n",
       "      <td>приобретение автомобиля</td>\n",
       "    </tr>\n",
       "    <tr>\n",
       "      <th>14</th>\n",
       "      <td>0</td>\n",
       "      <td>-1844.956182</td>\n",
       "      <td>56</td>\n",
       "      <td>высшее</td>\n",
       "      <td>0</td>\n",
       "      <td>гражданский брак</td>\n",
       "      <td>1</td>\n",
       "      <td>F</td>\n",
       "      <td>компаньон</td>\n",
       "      <td>1</td>\n",
       "      <td>165127.911772</td>\n",
       "      <td>покупка жилой недвижимости</td>\n",
       "    </tr>\n",
       "    <tr>\n",
       "      <th>15</th>\n",
       "      <td>1</td>\n",
       "      <td>-972.364419</td>\n",
       "      <td>26</td>\n",
       "      <td>среднее</td>\n",
       "      <td>1</td>\n",
       "      <td>женат / замужем</td>\n",
       "      <td>0</td>\n",
       "      <td>F</td>\n",
       "      <td>сотрудник</td>\n",
       "      <td>0</td>\n",
       "      <td>116820.904450</td>\n",
       "      <td>строительство собственной недвижимости</td>\n",
       "    </tr>\n",
       "    <tr>\n",
       "      <th>16</th>\n",
       "      <td>0</td>\n",
       "      <td>-1719.934226</td>\n",
       "      <td>35</td>\n",
       "      <td>среднее</td>\n",
       "      <td>1</td>\n",
       "      <td>женат / замужем</td>\n",
       "      <td>0</td>\n",
       "      <td>F</td>\n",
       "      <td>сотрудник</td>\n",
       "      <td>0</td>\n",
       "      <td>289202.704229</td>\n",
       "      <td>недвижимость</td>\n",
       "    </tr>\n",
       "    <tr>\n",
       "      <th>17</th>\n",
       "      <td>0</td>\n",
       "      <td>-2369.999720</td>\n",
       "      <td>33</td>\n",
       "      <td>высшее</td>\n",
       "      <td>0</td>\n",
       "      <td>гражданский брак</td>\n",
       "      <td>1</td>\n",
       "      <td>M</td>\n",
       "      <td>сотрудник</td>\n",
       "      <td>0</td>\n",
       "      <td>90410.586745</td>\n",
       "      <td>строительство недвижимости</td>\n",
       "    </tr>\n",
       "    <tr>\n",
       "      <th>18</th>\n",
       "      <td>0</td>\n",
       "      <td>400281.136913</td>\n",
       "      <td>53</td>\n",
       "      <td>среднее</td>\n",
       "      <td>1</td>\n",
       "      <td>вдовец / вдова</td>\n",
       "      <td>2</td>\n",
       "      <td>F</td>\n",
       "      <td>пенсионер</td>\n",
       "      <td>0</td>\n",
       "      <td>56823.777243</td>\n",
       "      <td>на покупку подержанного автомобиля</td>\n",
       "    </tr>\n",
       "    <tr>\n",
       "      <th>19</th>\n",
       "      <td>0</td>\n",
       "      <td>-10038.818549</td>\n",
       "      <td>48</td>\n",
       "      <td>СРЕДНЕЕ</td>\n",
       "      <td>1</td>\n",
       "      <td>в разводе</td>\n",
       "      <td>3</td>\n",
       "      <td>F</td>\n",
       "      <td>сотрудник</td>\n",
       "      <td>0</td>\n",
       "      <td>242831.107982</td>\n",
       "      <td>на покупку своего автомобиля</td>\n",
       "    </tr>\n",
       "  </tbody>\n",
       "</table>\n",
       "</div>"
      ],
      "text/plain": [
       "    children  days_employed  dob_years            education  education_id  \\\n",
       "0          1   -8437.673028         42               высшее             0   \n",
       "1          1   -4024.803754         36              среднее             1   \n",
       "2          0   -5623.422610         33              Среднее             1   \n",
       "3          3   -4124.747207         32              среднее             1   \n",
       "4          0  340266.072047         53              среднее             1   \n",
       "5          0    -926.185831         27               высшее             0   \n",
       "6          0   -2879.202052         43               высшее             0   \n",
       "7          0    -152.779569         50              СРЕДНЕЕ             1   \n",
       "8          2   -6929.865299         35               ВЫСШЕЕ             0   \n",
       "9          0   -2188.756445         41              среднее             1   \n",
       "10         2   -4171.483647         36               высшее             0   \n",
       "11         0    -792.701887         40              среднее             1   \n",
       "12         0            NaN         65              среднее             1   \n",
       "13         0   -1846.641941         54  неоконченное высшее             2   \n",
       "14         0   -1844.956182         56               высшее             0   \n",
       "15         1    -972.364419         26              среднее             1   \n",
       "16         0   -1719.934226         35              среднее             1   \n",
       "17         0   -2369.999720         33               высшее             0   \n",
       "18         0  400281.136913         53              среднее             1   \n",
       "19         0  -10038.818549         48              СРЕДНЕЕ             1   \n",
       "\n",
       "       family_status  family_status_id gender income_type  debt  \\\n",
       "0    женат / замужем                 0      F   сотрудник     0   \n",
       "1    женат / замужем                 0      F   сотрудник     0   \n",
       "2    женат / замужем                 0      M   сотрудник     0   \n",
       "3    женат / замужем                 0      M   сотрудник     0   \n",
       "4   гражданский брак                 1      F   пенсионер     0   \n",
       "5   гражданский брак                 1      M   компаньон     0   \n",
       "6    женат / замужем                 0      F   компаньон     0   \n",
       "7    женат / замужем                 0      M   сотрудник     0   \n",
       "8   гражданский брак                 1      F   сотрудник     0   \n",
       "9    женат / замужем                 0      M   сотрудник     0   \n",
       "10   женат / замужем                 0      M   компаньон     0   \n",
       "11   женат / замужем                 0      F   сотрудник     0   \n",
       "12  гражданский брак                 1      M   пенсионер     0   \n",
       "13   женат / замужем                 0      F   сотрудник     0   \n",
       "14  гражданский брак                 1      F   компаньон     1   \n",
       "15   женат / замужем                 0      F   сотрудник     0   \n",
       "16   женат / замужем                 0      F   сотрудник     0   \n",
       "17  гражданский брак                 1      M   сотрудник     0   \n",
       "18    вдовец / вдова                 2      F   пенсионер     0   \n",
       "19         в разводе                 3      F   сотрудник     0   \n",
       "\n",
       "     total_income                                 purpose  \n",
       "0   253875.639453                           покупка жилья  \n",
       "1   112080.014102                 приобретение автомобиля  \n",
       "2   145885.952297                           покупка жилья  \n",
       "3   267628.550329              дополнительное образование  \n",
       "4   158616.077870                         сыграть свадьбу  \n",
       "5   255763.565419                           покупка жилья  \n",
       "6   240525.971920                       операции с жильем  \n",
       "7   135823.934197                             образование  \n",
       "8    95856.832424                   на проведение свадьбы  \n",
       "9   144425.938277                 покупка жилья для семьи  \n",
       "10  113943.491460                    покупка недвижимости  \n",
       "11   77069.234271       покупка коммерческой недвижимости  \n",
       "12            NaN                         сыграть свадьбу  \n",
       "13  130458.228857                 приобретение автомобиля  \n",
       "14  165127.911772              покупка жилой недвижимости  \n",
       "15  116820.904450  строительство собственной недвижимости  \n",
       "16  289202.704229                            недвижимость  \n",
       "17   90410.586745              строительство недвижимости  \n",
       "18   56823.777243      на покупку подержанного автомобиля  \n",
       "19  242831.107982            на покупку своего автомобиля  "
      ]
     },
     "execution_count": 2,
     "metadata": {},
     "output_type": "execute_result"
    }
   ],
   "source": [
    "data.head(20)"
   ]
  },
  {
   "cell_type": "code",
   "execution_count": 3,
   "id": "b29f1e71",
   "metadata": {
    "id": "2b757bca",
    "outputId": "15376089-8dad-46c9-b520-c05248d43158"
   },
   "outputs": [
    {
     "name": "stdout",
     "output_type": "stream",
     "text": [
      "<class 'pandas.core.frame.DataFrame'>\n",
      "RangeIndex: 21525 entries, 0 to 21524\n",
      "Data columns (total 12 columns):\n",
      " #   Column            Non-Null Count  Dtype  \n",
      "---  ------            --------------  -----  \n",
      " 0   children          21525 non-null  int64  \n",
      " 1   days_employed     19351 non-null  float64\n",
      " 2   dob_years         21525 non-null  int64  \n",
      " 3   education         21525 non-null  object \n",
      " 4   education_id      21525 non-null  int64  \n",
      " 5   family_status     21525 non-null  object \n",
      " 6   family_status_id  21525 non-null  int64  \n",
      " 7   gender            21525 non-null  object \n",
      " 8   income_type       21525 non-null  object \n",
      " 9   debt              21525 non-null  int64  \n",
      " 10  total_income      19351 non-null  float64\n",
      " 11  purpose           21525 non-null  object \n",
      "dtypes: float64(2), int64(5), object(5)\n",
      "memory usage: 2.0+ MB\n"
     ]
    }
   ],
   "source": [
    "data.info()"
   ]
  },
  {
   "cell_type": "markdown",
   "id": "b2ff5456",
   "metadata": {
    "id": "333ec665"
   },
   "source": [
    "## Предобработка данных"
   ]
  },
  {
   "cell_type": "markdown",
   "id": "d4cdeaad",
   "metadata": {
    "id": "02d92d53"
   },
   "source": [
    "### Удаление пропусков"
   ]
  },
  {
   "cell_type": "code",
   "execution_count": 4,
   "id": "0577318c",
   "metadata": {
    "id": "7f9b2309",
    "outputId": "81f4d817-781c-465c-ed15-91ce4446810d"
   },
   "outputs": [
    {
     "data": {
      "text/plain": [
       "children               0\n",
       "days_employed       2174\n",
       "dob_years              0\n",
       "education              0\n",
       "education_id           0\n",
       "family_status          0\n",
       "family_status_id       0\n",
       "gender                 0\n",
       "income_type            0\n",
       "debt                   0\n",
       "total_income        2174\n",
       "purpose                0\n",
       "dtype: int64"
      ]
     },
     "execution_count": 4,
     "metadata": {},
     "output_type": "execute_result"
    }
   ],
   "source": [
    "data.isna().sum()"
   ]
  },
  {
   "cell_type": "markdown",
   "id": "190a9cb9",
   "metadata": {
    "id": "db86e27b"
   },
   "source": [
    "В двух столбцах есть пропущенные значения. Один из них — `days_employed`.  Другой столбец с пропущенными значениями — `total_income` — хранит данные о доходах. На сумму дохода сильнее всего влияет тип занятости, поэтому заполнить пропуски в этом столбце нужно медианным значением по каждому типу из столбца `income_type`. Например, у человека с типом занятости `сотрудник` пропуск в столбце `total_income` должен быть заполнен медианным доходом среди всех записей с тем же типом."
   ]
  },
  {
   "cell_type": "code",
   "execution_count": 5,
   "id": "ddffd44f",
   "metadata": {
    "id": "42006a93"
   },
   "outputs": [],
   "source": [
    "for t in data['income_type'].unique():\n",
    "    data.loc[(data['income_type'] == t) & (data['total_income'].isna()), 'total_income'] = \\\n",
    "    data.loc[(data['income_type'] == t), 'total_income'].median()"
   ]
  },
  {
   "cell_type": "markdown",
   "id": "6341abb6",
   "metadata": {
    "id": "89da5ece"
   },
   "source": [
    "### Обработка аномальных значений"
   ]
  },
  {
   "cell_type": "markdown",
   "id": "e9a651fa",
   "metadata": {
    "id": "57964554"
   },
   "source": [
    "В данных встречаются аномалии, например отрицательное количество дней трудового стажа в столбце `days_employed`. Заменим все отрицательные значения положительными с помощью метода `abs()`."
   ]
  },
  {
   "cell_type": "code",
   "execution_count": 6,
   "id": "ee32f1fc",
   "metadata": {
    "id": "f6f055bf"
   },
   "outputs": [],
   "source": [
    "data['days_employed'] = data['days_employed'].abs()"
   ]
  },
  {
   "cell_type": "markdown",
   "id": "5862d494",
   "metadata": {
    "id": "6107dd2f"
   },
   "source": [
    "Для каждого типа занятости выведим медианное значение трудового стажа `days_employed` в днях."
   ]
  },
  {
   "cell_type": "code",
   "execution_count": 7,
   "id": "2f37e62a",
   "metadata": {
    "id": "85a5faf6",
    "outputId": "801ef80e-522b-4668-f34e-565af7432bcf"
   },
   "outputs": [
    {
     "data": {
      "text/plain": [
       "income_type\n",
       "безработный        366413.652744\n",
       "в декрете            3296.759962\n",
       "госслужащий          2689.368353\n",
       "компаньон            1547.382223\n",
       "пенсионер          365213.306266\n",
       "предприниматель       520.848083\n",
       "сотрудник            1574.202821\n",
       "студент               578.751554\n",
       "Name: days_employed, dtype: float64"
      ]
     },
     "execution_count": 7,
     "metadata": {},
     "output_type": "execute_result"
    }
   ],
   "source": [
    "data.groupby('income_type')['days_employed'].agg('median')"
   ]
  },
  {
   "cell_type": "markdown",
   "id": "139ce87e",
   "metadata": {
    "id": "38d1a030"
   },
   "source": [
    "У двух типов (безработные и пенсионеры) получатся аномально большие значения. Исправить такие значения сложно, поэтому оставим их как есть. Тем более этот столбец не понадобится нам для исследования."
   ]
  },
  {
   "cell_type": "code",
   "execution_count": 8,
   "id": "f88c9c80",
   "metadata": {
    "id": "ef5056eb",
    "outputId": "6975b15c-7f95-4697-d16d-a0c79b657b03"
   },
   "outputs": [
    {
     "data": {
      "text/plain": [
       "array([ 1,  0,  3,  2, -1,  4, 20,  5])"
      ]
     },
     "execution_count": 8,
     "metadata": {},
     "output_type": "execute_result"
    }
   ],
   "source": [
    "data['children'].unique()"
   ]
  },
  {
   "cell_type": "markdown",
   "id": "c9bfdc58",
   "metadata": {
    "id": "40b9ebf2"
   },
   "source": [
    "В столбце `children` есть два аномальных значения. Удалим строки, в которых встречаются такие аномальные значения."
   ]
  },
  {
   "cell_type": "code",
   "execution_count": 9,
   "id": "11425904",
   "metadata": {
    "id": "3ff9801d"
   },
   "outputs": [],
   "source": [
    "data = data[(data['children'] != -1) & (data['children'] != 20)]"
   ]
  },
  {
   "cell_type": "code",
   "execution_count": 10,
   "id": "7a230b9d",
   "metadata": {
    "id": "ad4fa8b7",
    "outputId": "b2097101-d49d-44d9-901b-32a65c9463d1"
   },
   "outputs": [
    {
     "data": {
      "text/plain": [
       "array([1, 0, 3, 2, 4, 5])"
      ]
     },
     "execution_count": 10,
     "metadata": {},
     "output_type": "execute_result"
    }
   ],
   "source": [
    "data['children'].unique()"
   ]
  },
  {
   "cell_type": "markdown",
   "id": "d40a738a",
   "metadata": {
    "id": "f4ea573f"
   },
   "source": [
    "Заполним пропуски в столбце `days_employed` медианными значениями по каждого типа занятости `income_type`."
   ]
  },
  {
   "cell_type": "code",
   "execution_count": 11,
   "id": "7b9eb20d",
   "metadata": {
    "id": "af6b1a7e"
   },
   "outputs": [],
   "source": [
    "for t in data['income_type'].unique():\n",
    "    data.loc[(data['income_type'] == t) & (data['days_employed'].isna()), 'days_employed'] = \\\n",
    "    data.loc[(data['income_type'] == t), 'days_employed'].median()"
   ]
  },
  {
   "cell_type": "code",
   "execution_count": 12,
   "id": "97de746f",
   "metadata": {
    "id": "55f78bc2",
    "outputId": "8da1e4e1-358e-4e87-98c9-f261bce0a7b2"
   },
   "outputs": [
    {
     "data": {
      "text/plain": [
       "children            0\n",
       "days_employed       0\n",
       "dob_years           0\n",
       "education           0\n",
       "education_id        0\n",
       "family_status       0\n",
       "family_status_id    0\n",
       "gender              0\n",
       "income_type         0\n",
       "debt                0\n",
       "total_income        0\n",
       "purpose             0\n",
       "dtype: int64"
      ]
     },
     "execution_count": 12,
     "metadata": {},
     "output_type": "execute_result"
    }
   ],
   "source": [
    "data.isna().sum()"
   ]
  },
  {
   "cell_type": "markdown",
   "id": "84383293",
   "metadata": {
    "id": "ddc81e43"
   },
   "source": [
    "### Изменение типов данных"
   ]
  },
  {
   "cell_type": "code",
   "execution_count": 13,
   "id": "50838860",
   "metadata": {
    "id": "920b65ad"
   },
   "outputs": [],
   "source": [
    "data['total_income'] = data['total_income'].astype(int)"
   ]
  },
  {
   "cell_type": "markdown",
   "id": "c5d5c36f",
   "metadata": {
    "id": "80c420ba"
   },
   "source": [
    "### Обработка дубликатов"
   ]
  },
  {
   "cell_type": "markdown",
   "id": "58be4a4e",
   "metadata": {},
   "source": [
    "Обработаем неявные дубликаты в столбце `education`. В этом столбце есть одни и те же значения, но записанные по-разному: с использованием заглавных и строчных букв. Приведем их к нижнему регистру. "
   ]
  },
  {
   "cell_type": "code",
   "execution_count": 14,
   "id": "2af99dfe",
   "metadata": {},
   "outputs": [],
   "source": [
    "data['education'] = data['education'].str.lower()"
   ]
  },
  {
   "cell_type": "markdown",
   "id": "5d0e5a29",
   "metadata": {
    "id": "dc587695"
   },
   "source": [
    "Удалим строки дубликаты."
   ]
  },
  {
   "cell_type": "code",
   "execution_count": 15,
   "id": "a6303057",
   "metadata": {
    "id": "3ee445e4",
    "outputId": "9684deba-1934-42d1-99e1-cda61740f822"
   },
   "outputs": [
    {
     "data": {
      "text/plain": [
       "71"
      ]
     },
     "execution_count": 15,
     "metadata": {},
     "output_type": "execute_result"
    }
   ],
   "source": [
    "data.duplicated().sum()"
   ]
  },
  {
   "cell_type": "code",
   "execution_count": 16,
   "id": "7e754793",
   "metadata": {
    "id": "8575fe05"
   },
   "outputs": [],
   "source": [
    "data = data.drop_duplicates()"
   ]
  },
  {
   "cell_type": "markdown",
   "id": "4abf0d88",
   "metadata": {
    "id": "9904cf55"
   },
   "source": [
    "### Категоризация данных"
   ]
  },
  {
   "cell_type": "markdown",
   "id": "035f19ab",
   "metadata": {
    "id": "72fcc8a2"
   },
   "source": [
    "На основании диапазонов, указанных ниже, созддим в датафрейме `data` столбец `total_income_category` с категориями:\n",
    "\n",
    "- 0–30000 — `'E'`;\n",
    "- 30001–50000 — `'D'`;\n",
    "- 50001–200000 — `'C'`;\n",
    "- 200001–1000000 — `'B'`;\n",
    "- 1000001 и выше — `'A'`.\n",
    "\n"
   ]
  },
  {
   "cell_type": "code",
   "execution_count": 17,
   "id": "a8608eed",
   "metadata": {
    "id": "e1771346"
   },
   "outputs": [],
   "source": [
    "def categorize_income(income):\n",
    "    try:\n",
    "        if 0 <= income <= 30000:\n",
    "            return 'E'\n",
    "        elif 30001 <= income <= 50000:\n",
    "            return 'D'\n",
    "        elif 50001 <= income <= 200000:\n",
    "            return 'C'\n",
    "        elif 200001 <= income <= 1000000:\n",
    "            return 'B'\n",
    "        elif income >= 1000001:\n",
    "            return 'A'\n",
    "    except:\n",
    "        pass"
   ]
  },
  {
   "cell_type": "code",
   "execution_count": 18,
   "id": "bd3c7473",
   "metadata": {
    "id": "d5f3586d"
   },
   "outputs": [],
   "source": [
    "data['total_income_category'] = data['total_income'].apply(categorize_income)"
   ]
  },
  {
   "cell_type": "markdown",
   "id": "aa34c391",
   "metadata": {
    "id": "dde49b5c"
   },
   "source": [
    "Выведем на экран перечень уникальных целей взятия кредита из столбца `purpose`."
   ]
  },
  {
   "cell_type": "code",
   "execution_count": 19,
   "id": "61d2df2f",
   "metadata": {
    "id": "f67ce9b3",
    "outputId": "673c12d9-7d7e-4ae0-9812-c622c89dd244"
   },
   "outputs": [
    {
     "data": {
      "text/plain": [
       "array(['покупка жилья', 'приобретение автомобиля',\n",
       "       'дополнительное образование', 'сыграть свадьбу',\n",
       "       'операции с жильем', 'образование', 'на проведение свадьбы',\n",
       "       'покупка жилья для семьи', 'покупка недвижимости',\n",
       "       'покупка коммерческой недвижимости', 'покупка жилой недвижимости',\n",
       "       'строительство собственной недвижимости', 'недвижимость',\n",
       "       'строительство недвижимости', 'на покупку подержанного автомобиля',\n",
       "       'на покупку своего автомобиля',\n",
       "       'операции с коммерческой недвижимостью',\n",
       "       'строительство жилой недвижимости', 'жилье',\n",
       "       'операции со своей недвижимостью', 'автомобили',\n",
       "       'заняться образованием', 'сделка с подержанным автомобилем',\n",
       "       'получение образования', 'автомобиль', 'свадьба',\n",
       "       'получение дополнительного образования', 'покупка своего жилья',\n",
       "       'операции с недвижимостью', 'получение высшего образования',\n",
       "       'свой автомобиль', 'сделка с автомобилем',\n",
       "       'профильное образование', 'высшее образование',\n",
       "       'покупка жилья для сдачи', 'на покупку автомобиля', 'ремонт жилью',\n",
       "       'заняться высшим образованием'], dtype=object)"
      ]
     },
     "execution_count": 19,
     "metadata": {},
     "output_type": "execute_result"
    }
   ],
   "source": [
    "data['purpose'].unique()"
   ]
  },
  {
   "cell_type": "markdown",
   "id": "a3d62700",
   "metadata": {
    "id": "85d0aef0"
   },
   "source": [
    "Создадим, которая на основании данных из столбца `purpose` сформирует новый столбец `purpose_category`, в который войдут следующие категории:\n",
    "\n",
    "- `'операции с автомобилем'`,\n",
    "- `'операции с недвижимостью'`,\n",
    "- `'проведение свадьбы'`,\n",
    "- `'получение образования'`.\n"
   ]
  },
  {
   "cell_type": "code",
   "execution_count": 20,
   "id": "bb268d10",
   "metadata": {
    "id": "e149fab4"
   },
   "outputs": [],
   "source": [
    "def categorize_purpose(row):\n",
    "    try:\n",
    "        if 'автом' in row:\n",
    "            return 'операции с автомобилем'\n",
    "        elif 'жил' in row or 'недвиж' in row:\n",
    "            return 'операции с недвижимостью'\n",
    "        elif 'свад' in row:\n",
    "            return 'проведение свадьбы'\n",
    "        elif 'образов' in row:\n",
    "            return 'получение образования'\n",
    "    except:\n",
    "        return 'нет категории'"
   ]
  },
  {
   "cell_type": "code",
   "execution_count": 21,
   "id": "7236c2b0",
   "metadata": {
    "id": "bf36e69b"
   },
   "outputs": [],
   "source": [
    "data['purpose_category'] = data['purpose'].apply(categorize_purpose)"
   ]
  },
  {
   "cell_type": "markdown",
   "id": "933d7d22",
   "metadata": {
    "id": "09b242bf"
   },
   "source": [
    "### Шаг 3. Исследуйте данные и ответьте на вопросы"
   ]
  },
  {
   "cell_type": "markdown",
   "id": "5cf5ea6b",
   "metadata": {
    "id": "c5d66278"
   },
   "source": [
    "#### 3.1 Есть ли зависимость между количеством детей и возвратом кредита в срок?"
   ]
  },
  {
   "cell_type": "markdown",
   "id": "b094c978",
   "metadata": {
    "id": "2cacfc4a"
   },
   "source": [
    "Для начала посчитаем количество строк в таблице для каждого уникального значения количества детей:"
   ]
  },
  {
   "cell_type": "code",
   "execution_count": 22,
   "id": "7f74a201",
   "metadata": {},
   "outputs": [
    {
     "data": {
      "text/plain": [
       "0    14091\n",
       "1     4808\n",
       "2     2052\n",
       "3      330\n",
       "4       41\n",
       "5        9\n",
       "Name: children, dtype: int64"
      ]
     },
     "execution_count": 22,
     "metadata": {},
     "output_type": "execute_result"
    }
   ],
   "source": [
    "data['children'].value_counts()"
   ]
  },
  {
   "cell_type": "markdown",
   "id": "1f50d381",
   "metadata": {},
   "source": [
    "Как видно из результатов, количество детей у клиентов варьируется от 0 до 5 детей, при этом чем больше детей, тем меньше таких клиентов встречается в таблице. Примерно 14000 клиентов в таблице не имеют детей и всего 9 клиентов имеют по 5 детей.\n",
    "\n",
    "Найдем теперь сколько из этих клиентов банка не имели задолжностей по возврату кредита (значение в столбце `debt=0`) и посчитаем процентное отношение таких клиентов к общему количеству клиентов для каждой категории количества детей:"
   ]
  },
  {
   "cell_type": "code",
   "execution_count": 23,
   "id": "e661139f",
   "metadata": {},
   "outputs": [
    {
     "data": {
      "text/plain": [
       "0     92.456178\n",
       "1     90.765391\n",
       "2     90.545809\n",
       "3     91.818182\n",
       "4     90.243902\n",
       "5    100.000000\n",
       "Name: children, dtype: float64"
      ]
     },
     "execution_count": 23,
     "metadata": {},
     "output_type": "execute_result"
    }
   ],
   "source": [
    "data.loc[data['debt']==0]['children'].value_counts()/data['children'].value_counts()*100"
   ]
  },
  {
   "cell_type": "markdown",
   "id": "b141c8fb",
   "metadata": {},
   "source": [
    "Из результата видно, что только клиенты, у которых по 5 детей, не имели никаких задолженностей по кредиту, однако небольшое количество таких клиентов из общей выборки не позволяет судить однозначно: случайность это или закономернность. При этом клиенты с количеством детей от 1 до 4 чаще имеют задолженности по сравнению с клиентами без детей. Для того тобы убедится в этом окончательно, разобьем всех клиентов на категории `'есть дети'` и `'нет детей'` и проведем аналогичные расчеты:  "
   ]
  },
  {
   "cell_type": "code",
   "execution_count": 24,
   "id": "83abd59c",
   "metadata": {},
   "outputs": [],
   "source": [
    "def categorize_children(children):\n",
    "    try:\n",
    "        if children == 0:\n",
    "            return 'нет детей'\n",
    "        elif children >0:\n",
    "            return 'есть дети'\n",
    "    except:\n",
    "        pass\n",
    "    \n",
    "#добавим столбец 'children_category' в данные     \n",
    "data['children_category'] = data['children'].apply(categorize_children)"
   ]
  },
  {
   "cell_type": "code",
   "execution_count": 25,
   "id": "83a118e3",
   "metadata": {},
   "outputs": [
    {
     "data": {
      "text/plain": [
       "нет детей    14091\n",
       "есть дети     7240\n",
       "Name: children_category, dtype: int64"
      ]
     },
     "execution_count": 25,
     "metadata": {},
     "output_type": "execute_result"
    }
   ],
   "source": [
    "data['children_category'].value_counts()"
   ]
  },
  {
   "cell_type": "markdown",
   "id": "1c209687",
   "metadata": {},
   "source": [
    "Теперь мы видим что у нас примерно 2/3 всех клиентов не имеют детей и 1/3 имеет 1 и более детей,эти две категории уже достаточно большие чтобы их можно было сравнивать между собой."
   ]
  },
  {
   "cell_type": "code",
   "execution_count": 26,
   "id": "bf131736",
   "metadata": {},
   "outputs": [
    {
     "data": {
      "text/plain": [
       "нет детей    92.5\n",
       "есть дети    90.8\n",
       "Name: children_category, dtype: float64"
      ]
     },
     "execution_count": 26,
     "metadata": {},
     "output_type": "execute_result"
    }
   ],
   "source": [
    "#посчитаем отношение в процентах и округлим результат до десятых\n",
    "round(data.loc[data['debt']==0]['children_category'].value_counts()/data['children_category'].value_counts()*100, ndigits=1)"
   ]
  },
  {
   "cell_type": "code",
   "execution_count": 27,
   "id": "0b41577a",
   "metadata": {},
   "outputs": [
    {
     "data": {
      "text/html": [
       "<div>\n",
       "<style scoped>\n",
       "    .dataframe tbody tr th:only-of-type {\n",
       "        vertical-align: middle;\n",
       "    }\n",
       "\n",
       "    .dataframe tbody tr th {\n",
       "        vertical-align: top;\n",
       "    }\n",
       "\n",
       "    .dataframe thead tr th {\n",
       "        text-align: left;\n",
       "    }\n",
       "\n",
       "    .dataframe thead tr:last-of-type th {\n",
       "        text-align: right;\n",
       "    }\n",
       "</style>\n",
       "<table border=\"1\" class=\"dataframe\">\n",
       "  <thead>\n",
       "    <tr>\n",
       "      <th></th>\n",
       "      <th>len</th>\n",
       "      <th>sum</th>\n",
       "      <th>ratio_delay</th>\n",
       "    </tr>\n",
       "    <tr>\n",
       "      <th></th>\n",
       "      <th>debt</th>\n",
       "      <th>debt</th>\n",
       "      <th>debt</th>\n",
       "    </tr>\n",
       "    <tr>\n",
       "      <th>children_category</th>\n",
       "      <th></th>\n",
       "      <th></th>\n",
       "      <th></th>\n",
       "    </tr>\n",
       "  </thead>\n",
       "  <tbody>\n",
       "    <tr>\n",
       "      <th>есть дети</th>\n",
       "      <td>7240</td>\n",
       "      <td>669</td>\n",
       "      <td>9.24%</td>\n",
       "    </tr>\n",
       "    <tr>\n",
       "      <th>нет детей</th>\n",
       "      <td>14091</td>\n",
       "      <td>1063</td>\n",
       "      <td>7.54%</td>\n",
       "    </tr>\n",
       "  </tbody>\n",
       "</table>\n",
       "</div>"
      ],
      "text/plain": [
       "                     len   sum ratio_delay\n",
       "                    debt  debt        debt\n",
       "children_category                         \n",
       "есть дети           7240   669       9.24%\n",
       "нет детей          14091  1063       7.54%"
      ]
     },
     "execution_count": 27,
     "metadata": {},
     "output_type": "execute_result"
    }
   ],
   "source": [
    "#функция отношения количества вклиентов имеющих задолженностей к общему количеству клиентов\n",
    "def ratio_delay(x):\n",
    "    return '{:.2%}'.format(sum(x)/len(x)) \n",
    "\n",
    "#построим сводную таблицу количества клиентов, количества просрочек и доли просрочек по группам.\n",
    "pd.pivot_table(data,\n",
    "               index=['children_category'],\n",
    "               values=['debt'],\n",
    "               aggfunc=[len, sum, ratio_delay])"
   ]
  },
  {
   "cell_type": "markdown",
   "id": "d394b780",
   "metadata": {},
   "source": [
    "Таким образом результаты анализа таблицы показывают, что клиенты имеющиие 1 и более детей в среднем чаще имеют задолженности по кредиту по сравнению с клиентами без детей."
   ]
  },
  {
   "cell_type": "markdown",
   "id": "531b9574",
   "metadata": {
    "id": "3a6b99ec"
   },
   "source": [
    "**Вывод:** "
   ]
  },
  {
   "cell_type": "markdown",
   "id": "efc30601",
   "metadata": {},
   "source": [
    "Зависимость между наличием детей и возвратом кредита в срок есть. У клиентов с 1 и более детей чаще имеются задолженности по кредиту, по сравнению с клиентами без детей. Более точной зависимости от количества детей установить сложно, поскольку в категориях с многодетными семьями количество клиентов недостаточно для формирования однозначных выводов."
   ]
  },
  {
   "cell_type": "markdown",
   "id": "3c9a9c18",
   "metadata": {
    "id": "97be82ca"
   },
   "source": [
    "#### 3.2 Есть ли зависимость между семейным положением и возвратом кредита в срок?"
   ]
  },
  {
   "cell_type": "markdown",
   "id": "e3244bf9",
   "metadata": {
    "id": "dc3f7ee8"
   },
   "source": [
    "Проанализируем данные с точки зрения семейного положения. Для начала посмотрим какое количество клиентов находятся в каждой из категорий семейного положения:"
   ]
  },
  {
   "cell_type": "code",
   "execution_count": 28,
   "id": "4c8d3481",
   "metadata": {},
   "outputs": [
    {
     "data": {
      "text/plain": [
       "женат / замужем          11334\n",
       "гражданский брак          3749\n",
       "Не женат / не замужем     2523\n",
       "в разводе                 1105\n",
       "вдовец / вдова             888\n",
       "Name: family_status, dtype: int64"
      ]
     },
     "execution_count": 28,
     "metadata": {},
     "output_type": "execute_result"
    }
   ],
   "source": [
    "data.loc[data['debt']==0]['family_status'].value_counts()"
   ]
  },
  {
   "cell_type": "markdown",
   "id": "64a80f6d",
   "metadata": {},
   "source": [
    "Видно, что наибольшую категорию составляют клиенты находящиеся в законном браке и меньше всего вдов/вдовцов. При этом нет такого экстремального дисбаланса классов как в случае с разбивкой по количеству детей.\n",
    "\n",
    "Построим сводную таблицу количества клиентов, количества просрочек и доли просрочек по категориям."
   ]
  },
  {
   "cell_type": "code",
   "execution_count": 29,
   "id": "8df2edbf",
   "metadata": {},
   "outputs": [
    {
     "data": {
      "text/html": [
       "<div>\n",
       "<style scoped>\n",
       "    .dataframe tbody tr th:only-of-type {\n",
       "        vertical-align: middle;\n",
       "    }\n",
       "\n",
       "    .dataframe tbody tr th {\n",
       "        vertical-align: top;\n",
       "    }\n",
       "\n",
       "    .dataframe thead tr th {\n",
       "        text-align: left;\n",
       "    }\n",
       "\n",
       "    .dataframe thead tr:last-of-type th {\n",
       "        text-align: right;\n",
       "    }\n",
       "</style>\n",
       "<table border=\"1\" class=\"dataframe\">\n",
       "  <thead>\n",
       "    <tr>\n",
       "      <th></th>\n",
       "      <th>len</th>\n",
       "      <th>sum</th>\n",
       "      <th>ratio_delay</th>\n",
       "    </tr>\n",
       "    <tr>\n",
       "      <th></th>\n",
       "      <th>debt</th>\n",
       "      <th>debt</th>\n",
       "      <th>debt</th>\n",
       "    </tr>\n",
       "    <tr>\n",
       "      <th>family_status</th>\n",
       "      <th></th>\n",
       "      <th></th>\n",
       "      <th></th>\n",
       "    </tr>\n",
       "  </thead>\n",
       "  <tbody>\n",
       "    <tr>\n",
       "      <th>Не женат / не замужем</th>\n",
       "      <td>2796</td>\n",
       "      <td>273</td>\n",
       "      <td>9.76%</td>\n",
       "    </tr>\n",
       "    <tr>\n",
       "      <th>в разводе</th>\n",
       "      <td>1189</td>\n",
       "      <td>84</td>\n",
       "      <td>7.06%</td>\n",
       "    </tr>\n",
       "    <tr>\n",
       "      <th>вдовец / вдова</th>\n",
       "      <td>951</td>\n",
       "      <td>63</td>\n",
       "      <td>6.62%</td>\n",
       "    </tr>\n",
       "    <tr>\n",
       "      <th>гражданский брак</th>\n",
       "      <td>4134</td>\n",
       "      <td>385</td>\n",
       "      <td>9.31%</td>\n",
       "    </tr>\n",
       "    <tr>\n",
       "      <th>женат / замужем</th>\n",
       "      <td>12261</td>\n",
       "      <td>927</td>\n",
       "      <td>7.56%</td>\n",
       "    </tr>\n",
       "  </tbody>\n",
       "</table>\n",
       "</div>"
      ],
      "text/plain": [
       "                         len  sum ratio_delay\n",
       "                        debt debt        debt\n",
       "family_status                                \n",
       "Не женат / не замужем   2796  273       9.76%\n",
       "в разводе               1189   84       7.06%\n",
       "вдовец / вдова           951   63       6.62%\n",
       "гражданский брак        4134  385       9.31%\n",
       "женат / замужем        12261  927       7.56%"
      ]
     },
     "execution_count": 29,
     "metadata": {},
     "output_type": "execute_result"
    }
   ],
   "source": [
    "pd.pivot_table(data,\n",
    "               index=['family_status'],\n",
    "               values=['debt'],\n",
    "               aggfunc=[len, sum, ratio_delay])"
   ]
  },
  {
   "cell_type": "markdown",
   "id": "167466dc",
   "metadata": {},
   "source": [
    "Из анализа результатов видно, что самыми надежными заемщиками являются категории клиентов бывших в браке или состоящих в нем (`'женат / замужем', 'в разводе', 'вдовец / вдова'`), самыми ненадежными являются клиенты не имеющие зарегестрированных отношений (`'Не женат / не замужем', 'гражданский брак'`).\n",
    "\n",
    "Попробуем посмотреть зависят ли такие результаты от наличия/отсутствия детей."
   ]
  },
  {
   "cell_type": "code",
   "execution_count": 30,
   "id": "c4a973b5",
   "metadata": {},
   "outputs": [
    {
     "data": {
      "text/html": [
       "<div>\n",
       "<style scoped>\n",
       "    .dataframe tbody tr th:only-of-type {\n",
       "        vertical-align: middle;\n",
       "    }\n",
       "\n",
       "    .dataframe tbody tr th {\n",
       "        vertical-align: top;\n",
       "    }\n",
       "\n",
       "    .dataframe thead tr th {\n",
       "        text-align: left;\n",
       "    }\n",
       "\n",
       "    .dataframe thead tr:last-of-type th {\n",
       "        text-align: right;\n",
       "    }\n",
       "</style>\n",
       "<table border=\"1\" class=\"dataframe\">\n",
       "  <thead>\n",
       "    <tr>\n",
       "      <th></th>\n",
       "      <th colspan=\"2\" halign=\"left\">len</th>\n",
       "      <th colspan=\"2\" halign=\"left\">sum</th>\n",
       "      <th colspan=\"2\" halign=\"left\">ratio_delay</th>\n",
       "    </tr>\n",
       "    <tr>\n",
       "      <th></th>\n",
       "      <th colspan=\"2\" halign=\"left\">debt</th>\n",
       "      <th colspan=\"2\" halign=\"left\">debt</th>\n",
       "      <th colspan=\"2\" halign=\"left\">debt</th>\n",
       "    </tr>\n",
       "    <tr>\n",
       "      <th>children_category</th>\n",
       "      <th>есть дети</th>\n",
       "      <th>нет детей</th>\n",
       "      <th>есть дети</th>\n",
       "      <th>нет детей</th>\n",
       "      <th>есть дети</th>\n",
       "      <th>нет детей</th>\n",
       "    </tr>\n",
       "    <tr>\n",
       "      <th>family_status</th>\n",
       "      <th></th>\n",
       "      <th></th>\n",
       "      <th></th>\n",
       "      <th></th>\n",
       "      <th></th>\n",
       "      <th></th>\n",
       "    </tr>\n",
       "  </thead>\n",
       "  <tbody>\n",
       "    <tr>\n",
       "      <th>Не женат / не замужем</th>\n",
       "      <td>534</td>\n",
       "      <td>2262</td>\n",
       "      <td>63</td>\n",
       "      <td>210</td>\n",
       "      <td>11.80%</td>\n",
       "      <td>9.28%</td>\n",
       "    </tr>\n",
       "    <tr>\n",
       "      <th>в разводе</th>\n",
       "      <td>405</td>\n",
       "      <td>784</td>\n",
       "      <td>29</td>\n",
       "      <td>55</td>\n",
       "      <td>7.16%</td>\n",
       "      <td>7.02%</td>\n",
       "    </tr>\n",
       "    <tr>\n",
       "      <th>вдовец / вдова</th>\n",
       "      <td>104</td>\n",
       "      <td>847</td>\n",
       "      <td>10</td>\n",
       "      <td>53</td>\n",
       "      <td>9.62%</td>\n",
       "      <td>6.26%</td>\n",
       "    </tr>\n",
       "    <tr>\n",
       "      <th>гражданский брак</th>\n",
       "      <td>1404</td>\n",
       "      <td>2730</td>\n",
       "      <td>156</td>\n",
       "      <td>229</td>\n",
       "      <td>11.11%</td>\n",
       "      <td>8.39%</td>\n",
       "    </tr>\n",
       "    <tr>\n",
       "      <th>женат / замужем</th>\n",
       "      <td>4793</td>\n",
       "      <td>7468</td>\n",
       "      <td>411</td>\n",
       "      <td>516</td>\n",
       "      <td>8.58%</td>\n",
       "      <td>6.91%</td>\n",
       "    </tr>\n",
       "  </tbody>\n",
       "</table>\n",
       "</div>"
      ],
      "text/plain": [
       "                            len                 sum           ratio_delay  \\\n",
       "                           debt                debt                  debt   \n",
       "children_category     есть дети нет детей есть дети нет детей   есть дети   \n",
       "family_status                                                               \n",
       "Не женат / не замужем       534      2262        63       210      11.80%   \n",
       "в разводе                   405       784        29        55       7.16%   \n",
       "вдовец / вдова              104       847        10        53       9.62%   \n",
       "гражданский брак           1404      2730       156       229      11.11%   \n",
       "женат / замужем            4793      7468       411       516       8.58%   \n",
       "\n",
       "                                 \n",
       "                                 \n",
       "children_category     нет детей  \n",
       "family_status                    \n",
       "Не женат / не замужем     9.28%  \n",
       "в разводе                 7.02%  \n",
       "вдовец / вдова            6.26%  \n",
       "гражданский брак          8.39%  \n",
       "женат / замужем           6.91%  "
      ]
     },
     "execution_count": 30,
     "metadata": {},
     "output_type": "execute_result"
    }
   ],
   "source": [
    "pd.pivot_table(data,\n",
    "               index=['family_status'],\n",
    "               columns=['children_category'],\n",
    "               values=['debt'],\n",
    "               aggfunc=[len, sum, ratio_delay])"
   ]
  },
  {
   "cell_type": "markdown",
   "id": "bfb5722b",
   "metadata": {},
   "source": [
    "При разделении на подкатегории появились некоторые отличия. По прежнему самой ненадежной категорией остается \"не женат/незамужем\" вне зависимости от наличия детей. А вот самая отвественная в плане выплаты кредита, категория 'вдовец/вдова' сильно зависит от наличия детей: 6.26% при остуствии детей и 9.62% при наличии детей. При таком рассмотрении категория клиентов в гражданском браке и без детей является более надежной чем вдовец/вдова с детьми (8.39% против 9.62%)"
   ]
  },
  {
   "cell_type": "markdown",
   "id": "c3342c61",
   "metadata": {
    "id": "1cef7837"
   },
   "source": [
    "**Вывод:** "
   ]
  },
  {
   "cell_type": "markdown",
   "id": "871e2fa5",
   "metadata": {},
   "source": [
    "Зависимость между семейным положением и возвратом кредита в срок есть. Были проанализированы как средние общие показатели числа клиентов не имеющих задолженностей, так и в разбивке на подкатегории в зависимости от наличия детей. Самые частые случаи невозврата кредита в срок наблюдаются у клиентов категории \"Не женат / не замужем\" в независимости от наличия детей. Самые редкие случаи невозврата кредита в срок наблюдаются у клиентов категории \"вдовец / вдова\" в случае отсутстви детей у клиентов и категории \"в разводе\" в случае наличия детей. В целом наблюдается тенденция более частых пробелем с выплатой кредита в срок у клиентов не состоящих или не состоявших ранее в законном браке, а также у клиентов имеющих детей."
   ]
  },
  {
   "cell_type": "markdown",
   "id": "004f88a7",
   "metadata": {
    "id": "1e8b2fca"
   },
   "source": [
    "#### 3.3 Есть ли зависимость между уровнем дохода и возвратом кредита в срок?"
   ]
  },
  {
   "cell_type": "markdown",
   "id": "46335477",
   "metadata": {
    "id": "cd7e3720"
   },
   "source": [
    "Проанализируем данные с точки зрения уровня дохода. Для этого данные заранее были категоризированы по следующему правилу:\n",
    "- 0–30000 — `'E'`;\n",
    "- 30001–50000 — `'D'`;\n",
    "- 50001–200000 — `'C'`;\n",
    "- 200001–1000000 — `'B'`;\n",
    "- 1000001 и выше — `'A'`.\n",
    "\n",
    "Сперва проверим сколько у нас клиентов по каждой из категорий выше:"
   ]
  },
  {
   "cell_type": "code",
   "execution_count": 31,
   "id": "27a4e2a5",
   "metadata": {},
   "outputs": [
    {
     "data": {
      "text/plain": [
       "E       22\n",
       "D      349\n",
       "C    15921\n",
       "B     5014\n",
       "A       25\n",
       "Name: total_income_category, dtype: int64"
      ]
     },
     "execution_count": 31,
     "metadata": {},
     "output_type": "execute_result"
    }
   ],
   "source": [
    "data['total_income_category'].value_counts().sort_index(ascending=False) # выведем категории в порядке возрастания дохода\n"
   ]
  },
  {
   "cell_type": "markdown",
   "id": "a10a7894",
   "metadata": {},
   "source": [
    "Видно, что данные по категориям не сбалансированы, категории клиентов с самыми низкими и самыми большими доходами являются малочисленными (22-25 человек), в то время как основная часть клиентов имеет категорию дохода С (почти 16 тысяч клиентов). основываясь на таком распределение количества клиентов по категориям, можно сказать, что категория C - это клиенты со средним уровнем дохода, D и B - клиенты с уровнем дохода ниже и выше среднего, соответственно, а клиенты категорий E и A - это клиенты с очень низким и очень высоким уровнем дохода."
   ]
  },
  {
   "cell_type": "markdown",
   "id": "847492cf",
   "metadata": {},
   "source": [
    "Проверим сколько процентов клиентов в каждой из категорий имели задолженности по кредиту:"
   ]
  },
  {
   "cell_type": "code",
   "execution_count": 32,
   "id": "6bad1a5a",
   "metadata": {},
   "outputs": [
    {
     "data": {
      "text/html": [
       "<div>\n",
       "<style scoped>\n",
       "    .dataframe tbody tr th:only-of-type {\n",
       "        vertical-align: middle;\n",
       "    }\n",
       "\n",
       "    .dataframe tbody tr th {\n",
       "        vertical-align: top;\n",
       "    }\n",
       "\n",
       "    .dataframe thead tr th {\n",
       "        text-align: left;\n",
       "    }\n",
       "\n",
       "    .dataframe thead tr:last-of-type th {\n",
       "        text-align: right;\n",
       "    }\n",
       "</style>\n",
       "<table border=\"1\" class=\"dataframe\">\n",
       "  <thead>\n",
       "    <tr>\n",
       "      <th></th>\n",
       "      <th>len</th>\n",
       "      <th>sum</th>\n",
       "      <th>ratio_delay</th>\n",
       "    </tr>\n",
       "    <tr>\n",
       "      <th></th>\n",
       "      <th>debt</th>\n",
       "      <th>debt</th>\n",
       "      <th>debt</th>\n",
       "    </tr>\n",
       "    <tr>\n",
       "      <th>total_income_category</th>\n",
       "      <th></th>\n",
       "      <th></th>\n",
       "      <th></th>\n",
       "    </tr>\n",
       "  </thead>\n",
       "  <tbody>\n",
       "    <tr>\n",
       "      <th>A</th>\n",
       "      <td>25</td>\n",
       "      <td>2</td>\n",
       "      <td>8.00%</td>\n",
       "    </tr>\n",
       "    <tr>\n",
       "      <th>B</th>\n",
       "      <td>5014</td>\n",
       "      <td>354</td>\n",
       "      <td>7.06%</td>\n",
       "    </tr>\n",
       "    <tr>\n",
       "      <th>C</th>\n",
       "      <td>15921</td>\n",
       "      <td>1353</td>\n",
       "      <td>8.50%</td>\n",
       "    </tr>\n",
       "    <tr>\n",
       "      <th>D</th>\n",
       "      <td>349</td>\n",
       "      <td>21</td>\n",
       "      <td>6.02%</td>\n",
       "    </tr>\n",
       "    <tr>\n",
       "      <th>E</th>\n",
       "      <td>22</td>\n",
       "      <td>2</td>\n",
       "      <td>9.09%</td>\n",
       "    </tr>\n",
       "  </tbody>\n",
       "</table>\n",
       "</div>"
      ],
      "text/plain": [
       "                         len   sum ratio_delay\n",
       "                        debt  debt        debt\n",
       "total_income_category                         \n",
       "A                         25     2       8.00%\n",
       "B                       5014   354       7.06%\n",
       "C                      15921  1353       8.50%\n",
       "D                        349    21       6.02%\n",
       "E                         22     2       9.09%"
      ]
     },
     "execution_count": 32,
     "metadata": {},
     "output_type": "execute_result"
    }
   ],
   "source": [
    "pd.pivot_table(data,\n",
    "               index=['total_income_category'],\n",
    "               values=['debt'],\n",
    "               aggfunc=[len, sum, ratio_delay])"
   ]
  },
  {
   "cell_type": "markdown",
   "id": "747b079f",
   "metadata": {},
   "source": [
    "Результаты не выявляют какой либо прямой зависимости количества должников по кредиту от уровня дохода. Так клиенты с высоким и очень высоким уровнем дохода не гарантируют банку отсутствие задолженностей по кредиту. А клиенты с очень низким уровнем дохода, хоть и отражают наибольший процент в данной статистике, не сильно отличаются от клиентов со средним уровнем дохода. В этой статистике выделеяется немногочисленная категория клиентов с уровнем дохода ниже среднего, показывая самый низкий процент клиентов с задолженностями, однако учитывая количество клиентов в этой категории, сделать однозначный вывод о достоверности такого результата нельзя."
   ]
  },
  {
   "cell_type": "markdown",
   "id": "9c254422",
   "metadata": {},
   "source": [
    "Попробуем рассмотреть влияние уровня дохода в совокупности с факторами семейного положения и наличия детей.\n",
    "\n",
    "Для исследования уже 3х параметров объеденим категории по детям и семейному положению следующим образом:\n",
    "\n",
    "- `'был/есть в официальном браке, без детей'` - если children=0, а family_status соответствует `'женат / замужем', 'в разводе', 'вдовец / вдова'`;\n",
    "- `'не был в официальном браке, без детей'` - если children=0, а family_status соответствует `'Не женат / не замужем', 'гражданский брак'`;\n",
    "- `'был/есть в официальном браке, есть дети'` - если children>0, а family_status соответствует `'женат / замужем', 'в разводе', 'вдовец / вдова'`;\n",
    "- `'не был в официальном браке, есть дети'` - если children>0, а family_status соответствует `'Не женат / не замужем', 'гражданский брак'`;\n"
   ]
  },
  {
   "cell_type": "code",
   "execution_count": 33,
   "id": "da3035cc",
   "metadata": {},
   "outputs": [],
   "source": [
    "def categorize_children(row):\n",
    "    try:\n",
    "        if row['children'] == 0:\n",
    "            if row['family_status_id'] in [0,2,3]:\n",
    "                return 'был/есть в официальном браке, без детей'\n",
    "            else:\n",
    "                return 'не был в официальном браке, без детей'\n",
    "        elif row['children'] >0:\n",
    "            if row['family_status_id'] in [0,2,3]:\n",
    "                return 'был/есть в официальном браке, есть дети'\n",
    "            else:\n",
    "                return 'не был в официальном браке, есть дети'\n",
    "    except:\n",
    "        pass\n",
    "    \n",
    "#добавим столбец 'family_category' в данные     \n",
    "data['family_category'] = data.apply(categorize_children, axis=1)"
   ]
  },
  {
   "cell_type": "markdown",
   "id": "68ad4704",
   "metadata": {},
   "source": [
    "Построим сводные таблицы. Сначала для количества клиентов в каждой категории:"
   ]
  },
  {
   "cell_type": "code",
   "execution_count": 34,
   "id": "d0f4850b",
   "metadata": {},
   "outputs": [
    {
     "data": {
      "text/html": [
       "<div>\n",
       "<style scoped>\n",
       "    .dataframe tbody tr th:only-of-type {\n",
       "        vertical-align: middle;\n",
       "    }\n",
       "\n",
       "    .dataframe tbody tr th {\n",
       "        vertical-align: top;\n",
       "    }\n",
       "\n",
       "    .dataframe thead tr th {\n",
       "        text-align: left;\n",
       "    }\n",
       "\n",
       "    .dataframe thead tr:last-of-type th {\n",
       "        text-align: right;\n",
       "    }\n",
       "</style>\n",
       "<table border=\"1\" class=\"dataframe\">\n",
       "  <thead>\n",
       "    <tr>\n",
       "      <th></th>\n",
       "      <th colspan=\"5\" halign=\"left\">debt</th>\n",
       "    </tr>\n",
       "    <tr>\n",
       "      <th>total_income_category</th>\n",
       "      <th>A</th>\n",
       "      <th>B</th>\n",
       "      <th>C</th>\n",
       "      <th>D</th>\n",
       "      <th>E</th>\n",
       "    </tr>\n",
       "    <tr>\n",
       "      <th>family_category</th>\n",
       "      <th></th>\n",
       "      <th></th>\n",
       "      <th></th>\n",
       "      <th></th>\n",
       "      <th></th>\n",
       "    </tr>\n",
       "  </thead>\n",
       "  <tbody>\n",
       "    <tr>\n",
       "      <th>был/есть в официальном браке, без детей</th>\n",
       "      <td>8</td>\n",
       "      <td>2067</td>\n",
       "      <td>6837</td>\n",
       "      <td>176</td>\n",
       "      <td>11</td>\n",
       "    </tr>\n",
       "    <tr>\n",
       "      <th>был/есть в официальном браке, есть дети</th>\n",
       "      <td>9</td>\n",
       "      <td>1307</td>\n",
       "      <td>3897</td>\n",
       "      <td>86</td>\n",
       "      <td>3</td>\n",
       "    </tr>\n",
       "    <tr>\n",
       "      <th>не был в официальном браке, без детей</th>\n",
       "      <td>4</td>\n",
       "      <td>1179</td>\n",
       "      <td>3736</td>\n",
       "      <td>67</td>\n",
       "      <td>6</td>\n",
       "    </tr>\n",
       "    <tr>\n",
       "      <th>не был в официальном браке, есть дети</th>\n",
       "      <td>4</td>\n",
       "      <td>461</td>\n",
       "      <td>1451</td>\n",
       "      <td>20</td>\n",
       "      <td>2</td>\n",
       "    </tr>\n",
       "  </tbody>\n",
       "</table>\n",
       "</div>"
      ],
      "text/plain": [
       "                                        debt                     \n",
       "total_income_category                      A     B     C    D   E\n",
       "family_category                                                  \n",
       "был/есть в официальном браке, без детей    8  2067  6837  176  11\n",
       "был/есть в официальном браке, есть дети    9  1307  3897   86   3\n",
       "не был в официальном браке, без детей      4  1179  3736   67   6\n",
       "не был в официальном браке, есть дети      4   461  1451   20   2"
      ]
     },
     "execution_count": 34,
     "metadata": {},
     "output_type": "execute_result"
    }
   ],
   "source": [
    "pd.pivot_table(data,\n",
    "               index=['family_category'],\n",
    "               columns=['total_income_category'],\n",
    "               values=['debt'],\n",
    "               aggfunc=len,\n",
    "               fill_value=0)"
   ]
  },
  {
   "cell_type": "markdown",
   "id": "2261a1e7",
   "metadata": {},
   "source": [
    "Теперь для доли клиентов не имеющих задолженности по кредиту:"
   ]
  },
  {
   "cell_type": "code",
   "execution_count": 35,
   "id": "7a2a1d75",
   "metadata": {},
   "outputs": [
    {
     "data": {
      "text/html": [
       "<style  type=\"text/css\" >\n",
       "#T_c4c1f_row0_col0,#T_c4c1f_row1_col4,#T_c4c1f_row2_col4,#T_c4c1f_row3_col0,#T_c4c1f_row3_col4{\n",
       "            background-color:  #fff5f0;\n",
       "            color:  #000000;\n",
       "        }#T_c4c1f_row0_col1{\n",
       "            background-color:  #fcbba1;\n",
       "            color:  #000000;\n",
       "        }#T_c4c1f_row0_col2{\n",
       "            background-color:  #fcb095;\n",
       "            color:  #000000;\n",
       "        }#T_c4c1f_row0_col3{\n",
       "            background-color:  #fdd7c6;\n",
       "            color:  #000000;\n",
       "        }#T_c4c1f_row0_col4{\n",
       "            background-color:  #d11e1f;\n",
       "            color:  #f1f1f1;\n",
       "        }#T_c4c1f_row1_col0{\n",
       "            background-color:  #fb7c5c;\n",
       "            color:  #000000;\n",
       "        }#T_c4c1f_row1_col1{\n",
       "            background-color:  #fcad90;\n",
       "            color:  #000000;\n",
       "        }#T_c4c1f_row1_col2{\n",
       "            background-color:  #fc997a;\n",
       "            color:  #000000;\n",
       "        }#T_c4c1f_row1_col3{\n",
       "            background-color:  #fca285;\n",
       "            color:  #000000;\n",
       "        }#T_c4c1f_row2_col0{\n",
       "            background-color:  #67000d;\n",
       "            color:  #f1f1f1;\n",
       "        }#T_c4c1f_row2_col1{\n",
       "            background-color:  #fcaa8d;\n",
       "            color:  #000000;\n",
       "        }#T_c4c1f_row2_col2{\n",
       "            background-color:  #fc9474;\n",
       "            color:  #000000;\n",
       "        }#T_c4c1f_row2_col3{\n",
       "            background-color:  #fcab8f;\n",
       "            color:  #000000;\n",
       "        }#T_c4c1f_row3_col1{\n",
       "            background-color:  #fca486;\n",
       "            color:  #000000;\n",
       "        }#T_c4c1f_row3_col2{\n",
       "            background-color:  #fb6b4b;\n",
       "            color:  #000000;\n",
       "        }#T_c4c1f_row3_col3{\n",
       "            background-color:  #fc8a6a;\n",
       "            color:  #000000;\n",
       "        }</style><table id=\"T_c4c1f_\" ><thead>    <tr>        <th class=\"blank level0\" ></th>        <th class=\"col_heading level0 col0\" colspan=\"5\">debt</th>    </tr>    <tr>        <th class=\"index_name level1\" >total_income_category</th>        <th class=\"col_heading level1 col0\" >A</th>        <th class=\"col_heading level1 col1\" >B</th>        <th class=\"col_heading level1 col2\" >C</th>        <th class=\"col_heading level1 col3\" >D</th>        <th class=\"col_heading level1 col4\" >E</th>    </tr>    <tr>        <th class=\"index_name level0\" >family_category</th>        <th class=\"blank\" ></th>        <th class=\"blank\" ></th>        <th class=\"blank\" ></th>        <th class=\"blank\" ></th>        <th class=\"blank\" ></th>    </tr></thead><tbody>\n",
       "                <tr>\n",
       "                        <th id=\"T_c4c1f_level0_row0\" class=\"row_heading level0 row0\" >был/есть в официальном браке, без детей</th>\n",
       "                        <td id=\"T_c4c1f_row0_col0\" class=\"data row0 col0\" >0.00%</td>\n",
       "                        <td id=\"T_c4c1f_row0_col1\" class=\"data row0 col1\" >6.34%</td>\n",
       "                        <td id=\"T_c4c1f_row0_col2\" class=\"data row0 col2\" >7.08%</td>\n",
       "                        <td id=\"T_c4c1f_row0_col3\" class=\"data row0 col3\" >3.98%</td>\n",
       "                        <td id=\"T_c4c1f_row0_col4\" class=\"data row0 col4\" >18.18%</td>\n",
       "            </tr>\n",
       "            <tr>\n",
       "                        <th id=\"T_c4c1f_level0_row1\" class=\"row_heading level0 row1\" >был/есть в официальном браке, есть дети</th>\n",
       "                        <td id=\"T_c4c1f_row1_col0\" class=\"data row1 col0\" >11.11%</td>\n",
       "                        <td id=\"T_c4c1f_row1_col1\" class=\"data row1 col1\" >7.42%</td>\n",
       "                        <td id=\"T_c4c1f_row1_col2\" class=\"data row1 col2\" >8.85%</td>\n",
       "                        <td id=\"T_c4c1f_row1_col3\" class=\"data row1 col3\" >8.14%</td>\n",
       "                        <td id=\"T_c4c1f_row1_col4\" class=\"data row1 col4\" >0.00%</td>\n",
       "            </tr>\n",
       "            <tr>\n",
       "                        <th id=\"T_c4c1f_level0_row2\" class=\"row_heading level0 row2\" >не был в официальном браке, без детей</th>\n",
       "                        <td id=\"T_c4c1f_row2_col0\" class=\"data row2 col0\" >25.00%</td>\n",
       "                        <td id=\"T_c4c1f_row2_col1\" class=\"data row2 col1\" >7.55%</td>\n",
       "                        <td id=\"T_c4c1f_row2_col2\" class=\"data row2 col2\" >9.21%</td>\n",
       "                        <td id=\"T_c4c1f_row2_col3\" class=\"data row2 col3\" >7.46%</td>\n",
       "                        <td id=\"T_c4c1f_row2_col4\" class=\"data row2 col4\" >0.00%</td>\n",
       "            </tr>\n",
       "            <tr>\n",
       "                        <th id=\"T_c4c1f_level0_row3\" class=\"row_heading level0 row3\" >не был в официальном браке, есть дети</th>\n",
       "                        <td id=\"T_c4c1f_row3_col0\" class=\"data row3 col0\" >0.00%</td>\n",
       "                        <td id=\"T_c4c1f_row3_col1\" class=\"data row3 col1\" >8.03%</td>\n",
       "                        <td id=\"T_c4c1f_row3_col2\" class=\"data row3 col2\" >12.41%</td>\n",
       "                        <td id=\"T_c4c1f_row3_col3\" class=\"data row3 col3\" >10.00%</td>\n",
       "                        <td id=\"T_c4c1f_row3_col4\" class=\"data row3 col4\" >0.00%</td>\n",
       "            </tr>\n",
       "    </tbody></table>"
      ],
      "text/plain": [
       "<pandas.io.formats.style.Styler at 0x7f7a715f20d0>"
      ]
     },
     "execution_count": 35,
     "metadata": {},
     "output_type": "execute_result"
    }
   ],
   "source": [
    "ratio = lambda x: sum(x)/len(x)\n",
    "pd.pivot_table(data,\n",
    "               index=['family_category'],\n",
    "               columns=['total_income_category'],\n",
    "               values=['debt'],\n",
    "               aggfunc=ratio).style.format('{:.2%}').background_gradient(cmap='Reds',axis=None)"
   ]
  },
  {
   "cell_type": "markdown",
   "id": "48ce5e5b",
   "metadata": {},
   "source": [
    "При таком анализе данных вывляются интересные особенности для категорий с очень высоким (А) и очень низким (Е) уровнями дохода.\n",
    "Несмотря на сделанные в предыдущем разделе выводы, о том, что самой благонадежной категорией заемщиков является категория  `был/есть в официальном браке, без детей`, для клиентов с очень низким уровнем дохода (Е) ситуация в точности наоборот. А для категории клиентов с очень высоким уровнем дохода (А) самыми ненадежными являются клиенты не состоящие в официальном браке без детей. Правда стоит заметить что такой высокий процент является следствием одного должника из всего четырех клиентов этой категории, что недостаточно для формирования однозначных выводов.\n",
    "\n",
    "Остальные категории по доходам B, C и D демонстрируют те же зависимости, что были выявлены на предыдущих шагах исследования."
   ]
  },
  {
   "cell_type": "markdown",
   "id": "2ce88a9c",
   "metadata": {
    "id": "e8593def"
   },
   "source": [
    "**Вывод:** \n",
    "\n",
    "Неравномерное распределение выборок по категориям не позволяет делать выводы по всем группам доходности клиентов. Самыми многочисленными являются группы клиентов со средним уровнем доходов (50001–200000) и уровнем доходов выше среднего (200001–1000000). Если использовать две эти группы для сравнения,то можно сделать выводы, что доля клиентов с просрочками уменьшается при возрастании уровня доходов клиента. Такая тенденция сохраняется при разбивке на подкатегории в зависимости от семейного положения и наличия детей."
   ]
  },
  {
   "cell_type": "markdown",
   "id": "cd40ef69",
   "metadata": {
    "id": "99ecbd1f"
   },
   "source": [
    "#### 3.4 Как разные цели кредита влияют на его возврат в срок?"
   ]
  },
  {
   "cell_type": "markdown",
   "id": "0f4a7a20",
   "metadata": {
    "id": "2b687290"
   },
   "source": [
    "Сгруппируем клиентов по категориям, отражающим цели кредитаю Посчитаем распределение клиентов по категориям:"
   ]
  },
  {
   "cell_type": "code",
   "execution_count": 36,
   "id": "ab052bb9",
   "metadata": {},
   "outputs": [
    {
     "data": {
      "text/plain": [
       "операции с недвижимостью    10751\n",
       "операции с автомобилем       4279\n",
       "получение образования        3988\n",
       "проведение свадьбы           2313\n",
       "Name: purpose_category, dtype: int64"
      ]
     },
     "execution_count": 36,
     "metadata": {},
     "output_type": "execute_result"
    }
   ],
   "source": [
    "data['purpose_category'].value_counts()"
   ]
  },
  {
   "cell_type": "markdown",
   "id": "9fa03721",
   "metadata": {},
   "source": [
    "Видно, что операции с недвижимостью являются наиболее частой целью получения кредита.\n",
    "\n",
    "Посчитаем процент клиентов c задолженностями по категориям:"
   ]
  },
  {
   "cell_type": "code",
   "execution_count": 37,
   "id": "5de0acd4",
   "metadata": {},
   "outputs": [
    {
     "data": {
      "text/html": [
       "<div>\n",
       "<style scoped>\n",
       "    .dataframe tbody tr th:only-of-type {\n",
       "        vertical-align: middle;\n",
       "    }\n",
       "\n",
       "    .dataframe tbody tr th {\n",
       "        vertical-align: top;\n",
       "    }\n",
       "\n",
       "    .dataframe thead tr th {\n",
       "        text-align: left;\n",
       "    }\n",
       "\n",
       "    .dataframe thead tr:last-of-type th {\n",
       "        text-align: right;\n",
       "    }\n",
       "</style>\n",
       "<table border=\"1\" class=\"dataframe\">\n",
       "  <thead>\n",
       "    <tr>\n",
       "      <th></th>\n",
       "      <th>len</th>\n",
       "      <th>sum</th>\n",
       "      <th>ratio_delay</th>\n",
       "    </tr>\n",
       "    <tr>\n",
       "      <th></th>\n",
       "      <th>debt</th>\n",
       "      <th>debt</th>\n",
       "      <th>debt</th>\n",
       "    </tr>\n",
       "    <tr>\n",
       "      <th>purpose_category</th>\n",
       "      <th></th>\n",
       "      <th></th>\n",
       "      <th></th>\n",
       "    </tr>\n",
       "  </thead>\n",
       "  <tbody>\n",
       "    <tr>\n",
       "      <th>операции с автомобилем</th>\n",
       "      <td>4279</td>\n",
       "      <td>400</td>\n",
       "      <td>9.35%</td>\n",
       "    </tr>\n",
       "    <tr>\n",
       "      <th>операции с недвижимостью</th>\n",
       "      <td>10751</td>\n",
       "      <td>780</td>\n",
       "      <td>7.26%</td>\n",
       "    </tr>\n",
       "    <tr>\n",
       "      <th>получение образования</th>\n",
       "      <td>3988</td>\n",
       "      <td>369</td>\n",
       "      <td>9.25%</td>\n",
       "    </tr>\n",
       "    <tr>\n",
       "      <th>проведение свадьбы</th>\n",
       "      <td>2313</td>\n",
       "      <td>183</td>\n",
       "      <td>7.91%</td>\n",
       "    </tr>\n",
       "  </tbody>\n",
       "</table>\n",
       "</div>"
      ],
      "text/plain": [
       "                            len  sum ratio_delay\n",
       "                           debt debt        debt\n",
       "purpose_category                                \n",
       "операции с автомобилем     4279  400       9.35%\n",
       "операции с недвижимостью  10751  780       7.26%\n",
       "получение образования      3988  369       9.25%\n",
       "проведение свадьбы         2313  183       7.91%"
      ]
     },
     "execution_count": 37,
     "metadata": {},
     "output_type": "execute_result"
    }
   ],
   "source": [
    "pd.pivot_table(data,\n",
    "               index=['purpose_category'],\n",
    "               values=['debt'],\n",
    "               aggfunc=[len, sum, ratio_delay])"
   ]
  },
  {
   "cell_type": "markdown",
   "id": "a41a717c",
   "metadata": {},
   "source": [
    "По результатам видно, что если целью кредита являются операции с недвижимостью, то процент клиентов с задолженностями минимальный. На втором месте стоит категория кредитов на проведение свадьбы. Одинаково часто клиенты имели задолженности, если целью кредита были операции с автомобилем и получение образования, в этих категориях процент клиентов с задолженностями наибольший.\n",
    "\n",
    "Проверим сохраняется ли такое положение дел при различных уровнях дохода и семейного статуса.\n",
    "\n",
    "Таблица зависимости процента клиентов с задолженностями для разных категорий дохода и целей кредита:"
   ]
  },
  {
   "cell_type": "code",
   "execution_count": 38,
   "id": "819d0b09",
   "metadata": {},
   "outputs": [
    {
     "data": {
      "text/html": [
       "<style  type=\"text/css\" >\n",
       "#T_5c1ed_row0_col0,#T_5c1ed_row0_col4,#T_5c1ed_row2_col4,#T_5c1ed_row3_col0,#T_5c1ed_row3_col4{\n",
       "            background-color:  #fff5f0;\n",
       "            color:  #000000;\n",
       "        }#T_5c1ed_row0_col1{\n",
       "            background-color:  #fca082;\n",
       "            color:  #000000;\n",
       "        }#T_5c1ed_row0_col2{\n",
       "            background-color:  #fc8f6f;\n",
       "            color:  #000000;\n",
       "        }#T_5c1ed_row0_col3{\n",
       "            background-color:  #f6553c;\n",
       "            color:  #000000;\n",
       "        }#T_5c1ed_row1_col0{\n",
       "            background-color:  #fcbfa7;\n",
       "            color:  #000000;\n",
       "        }#T_5c1ed_row1_col1{\n",
       "            background-color:  #fcb69b;\n",
       "            color:  #000000;\n",
       "        }#T_5c1ed_row1_col2{\n",
       "            background-color:  #fcab8f;\n",
       "            color:  #000000;\n",
       "        }#T_5c1ed_row1_col3{\n",
       "            background-color:  #fedbcc;\n",
       "            color:  #000000;\n",
       "        }#T_5c1ed_row1_col4{\n",
       "            background-color:  #d11e1f;\n",
       "            color:  #f1f1f1;\n",
       "        }#T_5c1ed_row2_col0{\n",
       "            background-color:  #67000d;\n",
       "            color:  #f1f1f1;\n",
       "        }#T_5c1ed_row2_col1{\n",
       "            background-color:  #fca78b;\n",
       "            color:  #000000;\n",
       "        }#T_5c1ed_row2_col2{\n",
       "            background-color:  #fc8d6d;\n",
       "            color:  #000000;\n",
       "        }#T_5c1ed_row2_col3{\n",
       "            background-color:  #fee3d7;\n",
       "            color:  #000000;\n",
       "        }#T_5c1ed_row3_col1{\n",
       "            background-color:  #fdc9b3;\n",
       "            color:  #000000;\n",
       "        }#T_5c1ed_row3_col2,#T_5c1ed_row3_col3{\n",
       "            background-color:  #fc997a;\n",
       "            color:  #000000;\n",
       "        }</style><table id=\"T_5c1ed_\" ><thead>    <tr>        <th class=\"blank level0\" ></th>        <th class=\"col_heading level0 col0\" colspan=\"5\">debt</th>    </tr>    <tr>        <th class=\"index_name level1\" >total_income_category</th>        <th class=\"col_heading level1 col0\" >A</th>        <th class=\"col_heading level1 col1\" >B</th>        <th class=\"col_heading level1 col2\" >C</th>        <th class=\"col_heading level1 col3\" >D</th>        <th class=\"col_heading level1 col4\" >E</th>    </tr>    <tr>        <th class=\"index_name level0\" >purpose_category</th>        <th class=\"blank\" ></th>        <th class=\"blank\" ></th>        <th class=\"blank\" ></th>        <th class=\"blank\" ></th>        <th class=\"blank\" ></th>    </tr></thead><tbody>\n",
       "                <tr>\n",
       "                        <th id=\"T_5c1ed_level0_row0\" class=\"row_heading level0 row0\" >операции с автомобилем</th>\n",
       "                        <td id=\"T_5c1ed_row0_col0\" class=\"data row0 col0\" >0.00%</td>\n",
       "                        <td id=\"T_5c1ed_row0_col1\" class=\"data row0 col1\" >8.32%</td>\n",
       "                        <td id=\"T_5c1ed_row0_col2\" class=\"data row0 col2\" >9.59%</td>\n",
       "                        <td id=\"T_5c1ed_row0_col3\" class=\"data row0 col3\" >13.89%</td>\n",
       "                        <td id=\"T_5c1ed_row0_col4\" class=\"data row0 col4\" >0.00%</td>\n",
       "            </tr>\n",
       "            <tr>\n",
       "                        <th id=\"T_5c1ed_level0_row1\" class=\"row_heading level0 row1\" >операции с недвижимостью</th>\n",
       "                        <td id=\"T_5c1ed_row1_col0\" class=\"data row1 col0\" >5.88%</td>\n",
       "                        <td id=\"T_5c1ed_row1_col1\" class=\"data row1 col1\" >6.72%</td>\n",
       "                        <td id=\"T_5c1ed_row1_col2\" class=\"data row1 col2\" >7.49%</td>\n",
       "                        <td id=\"T_5c1ed_row1_col3\" class=\"data row1 col3\" >3.57%</td>\n",
       "                        <td id=\"T_5c1ed_row1_col4\" class=\"data row1 col4\" >18.18%</td>\n",
       "            </tr>\n",
       "            <tr>\n",
       "                        <th id=\"T_5c1ed_level0_row2\" class=\"row_heading level0 row2\" >получение образования</th>\n",
       "                        <td id=\"T_5c1ed_row2_col0\" class=\"data row2 col0\" >25.00%</td>\n",
       "                        <td id=\"T_5c1ed_row2_col1\" class=\"data row2 col1\" >7.75%</td>\n",
       "                        <td id=\"T_5c1ed_row2_col2\" class=\"data row2 col2\" >9.85%</td>\n",
       "                        <td id=\"T_5c1ed_row2_col3\" class=\"data row2 col3\" >2.67%</td>\n",
       "                        <td id=\"T_5c1ed_row2_col4\" class=\"data row2 col4\" >0.00%</td>\n",
       "            </tr>\n",
       "            <tr>\n",
       "                        <th id=\"T_5c1ed_level0_row3\" class=\"row_heading level0 row3\" >проведение свадьбы</th>\n",
       "                        <td id=\"T_5c1ed_row3_col0\" class=\"data row3 col0\" >0.00%</td>\n",
       "                        <td id=\"T_5c1ed_row3_col1\" class=\"data row3 col1\" >5.15%</td>\n",
       "                        <td id=\"T_5c1ed_row3_col2\" class=\"data row3 col2\" >8.79%</td>\n",
       "                        <td id=\"T_5c1ed_row3_col3\" class=\"data row3 col3\" >8.82%</td>\n",
       "                        <td id=\"T_5c1ed_row3_col4\" class=\"data row3 col4\" >0.00%</td>\n",
       "            </tr>\n",
       "    </tbody></table>"
      ],
      "text/plain": [
       "<pandas.io.formats.style.Styler at 0x7f7a06a8db20>"
      ]
     },
     "execution_count": 38,
     "metadata": {},
     "output_type": "execute_result"
    }
   ],
   "source": [
    "pd.pivot_table(data,\n",
    "               index=['purpose_category'],\n",
    "               columns=['total_income_category'],\n",
    "               values=['debt'],\n",
    "               aggfunc=ratio).style.format('{:.2%}').background_gradient(cmap='Reds',axis=None)"
   ]
  },
  {
   "cell_type": "markdown",
   "id": "8a1c5a06",
   "metadata": {},
   "source": [
    "Если рассматривать зависимости от целей кредита для каждой категории уровня дохода отдельно, можно сделать следующие выводы:\n",
    "- для категории с уровнем дохода ниже среднего (D) меньше всего задолженностей у клиентов с кредитами на операции с недвижимостью и получения образования, больше всего на операции с автомобилем;\n",
    "- для категории с средним уровнем дохода (С) результаты соответствуют общей статистике выше;\n",
    "- для категории с уровнем дохода выше среднего (В) меньше всего задолженностей у клиентов с кредитами на проведение свадьбы, затем идут операции с недвижимостью, а больше всего задолженностей по категории операций с автомобилями. \n",
    "\n",
    "Клиентов категорий D и E не принимаем в расчет, за недостаточностью данных.\n",
    "\n",
    "Таблица зависимости процента клиентов без задолженностей для разных категорий семейного положения и целей кредита:"
   ]
  },
  {
   "cell_type": "code",
   "execution_count": 39,
   "id": "1fb977a6",
   "metadata": {},
   "outputs": [
    {
     "data": {
      "text/html": [
       "<style  type=\"text/css\" >\n",
       "#T_c54cf_row0_col0{\n",
       "            background-color:  #fee3d7;\n",
       "            color:  #000000;\n",
       "        }#T_c54cf_row0_col1{\n",
       "            background-color:  #fc8e6e;\n",
       "            color:  #000000;\n",
       "        }#T_c54cf_row0_col2{\n",
       "            background-color:  #f5533b;\n",
       "            color:  #000000;\n",
       "        }#T_c54cf_row0_col3{\n",
       "            background-color:  #67000d;\n",
       "            color:  #f1f1f1;\n",
       "        }#T_c54cf_row1_col0{\n",
       "            background-color:  #fff5f0;\n",
       "            color:  #000000;\n",
       "        }#T_c54cf_row1_col1{\n",
       "            background-color:  #fee0d2;\n",
       "            color:  #000000;\n",
       "        }#T_c54cf_row1_col2{\n",
       "            background-color:  #fee1d3;\n",
       "            color:  #000000;\n",
       "        }#T_c54cf_row1_col3{\n",
       "            background-color:  #f44f39;\n",
       "            color:  #000000;\n",
       "        }#T_c54cf_row2_col0{\n",
       "            background-color:  #fee2d5;\n",
       "            color:  #000000;\n",
       "        }#T_c54cf_row2_col1{\n",
       "            background-color:  #fc9d7f;\n",
       "            color:  #000000;\n",
       "        }#T_c54cf_row2_col2{\n",
       "            background-color:  #f14432;\n",
       "            color:  #f1f1f1;\n",
       "        }#T_c54cf_row2_col3{\n",
       "            background-color:  #a60f15;\n",
       "            color:  #f1f1f1;\n",
       "        }#T_c54cf_row3_col0,#T_c54cf_row3_col1{\n",
       "            background-color:  #000000;\n",
       "            color:  #f1f1f1;\n",
       "        }#T_c54cf_row3_col2{\n",
       "            background-color:  #fee1d4;\n",
       "            color:  #000000;\n",
       "        }#T_c54cf_row3_col3{\n",
       "            background-color:  #fcbca2;\n",
       "            color:  #000000;\n",
       "        }</style><table id=\"T_c54cf_\" ><thead>    <tr>        <th class=\"blank level0\" ></th>        <th class=\"col_heading level0 col0\" colspan=\"4\">debt</th>    </tr>    <tr>        <th class=\"index_name level1\" >family_category</th>        <th class=\"col_heading level1 col0\" >был/есть в официальном браке, без детей</th>        <th class=\"col_heading level1 col1\" >был/есть в официальном браке, есть дети</th>        <th class=\"col_heading level1 col2\" >не был в официальном браке, без детей</th>        <th class=\"col_heading level1 col3\" >не был в официальном браке, есть дети</th>    </tr>    <tr>        <th class=\"index_name level0\" >purpose_category</th>        <th class=\"blank\" ></th>        <th class=\"blank\" ></th>        <th class=\"blank\" ></th>        <th class=\"blank\" ></th>    </tr></thead><tbody>\n",
       "                <tr>\n",
       "                        <th id=\"T_c54cf_level0_row0\" class=\"row_heading level0 row0\" >операции с автомобилем</th>\n",
       "                        <td id=\"T_c54cf_row0_col0\" class=\"data row0 col0\" >7.38%</td>\n",
       "                        <td id=\"T_c54cf_row0_col1\" class=\"data row0 col1\" >9.92%</td>\n",
       "                        <td id=\"T_c54cf_row0_col2\" class=\"data row0 col2\" >11.50%</td>\n",
       "                        <td id=\"T_c54cf_row0_col3\" class=\"data row0 col3\" >15.47%</td>\n",
       "            </tr>\n",
       "            <tr>\n",
       "                        <th id=\"T_c54cf_level0_row1\" class=\"row_heading level0 row1\" >операции с недвижимостью</th>\n",
       "                        <td id=\"T_c54cf_row1_col0\" class=\"data row1 col0\" >6.42%</td>\n",
       "                        <td id=\"T_c54cf_row1_col1\" class=\"data row1 col1\" >7.57%</td>\n",
       "                        <td id=\"T_c54cf_row1_col2\" class=\"data row1 col2\" >7.54%</td>\n",
       "                        <td id=\"T_c54cf_row1_col3\" class=\"data row1 col3\" >11.60%</td>\n",
       "            </tr>\n",
       "            <tr>\n",
       "                        <th id=\"T_c54cf_level0_row2\" class=\"row_heading level0 row2\" >получение образования</th>\n",
       "                        <td id=\"T_c54cf_row2_col0\" class=\"data row2 col0\" >7.46%</td>\n",
       "                        <td id=\"T_c54cf_row2_col1\" class=\"data row2 col1\" >9.51%</td>\n",
       "                        <td id=\"T_c54cf_row2_col2\" class=\"data row2 col2\" >11.85%</td>\n",
       "                        <td id=\"T_c54cf_row2_col3\" class=\"data row2 col3\" >14.29%</td>\n",
       "            </tr>\n",
       "            <tr>\n",
       "                        <th id=\"T_c54cf_level0_row3\" class=\"row_heading level0 row3\" >проведение свадьбы</th>\n",
       "                        <td id=\"T_c54cf_row3_col0\" class=\"data row3 col0\" >nan%</td>\n",
       "                        <td id=\"T_c54cf_row3_col1\" class=\"data row3 col1\" >nan%</td>\n",
       "                        <td id=\"T_c54cf_row3_col2\" class=\"data row3 col2\" >7.52%</td>\n",
       "                        <td id=\"T_c54cf_row3_col3\" class=\"data row3 col3\" >8.68%</td>\n",
       "            </tr>\n",
       "    </tbody></table>"
      ],
      "text/plain": [
       "<pandas.io.formats.style.Styler at 0x7f7a06a9f5b0>"
      ]
     },
     "execution_count": 39,
     "metadata": {},
     "output_type": "execute_result"
    }
   ],
   "source": [
    "pd.pivot_table(data,\n",
    "               index=['purpose_category'],\n",
    "               columns=['family_category'],\n",
    "               values=['debt'],\n",
    "               aggfunc=ratio).style.format('{:.2%}').background_gradient(cmap='Reds',axis=None)"
   ]
  },
  {
   "cell_type": "markdown",
   "id": "5bf7c05c",
   "metadata": {},
   "source": [
    "Если рассматривать зависимости от целей кредита для каждой категории семейного положения отдельно, то зависимости соответствуют общей статистике, за тем исключением что в категориях клиентов `'был/есть в официальном браке'` отсутствуют клиенты с кредитами на проведение свадьбы. "
   ]
  },
  {
   "cell_type": "markdown",
   "id": "9188901e",
   "metadata": {
    "id": "b4bb2ce6"
   },
   "source": [
    "**Вывод:** \n",
    "\n",
    "Влияние цели кредита на его возврат в срок по данным выявляется. Чаще всего не имеют задолженностей клиенты берущие кредит на операции с недвижимостью, на втором месте идет кредит на проведение свадьбы, а клиенты берущие кредиты на операции с автомобилем и получение образования в равной степени и чаще чем остальные категории не возвращают в срок. Такие же зависимости наблюдаются для любого семейного статуса и количества детей. А для клиентов с разным уровнем дохода зависимость возврата кредита в срок от цели кредита может слегка меняться."
   ]
  },
  {
   "cell_type": "markdown",
   "id": "6ae6b53a",
   "metadata": {
    "id": "09c3ac4c"
   },
   "source": [
    "#### 3.5 Приведите возможные причины появления пропусков в исходных данных."
   ]
  },
  {
   "cell_type": "markdown",
   "id": "e86f8f04",
   "metadata": {
    "id": "9da2ceda"
   },
   "source": [
    "*Ответ:*  В исходных данных были пропуски в столбцах days_employed и total_income, при чем если данных не было в одном столбце то их не было и в другом столбце. Причиной отсутствия данных может быть как ошибка технического характера (сбои в программе, ошибки при записи), так и не представление этих данных банку при заполнении заявки на кредит. Однако, учитывая что такая информация обычно является обязательной для одобрения кредита, скорее всего данные были каким то образом утеряны."
   ]
  },
  {
   "cell_type": "markdown",
   "id": "2ee16a9e",
   "metadata": {
    "id": "7b0487d6"
   },
   "source": [
    "#### 3.6 Объясните, почему заполнить пропуски медианным значением — лучшее решение для количественных переменных."
   ]
  },
  {
   "cell_type": "markdown",
   "id": "c1fd1b9b",
   "metadata": {
    "id": "7ecf2b8e"
   },
   "source": [
    "*Ответ:* При наличии экстремальных значений в выборке (а в нашей таблице такие наблюдались - это категори A и E для уровня дохода), медианное значение позволяет более точно интерпретировать статистику, не беря в расчет экстремальные значения. "
   ]
  },
  {
   "cell_type": "markdown",
   "id": "d17477fb",
   "metadata": {
    "id": "6db5255a"
   },
   "source": [
    "### Шаг 4: общий вывод."
   ]
  },
  {
   "cell_type": "markdown",
   "id": "6b87fe6e",
   "metadata": {
    "id": "bad65432"
   },
   "source": [
    "Результаты анализа данных статистики о платёжеспособности клиентов показали,что:\n",
    "\n",
    "1. У клиентов с 1 и более детей чаще имеются задолженности по кредиту (9.24%) , по сравнению с клиентами без детей (7.54%). . Более точной зависимости от количества детей установить сложно, поскольку в категориях с многодетными семьями количество клиентов недостаточно для формирования однозначных выводов.\n",
    "\n",
    "    \n",
    "2. В целом наблюдается тенденция более частых проблем с выплатой кредита в срок у клиентов не состоящих или не состоявших ранее в законном браке.\n",
    "\n",
    "    Самые частые случаи невозврата кредита в срок наблюдаются у клиентов категории \"Не женат / не замужем\" (9.76%) и \"гражданский брак\" (9.31%). Самые редкие случаи невозврата кредита в срок наблюдаются у клиентов категории \"вдовец / вдова\" (6.62%), категории \"в разводе\" (7.06%) и \"женат / замужем\" (7.56%). \n",
    "\n",
    "    При рассмотрении этих категорий с точки зрения отсутствия наличия детей имеются некоторые отличия. По прежнему самой ненадежной категорией остается \"не женат/незамужем\" вне зависимости от наличия детей. А вот самая отвественная в плане выплаты кредита, категория 'вдовец/вдова' сильно зависит от наличия детей: 6.26% при остуствии детей и 9.62% при наличии детей. При таком рассмотрении категория клиентов в гражданском браке и без детей является более надежной чем вдовец/вдова с детьми (8.39% против 9.62%).\n",
    "\n",
    "\n",
    "3. Неравномерное распределение выборок по категориям не позволяет делать выводы по всем группам доходности клиентов. Группы клиентов с очень высоким уровнем доходов (1000001 и выше), очень низким уровнем доходов (0–30000) и доходами ниже среднего (30001–50000) являются наиболее редкими случаями в исходных данных и их не нельзя учитывать при выявлении зависимостей. Самыми многочисленными являются группы клиентов со средним уровнем доходов (50001–200000) и уровнем доходов выше среднего (200001–1000000). Если использовать две эти группы для сравнения,то можно сделать выводы, что доля клиентов с просрочками уменьшается при возрастании уровня доходов клиента (8.50% - для среднего уровня дохода, 7.06% - для уровня дохода выше среднего). Такая тенденция сохраняется при разбивке на подкатегории в зависимости от семейного положения и наличия детей.\n",
    "\n",
    "    \n",
    "4. Реже всего имеют задолженности клиенты берущие кредит на операции с недвижимостью (7.26%), на втором месте идет кредит на проведение свадьбы (7.91%), а клиенты берущие кредиты на операции с автомобилем и получение образования в равной степени и чаще чем остальные категории не возвращают в срок (9.35% и 9.25%, соответственно).\n",
    "    \n",
    "    Такие же зависимости наблюдаются для любого семейного статуса и количества детей. А для клиентов с разным уровнем дохода зависимость возврата кредита в срок от цели кредита может слегка меняться. Так для категории клиентов с уровнем дохода выше среднего самой надежной является группа клиентов берущих кредит на проведение свадьбы (5.15%), а затем идут операции с недвижимостью (6.72%). А для клиентов со средним уровнем дохода самой ненадежной стала группа клиентов берущих кредит на образование (9.85%), а после низ идут операции с автомобилем (9.59%)."
   ]
  }
 ],
 "metadata": {
  "ExecuteTimeLog": [
   {
    "duration": 438,
    "start_time": "2022-12-28T10:23:42.245Z"
   },
   {
    "duration": 21,
    "start_time": "2022-12-28T10:23:42.685Z"
   },
   {
    "duration": 23,
    "start_time": "2022-12-28T10:23:42.707Z"
   },
   {
    "duration": 9,
    "start_time": "2022-12-28T10:23:42.731Z"
   },
   {
    "duration": 42,
    "start_time": "2022-12-28T10:23:42.741Z"
   },
   {
    "duration": 3,
    "start_time": "2022-12-28T10:23:42.785Z"
   },
   {
    "duration": 17,
    "start_time": "2022-12-28T10:23:42.789Z"
   },
   {
    "duration": 5,
    "start_time": "2022-12-28T10:23:42.808Z"
   },
   {
    "duration": 15,
    "start_time": "2022-12-28T10:23:42.815Z"
   },
   {
    "duration": 5,
    "start_time": "2022-12-28T10:23:42.833Z"
   },
   {
    "duration": 36,
    "start_time": "2022-12-28T10:23:42.840Z"
   },
   {
    "duration": 10,
    "start_time": "2022-12-28T10:23:42.877Z"
   },
   {
    "duration": 6,
    "start_time": "2022-12-28T10:23:42.888Z"
   },
   {
    "duration": 34,
    "start_time": "2022-12-28T10:23:42.896Z"
   },
   {
    "duration": 23,
    "start_time": "2022-12-28T10:23:42.932Z"
   },
   {
    "duration": 15,
    "start_time": "2022-12-28T10:23:42.956Z"
   },
   {
    "duration": 3,
    "start_time": "2022-12-28T10:23:42.973Z"
   },
   {
    "duration": 13,
    "start_time": "2022-12-28T10:23:42.977Z"
   },
   {
    "duration": 5,
    "start_time": "2022-12-28T10:23:42.991Z"
   },
   {
    "duration": 6,
    "start_time": "2022-12-28T10:23:42.997Z"
   },
   {
    "duration": 8,
    "start_time": "2022-12-28T10:23:43.026Z"
   },
   {
    "duration": 7,
    "start_time": "2022-12-28T10:28:54.317Z"
   },
   {
    "duration": 6,
    "start_time": "2022-12-28T10:29:13.482Z"
   },
   {
    "duration": 5,
    "start_time": "2022-12-28T10:34:16.925Z"
   },
   {
    "duration": 10,
    "start_time": "2022-12-28T10:35:56.410Z"
   },
   {
    "duration": 7,
    "start_time": "2022-12-28T10:36:02.722Z"
   },
   {
    "duration": 9,
    "start_time": "2022-12-28T10:36:33.046Z"
   },
   {
    "duration": 7,
    "start_time": "2022-12-28T10:36:42.243Z"
   },
   {
    "duration": 9,
    "start_time": "2022-12-28T10:36:55.709Z"
   },
   {
    "duration": 8,
    "start_time": "2022-12-28T10:37:09.913Z"
   },
   {
    "duration": 8,
    "start_time": "2022-12-28T10:37:21.057Z"
   },
   {
    "duration": 11,
    "start_time": "2022-12-28T10:37:24.564Z"
   },
   {
    "duration": 873,
    "start_time": "2022-12-28T10:39:57.380Z"
   },
   {
    "duration": 103,
    "start_time": "2022-12-28T10:40:19.343Z"
   },
   {
    "duration": 8,
    "start_time": "2022-12-28T10:40:39.075Z"
   },
   {
    "duration": 111,
    "start_time": "2022-12-28T10:41:01.864Z"
   },
   {
    "duration": 71,
    "start_time": "2022-12-28T10:47:48.461Z"
   },
   {
    "duration": 77,
    "start_time": "2022-12-28T10:48:00.638Z"
   },
   {
    "duration": 8,
    "start_time": "2022-12-28T10:48:17.278Z"
   },
   {
    "duration": 7,
    "start_time": "2022-12-28T10:48:43.147Z"
   },
   {
    "duration": 15,
    "start_time": "2022-12-28T10:49:33.411Z"
   },
   {
    "duration": 103,
    "start_time": "2022-12-28T10:49:35.356Z"
   },
   {
    "duration": 11,
    "start_time": "2022-12-28T10:50:12.613Z"
   },
   {
    "duration": 13,
    "start_time": "2022-12-28T10:51:08.866Z"
   },
   {
    "duration": 8,
    "start_time": "2022-12-28T10:51:10.343Z"
   },
   {
    "duration": 20,
    "start_time": "2022-12-28T10:51:16.656Z"
   },
   {
    "duration": 170,
    "start_time": "2022-12-28T10:51:18.609Z"
   },
   {
    "duration": 12,
    "start_time": "2022-12-28T10:51:26.410Z"
   },
   {
    "duration": 9,
    "start_time": "2022-12-28T11:05:47.842Z"
   },
   {
    "duration": 112,
    "start_time": "2022-12-28T11:06:40.350Z"
   },
   {
    "duration": 2,
    "start_time": "2022-12-28T11:07:36.029Z"
   },
   {
    "duration": 106,
    "start_time": "2022-12-28T11:09:13.323Z"
   },
   {
    "duration": 92,
    "start_time": "2022-12-28T11:10:27.512Z"
   },
   {
    "duration": 115,
    "start_time": "2022-12-28T11:10:34.067Z"
   },
   {
    "duration": 119,
    "start_time": "2022-12-28T11:10:50.583Z"
   },
   {
    "duration": 10,
    "start_time": "2022-12-28T11:12:21.276Z"
   },
   {
    "duration": 13,
    "start_time": "2022-12-28T11:22:58.658Z"
   },
   {
    "duration": 92,
    "start_time": "2022-12-28T11:23:22.401Z"
   },
   {
    "duration": 7,
    "start_time": "2022-12-28T11:23:22.812Z"
   },
   {
    "duration": 11,
    "start_time": "2022-12-28T11:23:26.746Z"
   },
   {
    "duration": 7,
    "start_time": "2022-12-28T11:23:27.246Z"
   },
   {
    "duration": 15,
    "start_time": "2022-12-28T11:23:29.228Z"
   },
   {
    "duration": 90,
    "start_time": "2022-12-28T11:23:59.353Z"
   },
   {
    "duration": 13,
    "start_time": "2022-12-28T11:24:09.413Z"
   },
   {
    "duration": 76,
    "start_time": "2022-12-28T11:24:34.966Z"
   },
   {
    "duration": 13,
    "start_time": "2022-12-28T11:24:39.172Z"
   },
   {
    "duration": 73,
    "start_time": "2022-12-28T11:34:50.245Z"
   },
   {
    "duration": 9,
    "start_time": "2022-12-28T13:02:11.391Z"
   },
   {
    "duration": 6,
    "start_time": "2022-12-28T13:03:04.628Z"
   },
   {
    "duration": 8,
    "start_time": "2022-12-28T13:03:29.248Z"
   },
   {
    "duration": 9,
    "start_time": "2022-12-28T13:04:29.020Z"
   },
   {
    "duration": 13,
    "start_time": "2022-12-28T13:09:02.299Z"
   },
   {
    "duration": 7,
    "start_time": "2022-12-28T13:09:59.404Z"
   },
   {
    "duration": 13,
    "start_time": "2022-12-28T13:13:10.637Z"
   },
   {
    "duration": 8,
    "start_time": "2022-12-28T13:13:46.466Z"
   },
   {
    "duration": 6,
    "start_time": "2022-12-28T13:14:47.100Z"
   },
   {
    "duration": 8,
    "start_time": "2022-12-28T13:15:56.358Z"
   },
   {
    "duration": 4,
    "start_time": "2022-12-28T13:15:58.682Z"
   },
   {
    "duration": 5,
    "start_time": "2022-12-28T13:15:59.158Z"
   },
   {
    "duration": 45,
    "start_time": "2022-12-29T10:19:04.278Z"
   },
   {
    "duration": 465,
    "start_time": "2022-12-29T10:19:18.184Z"
   },
   {
    "duration": 19,
    "start_time": "2022-12-29T10:19:18.651Z"
   },
   {
    "duration": 13,
    "start_time": "2022-12-29T10:19:18.672Z"
   },
   {
    "duration": 8,
    "start_time": "2022-12-29T10:19:18.686Z"
   },
   {
    "duration": 49,
    "start_time": "2022-12-29T10:19:18.696Z"
   },
   {
    "duration": 4,
    "start_time": "2022-12-29T10:19:18.746Z"
   },
   {
    "duration": 12,
    "start_time": "2022-12-29T10:19:18.751Z"
   },
   {
    "duration": 4,
    "start_time": "2022-12-29T10:19:18.764Z"
   },
   {
    "duration": 9,
    "start_time": "2022-12-29T10:19:18.770Z"
   },
   {
    "duration": 3,
    "start_time": "2022-12-29T10:19:18.782Z"
   },
   {
    "duration": 55,
    "start_time": "2022-12-29T10:19:18.786Z"
   },
   {
    "duration": 9,
    "start_time": "2022-12-29T10:19:18.843Z"
   },
   {
    "duration": 37,
    "start_time": "2022-12-29T10:19:18.853Z"
   },
   {
    "duration": 28,
    "start_time": "2022-12-29T10:19:18.891Z"
   },
   {
    "duration": 51,
    "start_time": "2022-12-29T10:19:18.921Z"
   },
   {
    "duration": 22,
    "start_time": "2022-12-29T10:19:18.974Z"
   },
   {
    "duration": 16,
    "start_time": "2022-12-29T10:19:18.998Z"
   },
   {
    "duration": 21,
    "start_time": "2022-12-29T10:19:19.016Z"
   },
   {
    "duration": 46,
    "start_time": "2022-12-29T10:19:19.039Z"
   },
   {
    "duration": 8,
    "start_time": "2022-12-29T10:19:19.087Z"
   },
   {
    "duration": 55,
    "start_time": "2022-12-29T10:19:19.097Z"
   },
   {
    "duration": 23,
    "start_time": "2022-12-29T10:19:19.153Z"
   },
   {
    "duration": 36,
    "start_time": "2022-12-29T10:19:19.177Z"
   },
   {
    "duration": 37,
    "start_time": "2022-12-29T10:19:19.215Z"
   },
   {
    "duration": 16,
    "start_time": "2022-12-29T10:19:19.253Z"
   },
   {
    "duration": 30,
    "start_time": "2022-12-29T10:19:19.270Z"
   },
   {
    "duration": 8,
    "start_time": "2022-12-29T10:19:19.302Z"
   },
   {
    "duration": 54,
    "start_time": "2022-12-29T10:19:19.313Z"
   },
   {
    "duration": 18,
    "start_time": "2022-12-29T10:19:19.369Z"
   },
   {
    "duration": 27,
    "start_time": "2022-12-29T10:19:19.388Z"
   },
   {
    "duration": 106,
    "start_time": "2022-12-29T10:19:19.416Z"
   },
   {
    "duration": 0,
    "start_time": "2022-12-29T10:19:19.523Z"
   },
   {
    "duration": 0,
    "start_time": "2022-12-29T10:19:19.524Z"
   },
   {
    "duration": 0,
    "start_time": "2022-12-29T10:19:19.525Z"
   },
   {
    "duration": 0,
    "start_time": "2022-12-29T10:19:19.526Z"
   },
   {
    "duration": 0,
    "start_time": "2022-12-29T10:19:19.528Z"
   },
   {
    "duration": 0,
    "start_time": "2022-12-29T10:19:19.529Z"
   },
   {
    "duration": 14,
    "start_time": "2022-12-29T10:19:30.168Z"
   },
   {
    "duration": 14,
    "start_time": "2022-12-29T10:19:54.441Z"
   },
   {
    "duration": 20,
    "start_time": "2022-12-29T10:21:51.519Z"
   },
   {
    "duration": 13,
    "start_time": "2022-12-29T10:22:10.076Z"
   },
   {
    "duration": 35,
    "start_time": "2022-12-29T10:22:21.438Z"
   },
   {
    "duration": 11,
    "start_time": "2022-12-29T10:23:28.043Z"
   },
   {
    "duration": 22,
    "start_time": "2022-12-29T10:23:44.232Z"
   },
   {
    "duration": 19,
    "start_time": "2022-12-29T10:24:07.414Z"
   },
   {
    "duration": 7,
    "start_time": "2022-12-29T10:24:43.126Z"
   },
   {
    "duration": 24,
    "start_time": "2022-12-29T10:35:06.096Z"
   },
   {
    "duration": 10,
    "start_time": "2022-12-29T10:36:06.746Z"
   },
   {
    "duration": 23,
    "start_time": "2022-12-29T10:36:41.040Z"
   },
   {
    "duration": 23,
    "start_time": "2022-12-29T10:37:40.361Z"
   },
   {
    "duration": 7,
    "start_time": "2022-12-29T10:38:13.690Z"
   },
   {
    "duration": 26,
    "start_time": "2022-12-29T10:40:36.592Z"
   },
   {
    "duration": 25,
    "start_time": "2022-12-29T10:41:32.914Z"
   },
   {
    "duration": 7,
    "start_time": "2022-12-29T11:06:10.541Z"
   },
   {
    "duration": 208,
    "start_time": "2022-12-29T11:12:53.325Z"
   },
   {
    "duration": 21,
    "start_time": "2022-12-29T11:12:57.275Z"
   },
   {
    "duration": 13,
    "start_time": "2022-12-29T11:13:27.216Z"
   },
   {
    "duration": 32,
    "start_time": "2022-12-29T11:13:34.819Z"
   },
   {
    "duration": 24,
    "start_time": "2022-12-29T11:13:52.294Z"
   },
   {
    "duration": 30,
    "start_time": "2022-12-29T11:14:40.928Z"
   },
   {
    "duration": 9,
    "start_time": "2022-12-29T11:14:56.630Z"
   },
   {
    "duration": 27,
    "start_time": "2022-12-29T11:14:58.749Z"
   },
   {
    "duration": 633,
    "start_time": "2022-12-29T11:15:07.763Z"
   },
   {
    "duration": 28,
    "start_time": "2022-12-29T11:15:15.849Z"
   },
   {
    "duration": 4,
    "start_time": "2022-12-29T11:16:38.945Z"
   },
   {
    "duration": 316,
    "start_time": "2022-12-29T11:16:42.987Z"
   },
   {
    "duration": 607,
    "start_time": "2022-12-29T11:17:10.549Z"
   },
   {
    "duration": 22,
    "start_time": "2022-12-29T11:17:28.821Z"
   },
   {
    "duration": 23,
    "start_time": "2022-12-29T11:17:40.252Z"
   },
   {
    "duration": 450,
    "start_time": "2022-12-29T11:20:17.089Z"
   },
   {
    "duration": 30,
    "start_time": "2022-12-29T11:20:38.326Z"
   },
   {
    "duration": 26,
    "start_time": "2022-12-29T11:20:48.287Z"
   },
   {
    "duration": 21,
    "start_time": "2022-12-29T11:20:57.125Z"
   },
   {
    "duration": 16,
    "start_time": "2022-12-29T11:23:10.546Z"
   },
   {
    "duration": 11,
    "start_time": "2022-12-29T11:26:43.454Z"
   },
   {
    "duration": 6,
    "start_time": "2022-12-29T11:27:42.830Z"
   },
   {
    "duration": 14,
    "start_time": "2022-12-29T11:28:31.008Z"
   },
   {
    "duration": 7,
    "start_time": "2022-12-29T11:28:39.945Z"
   },
   {
    "duration": 15,
    "start_time": "2022-12-29T11:30:00.925Z"
   },
   {
    "duration": 16,
    "start_time": "2022-12-29T11:33:50.473Z"
   },
   {
    "duration": 10,
    "start_time": "2022-12-29T11:35:02.645Z"
   },
   {
    "duration": 7,
    "start_time": "2022-12-29T11:35:17.855Z"
   },
   {
    "duration": 12,
    "start_time": "2022-12-29T11:35:31.873Z"
   },
   {
    "duration": 13,
    "start_time": "2022-12-29T11:36:05.827Z"
   },
   {
    "duration": 4,
    "start_time": "2022-12-29T11:39:30.188Z"
   },
   {
    "duration": 5,
    "start_time": "2022-12-29T11:39:30.664Z"
   },
   {
    "duration": 11,
    "start_time": "2022-12-29T11:40:17.754Z"
   },
   {
    "duration": 13,
    "start_time": "2022-12-29T11:48:12.497Z"
   },
   {
    "duration": 23,
    "start_time": "2022-12-29T11:48:46.525Z"
   },
   {
    "duration": 13,
    "start_time": "2022-12-29T11:49:17.458Z"
   },
   {
    "duration": 14,
    "start_time": "2022-12-29T11:49:46.844Z"
   },
   {
    "duration": 16,
    "start_time": "2022-12-29T11:50:19.881Z"
   },
   {
    "duration": 15,
    "start_time": "2022-12-29T11:50:25.315Z"
   },
   {
    "duration": 14,
    "start_time": "2022-12-29T11:54:13.103Z"
   },
   {
    "duration": 12,
    "start_time": "2022-12-29T11:54:28.369Z"
   },
   {
    "duration": 14,
    "start_time": "2022-12-29T11:54:35.789Z"
   },
   {
    "duration": 12,
    "start_time": "2022-12-29T11:54:57.375Z"
   },
   {
    "duration": 13,
    "start_time": "2022-12-29T11:56:31.144Z"
   },
   {
    "duration": 18,
    "start_time": "2022-12-29T11:56:37.943Z"
   },
   {
    "duration": 11,
    "start_time": "2022-12-29T11:59:58.829Z"
   },
   {
    "duration": 13,
    "start_time": "2022-12-29T12:04:03.284Z"
   },
   {
    "duration": 70,
    "start_time": "2022-12-29T12:09:47.939Z"
   },
   {
    "duration": 22,
    "start_time": "2022-12-29T12:19:18.635Z"
   },
   {
    "duration": 30,
    "start_time": "2022-12-29T12:19:38.711Z"
   },
   {
    "duration": 22,
    "start_time": "2022-12-29T12:20:11.647Z"
   },
   {
    "duration": 23,
    "start_time": "2022-12-29T12:20:47.168Z"
   },
   {
    "duration": 21,
    "start_time": "2022-12-29T12:21:11.709Z"
   },
   {
    "duration": 19,
    "start_time": "2022-12-29T12:23:10.194Z"
   },
   {
    "duration": 32,
    "start_time": "2022-12-29T12:23:26.549Z"
   },
   {
    "duration": 35,
    "start_time": "2022-12-29T12:26:05.008Z"
   },
   {
    "duration": 35,
    "start_time": "2022-12-29T12:26:11.111Z"
   },
   {
    "duration": 42,
    "start_time": "2022-12-29T12:26:47.945Z"
   },
   {
    "duration": 31,
    "start_time": "2022-12-29T12:29:40.157Z"
   },
   {
    "duration": 15,
    "start_time": "2022-12-29T12:35:00.765Z"
   },
   {
    "duration": 34,
    "start_time": "2022-12-29T12:37:33.939Z"
   },
   {
    "duration": 33,
    "start_time": "2022-12-29T12:38:12.171Z"
   },
   {
    "duration": 74,
    "start_time": "2022-12-29T12:38:45.074Z"
   },
   {
    "duration": 32,
    "start_time": "2022-12-29T12:38:53.071Z"
   },
   {
    "duration": 36,
    "start_time": "2022-12-29T12:39:08.045Z"
   },
   {
    "duration": 842,
    "start_time": "2022-12-29T12:39:25.911Z"
   },
   {
    "duration": 941,
    "start_time": "2022-12-29T12:41:20.200Z"
   },
   {
    "duration": 78,
    "start_time": "2022-12-29T12:45:44.171Z"
   },
   {
    "duration": 23,
    "start_time": "2022-12-29T12:45:49.589Z"
   },
   {
    "duration": 21,
    "start_time": "2022-12-29T12:46:00.197Z"
   },
   {
    "duration": 32,
    "start_time": "2022-12-29T12:46:13.150Z"
   },
   {
    "duration": 83,
    "start_time": "2022-12-29T13:19:36.871Z"
   },
   {
    "duration": 73,
    "start_time": "2022-12-29T13:20:04.769Z"
   },
   {
    "duration": 79,
    "start_time": "2022-12-29T13:20:11.590Z"
   },
   {
    "duration": 8,
    "start_time": "2022-12-29T13:32:19.242Z"
   },
   {
    "duration": 6,
    "start_time": "2022-12-29T13:33:01.321Z"
   },
   {
    "duration": 13,
    "start_time": "2022-12-29T13:39:17.041Z"
   },
   {
    "duration": 12,
    "start_time": "2022-12-29T13:39:29.681Z"
   },
   {
    "duration": 11,
    "start_time": "2022-12-29T13:39:52.710Z"
   },
   {
    "duration": 12,
    "start_time": "2022-12-29T13:41:02.038Z"
   },
   {
    "duration": 7,
    "start_time": "2022-12-29T13:41:21.127Z"
   },
   {
    "duration": 7,
    "start_time": "2022-12-29T13:41:47.209Z"
   },
   {
    "duration": 12,
    "start_time": "2022-12-29T13:41:51.671Z"
   },
   {
    "duration": 10,
    "start_time": "2022-12-29T13:49:54.456Z"
   },
   {
    "duration": 4,
    "start_time": "2022-12-29T13:50:31.904Z"
   },
   {
    "duration": 7,
    "start_time": "2022-12-29T13:53:08.098Z"
   },
   {
    "duration": 18,
    "start_time": "2022-12-29T13:53:15.709Z"
   },
   {
    "duration": 12,
    "start_time": "2022-12-29T13:53:39.095Z"
   },
   {
    "duration": 207236,
    "start_time": "2022-12-29T13:53:46.867Z"
   },
   {
    "duration": 55,
    "start_time": "2022-12-29T13:57:39.261Z"
   },
   {
    "duration": 139,
    "start_time": "2022-12-29T13:57:57.000Z"
   },
   {
    "duration": 302,
    "start_time": "2022-12-29T13:58:10.615Z"
   },
   {
    "duration": 300,
    "start_time": "2022-12-29T13:59:31.212Z"
   },
   {
    "duration": 273,
    "start_time": "2022-12-29T13:59:56.296Z"
   },
   {
    "duration": 288,
    "start_time": "2022-12-29T14:00:00.747Z"
   },
   {
    "duration": 298,
    "start_time": "2022-12-29T14:00:45.005Z"
   },
   {
    "duration": 1855,
    "start_time": "2022-12-29T14:01:10.731Z"
   },
   {
    "duration": 286,
    "start_time": "2022-12-29T14:02:19.290Z"
   },
   {
    "duration": 269,
    "start_time": "2022-12-29T14:02:53.464Z"
   },
   {
    "duration": 297,
    "start_time": "2022-12-29T14:02:59.157Z"
   },
   {
    "duration": 295,
    "start_time": "2022-12-29T14:03:26.588Z"
   },
   {
    "duration": 298,
    "start_time": "2022-12-29T14:07:28.650Z"
   },
   {
    "duration": 195,
    "start_time": "2022-12-29T14:28:07.773Z"
   },
   {
    "duration": 20,
    "start_time": "2022-12-29T14:28:15.954Z"
   },
   {
    "duration": 181,
    "start_time": "2022-12-29T14:28:57.599Z"
   },
   {
    "duration": 19,
    "start_time": "2022-12-29T14:28:58.140Z"
   },
   {
    "duration": 21,
    "start_time": "2022-12-29T14:29:05.067Z"
   },
   {
    "duration": 51,
    "start_time": "2022-12-29T14:29:45.637Z"
   },
   {
    "duration": 21,
    "start_time": "2022-12-29T14:30:12.536Z"
   },
   {
    "duration": 12,
    "start_time": "2022-12-29T14:30:37.271Z"
   },
   {
    "duration": 39,
    "start_time": "2022-12-29T14:30:44.080Z"
   },
   {
    "duration": 169,
    "start_time": "2022-12-29T14:36:15.035Z"
   },
   {
    "duration": 190,
    "start_time": "2022-12-29T14:38:31.845Z"
   },
   {
    "duration": 38,
    "start_time": "2022-12-29T14:38:39.129Z"
   },
   {
    "duration": 21,
    "start_time": "2022-12-29T14:39:08.987Z"
   },
   {
    "duration": 20,
    "start_time": "2022-12-29T14:41:37.775Z"
   },
   {
    "duration": 38,
    "start_time": "2022-12-29T14:43:17.498Z"
   },
   {
    "duration": 7,
    "start_time": "2022-12-29T15:12:37.987Z"
   },
   {
    "duration": 12,
    "start_time": "2022-12-29T15:14:18.042Z"
   },
   {
    "duration": 39,
    "start_time": "2022-12-29T15:15:20.853Z"
   },
   {
    "duration": 38,
    "start_time": "2022-12-29T15:15:49.549Z"
   },
   {
    "duration": 43,
    "start_time": "2022-12-29T15:16:37.290Z"
   },
   {
    "duration": 36,
    "start_time": "2022-12-29T15:16:49.394Z"
   },
   {
    "duration": 35,
    "start_time": "2022-12-29T15:19:24.493Z"
   },
   {
    "duration": 40,
    "start_time": "2022-12-29T15:19:51.682Z"
   },
   {
    "duration": 38,
    "start_time": "2022-12-29T15:20:48.229Z"
   },
   {
    "duration": 24,
    "start_time": "2022-12-29T15:21:01.798Z"
   },
   {
    "duration": 23,
    "start_time": "2022-12-29T15:21:09.817Z"
   },
   {
    "duration": 50,
    "start_time": "2022-12-29T15:22:57.278Z"
   },
   {
    "duration": 38,
    "start_time": "2022-12-29T15:23:06.351Z"
   },
   {
    "duration": 30,
    "start_time": "2022-12-29T15:23:30.150Z"
   },
   {
    "duration": 42,
    "start_time": "2022-12-29T15:28:15.555Z"
   },
   {
    "duration": 30,
    "start_time": "2022-12-29T15:28:16.873Z"
   },
   {
    "duration": 67,
    "start_time": "2022-12-29T15:34:53.939Z"
   },
   {
    "duration": 38,
    "start_time": "2022-12-29T15:35:40.838Z"
   },
   {
    "duration": 38,
    "start_time": "2022-12-29T15:35:46.730Z"
   },
   {
    "duration": 73,
    "start_time": "2022-12-29T15:59:56.088Z"
   },
   {
    "duration": 9,
    "start_time": "2022-12-29T16:00:45.009Z"
   },
   {
    "duration": 8,
    "start_time": "2022-12-29T16:00:54.173Z"
   },
   {
    "duration": 12,
    "start_time": "2022-12-29T16:00:59.671Z"
   },
   {
    "duration": 20,
    "start_time": "2022-12-29T16:01:10.927Z"
   },
   {
    "duration": 490,
    "start_time": "2022-12-29T16:24:36.139Z"
   },
   {
    "duration": 21,
    "start_time": "2022-12-29T16:24:36.631Z"
   },
   {
    "duration": 13,
    "start_time": "2022-12-29T16:24:36.654Z"
   },
   {
    "duration": 8,
    "start_time": "2022-12-29T16:24:36.669Z"
   },
   {
    "duration": 48,
    "start_time": "2022-12-29T16:24:36.679Z"
   },
   {
    "duration": 3,
    "start_time": "2022-12-29T16:24:36.729Z"
   },
   {
    "duration": 11,
    "start_time": "2022-12-29T16:24:36.734Z"
   },
   {
    "duration": 7,
    "start_time": "2022-12-29T16:24:36.747Z"
   },
   {
    "duration": 9,
    "start_time": "2022-12-29T16:24:36.755Z"
   },
   {
    "duration": 7,
    "start_time": "2022-12-29T16:24:36.767Z"
   },
   {
    "duration": 54,
    "start_time": "2022-12-29T16:24:36.775Z"
   },
   {
    "duration": 13,
    "start_time": "2022-12-29T16:24:36.831Z"
   },
   {
    "duration": 4,
    "start_time": "2022-12-29T16:24:36.846Z"
   },
   {
    "duration": 13,
    "start_time": "2022-12-29T16:24:36.851Z"
   },
   {
    "duration": 20,
    "start_time": "2022-12-29T16:24:36.866Z"
   },
   {
    "duration": 43,
    "start_time": "2022-12-29T16:24:36.888Z"
   },
   {
    "duration": 5,
    "start_time": "2022-12-29T16:24:36.932Z"
   },
   {
    "duration": 13,
    "start_time": "2022-12-29T16:24:36.938Z"
   },
   {
    "duration": 6,
    "start_time": "2022-12-29T16:24:36.952Z"
   },
   {
    "duration": 4,
    "start_time": "2022-12-29T16:24:36.960Z"
   },
   {
    "duration": 10,
    "start_time": "2022-12-29T16:24:36.966Z"
   },
   {
    "duration": 5,
    "start_time": "2022-12-29T16:24:36.978Z"
   },
   {
    "duration": 45,
    "start_time": "2022-12-29T16:24:36.985Z"
   },
   {
    "duration": 7,
    "start_time": "2022-12-29T16:24:37.032Z"
   },
   {
    "duration": 13,
    "start_time": "2022-12-29T16:24:37.041Z"
   },
   {
    "duration": 18,
    "start_time": "2022-12-29T16:24:37.055Z"
   },
   {
    "duration": 12,
    "start_time": "2022-12-29T16:24:37.075Z"
   },
   {
    "duration": 36,
    "start_time": "2022-12-29T16:24:37.090Z"
   },
   {
    "duration": 62,
    "start_time": "2022-12-29T16:24:37.128Z"
   },
   {
    "duration": 0,
    "start_time": "2022-12-29T16:24:37.191Z"
   },
   {
    "duration": 0,
    "start_time": "2022-12-29T16:24:37.193Z"
   },
   {
    "duration": 0,
    "start_time": "2022-12-29T16:24:37.195Z"
   },
   {
    "duration": 0,
    "start_time": "2022-12-29T16:24:37.196Z"
   },
   {
    "duration": 0,
    "start_time": "2022-12-29T16:24:37.197Z"
   },
   {
    "duration": 0,
    "start_time": "2022-12-29T16:24:37.198Z"
   },
   {
    "duration": 0,
    "start_time": "2022-12-29T16:24:37.199Z"
   },
   {
    "duration": 0,
    "start_time": "2022-12-29T16:24:37.200Z"
   },
   {
    "duration": 0,
    "start_time": "2022-12-29T16:24:37.201Z"
   },
   {
    "duration": 0,
    "start_time": "2022-12-29T16:24:37.226Z"
   },
   {
    "duration": 431,
    "start_time": "2022-12-29T16:24:57.564Z"
   },
   {
    "duration": 22,
    "start_time": "2022-12-29T16:24:57.996Z"
   },
   {
    "duration": 14,
    "start_time": "2022-12-29T16:24:58.019Z"
   },
   {
    "duration": 8,
    "start_time": "2022-12-29T16:24:58.035Z"
   },
   {
    "duration": 46,
    "start_time": "2022-12-29T16:24:58.045Z"
   },
   {
    "duration": 3,
    "start_time": "2022-12-29T16:24:58.093Z"
   },
   {
    "duration": 22,
    "start_time": "2022-12-29T16:24:58.098Z"
   },
   {
    "duration": 22,
    "start_time": "2022-12-29T16:24:58.122Z"
   },
   {
    "duration": 16,
    "start_time": "2022-12-29T16:24:58.146Z"
   },
   {
    "duration": 13,
    "start_time": "2022-12-29T16:24:58.166Z"
   },
   {
    "duration": 51,
    "start_time": "2022-12-29T16:24:58.181Z"
   },
   {
    "duration": 10,
    "start_time": "2022-12-29T16:24:58.234Z"
   },
   {
    "duration": 5,
    "start_time": "2022-12-29T16:24:58.246Z"
   },
   {
    "duration": 23,
    "start_time": "2022-12-29T16:24:58.253Z"
   },
   {
    "duration": 34,
    "start_time": "2022-12-29T16:24:58.278Z"
   },
   {
    "duration": 18,
    "start_time": "2022-12-29T16:24:58.314Z"
   },
   {
    "duration": 3,
    "start_time": "2022-12-29T16:24:58.333Z"
   },
   {
    "duration": 19,
    "start_time": "2022-12-29T16:24:58.338Z"
   },
   {
    "duration": 10,
    "start_time": "2022-12-29T16:24:58.358Z"
   },
   {
    "duration": 16,
    "start_time": "2022-12-29T16:24:58.369Z"
   },
   {
    "duration": 12,
    "start_time": "2022-12-29T16:24:58.387Z"
   },
   {
    "duration": 11,
    "start_time": "2022-12-29T16:24:58.400Z"
   },
   {
    "duration": 15,
    "start_time": "2022-12-29T16:24:58.412Z"
   },
   {
    "duration": 6,
    "start_time": "2022-12-29T16:24:58.429Z"
   },
   {
    "duration": 24,
    "start_time": "2022-12-29T16:24:58.437Z"
   },
   {
    "duration": 40,
    "start_time": "2022-12-29T16:24:58.462Z"
   },
   {
    "duration": 33,
    "start_time": "2022-12-29T16:24:58.503Z"
   },
   {
    "duration": 27,
    "start_time": "2022-12-29T16:24:58.539Z"
   },
   {
    "duration": 29,
    "start_time": "2022-12-29T16:24:58.568Z"
   },
   {
    "duration": 70,
    "start_time": "2022-12-29T16:24:58.599Z"
   },
   {
    "duration": 0,
    "start_time": "2022-12-29T16:24:58.671Z"
   },
   {
    "duration": 0,
    "start_time": "2022-12-29T16:24:58.673Z"
   },
   {
    "duration": 0,
    "start_time": "2022-12-29T16:24:58.674Z"
   },
   {
    "duration": 0,
    "start_time": "2022-12-29T16:24:58.675Z"
   },
   {
    "duration": 0,
    "start_time": "2022-12-29T16:24:58.677Z"
   },
   {
    "duration": 0,
    "start_time": "2022-12-29T16:24:58.679Z"
   },
   {
    "duration": 0,
    "start_time": "2022-12-29T16:24:58.680Z"
   },
   {
    "duration": 0,
    "start_time": "2022-12-29T16:24:58.681Z"
   },
   {
    "duration": 0,
    "start_time": "2022-12-29T16:24:58.683Z"
   },
   {
    "duration": 444,
    "start_time": "2022-12-29T16:25:22.156Z"
   },
   {
    "duration": 30,
    "start_time": "2022-12-29T16:25:22.601Z"
   },
   {
    "duration": 29,
    "start_time": "2022-12-29T16:25:22.632Z"
   },
   {
    "duration": 31,
    "start_time": "2022-12-29T16:25:22.663Z"
   },
   {
    "duration": 83,
    "start_time": "2022-12-29T16:25:22.695Z"
   },
   {
    "duration": 48,
    "start_time": "2022-12-29T16:25:22.780Z"
   },
   {
    "duration": 77,
    "start_time": "2022-12-29T16:25:22.830Z"
   },
   {
    "duration": 29,
    "start_time": "2022-12-29T16:25:22.909Z"
   },
   {
    "duration": 51,
    "start_time": "2022-12-29T16:25:22.941Z"
   },
   {
    "duration": 65,
    "start_time": "2022-12-29T16:25:22.996Z"
   },
   {
    "duration": 70,
    "start_time": "2022-12-29T16:25:23.062Z"
   },
   {
    "duration": 18,
    "start_time": "2022-12-29T16:25:23.134Z"
   },
   {
    "duration": 42,
    "start_time": "2022-12-29T16:25:23.154Z"
   },
   {
    "duration": 50,
    "start_time": "2022-12-29T16:25:23.198Z"
   },
   {
    "duration": 81,
    "start_time": "2022-12-29T16:25:23.250Z"
   },
   {
    "duration": 48,
    "start_time": "2022-12-29T16:25:23.333Z"
   },
   {
    "duration": 58,
    "start_time": "2022-12-29T16:25:23.382Z"
   },
   {
    "duration": 46,
    "start_time": "2022-12-29T16:25:23.442Z"
   },
   {
    "duration": 47,
    "start_time": "2022-12-29T16:25:23.489Z"
   },
   {
    "duration": 38,
    "start_time": "2022-12-29T16:25:23.538Z"
   },
   {
    "duration": 39,
    "start_time": "2022-12-29T16:25:23.578Z"
   },
   {
    "duration": 52,
    "start_time": "2022-12-29T16:25:23.619Z"
   },
   {
    "duration": 55,
    "start_time": "2022-12-29T16:25:23.673Z"
   },
   {
    "duration": 45,
    "start_time": "2022-12-29T16:25:23.730Z"
   },
   {
    "duration": 63,
    "start_time": "2022-12-29T16:25:23.777Z"
   },
   {
    "duration": 62,
    "start_time": "2022-12-29T16:25:23.842Z"
   },
   {
    "duration": 61,
    "start_time": "2022-12-29T16:25:23.906Z"
   },
   {
    "duration": 39,
    "start_time": "2022-12-29T16:25:23.970Z"
   },
   {
    "duration": 72,
    "start_time": "2022-12-29T16:25:24.011Z"
   },
   {
    "duration": 346,
    "start_time": "2022-12-29T16:25:24.085Z"
   },
   {
    "duration": 7,
    "start_time": "2022-12-29T16:25:24.433Z"
   },
   {
    "duration": 50,
    "start_time": "2022-12-29T16:25:24.442Z"
   },
   {
    "duration": 252,
    "start_time": "2022-12-29T16:25:24.495Z"
   },
   {
    "duration": 24,
    "start_time": "2022-12-29T16:25:24.749Z"
   },
   {
    "duration": 77,
    "start_time": "2022-12-29T16:25:24.775Z"
   },
   {
    "duration": 9,
    "start_time": "2022-12-29T16:25:24.853Z"
   },
   {
    "duration": 62,
    "start_time": "2022-12-29T16:25:24.863Z"
   },
   {
    "duration": 85,
    "start_time": "2022-12-29T16:25:24.927Z"
   },
   {
    "duration": 45,
    "start_time": "2022-12-29T16:25:25.013Z"
   },
   {
    "duration": 15,
    "start_time": "2022-12-29T16:25:52.001Z"
   },
   {
    "duration": 13,
    "start_time": "2022-12-29T16:26:00.212Z"
   },
   {
    "duration": 484,
    "start_time": "2022-12-29T16:26:13.419Z"
   },
   {
    "duration": 23,
    "start_time": "2022-12-29T16:26:13.904Z"
   },
   {
    "duration": 14,
    "start_time": "2022-12-29T16:26:13.929Z"
   },
   {
    "duration": 9,
    "start_time": "2022-12-29T16:26:13.945Z"
   },
   {
    "duration": 36,
    "start_time": "2022-12-29T16:26:13.956Z"
   },
   {
    "duration": 3,
    "start_time": "2022-12-29T16:26:13.993Z"
   },
   {
    "duration": 33,
    "start_time": "2022-12-29T16:26:13.998Z"
   },
   {
    "duration": 5,
    "start_time": "2022-12-29T16:26:14.032Z"
   },
   {
    "duration": 13,
    "start_time": "2022-12-29T16:26:14.038Z"
   },
   {
    "duration": 5,
    "start_time": "2022-12-29T16:26:14.054Z"
   },
   {
    "duration": 36,
    "start_time": "2022-12-29T16:26:14.060Z"
   },
   {
    "duration": 8,
    "start_time": "2022-12-29T16:26:14.098Z"
   },
   {
    "duration": 22,
    "start_time": "2022-12-29T16:26:14.107Z"
   },
   {
    "duration": 12,
    "start_time": "2022-12-29T16:26:14.131Z"
   },
   {
    "duration": 21,
    "start_time": "2022-12-29T16:26:14.144Z"
   },
   {
    "duration": 15,
    "start_time": "2022-12-29T16:26:14.167Z"
   },
   {
    "duration": 3,
    "start_time": "2022-12-29T16:26:14.184Z"
   },
   {
    "duration": 20,
    "start_time": "2022-12-29T16:26:14.188Z"
   },
   {
    "duration": 19,
    "start_time": "2022-12-29T16:26:14.209Z"
   },
   {
    "duration": 4,
    "start_time": "2022-12-29T16:26:14.230Z"
   },
   {
    "duration": 11,
    "start_time": "2022-12-29T16:26:14.235Z"
   },
   {
    "duration": 5,
    "start_time": "2022-12-29T16:26:14.248Z"
   },
   {
    "duration": 13,
    "start_time": "2022-12-29T16:26:14.254Z"
   },
   {
    "duration": 11,
    "start_time": "2022-12-29T16:26:14.269Z"
   },
   {
    "duration": 16,
    "start_time": "2022-12-29T16:26:14.281Z"
   },
   {
    "duration": 41,
    "start_time": "2022-12-29T16:26:14.299Z"
   },
   {
    "duration": 8,
    "start_time": "2022-12-29T16:26:14.342Z"
   },
   {
    "duration": 11,
    "start_time": "2022-12-29T16:26:14.353Z"
   },
   {
    "duration": 24,
    "start_time": "2022-12-29T16:26:14.365Z"
   },
   {
    "duration": 319,
    "start_time": "2022-12-29T16:26:14.391Z"
   },
   {
    "duration": 7,
    "start_time": "2022-12-29T16:26:14.712Z"
   },
   {
    "duration": 19,
    "start_time": "2022-12-29T16:26:14.720Z"
   },
   {
    "duration": 225,
    "start_time": "2022-12-29T16:26:14.740Z"
   },
   {
    "duration": 27,
    "start_time": "2022-12-29T16:26:14.966Z"
   },
   {
    "duration": 49,
    "start_time": "2022-12-29T16:26:14.995Z"
   },
   {
    "duration": 7,
    "start_time": "2022-12-29T16:26:15.045Z"
   },
   {
    "duration": 31,
    "start_time": "2022-12-29T16:26:15.053Z"
   },
   {
    "duration": 40,
    "start_time": "2022-12-29T16:26:15.085Z"
   },
   {
    "duration": 33,
    "start_time": "2022-12-29T16:26:15.127Z"
   },
   {
    "duration": 739,
    "start_time": "2022-12-30T08:01:47.137Z"
   },
   {
    "duration": 36,
    "start_time": "2022-12-30T08:01:47.879Z"
   },
   {
    "duration": 16,
    "start_time": "2022-12-30T08:01:47.916Z"
   },
   {
    "duration": 10,
    "start_time": "2022-12-30T08:01:47.934Z"
   },
   {
    "duration": 71,
    "start_time": "2022-12-30T08:01:47.946Z"
   },
   {
    "duration": 5,
    "start_time": "2022-12-30T08:01:48.018Z"
   },
   {
    "duration": 16,
    "start_time": "2022-12-30T08:01:48.026Z"
   },
   {
    "duration": 6,
    "start_time": "2022-12-30T08:01:48.044Z"
   },
   {
    "duration": 30,
    "start_time": "2022-12-30T08:01:48.052Z"
   },
   {
    "duration": 18,
    "start_time": "2022-12-30T08:01:48.087Z"
   },
   {
    "duration": 36,
    "start_time": "2022-12-30T08:01:48.107Z"
   },
   {
    "duration": 10,
    "start_time": "2022-12-30T08:01:48.144Z"
   },
   {
    "duration": 22,
    "start_time": "2022-12-30T08:01:48.156Z"
   },
   {
    "duration": 19,
    "start_time": "2022-12-30T08:01:48.181Z"
   },
   {
    "duration": 26,
    "start_time": "2022-12-30T08:01:48.202Z"
   },
   {
    "duration": 23,
    "start_time": "2022-12-30T08:01:48.229Z"
   },
   {
    "duration": 5,
    "start_time": "2022-12-30T08:01:48.278Z"
   },
   {
    "duration": 63,
    "start_time": "2022-12-30T08:01:48.285Z"
   },
   {
    "duration": 21,
    "start_time": "2022-12-30T08:01:48.350Z"
   },
   {
    "duration": 5,
    "start_time": "2022-12-30T08:01:48.373Z"
   },
   {
    "duration": 79,
    "start_time": "2022-12-30T08:01:48.379Z"
   },
   {
    "duration": 15,
    "start_time": "2022-12-30T08:01:48.460Z"
   },
   {
    "duration": 40,
    "start_time": "2022-12-30T08:01:48.478Z"
   },
   {
    "duration": 10,
    "start_time": "2022-12-30T08:01:48.520Z"
   },
   {
    "duration": 15,
    "start_time": "2022-12-30T08:01:48.532Z"
   },
   {
    "duration": 31,
    "start_time": "2022-12-30T08:01:48.549Z"
   },
   {
    "duration": 97,
    "start_time": "2022-12-30T08:01:48.582Z"
   },
   {
    "duration": 0,
    "start_time": "2022-12-30T08:01:48.681Z"
   },
   {
    "duration": 0,
    "start_time": "2022-12-30T08:01:48.683Z"
   },
   {
    "duration": 0,
    "start_time": "2022-12-30T08:01:48.684Z"
   },
   {
    "duration": 0,
    "start_time": "2022-12-30T08:01:48.686Z"
   },
   {
    "duration": 0,
    "start_time": "2022-12-30T08:01:48.688Z"
   },
   {
    "duration": 0,
    "start_time": "2022-12-30T08:01:48.689Z"
   },
   {
    "duration": 0,
    "start_time": "2022-12-30T08:01:48.691Z"
   },
   {
    "duration": 0,
    "start_time": "2022-12-30T08:01:48.692Z"
   },
   {
    "duration": 0,
    "start_time": "2022-12-30T08:01:48.694Z"
   },
   {
    "duration": 0,
    "start_time": "2022-12-30T08:01:48.695Z"
   },
   {
    "duration": 0,
    "start_time": "2022-12-30T08:01:48.697Z"
   },
   {
    "duration": 0,
    "start_time": "2022-12-30T08:01:48.698Z"
   },
   {
    "duration": 0,
    "start_time": "2022-12-30T08:01:48.700Z"
   },
   {
    "duration": 46,
    "start_time": "2022-12-30T08:05:26.895Z"
   },
   {
    "duration": 11,
    "start_time": "2022-12-30T08:09:26.844Z"
   },
   {
    "duration": 16,
    "start_time": "2022-12-30T08:09:36.616Z"
   },
   {
    "duration": 60,
    "start_time": "2022-12-30T08:11:50.935Z"
   },
   {
    "duration": 58,
    "start_time": "2022-12-30T08:12:24.662Z"
   },
   {
    "duration": 36,
    "start_time": "2022-12-30T08:12:47.541Z"
   },
   {
    "duration": 43,
    "start_time": "2022-12-30T08:16:32.452Z"
   },
   {
    "duration": 45,
    "start_time": "2022-12-30T08:16:41.370Z"
   },
   {
    "duration": 12,
    "start_time": "2022-12-30T08:21:19.465Z"
   },
   {
    "duration": 22,
    "start_time": "2022-12-30T08:21:21.410Z"
   },
   {
    "duration": 520,
    "start_time": "2022-12-30T08:21:30.906Z"
   },
   {
    "duration": 27,
    "start_time": "2022-12-30T08:21:31.428Z"
   },
   {
    "duration": 39,
    "start_time": "2022-12-30T08:21:31.457Z"
   },
   {
    "duration": 25,
    "start_time": "2022-12-30T08:21:31.500Z"
   },
   {
    "duration": 55,
    "start_time": "2022-12-30T08:21:31.528Z"
   },
   {
    "duration": 4,
    "start_time": "2022-12-30T08:21:31.585Z"
   },
   {
    "duration": 8,
    "start_time": "2022-12-30T08:21:31.591Z"
   },
   {
    "duration": 12,
    "start_time": "2022-12-30T08:21:31.601Z"
   },
   {
    "duration": 15,
    "start_time": "2022-12-30T08:21:31.615Z"
   },
   {
    "duration": 5,
    "start_time": "2022-12-30T08:21:31.633Z"
   },
   {
    "duration": 72,
    "start_time": "2022-12-30T08:21:31.640Z"
   },
   {
    "duration": 12,
    "start_time": "2022-12-30T08:21:31.714Z"
   },
   {
    "duration": 12,
    "start_time": "2022-12-30T08:21:31.728Z"
   },
   {
    "duration": 23,
    "start_time": "2022-12-30T08:21:31.742Z"
   },
   {
    "duration": 38,
    "start_time": "2022-12-30T08:21:31.777Z"
   },
   {
    "duration": 34,
    "start_time": "2022-12-30T08:21:31.817Z"
   },
   {
    "duration": 7,
    "start_time": "2022-12-30T08:21:31.853Z"
   },
   {
    "duration": 51,
    "start_time": "2022-12-30T08:21:31.862Z"
   },
   {
    "duration": 94,
    "start_time": "2022-12-30T08:21:31.915Z"
   },
   {
    "duration": 9,
    "start_time": "2022-12-30T08:21:32.011Z"
   },
   {
    "duration": 22,
    "start_time": "2022-12-30T08:21:32.022Z"
   },
   {
    "duration": 8,
    "start_time": "2022-12-30T08:21:32.046Z"
   },
   {
    "duration": 32,
    "start_time": "2022-12-30T08:21:32.056Z"
   },
   {
    "duration": 27,
    "start_time": "2022-12-30T08:21:32.090Z"
   },
   {
    "duration": 35,
    "start_time": "2022-12-30T08:21:32.120Z"
   },
   {
    "duration": 39,
    "start_time": "2022-12-30T08:21:32.158Z"
   },
   {
    "duration": 76,
    "start_time": "2022-12-30T08:21:32.199Z"
   },
   {
    "duration": 14,
    "start_time": "2022-12-30T08:21:32.280Z"
   },
   {
    "duration": 27,
    "start_time": "2022-12-30T08:21:32.296Z"
   },
   {
    "duration": 43,
    "start_time": "2022-12-30T08:21:32.325Z"
   },
   {
    "duration": 545,
    "start_time": "2022-12-30T08:21:32.370Z"
   },
   {
    "duration": 12,
    "start_time": "2022-12-30T08:21:32.918Z"
   },
   {
    "duration": 46,
    "start_time": "2022-12-30T08:21:32.932Z"
   },
   {
    "duration": 254,
    "start_time": "2022-12-30T08:21:32.980Z"
   },
   {
    "duration": 26,
    "start_time": "2022-12-30T08:21:33.236Z"
   },
   {
    "duration": 59,
    "start_time": "2022-12-30T08:21:33.264Z"
   },
   {
    "duration": 7,
    "start_time": "2022-12-30T08:21:33.325Z"
   },
   {
    "duration": 19,
    "start_time": "2022-12-30T08:21:33.333Z"
   },
   {
    "duration": 80,
    "start_time": "2022-12-30T08:21:33.354Z"
   },
   {
    "duration": 74,
    "start_time": "2022-12-30T08:21:33.436Z"
   },
   {
    "duration": 51,
    "start_time": "2022-12-30T08:23:28.762Z"
   },
   {
    "duration": 212,
    "start_time": "2022-12-30T08:25:40.796Z"
   },
   {
    "duration": 38,
    "start_time": "2022-12-30T08:26:03.903Z"
   },
   {
    "duration": 50,
    "start_time": "2022-12-30T08:27:45.110Z"
   },
   {
    "duration": 57,
    "start_time": "2022-12-30T08:34:08.454Z"
   },
   {
    "duration": 60,
    "start_time": "2022-12-30T08:39:41.195Z"
   },
   {
    "duration": 54,
    "start_time": "2022-12-30T08:39:47.615Z"
   },
   {
    "duration": 65,
    "start_time": "2022-12-30T08:50:51.003Z"
   },
   {
    "duration": 45,
    "start_time": "2022-12-30T08:52:23.223Z"
   },
   {
    "duration": 40,
    "start_time": "2022-12-30T08:53:04.917Z"
   },
   {
    "duration": 65,
    "start_time": "2022-12-30T09:15:37.607Z"
   },
   {
    "duration": 71,
    "start_time": "2022-12-30T09:15:52.665Z"
   },
   {
    "duration": 517,
    "start_time": "2022-12-30T09:33:27.168Z"
   },
   {
    "duration": 26,
    "start_time": "2022-12-30T09:33:27.687Z"
   },
   {
    "duration": 25,
    "start_time": "2022-12-30T09:33:27.715Z"
   },
   {
    "duration": 9,
    "start_time": "2022-12-30T09:33:27.743Z"
   },
   {
    "duration": 58,
    "start_time": "2022-12-30T09:33:27.754Z"
   },
   {
    "duration": 3,
    "start_time": "2022-12-30T09:33:27.814Z"
   },
   {
    "duration": 23,
    "start_time": "2022-12-30T09:33:27.819Z"
   },
   {
    "duration": 9,
    "start_time": "2022-12-30T09:33:27.844Z"
   },
   {
    "duration": 45,
    "start_time": "2022-12-30T09:33:27.855Z"
   },
   {
    "duration": 27,
    "start_time": "2022-12-30T09:33:27.906Z"
   },
   {
    "duration": 37,
    "start_time": "2022-12-30T09:33:27.935Z"
   },
   {
    "duration": 12,
    "start_time": "2022-12-30T09:33:27.973Z"
   },
   {
    "duration": 21,
    "start_time": "2022-12-30T09:33:27.987Z"
   },
   {
    "duration": 15,
    "start_time": "2022-12-30T09:33:28.010Z"
   },
   {
    "duration": 24,
    "start_time": "2022-12-30T09:33:28.027Z"
   },
   {
    "duration": 26,
    "start_time": "2022-12-30T09:33:28.052Z"
   },
   {
    "duration": 22,
    "start_time": "2022-12-30T09:33:28.080Z"
   },
   {
    "duration": 20,
    "start_time": "2022-12-30T09:33:28.103Z"
   },
   {
    "duration": 23,
    "start_time": "2022-12-30T09:33:28.125Z"
   },
   {
    "duration": 7,
    "start_time": "2022-12-30T09:33:28.150Z"
   },
   {
    "duration": 14,
    "start_time": "2022-12-30T09:33:28.158Z"
   },
   {
    "duration": 33,
    "start_time": "2022-12-30T09:33:28.174Z"
   },
   {
    "duration": 65,
    "start_time": "2022-12-30T09:33:28.209Z"
   },
   {
    "duration": 41,
    "start_time": "2022-12-30T09:33:28.276Z"
   },
   {
    "duration": 10,
    "start_time": "2022-12-30T09:33:28.319Z"
   },
   {
    "duration": 41,
    "start_time": "2022-12-30T09:33:28.332Z"
   },
   {
    "duration": 74,
    "start_time": "2022-12-30T09:33:28.375Z"
   },
   {
    "duration": 10,
    "start_time": "2022-12-30T09:33:28.453Z"
   },
   {
    "duration": 94,
    "start_time": "2022-12-30T09:33:28.466Z"
   },
   {
    "duration": 68,
    "start_time": "2022-12-30T09:33:28.562Z"
   },
   {
    "duration": 11,
    "start_time": "2022-12-30T09:33:28.633Z"
   },
   {
    "duration": 61,
    "start_time": "2022-12-30T09:33:28.647Z"
   },
   {
    "duration": 255,
    "start_time": "2022-12-30T09:33:28.709Z"
   },
   {
    "duration": 36,
    "start_time": "2022-12-30T09:33:28.966Z"
   },
   {
    "duration": 324,
    "start_time": "2022-12-30T09:33:29.004Z"
   },
   {
    "duration": 7,
    "start_time": "2022-12-30T09:33:29.330Z"
   },
   {
    "duration": 59,
    "start_time": "2022-12-30T09:33:29.339Z"
   },
   {
    "duration": 40,
    "start_time": "2022-12-30T09:33:29.400Z"
   },
   {
    "duration": 66,
    "start_time": "2022-12-30T09:33:29.442Z"
   },
   {
    "duration": 19,
    "start_time": "2022-12-30T09:39:11.575Z"
   },
   {
    "duration": 50,
    "start_time": "2022-12-30T09:39:20.056Z"
   },
   {
    "duration": 494,
    "start_time": "2022-12-30T09:40:13.716Z"
   },
   {
    "duration": 24,
    "start_time": "2022-12-30T09:40:14.212Z"
   },
   {
    "duration": 16,
    "start_time": "2022-12-30T09:40:14.238Z"
   },
   {
    "duration": 27,
    "start_time": "2022-12-30T09:40:14.256Z"
   },
   {
    "duration": 47,
    "start_time": "2022-12-30T09:40:14.285Z"
   },
   {
    "duration": 4,
    "start_time": "2022-12-30T09:40:14.334Z"
   },
   {
    "duration": 11,
    "start_time": "2022-12-30T09:40:14.340Z"
   },
   {
    "duration": 5,
    "start_time": "2022-12-30T09:40:14.353Z"
   },
   {
    "duration": 25,
    "start_time": "2022-12-30T09:40:14.359Z"
   },
   {
    "duration": 14,
    "start_time": "2022-12-30T09:40:14.389Z"
   },
   {
    "duration": 36,
    "start_time": "2022-12-30T09:40:14.404Z"
   },
   {
    "duration": 9,
    "start_time": "2022-12-30T09:40:14.442Z"
   },
   {
    "duration": 27,
    "start_time": "2022-12-30T09:40:14.453Z"
   },
   {
    "duration": 29,
    "start_time": "2022-12-30T09:40:14.483Z"
   },
   {
    "duration": 31,
    "start_time": "2022-12-30T09:40:14.514Z"
   },
   {
    "duration": 19,
    "start_time": "2022-12-30T09:40:14.547Z"
   },
   {
    "duration": 11,
    "start_time": "2022-12-30T09:40:14.568Z"
   },
   {
    "duration": 40,
    "start_time": "2022-12-30T09:40:14.581Z"
   },
   {
    "duration": 14,
    "start_time": "2022-12-30T09:40:14.624Z"
   },
   {
    "duration": 6,
    "start_time": "2022-12-30T09:40:14.640Z"
   },
   {
    "duration": 13,
    "start_time": "2022-12-30T09:40:14.648Z"
   },
   {
    "duration": 35,
    "start_time": "2022-12-30T09:40:14.663Z"
   },
   {
    "duration": 17,
    "start_time": "2022-12-30T09:40:14.700Z"
   },
   {
    "duration": 9,
    "start_time": "2022-12-30T09:40:14.719Z"
   },
   {
    "duration": 14,
    "start_time": "2022-12-30T09:40:14.730Z"
   },
   {
    "duration": 28,
    "start_time": "2022-12-30T09:40:14.746Z"
   },
   {
    "duration": 50,
    "start_time": "2022-12-30T09:40:14.778Z"
   },
   {
    "duration": 11,
    "start_time": "2022-12-30T09:40:14.831Z"
   },
   {
    "duration": 64,
    "start_time": "2022-12-30T09:40:14.844Z"
   },
   {
    "duration": 51,
    "start_time": "2022-12-30T09:40:14.910Z"
   },
   {
    "duration": 11,
    "start_time": "2022-12-30T09:40:14.977Z"
   },
   {
    "duration": 68,
    "start_time": "2022-12-30T09:40:14.989Z"
   },
   {
    "duration": 255,
    "start_time": "2022-12-30T09:40:15.060Z"
   },
   {
    "duration": 29,
    "start_time": "2022-12-30T09:40:15.317Z"
   },
   {
    "duration": 359,
    "start_time": "2022-12-30T09:40:15.348Z"
   },
   {
    "duration": 7,
    "start_time": "2022-12-30T09:40:15.709Z"
   },
   {
    "duration": 40,
    "start_time": "2022-12-30T09:40:15.718Z"
   },
   {
    "duration": 63,
    "start_time": "2022-12-30T09:40:15.760Z"
   },
   {
    "duration": 57,
    "start_time": "2022-12-30T09:40:15.825Z"
   },
   {
    "duration": 512,
    "start_time": "2022-12-30T09:42:31.365Z"
   },
   {
    "duration": 25,
    "start_time": "2022-12-30T09:42:31.880Z"
   },
   {
    "duration": 20,
    "start_time": "2022-12-30T09:42:31.906Z"
   },
   {
    "duration": 32,
    "start_time": "2022-12-30T09:42:31.928Z"
   },
   {
    "duration": 45,
    "start_time": "2022-12-30T09:42:31.962Z"
   },
   {
    "duration": 3,
    "start_time": "2022-12-30T09:42:32.009Z"
   },
   {
    "duration": 48,
    "start_time": "2022-12-30T09:42:32.014Z"
   },
   {
    "duration": 20,
    "start_time": "2022-12-30T09:42:32.064Z"
   },
   {
    "duration": 41,
    "start_time": "2022-12-30T09:42:32.085Z"
   },
   {
    "duration": 27,
    "start_time": "2022-12-30T09:42:32.130Z"
   },
   {
    "duration": 62,
    "start_time": "2022-12-30T09:42:32.158Z"
   },
   {
    "duration": 9,
    "start_time": "2022-12-30T09:42:32.222Z"
   },
   {
    "duration": 20,
    "start_time": "2022-12-30T09:42:32.233Z"
   },
   {
    "duration": 31,
    "start_time": "2022-12-30T09:42:32.254Z"
   },
   {
    "duration": 24,
    "start_time": "2022-12-30T09:42:32.287Z"
   },
   {
    "duration": 26,
    "start_time": "2022-12-30T09:42:32.312Z"
   },
   {
    "duration": 9,
    "start_time": "2022-12-30T09:42:32.340Z"
   },
   {
    "duration": 33,
    "start_time": "2022-12-30T09:42:32.350Z"
   },
   {
    "duration": 25,
    "start_time": "2022-12-30T09:42:32.385Z"
   },
   {
    "duration": 20,
    "start_time": "2022-12-30T09:42:32.411Z"
   },
   {
    "duration": 42,
    "start_time": "2022-12-30T09:42:32.433Z"
   },
   {
    "duration": 24,
    "start_time": "2022-12-30T09:42:32.477Z"
   },
   {
    "duration": 35,
    "start_time": "2022-12-30T09:42:32.503Z"
   },
   {
    "duration": 17,
    "start_time": "2022-12-30T09:42:32.540Z"
   },
   {
    "duration": 14,
    "start_time": "2022-12-30T09:42:32.559Z"
   },
   {
    "duration": 23,
    "start_time": "2022-12-30T09:42:32.575Z"
   },
   {
    "duration": 35,
    "start_time": "2022-12-30T09:42:32.600Z"
   },
   {
    "duration": 13,
    "start_time": "2022-12-30T09:42:32.638Z"
   },
   {
    "duration": 62,
    "start_time": "2022-12-30T09:42:32.653Z"
   },
   {
    "duration": 46,
    "start_time": "2022-12-30T09:42:32.717Z"
   },
   {
    "duration": 18,
    "start_time": "2022-12-30T09:42:32.764Z"
   },
   {
    "duration": 42,
    "start_time": "2022-12-30T09:42:32.784Z"
   },
   {
    "duration": 218,
    "start_time": "2022-12-30T09:42:32.828Z"
   },
   {
    "duration": 32,
    "start_time": "2022-12-30T09:42:33.048Z"
   },
   {
    "duration": 309,
    "start_time": "2022-12-30T09:42:33.082Z"
   },
   {
    "duration": 8,
    "start_time": "2022-12-30T09:42:33.393Z"
   },
   {
    "duration": 58,
    "start_time": "2022-12-30T09:42:33.403Z"
   },
   {
    "duration": 42,
    "start_time": "2022-12-30T09:42:33.463Z"
   },
   {
    "duration": 40,
    "start_time": "2022-12-30T09:42:33.507Z"
   }
  ],
  "colab": {
   "name": "dpp_template_part2.ipynb",
   "provenance": []
  },
  "kernelspec": {
   "display_name": "Python 3 (ipykernel)",
   "language": "python",
   "name": "python3"
  },
  "language_info": {
   "codemirror_mode": {
    "name": "ipython",
    "version": 3
   },
   "file_extension": ".py",
   "mimetype": "text/x-python",
   "name": "python",
   "nbconvert_exporter": "python",
   "pygments_lexer": "ipython3",
   "version": "3.9.13"
  },
  "toc": {
   "base_numbering": 1,
   "nav_menu": {},
   "number_sections": true,
   "sideBar": true,
   "skip_h1_title": true,
   "title_cell": "Table of Contents",
   "title_sidebar": "Contents",
   "toc_cell": false,
   "toc_position": {},
   "toc_section_display": true,
   "toc_window_display": false
  }
 },
 "nbformat": 4,
 "nbformat_minor": 5
}
