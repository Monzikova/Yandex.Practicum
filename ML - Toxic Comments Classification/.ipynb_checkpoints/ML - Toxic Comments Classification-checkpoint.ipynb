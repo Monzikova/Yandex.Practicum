{
 "cells": [
  {
   "cell_type": "markdown",
   "metadata": {
    "id": "Ji7J3f6tvP60",
    "toc": true
   },
   "source": [
    "<h1>Содержание<span class=\"tocSkip\"></span></h1>\n",
    "<div class=\"toc\"><ul class=\"toc-item\"><li><span><a href=\"#Подготовка\" data-toc-modified-id=\"Подготовка-1\"><span class=\"toc-item-num\">1&nbsp;&nbsp;</span>Подготовка</a></span></li><li><span><a href=\"#Обучение\" data-toc-modified-id=\"Обучение-2\"><span class=\"toc-item-num\">2&nbsp;&nbsp;</span>Обучение</a></span><ul class=\"toc-item\"><li><span><a href=\"#TF-IDF\" data-toc-modified-id=\"TF-IDF-2.1\"><span class=\"toc-item-num\">2.1&nbsp;&nbsp;</span>TF-IDF</a></span></li><li><span><a href=\"#BERT\" data-toc-modified-id=\"BERT-2.2\"><span class=\"toc-item-num\">2.2&nbsp;&nbsp;</span>BERT</a></span></li></ul></li><li><span><a href=\"#Выводы\" data-toc-modified-id=\"Выводы-3\"><span class=\"toc-item-num\">3&nbsp;&nbsp;</span>Выводы</a></span></li><li><span><a href=\"#Чек-лист-проверки\" data-toc-modified-id=\"Чек-лист-проверки-4\"><span class=\"toc-item-num\">4&nbsp;&nbsp;</span>Чек-лист проверки</a></span></li></ul></div>"
   ]
  },
  {
   "cell_type": "markdown",
   "metadata": {
    "id": "UoQ4XEtzvP66"
   },
   "source": [
    "# Классификация комментариев с BERT"
   ]
  },
  {
   "cell_type": "markdown",
   "metadata": {
    "id": "S5syW9dVvP67"
   },
   "source": [
    "Интернет-магазин «Викишоп» запускает новый сервис. Теперь пользователи могут редактировать и дополнять описания товаров, как в вики-сообществах. То есть клиенты предлагают свои правки и комментируют изменения других. Магазину нужен инструмент, который будет искать токсичные комментарии и отправлять их на модерацию. \n",
    "\n",
    "Обучите модель классифицировать комментарии на позитивные и негативные. В вашем распоряжении набор данных с разметкой о токсичности правок.\n",
    "\n",
    "Постройте модель со значением метрики качества *F1* не меньше 0.75. \n",
    "\n",
    "**Описание данных**\n",
    "\n",
    "Данные находятся в файле `toxic_comments.csv`. Столбец *text* в нём содержит текст комментария, а *toxic* — целевой признак."
   ]
  },
  {
   "cell_type": "markdown",
   "metadata": {
    "id": "32igXHT4vP68"
   },
   "source": [
    "## Подготовка"
   ]
  },
  {
   "cell_type": "markdown",
   "metadata": {
    "id": "HWXQwxEpqIdf"
   },
   "source": [
    "Проект выполнялся в Google Colab с GPU, поэтому некоторые библиотеки пришлось доустановить"
   ]
  },
  {
   "cell_type": "code",
   "execution_count": 1,
   "metadata": {
    "id": "E1380XkD5iXO"
   },
   "outputs": [],
   "source": [
    "# иначе не устанавливается transformers \n",
    "import locale\n",
    "locale.getpreferredencoding = lambda: \"UTF-8\""
   ]
  },
  {
   "cell_type": "code",
   "execution_count": 2,
   "metadata": {
    "colab": {
     "base_uri": "https://localhost:8080/"
    },
    "id": "FZsWvE2Myyq7",
    "outputId": "0a091d3c-4194-43b0-bdc7-ce084b67541b"
   },
   "outputs": [
    {
     "name": "stdout",
     "output_type": "stream",
     "text": [
      "Looking in indexes: https://pypi.org/simple, https://us-python.pkg.dev/colab-wheels/public/simple/\n",
      "Requirement already satisfied: transformers in /usr/local/lib/python3.10/dist-packages (4.30.1)\n",
      "Requirement already satisfied: filelock in /usr/local/lib/python3.10/dist-packages (from transformers) (3.12.0)\n",
      "Requirement already satisfied: huggingface-hub<1.0,>=0.14.1 in /usr/local/lib/python3.10/dist-packages (from transformers) (0.15.1)\n",
      "Requirement already satisfied: numpy>=1.17 in /usr/local/lib/python3.10/dist-packages (from transformers) (1.22.4)\n",
      "Requirement already satisfied: packaging>=20.0 in /usr/local/lib/python3.10/dist-packages (from transformers) (23.1)\n",
      "Requirement already satisfied: pyyaml>=5.1 in /usr/local/lib/python3.10/dist-packages (from transformers) (6.0)\n",
      "Requirement already satisfied: regex!=2019.12.17 in /usr/local/lib/python3.10/dist-packages (from transformers) (2022.10.31)\n",
      "Requirement already satisfied: requests in /usr/local/lib/python3.10/dist-packages (from transformers) (2.27.1)\n",
      "Requirement already satisfied: tokenizers!=0.11.3,<0.14,>=0.11.1 in /usr/local/lib/python3.10/dist-packages (from transformers) (0.13.3)\n",
      "Requirement already satisfied: safetensors>=0.3.1 in /usr/local/lib/python3.10/dist-packages (from transformers) (0.3.1)\n",
      "Requirement already satisfied: tqdm>=4.27 in /usr/local/lib/python3.10/dist-packages (from transformers) (4.65.0)\n",
      "Requirement already satisfied: fsspec in /usr/local/lib/python3.10/dist-packages (from huggingface-hub<1.0,>=0.14.1->transformers) (2023.4.0)\n",
      "Requirement already satisfied: typing-extensions>=3.7.4.3 in /usr/local/lib/python3.10/dist-packages (from huggingface-hub<1.0,>=0.14.1->transformers) (4.5.0)\n",
      "Requirement already satisfied: urllib3<1.27,>=1.21.1 in /usr/local/lib/python3.10/dist-packages (from requests->transformers) (1.26.15)\n",
      "Requirement already satisfied: certifi>=2017.4.17 in /usr/local/lib/python3.10/dist-packages (from requests->transformers) (2022.12.7)\n",
      "Requirement already satisfied: charset-normalizer~=2.0.0 in /usr/local/lib/python3.10/dist-packages (from requests->transformers) (2.0.12)\n",
      "Requirement already satisfied: idna<4,>=2.5 in /usr/local/lib/python3.10/dist-packages (from requests->transformers) (3.4)\n",
      "Looking in indexes: https://pypi.org/simple, https://us-python.pkg.dev/colab-wheels/public/simple/\n",
      "Requirement already satisfied: catboost in /usr/local/lib/python3.10/dist-packages (1.2)\n",
      "Requirement already satisfied: graphviz in /usr/local/lib/python3.10/dist-packages (from catboost) (0.20.1)\n",
      "Requirement already satisfied: matplotlib in /usr/local/lib/python3.10/dist-packages (from catboost) (3.7.1)\n",
      "Requirement already satisfied: numpy>=1.16.0 in /usr/local/lib/python3.10/dist-packages (from catboost) (1.22.4)\n",
      "Requirement already satisfied: pandas>=0.24 in /usr/local/lib/python3.10/dist-packages (from catboost) (1.5.3)\n",
      "Requirement already satisfied: scipy in /usr/local/lib/python3.10/dist-packages (from catboost) (1.10.1)\n",
      "Requirement already satisfied: plotly in /usr/local/lib/python3.10/dist-packages (from catboost) (5.13.1)\n",
      "Requirement already satisfied: six in /usr/local/lib/python3.10/dist-packages (from catboost) (1.16.0)\n",
      "Requirement already satisfied: python-dateutil>=2.8.1 in /usr/local/lib/python3.10/dist-packages (from pandas>=0.24->catboost) (2.8.2)\n",
      "Requirement already satisfied: pytz>=2020.1 in /usr/local/lib/python3.10/dist-packages (from pandas>=0.24->catboost) (2022.7.1)\n",
      "Requirement already satisfied: contourpy>=1.0.1 in /usr/local/lib/python3.10/dist-packages (from matplotlib->catboost) (1.0.7)\n",
      "Requirement already satisfied: cycler>=0.10 in /usr/local/lib/python3.10/dist-packages (from matplotlib->catboost) (0.11.0)\n",
      "Requirement already satisfied: fonttools>=4.22.0 in /usr/local/lib/python3.10/dist-packages (from matplotlib->catboost) (4.39.3)\n",
      "Requirement already satisfied: kiwisolver>=1.0.1 in /usr/local/lib/python3.10/dist-packages (from matplotlib->catboost) (1.4.4)\n",
      "Requirement already satisfied: packaging>=20.0 in /usr/local/lib/python3.10/dist-packages (from matplotlib->catboost) (23.1)\n",
      "Requirement already satisfied: pillow>=6.2.0 in /usr/local/lib/python3.10/dist-packages (from matplotlib->catboost) (8.4.0)\n",
      "Requirement already satisfied: pyparsing>=2.3.1 in /usr/local/lib/python3.10/dist-packages (from matplotlib->catboost) (3.0.9)\n",
      "Requirement already satisfied: tenacity>=6.2.0 in /usr/local/lib/python3.10/dist-packages (from plotly->catboost) (8.2.2)\n"
     ]
    }
   ],
   "source": [
    "! pip install transformers\n",
    "! pip install catboost"
   ]
  },
  {
   "cell_type": "code",
   "execution_count": 3,
   "metadata": {
    "colab": {
     "base_uri": "https://localhost:8080/"
    },
    "id": "5h5ojM3xvP68",
    "outputId": "46f061cc-c83b-40e7-8759-d8eed684fb08"
   },
   "outputs": [
    {
     "name": "stderr",
     "output_type": "stream",
     "text": [
      "[nltk_data] Downloading package stopwords to /root/nltk_data...\n",
      "[nltk_data]   Package stopwords is already up-to-date!\n"
     ]
    }
   ],
   "source": [
    "import warnings\n",
    "\n",
    "import numpy as np\n",
    "import pandas as pd\n",
    "import time\n",
    "\n",
    "from tqdm import notebook\n",
    "\n",
    "from matplotlib import pyplot as plt\n",
    "import matplotlib.dates as dates\n",
    "\n",
    "import seaborn as sns\n",
    "from scipy import stats as st\n",
    "from scipy.stats import uniform as sp_randFloat\n",
    "from scipy.stats import randint as sp_randInt\n",
    "\n",
    "import re\n",
    "\n",
    "from sklearn.ensemble import RandomForestClassifier \n",
    "from sklearn.linear_model import LogisticRegression\n",
    "from sklearn.tree import DecisionTreeClassifier\n",
    "from sklearn.feature_extraction.text import TfidfVectorizer\n",
    "from sklearn.pipeline import Pipeline\n",
    "from sklearn.model_selection import (\n",
    "    RandomizedSearchCV,    \n",
    "    train_test_split,\n",
    "    cross_val_score,\n",
    "    StratifiedKFold\n",
    ")\n",
    "from sklearn.metrics import (\n",
    "    f1_score, \n",
    "    confusion_matrix,\n",
    "     ConfusionMatrixDisplay\n",
    ")\n",
    "\n",
    "\n",
    "from lightgbm import LGBMClassifier\n",
    "from catboost import CatBoostClassifier\n",
    "\n",
    "import nltk\n",
    "from nltk.corpus import stopwords as nltk_stopwords\n",
    "nltk.download('stopwords')\n",
    "import spacy\n",
    "\n",
    "import torch\n",
    "from transformers import (\n",
    "     BertTokenizer, \n",
    "     BertModel\n",
    ")\n",
    "\n",
    "pd.set_option('display.max_columns', None)\n",
    "\n",
    "# настройки\n",
    "warnings.filterwarnings(\"ignore\")\n",
    "\n",
    "#константы\n",
    "RANDOM_STATE = 12345"
   ]
  },
  {
   "cell_type": "code",
   "execution_count": 4,
   "metadata": {
    "id": "kfdO6ksKvP6-"
   },
   "outputs": [],
   "source": [
    "# Универсальная функция для исследования проблем датасета \n",
    "def explore_dataset(dataset):\n",
    "    from IPython.display import display\n",
    "    \n",
    "    print('Первые пять строк датасета:')\n",
    "    display(dataset.head(5))\n",
    "    \n",
    "    \n",
    "    print('')\n",
    "    print(f'Датасет имеет размер {dataset.shape[0]} строк и {dataset.shape[1]} столбцов.')\n",
    "    missing_columns = dataset.isna().any()[lambda x: x]\n",
    "    missing_values = dataset.isnull().sum()/len(dataset)\n",
    "    missing_values = missing_values[missing_columns.keys()].sort_values(ascending = False)\n",
    "    if len(missing_columns)>0:\n",
    "        print(f'Из них {len(missing_columns)} столбцов имеют пропуски в данных.')\n",
    "        print(f'Это столбцы: ', ', '.join(dataset.isna().any()[lambda x: x].keys()))\n",
    "        print('')    \n",
    "        bars = missing_values.plot(kind = 'barh', figsize=(10,round(len(missing_columns)/3)))\n",
    "        plt.title('Процент пропущенных значений по столбцам')\n",
    "        for i, v in enumerate(missing_values):\n",
    "            plt.gca().text(v + 0.005*missing_values.max(), i - 0.1, '{:.2%}'.format(v), color='black')\n",
    "        plt.show()\n",
    "        plt.close()\n",
    "    else:\n",
    "        print('Пропусков в данных нет')\n",
    "        \n",
    "        \n",
    "    if len(dataset[dataset.duplicated()])>0:\n",
    "        print(f'В датасете содержится {len(dataset[dataset.duplicated()])} дубликатов')\n",
    "    else:\n",
    "        print('В данных не найдено полных дубликатов.')\n",
    "        \n",
    "        \n",
    "    print('')\n",
    "    print('Столбцы имеют следующие типы данных:')    \n",
    "    print(dataset.dtypes)\n",
    "    \n",
    "    \n",
    "    print('')\n",
    "    print('Общая статистика по количественным переменным:')    \n",
    "    display(dataset.describe())\n",
    "    print('')\n",
    "    print('Общая статистика по категориальным переменным:')    \n",
    "    display(dataset.describe(include=[\"object\", \"bool\"]))\n",
    "    \n",
    "    print('')\n",
    "    print('Распределение и выбросы данных в количественных переменных:')    \n",
    "    dataset.plot.box(subplots=True, \n",
    "                     layout=(1,len(dataset.select_dtypes(exclude=['object','bool']).columns)), \n",
    "                     vert='False',\n",
    "                     figsize=(2.5*len(dataset.select_dtypes(exclude=['object','bool']).columns),8));\n",
    "    plt.show()\n",
    "    plt.close()\n",
    "    return"
   ]
  },
  {
   "cell_type": "code",
   "execution_count": 5,
   "metadata": {
    "id": "RmFs8KZKvtKd"
   },
   "outputs": [],
   "source": [
    "df = pd.read_csv('https://code.s3.yandex.net/datasets/toxic_comments.csv', index_col=0) "
   ]
  },
  {
   "cell_type": "code",
   "execution_count": 6,
   "metadata": {
    "colab": {
     "base_uri": "https://localhost:8080/",
     "height": 1000
    },
    "id": "GE70wSJWvP7C",
    "outputId": "fa5e00d7-c4c8-4f1c-9e98-09acdf3048b3"
   },
   "outputs": [
    {
     "name": "stdout",
     "output_type": "stream",
     "text": [
      "Первые пять строк датасета:\n"
     ]
    },
    {
     "data": {
      "text/html": [
       "\n",
       "  <div id=\"df-7aaf7c39-becd-4d56-960f-778d5d826cf3\">\n",
       "    <div class=\"colab-df-container\">\n",
       "      <div>\n",
       "<style scoped>\n",
       "    .dataframe tbody tr th:only-of-type {\n",
       "        vertical-align: middle;\n",
       "    }\n",
       "\n",
       "    .dataframe tbody tr th {\n",
       "        vertical-align: top;\n",
       "    }\n",
       "\n",
       "    .dataframe thead th {\n",
       "        text-align: right;\n",
       "    }\n",
       "</style>\n",
       "<table border=\"1\" class=\"dataframe\">\n",
       "  <thead>\n",
       "    <tr style=\"text-align: right;\">\n",
       "      <th></th>\n",
       "      <th>text</th>\n",
       "      <th>toxic</th>\n",
       "    </tr>\n",
       "  </thead>\n",
       "  <tbody>\n",
       "    <tr>\n",
       "      <th>0</th>\n",
       "      <td>Explanation\\nWhy the edits made under my usern...</td>\n",
       "      <td>0</td>\n",
       "    </tr>\n",
       "    <tr>\n",
       "      <th>1</th>\n",
       "      <td>D'aww! He matches this background colour I'm s...</td>\n",
       "      <td>0</td>\n",
       "    </tr>\n",
       "    <tr>\n",
       "      <th>2</th>\n",
       "      <td>Hey man, I'm really not trying to edit war. It...</td>\n",
       "      <td>0</td>\n",
       "    </tr>\n",
       "    <tr>\n",
       "      <th>3</th>\n",
       "      <td>\"\\nMore\\nI can't make any real suggestions on ...</td>\n",
       "      <td>0</td>\n",
       "    </tr>\n",
       "    <tr>\n",
       "      <th>4</th>\n",
       "      <td>You, sir, are my hero. Any chance you remember...</td>\n",
       "      <td>0</td>\n",
       "    </tr>\n",
       "  </tbody>\n",
       "</table>\n",
       "</div>\n",
       "      <button class=\"colab-df-convert\" onclick=\"convertToInteractive('df-7aaf7c39-becd-4d56-960f-778d5d826cf3')\"\n",
       "              title=\"Convert this dataframe to an interactive table.\"\n",
       "              style=\"display:none;\">\n",
       "        \n",
       "  <svg xmlns=\"http://www.w3.org/2000/svg\" height=\"24px\"viewBox=\"0 0 24 24\"\n",
       "       width=\"24px\">\n",
       "    <path d=\"M0 0h24v24H0V0z\" fill=\"none\"/>\n",
       "    <path d=\"M18.56 5.44l.94 2.06.94-2.06 2.06-.94-2.06-.94-.94-2.06-.94 2.06-2.06.94zm-11 1L8.5 8.5l.94-2.06 2.06-.94-2.06-.94L8.5 2.5l-.94 2.06-2.06.94zm10 10l.94 2.06.94-2.06 2.06-.94-2.06-.94-.94-2.06-.94 2.06-2.06.94z\"/><path d=\"M17.41 7.96l-1.37-1.37c-.4-.4-.92-.59-1.43-.59-.52 0-1.04.2-1.43.59L10.3 9.45l-7.72 7.72c-.78.78-.78 2.05 0 2.83L4 21.41c.39.39.9.59 1.41.59.51 0 1.02-.2 1.41-.59l7.78-7.78 2.81-2.81c.8-.78.8-2.07 0-2.86zM5.41 20L4 18.59l7.72-7.72 1.47 1.35L5.41 20z\"/>\n",
       "  </svg>\n",
       "      </button>\n",
       "      \n",
       "  <style>\n",
       "    .colab-df-container {\n",
       "      display:flex;\n",
       "      flex-wrap:wrap;\n",
       "      gap: 12px;\n",
       "    }\n",
       "\n",
       "    .colab-df-convert {\n",
       "      background-color: #E8F0FE;\n",
       "      border: none;\n",
       "      border-radius: 50%;\n",
       "      cursor: pointer;\n",
       "      display: none;\n",
       "      fill: #1967D2;\n",
       "      height: 32px;\n",
       "      padding: 0 0 0 0;\n",
       "      width: 32px;\n",
       "    }\n",
       "\n",
       "    .colab-df-convert:hover {\n",
       "      background-color: #E2EBFA;\n",
       "      box-shadow: 0px 1px 2px rgba(60, 64, 67, 0.3), 0px 1px 3px 1px rgba(60, 64, 67, 0.15);\n",
       "      fill: #174EA6;\n",
       "    }\n",
       "\n",
       "    [theme=dark] .colab-df-convert {\n",
       "      background-color: #3B4455;\n",
       "      fill: #D2E3FC;\n",
       "    }\n",
       "\n",
       "    [theme=dark] .colab-df-convert:hover {\n",
       "      background-color: #434B5C;\n",
       "      box-shadow: 0px 1px 3px 1px rgba(0, 0, 0, 0.15);\n",
       "      filter: drop-shadow(0px 1px 2px rgba(0, 0, 0, 0.3));\n",
       "      fill: #FFFFFF;\n",
       "    }\n",
       "  </style>\n",
       "\n",
       "      <script>\n",
       "        const buttonEl =\n",
       "          document.querySelector('#df-7aaf7c39-becd-4d56-960f-778d5d826cf3 button.colab-df-convert');\n",
       "        buttonEl.style.display =\n",
       "          google.colab.kernel.accessAllowed ? 'block' : 'none';\n",
       "\n",
       "        async function convertToInteractive(key) {\n",
       "          const element = document.querySelector('#df-7aaf7c39-becd-4d56-960f-778d5d826cf3');\n",
       "          const dataTable =\n",
       "            await google.colab.kernel.invokeFunction('convertToInteractive',\n",
       "                                                     [key], {});\n",
       "          if (!dataTable) return;\n",
       "\n",
       "          const docLinkHtml = 'Like what you see? Visit the ' +\n",
       "            '<a target=\"_blank\" href=https://colab.research.google.com/notebooks/data_table.ipynb>data table notebook</a>'\n",
       "            + ' to learn more about interactive tables.';\n",
       "          element.innerHTML = '';\n",
       "          dataTable['output_type'] = 'display_data';\n",
       "          await google.colab.output.renderOutput(dataTable, element);\n",
       "          const docLink = document.createElement('div');\n",
       "          docLink.innerHTML = docLinkHtml;\n",
       "          element.appendChild(docLink);\n",
       "        }\n",
       "      </script>\n",
       "    </div>\n",
       "  </div>\n",
       "  "
      ],
      "text/plain": [
       "                                                text  toxic\n",
       "0  Explanation\\nWhy the edits made under my usern...      0\n",
       "1  D'aww! He matches this background colour I'm s...      0\n",
       "2  Hey man, I'm really not trying to edit war. It...      0\n",
       "3  \"\\nMore\\nI can't make any real suggestions on ...      0\n",
       "4  You, sir, are my hero. Any chance you remember...      0"
      ]
     },
     "metadata": {},
     "output_type": "display_data"
    },
    {
     "name": "stdout",
     "output_type": "stream",
     "text": [
      "\n",
      "Датасет имеет размер 159292 строк и 2 столбцов.\n",
      "Пропусков в данных нет\n",
      "В данных не найдено полных дубликатов.\n",
      "\n",
      "Столбцы имеют следующие типы данных:\n",
      "text     object\n",
      "toxic     int64\n",
      "dtype: object\n",
      "\n",
      "Общая статистика по количественным переменным:\n"
     ]
    },
    {
     "data": {
      "text/html": [
       "\n",
       "  <div id=\"df-1afbeffa-ad37-4833-869e-bd45eeb2284b\">\n",
       "    <div class=\"colab-df-container\">\n",
       "      <div>\n",
       "<style scoped>\n",
       "    .dataframe tbody tr th:only-of-type {\n",
       "        vertical-align: middle;\n",
       "    }\n",
       "\n",
       "    .dataframe tbody tr th {\n",
       "        vertical-align: top;\n",
       "    }\n",
       "\n",
       "    .dataframe thead th {\n",
       "        text-align: right;\n",
       "    }\n",
       "</style>\n",
       "<table border=\"1\" class=\"dataframe\">\n",
       "  <thead>\n",
       "    <tr style=\"text-align: right;\">\n",
       "      <th></th>\n",
       "      <th>toxic</th>\n",
       "    </tr>\n",
       "  </thead>\n",
       "  <tbody>\n",
       "    <tr>\n",
       "      <th>count</th>\n",
       "      <td>159292.000000</td>\n",
       "    </tr>\n",
       "    <tr>\n",
       "      <th>mean</th>\n",
       "      <td>0.101612</td>\n",
       "    </tr>\n",
       "    <tr>\n",
       "      <th>std</th>\n",
       "      <td>0.302139</td>\n",
       "    </tr>\n",
       "    <tr>\n",
       "      <th>min</th>\n",
       "      <td>0.000000</td>\n",
       "    </tr>\n",
       "    <tr>\n",
       "      <th>25%</th>\n",
       "      <td>0.000000</td>\n",
       "    </tr>\n",
       "    <tr>\n",
       "      <th>50%</th>\n",
       "      <td>0.000000</td>\n",
       "    </tr>\n",
       "    <tr>\n",
       "      <th>75%</th>\n",
       "      <td>0.000000</td>\n",
       "    </tr>\n",
       "    <tr>\n",
       "      <th>max</th>\n",
       "      <td>1.000000</td>\n",
       "    </tr>\n",
       "  </tbody>\n",
       "</table>\n",
       "</div>\n",
       "      <button class=\"colab-df-convert\" onclick=\"convertToInteractive('df-1afbeffa-ad37-4833-869e-bd45eeb2284b')\"\n",
       "              title=\"Convert this dataframe to an interactive table.\"\n",
       "              style=\"display:none;\">\n",
       "        \n",
       "  <svg xmlns=\"http://www.w3.org/2000/svg\" height=\"24px\"viewBox=\"0 0 24 24\"\n",
       "       width=\"24px\">\n",
       "    <path d=\"M0 0h24v24H0V0z\" fill=\"none\"/>\n",
       "    <path d=\"M18.56 5.44l.94 2.06.94-2.06 2.06-.94-2.06-.94-.94-2.06-.94 2.06-2.06.94zm-11 1L8.5 8.5l.94-2.06 2.06-.94-2.06-.94L8.5 2.5l-.94 2.06-2.06.94zm10 10l.94 2.06.94-2.06 2.06-.94-2.06-.94-.94-2.06-.94 2.06-2.06.94z\"/><path d=\"M17.41 7.96l-1.37-1.37c-.4-.4-.92-.59-1.43-.59-.52 0-1.04.2-1.43.59L10.3 9.45l-7.72 7.72c-.78.78-.78 2.05 0 2.83L4 21.41c.39.39.9.59 1.41.59.51 0 1.02-.2 1.41-.59l7.78-7.78 2.81-2.81c.8-.78.8-2.07 0-2.86zM5.41 20L4 18.59l7.72-7.72 1.47 1.35L5.41 20z\"/>\n",
       "  </svg>\n",
       "      </button>\n",
       "      \n",
       "  <style>\n",
       "    .colab-df-container {\n",
       "      display:flex;\n",
       "      flex-wrap:wrap;\n",
       "      gap: 12px;\n",
       "    }\n",
       "\n",
       "    .colab-df-convert {\n",
       "      background-color: #E8F0FE;\n",
       "      border: none;\n",
       "      border-radius: 50%;\n",
       "      cursor: pointer;\n",
       "      display: none;\n",
       "      fill: #1967D2;\n",
       "      height: 32px;\n",
       "      padding: 0 0 0 0;\n",
       "      width: 32px;\n",
       "    }\n",
       "\n",
       "    .colab-df-convert:hover {\n",
       "      background-color: #E2EBFA;\n",
       "      box-shadow: 0px 1px 2px rgba(60, 64, 67, 0.3), 0px 1px 3px 1px rgba(60, 64, 67, 0.15);\n",
       "      fill: #174EA6;\n",
       "    }\n",
       "\n",
       "    [theme=dark] .colab-df-convert {\n",
       "      background-color: #3B4455;\n",
       "      fill: #D2E3FC;\n",
       "    }\n",
       "\n",
       "    [theme=dark] .colab-df-convert:hover {\n",
       "      background-color: #434B5C;\n",
       "      box-shadow: 0px 1px 3px 1px rgba(0, 0, 0, 0.15);\n",
       "      filter: drop-shadow(0px 1px 2px rgba(0, 0, 0, 0.3));\n",
       "      fill: #FFFFFF;\n",
       "    }\n",
       "  </style>\n",
       "\n",
       "      <script>\n",
       "        const buttonEl =\n",
       "          document.querySelector('#df-1afbeffa-ad37-4833-869e-bd45eeb2284b button.colab-df-convert');\n",
       "        buttonEl.style.display =\n",
       "          google.colab.kernel.accessAllowed ? 'block' : 'none';\n",
       "\n",
       "        async function convertToInteractive(key) {\n",
       "          const element = document.querySelector('#df-1afbeffa-ad37-4833-869e-bd45eeb2284b');\n",
       "          const dataTable =\n",
       "            await google.colab.kernel.invokeFunction('convertToInteractive',\n",
       "                                                     [key], {});\n",
       "          if (!dataTable) return;\n",
       "\n",
       "          const docLinkHtml = 'Like what you see? Visit the ' +\n",
       "            '<a target=\"_blank\" href=https://colab.research.google.com/notebooks/data_table.ipynb>data table notebook</a>'\n",
       "            + ' to learn more about interactive tables.';\n",
       "          element.innerHTML = '';\n",
       "          dataTable['output_type'] = 'display_data';\n",
       "          await google.colab.output.renderOutput(dataTable, element);\n",
       "          const docLink = document.createElement('div');\n",
       "          docLink.innerHTML = docLinkHtml;\n",
       "          element.appendChild(docLink);\n",
       "        }\n",
       "      </script>\n",
       "    </div>\n",
       "  </div>\n",
       "  "
      ],
      "text/plain": [
       "               toxic\n",
       "count  159292.000000\n",
       "mean        0.101612\n",
       "std         0.302139\n",
       "min         0.000000\n",
       "25%         0.000000\n",
       "50%         0.000000\n",
       "75%         0.000000\n",
       "max         1.000000"
      ]
     },
     "metadata": {},
     "output_type": "display_data"
    },
    {
     "name": "stdout",
     "output_type": "stream",
     "text": [
      "\n",
      "Общая статистика по категориальным переменным:\n"
     ]
    },
    {
     "data": {
      "text/html": [
       "\n",
       "  <div id=\"df-c6dccd39-3ecc-4276-be0d-51a9f83d5b34\">\n",
       "    <div class=\"colab-df-container\">\n",
       "      <div>\n",
       "<style scoped>\n",
       "    .dataframe tbody tr th:only-of-type {\n",
       "        vertical-align: middle;\n",
       "    }\n",
       "\n",
       "    .dataframe tbody tr th {\n",
       "        vertical-align: top;\n",
       "    }\n",
       "\n",
       "    .dataframe thead th {\n",
       "        text-align: right;\n",
       "    }\n",
       "</style>\n",
       "<table border=\"1\" class=\"dataframe\">\n",
       "  <thead>\n",
       "    <tr style=\"text-align: right;\">\n",
       "      <th></th>\n",
       "      <th>text</th>\n",
       "    </tr>\n",
       "  </thead>\n",
       "  <tbody>\n",
       "    <tr>\n",
       "      <th>count</th>\n",
       "      <td>159292</td>\n",
       "    </tr>\n",
       "    <tr>\n",
       "      <th>unique</th>\n",
       "      <td>159292</td>\n",
       "    </tr>\n",
       "    <tr>\n",
       "      <th>top</th>\n",
       "      <td>Explanation\\nWhy the edits made under my usern...</td>\n",
       "    </tr>\n",
       "    <tr>\n",
       "      <th>freq</th>\n",
       "      <td>1</td>\n",
       "    </tr>\n",
       "  </tbody>\n",
       "</table>\n",
       "</div>\n",
       "      <button class=\"colab-df-convert\" onclick=\"convertToInteractive('df-c6dccd39-3ecc-4276-be0d-51a9f83d5b34')\"\n",
       "              title=\"Convert this dataframe to an interactive table.\"\n",
       "              style=\"display:none;\">\n",
       "        \n",
       "  <svg xmlns=\"http://www.w3.org/2000/svg\" height=\"24px\"viewBox=\"0 0 24 24\"\n",
       "       width=\"24px\">\n",
       "    <path d=\"M0 0h24v24H0V0z\" fill=\"none\"/>\n",
       "    <path d=\"M18.56 5.44l.94 2.06.94-2.06 2.06-.94-2.06-.94-.94-2.06-.94 2.06-2.06.94zm-11 1L8.5 8.5l.94-2.06 2.06-.94-2.06-.94L8.5 2.5l-.94 2.06-2.06.94zm10 10l.94 2.06.94-2.06 2.06-.94-2.06-.94-.94-2.06-.94 2.06-2.06.94z\"/><path d=\"M17.41 7.96l-1.37-1.37c-.4-.4-.92-.59-1.43-.59-.52 0-1.04.2-1.43.59L10.3 9.45l-7.72 7.72c-.78.78-.78 2.05 0 2.83L4 21.41c.39.39.9.59 1.41.59.51 0 1.02-.2 1.41-.59l7.78-7.78 2.81-2.81c.8-.78.8-2.07 0-2.86zM5.41 20L4 18.59l7.72-7.72 1.47 1.35L5.41 20z\"/>\n",
       "  </svg>\n",
       "      </button>\n",
       "      \n",
       "  <style>\n",
       "    .colab-df-container {\n",
       "      display:flex;\n",
       "      flex-wrap:wrap;\n",
       "      gap: 12px;\n",
       "    }\n",
       "\n",
       "    .colab-df-convert {\n",
       "      background-color: #E8F0FE;\n",
       "      border: none;\n",
       "      border-radius: 50%;\n",
       "      cursor: pointer;\n",
       "      display: none;\n",
       "      fill: #1967D2;\n",
       "      height: 32px;\n",
       "      padding: 0 0 0 0;\n",
       "      width: 32px;\n",
       "    }\n",
       "\n",
       "    .colab-df-convert:hover {\n",
       "      background-color: #E2EBFA;\n",
       "      box-shadow: 0px 1px 2px rgba(60, 64, 67, 0.3), 0px 1px 3px 1px rgba(60, 64, 67, 0.15);\n",
       "      fill: #174EA6;\n",
       "    }\n",
       "\n",
       "    [theme=dark] .colab-df-convert {\n",
       "      background-color: #3B4455;\n",
       "      fill: #D2E3FC;\n",
       "    }\n",
       "\n",
       "    [theme=dark] .colab-df-convert:hover {\n",
       "      background-color: #434B5C;\n",
       "      box-shadow: 0px 1px 3px 1px rgba(0, 0, 0, 0.15);\n",
       "      filter: drop-shadow(0px 1px 2px rgba(0, 0, 0, 0.3));\n",
       "      fill: #FFFFFF;\n",
       "    }\n",
       "  </style>\n",
       "\n",
       "      <script>\n",
       "        const buttonEl =\n",
       "          document.querySelector('#df-c6dccd39-3ecc-4276-be0d-51a9f83d5b34 button.colab-df-convert');\n",
       "        buttonEl.style.display =\n",
       "          google.colab.kernel.accessAllowed ? 'block' : 'none';\n",
       "\n",
       "        async function convertToInteractive(key) {\n",
       "          const element = document.querySelector('#df-c6dccd39-3ecc-4276-be0d-51a9f83d5b34');\n",
       "          const dataTable =\n",
       "            await google.colab.kernel.invokeFunction('convertToInteractive',\n",
       "                                                     [key], {});\n",
       "          if (!dataTable) return;\n",
       "\n",
       "          const docLinkHtml = 'Like what you see? Visit the ' +\n",
       "            '<a target=\"_blank\" href=https://colab.research.google.com/notebooks/data_table.ipynb>data table notebook</a>'\n",
       "            + ' to learn more about interactive tables.';\n",
       "          element.innerHTML = '';\n",
       "          dataTable['output_type'] = 'display_data';\n",
       "          await google.colab.output.renderOutput(dataTable, element);\n",
       "          const docLink = document.createElement('div');\n",
       "          docLink.innerHTML = docLinkHtml;\n",
       "          element.appendChild(docLink);\n",
       "        }\n",
       "      </script>\n",
       "    </div>\n",
       "  </div>\n",
       "  "
      ],
      "text/plain": [
       "                                                     text\n",
       "count                                              159292\n",
       "unique                                             159292\n",
       "top     Explanation\\nWhy the edits made under my usern...\n",
       "freq                                                    1"
      ]
     },
     "metadata": {},
     "output_type": "display_data"
    },
    {
     "name": "stdout",
     "output_type": "stream",
     "text": [
      "\n",
      "Распределение и выбросы данных в количественных переменных:\n"
     ]
    },
    {
     "data": {
      "image/png": "[encoded data removed]",
      "text/plain": [
       "<Figure size 250x800 with 1 Axes>"
      ]
     },
     "metadata": {},
     "output_type": "display_data"
    }
   ],
   "source": [
    "explore_dataset(df)"
   ]
  },
  {
   "cell_type": "markdown",
   "metadata": {
    "id": "grkgUSkGqIdm"
   },
   "source": [
    "Данные загруженв, в них нет пропусков и дубликатов. Посмотрим на баланс целевого класса в данных:"
   ]
  },
  {
   "cell_type": "code",
   "execution_count": 7,
   "metadata": {
    "colab": {
     "base_uri": "https://localhost:8080/",
     "height": 472
    },
    "id": "l_bEkoqrvP7D",
    "outputId": "97b1a944-90e5-487b-9910-4a0dc2da8be3"
   },
   "outputs": [
    {
     "data": {
      "image/png": "[encoded data removed]",
      "text/plain": [
       "<Figure size 640x480 with 1 Axes>"
      ]
     },
     "metadata": {},
     "output_type": "display_data"
    }
   ],
   "source": [
    "sns.countplot(x='toxic', data=df)\n",
    "plt.title('Баланс классов целевого признака \"toxic\"');"
   ]
  },
  {
   "cell_type": "markdown",
   "metadata": {
    "id": "9ZQqahIEqIdn"
   },
   "source": [
    "Комментариев с негатиным окрасом сильно меньше чем позитивных. Наши классы несбалансированы и это надо будет учесть при дальнейшем обучении моделей.\n",
    "\n",
    "В данных почти 160 тысяч комментариев, это очень много для учебного проекта, предобработка и обучение моделей займет слишком много времени. Далее мы используем лишь небольшую часть всех данных для обучения и валидации моделей. \n",
    "\n",
    "Поскольку классы несбалансированные, при выборке данных для обучения необходимо соблюсти баланс классов. При этом для тестовых данных баланс уже не сильно важен, модель должна хорошо работать на любом наборе данных. Чтобы не допустить утечки данных для удобства сначала разделим всю выборку на обучающую и тестовую учитывая баланс классов:"
   ]
  },
  {
   "cell_type": "code",
   "execution_count": 8,
   "metadata": {
    "id": "IkQ9EfXGvP7E"
   },
   "outputs": [],
   "source": [
    "train_data, test_data = train_test_split(df, test_size=0.25, random_state=RANDOM_STATE, shuffle=True, stratify=df['toxic'])"
   ]
  },
  {
   "cell_type": "markdown",
   "metadata": {
    "id": "g0s7fnZXqIdn"
   },
   "source": [
    "Теперь из обучающей выборки выделим случайный набор данных нужного нам размера, сохраняя баланс классов. С этим числом можно поиграться в зависимости от вычислительных возможностей. В Google Colab меня устрола выборка из 3500 комментариев по времени выполнения проекта."
   ]
  },
  {
   "cell_type": "code",
   "execution_count": 9,
   "metadata": {
    "id": "goWvP1-svP7E"
   },
   "outputs": [],
   "source": [
    "N=3500\n",
    "data = train_data.groupby('toxic', group_keys=False).apply(\n",
    "    lambda x: x.sample(int(np.rint(N*len(x)/len(train_data))), random_state=RANDOM_STATE)).sample( frac=1, random_state=RANDOM_STATE).reset_index(drop=True)"
   ]
  },
  {
   "cell_type": "code",
   "execution_count": 10,
   "metadata": {
    "colab": {
     "base_uri": "https://localhost:8080/",
     "height": 472
    },
    "id": "gdpIoltJvP7E",
    "outputId": "5f562ed7-00eb-42b4-e9f1-5f1d65ca5218"
   },
   "outputs": [
    {
     "data": {
      "image/png": "[encoded data removed]",
      "text/plain": [
       "<Figure size 640x480 with 1 Axes>"
      ]
     },
     "metadata": {},
     "output_type": "display_data"
    }
   ],
   "source": [
    "sns.countplot(x='toxic', data=data)\n",
    "plt.title('Баланс классов целевого признака \"toxic\"');"
   ]
  },
  {
   "cell_type": "markdown",
   "metadata": {
    "id": "ZvRRKqWKqIdo"
   },
   "source": [
    "Обучающая выборка создана, балланс классов соблюден. Для интереса из тестовых данных выделим выборку где классы будут сбалансированы 1 к 1:"
   ]
  },
  {
   "cell_type": "code",
   "execution_count": 11,
   "metadata": {
    "colab": {
     "base_uri": "https://localhost:8080/",
     "height": 472
    },
    "id": "sj7VlcTvvP7E",
    "outputId": "6859908c-099f-471a-f972-b7f630079e48"
   },
   "outputs": [
    {
     "data": {
      "image/png": "[encoded data removed]",
      "text/plain": [
       "<Figure size 640x480 with 1 Axes>"
      ]
     },
     "metadata": {},
     "output_type": "display_data"
    }
   ],
   "source": [
    "N=1500\n",
    "test = test_data.groupby('toxic', group_keys=False).apply(lambda x: x.sample(int(N/2)))\n",
    "\n",
    "sns.countplot(x='toxic', data=test)\n",
    "plt.title('Баланс классов целевого признака \"toxic\"');"
   ]
  },
  {
   "cell_type": "markdown",
   "metadata": {
    "id": "8w4QE9ENqIdo"
   },
   "source": [
    "Текст необходимо предобработать. В нем встречаются ненужные символы переноса строки, цифры, знаки препинания. Так же мы лемматизируем слова, используя библиотеку spacy."
   ]
  },
  {
   "cell_type": "code",
   "execution_count": 12,
   "metadata": {
    "id": "_f1aOCGyvP7F"
   },
   "outputs": [],
   "source": [
    "nlp = spacy.load(\"en_core_web_sm\", disable=['parser', 'ner'])\n",
    "\n",
    "def data_preprocessing(comment):\n",
    "\n",
    "    # data cleaning\n",
    "    comment =  re.sub('[^A-za-z]+', ' ', comment.lower()) #taking only words\n",
    "\n",
    "    # lemmatization\n",
    "    comment = \" \".join([token.lemma_ for token in nlp(comment)])\n",
    "\n",
    "    return comment"
   ]
  },
  {
   "cell_type": "code",
   "execution_count": 13,
   "metadata": {
    "colab": {
     "base_uri": "https://localhost:8080/",
     "height": 241
    },
    "id": "er0nOQH1vP7F",
    "outputId": "4e17db31-5efd-4727-f3f4-eb0289224ed0"
   },
   "outputs": [
    {
     "name": "stdout",
     "output_type": "stream",
     "text": [
      "CPU times: user 32.1 s, sys: 153 ms, total: 32.2 s\n",
      "Wall time: 42.8 s\n"
     ]
    },
    {
     "data": {
      "text/html": [
       "\n",
       "  <div id=\"df-bf9b4c2e-ccfb-4df6-a5e5-76893ca52e2b\">\n",
       "    <div class=\"colab-df-container\">\n",
       "      <div>\n",
       "<style scoped>\n",
       "    .dataframe tbody tr th:only-of-type {\n",
       "        vertical-align: middle;\n",
       "    }\n",
       "\n",
       "    .dataframe tbody tr th {\n",
       "        vertical-align: top;\n",
       "    }\n",
       "\n",
       "    .dataframe thead th {\n",
       "        text-align: right;\n",
       "    }\n",
       "</style>\n",
       "<table border=\"1\" class=\"dataframe\">\n",
       "  <thead>\n",
       "    <tr style=\"text-align: right;\">\n",
       "      <th></th>\n",
       "      <th>text</th>\n",
       "      <th>toxic</th>\n",
       "      <th>preprocessed_text</th>\n",
       "    </tr>\n",
       "  </thead>\n",
       "  <tbody>\n",
       "    <tr>\n",
       "      <th>0</th>\n",
       "      <td>\"\\n The comment \"\"title \"\"number sign\"\" to be ...</td>\n",
       "      <td>0</td>\n",
       "      <td>the comment title number sign to be a confus...</td>\n",
       "    </tr>\n",
       "    <tr>\n",
       "      <th>1</th>\n",
       "      <td>\"\\n\\nThe article Bandwagon (Social Network) ha...</td>\n",
       "      <td>0</td>\n",
       "      <td>the article bandwagon social network have be...</td>\n",
       "    </tr>\n",
       "    <tr>\n",
       "      <th>2</th>\n",
       "      <td>\"\\n\\n To Clarify: \\n\\nI just re-read some of m...</td>\n",
       "      <td>0</td>\n",
       "      <td>to clarify I just re read some of my reply t...</td>\n",
       "    </tr>\n",
       "    <tr>\n",
       "      <th>3</th>\n",
       "      <td>So how long is this block gonna last newbs? I ...</td>\n",
       "      <td>0</td>\n",
       "      <td>so how long be this block go to last newbs I w...</td>\n",
       "    </tr>\n",
       "    <tr>\n",
       "      <th>4</th>\n",
       "      <td>\"\\n\\nI just read the section Urumi (film)#The ...</td>\n",
       "      <td>0</td>\n",
       "      <td>I just read the section urumi film the engli...</td>\n",
       "    </tr>\n",
       "  </tbody>\n",
       "</table>\n",
       "</div>\n",
       "      <button class=\"colab-df-convert\" onclick=\"convertToInteractive('df-bf9b4c2e-ccfb-4df6-a5e5-76893ca52e2b')\"\n",
       "              title=\"Convert this dataframe to an interactive table.\"\n",
       "              style=\"display:none;\">\n",
       "        \n",
       "  <svg xmlns=\"http://www.w3.org/2000/svg\" height=\"24px\"viewBox=\"0 0 24 24\"\n",
       "       width=\"24px\">\n",
       "    <path d=\"M0 0h24v24H0V0z\" fill=\"none\"/>\n",
       "    <path d=\"M18.56 5.44l.94 2.06.94-2.06 2.06-.94-2.06-.94-.94-2.06-.94 2.06-2.06.94zm-11 1L8.5 8.5l.94-2.06 2.06-.94-2.06-.94L8.5 2.5l-.94 2.06-2.06.94zm10 10l.94 2.06.94-2.06 2.06-.94-2.06-.94-.94-2.06-.94 2.06-2.06.94z\"/><path d=\"M17.41 7.96l-1.37-1.37c-.4-.4-.92-.59-1.43-.59-.52 0-1.04.2-1.43.59L10.3 9.45l-7.72 7.72c-.78.78-.78 2.05 0 2.83L4 21.41c.39.39.9.59 1.41.59.51 0 1.02-.2 1.41-.59l7.78-7.78 2.81-2.81c.8-.78.8-2.07 0-2.86zM5.41 20L4 18.59l7.72-7.72 1.47 1.35L5.41 20z\"/>\n",
       "  </svg>\n",
       "      </button>\n",
       "      \n",
       "  <style>\n",
       "    .colab-df-container {\n",
       "      display:flex;\n",
       "      flex-wrap:wrap;\n",
       "      gap: 12px;\n",
       "    }\n",
       "\n",
       "    .colab-df-convert {\n",
       "      background-color: #E8F0FE;\n",
       "      border: none;\n",
       "      border-radius: 50%;\n",
       "      cursor: pointer;\n",
       "      display: none;\n",
       "      fill: #1967D2;\n",
       "      height: 32px;\n",
       "      padding: 0 0 0 0;\n",
       "      width: 32px;\n",
       "    }\n",
       "\n",
       "    .colab-df-convert:hover {\n",
       "      background-color: #E2EBFA;\n",
       "      box-shadow: 0px 1px 2px rgba(60, 64, 67, 0.3), 0px 1px 3px 1px rgba(60, 64, 67, 0.15);\n",
       "      fill: #174EA6;\n",
       "    }\n",
       "\n",
       "    [theme=dark] .colab-df-convert {\n",
       "      background-color: #3B4455;\n",
       "      fill: #D2E3FC;\n",
       "    }\n",
       "\n",
       "    [theme=dark] .colab-df-convert:hover {\n",
       "      background-color: #434B5C;\n",
       "      box-shadow: 0px 1px 3px 1px rgba(0, 0, 0, 0.15);\n",
       "      filter: drop-shadow(0px 1px 2px rgba(0, 0, 0, 0.3));\n",
       "      fill: #FFFFFF;\n",
       "    }\n",
       "  </style>\n",
       "\n",
       "      <script>\n",
       "        const buttonEl =\n",
       "          document.querySelector('#df-bf9b4c2e-ccfb-4df6-a5e5-76893ca52e2b button.colab-df-convert');\n",
       "        buttonEl.style.display =\n",
       "          google.colab.kernel.accessAllowed ? 'block' : 'none';\n",
       "\n",
       "        async function convertToInteractive(key) {\n",
       "          const element = document.querySelector('#df-bf9b4c2e-ccfb-4df6-a5e5-76893ca52e2b');\n",
       "          const dataTable =\n",
       "            await google.colab.kernel.invokeFunction('convertToInteractive',\n",
       "                                                     [key], {});\n",
       "          if (!dataTable) return;\n",
       "\n",
       "          const docLinkHtml = 'Like what you see? Visit the ' +\n",
       "            '<a target=\"_blank\" href=https://colab.research.google.com/notebooks/data_table.ipynb>data table notebook</a>'\n",
       "            + ' to learn more about interactive tables.';\n",
       "          element.innerHTML = '';\n",
       "          dataTable['output_type'] = 'display_data';\n",
       "          await google.colab.output.renderOutput(dataTable, element);\n",
       "          const docLink = document.createElement('div');\n",
       "          docLink.innerHTML = docLinkHtml;\n",
       "          element.appendChild(docLink);\n",
       "        }\n",
       "      </script>\n",
       "    </div>\n",
       "  </div>\n",
       "  "
      ],
      "text/plain": [
       "                                                text  toxic  \\\n",
       "0  \"\\n The comment \"\"title \"\"number sign\"\" to be ...      0   \n",
       "1  \"\\n\\nThe article Bandwagon (Social Network) ha...      0   \n",
       "2  \"\\n\\n To Clarify: \\n\\nI just re-read some of m...      0   \n",
       "3  So how long is this block gonna last newbs? I ...      0   \n",
       "4  \"\\n\\nI just read the section Urumi (film)#The ...      0   \n",
       "\n",
       "                                   preprocessed_text  \n",
       "0    the comment title number sign to be a confus...  \n",
       "1    the article bandwagon social network have be...  \n",
       "2    to clarify I just re read some of my reply t...  \n",
       "3  so how long be this block go to last newbs I w...  \n",
       "4    I just read the section urumi film the engli...  "
      ]
     },
     "execution_count": 13,
     "metadata": {},
     "output_type": "execute_result"
    }
   ],
   "source": [
    "%%time\n",
    "data['preprocessed_text'] = data['text'].apply(lambda comment: data_preprocessing(comment))\n",
    "data.head()"
   ]
  },
  {
   "cell_type": "code",
   "execution_count": 15,
   "metadata": {
    "colab": {
     "base_uri": "https://localhost:8080/",
     "height": 241
    },
    "id": "g3Rhwq4cvP7F",
    "outputId": "1aa9a566-d246-4907-d0e5-7f032b5d9619",
    "scrolled": true
   },
   "outputs": [
    {
     "name": "stdout",
     "output_type": "stream",
     "text": [
      "CPU times: user 9.43 s, sys: 35.3 ms, total: 9.47 s\n",
      "Wall time: 9.52 s\n"
     ]
    },
    {
     "data": {
      "text/html": [
       "\n",
       "  <div id=\"df-2bce4fcc-6f36-4a89-bcaf-6315c153185c\">\n",
       "    <div class=\"colab-df-container\">\n",
       "      <div>\n",
       "<style scoped>\n",
       "    .dataframe tbody tr th:only-of-type {\n",
       "        vertical-align: middle;\n",
       "    }\n",
       "\n",
       "    .dataframe tbody tr th {\n",
       "        vertical-align: top;\n",
       "    }\n",
       "\n",
       "    .dataframe thead th {\n",
       "        text-align: right;\n",
       "    }\n",
       "</style>\n",
       "<table border=\"1\" class=\"dataframe\">\n",
       "  <thead>\n",
       "    <tr style=\"text-align: right;\">\n",
       "      <th></th>\n",
       "      <th>text</th>\n",
       "      <th>toxic</th>\n",
       "      <th>preprocessed_text</th>\n",
       "    </tr>\n",
       "  </thead>\n",
       "  <tbody>\n",
       "    <tr>\n",
       "      <th>128817</th>\n",
       "      <td>\"\\n\\nExternal links needed\\nA nice collection ...</td>\n",
       "      <td>0</td>\n",
       "      <td>external link need a nice collection of exte...</td>\n",
       "    </tr>\n",
       "    <tr>\n",
       "      <th>106582</th>\n",
       "      <td>This is not a personal attack \\n\\nThe others a...</td>\n",
       "      <td>0</td>\n",
       "      <td>this be not a personal attack the other be wro...</td>\n",
       "    </tr>\n",
       "    <tr>\n",
       "      <th>100892</th>\n",
       "      <td>\"\\n\\n IP range blocks \\n\\nHi! How do IP range ...</td>\n",
       "      <td>0</td>\n",
       "      <td>ip range block hi how do ip range block work...</td>\n",
       "    </tr>\n",
       "    <tr>\n",
       "      <th>66380</th>\n",
       "      <td>(UTC)\\n\\nWhos Shakespeare do?  20:55, Sep 19, ...</td>\n",
       "      <td>0</td>\n",
       "      <td>utc who s shakespeare do sep</td>\n",
       "    </tr>\n",
       "    <tr>\n",
       "      <th>48505</th>\n",
       "      <td>Mendelssohn NOT Jewish except by Nazi definiti...</td>\n",
       "      <td>0</td>\n",
       "      <td>mendelssohn not jewish except by nazi definiti...</td>\n",
       "    </tr>\n",
       "  </tbody>\n",
       "</table>\n",
       "</div>\n",
       "      <button class=\"colab-df-convert\" onclick=\"convertToInteractive('df-2bce4fcc-6f36-4a89-bcaf-6315c153185c')\"\n",
       "              title=\"Convert this dataframe to an interactive table.\"\n",
       "              style=\"display:none;\">\n",
       "        \n",
       "  <svg xmlns=\"http://www.w3.org/2000/svg\" height=\"24px\"viewBox=\"0 0 24 24\"\n",
       "       width=\"24px\">\n",
       "    <path d=\"M0 0h24v24H0V0z\" fill=\"none\"/>\n",
       "    <path d=\"M18.56 5.44l.94 2.06.94-2.06 2.06-.94-2.06-.94-.94-2.06-.94 2.06-2.06.94zm-11 1L8.5 8.5l.94-2.06 2.06-.94-2.06-.94L8.5 2.5l-.94 2.06-2.06.94zm10 10l.94 2.06.94-2.06 2.06-.94-2.06-.94-.94-2.06-.94 2.06-2.06.94z\"/><path d=\"M17.41 7.96l-1.37-1.37c-.4-.4-.92-.59-1.43-.59-.52 0-1.04.2-1.43.59L10.3 9.45l-7.72 7.72c-.78.78-.78 2.05 0 2.83L4 21.41c.39.39.9.59 1.41.59.51 0 1.02-.2 1.41-.59l7.78-7.78 2.81-2.81c.8-.78.8-2.07 0-2.86zM5.41 20L4 18.59l7.72-7.72 1.47 1.35L5.41 20z\"/>\n",
       "  </svg>\n",
       "      </button>\n",
       "      \n",
       "  <style>\n",
       "    .colab-df-container {\n",
       "      display:flex;\n",
       "      flex-wrap:wrap;\n",
       "      gap: 12px;\n",
       "    }\n",
       "\n",
       "    .colab-df-convert {\n",
       "      background-color: #E8F0FE;\n",
       "      border: none;\n",
       "      border-radius: 50%;\n",
       "      cursor: pointer;\n",
       "      display: none;\n",
       "      fill: #1967D2;\n",
       "      height: 32px;\n",
       "      padding: 0 0 0 0;\n",
       "      width: 32px;\n",
       "    }\n",
       "\n",
       "    .colab-df-convert:hover {\n",
       "      background-color: #E2EBFA;\n",
       "      box-shadow: 0px 1px 2px rgba(60, 64, 67, 0.3), 0px 1px 3px 1px rgba(60, 64, 67, 0.15);\n",
       "      fill: #174EA6;\n",
       "    }\n",
       "\n",
       "    [theme=dark] .colab-df-convert {\n",
       "      background-color: #3B4455;\n",
       "      fill: #D2E3FC;\n",
       "    }\n",
       "\n",
       "    [theme=dark] .colab-df-convert:hover {\n",
       "      background-color: #434B5C;\n",
       "      box-shadow: 0px 1px 3px 1px rgba(0, 0, 0, 0.15);\n",
       "      filter: drop-shadow(0px 1px 2px rgba(0, 0, 0, 0.3));\n",
       "      fill: #FFFFFF;\n",
       "    }\n",
       "  </style>\n",
       "\n",
       "      <script>\n",
       "        const buttonEl =\n",
       "          document.querySelector('#df-2bce4fcc-6f36-4a89-bcaf-6315c153185c button.colab-df-convert');\n",
       "        buttonEl.style.display =\n",
       "          google.colab.kernel.accessAllowed ? 'block' : 'none';\n",
       "\n",
       "        async function convertToInteractive(key) {\n",
       "          const element = document.querySelector('#df-2bce4fcc-6f36-4a89-bcaf-6315c153185c');\n",
       "          const dataTable =\n",
       "            await google.colab.kernel.invokeFunction('convertToInteractive',\n",
       "                                                     [key], {});\n",
       "          if (!dataTable) return;\n",
       "\n",
       "          const docLinkHtml = 'Like what you see? Visit the ' +\n",
       "            '<a target=\"_blank\" href=https://colab.research.google.com/notebooks/data_table.ipynb>data table notebook</a>'\n",
       "            + ' to learn more about interactive tables.';\n",
       "          element.innerHTML = '';\n",
       "          dataTable['output_type'] = 'display_data';\n",
       "          await google.colab.output.renderOutput(dataTable, element);\n",
       "          const docLink = document.createElement('div');\n",
       "          docLink.innerHTML = docLinkHtml;\n",
       "          element.appendChild(docLink);\n",
       "        }\n",
       "      </script>\n",
       "    </div>\n",
       "  </div>\n",
       "  "
      ],
      "text/plain": [
       "                                                     text  toxic  \\\n",
       "128817  \"\\n\\nExternal links needed\\nA nice collection ...      0   \n",
       "106582  This is not a personal attack \\n\\nThe others a...      0   \n",
       "100892  \"\\n\\n IP range blocks \\n\\nHi! How do IP range ...      0   \n",
       "66380   (UTC)\\n\\nWhos Shakespeare do?  20:55, Sep 19, ...      0   \n",
       "48505   Mendelssohn NOT Jewish except by Nazi definiti...      0   \n",
       "\n",
       "                                        preprocessed_text  \n",
       "128817    external link need a nice collection of exte...  \n",
       "106582  this be not a personal attack the other be wro...  \n",
       "100892    ip range block hi how do ip range block work...  \n",
       "66380                        utc who s shakespeare do sep  \n",
       "48505   mendelssohn not jewish except by nazi definiti...  "
      ]
     },
     "execution_count": 15,
     "metadata": {},
     "output_type": "execute_result"
    }
   ],
   "source": [
    "%%time\n",
    "test['preprocessed_text'] = test['text'].apply(lambda comment: data_preprocessing(comment))\n",
    "test.head()"
   ]
  },
  {
   "cell_type": "markdown",
   "metadata": {
    "id": "FrN4GRGOqIdp"
   },
   "source": [
    "Данные предобработаны. Теперь нам необходимо подготовить признаки для обучения моделей."
   ]
  },
  {
   "cell_type": "markdown",
   "metadata": {
    "id": "XgPPi5VAvP7H"
   },
   "source": [
    "## Обучение\n",
    "\n",
    "В работе мы будем использовать два подхода к созданию эмбединга слов - это TF-IDF и модель BERT. Начнем c TF-IDF:"
   ]
  },
  {
   "cell_type": "code",
   "execution_count": 16,
   "metadata": {
    "id": "S5G3XgY-vP7H"
   },
   "outputs": [],
   "source": [
    "X_train = data.copy()\n",
    "y_train = X_train['toxic'].values\n",
    "X_train = X_train['preprocessed_text']\n"
   ]
  },
  {
   "cell_type": "code",
   "execution_count": 17,
   "metadata": {
    "id": "rt4sGZuGvP7H"
   },
   "outputs": [],
   "source": [
    "X_test = test.copy()\n",
    "y_test = X_test['toxic'].values\n",
    "X_test = X_test['preprocessed_text']\n"
   ]
  },
  {
   "cell_type": "markdown",
   "metadata": {
    "id": "VmhLYzxHqIdq"
   },
   "source": [
    "### TF-IDF"
   ]
  },
  {
   "cell_type": "markdown",
   "metadata": {
    "id": "EirKSIpMqIdq"
   },
   "source": [
    "Загрузим стоп слова на английском языке из библиотеки nltk, и исключим слово not. поскольку оно может влиять на эмоциональный окрас текста:"
   ]
  },
  {
   "cell_type": "code",
   "execution_count": 18,
   "metadata": {
    "id": "JVOCTgexvP7G"
   },
   "outputs": [],
   "source": [
    "stop_words = set(nltk_stopwords.words('english')) \n",
    "# stop_words.remove('not') "
   ]
  },
  {
   "cell_type": "markdown",
   "metadata": {
    "id": "Ufaz5O4gqIdq"
   },
   "source": [
    "Для избежания утечки признаков векторизировать текст будем в пайплайне методом  TfidfVectorizer()"
   ]
  },
  {
   "cell_type": "markdown",
   "metadata": {
    "id": "pPjufDtlqIdr"
   },
   "source": [
    "Необходимо определиться с моделью классификации. Поскольку классы несбалансированы, то используем для сравнения модели в которых есть автоматическая балансировка классов. Метрику качества F1 будем вычислять кросс-валидацией. \n",
    "Для начала сравним результаты моделей со стандартными настройками и определим наиболее перспективные для дальнейшего подбора гиперпараметров:"
   ]
  },
  {
   "cell_type": "code",
   "execution_count": 20,
   "metadata": {
    "id": "h8kym2b6vP7U"
   },
   "outputs": [],
   "source": [
    "# модели для сравнения\n",
    "classifiers = [\n",
    "    DecisionTreeClassifier(class_weight='balanced', random_state=RANDOM_STATE),\n",
    "    RandomForestClassifier(class_weight='balanced', random_state=RANDOM_STATE),\n",
    "    LGBMClassifier(is_unbalance=True, random_state=RANDOM_STATE),\n",
    "    LogisticRegression(class_weight='balanced', random_state=RANDOM_STATE),\n",
    "    CatBoostClassifier(auto_class_weights='Balanced', verbose=False, iterations=30)\n",
    "]\n"
   ]
  },
  {
   "cell_type": "code",
   "execution_count": 21,
   "metadata": {
    "colab": {
     "base_uri": "https://localhost:8080/"
    },
    "id": "azm3-2TFvP7U",
    "outputId": "bb59f3a1-a9f4-46f8-f37e-1fb9205de184"
   },
   "outputs": [
    {
     "name": "stdout",
     "output_type": "stream",
     "text": [
      "DecisionTreeClassifier(class_weight='balanced', random_state=12345)\n",
      "\tTraining time: 1.139s\n",
      "\tPrediction time: 0.000s\n",
      "\tF1 score: 0.449\n",
      "\n",
      "RandomForestClassifier(class_weight='balanced', random_state=12345)\n",
      "\tTraining time: 3.882s\n",
      "\tPrediction time: 0.000s\n",
      "\tF1 score: 0.400\n",
      "\n",
      "LGBMClassifier(is_unbalance=True, random_state=12345)\n",
      "\tTraining time: 1.651s\n",
      "\tPrediction time: 0.000s\n",
      "\tF1 score: 0.446\n",
      "\n",
      "LogisticRegression(class_weight='balanced', random_state=12345)\n",
      "\tTraining time: 0.820s\n",
      "\tPrediction time: 0.000s\n",
      "\tF1 score: 0.671\n",
      "\n",
      "<catboost.core.CatBoostClassifier object at 0x7f9f5432f1f0>\n",
      "\tTraining time: 9.741s\n",
      "\tPrediction time: 0.000s\n",
      "\tF1 score: 0.538\n",
      "\n"
     ]
    }
   ],
   "source": [
    "for model in classifiers:\n",
    "    start = time.time()\n",
    "    \n",
    "    pipeline = Pipeline(\n",
    "        [\n",
    "            (\"vect\", TfidfVectorizer(stop_words=list(stop_words))),\n",
    "            (\"clf\", model),\n",
    "        ]\n",
    "    )\n",
    "    cv = StratifiedKFold(n_splits=3, shuffle=True, random_state=RANDOM_STATE) \n",
    "    scores = cross_val_score(pipeline, X_train, y_train, \n",
    "                             cv=cv, scoring='f1')\n",
    "    train_time = time.time() - start\n",
    "    start = time.time()\n",
    "    predict_time = time.time()-start  \n",
    "    final_score = scores.mean()\n",
    "    print(model)\n",
    "    print(\"\\tTraining time: %0.3fs\" % train_time)\n",
    "    print(\"\\tPrediction time: %0.3fs\" % predict_time)\n",
    "    print(\"\\tF1 score: %0.3f\" % abs(final_score))\n",
    "    print()"
   ]
  },
  {
   "cell_type": "markdown",
   "metadata": {
    "id": "4tx5XH3kqIdr"
   },
   "source": [
    "Модели решающего дерева показывают плохой результат с векторами TF-IDF. Наилучший результат на стандартных параметрах показала логистическая регрессия. Так же есть шанс дотянуть до необходимой метрики в 0.75 модели градиентного бустинга - CatBoost.  Попрбуем подобрать гиперпараметры для этих моделей."
   ]
  },
  {
   "cell_type": "code",
   "execution_count": 22,
   "metadata": {
    "id": "s_T0B7xqvP7I"
   },
   "outputs": [],
   "source": [
    "metrics_table = pd.DataFrame(columns=['model', 'f1'])"
   ]
  },
  {
   "cell_type": "code",
   "execution_count": 23,
   "metadata": {
    "colab": {
     "base_uri": "https://localhost:8080/"
    },
    "id": "DYK61h9BvP7I",
    "outputId": "0273a984-b8d8-4d49-ce35-07433fdd4b12"
   },
   "outputs": [
    {
     "name": "stdout",
     "output_type": "stream",
     "text": [
      "Параметры наилучшей модели:\n",
      "preprocessing : TfidfVectorizer(stop_words=['am', \"couldn't\", 'mustn', 'those', 'being',\n",
      "                            'until', 'than', 'any', 'had', 'of', 'myself',\n",
      "                            'their', \"you'll\", 'o', 'under', \"aren't\", 'have',\n",
      "                            'hasn', 'they', 'most', 'does', 'so', 'own', 'were',\n",
      "                            'yourself', 'how', 'weren', 'me', 'are', 'that', ...])\n",
      "classifier__solver : saga\n",
      "classifier__penalty : l1\n",
      "classifier__C : 10\n",
      "Мера F1 для наилучшей модели: 0.6777\n",
      "CPU times: user 11.1 s, sys: 27.4 ms, total: 11.1 s\n",
      "Wall time: 11.2 s\n"
     ]
    }
   ],
   "source": [
    "%%time\n",
    "\n",
    "clf = LogisticRegression(class_weight='balanced', random_state=RANDOM_STATE)\n",
    "\n",
    "param = {}\n",
    "param['preprocessing'] =  [TfidfVectorizer(stop_words=list(stop_words))]\n",
    "param['classifier__solver'] =  ['newton-cg', 'lbfgs', 'liblinear', 'sag', 'saga']\n",
    "param['classifier__penalty'] =  ['none', 'elasticnet', 'l1', 'l2']\n",
    "param['classifier__C'] =  [0.001, 0.01, 0.1, 1, 10, 100]\n",
    "param['classifier'] = [clf]   \n",
    "\n",
    "pipeline = Pipeline([('preprocessing', TfidfVectorizer(stop_words=list(stop_words))),\n",
    "                      ('classifier', clf)])\n",
    "params = [param]\n",
    "\n",
    "cv = StratifiedKFold(n_splits=3, shuffle=True, random_state=RANDOM_STATE) \n",
    "grid =  RandomizedSearchCV(pipeline,\n",
    "                           param_distributions=params,\n",
    "                           scoring='f1',\n",
    "                           n_iter=10,\n",
    "                           cv=cv,\n",
    "                           random_state=RANDOM_STATE,\n",
    "                           refit=True)\n",
    "\n",
    "grid.fit(X_train, y_train)\n",
    "\n",
    "\n",
    "print('Параметры наилучшей модели:')\n",
    "print(\"\\n\".join(f'{k} : {v}' for k,v in grid.best_params_.items() if k!='classifier'))\n",
    "print(\"Мера F1 для наилучшей модели:\", round(grid.best_score_,4))\n",
    "\n",
    "logreg_model_tf_idf = grid.best_estimator_\n",
    "metrics_table.loc[len(metrics_table)] = ['logreg_model_tf_idf'] + [round(grid.best_score_,2)];"
   ]
  },
  {
   "cell_type": "markdown",
   "metadata": {
    "id": "3xHiHh7hrnki"
   },
   "source": [
    "Модель логистической регрессии улучшить не получилось, метрика не дотягивает до необходимой."
   ]
  },
  {
   "cell_type": "code",
   "execution_count": 24,
   "metadata": {
    "colab": {
     "base_uri": "https://localhost:8080/"
    },
    "id": "z0yoheG5vP7V",
    "outputId": "ad470d73-5858-434c-f701-88e298720c24"
   },
   "outputs": [
    {
     "name": "stdout",
     "output_type": "stream",
     "text": [
      "Параметры наилучшей модели:\n",
      "classifier__depth : 8\n",
      "classifier__iterations : 90\n",
      "classifier__learning_rate : 0.8923437294461335\n",
      "preprocessing : TfidfVectorizer(stop_words=['am', \"couldn't\", 'mustn', 'those', 'being',\n",
      "                            'until', 'than', 'any', 'had', 'of', 'myself',\n",
      "                            'their', \"you'll\", 'o', 'under', \"aren't\", 'have',\n",
      "                            'hasn', 'they', 'most', 'does', 'so', 'own', 'were',\n",
      "                            'yourself', 'how', 'weren', 'me', 'are', 'that', ...])\n",
      "Мера F1 для наилучшей модели: 0.6034\n",
      "CPU times: user 4min 5s, sys: 19.9 s, total: 4min 25s\n",
      "Wall time: 2min 47s\n"
     ]
    }
   ],
   "source": [
    "%%time\n",
    "\n",
    "clf = CatBoostClassifier(auto_class_weights='Balanced', \n",
    "                          verbose=False, random_seed=RANDOM_STATE)\n",
    "\n",
    "param = {}\n",
    "param['preprocessing'] =  [TfidfVectorizer(stop_words=list(stop_words))]\n",
    "param['classifier__depth'] =  sp_randInt(1, 10)\n",
    "param['classifier__learning_rate'] =  sp_randFloat()\n",
    "param['classifier__iterations'] =  sp_randInt(10, 100)\n",
    "param['classifier'] = [clf]   \n",
    "\n",
    "pipeline = Pipeline([('preprocessing', TfidfVectorizer(stop_words=list(stop_words))),\n",
    "                      ('classifier', clf)])\n",
    "params = [param]\n",
    "cv = StratifiedKFold(n_splits=3, shuffle=True, random_state=RANDOM_STATE) \n",
    "grid =  RandomizedSearchCV(pipeline,\n",
    "                           param_distributions=params,\n",
    "                           scoring='f1',\n",
    "                           n_iter=5,\n",
    "                           cv=cv,\n",
    "                           random_state=RANDOM_STATE,\n",
    "                           refit=True)\n",
    "\n",
    "grid.fit(X_train, y_train)\n",
    "\n",
    "\n",
    "print('Параметры наилучшей модели:')\n",
    "print(\"\\n\".join(f'{k} : {v}' for k,v in grid.best_params_.items() if k!='classifier'))\n",
    "print(\"Мера F1 для наилучшей модели:\", round(grid.best_score_,4))\n",
    "\n",
    "catboost_model_tf_idf = grid.best_estimator_\n",
    "metrics_table.loc[len(metrics_table)] = ['catboost_model_tf_idf'] + [round(grid.best_score_,2)];"
   ]
  },
  {
   "cell_type": "markdown",
   "metadata": {
    "id": "K6HMEY7jscsp"
   },
   "source": [
    "Для модели градиентного бустинга удалось улучшить результат подбором гиперпараметров, однако он все равно меньше минимально необходимой в 0.75. Попробуем другой подход, с использованием модели BERT."
   ]
  },
  {
   "cell_type": "markdown",
   "metadata": {
    "id": "zMCjvuscvP7W"
   },
   "source": [
    "### BERT"
   ]
  },
  {
   "cell_type": "markdown",
   "metadata": {
    "id": "4IFPPoiFvP7W"
   },
   "source": [
    "Подготовим данные с помощью предобученной модели BERT. Использовать будем модель 'unitary/toxic-bert', которая создана специально для выявления негативных комментариев. Для увеличения скорости работы, расчеты ведуться на GPU при его наличии:"
   ]
  },
  {
   "cell_type": "code",
   "execution_count": 25,
   "metadata": {
    "id": "v8phkyHkx4yx"
   },
   "outputs": [],
   "source": [
    "# определим наличие gpu\n",
    "device = torch.device(\"cuda:0\" if torch.cuda.is_available() else \"cpu\")"
   ]
  },
  {
   "cell_type": "code",
   "execution_count": 26,
   "metadata": {
    "colab": {
     "base_uri": "https://localhost:8080/",
     "height": 156,
     "referenced_widgets": [
      "2317b050fac249b9b37ea5133ad923f4",
      "e471d017626f48c083484c5af7e09208",
      "fbfdfa60aaf144318980264652fe5e89",
      "bb39dc2166774cc3b446314086077080",
      "59c9ddf2525c4b3db8354996018dcfc1",
      "67fc6e53a99b433e8f5fc1caae5379a0",
      "2825c03a82484ed1a0dad051733b3f0f",
      "ad6deea6e0b549078c5764f8f2c0795d",
      "b32e73656b4746ed8c9c6fc18a614247",
      "2f456bd9653344feaade38ce8e60d18a",
      "b8c0c5a3a38a458e88101ca59438e25f"
     ]
    },
    "id": "FbuZJwn875OJ",
    "outputId": "6b3016cf-70c9-4cd1-945b-cf5bdf3ff809"
   },
   "outputs": [
    {
     "name": "stderr",
     "output_type": "stream",
     "text": [
      "Some weights of the model checkpoint at unitary/toxic-bert were not used when initializing BertModel: ['classifier.bias', 'classifier.weight']\n",
      "- This IS expected if you are initializing BertModel from the checkpoint of a model trained on another task or with another architecture (e.g. initializing a BertForSequenceClassification model from a BertForPreTraining model).\n",
      "- This IS NOT expected if you are initializing BertModel from the checkpoint of a model that you expect to be exactly identical (initializing a BertForSequenceClassification model from a BertForSequenceClassification model).\n"
     ]
    },
    {
     "data": {
      "application/vnd.jupyter.widget-view+json": {
       "model_id": "2317b050fac249b9b37ea5133ad923f4",
       "version_major": 2,
       "version_minor": 0
      },
      "text/plain": [
       "  0%|          | 0/100 [00:00<?, ?it/s]"
      ]
     },
     "metadata": {},
     "output_type": "display_data"
    },
    {
     "name": "stdout",
     "output_type": "stream",
     "text": [
      "CPU times: user 2min 25s, sys: 1.13 s, total: 2min 26s\n",
      "Wall time: 2min 27s\n"
     ]
    }
   ],
   "source": [
    "%%time\n",
    "tokenizer = BertTokenizer.from_pretrained('unitary/toxic-bert')\n",
    "model = BertModel.from_pretrained('unitary/toxic-bert').to(device)\n",
    "# в одном цикле обрабатываем сразу тренироваочные и тестовые данные\n",
    "text = np.concatenate([X_train.values, X_test.values])\n",
    "\n",
    "batch_size = 50\n",
    "embeddings = []\n",
    "for i in notebook.tqdm(range(0, len(text), batch_size)):\n",
    "        inputs    = tokenizer(list(text[i:i+batch_size]), return_tensors='pt', truncation=True, padding=True, max_length=512).to(device)\n",
    "        with torch.no_grad():\n",
    "            outputs   = model(**inputs)        \n",
    "        embeddings.append(outputs[0][:,0,:].cpu().numpy())"
   ]
  },
  {
   "cell_type": "code",
   "execution_count": 27,
   "metadata": {
    "id": "Ge0tfJ5nvP7Z"
   },
   "outputs": [],
   "source": [
    "text_bert = np.concatenate(embeddings)\n",
    "X_train_bert = text_bert[:len(X_train)]\n",
    "X_test_bert = text_bert[len(X_train):]"
   ]
  },
  {
   "cell_type": "markdown",
   "metadata": {
    "id": "aGnFs0qe4aHy"
   },
   "source": [
    "Тренировочные и тестовые данные подготовлены, перейдем к выбору модели:"
   ]
  },
  {
   "cell_type": "code",
   "execution_count": 28,
   "metadata": {
    "colab": {
     "base_uri": "https://localhost:8080/"
    },
    "id": "9KAYzZjlvP7a",
    "outputId": "2d5b582f-81a0-42a2-af67-5e098696b0af"
   },
   "outputs": [
    {
     "name": "stdout",
     "output_type": "stream",
     "text": [
      "DecisionTreeClassifier(class_weight='balanced', random_state=12345)\n",
      "\tTraining time: 2.738s\n",
      "\tPrediction time: 0.000s\n",
      "\tF1 score: 0.815\n",
      "\n",
      "RandomForestClassifier(class_weight='balanced', random_state=12345)\n",
      "\tTraining time: 5.668s\n",
      "\tPrediction time: 0.000s\n",
      "\tF1 score: 0.881\n",
      "\n",
      "LGBMClassifier(is_unbalance=True, random_state=12345)\n",
      "\tTraining time: 30.094s\n",
      "\tPrediction time: 0.000s\n",
      "\tF1 score: 0.890\n",
      "\n",
      "LogisticRegression(class_weight='balanced', random_state=12345)\n",
      "\tTraining time: 0.610s\n",
      "\tPrediction time: 0.000s\n",
      "\tF1 score: 0.874\n",
      "\n",
      "<catboost.core.CatBoostClassifier object at 0x7f9f5432f1f0>\n",
      "\tTraining time: 17.119s\n",
      "\tPrediction time: 0.000s\n",
      "\tF1 score: 0.868\n",
      "\n"
     ]
    }
   ],
   "source": [
    "for model in classifiers:\n",
    "    start = time.time()\n",
    "    cv = StratifiedKFold(n_splits=3, shuffle=True, random_state=RANDOM_STATE) \n",
    "    scores = cross_val_score(model, X_train_bert, y_train, \n",
    "                             cv=cv, scoring='f1')\n",
    "    train_time = time.time() - start\n",
    "    start = time.time()\n",
    "    predict_time = time.time()-start  \n",
    "    final_score = scores.mean()\n",
    "    print(model)\n",
    "    print(\"\\tTraining time: %0.3fs\" % train_time)\n",
    "    print(\"\\tPrediction time: %0.3fs\" % predict_time)\n",
    "    print(\"\\tF1 score: %0.3f\" % abs(final_score))\n",
    "    print()"
   ]
  },
  {
   "cell_type": "markdown",
   "metadata": {
    "id": "K17FReRiqIdz"
   },
   "source": [
    "В отличии от подхода с TF-IDF, все модели достигли нужной метрики со стандартными значениями. А модель случайного леса показала наилучший результат. Попробуем подобрать гиперпараметры для нее и для модели градиентного бустинга LGBMClassifier."
   ]
  },
  {
   "cell_type": "code",
   "execution_count": 29,
   "metadata": {
    "colab": {
     "base_uri": "https://localhost:8080/"
    },
    "id": "noslae-WvP7J",
    "outputId": "77786454-7035-4573-a805-3835ba2cb8b9"
   },
   "outputs": [
    {
     "name": "stdout",
     "output_type": "stream",
     "text": [
      "Параметры наилучшей модели:\n",
      "criterion : entropy\n",
      "max_depth : 75\n",
      "max_features : sqrt\n",
      "min_samples_leaf : 3\n",
      "min_samples_split : 2\n",
      "n_estimators : 110\n",
      "Мера F1 для наилучшей модели: 0.8952\n",
      "CPU times: user 51.2 s, sys: 110 ms, total: 51.3 s\n",
      "Wall time: 51.4 s\n"
     ]
    }
   ],
   "source": [
    "%%time\n",
    "\n",
    "param_grid = {'max_depth':list(np.arange(5, 100, step=5)) + [None],\n",
    "              'criterion':['gini','entropy'],\n",
    "              'n_estimators':np.arange(10, 500, step=50),\n",
    "              'max_features':['auto','sqrt','log2'],\n",
    "               'min_samples_leaf': st.randint(1,4),\n",
    "              'min_samples_split': np.arange(2, 10, step=2)}\n",
    "             \n",
    "clf = RandomForestClassifier(class_weight='balanced', random_state=RANDOM_STATE)\n",
    "cv = StratifiedKFold(n_splits=3, shuffle=True, random_state=RANDOM_STATE) \n",
    "grid =  RandomizedSearchCV(clf,\n",
    "                           param_distributions=param_grid,\n",
    "                           scoring='f1',\n",
    "                           n_iter=5,\n",
    "                           cv=cv,\n",
    "                           random_state=RANDOM_STATE,\n",
    "                           refit=True)\n",
    "\n",
    "grid.fit(X_train_bert, y_train)\n",
    "\n",
    "print('Параметры наилучшей модели:')\n",
    "print(\"\\n\".join(f'{k} : {v}' for k,v in grid.best_params_.items() if k!='classifier'))\n",
    "print(\"Мера F1 для наилучшей модели:\", round(grid.best_score_,4))\n",
    "\n",
    "rf_model_bert = grid.best_estimator_\n",
    "metrics_table.loc[len(metrics_table)] = ['rf_model_bert'] + [round(grid.best_score_,2)];"
   ]
  },
  {
   "cell_type": "code",
   "execution_count": 30,
   "metadata": {
    "colab": {
     "base_uri": "https://localhost:8080/"
    },
    "id": "Vt1UeZo5LBpQ",
    "outputId": "b8a3ca7c-168d-4612-fece-f263854c45af"
   },
   "outputs": [
    {
     "name": "stdout",
     "output_type": "stream",
     "text": [
      "Параметры наилучшей модели:\n",
      "learning_rate : 0.024676210429265266\n",
      "max_depth : 1\n",
      "n_estimators : 165\n",
      "num_iterations : 48\n",
      "Мера F1 для наилучшей модели: 0.8333\n",
      "CPU times: user 50.5 s, sys: 252 ms, total: 50.7 s\n",
      "Wall time: 29 s\n"
     ]
    }
   ],
   "source": [
    "%%time\n",
    "\n",
    "clf = LGBMClassifier(is_unbalance=True, random_state=12345)\n",
    "param_grid = {'max_depth': sp_randInt(1, 10),\n",
    "              'learning_rate':sp_randFloat(),\n",
    "              'n_estimators':sp_randInt(10, 300),\n",
    "              'num_iterations':sp_randInt(10, 100)}\n",
    "\n",
    "cv = StratifiedKFold(n_splits=3, shuffle=True, random_state=RANDOM_STATE) \n",
    "grid =  RandomizedSearchCV(clf,\n",
    "                           param_distributions=param_grid,\n",
    "                           scoring='f1',\n",
    "                           n_iter=10,\n",
    "                           cv=cv,\n",
    "                           random_state=RANDOM_STATE,\n",
    "                           refit=True)\n",
    "\n",
    "grid.fit(X_train_bert, y_train)\n",
    "\n",
    "\n",
    "print('Параметры наилучшей модели:')\n",
    "print(\"\\n\".join(f'{k} : {v}' for k,v in grid.best_params_.items() if k!='classifier'))\n",
    "print(\"Мера F1 для наилучшей модели:\", round(grid.best_score_,4))\n",
    "\n",
    "lgbm_model_bert = grid.best_estimator_\n",
    "metrics_table.loc[len(metrics_table)] = ['lgbm_model_bert'] + [round(grid.best_score_,2)];"
   ]
  },
  {
   "cell_type": "markdown",
   "metadata": {
    "id": "QOCB88394eBb"
   },
   "source": [
    "Выведем таблицу результатов кросс валидации лучших моделей на тренировочной выборке:"
   ]
  },
  {
   "cell_type": "code",
   "execution_count": 31,
   "metadata": {
    "colab": {
     "base_uri": "https://localhost:8080/",
     "height": 175
    },
    "id": "BdvGTWJYMxpV",
    "outputId": "e9a1ce15-73ad-4e7f-82bd-d0e4e3cf0e98"
   },
   "outputs": [
    {
     "data": {
      "text/html": [
       "\n",
       "  <div id=\"df-a17348d2-438c-4cc1-8fc5-f967bde55cc0\">\n",
       "    <div class=\"colab-df-container\">\n",
       "      <div>\n",
       "<style scoped>\n",
       "    .dataframe tbody tr th:only-of-type {\n",
       "        vertical-align: middle;\n",
       "    }\n",
       "\n",
       "    .dataframe tbody tr th {\n",
       "        vertical-align: top;\n",
       "    }\n",
       "\n",
       "    .dataframe thead th {\n",
       "        text-align: right;\n",
       "    }\n",
       "</style>\n",
       "<table border=\"1\" class=\"dataframe\">\n",
       "  <thead>\n",
       "    <tr style=\"text-align: right;\">\n",
       "      <th></th>\n",
       "      <th>model</th>\n",
       "      <th>f1</th>\n",
       "    </tr>\n",
       "  </thead>\n",
       "  <tbody>\n",
       "    <tr>\n",
       "      <th>0</th>\n",
       "      <td>logreg_model_tf_idf</td>\n",
       "      <td>0.68</td>\n",
       "    </tr>\n",
       "    <tr>\n",
       "      <th>1</th>\n",
       "      <td>catboost_model_tf_idf</td>\n",
       "      <td>0.60</td>\n",
       "    </tr>\n",
       "    <tr>\n",
       "      <th>2</th>\n",
       "      <td>rf_model_bert</td>\n",
       "      <td>0.90</td>\n",
       "    </tr>\n",
       "    <tr>\n",
       "      <th>3</th>\n",
       "      <td>lgbm_model_bert</td>\n",
       "      <td>0.83</td>\n",
       "    </tr>\n",
       "  </tbody>\n",
       "</table>\n",
       "</div>\n",
       "      <button class=\"colab-df-convert\" onclick=\"convertToInteractive('df-a17348d2-438c-4cc1-8fc5-f967bde55cc0')\"\n",
       "              title=\"Convert this dataframe to an interactive table.\"\n",
       "              style=\"display:none;\">\n",
       "        \n",
       "  <svg xmlns=\"http://www.w3.org/2000/svg\" height=\"24px\"viewBox=\"0 0 24 24\"\n",
       "       width=\"24px\">\n",
       "    <path d=\"M0 0h24v24H0V0z\" fill=\"none\"/>\n",
       "    <path d=\"M18.56 5.44l.94 2.06.94-2.06 2.06-.94-2.06-.94-.94-2.06-.94 2.06-2.06.94zm-11 1L8.5 8.5l.94-2.06 2.06-.94-2.06-.94L8.5 2.5l-.94 2.06-2.06.94zm10 10l.94 2.06.94-2.06 2.06-.94-2.06-.94-.94-2.06-.94 2.06-2.06.94z\"/><path d=\"M17.41 7.96l-1.37-1.37c-.4-.4-.92-.59-1.43-.59-.52 0-1.04.2-1.43.59L10.3 9.45l-7.72 7.72c-.78.78-.78 2.05 0 2.83L4 21.41c.39.39.9.59 1.41.59.51 0 1.02-.2 1.41-.59l7.78-7.78 2.81-2.81c.8-.78.8-2.07 0-2.86zM5.41 20L4 18.59l7.72-7.72 1.47 1.35L5.41 20z\"/>\n",
       "  </svg>\n",
       "      </button>\n",
       "      \n",
       "  <style>\n",
       "    .colab-df-container {\n",
       "      display:flex;\n",
       "      flex-wrap:wrap;\n",
       "      gap: 12px;\n",
       "    }\n",
       "\n",
       "    .colab-df-convert {\n",
       "      background-color: #E8F0FE;\n",
       "      border: none;\n",
       "      border-radius: 50%;\n",
       "      cursor: pointer;\n",
       "      display: none;\n",
       "      fill: #1967D2;\n",
       "      height: 32px;\n",
       "      padding: 0 0 0 0;\n",
       "      width: 32px;\n",
       "    }\n",
       "\n",
       "    .colab-df-convert:hover {\n",
       "      background-color: #E2EBFA;\n",
       "      box-shadow: 0px 1px 2px rgba(60, 64, 67, 0.3), 0px 1px 3px 1px rgba(60, 64, 67, 0.15);\n",
       "      fill: #174EA6;\n",
       "    }\n",
       "\n",
       "    [theme=dark] .colab-df-convert {\n",
       "      background-color: #3B4455;\n",
       "      fill: #D2E3FC;\n",
       "    }\n",
       "\n",
       "    [theme=dark] .colab-df-convert:hover {\n",
       "      background-color: #434B5C;\n",
       "      box-shadow: 0px 1px 3px 1px rgba(0, 0, 0, 0.15);\n",
       "      filter: drop-shadow(0px 1px 2px rgba(0, 0, 0, 0.3));\n",
       "      fill: #FFFFFF;\n",
       "    }\n",
       "  </style>\n",
       "\n",
       "      <script>\n",
       "        const buttonEl =\n",
       "          document.querySelector('#df-a17348d2-438c-4cc1-8fc5-f967bde55cc0 button.colab-df-convert');\n",
       "        buttonEl.style.display =\n",
       "          google.colab.kernel.accessAllowed ? 'block' : 'none';\n",
       "\n",
       "        async function convertToInteractive(key) {\n",
       "          const element = document.querySelector('#df-a17348d2-438c-4cc1-8fc5-f967bde55cc0');\n",
       "          const dataTable =\n",
       "            await google.colab.kernel.invokeFunction('convertToInteractive',\n",
       "                                                     [key], {});\n",
       "          if (!dataTable) return;\n",
       "\n",
       "          const docLinkHtml = 'Like what you see? Visit the ' +\n",
       "            '<a target=\"_blank\" href=https://colab.research.google.com/notebooks/data_table.ipynb>data table notebook</a>'\n",
       "            + ' to learn more about interactive tables.';\n",
       "          element.innerHTML = '';\n",
       "          dataTable['output_type'] = 'display_data';\n",
       "          await google.colab.output.renderOutput(dataTable, element);\n",
       "          const docLink = document.createElement('div');\n",
       "          docLink.innerHTML = docLinkHtml;\n",
       "          element.appendChild(docLink);\n",
       "        }\n",
       "      </script>\n",
       "    </div>\n",
       "  </div>\n",
       "  "
      ],
      "text/plain": [
       "                   model    f1\n",
       "0    logreg_model_tf_idf  0.68\n",
       "1  catboost_model_tf_idf  0.60\n",
       "2          rf_model_bert  0.90\n",
       "3        lgbm_model_bert  0.83"
      ]
     },
     "execution_count": 31,
     "metadata": {},
     "output_type": "execute_result"
    }
   ],
   "source": [
    "metrics_table"
   ]
  },
  {
   "cell_type": "markdown",
   "metadata": {
    "id": "iOOTIErC4gtK"
   },
   "source": [
    "Лучший результат получился у модели случайного леса обученной на эмбеддингах модели BERT, метрика F1 получилась равной 0.9 на тренировочной выборке. Проверим выбранную модель на тестовой выборке:"
   ]
  },
  {
   "cell_type": "code",
   "execution_count": 32,
   "metadata": {
    "colab": {
     "base_uri": "https://localhost:8080/",
     "height": 466
    },
    "id": "tsB4Ln03vP7I",
    "outputId": "d820e7ea-7cc6-4c55-c98e-c7c9e6ec6682"
   },
   "outputs": [
    {
     "name": "stdout",
     "output_type": "stream",
     "text": [
      "F1 тестовой выборки: 0.9370629370629371\n"
     ]
    },
    {
     "data": {
      "image/png": "[encoded data removed]",
      "text/plain": [
       "<Figure size 640x480 with 2 Axes>"
      ]
     },
     "metadata": {},
     "output_type": "display_data"
    }
   ],
   "source": [
    "cm = confusion_matrix(y_test, rf_model_bert.predict(X_test_bert), labels=rf_model_bert.classes_)\n",
    "disp = ConfusionMatrixDisplay(confusion_matrix=cm,\n",
    "                              display_labels=rf_model_bert.classes_)\n",
    "disp.plot()\n",
    "\n",
    "print(\"F1 тестовой выборки:\", f1_score(y_test, rf_model_bert.predict((X_test_bert))))"
   ]
  },
  {
   "cell_type": "markdown",
   "metadata": {
    "id": "WiEBw1NgRpUs"
   },
   "source": [
    "Выбранная модель случайного леса обученная на эмбеддингах модели BERT показала на тренировочной выборке результат для F1 равный 0.93, что удовлетворяет условию поставленной задачи."
   ]
  },
  {
   "cell_type": "markdown",
   "metadata": {
    "id": "QnjRIit5vP7a"
   },
   "source": [
    "## Выводы"
   ]
  },
  {
   "cell_type": "markdown",
   "metadata": {
    "id": "BHcz-HHvvP7b"
   },
   "source": [
    "Перед нами стояла задача создания инструмента для поиска токсичных комментариев для интернет-магазина «Викишоп». Метрика качества F1 полученной модели должна быть не меньше 0.75.\n",
    "\n",
    "В нашем распоряжении был набор данных с разметкой о токсичности правок. Комментариев с негатиным окрасом в данных сильно меньше чем позитивных, а значит классы несбалансированны. Поскольку в данных почти 160 тысяч комментариев, для сокращения времени обучения мы использовали лишь небольшую часть всех данных - 5000 комментариев на тренировочной и 2000 комментраие на тестовой выборках. На тренировочной выборке мы сохранили исходный баланс классов, а на тестовой изменили, сделав равное количество негативных и позитивных комментариев.\n",
    "\n",
    "Во время предобработки данных мы убрали ненужные символы переноса строки, цифры, знаки препинания и и лемматизировали слова, используя библиотеку spacy.\n",
    "    \n",
    "Мы использовали два подхода к созданию эмбединга слов: TF-IDF и модель BERT. \n",
    "\n",
    "Наилучший результат с векторами TF-IDF показали модели логистической регресси и градиентного бустинга, однако нам не удалось добиться метрики F1 превышающей заданное минимальное значение в 0.75.  \n",
    "\n",
    "Второй подход с использованием предобученной модели BERT оказался более удачным. Мы использовали модель 'unitary/toxic-bert', созданную специально для выявления негативных комментариев. В отличии от подхода с TF-IDF, все модели достигли нужной метрики со стандартными значениями. После подбора гиперпараметров, лучший результат получился у модели случайного леса, метрика F1 получилась равной 0.9 на тренировочной выборке. \n",
    "\n",
    "Выбранная модель случайного леса обученная на эмбеддингах модели BERT показала на тренировочной выборке результат для F1 равный 0.93, что удовлетворяет условию поставленной задачи."
   ]
  }
 ],
 "metadata": {
  "ExecuteTimeLog": [
   {
    "duration": 4432,
    "start_time": "2023-06-01T09:55:38.043Z"
   },
   {
    "duration": 26,
    "start_time": "2023-06-01T09:55:46.050Z"
   },
   {
    "duration": 985,
    "start_time": "2023-06-01T11:22:18.504Z"
   },
   {
    "duration": 1445,
    "start_time": "2023-06-06T09:00:15.236Z"
   },
   {
    "duration": 8,
    "start_time": "2023-06-06T09:00:18.304Z"
   },
   {
    "duration": 3368,
    "start_time": "2023-06-06T09:00:20.089Z"
   },
   {
    "duration": 13,
    "start_time": "2023-06-06T09:00:23.459Z"
   },
   {
    "duration": 703,
    "start_time": "2023-06-06T09:00:23.473Z"
   },
   {
    "duration": 100,
    "start_time": "2023-06-06T09:02:36.274Z"
   },
   {
    "duration": 143,
    "start_time": "2023-06-06T09:05:40.406Z"
   },
   {
    "duration": 925,
    "start_time": "2023-06-06T09:05:50.874Z"
   },
   {
    "duration": 11,
    "start_time": "2023-06-06T09:05:51.866Z"
   },
   {
    "duration": 128,
    "start_time": "2023-06-06T09:06:02.510Z"
   },
   {
    "duration": 691,
    "start_time": "2023-06-06T09:06:33.143Z"
   },
   {
    "duration": 48,
    "start_time": "2023-06-06T09:07:18.524Z"
   },
   {
    "duration": 44,
    "start_time": "2023-06-06T09:07:25.494Z"
   },
   {
    "duration": 28,
    "start_time": "2023-06-06T09:07:34.790Z"
   },
   {
    "duration": 79,
    "start_time": "2023-06-06T09:07:35.937Z"
   },
   {
    "duration": 32,
    "start_time": "2023-06-06T09:09:17.181Z"
   },
   {
    "duration": 97,
    "start_time": "2023-06-06T09:09:18.686Z"
   },
   {
    "duration": 28,
    "start_time": "2023-06-06T09:09:53.429Z"
   },
   {
    "duration": 82,
    "start_time": "2023-06-06T09:09:54.352Z"
   },
   {
    "duration": 29,
    "start_time": "2023-06-06T09:10:08.349Z"
   },
   {
    "duration": 78,
    "start_time": "2023-06-06T09:10:09.292Z"
   },
   {
    "duration": 28,
    "start_time": "2023-06-06T09:10:44.650Z"
   },
   {
    "duration": 81,
    "start_time": "2023-06-06T09:10:45.509Z"
   },
   {
    "duration": 54,
    "start_time": "2023-06-06T09:10:55.388Z"
   },
   {
    "duration": 28,
    "start_time": "2023-06-06T09:11:06.406Z"
   },
   {
    "duration": 81,
    "start_time": "2023-06-06T09:11:08.436Z"
   },
   {
    "duration": 10,
    "start_time": "2023-06-06T09:11:18.666Z"
   },
   {
    "duration": 29,
    "start_time": "2023-06-06T09:11:28.759Z"
   },
   {
    "duration": 10,
    "start_time": "2023-06-06T09:11:29.261Z"
   },
   {
    "duration": 654,
    "start_time": "2023-06-06T09:11:56.928Z"
   },
   {
    "duration": 24,
    "start_time": "2023-06-06T09:12:03.600Z"
   },
   {
    "duration": 8,
    "start_time": "2023-06-06T09:12:04.400Z"
   },
   {
    "duration": 22,
    "start_time": "2023-06-06T09:12:13.767Z"
   },
   {
    "duration": 9,
    "start_time": "2023-06-06T09:12:15.133Z"
   },
   {
    "duration": 21,
    "start_time": "2023-06-06T09:12:28.864Z"
   },
   {
    "duration": 8,
    "start_time": "2023-06-06T09:12:29.240Z"
   },
   {
    "duration": 875,
    "start_time": "2023-06-06T09:25:54.258Z"
   },
   {
    "duration": 0,
    "start_time": "2023-06-06T09:25:55.134Z"
   },
   {
    "duration": 683,
    "start_time": "2023-06-06T09:26:02.897Z"
   },
   {
    "duration": 15,
    "start_time": "2023-06-06T09:26:13.900Z"
   },
   {
    "duration": 8,
    "start_time": "2023-06-06T09:26:24.801Z"
   },
   {
    "duration": 9,
    "start_time": "2023-06-06T09:26:34.598Z"
   },
   {
    "duration": 7,
    "start_time": "2023-06-06T09:26:39.114Z"
   },
   {
    "duration": 16,
    "start_time": "2023-06-06T09:26:47.061Z"
   },
   {
    "duration": 7,
    "start_time": "2023-06-06T09:26:57.127Z"
   },
   {
    "duration": 16,
    "start_time": "2023-06-06T09:26:58.807Z"
   },
   {
    "duration": 541,
    "start_time": "2023-06-06T09:50:44.042Z"
   },
   {
    "duration": 214,
    "start_time": "2023-06-06T12:03:40.705Z"
   },
   {
    "duration": 2708,
    "start_time": "2023-06-06T12:04:46.948Z"
   },
   {
    "duration": 7401,
    "start_time": "2023-06-06T12:06:07.142Z"
   },
   {
    "duration": 234,
    "start_time": "2023-06-06T12:06:33.501Z"
   },
   {
    "duration": 837,
    "start_time": "2023-06-06T12:07:14.499Z"
   },
   {
    "duration": 4,
    "start_time": "2023-06-06T12:07:46.289Z"
   },
   {
    "duration": 67,
    "start_time": "2023-06-06T12:26:23.652Z"
   },
   {
    "duration": 445,
    "start_time": "2023-06-06T12:26:38.692Z"
   },
   {
    "duration": 2,
    "start_time": "2023-06-06T12:26:58.653Z"
   },
   {
    "duration": 905215,
    "start_time": "2023-06-06T12:28:48.027Z"
   },
   {
    "duration": 27,
    "start_time": "2023-06-06T12:47:30.160Z"
   },
   {
    "duration": 9,
    "start_time": "2023-06-06T12:47:44.067Z"
   },
   {
    "duration": 4742,
    "start_time": "2023-06-06T12:50:11.701Z"
   },
   {
    "duration": 673,
    "start_time": "2023-06-06T12:50:49.411Z"
   },
   {
    "duration": 633,
    "start_time": "2023-06-06T12:51:02.881Z"
   },
   {
    "duration": 53,
    "start_time": "2023-06-06T12:51:17.312Z"
   },
   {
    "duration": 21,
    "start_time": "2023-06-06T12:51:24.976Z"
   },
   {
    "duration": 1931,
    "start_time": "2023-06-06T12:51:29.169Z"
   },
   {
    "duration": 2490,
    "start_time": "2023-06-06T12:51:39.471Z"
   },
   {
    "duration": 3,
    "start_time": "2023-06-06T12:52:22.718Z"
   },
   {
    "duration": 3,
    "start_time": "2023-06-06T12:52:23.053Z"
   },
   {
    "duration": 7674,
    "start_time": "2023-06-07T08:39:53.089Z"
   },
   {
    "duration": 8,
    "start_time": "2023-06-07T08:40:00.765Z"
   },
   {
    "duration": 5800,
    "start_time": "2023-06-07T08:40:00.774Z"
   },
   {
    "duration": 13,
    "start_time": "2023-06-07T08:40:06.576Z"
   },
   {
    "duration": 686,
    "start_time": "2023-06-07T08:40:06.591Z"
   },
   {
    "duration": 7,
    "start_time": "2023-06-07T08:40:07.279Z"
   },
   {
    "duration": 52,
    "start_time": "2023-06-07T08:40:07.287Z"
   },
   {
    "duration": 727,
    "start_time": "2023-06-07T08:40:07.343Z"
   },
   {
    "duration": 4902,
    "start_time": "2023-06-07T08:40:31.023Z"
   },
   {
    "duration": 5,
    "start_time": "2023-06-07T08:40:58.975Z"
   },
   {
    "duration": 790,
    "start_time": "2023-06-07T08:41:36.305Z"
   },
   {
    "duration": 4083,
    "start_time": "2023-06-07T08:45:10.497Z"
   },
   {
    "duration": 768,
    "start_time": "2023-06-07T08:45:29.424Z"
   },
   {
    "duration": 1233,
    "start_time": "2023-06-07T08:45:53.332Z"
   },
   {
    "duration": 655,
    "start_time": "2023-06-07T08:46:14.206Z"
   },
   {
    "duration": 2832,
    "start_time": "2023-06-07T08:46:16.544Z"
   },
   {
    "duration": 831,
    "start_time": "2023-06-07T08:51:32.132Z"
   },
   {
    "duration": 3,
    "start_time": "2023-06-07T08:51:41.889Z"
   },
   {
    "duration": 792,
    "start_time": "2023-06-07T08:51:44.134Z"
   },
   {
    "duration": 9,
    "start_time": "2023-06-07T08:52:02.424Z"
   },
   {
    "duration": 824,
    "start_time": "2023-06-07T08:52:06.449Z"
   },
   {
    "duration": 899120,
    "start_time": "2023-06-07T08:52:10.519Z"
   },
   {
    "duration": 11,
    "start_time": "2023-06-07T09:30:14.735Z"
   },
   {
    "duration": 585,
    "start_time": "2023-06-07T09:30:50.393Z"
   },
   {
    "duration": 1356,
    "start_time": "2023-06-07T09:30:51.794Z"
   },
   {
    "duration": 2331,
    "start_time": "2023-06-08T09:34:25.584Z"
   },
   {
    "duration": 15,
    "start_time": "2023-06-08T09:34:29.149Z"
   },
   {
    "duration": 4836,
    "start_time": "2023-06-08T09:34:29.553Z"
   },
   {
    "duration": 20,
    "start_time": "2023-06-08T09:34:34.391Z"
   },
   {
    "duration": 1032,
    "start_time": "2023-06-08T09:34:34.413Z"
   },
   {
    "duration": 278,
    "start_time": "2023-06-08T09:34:35.449Z"
   },
   {
    "duration": 11,
    "start_time": "2023-06-08T09:34:35.732Z"
   },
   {
    "duration": 34,
    "start_time": "2023-06-08T09:34:38.488Z"
   },
   {
    "duration": 44,
    "start_time": "2023-06-08T09:35:08.551Z"
   },
   {
    "duration": 48,
    "start_time": "2023-06-08T09:35:20.576Z"
   },
   {
    "duration": 176,
    "start_time": "2023-06-08T09:35:28.705Z"
   },
   {
    "duration": 293,
    "start_time": "2023-06-08T09:35:35.463Z"
   },
   {
    "duration": 4302,
    "start_time": "2023-06-08T09:35:37.053Z"
   },
   {
    "duration": 1116,
    "start_time": "2023-06-08T09:36:20.357Z"
   },
   {
    "duration": 11091,
    "start_time": "2023-06-08T09:36:23.255Z"
   },
   {
    "duration": 10,
    "start_time": "2023-06-08T09:37:34.093Z"
   },
   {
    "duration": 12,
    "start_time": "2023-06-08T09:37:47.841Z"
   },
   {
    "duration": 5,
    "start_time": "2023-06-08T09:38:05.590Z"
   },
   {
    "duration": 730,
    "start_time": "2023-06-08T09:38:08.660Z"
   },
   {
    "duration": 13,
    "start_time": "2023-06-08T09:38:09.574Z"
   },
   {
    "duration": 13,
    "start_time": "2023-06-08T09:38:19.459Z"
   },
   {
    "duration": 843,
    "start_time": "2023-06-08T09:42:21.782Z"
   },
   {
    "duration": 5,
    "start_time": "2023-06-08T09:42:46.513Z"
   },
   {
    "duration": 23,
    "start_time": "2023-06-08T09:42:47.814Z"
   },
   {
    "duration": 111,
    "start_time": "2023-06-08T09:48:11.277Z"
   },
   {
    "duration": 7,
    "start_time": "2023-06-08T09:48:29.997Z"
   },
   {
    "duration": 9,
    "start_time": "2023-06-08T09:49:52.018Z"
   },
   {
    "duration": 46,
    "start_time": "2023-06-08T09:50:55.895Z"
   },
   {
    "duration": 39,
    "start_time": "2023-06-08T09:51:14.120Z"
   },
   {
    "duration": 39,
    "start_time": "2023-06-08T09:51:18.871Z"
   },
   {
    "duration": 65,
    "start_time": "2023-06-08T10:31:44.786Z"
   },
   {
    "duration": 56,
    "start_time": "2023-06-08T10:32:11.564Z"
   },
   {
    "duration": 12,
    "start_time": "2023-06-08T10:32:34.606Z"
   },
   {
    "duration": 22,
    "start_time": "2023-06-08T10:32:37.923Z"
   },
   {
    "duration": 10,
    "start_time": "2023-06-08T10:32:51.862Z"
   },
   {
    "duration": 39,
    "start_time": "2023-06-08T10:33:18.124Z"
   },
   {
    "duration": 10,
    "start_time": "2023-06-08T10:33:48.520Z"
   },
   {
    "duration": 71,
    "start_time": "2023-06-08T10:35:22.478Z"
   },
   {
    "duration": 23,
    "start_time": "2023-06-08T10:35:59.786Z"
   },
   {
    "duration": 6,
    "start_time": "2023-06-08T10:36:27.315Z"
   },
   {
    "duration": 14,
    "start_time": "2023-06-08T10:36:43.318Z"
   },
   {
    "duration": 14,
    "start_time": "2023-06-08T10:36:47.079Z"
   },
   {
    "duration": 15,
    "start_time": "2023-06-08T10:38:18.686Z"
   },
   {
    "duration": 7,
    "start_time": "2023-06-08T10:38:21.230Z"
   },
   {
    "duration": 122,
    "start_time": "2023-06-08T10:38:22.072Z"
   },
   {
    "duration": 226,
    "start_time": "2023-06-08T10:38:32.087Z"
   },
   {
    "duration": 744,
    "start_time": "2023-06-08T10:38:33.870Z"
   },
   {
    "duration": 2691,
    "start_time": "2023-06-08T10:38:40.618Z"
   },
   {
    "duration": 24,
    "start_time": "2023-06-08T10:39:00.961Z"
   },
   {
    "duration": 1878,
    "start_time": "2023-06-08T10:42:21.586Z"
   },
   {
    "duration": 981,
    "start_time": "2023-06-08T10:42:35.780Z"
   },
   {
    "duration": 2234,
    "start_time": "2023-06-08T10:42:46.285Z"
   },
   {
    "duration": 2275,
    "start_time": "2023-06-08T10:42:57.330Z"
   },
   {
    "duration": 36,
    "start_time": "2023-06-08T10:43:00.445Z"
   },
   {
    "duration": 1486,
    "start_time": "2023-06-08T10:43:05.121Z"
   },
   {
    "duration": 360,
    "start_time": "2023-06-08T10:43:13.588Z"
   },
   {
    "duration": 90,
    "start_time": "2023-06-08T10:43:47.719Z"
   },
   {
    "duration": 284,
    "start_time": "2023-06-08T10:43:49.425Z"
   },
   {
    "duration": 71236,
    "start_time": "2023-06-08T10:43:59.945Z"
   },
   {
    "duration": 39,
    "start_time": "2023-06-08T10:45:20.698Z"
   },
   {
    "duration": 1057,
    "start_time": "2023-06-08T10:45:23.672Z"
   },
   {
    "duration": 12056,
    "start_time": "2023-06-08T10:45:25.744Z"
   },
   {
    "duration": 26819,
    "start_time": "2023-06-08T10:45:39.624Z"
   },
   {
    "duration": 7,
    "start_time": "2023-06-08T10:46:18.876Z"
   },
   {
    "duration": 11928,
    "start_time": "2023-06-08T10:46:56.119Z"
   },
   {
    "duration": 7,
    "start_time": "2023-06-08T10:57:36.590Z"
   },
   {
    "duration": 2999,
    "start_time": "2023-06-08T10:57:55.005Z"
   },
   {
    "duration": 58,
    "start_time": "2023-06-08T10:58:09.354Z"
   },
   {
    "duration": 113,
    "start_time": "2023-06-08T10:58:14.576Z"
   },
   {
    "duration": 66,
    "start_time": "2023-06-08T10:58:22.435Z"
   },
   {
    "duration": 3666,
    "start_time": "2023-06-08T10:58:46.227Z"
   },
   {
    "duration": 4304,
    "start_time": "2023-06-08T10:59:04.298Z"
   },
   {
    "duration": 138,
    "start_time": "2023-06-08T10:59:11.347Z"
   },
   {
    "duration": 2583,
    "start_time": "2023-06-08T10:59:55.095Z"
   },
   {
    "duration": 30,
    "start_time": "2023-06-08T10:59:58.814Z"
   },
   {
    "duration": 9059,
    "start_time": "2023-06-08T10:59:59.331Z"
   },
   {
    "duration": 24,
    "start_time": "2023-06-08T11:00:08.400Z"
   },
   {
    "duration": 1176,
    "start_time": "2023-06-08T11:00:08.426Z"
   },
   {
    "duration": 229,
    "start_time": "2023-06-08T11:00:09.608Z"
   },
   {
    "duration": 17,
    "start_time": "2023-06-08T11:00:09.844Z"
   },
   {
    "duration": 51,
    "start_time": "2023-06-08T11:00:09.868Z"
   },
   {
    "duration": 51,
    "start_time": "2023-06-08T11:00:09.926Z"
   },
   {
    "duration": 251,
    "start_time": "2023-06-08T11:00:09.983Z"
   },
   {
    "duration": 305,
    "start_time": "2023-06-08T11:00:10.241Z"
   },
   {
    "duration": 5440,
    "start_time": "2023-06-08T11:00:10.560Z"
   },
   {
    "duration": 1262,
    "start_time": "2023-06-08T11:00:16.006Z"
   },
   {
    "duration": 59425,
    "start_time": "2023-06-08T11:00:17.278Z"
   },
   {
    "duration": 26,
    "start_time": "2023-06-08T11:01:16.705Z"
   },
   {
    "duration": 9,
    "start_time": "2023-06-08T11:01:16.748Z"
   },
   {
    "duration": 1146,
    "start_time": "2023-06-08T11:01:16.771Z"
   },
   {
    "duration": 4,
    "start_time": "2023-06-08T11:01:17.920Z"
   },
   {
    "duration": 39,
    "start_time": "2023-06-08T11:01:17.925Z"
   },
   {
    "duration": 937,
    "start_time": "2023-06-08T11:01:17.986Z"
   },
   {
    "duration": 8987,
    "start_time": "2023-06-08T11:01:18.934Z"
   },
   {
    "duration": 0,
    "start_time": "2023-06-08T11:01:27.934Z"
   },
   {
    "duration": 0,
    "start_time": "2023-06-08T11:01:27.943Z"
   },
   {
    "duration": 3,
    "start_time": "2023-06-08T13:18:20.411Z"
   },
   {
    "duration": 10227,
    "start_time": "2023-06-08T13:18:24.203Z"
   },
   {
    "duration": 3,
    "start_time": "2023-06-08T13:19:13.743Z"
   },
   {
    "duration": 3,
    "start_time": "2023-06-08T13:21:09.194Z"
   },
   {
    "duration": 27,
    "start_time": "2023-06-08T13:22:46.286Z"
   },
   {
    "duration": 37,
    "start_time": "2023-06-08T13:22:53.668Z"
   },
   {
    "duration": 27239,
    "start_time": "2023-06-08T13:23:05.340Z"
   },
   {
    "duration": 145918,
    "start_time": "2023-06-08T13:23:38.030Z"
   },
   {
    "duration": 4,
    "start_time": "2023-06-08T13:33:53.112Z"
   },
   {
    "duration": 3,
    "start_time": "2023-06-08T13:34:21.234Z"
   },
   {
    "duration": 33,
    "start_time": "2023-06-08T13:35:47.984Z"
   },
   {
    "duration": 24777,
    "start_time": "2023-06-08T13:35:59.148Z"
   },
   {
    "duration": 43,
    "start_time": "2023-06-08T13:36:23.928Z"
   },
   {
    "duration": 247,
    "start_time": "2023-06-08T13:36:42.662Z"
   },
   {
    "duration": 27752,
    "start_time": "2023-06-08T13:38:56.889Z"
   },
   {
    "duration": 259,
    "start_time": "2023-06-08T13:39:24.643Z"
   },
   {
    "duration": 31046,
    "start_time": "2023-06-08T13:44:24.620Z"
   },
   {
    "duration": 33612,
    "start_time": "2023-06-08T13:47:13.290Z"
   },
   {
    "duration": 94061,
    "start_time": "2023-06-08T13:48:42.603Z"
   },
   {
    "duration": 49,
    "start_time": "2023-06-08T13:55:30.846Z"
   },
   {
    "duration": 96804,
    "start_time": "2023-06-08T13:58:54.491Z"
   },
   {
    "duration": 59,
    "start_time": "2023-06-08T14:10:10.136Z"
   },
   {
    "duration": 223567,
    "start_time": "2023-06-08T14:10:13.855Z"
   },
   {
    "duration": 0,
    "start_time": "2023-06-08T15:10:53.274Z"
   },
   {
    "duration": 926488,
    "start_time": "2023-06-08T15:11:29.717Z"
   },
   {
    "duration": 24,
    "start_time": "2023-06-08T15:36:23.440Z"
   },
   {
    "duration": 416,
    "start_time": "2023-06-08T15:36:39.380Z"
   },
   {
    "duration": 491,
    "start_time": "2023-06-08T15:44:43.162Z"
   },
   {
    "duration": 577,
    "start_time": "2023-06-08T15:45:05.705Z"
   },
   {
    "duration": 592,
    "start_time": "2023-06-08T15:45:12.582Z"
   },
   {
    "duration": 97,
    "start_time": "2023-06-08T15:48:10.311Z"
   },
   {
    "duration": 8,
    "start_time": "2023-06-08T15:48:33.383Z"
   },
   {
    "duration": 200595,
    "start_time": "2023-06-08T15:48:40.121Z"
   },
   {
    "duration": 177,
    "start_time": "2023-06-08T16:16:41.695Z"
   },
   {
    "duration": 4,
    "start_time": "2023-06-08T16:16:58.903Z"
   },
   {
    "duration": 4,
    "start_time": "2023-06-08T16:17:01.072Z"
   },
   {
    "duration": 31,
    "start_time": "2023-06-08T16:17:03.106Z"
   },
   {
    "duration": 3,
    "start_time": "2023-06-08T16:17:45.787Z"
   },
   {
    "duration": 28,
    "start_time": "2023-06-08T16:17:46.648Z"
   },
   {
    "duration": 1795,
    "start_time": "2023-06-08T16:44:15.113Z"
   },
   {
    "duration": 26,
    "start_time": "2023-06-08T16:44:16.911Z"
   },
   {
    "duration": 2311,
    "start_time": "2023-06-08T16:44:16.943Z"
   },
   {
    "duration": 19,
    "start_time": "2023-06-08T16:44:19.257Z"
   },
   {
    "duration": 987,
    "start_time": "2023-06-08T16:44:19.278Z"
   },
   {
    "duration": 196,
    "start_time": "2023-06-08T16:44:20.268Z"
   },
   {
    "duration": 13,
    "start_time": "2023-06-08T16:44:20.466Z"
   },
   {
    "duration": 79,
    "start_time": "2023-06-08T16:44:20.482Z"
   },
   {
    "duration": 52,
    "start_time": "2023-06-08T16:44:20.565Z"
   },
   {
    "duration": 205,
    "start_time": "2023-06-08T16:44:20.649Z"
   },
   {
    "duration": 207,
    "start_time": "2023-06-08T16:44:22.539Z"
   },
   {
    "duration": 4961,
    "start_time": "2023-06-08T16:44:23.193Z"
   },
   {
    "duration": 628,
    "start_time": "2023-06-08T16:44:28.158Z"
   },
   {
    "duration": 42063,
    "start_time": "2023-06-08T16:44:28.788Z"
   },
   {
    "duration": 10,
    "start_time": "2023-06-08T16:45:10.853Z"
   },
   {
    "duration": 26,
    "start_time": "2023-06-08T16:45:10.865Z"
   },
   {
    "duration": 569,
    "start_time": "2023-06-08T16:45:10.892Z"
   },
   {
    "duration": 4,
    "start_time": "2023-06-08T16:45:11.463Z"
   },
   {
    "duration": 24,
    "start_time": "2023-06-08T16:45:11.469Z"
   },
   {
    "duration": 647,
    "start_time": "2023-06-08T16:45:11.495Z"
   },
   {
    "duration": 3,
    "start_time": "2023-06-08T16:45:12.144Z"
   },
   {
    "duration": 15,
    "start_time": "2023-06-08T16:45:12.149Z"
   },
   {
    "duration": 13,
    "start_time": "2023-06-08T16:45:12.165Z"
   },
   {
    "duration": 902453,
    "start_time": "2023-06-08T16:45:12.179Z"
   },
   {
    "duration": 4,
    "start_time": "2023-06-08T17:00:24.708Z"
   },
   {
    "duration": 2037,
    "start_time": "2023-06-08T17:41:09.516Z"
   },
   {
    "duration": 14,
    "start_time": "2023-06-08T17:41:11.556Z"
   },
   {
    "duration": 4044,
    "start_time": "2023-06-08T17:41:11.572Z"
   },
   {
    "duration": 24,
    "start_time": "2023-06-08T17:41:15.619Z"
   },
   {
    "duration": 1087,
    "start_time": "2023-06-08T17:41:15.645Z"
   },
   {
    "duration": 210,
    "start_time": "2023-06-08T17:41:16.735Z"
   },
   {
    "duration": 14,
    "start_time": "2023-06-08T17:41:16.947Z"
   },
   {
    "duration": 61,
    "start_time": "2023-06-08T17:41:16.965Z"
   },
   {
    "duration": 49,
    "start_time": "2023-06-08T17:41:17.028Z"
   },
   {
    "duration": 296,
    "start_time": "2023-06-08T17:41:17.080Z"
   },
   {
    "duration": 797,
    "start_time": "2023-06-08T17:41:17.378Z"
   },
   {
    "duration": 9659,
    "start_time": "2023-06-08T17:41:18.178Z"
   },
   {
    "duration": 920,
    "start_time": "2023-06-08T17:41:27.841Z"
   },
   {
    "duration": 46450,
    "start_time": "2023-06-08T17:41:28.764Z"
   },
   {
    "duration": 16,
    "start_time": "2023-06-08T17:42:15.216Z"
   },
   {
    "duration": 13,
    "start_time": "2023-06-08T17:42:15.235Z"
   },
   {
    "duration": 633,
    "start_time": "2023-06-08T17:42:15.250Z"
   },
   {
    "duration": 5,
    "start_time": "2023-06-08T17:42:15.886Z"
   },
   {
    "duration": 22,
    "start_time": "2023-06-08T17:42:15.903Z"
   },
   {
    "duration": 864,
    "start_time": "2023-06-08T17:42:15.928Z"
   },
   {
    "duration": 7,
    "start_time": "2023-06-08T17:42:16.795Z"
   },
   {
    "duration": 45,
    "start_time": "2023-06-08T17:42:16.807Z"
   },
   {
    "duration": 5,
    "start_time": "2023-06-08T17:42:16.855Z"
   },
   {
    "duration": 108,
    "start_time": "2023-06-08T17:42:16.862Z"
   },
   {
    "duration": 48,
    "start_time": "2023-06-08T17:42:16.973Z"
   },
   {
    "duration": 50,
    "start_time": "2023-06-08T17:44:28.018Z"
   },
   {
    "duration": 655,
    "start_time": "2023-06-08T17:44:33.644Z"
   },
   {
    "duration": 50,
    "start_time": "2023-06-08T17:44:34.377Z"
   },
   {
    "duration": 9,
    "start_time": "2023-06-08T17:45:32.988Z"
   },
   {
    "duration": 3725161,
    "start_time": "2023-06-08T17:45:33.492Z"
   },
   {
    "duration": 3,
    "start_time": "2023-06-08T18:57:54.516Z"
   },
   {
    "duration": 111034,
    "start_time": "2023-06-08T18:57:54.923Z"
   },
   {
    "duration": 2,
    "start_time": "2023-06-08T20:42:27.766Z"
   },
   {
    "duration": 54,
    "start_time": "2023-06-08T20:43:47.582Z"
   },
   {
    "duration": 5,
    "start_time": "2023-06-08T20:43:55.604Z"
   },
   {
    "duration": 478287,
    "start_time": "2023-06-08T20:43:56.504Z"
   },
   {
    "duration": 1708,
    "start_time": "2023-06-09T09:06:33.458Z"
   },
   {
    "duration": 9,
    "start_time": "2023-06-09T09:06:35.717Z"
   },
   {
    "duration": 2239,
    "start_time": "2023-06-09T09:06:36.424Z"
   },
   {
    "duration": 12,
    "start_time": "2023-06-09T09:06:38.665Z"
   },
   {
    "duration": 669,
    "start_time": "2023-06-09T09:06:40.495Z"
   },
   {
    "duration": 173,
    "start_time": "2023-06-09T09:06:41.852Z"
   },
   {
    "duration": 8,
    "start_time": "2023-06-09T09:06:43.139Z"
   },
   {
    "duration": 18,
    "start_time": "2023-06-09T09:06:43.586Z"
   },
   {
    "duration": 25,
    "start_time": "2023-06-09T09:06:44.414Z"
   },
   {
    "duration": 101,
    "start_time": "2023-06-09T09:07:10.223Z"
   },
   {
    "duration": 157,
    "start_time": "2023-06-09T09:07:15.405Z"
   },
   {
    "duration": 2621,
    "start_time": "2023-06-09T09:07:15.822Z"
   },
   {
    "duration": 644,
    "start_time": "2023-06-09T09:07:18.445Z"
   },
   {
    "duration": 32306,
    "start_time": "2023-06-09T09:07:19.090Z"
   },
   {
    "duration": 8,
    "start_time": "2023-06-09T09:07:51.398Z"
   },
   {
    "duration": 35,
    "start_time": "2023-06-09T09:07:51.408Z"
   },
   {
    "duration": 865,
    "start_time": "2023-06-09T09:07:51.445Z"
   },
   {
    "duration": 2,
    "start_time": "2023-06-09T09:07:52.312Z"
   },
   {
    "duration": 40,
    "start_time": "2023-06-09T09:07:52.316Z"
   },
   {
    "duration": 17462,
    "start_time": "2023-06-09T09:32:11.778Z"
   },
   {
    "duration": 18,
    "start_time": "2023-06-09T09:37:55.282Z"
   },
   {
    "duration": 486,
    "start_time": "2023-06-09T09:41:24.657Z"
   },
   {
    "duration": 51,
    "start_time": "2023-06-09T09:41:55.485Z"
   },
   {
    "duration": 121,
    "start_time": "2023-06-09T09:42:05.576Z"
   },
   {
    "duration": 23,
    "start_time": "2023-06-09T09:42:40.380Z"
   },
   {
    "duration": 91,
    "start_time": "2023-06-09T09:42:41.987Z"
   },
   {
    "duration": 2579,
    "start_time": "2023-06-09T09:46:21.777Z"
   },
   {
    "duration": 99,
    "start_time": "2023-06-09T09:47:18.352Z"
   },
   {
    "duration": 107,
    "start_time": "2023-06-09T09:47:34.642Z"
   },
   {
    "duration": 3,
    "start_time": "2023-06-09T09:47:36.203Z"
   },
   {
    "duration": 100,
    "start_time": "2023-06-09T09:47:56.006Z"
   },
   {
    "duration": 112,
    "start_time": "2023-06-09T09:48:11.074Z"
   },
   {
    "duration": 95,
    "start_time": "2023-06-09T09:48:25.946Z"
   },
   {
    "duration": 85,
    "start_time": "2023-06-09T09:48:42.844Z"
   },
   {
    "duration": 94,
    "start_time": "2023-06-09T09:48:45.800Z"
   },
   {
    "duration": 98,
    "start_time": "2023-06-09T09:48:49.496Z"
   },
   {
    "duration": 104,
    "start_time": "2023-06-09T09:49:28.187Z"
   },
   {
    "duration": 102,
    "start_time": "2023-06-09T09:49:42.264Z"
   },
   {
    "duration": 117,
    "start_time": "2023-06-09T09:50:10.407Z"
   },
   {
    "duration": 114,
    "start_time": "2023-06-09T09:50:14.238Z"
   },
   {
    "duration": 4,
    "start_time": "2023-06-09T09:50:15.293Z"
   },
   {
    "duration": 102,
    "start_time": "2023-06-09T09:50:16.677Z"
   },
   {
    "duration": 4,
    "start_time": "2023-06-09T09:50:17.456Z"
   },
   {
    "duration": 99,
    "start_time": "2023-06-09T09:50:18.360Z"
   },
   {
    "duration": 91,
    "start_time": "2023-06-09T09:50:25.892Z"
   },
   {
    "duration": 92,
    "start_time": "2023-06-09T09:50:28.214Z"
   },
   {
    "duration": 96,
    "start_time": "2023-06-09T09:52:45.192Z"
   },
   {
    "duration": 83,
    "start_time": "2023-06-09T09:52:51.459Z"
   },
   {
    "duration": 90,
    "start_time": "2023-06-09T09:52:55.711Z"
   },
   {
    "duration": 92,
    "start_time": "2023-06-09T09:52:59.656Z"
   },
   {
    "duration": 3,
    "start_time": "2023-06-09T09:53:02.960Z"
   },
   {
    "duration": 99,
    "start_time": "2023-06-09T09:53:04.902Z"
   },
   {
    "duration": 94,
    "start_time": "2023-06-09T09:53:06.545Z"
   },
   {
    "duration": 105,
    "start_time": "2023-06-09T09:53:12.854Z"
   },
   {
    "duration": 101,
    "start_time": "2023-06-09T09:54:41.529Z"
   },
   {
    "duration": 1858,
    "start_time": "2023-06-09T09:54:52.357Z"
   },
   {
    "duration": 115,
    "start_time": "2023-06-09T09:55:08.677Z"
   },
   {
    "duration": 102,
    "start_time": "2023-06-09T09:55:21.205Z"
   },
   {
    "duration": 88,
    "start_time": "2023-06-09T09:55:46.333Z"
   },
   {
    "duration": 102,
    "start_time": "2023-06-09T09:55:53.748Z"
   },
   {
    "duration": 11097,
    "start_time": "2023-06-09T09:56:37.884Z"
   },
   {
    "duration": 1932,
    "start_time": "2023-06-09T09:57:37.169Z"
   },
   {
    "duration": 28922,
    "start_time": "2023-06-09T09:57:44.542Z"
   },
   {
    "duration": 4,
    "start_time": "2023-06-09T09:58:13.466Z"
   },
   {
    "duration": 17,
    "start_time": "2023-06-09T09:58:13.471Z"
   },
   {
    "duration": 6,
    "start_time": "2023-06-09T10:20:40.999Z"
   },
   {
    "duration": 5,
    "start_time": "2023-06-09T10:21:12.263Z"
   },
   {
    "duration": 3,
    "start_time": "2023-06-09T10:21:15.671Z"
   },
   {
    "duration": 5,
    "start_time": "2023-06-09T10:21:16.149Z"
   },
   {
    "duration": 5,
    "start_time": "2023-06-09T10:21:22.221Z"
   },
   {
    "duration": 6844,
    "start_time": "2023-06-09T10:21:45.782Z"
   },
   {
    "duration": 238,
    "start_time": "2023-06-09T10:22:44.322Z"
   },
   {
    "duration": 3,
    "start_time": "2023-06-09T10:23:04.578Z"
   },
   {
    "duration": 615,
    "start_time": "2023-06-09T10:23:05.107Z"
   },
   {
    "duration": 5,
    "start_time": "2023-06-09T10:23:13.608Z"
   },
   {
    "duration": 567,
    "start_time": "2023-06-09T10:23:14.043Z"
   },
   {
    "duration": 294,
    "start_time": "2023-06-09T10:23:34.435Z"
   },
   {
    "duration": 4,
    "start_time": "2023-06-09T10:25:55.600Z"
   },
   {
    "duration": 3,
    "start_time": "2023-06-09T10:27:45.785Z"
   },
   {
    "duration": 538,
    "start_time": "2023-06-09T10:31:03.427Z"
   },
   {
    "duration": 22,
    "start_time": "2023-06-09T10:31:11.812Z"
   },
   {
    "duration": 4,
    "start_time": "2023-06-09T10:31:34.985Z"
   },
   {
    "duration": 4,
    "start_time": "2023-06-09T10:31:43.861Z"
   },
   {
    "duration": 920,
    "start_time": "2023-06-09T10:32:10.955Z"
   },
   {
    "duration": 519,
    "start_time": "2023-06-09T10:32:35.933Z"
   },
   {
    "duration": 4,
    "start_time": "2023-06-09T10:32:37.377Z"
   },
   {
    "duration": 4,
    "start_time": "2023-06-09T10:32:42.152Z"
   },
   {
    "duration": 5,
    "start_time": "2023-06-09T10:32:55.191Z"
   },
   {
    "duration": 1611,
    "start_time": "2023-06-09T10:33:41.710Z"
   },
   {
    "duration": 9,
    "start_time": "2023-06-09T10:33:43.324Z"
   },
   {
    "duration": 2346,
    "start_time": "2023-06-09T10:33:43.334Z"
   },
   {
    "duration": 11,
    "start_time": "2023-06-09T10:33:45.682Z"
   },
   {
    "duration": 647,
    "start_time": "2023-06-09T10:33:45.695Z"
   },
   {
    "duration": 130,
    "start_time": "2023-06-09T10:33:46.344Z"
   },
   {
    "duration": 8,
    "start_time": "2023-06-09T10:33:46.475Z"
   },
   {
    "duration": 45,
    "start_time": "2023-06-09T10:33:46.485Z"
   },
   {
    "duration": 60,
    "start_time": "2023-06-09T10:33:46.531Z"
   },
   {
    "duration": 31,
    "start_time": "2023-06-09T10:33:46.593Z"
   },
   {
    "duration": 163,
    "start_time": "2023-06-09T10:33:46.626Z"
   },
   {
    "duration": 105,
    "start_time": "2023-06-09T10:33:46.806Z"
   },
   {
    "duration": 160,
    "start_time": "2023-06-09T10:33:47.258Z"
   },
   {
    "duration": 2702,
    "start_time": "2023-06-09T10:33:47.649Z"
   },
   {
    "duration": 681,
    "start_time": "2023-06-09T10:33:50.353Z"
   },
   {
    "duration": 31333,
    "start_time": "2023-06-09T10:33:51.037Z"
   },
   {
    "duration": 11227,
    "start_time": "2023-06-09T10:34:22.372Z"
   },
   {
    "duration": 9,
    "start_time": "2023-06-09T10:34:33.601Z"
   },
   {
    "duration": 17,
    "start_time": "2023-06-09T10:34:33.625Z"
   },
   {
    "duration": 994,
    "start_time": "2023-06-09T10:34:33.648Z"
   },
   {
    "duration": 3,
    "start_time": "2023-06-09T10:34:34.644Z"
   },
   {
    "duration": 13289,
    "start_time": "2023-06-09T10:34:34.648Z"
   },
   {
    "duration": 6,
    "start_time": "2023-06-09T10:34:47.939Z"
   },
   {
    "duration": 652,
    "start_time": "2023-06-09T10:34:47.946Z"
   }
  ],
  "colab": {
   "gpuType": "T4",
   "provenance": []
  },
  "kernelspec": {
   "display_name": "Python 3 (ipykernel)",
   "language": "python",
   "name": "python3"
  },
  "language_info": {
   "codemirror_mode": {
    "name": "ipython",
    "version": 3
   },
   "file_extension": ".py",
   "mimetype": "text/x-python",
   "name": "python",
   "nbconvert_exporter": "python",
   "pygments_lexer": "ipython3",
   "version": "3.9.13"
  },
  "toc": {
   "base_numbering": 1,
   "nav_menu": {},
   "number_sections": true,
   "sideBar": true,
   "skip_h1_title": true,
   "title_cell": "Содержание",
   "title_sidebar": "Contents",
   "toc_cell": true,
   "toc_position": {
    "height": "calc(100% - 180px)",
    "left": "10px",
    "top": "150px",
    "width": "302.391px"
   },
   "toc_section_display": true,
   "toc_window_display": false
  },
  "widgets": {
   "application/vnd.jupyter.widget-state+json": {
    "2317b050fac249b9b37ea5133ad923f4": {
     "model_module": "@jupyter-widgets/controls",
     "model_module_version": "1.5.0",
     "model_name": "HBoxModel",
     "state": {
      "_dom_classes": [],
      "_model_module": "@jupyter-widgets/controls",
      "_model_module_version": "1.5.0",
      "_model_name": "HBoxModel",
      "_view_count": null,
      "_view_module": "@jupyter-widgets/controls",
      "_view_module_version": "1.5.0",
      "_view_name": "HBoxView",
      "box_style": "",
      "children": [
       "IPY_MODEL_e471d017626f48c083484c5af7e09208",
       "IPY_MODEL_fbfdfa60aaf144318980264652fe5e89",
       "IPY_MODEL_bb39dc2166774cc3b446314086077080"
      ],
      "layout": "IPY_MODEL_59c9ddf2525c4b3db8354996018dcfc1"
     }
    },
    "2825c03a82484ed1a0dad051733b3f0f": {
     "model_module": "@jupyter-widgets/controls",
     "model_module_version": "1.5.0",
     "model_name": "DescriptionStyleModel",
     "state": {
      "_model_module": "@jupyter-widgets/controls",
      "_model_module_version": "1.5.0",
      "_model_name": "DescriptionStyleModel",
      "_view_count": null,
      "_view_module": "@jupyter-widgets/base",
      "_view_module_version": "1.2.0",
      "_view_name": "StyleView",
      "description_width": ""
     }
    },
    "2f456bd9653344feaade38ce8e60d18a": {
     "model_module": "@jupyter-widgets/base",
     "model_module_version": "1.2.0",
     "model_name": "LayoutModel",
     "state": {
      "_model_module": "@jupyter-widgets/base",
      "_model_module_version": "1.2.0",
      "_model_name": "LayoutModel",
      "_view_count": null,
      "_view_module": "@jupyter-widgets/base",
      "_view_module_version": "1.2.0",
      "_view_name": "LayoutView",
      "align_content": null,
      "align_items": null,
      "align_self": null,
      "border": null,
      "bottom": null,
      "display": null,
      "flex": null,
      "flex_flow": null,
      "grid_area": null,
      "grid_auto_columns": null,
      "grid_auto_flow": null,
      "grid_auto_rows": null,
      "grid_column": null,
      "grid_gap": null,
      "grid_row": null,
      "grid_template_areas": null,
      "grid_template_columns": null,
      "grid_template_rows": null,
      "height": null,
      "justify_content": null,
      "justify_items": null,
      "left": null,
      "margin": null,
      "max_height": null,
      "max_width": null,
      "min_height": null,
      "min_width": null,
      "object_fit": null,
      "object_position": null,
      "order": null,
      "overflow": null,
      "overflow_x": null,
      "overflow_y": null,
      "padding": null,
      "right": null,
      "top": null,
      "visibility": null,
      "width": null
     }
    },
    "59c9ddf2525c4b3db8354996018dcfc1": {
     "model_module": "@jupyter-widgets/base",
     "model_module_version": "1.2.0",
     "model_name": "LayoutModel",
     "state": {
      "_model_module": "@jupyter-widgets/base",
      "_model_module_version": "1.2.0",
      "_model_name": "LayoutModel",
      "_view_count": null,
      "_view_module": "@jupyter-widgets/base",
      "_view_module_version": "1.2.0",
      "_view_name": "LayoutView",
      "align_content": null,
      "align_items": null,
      "align_self": null,
      "border": null,
      "bottom": null,
      "display": null,
      "flex": null,
      "flex_flow": null,
      "grid_area": null,
      "grid_auto_columns": null,
      "grid_auto_flow": null,
      "grid_auto_rows": null,
      "grid_column": null,
      "grid_gap": null,
      "grid_row": null,
      "grid_template_areas": null,
      "grid_template_columns": null,
      "grid_template_rows": null,
      "height": null,
      "justify_content": null,
      "justify_items": null,
      "left": null,
      "margin": null,
      "max_height": null,
      "max_width": null,
      "min_height": null,
      "min_width": null,
      "object_fit": null,
      "object_position": null,
      "order": null,
      "overflow": null,
      "overflow_x": null,
      "overflow_y": null,
      "padding": null,
      "right": null,
      "top": null,
      "visibility": null,
      "width": null
     }
    },
    "67fc6e53a99b433e8f5fc1caae5379a0": {
     "model_module": "@jupyter-widgets/base",
     "model_module_version": "1.2.0",
     "model_name": "LayoutModel",
     "state": {
      "_model_module": "@jupyter-widgets/base",
      "_model_module_version": "1.2.0",
      "_model_name": "LayoutModel",
      "_view_count": null,
      "_view_module": "@jupyter-widgets/base",
      "_view_module_version": "1.2.0",
      "_view_name": "LayoutView",
      "align_content": null,
      "align_items": null,
      "align_self": null,
      "border": null,
      "bottom": null,
      "display": null,
      "flex": null,
      "flex_flow": null,
      "grid_area": null,
      "grid_auto_columns": null,
      "grid_auto_flow": null,
      "grid_auto_rows": null,
      "grid_column": null,
      "grid_gap": null,
      "grid_row": null,
      "grid_template_areas": null,
      "grid_template_columns": null,
      "grid_template_rows": null,
      "height": null,
      "justify_content": null,
      "justify_items": null,
      "left": null,
      "margin": null,
      "max_height": null,
      "max_width": null,
      "min_height": null,
      "min_width": null,
      "object_fit": null,
      "object_position": null,
      "order": null,
      "overflow": null,
      "overflow_x": null,
      "overflow_y": null,
      "padding": null,
      "right": null,
      "top": null,
      "visibility": null,
      "width": null
     }
    },
    "ad6deea6e0b549078c5764f8f2c0795d": {
     "model_module": "@jupyter-widgets/base",
     "model_module_version": "1.2.0",
     "model_name": "LayoutModel",
     "state": {
      "_model_module": "@jupyter-widgets/base",
      "_model_module_version": "1.2.0",
      "_model_name": "LayoutModel",
      "_view_count": null,
      "_view_module": "@jupyter-widgets/base",
      "_view_module_version": "1.2.0",
      "_view_name": "LayoutView",
      "align_content": null,
      "align_items": null,
      "align_self": null,
      "border": null,
      "bottom": null,
      "display": null,
      "flex": null,
      "flex_flow": null,
      "grid_area": null,
      "grid_auto_columns": null,
      "grid_auto_flow": null,
      "grid_auto_rows": null,
      "grid_column": null,
      "grid_gap": null,
      "grid_row": null,
      "grid_template_areas": null,
      "grid_template_columns": null,
      "grid_template_rows": null,
      "height": null,
      "justify_content": null,
      "justify_items": null,
      "left": null,
      "margin": null,
      "max_height": null,
      "max_width": null,
      "min_height": null,
      "min_width": null,
      "object_fit": null,
      "object_position": null,
      "order": null,
      "overflow": null,
      "overflow_x": null,
      "overflow_y": null,
      "padding": null,
      "right": null,
      "top": null,
      "visibility": null,
      "width": null
     }
    },
    "b32e73656b4746ed8c9c6fc18a614247": {
     "model_module": "@jupyter-widgets/controls",
     "model_module_version": "1.5.0",
     "model_name": "ProgressStyleModel",
     "state": {
      "_model_module": "@jupyter-widgets/controls",
      "_model_module_version": "1.5.0",
      "_model_name": "ProgressStyleModel",
      "_view_count": null,
      "_view_module": "@jupyter-widgets/base",
      "_view_module_version": "1.2.0",
      "_view_name": "StyleView",
      "bar_color": null,
      "description_width": ""
     }
    },
    "b8c0c5a3a38a458e88101ca59438e25f": {
     "model_module": "@jupyter-widgets/controls",
     "model_module_version": "1.5.0",
     "model_name": "DescriptionStyleModel",
     "state": {
      "_model_module": "@jupyter-widgets/controls",
      "_model_module_version": "1.5.0",
      "_model_name": "DescriptionStyleModel",
      "_view_count": null,
      "_view_module": "@jupyter-widgets/base",
      "_view_module_version": "1.2.0",
      "_view_name": "StyleView",
      "description_width": ""
     }
    },
    "bb39dc2166774cc3b446314086077080": {
     "model_module": "@jupyter-widgets/controls",
     "model_module_version": "1.5.0",
     "model_name": "HTMLModel",
     "state": {
      "_dom_classes": [],
      "_model_module": "@jupyter-widgets/controls",
      "_model_module_version": "1.5.0",
      "_model_name": "HTMLModel",
      "_view_count": null,
      "_view_module": "@jupyter-widgets/controls",
      "_view_module_version": "1.5.0",
      "_view_name": "HTMLView",
      "description": "",
      "description_tooltip": null,
      "layout": "IPY_MODEL_2f456bd9653344feaade38ce8e60d18a",
      "placeholder": "​",
      "style": "IPY_MODEL_b8c0c5a3a38a458e88101ca59438e25f",
      "value": " 100/100 [02:24&lt;00:00,  1.52s/it]"
     }
    },
    "e471d017626f48c083484c5af7e09208": {
     "model_module": "@jupyter-widgets/controls",
     "model_module_version": "1.5.0",
     "model_name": "HTMLModel",
     "state": {
      "_dom_classes": [],
      "_model_module": "@jupyter-widgets/controls",
      "_model_module_version": "1.5.0",
      "_model_name": "HTMLModel",
      "_view_count": null,
      "_view_module": "@jupyter-widgets/controls",
      "_view_module_version": "1.5.0",
      "_view_name": "HTMLView",
      "description": "",
      "description_tooltip": null,
      "layout": "IPY_MODEL_67fc6e53a99b433e8f5fc1caae5379a0",
      "placeholder": "​",
      "style": "IPY_MODEL_2825c03a82484ed1a0dad051733b3f0f",
      "value": "100%"
     }
    },
    "fbfdfa60aaf144318980264652fe5e89": {
     "model_module": "@jupyter-widgets/controls",
     "model_module_version": "1.5.0",
     "model_name": "FloatProgressModel",
     "state": {
      "_dom_classes": [],
      "_model_module": "@jupyter-widgets/controls",
      "_model_module_version": "1.5.0",
      "_model_name": "FloatProgressModel",
      "_view_count": null,
      "_view_module": "@jupyter-widgets/controls",
      "_view_module_version": "1.5.0",
      "_view_name": "ProgressView",
      "bar_style": "success",
      "description": "",
      "description_tooltip": null,
      "layout": "IPY_MODEL_ad6deea6e0b549078c5764f8f2c0795d",
      "max": 100,
      "min": 0,
      "orientation": "horizontal",
      "style": "IPY_MODEL_b32e73656b4746ed8c9c6fc18a614247",
      "value": 100
     }
    }
   }
  }
 },
 "nbformat": 4,
 "nbformat_minor": 1
}
