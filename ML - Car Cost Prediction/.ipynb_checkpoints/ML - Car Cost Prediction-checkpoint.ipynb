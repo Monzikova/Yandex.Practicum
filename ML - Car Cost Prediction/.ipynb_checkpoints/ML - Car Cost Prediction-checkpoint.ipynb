{
 "cells": [
  {
   "cell_type": "markdown",
   "metadata": {},
   "source": [
    "# Определение стоимости автомобилей"
   ]
  },
  {
   "cell_type": "markdown",
   "metadata": {},
   "source": [
    "Сервис по продаже автомобилей с пробегом «Не бит, не крашен» разрабатывает приложение для привлечения новых клиентов. В нём можно быстро узнать рыночную стоимость своего автомобиля. В вашем распоряжении исторические данные: технические характеристики, комплектации и цены автомобилей. Вам нужно построить модель для определения стоимости. \n",
    "\n",
    "Заказчику важны:\n",
    "\n",
    "- качество предсказания;\n",
    "- скорость предсказания;\n",
    "- время обучения.\n",
    "\n",
    "**Описание данных**\n",
    "\n",
    "**Признаки**\n",
    "\n",
    "*DateCrawled* — дата скачивания анкеты из базы\n",
    "\n",
    "*VehicleType* — тип автомобильного кузова\n",
    "\n",
    "*RegistrationYear* — год регистрации автомобиля\n",
    "\n",
    "*Gearbox* — тип коробки передач\n",
    "\n",
    "*Power* — мощность (л. с.)\n",
    "\n",
    "*Model* — модель автомобиля\n",
    "\n",
    "*Kilometer* — пробег (км)\n",
    "\n",
    "*RegistrationMonth* — месяц регистрации автомобиля\n",
    "\n",
    "*FuelType* — тип топлива\n",
    "\n",
    "*Brand* — марка автомобиля\n",
    "\n",
    "*Repaired* — была машина в ремонте или нет\n",
    "\n",
    "*DateCreated* — дата создания анкеты\n",
    "\n",
    "*NumberOfPictures* — количество фотографий автомобиля\n",
    "\n",
    "*PostalCode* — почтовый индекс владельца анкеты (пользователя)\n",
    "\n",
    "*LastSeen* — дата последней активности пользователя\n",
    "\n",
    "**Целевой признак**\n",
    "\n",
    "*Price* — цена (евро)"
   ]
  },
  {
   "cell_type": "code",
   "execution_count": 1,
   "metadata": {},
   "outputs": [],
   "source": [
    "import warnings\n",
    "\n",
    "import numpy as np\n",
    "import pandas as pd\n",
    "from matplotlib import pyplot as plt\n",
    "from matplotlib import cm\n",
    "import seaborn as sns\n",
    "from scipy import stats as st\n",
    "import re\n",
    "\n",
    "from sklearn.dummy import DummyRegressor\n",
    "from sklearn.metrics import mean_squared_error\n",
    "from sklearn.model_selection import train_test_split\n",
    "from sklearn.preprocessing import OrdinalEncoder\n",
    "from sklearn.preprocessing import StandardScaler\n",
    "from sklearn.pipeline import Pipeline\n",
    "\n",
    "from sklearn.ensemble import RandomForestRegressor\n",
    "\n",
    "from sklearn.model_selection import (\n",
    "    RandomizedSearchCV,\n",
    "    cross_val_score,\n",
    "    KFold\n",
    ")\n",
    "\n",
    "from lightgbm import LGBMRegressor\n",
    "from catboost import CatBoostRegressor\n",
    "\n",
    "import time\n",
    "import datetime\n",
    "\n",
    "pd.set_option('display.max_columns', None)\n",
    "\n",
    "# настройки\n",
    "warnings.filterwarnings(\"ignore\")\n",
    "\n",
    "#константы\n",
    "RANDOM_STATE = 12345"
   ]
  },
  {
   "cell_type": "code",
   "execution_count": 2,
   "metadata": {},
   "outputs": [],
   "source": [
    "# Универсальная функция для исследования проблем датасета \n",
    "def explore_dataset(dataset):\n",
    "    from IPython.display import display\n",
    "    \n",
    "    print('Первые пять строк датасета:')\n",
    "    display(dataset.head(5))\n",
    "    \n",
    "    \n",
    "    print('')\n",
    "    print(f'Датасет имеет размер {dataset.shape[0]} строк и {dataset.shape[1]} столбцов.')\n",
    "    missing_columns = dataset.isna().any()[lambda x: x]\n",
    "    missing_values = dataset.isnull().sum()/len(dataset)\n",
    "    missing_values = missing_values[missing_columns.keys()].sort_values(ascending = False)\n",
    "    if len(missing_columns)>0:\n",
    "        print(f'Из них {len(missing_columns)} столбцов имеют пропуски в данных.')\n",
    "        print(f'Это столбцы: ', ', '.join(dataset.isna().any()[lambda x: x].keys()))\n",
    "        print('')    \n",
    "        bars = missing_values.plot(kind = 'barh', figsize=(10,round(len(missing_columns)/3)))\n",
    "        plt.title('Процент пропущенных значений по столбцам')\n",
    "        for i, v in enumerate(missing_values):\n",
    "            plt.gca().text(v + 0.005*missing_values.max(), i - 0.1, '{:.2%}'.format(v), color='black')\n",
    "        plt.show()\n",
    "        plt.close()\n",
    "    else:\n",
    "        print('Пропусков в данных нет')\n",
    "        \n",
    "        \n",
    "    if len(dataset[dataset.duplicated()])>0:\n",
    "        print(f'В датасете содержится {len(dataset[dataset.duplicated()])} дубликатов')\n",
    "    else:\n",
    "        print('В данных не найдено полных дубликатов.')\n",
    "        \n",
    "        \n",
    "    print('')\n",
    "    print('Столбцы имеют следующие типы данных:')    \n",
    "    print(dataset.dtypes)\n",
    "    \n",
    "    \n",
    "    print('')\n",
    "    print('Общая статистика по количественным переменным:')    \n",
    "    display(dataset.describe())\n",
    "    print('')\n",
    "    print('Общая статистика по категориальным переменным:')    \n",
    "    display(dataset.describe(include=[\"object\", \"bool\"]))\n",
    "    \n",
    "    print('')\n",
    "    print('Распределение и выбросы данных в количественных переменных:')    \n",
    "    dataset.plot.box(subplots=True, \n",
    "                     layout=(1,len(dataset.select_dtypes(exclude=['object','bool']).columns)), \n",
    "                     vert='False',\n",
    "                     figsize=(2.5*len(dataset.select_dtypes(exclude=['object','bool']).columns),8));\n",
    "    plt.show()\n",
    "    plt.close()\n",
    "    return"
   ]
  },
  {
   "cell_type": "markdown",
   "metadata": {},
   "source": [
    "## Подготовка данных"
   ]
  },
  {
   "cell_type": "markdown",
   "metadata": {},
   "source": [
    "Открывааем датасет и анализируем на предмет пропусков и аномалий:"
   ]
  },
  {
   "cell_type": "code",
   "execution_count": 3,
   "metadata": {},
   "outputs": [],
   "source": [
    "data = pd.read_csv('/datasets/autos.csv') "
   ]
  },
  {
   "cell_type": "code",
   "execution_count": 4,
   "metadata": {
    "scrolled": false
   },
   "outputs": [
    {
     "name": "stdout",
     "output_type": "stream",
     "text": [
      "Первые пять строк датасета:\n"
     ]
    },
    {
     "data": {
      "text/html": [
       "<div>\n",
       "<style scoped>\n",
       "    .dataframe tbody tr th:only-of-type {\n",
       "        vertical-align: middle;\n",
       "    }\n",
       "\n",
       "    .dataframe tbody tr th {\n",
       "        vertical-align: top;\n",
       "    }\n",
       "\n",
       "    .dataframe thead th {\n",
       "        text-align: right;\n",
       "    }\n",
       "</style>\n",
       "<table border=\"1\" class=\"dataframe\">\n",
       "  <thead>\n",
       "    <tr style=\"text-align: right;\">\n",
       "      <th></th>\n",
       "      <th>DateCrawled</th>\n",
       "      <th>Price</th>\n",
       "      <th>VehicleType</th>\n",
       "      <th>RegistrationYear</th>\n",
       "      <th>Gearbox</th>\n",
       "      <th>Power</th>\n",
       "      <th>Model</th>\n",
       "      <th>Kilometer</th>\n",
       "      <th>RegistrationMonth</th>\n",
       "      <th>FuelType</th>\n",
       "      <th>Brand</th>\n",
       "      <th>Repaired</th>\n",
       "      <th>DateCreated</th>\n",
       "      <th>NumberOfPictures</th>\n",
       "      <th>PostalCode</th>\n",
       "      <th>LastSeen</th>\n",
       "    </tr>\n",
       "  </thead>\n",
       "  <tbody>\n",
       "    <tr>\n",
       "      <th>0</th>\n",
       "      <td>2016-03-24 11:52:17</td>\n",
       "      <td>480</td>\n",
       "      <td>NaN</td>\n",
       "      <td>1993</td>\n",
       "      <td>manual</td>\n",
       "      <td>0</td>\n",
       "      <td>golf</td>\n",
       "      <td>150000</td>\n",
       "      <td>0</td>\n",
       "      <td>petrol</td>\n",
       "      <td>volkswagen</td>\n",
       "      <td>NaN</td>\n",
       "      <td>2016-03-24 00:00:00</td>\n",
       "      <td>0</td>\n",
       "      <td>70435</td>\n",
       "      <td>2016-04-07 03:16:57</td>\n",
       "    </tr>\n",
       "    <tr>\n",
       "      <th>1</th>\n",
       "      <td>2016-03-24 10:58:45</td>\n",
       "      <td>18300</td>\n",
       "      <td>coupe</td>\n",
       "      <td>2011</td>\n",
       "      <td>manual</td>\n",
       "      <td>190</td>\n",
       "      <td>NaN</td>\n",
       "      <td>125000</td>\n",
       "      <td>5</td>\n",
       "      <td>gasoline</td>\n",
       "      <td>audi</td>\n",
       "      <td>yes</td>\n",
       "      <td>2016-03-24 00:00:00</td>\n",
       "      <td>0</td>\n",
       "      <td>66954</td>\n",
       "      <td>2016-04-07 01:46:50</td>\n",
       "    </tr>\n",
       "    <tr>\n",
       "      <th>2</th>\n",
       "      <td>2016-03-14 12:52:21</td>\n",
       "      <td>9800</td>\n",
       "      <td>suv</td>\n",
       "      <td>2004</td>\n",
       "      <td>auto</td>\n",
       "      <td>163</td>\n",
       "      <td>grand</td>\n",
       "      <td>125000</td>\n",
       "      <td>8</td>\n",
       "      <td>gasoline</td>\n",
       "      <td>jeep</td>\n",
       "      <td>NaN</td>\n",
       "      <td>2016-03-14 00:00:00</td>\n",
       "      <td>0</td>\n",
       "      <td>90480</td>\n",
       "      <td>2016-04-05 12:47:46</td>\n",
       "    </tr>\n",
       "    <tr>\n",
       "      <th>3</th>\n",
       "      <td>2016-03-17 16:54:04</td>\n",
       "      <td>1500</td>\n",
       "      <td>small</td>\n",
       "      <td>2001</td>\n",
       "      <td>manual</td>\n",
       "      <td>75</td>\n",
       "      <td>golf</td>\n",
       "      <td>150000</td>\n",
       "      <td>6</td>\n",
       "      <td>petrol</td>\n",
       "      <td>volkswagen</td>\n",
       "      <td>no</td>\n",
       "      <td>2016-03-17 00:00:00</td>\n",
       "      <td>0</td>\n",
       "      <td>91074</td>\n",
       "      <td>2016-03-17 17:40:17</td>\n",
       "    </tr>\n",
       "    <tr>\n",
       "      <th>4</th>\n",
       "      <td>2016-03-31 17:25:20</td>\n",
       "      <td>3600</td>\n",
       "      <td>small</td>\n",
       "      <td>2008</td>\n",
       "      <td>manual</td>\n",
       "      <td>69</td>\n",
       "      <td>fabia</td>\n",
       "      <td>90000</td>\n",
       "      <td>7</td>\n",
       "      <td>gasoline</td>\n",
       "      <td>skoda</td>\n",
       "      <td>no</td>\n",
       "      <td>2016-03-31 00:00:00</td>\n",
       "      <td>0</td>\n",
       "      <td>60437</td>\n",
       "      <td>2016-04-06 10:17:21</td>\n",
       "    </tr>\n",
       "  </tbody>\n",
       "</table>\n",
       "</div>"
      ],
      "text/plain": [
       "           DateCrawled  Price VehicleType  RegistrationYear Gearbox  Power  \\\n",
       "0  2016-03-24 11:52:17    480         NaN              1993  manual      0   \n",
       "1  2016-03-24 10:58:45  18300       coupe              2011  manual    190   \n",
       "2  2016-03-14 12:52:21   9800         suv              2004    auto    163   \n",
       "3  2016-03-17 16:54:04   1500       small              2001  manual     75   \n",
       "4  2016-03-31 17:25:20   3600       small              2008  manual     69   \n",
       "\n",
       "   Model  Kilometer  RegistrationMonth  FuelType       Brand Repaired  \\\n",
       "0   golf     150000                  0    petrol  volkswagen      NaN   \n",
       "1    NaN     125000                  5  gasoline        audi      yes   \n",
       "2  grand     125000                  8  gasoline        jeep      NaN   \n",
       "3   golf     150000                  6    petrol  volkswagen       no   \n",
       "4  fabia      90000                  7  gasoline       skoda       no   \n",
       "\n",
       "           DateCreated  NumberOfPictures  PostalCode             LastSeen  \n",
       "0  2016-03-24 00:00:00                 0       70435  2016-04-07 03:16:57  \n",
       "1  2016-03-24 00:00:00                 0       66954  2016-04-07 01:46:50  \n",
       "2  2016-03-14 00:00:00                 0       90480  2016-04-05 12:47:46  \n",
       "3  2016-03-17 00:00:00                 0       91074  2016-03-17 17:40:17  \n",
       "4  2016-03-31 00:00:00                 0       60437  2016-04-06 10:17:21  "
      ]
     },
     "metadata": {},
     "output_type": "display_data"
    },
    {
     "name": "stdout",
     "output_type": "stream",
     "text": [
      "\n",
      "Датасет имеет размер 354369 строк и 16 столбцов.\n",
      "Из них 5 столбцов имеют пропуски в данных.\n",
      "Это столбцы:  VehicleType, Gearbox, Model, FuelType, Repaired\n",
      "\n"
     ]
    },
    {
     "data": {
      "image/png": "[encoded data removed]",
      "text/plain": [
       "<Figure size 720x144 with 1 Axes>"
      ]
     },
     "metadata": {
      "needs_background": "light"
     },
     "output_type": "display_data"
    },
    {
     "name": "stdout",
     "output_type": "stream",
     "text": [
      "В датасете содержится 4 дубликатов\n",
      "\n",
      "Столбцы имеют следующие типы данных:\n",
      "DateCrawled          object\n",
      "Price                 int64\n",
      "VehicleType          object\n",
      "RegistrationYear      int64\n",
      "Gearbox              object\n",
      "Power                 int64\n",
      "Model                object\n",
      "Kilometer             int64\n",
      "RegistrationMonth     int64\n",
      "FuelType             object\n",
      "Brand                object\n",
      "Repaired             object\n",
      "DateCreated          object\n",
      "NumberOfPictures      int64\n",
      "PostalCode            int64\n",
      "LastSeen             object\n",
      "dtype: object\n",
      "\n",
      "Общая статистика по количественным переменным:\n"
     ]
    },
    {
     "data": {
      "text/html": [
       "<div>\n",
       "<style scoped>\n",
       "    .dataframe tbody tr th:only-of-type {\n",
       "        vertical-align: middle;\n",
       "    }\n",
       "\n",
       "    .dataframe tbody tr th {\n",
       "        vertical-align: top;\n",
       "    }\n",
       "\n",
       "    .dataframe thead th {\n",
       "        text-align: right;\n",
       "    }\n",
       "</style>\n",
       "<table border=\"1\" class=\"dataframe\">\n",
       "  <thead>\n",
       "    <tr style=\"text-align: right;\">\n",
       "      <th></th>\n",
       "      <th>Price</th>\n",
       "      <th>RegistrationYear</th>\n",
       "      <th>Power</th>\n",
       "      <th>Kilometer</th>\n",
       "      <th>RegistrationMonth</th>\n",
       "      <th>NumberOfPictures</th>\n",
       "      <th>PostalCode</th>\n",
       "    </tr>\n",
       "  </thead>\n",
       "  <tbody>\n",
       "    <tr>\n",
       "      <th>count</th>\n",
       "      <td>354369.000000</td>\n",
       "      <td>354369.000000</td>\n",
       "      <td>354369.000000</td>\n",
       "      <td>354369.000000</td>\n",
       "      <td>354369.000000</td>\n",
       "      <td>354369.0</td>\n",
       "      <td>354369.000000</td>\n",
       "    </tr>\n",
       "    <tr>\n",
       "      <th>mean</th>\n",
       "      <td>4416.656776</td>\n",
       "      <td>2004.234448</td>\n",
       "      <td>110.094337</td>\n",
       "      <td>128211.172535</td>\n",
       "      <td>5.714645</td>\n",
       "      <td>0.0</td>\n",
       "      <td>50508.689087</td>\n",
       "    </tr>\n",
       "    <tr>\n",
       "      <th>std</th>\n",
       "      <td>4514.158514</td>\n",
       "      <td>90.227958</td>\n",
       "      <td>189.850405</td>\n",
       "      <td>37905.341530</td>\n",
       "      <td>3.726421</td>\n",
       "      <td>0.0</td>\n",
       "      <td>25783.096248</td>\n",
       "    </tr>\n",
       "    <tr>\n",
       "      <th>min</th>\n",
       "      <td>0.000000</td>\n",
       "      <td>1000.000000</td>\n",
       "      <td>0.000000</td>\n",
       "      <td>5000.000000</td>\n",
       "      <td>0.000000</td>\n",
       "      <td>0.0</td>\n",
       "      <td>1067.000000</td>\n",
       "    </tr>\n",
       "    <tr>\n",
       "      <th>25%</th>\n",
       "      <td>1050.000000</td>\n",
       "      <td>1999.000000</td>\n",
       "      <td>69.000000</td>\n",
       "      <td>125000.000000</td>\n",
       "      <td>3.000000</td>\n",
       "      <td>0.0</td>\n",
       "      <td>30165.000000</td>\n",
       "    </tr>\n",
       "    <tr>\n",
       "      <th>50%</th>\n",
       "      <td>2700.000000</td>\n",
       "      <td>2003.000000</td>\n",
       "      <td>105.000000</td>\n",
       "      <td>150000.000000</td>\n",
       "      <td>6.000000</td>\n",
       "      <td>0.0</td>\n",
       "      <td>49413.000000</td>\n",
       "    </tr>\n",
       "    <tr>\n",
       "      <th>75%</th>\n",
       "      <td>6400.000000</td>\n",
       "      <td>2008.000000</td>\n",
       "      <td>143.000000</td>\n",
       "      <td>150000.000000</td>\n",
       "      <td>9.000000</td>\n",
       "      <td>0.0</td>\n",
       "      <td>71083.000000</td>\n",
       "    </tr>\n",
       "    <tr>\n",
       "      <th>max</th>\n",
       "      <td>20000.000000</td>\n",
       "      <td>9999.000000</td>\n",
       "      <td>20000.000000</td>\n",
       "      <td>150000.000000</td>\n",
       "      <td>12.000000</td>\n",
       "      <td>0.0</td>\n",
       "      <td>99998.000000</td>\n",
       "    </tr>\n",
       "  </tbody>\n",
       "</table>\n",
       "</div>"
      ],
      "text/plain": [
       "               Price  RegistrationYear          Power      Kilometer  \\\n",
       "count  354369.000000     354369.000000  354369.000000  354369.000000   \n",
       "mean     4416.656776       2004.234448     110.094337  128211.172535   \n",
       "std      4514.158514         90.227958     189.850405   37905.341530   \n",
       "min         0.000000       1000.000000       0.000000    5000.000000   \n",
       "25%      1050.000000       1999.000000      69.000000  125000.000000   \n",
       "50%      2700.000000       2003.000000     105.000000  150000.000000   \n",
       "75%      6400.000000       2008.000000     143.000000  150000.000000   \n",
       "max     20000.000000       9999.000000   20000.000000  150000.000000   \n",
       "\n",
       "       RegistrationMonth  NumberOfPictures     PostalCode  \n",
       "count      354369.000000          354369.0  354369.000000  \n",
       "mean            5.714645               0.0   50508.689087  \n",
       "std             3.726421               0.0   25783.096248  \n",
       "min             0.000000               0.0    1067.000000  \n",
       "25%             3.000000               0.0   30165.000000  \n",
       "50%             6.000000               0.0   49413.000000  \n",
       "75%             9.000000               0.0   71083.000000  \n",
       "max            12.000000               0.0   99998.000000  "
      ]
     },
     "metadata": {},
     "output_type": "display_data"
    },
    {
     "name": "stdout",
     "output_type": "stream",
     "text": [
      "\n",
      "Общая статистика по категориальным переменным:\n"
     ]
    },
    {
     "data": {
      "text/html": [
       "<div>\n",
       "<style scoped>\n",
       "    .dataframe tbody tr th:only-of-type {\n",
       "        vertical-align: middle;\n",
       "    }\n",
       "\n",
       "    .dataframe tbody tr th {\n",
       "        vertical-align: top;\n",
       "    }\n",
       "\n",
       "    .dataframe thead th {\n",
       "        text-align: right;\n",
       "    }\n",
       "</style>\n",
       "<table border=\"1\" class=\"dataframe\">\n",
       "  <thead>\n",
       "    <tr style=\"text-align: right;\">\n",
       "      <th></th>\n",
       "      <th>DateCrawled</th>\n",
       "      <th>VehicleType</th>\n",
       "      <th>Gearbox</th>\n",
       "      <th>Model</th>\n",
       "      <th>FuelType</th>\n",
       "      <th>Brand</th>\n",
       "      <th>Repaired</th>\n",
       "      <th>DateCreated</th>\n",
       "      <th>LastSeen</th>\n",
       "    </tr>\n",
       "  </thead>\n",
       "  <tbody>\n",
       "    <tr>\n",
       "      <th>count</th>\n",
       "      <td>354369</td>\n",
       "      <td>316879</td>\n",
       "      <td>334536</td>\n",
       "      <td>334664</td>\n",
       "      <td>321474</td>\n",
       "      <td>354369</td>\n",
       "      <td>283215</td>\n",
       "      <td>354369</td>\n",
       "      <td>354369</td>\n",
       "    </tr>\n",
       "    <tr>\n",
       "      <th>unique</th>\n",
       "      <td>271174</td>\n",
       "      <td>8</td>\n",
       "      <td>2</td>\n",
       "      <td>250</td>\n",
       "      <td>7</td>\n",
       "      <td>40</td>\n",
       "      <td>2</td>\n",
       "      <td>109</td>\n",
       "      <td>179150</td>\n",
       "    </tr>\n",
       "    <tr>\n",
       "      <th>top</th>\n",
       "      <td>2016-03-24 14:49:47</td>\n",
       "      <td>sedan</td>\n",
       "      <td>manual</td>\n",
       "      <td>golf</td>\n",
       "      <td>petrol</td>\n",
       "      <td>volkswagen</td>\n",
       "      <td>no</td>\n",
       "      <td>2016-04-03 00:00:00</td>\n",
       "      <td>2016-04-06 13:45:54</td>\n",
       "    </tr>\n",
       "    <tr>\n",
       "      <th>freq</th>\n",
       "      <td>7</td>\n",
       "      <td>91457</td>\n",
       "      <td>268251</td>\n",
       "      <td>29232</td>\n",
       "      <td>216352</td>\n",
       "      <td>77013</td>\n",
       "      <td>247161</td>\n",
       "      <td>13719</td>\n",
       "      <td>17</td>\n",
       "    </tr>\n",
       "  </tbody>\n",
       "</table>\n",
       "</div>"
      ],
      "text/plain": [
       "                DateCrawled VehicleType Gearbox   Model FuelType       Brand  \\\n",
       "count                354369      316879  334536  334664   321474      354369   \n",
       "unique               271174           8       2     250        7          40   \n",
       "top     2016-03-24 14:49:47       sedan  manual    golf   petrol  volkswagen   \n",
       "freq                      7       91457  268251   29232   216352       77013   \n",
       "\n",
       "       Repaired          DateCreated             LastSeen  \n",
       "count    283215               354369               354369  \n",
       "unique        2                  109               179150  \n",
       "top          no  2016-04-03 00:00:00  2016-04-06 13:45:54  \n",
       "freq     247161                13719                   17  "
      ]
     },
     "metadata": {},
     "output_type": "display_data"
    },
    {
     "name": "stdout",
     "output_type": "stream",
     "text": [
      "\n",
      "Распределение и выбросы данных в количественных переменных:\n"
     ]
    },
    {
     "data": {
      "image/png": "[encoded data removed]",
      "text/plain": [
       "<Figure size 1260x576 with 7 Axes>"
      ]
     },
     "metadata": {
      "needs_background": "light"
     },
     "output_type": "display_data"
    }
   ],
   "source": [
    "explore_dataset(data)"
   ]
  },
  {
   "cell_type": "markdown",
   "metadata": {},
   "source": [
    "В данных имеются пропуски, дубликаты и выбросы. Кроме того столбцы именованы в стиле Camel Case.\n",
    "\n",
    "Приведем названия столбцов к стандарту:"
   ]
  },
  {
   "cell_type": "code",
   "execution_count": 5,
   "metadata": {},
   "outputs": [],
   "source": [
    "data.columns = [re.sub(r'(?<!^)(?=[A-Z])', '_', i).lower() for i in data.columns]"
   ]
  },
  {
   "cell_type": "code",
   "execution_count": 6,
   "metadata": {},
   "outputs": [
    {
     "data": {
      "text/html": [
       "<div>\n",
       "<style scoped>\n",
       "    .dataframe tbody tr th:only-of-type {\n",
       "        vertical-align: middle;\n",
       "    }\n",
       "\n",
       "    .dataframe tbody tr th {\n",
       "        vertical-align: top;\n",
       "    }\n",
       "\n",
       "    .dataframe thead th {\n",
       "        text-align: right;\n",
       "    }\n",
       "</style>\n",
       "<table border=\"1\" class=\"dataframe\">\n",
       "  <thead>\n",
       "    <tr style=\"text-align: right;\">\n",
       "      <th></th>\n",
       "      <th>date_crawled</th>\n",
       "      <th>price</th>\n",
       "      <th>vehicle_type</th>\n",
       "      <th>registration_year</th>\n",
       "      <th>gearbox</th>\n",
       "      <th>power</th>\n",
       "      <th>model</th>\n",
       "      <th>kilometer</th>\n",
       "      <th>registration_month</th>\n",
       "      <th>fuel_type</th>\n",
       "      <th>brand</th>\n",
       "      <th>repaired</th>\n",
       "      <th>date_created</th>\n",
       "      <th>number_of_pictures</th>\n",
       "      <th>postal_code</th>\n",
       "      <th>last_seen</th>\n",
       "    </tr>\n",
       "  </thead>\n",
       "  <tbody>\n",
       "    <tr>\n",
       "      <th>0</th>\n",
       "      <td>2016-03-24 11:52:17</td>\n",
       "      <td>480</td>\n",
       "      <td>NaN</td>\n",
       "      <td>1993</td>\n",
       "      <td>manual</td>\n",
       "      <td>0</td>\n",
       "      <td>golf</td>\n",
       "      <td>150000</td>\n",
       "      <td>0</td>\n",
       "      <td>petrol</td>\n",
       "      <td>volkswagen</td>\n",
       "      <td>NaN</td>\n",
       "      <td>2016-03-24 00:00:00</td>\n",
       "      <td>0</td>\n",
       "      <td>70435</td>\n",
       "      <td>2016-04-07 03:16:57</td>\n",
       "    </tr>\n",
       "    <tr>\n",
       "      <th>1</th>\n",
       "      <td>2016-03-24 10:58:45</td>\n",
       "      <td>18300</td>\n",
       "      <td>coupe</td>\n",
       "      <td>2011</td>\n",
       "      <td>manual</td>\n",
       "      <td>190</td>\n",
       "      <td>NaN</td>\n",
       "      <td>125000</td>\n",
       "      <td>5</td>\n",
       "      <td>gasoline</td>\n",
       "      <td>audi</td>\n",
       "      <td>yes</td>\n",
       "      <td>2016-03-24 00:00:00</td>\n",
       "      <td>0</td>\n",
       "      <td>66954</td>\n",
       "      <td>2016-04-07 01:46:50</td>\n",
       "    </tr>\n",
       "    <tr>\n",
       "      <th>2</th>\n",
       "      <td>2016-03-14 12:52:21</td>\n",
       "      <td>9800</td>\n",
       "      <td>suv</td>\n",
       "      <td>2004</td>\n",
       "      <td>auto</td>\n",
       "      <td>163</td>\n",
       "      <td>grand</td>\n",
       "      <td>125000</td>\n",
       "      <td>8</td>\n",
       "      <td>gasoline</td>\n",
       "      <td>jeep</td>\n",
       "      <td>NaN</td>\n",
       "      <td>2016-03-14 00:00:00</td>\n",
       "      <td>0</td>\n",
       "      <td>90480</td>\n",
       "      <td>2016-04-05 12:47:46</td>\n",
       "    </tr>\n",
       "    <tr>\n",
       "      <th>3</th>\n",
       "      <td>2016-03-17 16:54:04</td>\n",
       "      <td>1500</td>\n",
       "      <td>small</td>\n",
       "      <td>2001</td>\n",
       "      <td>manual</td>\n",
       "      <td>75</td>\n",
       "      <td>golf</td>\n",
       "      <td>150000</td>\n",
       "      <td>6</td>\n",
       "      <td>petrol</td>\n",
       "      <td>volkswagen</td>\n",
       "      <td>no</td>\n",
       "      <td>2016-03-17 00:00:00</td>\n",
       "      <td>0</td>\n",
       "      <td>91074</td>\n",
       "      <td>2016-03-17 17:40:17</td>\n",
       "    </tr>\n",
       "    <tr>\n",
       "      <th>4</th>\n",
       "      <td>2016-03-31 17:25:20</td>\n",
       "      <td>3600</td>\n",
       "      <td>small</td>\n",
       "      <td>2008</td>\n",
       "      <td>manual</td>\n",
       "      <td>69</td>\n",
       "      <td>fabia</td>\n",
       "      <td>90000</td>\n",
       "      <td>7</td>\n",
       "      <td>gasoline</td>\n",
       "      <td>skoda</td>\n",
       "      <td>no</td>\n",
       "      <td>2016-03-31 00:00:00</td>\n",
       "      <td>0</td>\n",
       "      <td>60437</td>\n",
       "      <td>2016-04-06 10:17:21</td>\n",
       "    </tr>\n",
       "  </tbody>\n",
       "</table>\n",
       "</div>"
      ],
      "text/plain": [
       "          date_crawled  price vehicle_type  registration_year gearbox  power  \\\n",
       "0  2016-03-24 11:52:17    480          NaN               1993  manual      0   \n",
       "1  2016-03-24 10:58:45  18300        coupe               2011  manual    190   \n",
       "2  2016-03-14 12:52:21   9800          suv               2004    auto    163   \n",
       "3  2016-03-17 16:54:04   1500        small               2001  manual     75   \n",
       "4  2016-03-31 17:25:20   3600        small               2008  manual     69   \n",
       "\n",
       "   model  kilometer  registration_month fuel_type       brand repaired  \\\n",
       "0   golf     150000                   0    petrol  volkswagen      NaN   \n",
       "1    NaN     125000                   5  gasoline        audi      yes   \n",
       "2  grand     125000                   8  gasoline        jeep      NaN   \n",
       "3   golf     150000                   6    petrol  volkswagen       no   \n",
       "4  fabia      90000                   7  gasoline       skoda       no   \n",
       "\n",
       "          date_created  number_of_pictures  postal_code            last_seen  \n",
       "0  2016-03-24 00:00:00                   0        70435  2016-04-07 03:16:57  \n",
       "1  2016-03-24 00:00:00                   0        66954  2016-04-07 01:46:50  \n",
       "2  2016-03-14 00:00:00                   0        90480  2016-04-05 12:47:46  \n",
       "3  2016-03-17 00:00:00                   0        91074  2016-03-17 17:40:17  \n",
       "4  2016-03-31 00:00:00                   0        60437  2016-04-06 10:17:21  "
      ]
     },
     "execution_count": 6,
     "metadata": {},
     "output_type": "execute_result"
    }
   ],
   "source": [
    "data.head()"
   ]
  },
  {
   "cell_type": "markdown",
   "metadata": {},
   "source": [
    "Удалим дубликаты:"
   ]
  },
  {
   "cell_type": "code",
   "execution_count": 7,
   "metadata": {},
   "outputs": [],
   "source": [
    "data = data.drop_duplicates()"
   ]
  },
  {
   "cell_type": "markdown",
   "metadata": {},
   "source": [
    "В столбце количества изображений все значения равны нулям, а почтовый индекс и месяц регистрации автомобиля не несут никакой смысловой нагрузки в задаче предсказания стоимости автомобиля. Удалим эти столбцы, чтобы не мешались."
   ]
  },
  {
   "cell_type": "code",
   "execution_count": 8,
   "metadata": {},
   "outputs": [],
   "source": [
    "data = data.drop(['number_of_pictures', 'registration_month', 'postal_code'], axis=1)"
   ]
  },
  {
   "cell_type": "markdown",
   "metadata": {},
   "source": [
    "Переведем столбцы с датой в формат datetime:"
   ]
  },
  {
   "cell_type": "code",
   "execution_count": 9,
   "metadata": {},
   "outputs": [],
   "source": [
    "data['date_crawled']= pd.to_datetime(data['date_crawled'])\n",
    "data['date_created']= pd.to_datetime(data['date_created'])\n",
    "data['last_seen']= pd.to_datetime(data['last_seen'])"
   ]
  },
  {
   "cell_type": "markdown",
   "metadata": {},
   "source": [
    "Посмотрим распределение данных в количественных переменных:"
   ]
  },
  {
   "cell_type": "code",
   "execution_count": 10,
   "metadata": {},
   "outputs": [],
   "source": [
    "def plot_hist(data, col_column):\n",
    "    '''\n",
    "    Функция отрисовки гистограмм и ящика с усами для количесвтенных переменных.\n",
    "    На вход: исходная таблица и список количественных переменных.\n",
    "    На выходе: графики\n",
    "    '''\n",
    "    rows = len(col_column)\n",
    "    f, ax = plt.subplots(rows,2, figsize=(10, 3*rows))\n",
    "    f.tight_layout()\n",
    "    plt.rcParams.update({'font.size': 18})\n",
    "    \n",
    "    for i, col in enumerate(col_column):         \n",
    "        sns.histplot(data[col], kde=True, bins=24, ax = ax[i, 0])                    \n",
    "        sns.boxplot(data[col], ax = ax[i, 1])\n",
    "\n",
    "        ax[i, 0].set_xlabel(col)\n",
    "        ax[i, 1].set_xlabel(col)\n",
    "        ax[i, 0].set_ylabel('Количество')\n",
    "    plt.suptitle(\"Гистограмма и ящик с усами для количественных данных\", fontsize=22, y=1.01)\n",
    "    plt.show()"
   ]
  },
  {
   "cell_type": "code",
   "execution_count": 11,
   "metadata": {
    "scrolled": false
   },
   "outputs": [
    {
     "data": {
      "image/png": "[encoded data removed]",
      "text/plain": [
       "<Figure size 720x864 with 8 Axes>"
      ]
     },
     "metadata": {
      "needs_background": "light"
     },
     "output_type": "display_data"
    }
   ],
   "source": [
    "plot_hist(data, data.select_dtypes(exclude=['object','bool','datetime']).columns)"
   ]
  },
  {
   "cell_type": "markdown",
   "metadata": {},
   "source": [
    "Разберемся с аномалиями в столбце регистрации автомобиля. Согласно данным, все они выгружены были в 2016 году:"
   ]
  },
  {
   "cell_type": "code",
   "execution_count": 12,
   "metadata": {},
   "outputs": [
    {
     "data": {
      "text/plain": [
       "array([2016])"
      ]
     },
     "execution_count": 12,
     "metadata": {},
     "output_type": "execute_result"
    }
   ],
   "source": [
    "data['date_crawled'].dt.year.unique()"
   ]
  },
  {
   "cell_type": "markdown",
   "metadata": {},
   "source": [
    "При этом год регистрации автомобиля варьируется от 1000 до 9999. Очевидно некоторые из этих значений указаны намерянно неправильно, некоторые, возможно, случайно:"
   ]
  },
  {
   "cell_type": "code",
   "execution_count": 13,
   "metadata": {},
   "outputs": [
    {
     "data": {
      "text/plain": [
       "array([1000, 1001, 1039, 1111, 1200, 1234, 1253, 1255, 1300, 1400, 1500,\n",
       "       1600, 1602, 1688, 1800, 1910, 1915, 1919, 1920, 1923, 1925, 1927,\n",
       "       1928, 1929, 1930, 1931, 1932, 1933, 1934, 1935, 1936, 1937, 1938,\n",
       "       1940, 1941, 1942, 1943, 1944, 1945, 1946, 1947, 1948, 1949, 1950,\n",
       "       1951, 1952, 1953, 1954, 1955, 1956, 1957, 1958, 1959, 1960, 1961,\n",
       "       1962, 1963, 1964, 1965, 1966, 1967, 1968, 1969, 1970, 1971, 1972,\n",
       "       1973, 1974, 1975, 1976, 1977, 1978, 1979, 1980, 1981, 1982, 1983,\n",
       "       1984, 1985, 1986, 1987, 1988, 1989, 1990, 1991, 1992, 1993, 1994,\n",
       "       1995, 1996, 1997, 1998, 1999, 2000, 2001, 2002, 2003, 2004, 2005,\n",
       "       2006, 2007, 2008, 2009, 2010, 2011, 2012, 2013, 2014, 2015, 2016,\n",
       "       2017, 2018, 2019, 2066, 2200, 2222, 2290, 2500, 2800, 2900, 3000,\n",
       "       3200, 3500, 3700, 3800, 4000, 4100, 4500, 4800, 5000, 5300, 5555,\n",
       "       5600, 5900, 5911, 6000, 6500, 7000, 7100, 7500, 7800, 8000, 8200,\n",
       "       8455, 8500, 8888, 9000, 9229, 9450, 9996, 9999])"
      ]
     },
     "execution_count": 13,
     "metadata": {},
     "output_type": "execute_result"
    }
   ],
   "source": [
    "np.sort(data['registration_year'].unique())"
   ]
  },
  {
   "cell_type": "markdown",
   "metadata": {},
   "source": [
    "Поскольку первый автомобиль появился только в конце 19 го века, оставим только данный в которых значение этого столбца не меньше 1910 года и не больше года создания этого датасета (2016):"
   ]
  },
  {
   "cell_type": "code",
   "execution_count": 14,
   "metadata": {},
   "outputs": [],
   "source": [
    "data = data.query('registration_year <= 2016 and registration_year >=1910' )"
   ]
  },
  {
   "cell_type": "markdown",
   "metadata": {},
   "source": [
    "Посмотрим на выбросы в столбце мощности двигателя. Самая большая мощность у автомобиля, согласно информации в интернете, является 2000 л.с. Наврятли этот автомобиль находится в данном датасете, но посмотрим какие автомобили превышают это значение:"
   ]
  },
  {
   "cell_type": "code",
   "execution_count": 15,
   "metadata": {},
   "outputs": [
    {
     "data": {
      "text/html": [
       "<div>\n",
       "<style scoped>\n",
       "    .dataframe tbody tr th:only-of-type {\n",
       "        vertical-align: middle;\n",
       "    }\n",
       "\n",
       "    .dataframe tbody tr th {\n",
       "        vertical-align: top;\n",
       "    }\n",
       "\n",
       "    .dataframe thead th {\n",
       "        text-align: right;\n",
       "    }\n",
       "</style>\n",
       "<table border=\"1\" class=\"dataframe\">\n",
       "  <thead>\n",
       "    <tr style=\"text-align: right;\">\n",
       "      <th></th>\n",
       "      <th>date_crawled</th>\n",
       "      <th>price</th>\n",
       "      <th>vehicle_type</th>\n",
       "      <th>registration_year</th>\n",
       "      <th>gearbox</th>\n",
       "      <th>power</th>\n",
       "      <th>model</th>\n",
       "      <th>kilometer</th>\n",
       "      <th>fuel_type</th>\n",
       "      <th>brand</th>\n",
       "      <th>repaired</th>\n",
       "      <th>date_created</th>\n",
       "      <th>last_seen</th>\n",
       "    </tr>\n",
       "  </thead>\n",
       "  <tbody>\n",
       "    <tr>\n",
       "      <th>7661</th>\n",
       "      <td>2016-04-02 19:25:25</td>\n",
       "      <td>1499</td>\n",
       "      <td>small</td>\n",
       "      <td>1999</td>\n",
       "      <td>manual</td>\n",
       "      <td>7515</td>\n",
       "      <td>lupo</td>\n",
       "      <td>150000</td>\n",
       "      <td>petrol</td>\n",
       "      <td>volkswagen</td>\n",
       "      <td>NaN</td>\n",
       "      <td>2016-04-02</td>\n",
       "      <td>2016-04-06 11:46:49</td>\n",
       "    </tr>\n",
       "    <tr>\n",
       "      <th>11039</th>\n",
       "      <td>2016-03-25 19:55:32</td>\n",
       "      <td>0</td>\n",
       "      <td>sedan</td>\n",
       "      <td>1998</td>\n",
       "      <td>manual</td>\n",
       "      <td>10317</td>\n",
       "      <td>other</td>\n",
       "      <td>150000</td>\n",
       "      <td>petrol</td>\n",
       "      <td>fiat</td>\n",
       "      <td>no</td>\n",
       "      <td>2016-03-25</td>\n",
       "      <td>2016-04-01 19:16:33</td>\n",
       "    </tr>\n",
       "    <tr>\n",
       "      <th>19092</th>\n",
       "      <td>2016-03-20 17:54:04</td>\n",
       "      <td>9750</td>\n",
       "      <td>wagon</td>\n",
       "      <td>2005</td>\n",
       "      <td>auto</td>\n",
       "      <td>2729</td>\n",
       "      <td>5er</td>\n",
       "      <td>150000</td>\n",
       "      <td>gasoline</td>\n",
       "      <td>bmw</td>\n",
       "      <td>no</td>\n",
       "      <td>2016-03-20</td>\n",
       "      <td>2016-03-23 02:48:53</td>\n",
       "    </tr>\n",
       "    <tr>\n",
       "      <th>25232</th>\n",
       "      <td>2016-03-28 19:57:39</td>\n",
       "      <td>10900</td>\n",
       "      <td>bus</td>\n",
       "      <td>2009</td>\n",
       "      <td>manual</td>\n",
       "      <td>10520</td>\n",
       "      <td>caddy</td>\n",
       "      <td>150000</td>\n",
       "      <td>gasoline</td>\n",
       "      <td>volkswagen</td>\n",
       "      <td>no</td>\n",
       "      <td>2016-03-28</td>\n",
       "      <td>2016-04-07 02:47:02</td>\n",
       "    </tr>\n",
       "    <tr>\n",
       "      <th>33952</th>\n",
       "      <td>2016-03-09 11:37:03</td>\n",
       "      <td>3740</td>\n",
       "      <td>small</td>\n",
       "      <td>2006</td>\n",
       "      <td>manual</td>\n",
       "      <td>6920</td>\n",
       "      <td>aygo</td>\n",
       "      <td>90000</td>\n",
       "      <td>NaN</td>\n",
       "      <td>toyota</td>\n",
       "      <td>no</td>\n",
       "      <td>2016-03-09</td>\n",
       "      <td>2016-03-17 05:16:32</td>\n",
       "    </tr>\n",
       "    <tr>\n",
       "      <th>...</th>\n",
       "      <td>...</td>\n",
       "      <td>...</td>\n",
       "      <td>...</td>\n",
       "      <td>...</td>\n",
       "      <td>...</td>\n",
       "      <td>...</td>\n",
       "      <td>...</td>\n",
       "      <td>...</td>\n",
       "      <td>...</td>\n",
       "      <td>...</td>\n",
       "      <td>...</td>\n",
       "      <td>...</td>\n",
       "      <td>...</td>\n",
       "    </tr>\n",
       "    <tr>\n",
       "      <th>341320</th>\n",
       "      <td>2016-03-29 21:40:33</td>\n",
       "      <td>1899</td>\n",
       "      <td>other</td>\n",
       "      <td>2006</td>\n",
       "      <td>manual</td>\n",
       "      <td>7518</td>\n",
       "      <td>berlingo</td>\n",
       "      <td>125000</td>\n",
       "      <td>petrol</td>\n",
       "      <td>citroen</td>\n",
       "      <td>yes</td>\n",
       "      <td>2016-03-29</td>\n",
       "      <td>2016-03-31 15:17:03</td>\n",
       "    </tr>\n",
       "    <tr>\n",
       "      <th>346639</th>\n",
       "      <td>2016-03-25 12:55:36</td>\n",
       "      <td>1300</td>\n",
       "      <td>sedan</td>\n",
       "      <td>2000</td>\n",
       "      <td>manual</td>\n",
       "      <td>12512</td>\n",
       "      <td>carisma</td>\n",
       "      <td>150000</td>\n",
       "      <td>petrol</td>\n",
       "      <td>mitsubishi</td>\n",
       "      <td>NaN</td>\n",
       "      <td>2016-03-25</td>\n",
       "      <td>2016-04-06 14:44:53</td>\n",
       "    </tr>\n",
       "    <tr>\n",
       "      <th>348137</th>\n",
       "      <td>2016-03-16 21:48:39</td>\n",
       "      <td>850</td>\n",
       "      <td>sedan</td>\n",
       "      <td>1993</td>\n",
       "      <td>auto</td>\n",
       "      <td>9012</td>\n",
       "      <td>golf</td>\n",
       "      <td>150000</td>\n",
       "      <td>petrol</td>\n",
       "      <td>volkswagen</td>\n",
       "      <td>NaN</td>\n",
       "      <td>2016-03-16</td>\n",
       "      <td>2016-04-03 09:17:43</td>\n",
       "    </tr>\n",
       "    <tr>\n",
       "      <th>348237</th>\n",
       "      <td>2016-04-04 12:38:11</td>\n",
       "      <td>3000</td>\n",
       "      <td>coupe</td>\n",
       "      <td>2007</td>\n",
       "      <td>manual</td>\n",
       "      <td>2007</td>\n",
       "      <td>corsa</td>\n",
       "      <td>150000</td>\n",
       "      <td>gasoline</td>\n",
       "      <td>opel</td>\n",
       "      <td>yes</td>\n",
       "      <td>2016-04-04</td>\n",
       "      <td>2016-04-04 12:38:11</td>\n",
       "    </tr>\n",
       "    <tr>\n",
       "      <th>348668</th>\n",
       "      <td>2016-03-05 17:53:09</td>\n",
       "      <td>1000</td>\n",
       "      <td>wagon</td>\n",
       "      <td>1996</td>\n",
       "      <td>manual</td>\n",
       "      <td>2598</td>\n",
       "      <td>a6</td>\n",
       "      <td>150000</td>\n",
       "      <td>NaN</td>\n",
       "      <td>audi</td>\n",
       "      <td>NaN</td>\n",
       "      <td>2016-03-05</td>\n",
       "      <td>2016-03-07 16:17:01</td>\n",
       "    </tr>\n",
       "  </tbody>\n",
       "</table>\n",
       "<p>109 rows × 13 columns</p>\n",
       "</div>"
      ],
      "text/plain": [
       "              date_crawled  price vehicle_type  registration_year gearbox  \\\n",
       "7661   2016-04-02 19:25:25   1499        small               1999  manual   \n",
       "11039  2016-03-25 19:55:32      0        sedan               1998  manual   \n",
       "19092  2016-03-20 17:54:04   9750        wagon               2005    auto   \n",
       "25232  2016-03-28 19:57:39  10900          bus               2009  manual   \n",
       "33952  2016-03-09 11:37:03   3740        small               2006  manual   \n",
       "...                    ...    ...          ...                ...     ...   \n",
       "341320 2016-03-29 21:40:33   1899        other               2006  manual   \n",
       "346639 2016-03-25 12:55:36   1300        sedan               2000  manual   \n",
       "348137 2016-03-16 21:48:39    850        sedan               1993    auto   \n",
       "348237 2016-04-04 12:38:11   3000        coupe               2007  manual   \n",
       "348668 2016-03-05 17:53:09   1000        wagon               1996  manual   \n",
       "\n",
       "        power     model  kilometer fuel_type       brand repaired  \\\n",
       "7661     7515      lupo     150000    petrol  volkswagen      NaN   \n",
       "11039   10317     other     150000    petrol        fiat       no   \n",
       "19092    2729       5er     150000  gasoline         bmw       no   \n",
       "25232   10520     caddy     150000  gasoline  volkswagen       no   \n",
       "33952    6920      aygo      90000       NaN      toyota       no   \n",
       "...       ...       ...        ...       ...         ...      ...   \n",
       "341320   7518  berlingo     125000    petrol     citroen      yes   \n",
       "346639  12512   carisma     150000    petrol  mitsubishi      NaN   \n",
       "348137   9012      golf     150000    petrol  volkswagen      NaN   \n",
       "348237   2007     corsa     150000  gasoline        opel      yes   \n",
       "348668   2598        a6     150000       NaN        audi      NaN   \n",
       "\n",
       "       date_created           last_seen  \n",
       "7661     2016-04-02 2016-04-06 11:46:49  \n",
       "11039    2016-03-25 2016-04-01 19:16:33  \n",
       "19092    2016-03-20 2016-03-23 02:48:53  \n",
       "25232    2016-03-28 2016-04-07 02:47:02  \n",
       "33952    2016-03-09 2016-03-17 05:16:32  \n",
       "...             ...                 ...  \n",
       "341320   2016-03-29 2016-03-31 15:17:03  \n",
       "346639   2016-03-25 2016-04-06 14:44:53  \n",
       "348137   2016-03-16 2016-04-03 09:17:43  \n",
       "348237   2016-04-04 2016-04-04 12:38:11  \n",
       "348668   2016-03-05 2016-03-07 16:17:01  \n",
       "\n",
       "[109 rows x 13 columns]"
      ]
     },
     "execution_count": 15,
     "metadata": {},
     "output_type": "execute_result"
    }
   ],
   "source": [
    "data.query('power > 2000' )"
   ]
  },
  {
   "cell_type": "markdown",
   "metadata": {},
   "source": [
    "Очевидно, при заполнении этого параметра были допущены ошибки, возможно пользователь перепутал систему единиц. В любом случае знаяения не соответствую реальности. Средняя мощность автомобилей используемых для \"домашнего\" использования слегка превышает 100 л.с. Удалим все строки с мощностью двигателей больше 500 л.с. Таким образом мы отсечем большинство ошибочных значений и очень редких автомобилей."
   ]
  },
  {
   "cell_type": "code",
   "execution_count": 16,
   "metadata": {},
   "outputs": [],
   "source": [
    "data = data.query('power < 500' )"
   ]
  },
  {
   "cell_type": "markdown",
   "metadata": {},
   "source": [
    "У нас остаются нулевые значения в этом столбце, удалим их тоже:"
   ]
  },
  {
   "cell_type": "code",
   "execution_count": 17,
   "metadata": {},
   "outputs": [],
   "source": [
    "data = data.query('power != 0' )"
   ]
  },
  {
   "cell_type": "markdown",
   "metadata": {},
   "source": [
    "Также удалим нулевые значения в столбце цены. В остальном значения в этом столбце не выглядят подозрительными:"
   ]
  },
  {
   "cell_type": "code",
   "execution_count": 18,
   "metadata": {},
   "outputs": [],
   "source": [
    "data = data.query('price != 0' )"
   ]
  },
  {
   "cell_type": "markdown",
   "metadata": {},
   "source": [
    "Проверим, как распределение данных выглядит после обработки аномалий:"
   ]
  },
  {
   "cell_type": "code",
   "execution_count": 19,
   "metadata": {},
   "outputs": [
    {
     "data": {
      "image/png": "[encoded data removed]",
      "text/plain": [
       "<Figure size 720x864 with 8 Axes>"
      ]
     },
     "metadata": {
      "needs_background": "light"
     },
     "output_type": "display_data"
    }
   ],
   "source": [
    "plot_hist(data, data.select_dtypes(exclude=['object','bool','datetime']).columns)"
   ]
  },
  {
   "cell_type": "markdown",
   "metadata": {},
   "source": [
    "В данных остались некоторы выбросы, однако они остаются в пределах разумных значений для этих параметров.\n",
    "\n",
    "Разберемся с пропусками в данных. У нас имеются пропуски в столбцах  vehicle_type, gearbox, model, fuel_type, repaired. Мы не сможем восстановить модель машины и определить была ли она в ремонте. Строки с пропусками в модели машины мы удалим. Однако для типа кузова, коробки передач и типа топлива возможно применение статистических методов. Заполним пропуски в этих столбцах наиболее часто встреающимся значением для каждой марки и модели машины. Для этого напишем небольшую функию:\n"
   ]
  },
  {
   "cell_type": "code",
   "execution_count": 20,
   "metadata": {},
   "outputs": [],
   "source": [
    "data.dropna(subset=['model'], inplace=True)"
   ]
  },
  {
   "cell_type": "code",
   "execution_count": 21,
   "metadata": {},
   "outputs": [],
   "source": [
    "def fill_missing(df, column):\n",
    "    grouped = df.groupby(['brand','model'], dropna=False)[column]\n",
    "    df[column] = grouped.apply(lambda x: x.fillna(x.mode().iloc[0]))\n",
    "    return df"
   ]
  },
  {
   "cell_type": "code",
   "execution_count": 22,
   "metadata": {},
   "outputs": [
    {
     "name": "stdout",
     "output_type": "stream",
     "text": [
      "Заполнение пропусков в столбце fuel_type: было  пропусков 12889, стало 0 пропусков.\n",
      "Заполнение пропусков в столбце gearbox: было  пропусков 4694, стало 0 пропусков.\n",
      "Заполнение пропусков в столбце vehicle_type: было  пропусков 9450, стало 0 пропусков.\n"
     ]
    }
   ],
   "source": [
    "for column in ['fuel_type', 'gearbox', 'vehicle_type']:\n",
    "    n_old = data[data[column].isna()].shape[0]\n",
    "    data = fill_missing(data, column)\n",
    "    n_new = data[data[column].isna()].shape[0]\n",
    "    print(f'Заполнение пропусков в столбце {column}: было  пропусков {n_old}, стало {n_new} пропусков.')"
   ]
  },
  {
   "cell_type": "markdown",
   "metadata": {},
   "source": [
    "У нас слишком много пропусков в столбце 'repaired' чтобы просто их удалить, поэтому здесь пропуски заполним новой категориальной переменной 'undefined'."
   ]
  },
  {
   "cell_type": "code",
   "execution_count": 23,
   "metadata": {},
   "outputs": [],
   "source": [
    "data['repaired'].fillna('undefined', inplace=True)"
   ]
  },
  {
   "cell_type": "markdown",
   "metadata": {},
   "source": [
    "От пропусков и аномалий мы избавились. Удалим ненужные теперь столбцы 'date_crawled', 'date_created', 'last_seen'."
   ]
  },
  {
   "cell_type": "code",
   "execution_count": 24,
   "metadata": {},
   "outputs": [],
   "source": [
    "data = data.drop(['date_crawled', 'date_created', 'last_seen'], axis=1)"
   ]
  },
  {
   "cell_type": "code",
   "execution_count": 25,
   "metadata": {},
   "outputs": [
    {
     "data": {
      "text/plain": [
       "19.497190781360672"
      ]
     },
     "execution_count": 25,
     "metadata": {},
     "output_type": "execute_result"
    }
   ],
   "source": [
    "(354369 - data.shape[0])/354369*100"
   ]
  },
  {
   "cell_type": "markdown",
   "metadata": {},
   "source": [
    "Таким образом в ходе предобработки мы удалили порядка 20% данных."
   ]
  },
  {
   "cell_type": "markdown",
   "metadata": {},
   "source": [
    "### Вывод по этапу подготовки данных:\n",
    "\n",
    "Был обработан датасет с историческими данными технических характеристик, комплектации и цены автомобилей. Были удалены дубликаты, аномальные значения года регистрации автомобилей и мощности двигателей. Так же были удалены строки с пропусками в столбце модели автомобиля. Пропуски в столбцах типа кузова, коробки передач и типа топлива были заполнены наиболее часто встреающимся значением для каждой марки и модели машины. В столбец 'repaired' была добавлена новая переменная 'undefined' взамен пропущенных значений. В общей сумме было удалено почти 20% данных."
   ]
  },
  {
   "cell_type": "markdown",
   "metadata": {},
   "source": [
    "## Обучение моделей"
   ]
  },
  {
   "cell_type": "markdown",
   "metadata": {},
   "source": [
    "Выделим данные с признаками и целевым признаком. А так же разделим выборку на обучающую и тестовую:"
   ]
  },
  {
   "cell_type": "code",
   "execution_count": 26,
   "metadata": {},
   "outputs": [],
   "source": [
    "features = data.drop(['price'], axis=1)\n",
    "target = data['price']"
   ]
  },
  {
   "cell_type": "code",
   "execution_count": 27,
   "metadata": {},
   "outputs": [
    {
     "name": "stdout",
     "output_type": "stream",
     "text": [
      "Размер обучающей выборки: 213957\n",
      "Размер тестовой выборки: 71320\n"
     ]
    }
   ],
   "source": [
    "features_train, features_test, target_train, target_test =\\\n",
    "train_test_split(features, target, test_size=0.25,\n",
    "                 random_state=RANDOM_STATE)\n",
    "\n",
    "print('Размер обучающей выборки:', features_train.shape[0])\n",
    "print('Размер тестовой выборки:', features_test.shape[0])"
   ]
  },
  {
   "cell_type": "markdown",
   "metadata": {},
   "source": [
    "В данных много категориальных переменных. При этом в некоторых переменных, таких как модель машины, количество категорий велико. Поэтому прямое кодирование очень увеличивает размер датасета (на серверах ЯП  ядро просто умирает) и усложняет обучение моделей. В данной задаче будем применять порядковое кодирование и, как следствие, откажемся от моделей вроде линейной регрессии, а будем использовать модели основанные на решающем дереве."
   ]
  },
  {
   "cell_type": "code",
   "execution_count": 28,
   "metadata": {},
   "outputs": [],
   "source": [
    "cat_features = ['vehicle_type', 'gearbox', 'model',\n",
    "                'fuel_type', 'brand', 'repaired']\n",
    "\n",
    "features_train_ordinal = features_train.copy()\n",
    "features_test_ordinal = features_test.copy()\n",
    "\n",
    "encoder = OrdinalEncoder()\n",
    "encoder.fit(features_train[cat_features])\n",
    "\n",
    "features_train_ordinal[cat_features] = encoder.transform(features_train[cat_features])\n",
    "features_test_ordinal[cat_features] = encoder.transform(features_test[cat_features])"
   ]
  },
  {
   "cell_type": "markdown",
   "metadata": {},
   "source": [
    "Для некоторых моделей необязательно предварительное кодирование категориальных переменных, в них встроена обработка таких признаков. Однако для модели LGBM необходимо указать тип данных в таких стобцах как \"category\"."
   ]
  },
  {
   "cell_type": "code",
   "execution_count": 29,
   "metadata": {},
   "outputs": [],
   "source": [
    "for col in cat_features:\n",
    "    features_train[col] = pd.Series(features_train[col], dtype=\"category\")\n",
    "    features_test[col] = pd.Series(features_test[col], dtype=\"category\")"
   ]
  },
  {
   "cell_type": "markdown",
   "metadata": {},
   "source": [
    "### Модель случайного леса\n",
    "\n",
    "Для начала попробуем обучить модель случайного леса и подобрать наилучшие параметры для нее с помощью RandomizedSearchCV()"
   ]
  },
  {
   "cell_type": "code",
   "execution_count": 30,
   "metadata": {},
   "outputs": [],
   "source": [
    "def tune_model_rf(features, target):\n",
    "    \n",
    "    clf = RandomForestRegressor(random_state=RANDOM_STATE)\n",
    "\n",
    "    param = {}\n",
    "    param['preprocessing'] =  [StandardScaler(), None]\n",
    "    param['classifier__n_estimators'] =  list(np.arange(1, 200, step=20)) + [None]\n",
    "    param['classifier__max_depth'] =  list(np.arange(1, 10, step=2)) + [None]\n",
    "    param['classifier__criterion'] =  ['squared_error']\n",
    "    param['classifier__max_features'] =  ['auto','sqrt','log2']\n",
    "    param['classifier__min_samples_leaf'] =   st.randint(1,4)\n",
    "    param['classifier__min_samples_split'] =   np.arange(2, 10, step=2)\n",
    "    param['classifier'] = [clf]   \n",
    "\n",
    "    pipeline = Pipeline([('preprocessing', StandardScaler()),\n",
    "                         ('classifier', clf)])\n",
    "    params = [param]\n",
    "    \n",
    "    cv = KFold(n_splits=3, shuffle=True, random_state=RANDOM_STATE)\n",
    "    grid =  RandomizedSearchCV(pipeline,\n",
    "                               param_distributions=params,\n",
    "                               scoring='neg_mean_squared_error',\n",
    "                               n_iter=6,\n",
    "                               cv=cv,\n",
    "                               random_state=RANDOM_STATE,\n",
    "                               refit=True,\n",
    "                               verbose=1)\n",
    "\n",
    "    grid.fit(features, target)\n",
    "\n",
    "    print('Параметры наилучшей модели:')\n",
    "    print(\"\\n\".join(f'{k} : {v}' for k,v in grid.best_params_.items()))\n",
    "    print(\"Мера RMSE для наилучшей модели:\", np.sqrt(abs(grid.best_score_)))\n",
    "\n",
    "    return grid.best_estimator_, np.sqrt(abs(grid.best_score_))"
   ]
  },
  {
   "cell_type": "code",
   "execution_count": 31,
   "metadata": {},
   "outputs": [
    {
     "name": "stdout",
     "output_type": "stream",
     "text": [
      "Fitting 3 folds for each of 6 candidates, totalling 18 fits\n",
      "Параметры наилучшей модели:\n",
      "classifier : RandomForestRegressor(max_features='log2', min_samples_leaf=2,\n",
      "                      min_samples_split=4, n_estimators=121,\n",
      "                      random_state=12345)\n",
      "classifier__criterion : squared_error\n",
      "classifier__max_depth : None\n",
      "classifier__max_features : log2\n",
      "classifier__min_samples_leaf : 2\n",
      "classifier__min_samples_split : 4\n",
      "classifier__n_estimators : 121\n",
      "preprocessing : None\n",
      "Мера RMSE для наилучшей модели: 1556.2180226943078\n",
      "Время исполнения кода:  00:02:32\n"
     ]
    }
   ],
   "source": [
    "start = time.time()\n",
    "\n",
    "model_rf, rmse_rf = tune_model_rf(features_train_ordinal, target_train)\n",
    "\n",
    "end = time.time()\n",
    "print('Время исполнения кода: ', time.strftime(\"%H:%M:%S\",time.gmtime(end-start)))"
   ]
  },
  {
   "cell_type": "markdown",
   "metadata": {},
   "source": [
    "RMSE наилучшей модели случайного леса при кроссвалидации получилось равным 1556."
   ]
  },
  {
   "cell_type": "markdown",
   "metadata": {},
   "source": [
    "### Модель градиентного бустинга LGBMRegressor()\n",
    "\n",
    "Построим модель градиентного бустинга из библиотеки LightGBM и подберем для нее гиперпараметры."
   ]
  },
  {
   "cell_type": "code",
   "execution_count": 32,
   "metadata": {},
   "outputs": [],
   "source": [
    "def tune_model_lgb(features, target):\n",
    "    \n",
    "    clf = LGBMRegressor(random_state=RANDOM_STATE)\n",
    "\n",
    "    param = {}\n",
    "    param['preprocessing'] =  [StandardScaler(), None]\n",
    "    param['classifier__n_estimators'] =  list(np.arange(1, 200, step=20)) + [None]\n",
    "    param['classifier__max_depth'] = [-1, 2, 5, 10]\n",
    "    param['classifier__learning_rate'] = [0.03, 0.1, 0.2]\n",
    "    param['classifier__num_iterations'] = [100,200,300]\n",
    "    param['classifier'] = [clf]   \n",
    "\n",
    "    pipeline = Pipeline([('preprocessing', StandardScaler()),\n",
    "                         ('classifier', clf)])\n",
    "    params = [param]\n",
    "    \n",
    "    cv = KFold(n_splits=3, shuffle=True, random_state=RANDOM_STATE)\n",
    "    grid =  RandomizedSearchCV(pipeline,\n",
    "                               param_distributions=params,\n",
    "                               scoring='neg_mean_squared_error',\n",
    "                               n_iter=3,\n",
    "                               cv=cv,\n",
    "                               random_state=RANDOM_STATE,\n",
    "                               refit=True,\n",
    "                               verbose=1)\n",
    "\n",
    "    grid.fit(features, target)\n",
    "\n",
    "    print('Параметры наилучшей модели:')\n",
    "    print(\"\\n\".join(f'{k} : {v}' for k,v in grid.best_params_.items()))\n",
    "    print(\"Мера RMSE для наилучшей модели:\", np.sqrt(abs(grid.best_score_)))\n",
    "\n",
    "    return grid.best_estimator_, np.sqrt(abs(grid.best_score_))"
   ]
  },
  {
   "cell_type": "code",
   "execution_count": 33,
   "metadata": {},
   "outputs": [
    {
     "name": "stdout",
     "output_type": "stream",
     "text": [
      "Fitting 3 folds for each of 3 candidates, totalling 9 fits\n",
      "Параметры наилучшей модели:\n",
      "preprocessing : None\n",
      "classifier__num_iterations : 300\n",
      "classifier__n_estimators : 61\n",
      "classifier__max_depth : 10\n",
      "classifier__learning_rate : 0.1\n",
      "classifier : LGBMRegressor(max_depth=10, n_estimators=61, num_iterations=300,\n",
      "              random_state=12345)\n",
      "Мера RMSE для наилучшей модели: 1555.6223321319994\n",
      "Время исполнения кода:  00:01:14\n"
     ]
    }
   ],
   "source": [
    "start = time.time()\n",
    "\n",
    "model_lgb, rmse_lgb = tune_model_lgb(features_train, target_train)\n",
    "\n",
    "end = time.time()\n",
    "print('Время исполнения кода: ', time.strftime(\"%H:%M:%S\",time.gmtime(end-start)))\n"
   ]
  },
  {
   "cell_type": "markdown",
   "metadata": {},
   "source": [
    "RMSE наилучшей модели LGBMRegressor при кроссвалидации получилось равным 1555."
   ]
  },
  {
   "cell_type": "markdown",
   "metadata": {},
   "source": [
    "### Модель градиентного бустинга CatBoostRegressor()\n",
    "\n",
    "Попробуем еще одну модель градиентного бустинга CatBoostRegressor(). "
   ]
  },
  {
   "cell_type": "code",
   "execution_count": 34,
   "metadata": {},
   "outputs": [],
   "source": [
    "model_cat = CatBoostRegressor(loss_function=\"RMSE\",  cat_features=cat_features, verbose=False)\n"
   ]
  },
  {
   "cell_type": "code",
   "execution_count": 35,
   "metadata": {},
   "outputs": [
    {
     "data": {
      "application/vnd.jupyter.widget-view+json": {
       "model_id": "9872b4c82cee41438cefe2c2599b0a39",
       "version_major": 2,
       "version_minor": 0
      },
      "text/plain": [
       "MetricVisualizer(layout=Layout(align_self='stretch', height='500px'))"
      ]
     },
     "metadata": {},
     "output_type": "display_data"
    },
    {
     "name": "stdout",
     "output_type": "stream",
     "text": [
      "\n",
      "bestTest = 1780.139019\n",
      "bestIteration = 99\n",
      "\n",
      "\n",
      "bestTest = 1846.590771\n",
      "bestIteration = 99\n",
      "\n",
      "\n",
      "bestTest = 1719.74509\n",
      "bestIteration = 299\n",
      "\n",
      "\n",
      "bestTest = 1678.2643\n",
      "bestIteration = 299\n",
      "\n",
      "\n",
      "bestTest = 1642.71761\n",
      "bestIteration = 199\n",
      "\n",
      "\n",
      "bestTest = 1666.865628\n",
      "bestIteration = 99\n",
      "\n",
      "\n",
      "bestTest = 1614.43649\n",
      "bestIteration = 99\n",
      "\n",
      "Training on fold [0/3]\n",
      "\n",
      "bestTest = 1613.909475\n",
      "bestIteration = 99\n",
      "\n",
      "Training on fold [1/3]\n",
      "\n",
      "bestTest = 1600.820943\n",
      "bestIteration = 99\n",
      "\n",
      "Training on fold [2/3]\n",
      "\n",
      "bestTest = 1611.260177\n",
      "bestIteration = 99\n",
      "\n",
      "Время исполнения кода:  00:02:52\n"
     ]
    }
   ],
   "source": [
    "grid = {'learning_rate':  [ 0.1, 0.2],\n",
    "        'depth': [4, 6, 10],\n",
    "        'iterations': [100,200,300]}\n",
    "start = time.time()\n",
    "\n",
    "grid_search_result = model_cat.randomized_search(grid, \n",
    "                                           n_iter = 7,\n",
    "                                           cv= 3,\n",
    "                                           X=features_train,\n",
    "                                           y=target_train,\n",
    "                                           verbose=False, \n",
    "                                           plot=True)\n",
    "\n",
    "end = time.time()\n",
    "print('Время исполнения кода: ', time.strftime(\"%H:%M:%S\",time.gmtime(end-start)))"
   ]
  },
  {
   "cell_type": "markdown",
   "metadata": {},
   "source": [
    "RMSE наилучшей модели CatBoostRegressor при кроссвалидации получилось равным 1611.\n",
    "\n",
    "При этом встроенная реализация графического представления подбора гиперпараметров, позволяет отметить, что с увеличением количества итераций метрика RMSE растет."
   ]
  },
  {
   "cell_type": "markdown",
   "metadata": {},
   "source": [
    "### Вывод по этапу обучения моделей:\n",
    "\n",
    "В данном разделе были обучены три модели с подбором гиперпараметров методом Randomized Search. Для обучения были выбраны модели Random Forest, и модели градиентного бустинга из библиотек LightGBM и CatBoost. Было отмечено что возможно дальнеййшее увеличение метрики моделей градиентного бустинга за счет увеличения количества итераций."
   ]
  },
  {
   "cell_type": "markdown",
   "metadata": {},
   "source": [
    "## Анализ моделей"
   ]
  },
  {
   "cell_type": "markdown",
   "metadata": {},
   "source": [
    "Попробуем сравнить модели с точки зрения времени обучения и предсказания. Для этого возьмем подобранные гиперпараметры моделей из раздела Обучения моделей. А так же для срвнения возьмем модели градиентного бустинга с увеличенным числом итераций. Метрику RMSE для каждой модели будем считать с помощью кросс-валидации."
   ]
  },
  {
   "cell_type": "code",
   "execution_count": 36,
   "metadata": {},
   "outputs": [],
   "source": [
    "model_cat1 = CatBoostRegressor(iterations=100,\n",
    "                               learning_rate=0.2,\n",
    "                               depth=10, \n",
    "                               random_state=RANDOM_STATE,\n",
    "                               cat_features=cat_features, \n",
    "                               verbose=False)\n",
    "# увеличим количество итераций\n",
    "model_cat2 = CatBoostRegressor(iterations=300,\n",
    "                               learning_rate=0.1,\n",
    "                               depth=10,\n",
    "                               random_state=RANDOM_STATE,\n",
    "                               cat_features=cat_features, \n",
    "                               verbose=False)\n",
    "\n",
    "model_lgb1 = LGBMRegressor(max_depth=10,\n",
    "                           n_estimators=61,\n",
    "                           learning_rate=0.1,\n",
    "                           num_iterations=300,\n",
    "                           random_state=RANDOM_STATE)\n",
    "\n",
    "# увеличим количество итераций\n",
    "model_lgb2 = LGBMRegressor(max_depth=10,\n",
    "                           n_estimators=61, \n",
    "                           learning_rate=0.1,\n",
    "                           num_iterations=400,\n",
    "                           random_state=RANDOM_STATE)\n",
    "\n",
    "model_rf = RandomForestRegressor(max_features='log2',\n",
    "                                 min_samples_leaf=2,\n",
    "                                 min_samples_split=4,\n",
    "                                 n_estimators=121,\n",
    "                                 random_state=RANDOM_STATE)\n",
    "\n",
    "models = [model_cat1,\n",
    "          model_cat2,\n",
    "          model_lgb1,\n",
    "          model_lgb2,\n",
    "          model_rf]\n",
    "\n",
    "label = [0,0,0,0,1]"
   ]
  },
  {
   "cell_type": "code",
   "execution_count": 37,
   "metadata": {},
   "outputs": [
    {
     "name": "stdout",
     "output_type": "stream",
     "text": [
      "<catboost.core.CatBoostRegressor object at 0x7f582dcf8f70>\n",
      "\tВремя обучения модели: 12.716s\n",
      "\tВремя предсказания модели: 0.220s\n",
      "\tRMSE: 1607.887\n",
      "\n",
      "<catboost.core.CatBoostRegressor object at 0x7f582dcf8ee0>\n",
      "\tВремя обучения модели: 127.777s\n",
      "\tВремя предсказания модели: 0.995s\n",
      "\tRMSE: 1569.985\n",
      "\n",
      "LGBMRegressor(max_depth=10, n_estimators=61, num_iterations=300,\n",
      "              random_state=12345)\n",
      "\tВремя обучения модели: 11.406s\n",
      "\tВремя предсказания модели: 6.095s\n",
      "\tRMSE: 1555.622\n",
      "\n",
      "LGBMRegressor(max_depth=10, n_estimators=61, num_iterations=400,\n",
      "              random_state=12345)\n",
      "\tВремя обучения модели: 34.491s\n",
      "\tВремя предсказания модели: 8.889s\n",
      "\tRMSE: 1546.404\n",
      "\n",
      "RandomForestRegressor(max_features='log2', min_samples_leaf=2,\n",
      "                      min_samples_split=4, n_estimators=121,\n",
      "                      random_state=12345)\n",
      "\tВремя обучения модели: 24.394s\n",
      "\tВремя предсказания модели: 7.379s\n",
      "\tRMSE: 1556.218\n",
      "\n"
     ]
    }
   ],
   "source": [
    "train_times = []\n",
    "predict_times = []\n",
    "final_scores = []\n",
    "\n",
    "for i in range(len(models)):\n",
    "    model = models[i]\n",
    "    \n",
    "    if label[i]:\n",
    "        X = features_train_ordinal\n",
    "    else:\n",
    "        X = features_train\n",
    "\n",
    "    \n",
    "    cv = KFold(n_splits=3, shuffle=True, random_state=RANDOM_STATE) \n",
    "    scores = cross_val_score(model, X, target_train, \n",
    "                             cv=cv, scoring='neg_mean_squared_error')\n",
    "    \n",
    "    start = time.time()\n",
    "    \n",
    "    model.fit(X, target_train)\n",
    "    \n",
    "    train_time = time.time() - start\n",
    "    train_times.append(train_time)\n",
    "    \n",
    "    start = time.time()\n",
    "    \n",
    "    model.predict(X)\n",
    "    \n",
    "    predict_time = time.time() - start \n",
    "    predict_times.append(predict_time)\n",
    "    \n",
    "    final_score = np.sqrt(abs(scores.mean()))\n",
    "    final_scores.append(final_score)\n",
    "    \n",
    "    print(model)\n",
    "    print(\"\\tВремя обучения модели: %0.3fs\" % train_time)\n",
    "    print(\"\\tВремя предсказания модели: %0.3fs\" % predict_time)\n",
    "    print(\"\\tRMSE: %0.3f\" % final_score)\n",
    "    print()"
   ]
  },
  {
   "cell_type": "markdown",
   "metadata": {},
   "source": [
    "Сведем полученные результаты в одну таблицу"
   ]
  },
  {
   "cell_type": "code",
   "execution_count": 38,
   "metadata": {},
   "outputs": [],
   "source": [
    "results_dict = {'RMSE':final_scores,\n",
    "               'training_time':train_times,\n",
    "               'prediction_time':predict_times} \n",
    "results = pd.DataFrame(results_dict, index=['CatBoost1',\n",
    "                                            'CatBoost2',\n",
    "                                            'LGBM1',\n",
    "                                            'LGBM2',\n",
    "                                            'Random Forest'])"
   ]
  },
  {
   "cell_type": "code",
   "execution_count": 39,
   "metadata": {},
   "outputs": [
    {
     "data": {
      "text/html": [
       "<style  type=\"text/css\" >\n",
       "#T_7bf14_row0_col0,#T_7bf14_row1_col1,#T_7bf14_row3_col2{\n",
       "            background-color:  #a50026;\n",
       "            color:  #f1f1f1;\n",
       "        }#T_7bf14_row0_col1{\n",
       "            background-color:  #026c39;\n",
       "            color:  #f1f1f1;\n",
       "        }#T_7bf14_row0_col2,#T_7bf14_row2_col1,#T_7bf14_row3_col0{\n",
       "            background-color:  #006837;\n",
       "            color:  #f1f1f1;\n",
       "        }#T_7bf14_row1_col0{\n",
       "            background-color:  #d1ec86;\n",
       "            color:  #000000;\n",
       "        }#T_7bf14_row1_col2{\n",
       "            background-color:  #16914d;\n",
       "            color:  #000000;\n",
       "        }#T_7bf14_row2_col0{\n",
       "            background-color:  #3faa59;\n",
       "            color:  #000000;\n",
       "        }#T_7bf14_row2_col2{\n",
       "            background-color:  #fdb96a;\n",
       "            color:  #000000;\n",
       "        }#T_7bf14_row3_col1{\n",
       "            background-color:  #63bc62;\n",
       "            color:  #000000;\n",
       "        }#T_7bf14_row4_col0{\n",
       "            background-color:  #45ad5b;\n",
       "            color:  #000000;\n",
       "        }#T_7bf14_row4_col1{\n",
       "            background-color:  #219c52;\n",
       "            color:  #000000;\n",
       "        }#T_7bf14_row4_col2{\n",
       "            background-color:  #ec5c3b;\n",
       "            color:  #000000;\n",
       "        }</style><table id=\"T_7bf14_\" ><thead>    <tr>        <th class=\"blank level0\" ></th>        <th class=\"col_heading level0 col0\" >RMSE</th>        <th class=\"col_heading level0 col1\" >training_time</th>        <th class=\"col_heading level0 col2\" >prediction_time</th>    </tr></thead><tbody>\n",
       "                <tr>\n",
       "                        <th id=\"T_7bf14_level0_row0\" class=\"row_heading level0 row0\" >CatBoost1</th>\n",
       "                        <td id=\"T_7bf14_row0_col0\" class=\"data row0 col0\" >1607.886585</td>\n",
       "                        <td id=\"T_7bf14_row0_col1\" class=\"data row0 col1\" >12.715854</td>\n",
       "                        <td id=\"T_7bf14_row0_col2\" class=\"data row0 col2\" >0.220334</td>\n",
       "            </tr>\n",
       "            <tr>\n",
       "                        <th id=\"T_7bf14_level0_row1\" class=\"row_heading level0 row1\" >CatBoost2</th>\n",
       "                        <td id=\"T_7bf14_row1_col0\" class=\"data row1 col0\" >1569.984813</td>\n",
       "                        <td id=\"T_7bf14_row1_col1\" class=\"data row1 col1\" >127.777046</td>\n",
       "                        <td id=\"T_7bf14_row1_col2\" class=\"data row1 col2\" >0.994524</td>\n",
       "            </tr>\n",
       "            <tr>\n",
       "                        <th id=\"T_7bf14_level0_row2\" class=\"row_heading level0 row2\" >LGBM1</th>\n",
       "                        <td id=\"T_7bf14_row2_col0\" class=\"data row2 col0\" >1555.622332</td>\n",
       "                        <td id=\"T_7bf14_row2_col1\" class=\"data row2 col1\" >11.405935</td>\n",
       "                        <td id=\"T_7bf14_row2_col2\" class=\"data row2 col2\" >6.095107</td>\n",
       "            </tr>\n",
       "            <tr>\n",
       "                        <th id=\"T_7bf14_level0_row3\" class=\"row_heading level0 row3\" >LGBM2</th>\n",
       "                        <td id=\"T_7bf14_row3_col0\" class=\"data row3 col0\" >1546.403817</td>\n",
       "                        <td id=\"T_7bf14_row3_col1\" class=\"data row3 col1\" >34.491237</td>\n",
       "                        <td id=\"T_7bf14_row3_col2\" class=\"data row3 col2\" >8.889434</td>\n",
       "            </tr>\n",
       "            <tr>\n",
       "                        <th id=\"T_7bf14_level0_row4\" class=\"row_heading level0 row4\" >Random Forest</th>\n",
       "                        <td id=\"T_7bf14_row4_col0\" class=\"data row4 col0\" >1556.218023</td>\n",
       "                        <td id=\"T_7bf14_row4_col1\" class=\"data row4 col1\" >24.393941</td>\n",
       "                        <td id=\"T_7bf14_row4_col2\" class=\"data row4 col2\" >7.378938</td>\n",
       "            </tr>\n",
       "    </tbody></table>"
      ],
      "text/plain": [
       "<pandas.io.formats.style.Styler at 0x7f582dc413a0>"
      ]
     },
     "execution_count": 39,
     "metadata": {},
     "output_type": "execute_result"
    }
   ],
   "source": [
    "results.style.background_gradient(cmap='RdYlGn_r',axis=0)"
   ]
  },
  {
   "cell_type": "markdown",
   "metadata": {},
   "source": [
    "Как видно из результатов наилучшую метрику показала модель LightGBM с увеличенным числом итераций. Наихудшие метрики показала модель CatBoost. Улучшение метрики для этой модели возможно, однако мы видим что время обучения модели сильно вырастает при увеличении количества итераций, в сравнении с моделью LightGBM. При этом в плане предсказаний, самой быстрой является модель CatBoost. \n",
    "Заказчику важны такие критерии, как :\n",
    " - качество предсказания;\n",
    " - время обучения модели;\n",
    " - время предсказания модели.\n",
    " \n",
    "Принимая во внимание эти параметры, а так же то что, модели предсказывающие стоимость машин не могут быть актуальными долгое время и их требуется постоянно переобучать, выберем оптимальную по времени обучения и предсказания модель, с наилучшей метрикой качества - LightGBM с числом итераций равным 400 (LGBM2 в таблице).\n",
    "\n",
    "Проверим эту модель на тестовых выборке:"
   ]
  },
  {
   "cell_type": "code",
   "execution_count": 40,
   "metadata": {},
   "outputs": [
    {
     "name": "stdout",
     "output_type": "stream",
     "text": [
      "RMSE =  1514.74\n"
     ]
    }
   ],
   "source": [
    "print('RMSE = ', round(mean_squared_error(target_test, model_lgb2.predict(features_test))**0.5,2))"
   ]
  },
  {
   "cell_type": "markdown",
   "metadata": {},
   "source": [
    "На тестовой выборке мы получили метрику даже лучшею че на кросс-валидации. Эта метрика меньше 2500, а значит требование заказчика выполняется.\n",
    "\n",
    "### Вывод по этапу анализа моделей:\n",
    "\n",
    "Мы сравнили модели с точки зрения времени обучения и предсказания. Для сравнения использовали подобранные гиперпараметры моделей из раздела Обучения моделей, а так же  модели градиентного бустинга с увеличенным числом итераций. По результатам наилучшую метрику показала модель LightGBM с увеличенным числом итераций. Наихудшие метрики показала модель CatBoost.Учитывая пожелания заказчика к качеству предсказания, времени обучения модели и предсказания была выбрана модель LightGBM с числом итераций равным 400. \n",
    "\n",
    "Проверка выбранной модели на тестовой выборке показала метрику RMSE равную 1515.\n"
   ]
  },
  {
   "cell_type": "markdown",
   "metadata": {},
   "source": [
    "## Вывод\n",
    "\n",
    "Перед нами стояла задача разработки модели по определению рыночной стоимости автомобиля для сервиса по продаже автомобилей с пробегом «Не бит, не крашен». Для этого нам были предоставлены исторические данные: технические характеристики, комплектации и цены автомобилей. \n",
    "\n",
    "На первом этапе был обработан датасет с историческими данными технических характеристик, комплектации и цены автомобилей. Были удалены дубликаты, аномальные значения года регистрации автомобилей и мощности двигателей. Так же были удалены строки с пропусками в столбце модели автомобиля. Пропуски в столбцах типа кузова, коробки передач и типа топлива были заполнены наиболее часто встреающимся значением для каждой марки и модели машины. В столбец 'repaired' была добавлена новая переменная 'undefined' взамен пропущенных значений. В общей сумме было удалено почти 20% данных.\n",
    "\n",
    "На следующем этапе были обучены три модели и подоюраны оптимальные гиперпараметры для них. Для обучения были выбраны модели Random Forest, и модели градиентного бустинга из библиотек LightGBM и CatBoost. \n",
    "\n",
    "На третьем этапе мы сравнили модели с точки зрения времени обучения и предсказания. Для сравнения использовали подобранные ранее гиперпараметры моделей, а так же подобранные модели градиентного бустинга с увеличенным числом итераций. По результатам сравнения наилучшую метрику показала модель LightGBM с увеличенным числом итераций. Наихудшие метрики показала модель CatBoost. Учитывая пожелания заказчика к качеству предсказания, времени обучения модели и предсказания была выбрана модель LightGBM с числом итераций равным 400. \n",
    "\n",
    "Проверка выбранной модели на тестовой выборке показала метрику RMSE равную 1515.\n"
   ]
  }
 ],
 "metadata": {
  "ExecuteTimeLog": [
   {
    "duration": 1779,
    "start_time": "2023-05-15T07:04:02.609Z"
   },
   {
    "duration": 1101,
    "start_time": "2023-05-15T07:05:42.405Z"
   },
   {
    "duration": 109,
    "start_time": "2023-05-15T07:05:43.508Z"
   },
   {
    "duration": 11,
    "start_time": "2023-05-15T07:05:51.750Z"
   },
   {
    "duration": 881,
    "start_time": "2023-05-15T07:05:52.074Z"
   },
   {
    "duration": 2366,
    "start_time": "2023-05-15T07:05:52.957Z"
   },
   {
    "duration": 8,
    "start_time": "2023-05-15T07:08:01.212Z"
   },
   {
    "duration": 3366,
    "start_time": "2023-05-15T07:08:02.849Z"
   },
   {
    "duration": 15,
    "start_time": "2023-05-15T07:11:40.702Z"
   },
   {
    "duration": 6,
    "start_time": "2023-05-15T07:12:09.612Z"
   },
   {
    "duration": 5,
    "start_time": "2023-05-15T07:12:14.141Z"
   },
   {
    "duration": 20,
    "start_time": "2023-05-15T07:12:20.931Z"
   },
   {
    "duration": 1698,
    "start_time": "2023-05-16T07:32:40.424Z"
   },
   {
    "duration": 11,
    "start_time": "2023-05-16T07:32:42.124Z"
   },
   {
    "duration": 1645,
    "start_time": "2023-05-16T07:32:42.333Z"
   },
   {
    "duration": 3816,
    "start_time": "2023-05-16T07:32:43.980Z"
   },
   {
    "duration": 4,
    "start_time": "2023-05-16T07:32:47.798Z"
   },
   {
    "duration": 30,
    "start_time": "2023-05-16T07:32:47.804Z"
   },
   {
    "duration": 64,
    "start_time": "2023-05-16T07:38:23.589Z"
   },
   {
    "duration": 15,
    "start_time": "2023-05-16T07:38:29.484Z"
   },
   {
    "duration": 9,
    "start_time": "2023-05-16T07:38:36.070Z"
   },
   {
    "duration": 136,
    "start_time": "2023-05-16T07:38:44.753Z"
   },
   {
    "duration": 5,
    "start_time": "2023-05-16T07:38:52.992Z"
   },
   {
    "duration": 15,
    "start_time": "2023-05-16T08:00:31.977Z"
   },
   {
    "duration": 195,
    "start_time": "2023-05-16T08:00:44.342Z"
   },
   {
    "duration": 39,
    "start_time": "2023-05-16T08:00:44.774Z"
   },
   {
    "duration": 226,
    "start_time": "2023-05-16T08:00:53.482Z"
   },
   {
    "duration": 300,
    "start_time": "2023-05-16T08:01:11.521Z"
   },
   {
    "duration": 15,
    "start_time": "2023-05-16T08:01:20.040Z"
   },
   {
    "duration": 45,
    "start_time": "2023-05-16T08:01:22.825Z"
   },
   {
    "duration": 34,
    "start_time": "2023-05-16T08:01:29.709Z"
   },
   {
    "duration": 36,
    "start_time": "2023-05-16T08:01:48.897Z"
   },
   {
    "duration": 44,
    "start_time": "2023-05-16T08:02:02.081Z"
   },
   {
    "duration": 7,
    "start_time": "2023-05-16T08:03:00.612Z"
   },
   {
    "duration": 5,
    "start_time": "2023-05-16T08:03:10.710Z"
   },
   {
    "duration": 6,
    "start_time": "2023-05-16T08:03:16.909Z"
   },
   {
    "duration": 10,
    "start_time": "2023-05-16T08:03:28.012Z"
   },
   {
    "duration": 7,
    "start_time": "2023-05-16T08:03:31.689Z"
   },
   {
    "duration": 25,
    "start_time": "2023-05-16T08:04:41.768Z"
   },
   {
    "duration": 29,
    "start_time": "2023-05-16T08:06:55.839Z"
   },
   {
    "duration": 30,
    "start_time": "2023-05-16T08:08:30.293Z"
   },
   {
    "duration": 43,
    "start_time": "2023-05-16T08:11:01.934Z"
   },
   {
    "duration": 28,
    "start_time": "2023-05-16T08:12:09.033Z"
   },
   {
    "duration": 25,
    "start_time": "2023-05-16T08:12:54.696Z"
   },
   {
    "duration": 43,
    "start_time": "2023-05-16T08:13:53.633Z"
   },
   {
    "duration": 10,
    "start_time": "2023-05-16T08:44:36.415Z"
   },
   {
    "duration": 6,
    "start_time": "2023-05-16T08:44:38.792Z"
   },
   {
    "duration": 5516,
    "start_time": "2023-05-16T08:44:40.104Z"
   },
   {
    "duration": 12114,
    "start_time": "2023-05-16T08:45:07.526Z"
   },
   {
    "duration": 29,
    "start_time": "2023-05-16T08:48:08.144Z"
   },
   {
    "duration": 8572,
    "start_time": "2023-05-16T08:48:15.469Z"
   },
   {
    "duration": 8,
    "start_time": "2023-05-16T08:48:55.766Z"
   },
   {
    "duration": 8057,
    "start_time": "2023-05-16T08:48:56.084Z"
   },
   {
    "duration": 6,
    "start_time": "2023-05-16T08:49:10.283Z"
   },
   {
    "duration": 7995,
    "start_time": "2023-05-16T08:49:13.342Z"
   },
   {
    "duration": 6,
    "start_time": "2023-05-16T08:49:53.676Z"
   },
   {
    "duration": 8490,
    "start_time": "2023-05-16T08:50:00.721Z"
   },
   {
    "duration": 7,
    "start_time": "2023-05-16T08:50:27.841Z"
   },
   {
    "duration": 6,
    "start_time": "2023-05-16T08:51:06.820Z"
   },
   {
    "duration": 7862,
    "start_time": "2023-05-16T08:51:10.018Z"
   },
   {
    "duration": 8,
    "start_time": "2023-05-16T08:51:31.966Z"
   },
   {
    "duration": 6,
    "start_time": "2023-05-16T08:51:35.371Z"
   },
   {
    "duration": 7037,
    "start_time": "2023-05-16T08:51:35.733Z"
   },
   {
    "duration": 5,
    "start_time": "2023-05-16T08:56:37.177Z"
   },
   {
    "duration": 6856,
    "start_time": "2023-05-16T08:56:39.111Z"
   },
   {
    "duration": 44,
    "start_time": "2023-05-16T08:57:48.073Z"
   },
   {
    "duration": 36,
    "start_time": "2023-05-16T08:57:54.278Z"
   },
   {
    "duration": 7218,
    "start_time": "2023-05-16T08:58:02.095Z"
   },
   {
    "duration": 27,
    "start_time": "2023-05-16T09:01:06.881Z"
   },
   {
    "duration": 31,
    "start_time": "2023-05-16T09:20:21.360Z"
   },
   {
    "duration": 26,
    "start_time": "2023-05-16T09:20:43.099Z"
   },
   {
    "duration": 29,
    "start_time": "2023-05-16T09:26:07.859Z"
   },
   {
    "duration": 6854,
    "start_time": "2023-05-16T09:26:11.702Z"
   },
   {
    "duration": 31,
    "start_time": "2023-05-16T09:26:43.655Z"
   },
   {
    "duration": 28,
    "start_time": "2023-05-16T10:06:14.004Z"
   },
   {
    "duration": 27,
    "start_time": "2023-05-16T10:34:17.493Z"
   },
   {
    "duration": 6282,
    "start_time": "2023-05-16T10:34:27.854Z"
   },
   {
    "duration": 29,
    "start_time": "2023-05-16T10:35:14.031Z"
   },
   {
    "duration": 25,
    "start_time": "2023-05-16T10:36:12.860Z"
   },
   {
    "duration": 4,
    "start_time": "2023-05-16T10:36:21.942Z"
   },
   {
    "duration": 4,
    "start_time": "2023-05-16T10:44:57.952Z"
   },
   {
    "duration": 4,
    "start_time": "2023-05-16T10:45:20.762Z"
   },
   {
    "duration": 10,
    "start_time": "2023-05-16T10:50:48.360Z"
   },
   {
    "duration": 118,
    "start_time": "2023-05-16T10:50:59.194Z"
   },
   {
    "duration": 32,
    "start_time": "2023-05-16T10:51:53.458Z"
   },
   {
    "duration": 30,
    "start_time": "2023-05-16T10:52:01.099Z"
   },
   {
    "duration": 118,
    "start_time": "2023-05-16T10:52:01.561Z"
   },
   {
    "duration": 4,
    "start_time": "2023-05-16T10:52:08.022Z"
   },
   {
    "duration": 89,
    "start_time": "2023-05-16T10:52:18.087Z"
   },
   {
    "duration": 52,
    "start_time": "2023-05-16T10:52:19.986Z"
   },
   {
    "duration": 5,
    "start_time": "2023-05-16T10:52:35.663Z"
   },
   {
    "duration": 10,
    "start_time": "2023-05-16T10:52:45.358Z"
   },
   {
    "duration": 4,
    "start_time": "2023-05-16T10:52:51.719Z"
   },
   {
    "duration": 5,
    "start_time": "2023-05-16T10:52:57.979Z"
   },
   {
    "duration": 1595,
    "start_time": "2023-05-16T10:53:07.714Z"
   },
   {
    "duration": 37,
    "start_time": "2023-05-16T10:54:28.206Z"
   },
   {
    "duration": 6,
    "start_time": "2023-05-16T10:59:13.413Z"
   },
   {
    "duration": 135,
    "start_time": "2023-05-16T11:02:17.498Z"
   },
   {
    "duration": 137,
    "start_time": "2023-05-16T11:02:31.684Z"
   },
   {
    "duration": 11,
    "start_time": "2023-05-16T11:20:13.565Z"
   },
   {
    "duration": 112,
    "start_time": "2023-05-16T11:21:32.035Z"
   },
   {
    "duration": 227,
    "start_time": "2023-05-16T11:21:49.664Z"
   },
   {
    "duration": 114,
    "start_time": "2023-05-16T11:22:31.763Z"
   },
   {
    "duration": 104,
    "start_time": "2023-05-16T11:22:54.055Z"
   },
   {
    "duration": 100,
    "start_time": "2023-05-16T11:23:03.563Z"
   },
   {
    "duration": 5,
    "start_time": "2023-05-16T11:23:40.052Z"
   },
   {
    "duration": 4,
    "start_time": "2023-05-16T11:23:51.002Z"
   },
   {
    "duration": 64,
    "start_time": "2023-05-16T11:23:53.650Z"
   },
   {
    "duration": 113,
    "start_time": "2023-05-16T11:24:13.619Z"
   },
   {
    "duration": 215,
    "start_time": "2023-05-16T11:25:34.608Z"
   },
   {
    "duration": 107,
    "start_time": "2023-05-16T11:25:40.160Z"
   },
   {
    "duration": 107,
    "start_time": "2023-05-16T11:29:45.765Z"
   },
   {
    "duration": 120,
    "start_time": "2023-05-16T11:29:55.855Z"
   },
   {
    "duration": 113,
    "start_time": "2023-05-16T11:30:07.418Z"
   },
   {
    "duration": 133,
    "start_time": "2023-05-16T11:32:48.555Z"
   },
   {
    "duration": 130,
    "start_time": "2023-05-16T11:33:49.126Z"
   },
   {
    "duration": 129,
    "start_time": "2023-05-16T11:33:57.469Z"
   },
   {
    "duration": 137,
    "start_time": "2023-05-16T11:34:06.179Z"
   },
   {
    "duration": 153,
    "start_time": "2023-05-16T11:35:20.113Z"
   },
   {
    "duration": 123,
    "start_time": "2023-05-16T11:36:15.567Z"
   },
   {
    "duration": 254,
    "start_time": "2023-05-16T11:37:11.918Z"
   },
   {
    "duration": 142,
    "start_time": "2023-05-16T11:37:33.850Z"
   },
   {
    "duration": 138,
    "start_time": "2023-05-16T11:37:36.910Z"
   },
   {
    "duration": 129,
    "start_time": "2023-05-16T11:37:49.556Z"
   },
   {
    "duration": 126,
    "start_time": "2023-05-16T11:37:58.622Z"
   },
   {
    "duration": 146,
    "start_time": "2023-05-16T11:38:01.910Z"
   },
   {
    "duration": 126,
    "start_time": "2023-05-16T11:38:06.153Z"
   },
   {
    "duration": 126,
    "start_time": "2023-05-16T11:38:10.805Z"
   },
   {
    "duration": 125,
    "start_time": "2023-05-16T11:38:21.053Z"
   },
   {
    "duration": 127,
    "start_time": "2023-05-16T11:38:41.418Z"
   },
   {
    "duration": 152,
    "start_time": "2023-05-16T11:38:52.976Z"
   },
   {
    "duration": 126,
    "start_time": "2023-05-16T11:39:25.422Z"
   },
   {
    "duration": 125,
    "start_time": "2023-05-16T11:39:41.026Z"
   },
   {
    "duration": 131,
    "start_time": "2023-05-16T11:39:50.951Z"
   },
   {
    "duration": 134,
    "start_time": "2023-05-16T11:41:05.778Z"
   },
   {
    "duration": 131,
    "start_time": "2023-05-16T11:42:45.198Z"
   },
   {
    "duration": 129,
    "start_time": "2023-05-16T11:43:14.323Z"
   },
   {
    "duration": 12,
    "start_time": "2023-05-16T11:43:44.757Z"
   },
   {
    "duration": 136,
    "start_time": "2023-05-16T11:43:55.211Z"
   },
   {
    "duration": 124,
    "start_time": "2023-05-16T11:44:49.005Z"
   },
   {
    "duration": 122,
    "start_time": "2023-05-16T11:44:55.461Z"
   },
   {
    "duration": 126,
    "start_time": "2023-05-16T11:45:25.365Z"
   },
   {
    "duration": 124,
    "start_time": "2023-05-16T11:46:02.358Z"
   },
   {
    "duration": 120,
    "start_time": "2023-05-16T11:46:52.718Z"
   },
   {
    "duration": 127,
    "start_time": "2023-05-16T11:47:13.458Z"
   },
   {
    "duration": 117,
    "start_time": "2023-05-16T11:47:18.618Z"
   },
   {
    "duration": 157,
    "start_time": "2023-05-16T11:47:22.591Z"
   },
   {
    "duration": 128,
    "start_time": "2023-05-16T11:47:41.226Z"
   },
   {
    "duration": 120,
    "start_time": "2023-05-16T11:55:16.948Z"
   },
   {
    "duration": 116,
    "start_time": "2023-05-16T11:56:43.894Z"
   },
   {
    "duration": 11,
    "start_time": "2023-05-16T11:56:47.994Z"
   },
   {
    "duration": 238,
    "start_time": "2023-05-16T11:56:54.959Z"
   },
   {
    "duration": 10,
    "start_time": "2023-05-16T11:57:25.149Z"
   },
   {
    "duration": 578,
    "start_time": "2023-05-16T12:04:01.995Z"
   },
   {
    "duration": 198,
    "start_time": "2023-05-16T12:05:02.810Z"
   },
   {
    "duration": 87,
    "start_time": "2023-05-16T12:05:50.798Z"
   },
   {
    "duration": 217,
    "start_time": "2023-05-16T12:06:05.594Z"
   },
   {
    "duration": 176,
    "start_time": "2023-05-16T12:07:16.722Z"
   },
   {
    "duration": 114,
    "start_time": "2023-05-16T12:07:29.382Z"
   },
   {
    "duration": 906,
    "start_time": "2023-05-16T12:07:44.940Z"
   },
   {
    "duration": 415,
    "start_time": "2023-05-16T12:08:56.148Z"
   },
   {
    "duration": 6,
    "start_time": "2023-05-16T12:10:55.286Z"
   },
   {
    "duration": 22,
    "start_time": "2023-05-16T12:11:29.990Z"
   },
   {
    "duration": 385,
    "start_time": "2023-05-16T12:11:41.318Z"
   },
   {
    "duration": 22,
    "start_time": "2023-05-16T12:11:51.090Z"
   },
   {
    "duration": 708,
    "start_time": "2023-05-16T12:12:53.148Z"
   },
   {
    "duration": 406,
    "start_time": "2023-05-16T12:13:05.149Z"
   },
   {
    "duration": 23,
    "start_time": "2023-05-16T12:13:05.975Z"
   },
   {
    "duration": 37,
    "start_time": "2023-05-16T12:13:30.646Z"
   },
   {
    "duration": 5,
    "start_time": "2023-05-16T12:16:13.914Z"
   },
   {
    "duration": 11,
    "start_time": "2023-05-16T12:16:25.114Z"
   },
   {
    "duration": 123,
    "start_time": "2023-05-16T12:16:35.571Z"
   },
   {
    "duration": 222,
    "start_time": "2023-05-16T12:17:26.819Z"
   },
   {
    "duration": 229,
    "start_time": "2023-05-16T12:17:36.106Z"
   },
   {
    "duration": 383,
    "start_time": "2023-05-16T12:17:47.499Z"
   },
   {
    "duration": 311,
    "start_time": "2023-05-16T12:21:04.803Z"
   },
   {
    "duration": 313,
    "start_time": "2023-05-16T12:21:16.810Z"
   },
   {
    "duration": 16,
    "start_time": "2023-05-16T12:21:18.518Z"
   },
   {
    "duration": 25,
    "start_time": "2023-05-16T12:26:53.902Z"
   },
   {
    "duration": 3,
    "start_time": "2023-05-16T12:26:59.711Z"
   },
   {
    "duration": 1339,
    "start_time": "2023-05-16T12:27:00.202Z"
   },
   {
    "duration": 17,
    "start_time": "2023-05-16T12:27:56.124Z"
   },
   {
    "duration": 14,
    "start_time": "2023-05-16T12:28:04.181Z"
   },
   {
    "duration": 37,
    "start_time": "2023-05-16T12:30:03.151Z"
   },
   {
    "duration": 25,
    "start_time": "2023-05-16T12:31:21.087Z"
   },
   {
    "duration": 12,
    "start_time": "2023-05-16T12:31:28.498Z"
   },
   {
    "duration": 1519,
    "start_time": "2023-05-16T12:31:50.852Z"
   },
   {
    "duration": 13,
    "start_time": "2023-05-16T12:31:52.373Z"
   },
   {
    "duration": 1025,
    "start_time": "2023-05-16T12:31:52.388Z"
   },
   {
    "duration": 3698,
    "start_time": "2023-05-16T12:31:53.416Z"
   },
   {
    "duration": 4,
    "start_time": "2023-05-16T12:31:57.116Z"
   },
   {
    "duration": 30,
    "start_time": "2023-05-16T12:31:57.122Z"
   },
   {
    "duration": 31,
    "start_time": "2023-05-16T12:31:57.154Z"
   },
   {
    "duration": 238,
    "start_time": "2023-05-16T12:31:57.187Z"
   },
   {
    "duration": 37,
    "start_time": "2023-05-16T12:31:57.427Z"
   },
   {
    "duration": 35,
    "start_time": "2023-05-16T12:31:57.466Z"
   },
   {
    "duration": 52,
    "start_time": "2023-05-16T12:31:57.503Z"
   },
   {
    "duration": 7,
    "start_time": "2023-05-16T12:31:57.558Z"
   },
   {
    "duration": 48,
    "start_time": "2023-05-16T12:31:57.567Z"
   },
   {
    "duration": 6,
    "start_time": "2023-05-16T12:31:57.618Z"
   },
   {
    "duration": 7045,
    "start_time": "2023-05-16T12:31:57.626Z"
   },
   {
    "duration": 38,
    "start_time": "2023-05-16T12:32:04.673Z"
   },
   {
    "duration": 7201,
    "start_time": "2023-05-16T12:32:04.713Z"
   },
   {
    "duration": 38,
    "start_time": "2023-05-16T12:32:11.917Z"
   },
   {
    "duration": 35,
    "start_time": "2023-05-16T12:32:11.957Z"
   },
   {
    "duration": 28,
    "start_time": "2023-05-16T12:32:11.994Z"
   },
   {
    "duration": 46,
    "start_time": "2023-05-16T12:32:12.023Z"
   },
   {
    "duration": 6,
    "start_time": "2023-05-16T12:32:12.071Z"
   },
   {
    "duration": 22,
    "start_time": "2023-05-16T12:32:12.078Z"
   },
   {
    "duration": 71,
    "start_time": "2023-05-16T12:32:12.102Z"
   },
   {
    "duration": 3,
    "start_time": "2023-05-16T12:32:12.175Z"
   },
   {
    "duration": 1269,
    "start_time": "2023-05-16T12:32:12.180Z"
   },
   {
    "duration": 18,
    "start_time": "2023-05-16T12:32:13.451Z"
   },
   {
    "duration": 50,
    "start_time": "2023-05-16T12:32:13.471Z"
   },
   {
    "duration": 28,
    "start_time": "2023-05-16T12:32:13.523Z"
   },
   {
    "duration": 11,
    "start_time": "2023-05-16T12:32:13.553Z"
   },
   {
    "duration": 1693,
    "start_time": "2023-05-16T12:35:05.059Z"
   },
   {
    "duration": 15,
    "start_time": "2023-05-16T12:35:06.755Z"
   },
   {
    "duration": 951,
    "start_time": "2023-05-16T12:35:06.772Z"
   },
   {
    "duration": 3623,
    "start_time": "2023-05-16T12:35:07.725Z"
   },
   {
    "duration": 4,
    "start_time": "2023-05-16T12:35:11.351Z"
   },
   {
    "duration": 26,
    "start_time": "2023-05-16T12:35:11.357Z"
   },
   {
    "duration": 34,
    "start_time": "2023-05-16T12:35:11.385Z"
   },
   {
    "duration": 245,
    "start_time": "2023-05-16T12:35:11.421Z"
   },
   {
    "duration": 37,
    "start_time": "2023-05-16T12:35:11.667Z"
   },
   {
    "duration": 52,
    "start_time": "2023-05-16T12:35:11.706Z"
   },
   {
    "duration": 38,
    "start_time": "2023-05-16T12:35:11.760Z"
   },
   {
    "duration": 7,
    "start_time": "2023-05-16T12:35:11.800Z"
   },
   {
    "duration": 60,
    "start_time": "2023-05-16T12:35:11.810Z"
   },
   {
    "duration": 6,
    "start_time": "2023-05-16T12:35:11.874Z"
   },
   {
    "duration": 7428,
    "start_time": "2023-05-16T12:35:11.883Z"
   },
   {
    "duration": 39,
    "start_time": "2023-05-16T12:35:19.312Z"
   },
   {
    "duration": 7164,
    "start_time": "2023-05-16T12:35:19.352Z"
   },
   {
    "duration": 41,
    "start_time": "2023-05-16T12:35:26.518Z"
   },
   {
    "duration": 34,
    "start_time": "2023-05-16T12:35:26.562Z"
   },
   {
    "duration": 29,
    "start_time": "2023-05-16T12:35:26.598Z"
   },
   {
    "duration": 28,
    "start_time": "2023-05-16T12:35:26.647Z"
   },
   {
    "duration": 4,
    "start_time": "2023-05-16T12:35:26.677Z"
   },
   {
    "duration": 23,
    "start_time": "2023-05-16T12:35:26.683Z"
   },
   {
    "duration": 75,
    "start_time": "2023-05-16T12:35:26.708Z"
   },
   {
    "duration": 5,
    "start_time": "2023-05-16T12:35:26.785Z"
   },
   {
    "duration": 1125,
    "start_time": "2023-05-16T12:35:26.792Z"
   },
   {
    "duration": 61,
    "start_time": "2023-05-16T12:35:27.920Z"
   },
   {
    "duration": 29,
    "start_time": "2023-05-16T12:35:27.982Z"
   },
   {
    "duration": 37,
    "start_time": "2023-05-16T12:35:28.013Z"
   },
   {
    "duration": 19,
    "start_time": "2023-05-16T12:35:28.052Z"
   },
   {
    "duration": 14,
    "start_time": "2023-05-16T12:37:43.168Z"
   },
   {
    "duration": 121,
    "start_time": "2023-05-16T12:40:38.811Z"
   },
   {
    "duration": 5,
    "start_time": "2023-05-16T12:40:55.371Z"
   },
   {
    "duration": 57,
    "start_time": "2023-05-16T12:41:15.552Z"
   },
   {
    "duration": 443,
    "start_time": "2023-05-16T12:43:08.895Z"
   },
   {
    "duration": 4,
    "start_time": "2023-05-16T12:43:59.207Z"
   },
   {
    "duration": 4,
    "start_time": "2023-05-16T12:44:32.387Z"
   },
   {
    "duration": 12,
    "start_time": "2023-05-16T12:44:39.971Z"
   },
   {
    "duration": 21047,
    "start_time": "2023-05-16T12:45:00.861Z"
   },
   {
    "duration": 6,
    "start_time": "2023-05-16T12:50:55.301Z"
   },
   {
    "duration": 1543,
    "start_time": "2023-05-16T12:51:25.783Z"
   },
   {
    "duration": 12,
    "start_time": "2023-05-16T12:51:27.328Z"
   },
   {
    "duration": 894,
    "start_time": "2023-05-16T12:51:27.342Z"
   },
   {
    "duration": 3902,
    "start_time": "2023-05-16T12:51:28.238Z"
   },
   {
    "duration": 3,
    "start_time": "2023-05-16T12:51:32.145Z"
   },
   {
    "duration": 52,
    "start_time": "2023-05-16T12:51:32.150Z"
   },
   {
    "duration": 49,
    "start_time": "2023-05-16T12:51:32.204Z"
   },
   {
    "duration": 263,
    "start_time": "2023-05-16T12:51:32.255Z"
   },
   {
    "duration": 38,
    "start_time": "2023-05-16T12:51:32.520Z"
   },
   {
    "duration": 71,
    "start_time": "2023-05-16T12:51:32.560Z"
   },
   {
    "duration": 35,
    "start_time": "2023-05-16T12:51:32.634Z"
   },
   {
    "duration": 20,
    "start_time": "2023-05-16T12:51:32.671Z"
   },
   {
    "duration": 150,
    "start_time": "2023-05-16T12:51:32.693Z"
   },
   {
    "duration": 7,
    "start_time": "2023-05-16T12:51:32.847Z"
   },
   {
    "duration": 7200,
    "start_time": "2023-05-16T12:51:32.856Z"
   },
   {
    "duration": 34,
    "start_time": "2023-05-16T12:51:40.059Z"
   },
   {
    "duration": 7209,
    "start_time": "2023-05-16T12:51:40.096Z"
   },
   {
    "duration": 25,
    "start_time": "2023-05-16T12:51:47.307Z"
   },
   {
    "duration": 37,
    "start_time": "2023-05-16T12:51:47.346Z"
   },
   {
    "duration": 43,
    "start_time": "2023-05-16T12:51:47.385Z"
   },
   {
    "duration": 38,
    "start_time": "2023-05-16T12:51:47.430Z"
   },
   {
    "duration": 5,
    "start_time": "2023-05-16T12:51:47.470Z"
   },
   {
    "duration": 29,
    "start_time": "2023-05-16T12:51:47.477Z"
   },
   {
    "duration": 67,
    "start_time": "2023-05-16T12:51:47.508Z"
   },
   {
    "duration": 4,
    "start_time": "2023-05-16T12:51:47.577Z"
   },
   {
    "duration": 1170,
    "start_time": "2023-05-16T12:51:47.583Z"
   },
   {
    "duration": 55,
    "start_time": "2023-05-16T12:51:48.755Z"
   },
   {
    "duration": 17,
    "start_time": "2023-05-16T12:51:48.812Z"
   },
   {
    "duration": 19,
    "start_time": "2023-05-16T12:51:48.847Z"
   },
   {
    "duration": 24,
    "start_time": "2023-05-16T12:51:48.868Z"
   },
   {
    "duration": 73,
    "start_time": "2023-05-16T12:51:48.894Z"
   },
   {
    "duration": 5,
    "start_time": "2023-05-16T12:51:48.970Z"
   },
   {
    "duration": 110,
    "start_time": "2023-05-16T15:23:13.586Z"
   },
   {
    "duration": 30,
    "start_time": "2023-05-16T15:28:21.598Z"
   },
   {
    "duration": 3770,
    "start_time": "2023-05-16T15:28:22.086Z"
   },
   {
    "duration": 221,
    "start_time": "2023-05-16T15:31:23.574Z"
   },
   {
    "duration": 8,
    "start_time": "2023-05-16T15:31:26.594Z"
   },
   {
    "duration": 4,
    "start_time": "2023-05-16T15:33:45.105Z"
   },
   {
    "duration": 3020,
    "start_time": "2023-05-16T15:33:46.046Z"
   },
   {
    "duration": 3,
    "start_time": "2023-05-16T15:39:08.186Z"
   },
   {
    "duration": 5644,
    "start_time": "2023-05-16T15:39:08.753Z"
   },
   {
    "duration": 105,
    "start_time": "2023-05-16T15:39:40.478Z"
   },
   {
    "duration": 4,
    "start_time": "2023-05-16T15:40:09.278Z"
   },
   {
    "duration": 105852,
    "start_time": "2023-05-16T15:40:09.751Z"
   },
   {
    "duration": 405,
    "start_time": "2023-05-16T15:43:48.249Z"
   },
   {
    "duration": 10,
    "start_time": "2023-05-16T15:50:14.831Z"
   },
   {
    "duration": 1584,
    "start_time": "2023-05-16T15:50:57.945Z"
   },
   {
    "duration": 11,
    "start_time": "2023-05-16T15:50:59.531Z"
   },
   {
    "duration": 1162,
    "start_time": "2023-05-16T15:50:59.546Z"
   },
   {
    "duration": 3768,
    "start_time": "2023-05-16T15:51:00.710Z"
   },
   {
    "duration": 3,
    "start_time": "2023-05-16T15:51:04.480Z"
   },
   {
    "duration": 26,
    "start_time": "2023-05-16T15:51:04.484Z"
   },
   {
    "duration": 38,
    "start_time": "2023-05-16T15:51:04.511Z"
   },
   {
    "duration": 233,
    "start_time": "2023-05-16T15:51:04.551Z"
   },
   {
    "duration": 35,
    "start_time": "2023-05-16T15:51:04.786Z"
   },
   {
    "duration": 53,
    "start_time": "2023-05-16T15:51:04.823Z"
   },
   {
    "duration": 37,
    "start_time": "2023-05-16T15:51:04.878Z"
   },
   {
    "duration": 7,
    "start_time": "2023-05-16T15:51:04.916Z"
   },
   {
    "duration": 84,
    "start_time": "2023-05-16T15:51:04.925Z"
   },
   {
    "duration": 6,
    "start_time": "2023-05-16T15:51:05.012Z"
   },
   {
    "duration": 6968,
    "start_time": "2023-05-16T15:51:05.020Z"
   },
   {
    "duration": 32,
    "start_time": "2023-05-16T15:51:11.990Z"
   },
   {
    "duration": 6958,
    "start_time": "2023-05-16T15:51:12.024Z"
   },
   {
    "duration": 25,
    "start_time": "2023-05-16T15:51:18.984Z"
   },
   {
    "duration": 60,
    "start_time": "2023-05-16T15:51:19.010Z"
   },
   {
    "duration": 26,
    "start_time": "2023-05-16T15:51:19.072Z"
   },
   {
    "duration": 26,
    "start_time": "2023-05-16T15:51:19.100Z"
   },
   {
    "duration": 21,
    "start_time": "2023-05-16T15:51:19.128Z"
   },
   {
    "duration": 45,
    "start_time": "2023-05-16T15:51:19.151Z"
   },
   {
    "duration": 51,
    "start_time": "2023-05-16T15:51:19.198Z"
   },
   {
    "duration": 3,
    "start_time": "2023-05-16T15:51:19.251Z"
   },
   {
    "duration": 1210,
    "start_time": "2023-05-16T15:51:19.256Z"
   },
   {
    "duration": 53,
    "start_time": "2023-05-16T15:51:20.468Z"
   },
   {
    "duration": 33,
    "start_time": "2023-05-16T15:51:20.522Z"
   },
   {
    "duration": 18,
    "start_time": "2023-05-16T15:51:20.556Z"
   },
   {
    "duration": 39,
    "start_time": "2023-05-16T15:51:20.575Z"
   },
   {
    "duration": 67,
    "start_time": "2023-05-16T15:51:20.615Z"
   },
   {
    "duration": 26,
    "start_time": "2023-05-16T15:51:20.684Z"
   },
   {
    "duration": 3,
    "start_time": "2023-05-16T15:51:20.711Z"
   },
   {
    "duration": 49,
    "start_time": "2023-05-16T15:51:20.716Z"
   },
   {
    "duration": 5613,
    "start_time": "2023-05-16T15:51:20.766Z"
   },
   {
    "duration": 94,
    "start_time": "2023-05-16T15:51:26.381Z"
   },
   {
    "duration": 7,
    "start_time": "2023-05-16T15:51:26.477Z"
   },
   {
    "duration": 1693,
    "start_time": "2023-05-16T15:52:26.117Z"
   },
   {
    "duration": 11,
    "start_time": "2023-05-16T15:52:27.812Z"
   },
   {
    "duration": 1145,
    "start_time": "2023-05-16T15:52:27.824Z"
   },
   {
    "duration": 3638,
    "start_time": "2023-05-16T15:52:28.971Z"
   },
   {
    "duration": 5,
    "start_time": "2023-05-16T15:52:32.611Z"
   },
   {
    "duration": 96,
    "start_time": "2023-05-16T15:52:32.618Z"
   },
   {
    "duration": 30,
    "start_time": "2023-05-16T15:52:32.716Z"
   },
   {
    "duration": 234,
    "start_time": "2023-05-16T15:52:32.748Z"
   },
   {
    "duration": 36,
    "start_time": "2023-05-16T15:52:32.984Z"
   },
   {
    "duration": 57,
    "start_time": "2023-05-16T15:52:33.024Z"
   },
   {
    "duration": 49,
    "start_time": "2023-05-16T15:52:33.083Z"
   },
   {
    "duration": 7,
    "start_time": "2023-05-16T15:52:33.147Z"
   },
   {
    "duration": 44,
    "start_time": "2023-05-16T15:52:33.156Z"
   },
   {
    "duration": 6,
    "start_time": "2023-05-16T15:52:33.201Z"
   },
   {
    "duration": 7285,
    "start_time": "2023-05-16T15:52:33.208Z"
   },
   {
    "duration": 34,
    "start_time": "2023-05-16T15:52:40.495Z"
   },
   {
    "duration": 7391,
    "start_time": "2023-05-16T15:52:40.531Z"
   },
   {
    "duration": 38,
    "start_time": "2023-05-16T15:52:47.924Z"
   },
   {
    "duration": 36,
    "start_time": "2023-05-16T15:52:47.964Z"
   },
   {
    "duration": 45,
    "start_time": "2023-05-16T15:52:48.001Z"
   },
   {
    "duration": 33,
    "start_time": "2023-05-16T15:52:48.048Z"
   },
   {
    "duration": 5,
    "start_time": "2023-05-16T15:52:48.083Z"
   },
   {
    "duration": 26,
    "start_time": "2023-05-16T15:52:48.090Z"
   },
   {
    "duration": 61,
    "start_time": "2023-05-16T15:52:48.118Z"
   },
   {
    "duration": 4,
    "start_time": "2023-05-16T15:52:48.180Z"
   },
   {
    "duration": 1236,
    "start_time": "2023-05-16T15:52:48.186Z"
   },
   {
    "duration": 61,
    "start_time": "2023-05-16T15:52:49.424Z"
   },
   {
    "duration": 17,
    "start_time": "2023-05-16T15:52:49.489Z"
   },
   {
    "duration": 39,
    "start_time": "2023-05-16T15:52:49.508Z"
   },
   {
    "duration": 23,
    "start_time": "2023-05-16T15:52:49.549Z"
   },
   {
    "duration": 59,
    "start_time": "2023-05-16T15:52:49.574Z"
   },
   {
    "duration": 26,
    "start_time": "2023-05-16T15:52:49.646Z"
   },
   {
    "duration": 5,
    "start_time": "2023-05-16T15:52:49.674Z"
   },
   {
    "duration": 36,
    "start_time": "2023-05-16T15:52:49.681Z"
   },
   {
    "duration": 5214,
    "start_time": "2023-05-16T15:52:49.719Z"
   },
   {
    "duration": 94,
    "start_time": "2023-05-16T15:52:54.935Z"
   },
   {
    "duration": 18,
    "start_time": "2023-05-16T15:52:55.031Z"
   },
   {
    "duration": 314,
    "start_time": "2023-05-16T15:52:55.052Z"
   },
   {
    "duration": 247,
    "start_time": "2023-05-16T15:53:17.840Z"
   },
   {
    "duration": 5,
    "start_time": "2023-05-16T15:54:19.706Z"
   },
   {
    "duration": 181,
    "start_time": "2023-05-16T15:54:28.486Z"
   },
   {
    "duration": 11,
    "start_time": "2023-05-16T15:54:42.352Z"
   },
   {
    "duration": 1654,
    "start_time": "2023-05-16T15:55:09.747Z"
   },
   {
    "duration": 10,
    "start_time": "2023-05-16T15:55:11.404Z"
   },
   {
    "duration": 1333,
    "start_time": "2023-05-16T15:55:11.416Z"
   },
   {
    "duration": 3773,
    "start_time": "2023-05-16T15:55:12.751Z"
   },
   {
    "duration": 3,
    "start_time": "2023-05-16T15:55:16.527Z"
   },
   {
    "duration": 36,
    "start_time": "2023-05-16T15:55:16.532Z"
   },
   {
    "duration": 47,
    "start_time": "2023-05-16T15:55:16.569Z"
   },
   {
    "duration": 245,
    "start_time": "2023-05-16T15:55:16.618Z"
   },
   {
    "duration": 37,
    "start_time": "2023-05-16T15:55:16.865Z"
   },
   {
    "duration": 53,
    "start_time": "2023-05-16T15:55:16.904Z"
   },
   {
    "duration": 38,
    "start_time": "2023-05-16T15:55:16.959Z"
   },
   {
    "duration": 7,
    "start_time": "2023-05-16T15:55:16.999Z"
   },
   {
    "duration": 60,
    "start_time": "2023-05-16T15:55:17.008Z"
   },
   {
    "duration": 6,
    "start_time": "2023-05-16T15:55:17.071Z"
   },
   {
    "duration": 7356,
    "start_time": "2023-05-16T15:55:17.079Z"
   },
   {
    "duration": 38,
    "start_time": "2023-05-16T15:55:24.437Z"
   },
   {
    "duration": 6696,
    "start_time": "2023-05-16T15:55:24.477Z"
   },
   {
    "duration": 27,
    "start_time": "2023-05-16T15:55:31.175Z"
   },
   {
    "duration": 55,
    "start_time": "2023-05-16T15:55:31.204Z"
   },
   {
    "duration": 42,
    "start_time": "2023-05-16T15:55:31.262Z"
   },
   {
    "duration": 51,
    "start_time": "2023-05-16T15:55:31.306Z"
   },
   {
    "duration": 17,
    "start_time": "2023-05-16T15:55:31.359Z"
   },
   {
    "duration": 65,
    "start_time": "2023-05-16T15:55:31.378Z"
   },
   {
    "duration": 74,
    "start_time": "2023-05-16T15:55:31.445Z"
   },
   {
    "duration": 20,
    "start_time": "2023-05-16T15:55:31.521Z"
   },
   {
    "duration": 1375,
    "start_time": "2023-05-16T15:55:31.543Z"
   },
   {
    "duration": 58,
    "start_time": "2023-05-16T15:55:32.920Z"
   },
   {
    "duration": 17,
    "start_time": "2023-05-16T15:55:32.980Z"
   },
   {
    "duration": 35,
    "start_time": "2023-05-16T15:55:33.000Z"
   },
   {
    "duration": 27,
    "start_time": "2023-05-16T15:55:33.038Z"
   },
   {
    "duration": 70,
    "start_time": "2023-05-16T15:55:33.067Z"
   },
   {
    "duration": 32,
    "start_time": "2023-05-16T15:55:33.146Z"
   },
   {
    "duration": 3,
    "start_time": "2023-05-16T15:55:33.180Z"
   },
   {
    "duration": 33,
    "start_time": "2023-05-16T15:55:33.185Z"
   },
   {
    "duration": 6010,
    "start_time": "2023-05-16T15:55:33.220Z"
   },
   {
    "duration": 101,
    "start_time": "2023-05-16T15:55:39.232Z"
   },
   {
    "duration": 15,
    "start_time": "2023-05-16T15:55:39.335Z"
   },
   {
    "duration": 224,
    "start_time": "2023-05-16T15:55:39.352Z"
   },
   {
    "duration": 0,
    "start_time": "2023-05-16T15:55:39.577Z"
   },
   {
    "duration": 7,
    "start_time": "2023-05-16T15:55:51.909Z"
   },
   {
    "duration": 304,
    "start_time": "2023-05-16T15:56:02.703Z"
   },
   {
    "duration": 1718,
    "start_time": "2023-05-16T15:56:24.840Z"
   },
   {
    "duration": 12,
    "start_time": "2023-05-16T15:56:26.560Z"
   },
   {
    "duration": 1202,
    "start_time": "2023-05-16T15:56:26.574Z"
   },
   {
    "duration": 3769,
    "start_time": "2023-05-16T15:56:27.778Z"
   },
   {
    "duration": 5,
    "start_time": "2023-05-16T15:56:31.551Z"
   },
   {
    "duration": 92,
    "start_time": "2023-05-16T15:56:31.557Z"
   },
   {
    "duration": 66,
    "start_time": "2023-05-16T15:56:31.651Z"
   },
   {
    "duration": 309,
    "start_time": "2023-05-16T15:56:31.719Z"
   },
   {
    "duration": 51,
    "start_time": "2023-05-16T15:56:32.031Z"
   },
   {
    "duration": 52,
    "start_time": "2023-05-16T15:56:32.084Z"
   },
   {
    "duration": 42,
    "start_time": "2023-05-16T15:56:32.138Z"
   },
   {
    "duration": 12,
    "start_time": "2023-05-16T15:56:32.182Z"
   },
   {
    "duration": 54,
    "start_time": "2023-05-16T15:56:32.196Z"
   },
   {
    "duration": 7,
    "start_time": "2023-05-16T15:56:32.254Z"
   },
   {
    "duration": 7597,
    "start_time": "2023-05-16T15:56:32.262Z"
   },
   {
    "duration": 32,
    "start_time": "2023-05-16T15:56:39.861Z"
   },
   {
    "duration": 7123,
    "start_time": "2023-05-16T15:56:39.895Z"
   },
   {
    "duration": 37,
    "start_time": "2023-05-16T15:56:47.021Z"
   },
   {
    "duration": 36,
    "start_time": "2023-05-16T15:56:47.061Z"
   },
   {
    "duration": 47,
    "start_time": "2023-05-16T15:56:47.099Z"
   },
   {
    "duration": 26,
    "start_time": "2023-05-16T15:56:47.148Z"
   },
   {
    "duration": 4,
    "start_time": "2023-05-16T15:56:47.176Z"
   },
   {
    "duration": 24,
    "start_time": "2023-05-16T15:56:47.182Z"
   },
   {
    "duration": 60,
    "start_time": "2023-05-16T15:56:47.208Z"
   },
   {
    "duration": 4,
    "start_time": "2023-05-16T15:56:47.270Z"
   },
   {
    "duration": 1201,
    "start_time": "2023-05-16T15:56:47.275Z"
   },
   {
    "duration": 68,
    "start_time": "2023-05-16T15:56:48.478Z"
   },
   {
    "duration": 17,
    "start_time": "2023-05-16T15:56:48.548Z"
   },
   {
    "duration": 19,
    "start_time": "2023-05-16T15:56:48.567Z"
   },
   {
    "duration": 28,
    "start_time": "2023-05-16T15:56:48.587Z"
   },
   {
    "duration": 71,
    "start_time": "2023-05-16T15:56:48.618Z"
   },
   {
    "duration": 25,
    "start_time": "2023-05-16T15:56:48.691Z"
   },
   {
    "duration": 3,
    "start_time": "2023-05-16T15:56:48.718Z"
   },
   {
    "duration": 41,
    "start_time": "2023-05-16T15:56:48.722Z"
   },
   {
    "duration": 5766,
    "start_time": "2023-05-16T15:56:48.765Z"
   },
   {
    "duration": 90,
    "start_time": "2023-05-16T15:56:54.533Z"
   },
   {
    "duration": 3,
    "start_time": "2023-05-16T16:02:27.789Z"
   },
   {
    "duration": 8,
    "start_time": "2023-05-16T16:06:16.498Z"
   },
   {
    "duration": 14,
    "start_time": "2023-05-16T16:06:35.548Z"
   },
   {
    "duration": 14,
    "start_time": "2023-05-16T16:07:07.550Z"
   },
   {
    "duration": 125,
    "start_time": "2023-05-16T16:07:46.450Z"
   },
   {
    "duration": 3,
    "start_time": "2023-05-16T16:08:39.371Z"
   },
   {
    "duration": 25,
    "start_time": "2023-05-16T16:08:40.680Z"
   },
   {
    "duration": 7405,
    "start_time": "2023-05-16T16:10:38.655Z"
   },
   {
    "duration": 6,
    "start_time": "2023-05-16T16:10:47.990Z"
   },
   {
    "duration": 3,
    "start_time": "2023-05-16T16:10:55.949Z"
   },
   {
    "duration": 25,
    "start_time": "2023-05-16T16:10:57.190Z"
   },
   {
    "duration": 2327,
    "start_time": "2023-05-16T16:11:57.291Z"
   },
   {
    "duration": 1372,
    "start_time": "2023-05-16T16:11:59.621Z"
   },
   {
    "duration": 14,
    "start_time": "2023-05-16T16:12:00.995Z"
   },
   {
    "duration": 1048,
    "start_time": "2023-05-16T16:12:01.012Z"
   },
   {
    "duration": 3842,
    "start_time": "2023-05-16T16:12:02.063Z"
   },
   {
    "duration": 4,
    "start_time": "2023-05-16T16:12:05.907Z"
   },
   {
    "duration": 46,
    "start_time": "2023-05-16T16:12:05.913Z"
   },
   {
    "duration": 81,
    "start_time": "2023-05-16T16:12:05.961Z"
   },
   {
    "duration": 279,
    "start_time": "2023-05-16T16:12:06.044Z"
   },
   {
    "duration": 48,
    "start_time": "2023-05-16T16:12:06.325Z"
   },
   {
    "duration": 59,
    "start_time": "2023-05-16T16:12:06.376Z"
   },
   {
    "duration": 110,
    "start_time": "2023-05-16T16:12:06.438Z"
   },
   {
    "duration": 11,
    "start_time": "2023-05-16T16:12:06.551Z"
   },
   {
    "duration": 98,
    "start_time": "2023-05-16T16:12:06.565Z"
   },
   {
    "duration": 28,
    "start_time": "2023-05-16T16:12:06.664Z"
   },
   {
    "duration": 7353,
    "start_time": "2023-05-16T16:12:06.694Z"
   },
   {
    "duration": 31,
    "start_time": "2023-05-16T16:12:14.049Z"
   },
   {
    "duration": 6922,
    "start_time": "2023-05-16T16:12:14.082Z"
   },
   {
    "duration": 45,
    "start_time": "2023-05-16T16:12:21.006Z"
   },
   {
    "duration": 52,
    "start_time": "2023-05-16T16:12:21.053Z"
   },
   {
    "duration": 39,
    "start_time": "2023-05-16T16:12:21.108Z"
   },
   {
    "duration": 28,
    "start_time": "2023-05-16T16:12:21.149Z"
   },
   {
    "duration": 18,
    "start_time": "2023-05-16T16:12:21.179Z"
   },
   {
    "duration": 53,
    "start_time": "2023-05-16T16:12:21.198Z"
   },
   {
    "duration": 57,
    "start_time": "2023-05-16T16:12:21.254Z"
   },
   {
    "duration": 5,
    "start_time": "2023-05-16T16:12:21.313Z"
   },
   {
    "duration": 1154,
    "start_time": "2023-05-16T16:12:21.320Z"
   },
   {
    "duration": 71,
    "start_time": "2023-05-16T16:12:22.479Z"
   },
   {
    "duration": 82,
    "start_time": "2023-05-16T16:12:22.552Z"
   },
   {
    "duration": 66,
    "start_time": "2023-05-16T16:12:22.638Z"
   },
   {
    "duration": 70,
    "start_time": "2023-05-16T16:12:22.706Z"
   },
   {
    "duration": 104,
    "start_time": "2023-05-16T16:12:22.777Z"
   },
   {
    "duration": 31,
    "start_time": "2023-05-16T16:12:22.883Z"
   },
   {
    "duration": 19,
    "start_time": "2023-05-16T16:12:22.916Z"
   },
   {
    "duration": 50,
    "start_time": "2023-05-16T16:12:22.937Z"
   },
   {
    "duration": 5328,
    "start_time": "2023-05-16T16:12:22.990Z"
   },
   {
    "duration": 109,
    "start_time": "2023-05-16T16:12:28.320Z"
   },
   {
    "duration": 26,
    "start_time": "2023-05-16T16:12:28.431Z"
   },
   {
    "duration": 30,
    "start_time": "2023-05-16T16:12:28.459Z"
   },
   {
    "duration": 69,
    "start_time": "2023-05-16T16:12:28.491Z"
   },
   {
    "duration": 157,
    "start_time": "2023-05-16T16:12:28.563Z"
   },
   {
    "duration": 0,
    "start_time": "2023-05-16T16:12:28.722Z"
   },
   {
    "duration": 0,
    "start_time": "2023-05-16T16:12:28.723Z"
   },
   {
    "duration": 18,
    "start_time": "2023-05-16T16:13:53.414Z"
   },
   {
    "duration": 2372,
    "start_time": "2023-05-16T16:15:15.890Z"
   },
   {
    "duration": 1979,
    "start_time": "2023-05-16T16:15:18.265Z"
   },
   {
    "duration": 10,
    "start_time": "2023-05-16T16:15:20.246Z"
   },
   {
    "duration": 1141,
    "start_time": "2023-05-16T16:15:20.259Z"
   },
   {
    "duration": 3669,
    "start_time": "2023-05-16T16:15:21.404Z"
   },
   {
    "duration": 3,
    "start_time": "2023-05-16T16:15:25.076Z"
   },
   {
    "duration": 27,
    "start_time": "2023-05-16T16:15:25.082Z"
   },
   {
    "duration": 40,
    "start_time": "2023-05-16T16:15:25.111Z"
   },
   {
    "duration": 232,
    "start_time": "2023-05-16T16:15:25.153Z"
   },
   {
    "duration": 36,
    "start_time": "2023-05-16T16:15:25.386Z"
   },
   {
    "duration": 48,
    "start_time": "2023-05-16T16:15:25.424Z"
   },
   {
    "duration": 38,
    "start_time": "2023-05-16T16:15:25.474Z"
   },
   {
    "duration": 6,
    "start_time": "2023-05-16T16:15:25.514Z"
   },
   {
    "duration": 35,
    "start_time": "2023-05-16T16:15:25.547Z"
   },
   {
    "duration": 5,
    "start_time": "2023-05-16T16:15:25.587Z"
   },
   {
    "duration": 7520,
    "start_time": "2023-05-16T16:15:25.594Z"
   },
   {
    "duration": 43,
    "start_time": "2023-05-16T16:15:33.116Z"
   },
   {
    "duration": 6959,
    "start_time": "2023-05-16T16:15:33.161Z"
   },
   {
    "duration": 38,
    "start_time": "2023-05-16T16:15:40.121Z"
   },
   {
    "duration": 32,
    "start_time": "2023-05-16T16:15:40.161Z"
   },
   {
    "duration": 27,
    "start_time": "2023-05-16T16:15:40.196Z"
   },
   {
    "duration": 45,
    "start_time": "2023-05-16T16:15:40.225Z"
   },
   {
    "duration": 4,
    "start_time": "2023-05-16T16:15:40.272Z"
   },
   {
    "duration": 72,
    "start_time": "2023-05-16T16:15:40.278Z"
   },
   {
    "duration": 66,
    "start_time": "2023-05-16T16:15:40.352Z"
   },
   {
    "duration": 6,
    "start_time": "2023-05-16T16:15:40.420Z"
   },
   {
    "duration": 1052,
    "start_time": "2023-05-16T16:15:40.428Z"
   },
   {
    "duration": 64,
    "start_time": "2023-05-16T16:15:41.482Z"
   },
   {
    "duration": 16,
    "start_time": "2023-05-16T16:15:41.548Z"
   },
   {
    "duration": 21,
    "start_time": "2023-05-16T16:15:41.566Z"
   },
   {
    "duration": 27,
    "start_time": "2023-05-16T16:15:41.589Z"
   },
   {
    "duration": 75,
    "start_time": "2023-05-16T16:15:41.618Z"
   },
   {
    "duration": 26,
    "start_time": "2023-05-16T16:15:41.694Z"
   },
   {
    "duration": 3,
    "start_time": "2023-05-16T16:15:41.721Z"
   },
   {
    "duration": 38,
    "start_time": "2023-05-16T16:15:41.725Z"
   },
   {
    "duration": 5193,
    "start_time": "2023-05-16T16:15:41.765Z"
   },
   {
    "duration": 97,
    "start_time": "2023-05-16T16:15:46.960Z"
   },
   {
    "duration": 3,
    "start_time": "2023-05-16T16:15:47.059Z"
   },
   {
    "duration": 138,
    "start_time": "2023-05-16T16:15:47.064Z"
   },
   {
    "duration": 31,
    "start_time": "2023-05-16T16:18:08.314Z"
   },
   {
    "duration": 10,
    "start_time": "2023-05-16T16:18:18.594Z"
   },
   {
    "duration": 6,
    "start_time": "2023-05-16T16:18:34.855Z"
   },
   {
    "duration": 216,
    "start_time": "2023-05-16T16:19:10.886Z"
   },
   {
    "duration": 4,
    "start_time": "2023-05-16T16:19:30.105Z"
   },
   {
    "duration": 178,
    "start_time": "2023-05-16T16:19:30.710Z"
   },
   {
    "duration": 7710,
    "start_time": "2023-05-17T07:56:10.977Z"
   },
   {
    "duration": 1508,
    "start_time": "2023-05-17T07:56:18.689Z"
   },
   {
    "duration": 9,
    "start_time": "2023-05-17T07:56:20.199Z"
   },
   {
    "duration": 1202,
    "start_time": "2023-05-17T07:56:20.211Z"
   },
   {
    "duration": 3561,
    "start_time": "2023-05-17T07:56:21.415Z"
   },
   {
    "duration": 4,
    "start_time": "2023-05-17T07:56:24.978Z"
   },
   {
    "duration": 37,
    "start_time": "2023-05-17T07:56:24.983Z"
   },
   {
    "duration": 42,
    "start_time": "2023-05-17T07:56:25.021Z"
   },
   {
    "duration": 251,
    "start_time": "2023-05-17T07:56:25.065Z"
   },
   {
    "duration": 43,
    "start_time": "2023-05-17T07:56:25.319Z"
   },
   {
    "duration": 38,
    "start_time": "2023-05-17T07:56:25.364Z"
   },
   {
    "duration": 56,
    "start_time": "2023-05-17T07:56:25.404Z"
   },
   {
    "duration": 7,
    "start_time": "2023-05-17T07:56:25.462Z"
   },
   {
    "duration": 50,
    "start_time": "2023-05-17T07:56:25.471Z"
   },
   {
    "duration": 6,
    "start_time": "2023-05-17T07:56:25.523Z"
   },
   {
    "duration": 7258,
    "start_time": "2023-05-17T07:56:25.531Z"
   },
   {
    "duration": 31,
    "start_time": "2023-05-17T07:56:32.791Z"
   },
   {
    "duration": 6764,
    "start_time": "2023-05-17T07:56:32.824Z"
   },
   {
    "duration": 25,
    "start_time": "2023-05-17T07:56:39.590Z"
   },
   {
    "duration": 36,
    "start_time": "2023-05-17T07:56:39.617Z"
   },
   {
    "duration": 26,
    "start_time": "2023-05-17T07:56:39.655Z"
   },
   {
    "duration": 27,
    "start_time": "2023-05-17T07:56:39.683Z"
   },
   {
    "duration": 13,
    "start_time": "2023-05-17T07:56:39.712Z"
   },
   {
    "duration": 40,
    "start_time": "2023-05-17T07:56:39.727Z"
   },
   {
    "duration": 45,
    "start_time": "2023-05-17T07:56:39.769Z"
   },
   {
    "duration": 3,
    "start_time": "2023-05-17T07:56:39.816Z"
   },
   {
    "duration": 1060,
    "start_time": "2023-05-17T07:56:39.821Z"
   },
   {
    "duration": 63,
    "start_time": "2023-05-17T07:56:40.885Z"
   },
   {
    "duration": 17,
    "start_time": "2023-05-17T07:56:40.950Z"
   },
   {
    "duration": 21,
    "start_time": "2023-05-17T07:56:40.969Z"
   },
   {
    "duration": 26,
    "start_time": "2023-05-17T07:56:40.992Z"
   },
   {
    "duration": 67,
    "start_time": "2023-05-17T07:56:41.020Z"
   },
   {
    "duration": 31,
    "start_time": "2023-05-17T07:56:41.089Z"
   },
   {
    "duration": 3,
    "start_time": "2023-05-17T07:56:41.121Z"
   },
   {
    "duration": 33,
    "start_time": "2023-05-17T07:56:41.126Z"
   },
   {
    "duration": 5090,
    "start_time": "2023-05-17T07:56:41.161Z"
   },
   {
    "duration": 96,
    "start_time": "2023-05-17T07:56:46.253Z"
   },
   {
    "duration": 499,
    "start_time": "2023-05-17T07:56:46.351Z"
   },
   {
    "duration": 32,
    "start_time": "2023-05-17T07:56:46.852Z"
   },
   {
    "duration": 3,
    "start_time": "2023-05-17T07:56:46.886Z"
   },
   {
    "duration": 140,
    "start_time": "2023-05-17T07:56:46.890Z"
   },
   {
    "duration": 0,
    "start_time": "2023-05-17T07:56:47.031Z"
   },
   {
    "duration": 12,
    "start_time": "2023-05-17T08:01:59.225Z"
   },
   {
    "duration": 227546,
    "start_time": "2023-05-17T08:02:04.183Z"
   },
   {
    "duration": 228131,
    "start_time": "2023-05-17T08:06:53.190Z"
   },
   {
    "duration": 9,
    "start_time": "2023-05-17T08:46:47.500Z"
   },
   {
    "duration": 3888774,
    "start_time": "2023-05-17T08:47:45.352Z"
   },
   {
    "duration": 14,
    "start_time": "2023-05-17T10:35:00.397Z"
   },
   {
    "duration": 6637,
    "start_time": "2023-05-18T07:42:25.974Z"
   },
   {
    "duration": 1343,
    "start_time": "2023-05-18T07:42:32.614Z"
   },
   {
    "duration": 9,
    "start_time": "2023-05-18T07:42:33.958Z"
   },
   {
    "duration": 4034,
    "start_time": "2023-05-18T07:42:33.968Z"
   },
   {
    "duration": 3252,
    "start_time": "2023-05-18T07:42:38.005Z"
   },
   {
    "duration": 3,
    "start_time": "2023-05-18T07:42:41.259Z"
   },
   {
    "duration": 40,
    "start_time": "2023-05-18T07:42:41.264Z"
   },
   {
    "duration": 39,
    "start_time": "2023-05-18T07:42:41.306Z"
   },
   {
    "duration": 228,
    "start_time": "2023-05-18T07:42:41.347Z"
   },
   {
    "duration": 34,
    "start_time": "2023-05-18T07:42:41.578Z"
   },
   {
    "duration": 60,
    "start_time": "2023-05-18T07:42:41.614Z"
   },
   {
    "duration": 39,
    "start_time": "2023-05-18T07:42:41.676Z"
   },
   {
    "duration": 13,
    "start_time": "2023-05-18T07:42:41.717Z"
   },
   {
    "duration": 43,
    "start_time": "2023-05-18T07:42:41.836Z"
   },
   {
    "duration": 9,
    "start_time": "2023-05-18T07:42:41.881Z"
   },
   {
    "duration": 6749,
    "start_time": "2023-05-18T07:42:41.892Z"
   },
   {
    "duration": 43,
    "start_time": "2023-05-18T07:42:48.643Z"
   },
   {
    "duration": 6619,
    "start_time": "2023-05-18T07:42:48.688Z"
   },
   {
    "duration": 25,
    "start_time": "2023-05-18T07:42:55.309Z"
   },
   {
    "duration": 33,
    "start_time": "2023-05-18T07:42:55.336Z"
   },
   {
    "duration": 32,
    "start_time": "2023-05-18T07:42:55.371Z"
   },
   {
    "duration": 26,
    "start_time": "2023-05-18T07:42:55.405Z"
   },
   {
    "duration": 4,
    "start_time": "2023-05-18T07:42:55.434Z"
   },
   {
    "duration": 43,
    "start_time": "2023-05-18T07:42:55.440Z"
   },
   {
    "duration": 61,
    "start_time": "2023-05-18T07:42:55.485Z"
   },
   {
    "duration": 5,
    "start_time": "2023-05-18T07:42:55.549Z"
   },
   {
    "duration": 1115,
    "start_time": "2023-05-18T07:42:55.559Z"
   },
   {
    "duration": 47,
    "start_time": "2023-05-18T07:42:56.678Z"
   },
   {
    "duration": 33,
    "start_time": "2023-05-18T07:42:56.727Z"
   },
   {
    "duration": 28,
    "start_time": "2023-05-18T07:42:56.762Z"
   },
   {
    "duration": 20,
    "start_time": "2023-05-18T07:42:56.792Z"
   },
   {
    "duration": 69,
    "start_time": "2023-05-18T07:42:56.814Z"
   },
   {
    "duration": 24,
    "start_time": "2023-05-18T07:42:56.885Z"
   },
   {
    "duration": 3,
    "start_time": "2023-05-18T07:42:56.910Z"
   },
   {
    "duration": 32,
    "start_time": "2023-05-18T07:42:56.915Z"
   },
   {
    "duration": 4661,
    "start_time": "2023-05-18T07:42:56.949Z"
   },
   {
    "duration": 95,
    "start_time": "2023-05-18T07:43:01.612Z"
   },
   {
    "duration": 423,
    "start_time": "2023-05-18T07:43:01.709Z"
   },
   {
    "duration": 32,
    "start_time": "2023-05-18T07:43:02.134Z"
   },
   {
    "duration": 12,
    "start_time": "2023-05-18T07:43:02.167Z"
   },
   {
    "duration": 204801,
    "start_time": "2023-05-18T07:43:02.182Z"
   },
   {
    "duration": 9,
    "start_time": "2023-05-18T07:46:26.985Z"
   },
   {
    "duration": 9,
    "start_time": "2023-05-18T07:49:26.572Z"
   },
   {
    "duration": 8,
    "start_time": "2023-05-18T07:49:41.380Z"
   },
   {
    "duration": 14906,
    "start_time": "2023-05-18T07:49:50.614Z"
   },
   {
    "duration": 9,
    "start_time": "2023-05-18T07:50:11.700Z"
   },
   {
    "duration": 32876658,
    "start_time": "2023-05-18T07:50:12.271Z"
   },
   {
    "duration": 27,
    "start_time": "2023-05-18T17:31:59.541Z"
   },
   {
    "duration": 57166,
    "start_time": "2023-05-18T17:32:22.956Z"
   },
   {
    "duration": 43,
    "start_time": "2023-05-18T17:33:20.124Z"
   },
   {
    "duration": 3367,
    "start_time": "2023-05-18T17:39:04.901Z"
   },
   {
    "duration": 11,
    "start_time": "2023-05-18T17:42:01.282Z"
   },
   {
    "duration": 47,
    "start_time": "2023-05-18T17:42:07.586Z"
   },
   {
    "duration": 5,
    "start_time": "2023-05-18T17:42:40.356Z"
   },
   {
    "duration": 12,
    "start_time": "2023-05-18T17:46:59.103Z"
   },
   {
    "duration": 67449,
    "start_time": "2023-05-18T17:47:02.636Z"
   },
   {
    "duration": 10,
    "start_time": "2023-05-18T17:51:24.702Z"
   },
   {
    "duration": 121992,
    "start_time": "2023-05-18T17:51:25.942Z"
   },
   {
    "duration": 1221,
    "start_time": "2023-05-18T17:57:13.401Z"
   },
   {
    "duration": 8,
    "start_time": "2023-05-18T18:07:07.443Z"
   },
   {
    "duration": 21,
    "start_time": "2023-05-18T18:07:19.078Z"
   },
   {
    "duration": 147297,
    "start_time": "2023-05-18T18:07:21.446Z"
   },
   {
    "duration": 8,
    "start_time": "2023-05-18T18:16:34.864Z"
   },
   {
    "duration": 19,
    "start_time": "2023-05-18T18:16:46.320Z"
   },
   {
    "duration": 136803,
    "start_time": "2023-05-18T18:16:48.419Z"
   },
   {
    "duration": 6522,
    "start_time": "2023-05-19T08:53:21.168Z"
   },
   {
    "duration": 1380,
    "start_time": "2023-05-19T08:53:27.692Z"
   },
   {
    "duration": 9,
    "start_time": "2023-05-19T08:53:29.074Z"
   },
   {
    "duration": 2700,
    "start_time": "2023-05-19T08:53:29.085Z"
   },
   {
    "duration": 3318,
    "start_time": "2023-05-19T08:53:31.787Z"
   },
   {
    "duration": 4,
    "start_time": "2023-05-19T08:53:35.107Z"
   },
   {
    "duration": 19,
    "start_time": "2023-05-19T08:53:35.113Z"
   },
   {
    "duration": 40,
    "start_time": "2023-05-19T08:53:35.134Z"
   },
   {
    "duration": 212,
    "start_time": "2023-05-19T08:53:35.175Z"
   },
   {
    "duration": 34,
    "start_time": "2023-05-19T08:53:35.390Z"
   },
   {
    "duration": 50,
    "start_time": "2023-05-19T08:53:35.425Z"
   },
   {
    "duration": 37,
    "start_time": "2023-05-19T08:53:35.476Z"
   },
   {
    "duration": 5,
    "start_time": "2023-05-19T08:53:35.514Z"
   },
   {
    "duration": 46,
    "start_time": "2023-05-19T08:53:35.521Z"
   },
   {
    "duration": 5,
    "start_time": "2023-05-19T08:53:35.569Z"
   },
   {
    "duration": 6752,
    "start_time": "2023-05-19T08:53:35.576Z"
   },
   {
    "duration": 47,
    "start_time": "2023-05-19T08:53:42.329Z"
   },
   {
    "duration": 6551,
    "start_time": "2023-05-19T08:53:42.378Z"
   },
   {
    "duration": 35,
    "start_time": "2023-05-19T08:53:48.931Z"
   },
   {
    "duration": 47,
    "start_time": "2023-05-19T08:53:48.969Z"
   },
   {
    "duration": 55,
    "start_time": "2023-05-19T08:53:49.018Z"
   },
   {
    "duration": 34,
    "start_time": "2023-05-19T08:53:49.076Z"
   },
   {
    "duration": 4,
    "start_time": "2023-05-19T08:53:49.113Z"
   },
   {
    "duration": 37,
    "start_time": "2023-05-19T08:53:49.118Z"
   },
   {
    "duration": 41,
    "start_time": "2023-05-19T08:53:49.156Z"
   },
   {
    "duration": 4,
    "start_time": "2023-05-19T08:53:49.198Z"
   },
   {
    "duration": 975,
    "start_time": "2023-05-19T08:53:49.204Z"
   },
   {
    "duration": 47,
    "start_time": "2023-05-19T08:53:50.182Z"
   },
   {
    "duration": 27,
    "start_time": "2023-05-19T08:53:50.231Z"
   },
   {
    "duration": 19,
    "start_time": "2023-05-19T08:53:50.260Z"
   },
   {
    "duration": 24,
    "start_time": "2023-05-19T08:53:50.281Z"
   },
   {
    "duration": 76,
    "start_time": "2023-05-19T08:53:50.307Z"
   },
   {
    "duration": 27,
    "start_time": "2023-05-19T08:53:50.385Z"
   },
   {
    "duration": 3,
    "start_time": "2023-05-19T08:53:50.413Z"
   },
   {
    "duration": 44,
    "start_time": "2023-05-19T08:53:50.418Z"
   },
   {
    "duration": 4607,
    "start_time": "2023-05-19T08:53:50.464Z"
   },
   {
    "duration": 89,
    "start_time": "2023-05-19T08:53:55.073Z"
   },
   {
    "duration": 126,
    "start_time": "2023-05-19T08:53:55.164Z"
   },
   {
    "duration": 0,
    "start_time": "2023-05-19T08:53:55.291Z"
   },
   {
    "duration": 0,
    "start_time": "2023-05-19T08:53:55.293Z"
   },
   {
    "duration": 0,
    "start_time": "2023-05-19T08:53:55.294Z"
   },
   {
    "duration": 0,
    "start_time": "2023-05-19T08:53:55.295Z"
   },
   {
    "duration": 0,
    "start_time": "2023-05-19T08:53:55.296Z"
   },
   {
    "duration": 0,
    "start_time": "2023-05-19T08:53:55.297Z"
   },
   {
    "duration": 0,
    "start_time": "2023-05-19T08:53:55.298Z"
   },
   {
    "duration": 0,
    "start_time": "2023-05-19T08:53:55.299Z"
   },
   {
    "duration": 0,
    "start_time": "2023-05-19T08:53:55.300Z"
   },
   {
    "duration": 34,
    "start_time": "2023-05-19T08:54:03.004Z"
   },
   {
    "duration": 16,
    "start_time": "2023-05-19T08:58:39.966Z"
   },
   {
    "duration": 12,
    "start_time": "2023-05-19T08:58:54.414Z"
   },
   {
    "duration": 13,
    "start_time": "2023-05-19T08:59:11.119Z"
   },
   {
    "duration": 12,
    "start_time": "2023-05-19T08:59:28.214Z"
   },
   {
    "duration": 39,
    "start_time": "2023-05-19T09:01:37.908Z"
   },
   {
    "duration": 46,
    "start_time": "2023-05-19T09:02:11.383Z"
   },
   {
    "duration": 47,
    "start_time": "2023-05-19T09:04:15.702Z"
   },
   {
    "duration": 418,
    "start_time": "2023-05-19T09:04:32.020Z"
   },
   {
    "duration": 33,
    "start_time": "2023-05-19T09:04:32.606Z"
   },
   {
    "duration": 541,
    "start_time": "2023-05-19T09:04:46.225Z"
   },
   {
    "duration": 5482,
    "start_time": "2023-05-19T09:05:06.580Z"
   },
   {
    "duration": 6107,
    "start_time": "2023-05-19T09:07:09.155Z"
   },
   {
    "duration": 4,
    "start_time": "2023-05-19T10:54:44.122Z"
   },
   {
    "duration": 1534,
    "start_time": "2023-05-19T10:55:36.084Z"
   },
   {
    "duration": 9,
    "start_time": "2023-05-19T10:55:55.927Z"
   },
   {
    "duration": 51,
    "start_time": "2023-05-19T10:57:33.371Z"
   },
   {
    "duration": 3,
    "start_time": "2023-05-19T10:57:36.429Z"
   },
   {
    "duration": 120526,
    "start_time": "2023-05-19T10:57:37.670Z"
   },
   {
    "duration": 3,
    "start_time": "2023-05-19T11:07:46.173Z"
   },
   {
    "duration": 253726,
    "start_time": "2023-05-19T11:07:46.767Z"
   },
   {
    "duration": 13,
    "start_time": "2023-05-19T11:13:02.194Z"
   },
   {
    "duration": 3,
    "start_time": "2023-05-19T11:13:11.458Z"
   },
   {
    "duration": 58880,
    "start_time": "2023-05-19T11:13:11.997Z"
   },
   {
    "duration": 3,
    "start_time": "2023-05-19T11:14:12.766Z"
   },
   {
    "duration": 257993,
    "start_time": "2023-05-19T11:14:13.252Z"
   },
   {
    "duration": 3,
    "start_time": "2023-05-19T11:23:07.872Z"
   },
   {
    "duration": 143669,
    "start_time": "2023-05-19T11:23:08.372Z"
   },
   {
    "duration": 3,
    "start_time": "2023-05-19T12:00:46.776Z"
   },
   {
    "duration": 995001,
    "start_time": "2023-05-19T12:00:47.908Z"
   },
   {
    "duration": 8,
    "start_time": "2023-05-19T12:17:22.911Z"
   },
   {
    "duration": 142,
    "start_time": "2023-05-19T12:17:46.270Z"
   },
   {
    "duration": 4,
    "start_time": "2023-05-19T12:21:14.445Z"
   },
   {
    "duration": 5090142,
    "start_time": "2023-05-19T12:21:14.914Z"
   },
   {
    "duration": 416,
    "start_time": "2023-05-19T13:46:05.058Z"
   },
   {
    "duration": 4,
    "start_time": "2023-05-19T13:50:31.524Z"
   },
   {
    "duration": 1517139,
    "start_time": "2023-05-19T13:50:32.395Z"
   },
   {
    "duration": 287,
    "start_time": "2023-05-19T14:22:39.171Z"
   },
   {
    "duration": 3,
    "start_time": "2023-05-19T14:22:45.257Z"
   },
   {
    "duration": 52,
    "start_time": "2023-05-19T14:23:30.916Z"
   },
   {
    "duration": 3498090,
    "start_time": "2023-05-19T14:23:34.833Z"
   },
   {
    "duration": 898,
    "start_time": "2023-05-19T21:06:52.763Z"
   },
   {
    "duration": 6884,
    "start_time": "2023-05-20T12:19:57.925Z"
   },
   {
    "duration": 1454,
    "start_time": "2023-05-20T12:20:04.811Z"
   },
   {
    "duration": 9,
    "start_time": "2023-05-20T12:20:06.266Z"
   },
   {
    "duration": 1009,
    "start_time": "2023-05-20T12:20:06.277Z"
   },
   {
    "duration": 2959,
    "start_time": "2023-05-20T12:20:07.287Z"
   },
   {
    "duration": 4,
    "start_time": "2023-05-20T12:20:10.247Z"
   },
   {
    "duration": 25,
    "start_time": "2023-05-20T12:20:10.252Z"
   },
   {
    "duration": 391,
    "start_time": "2023-05-20T12:20:29.432Z"
   },
   {
    "duration": 41,
    "start_time": "2023-05-20T12:57:51.152Z"
   },
   {
    "duration": 198,
    "start_time": "2023-05-20T12:57:52.019Z"
   },
   {
    "duration": 5,
    "start_time": "2023-05-20T12:57:52.912Z"
   },
   {
    "duration": 6493,
    "start_time": "2023-05-20T12:57:53.625Z"
   },
   {
    "duration": 30,
    "start_time": "2023-05-20T12:58:07.564Z"
   },
   {
    "duration": 18,
    "start_time": "2023-05-20T12:58:08.839Z"
   },
   {
    "duration": 32,
    "start_time": "2023-05-20T12:58:11.620Z"
   },
   {
    "duration": 24,
    "start_time": "2023-05-20T13:14:38.652Z"
   },
   {
    "duration": 26,
    "start_time": "2023-05-20T13:14:40.330Z"
   },
   {
    "duration": 25,
    "start_time": "2023-05-20T13:14:41.083Z"
   },
   {
    "duration": 23,
    "start_time": "2023-05-20T13:14:42.157Z"
   },
   {
    "duration": 6071,
    "start_time": "2023-05-20T13:14:43.894Z"
   },
   {
    "duration": 4,
    "start_time": "2023-05-20T13:48:26.262Z"
   },
   {
    "duration": 869,
    "start_time": "2023-05-20T13:48:26.678Z"
   },
   {
    "duration": 45,
    "start_time": "2023-05-20T13:48:30.141Z"
   },
   {
    "duration": 127,
    "start_time": "2023-05-20T13:48:31.133Z"
   },
   {
    "duration": 13,
    "start_time": "2023-05-20T13:49:29.739Z"
   },
   {
    "duration": 4,
    "start_time": "2023-05-20T13:49:31.687Z"
   },
   {
    "duration": 12,
    "start_time": "2023-05-20T13:58:32.653Z"
   },
   {
    "duration": 9,
    "start_time": "2023-05-20T14:35:06.513Z"
   },
   {
    "duration": 2,
    "start_time": "2023-05-20T14:35:21.614Z"
   },
   {
    "duration": 9,
    "start_time": "2023-05-20T14:35:23.456Z"
   },
   {
    "duration": 16,
    "start_time": "2023-05-20T14:35:30.306Z"
   },
   {
    "duration": 47,
    "start_time": "2023-05-20T14:35:30.948Z"
   },
   {
    "duration": 359,
    "start_time": "2023-05-20T14:35:32.899Z"
   },
   {
    "duration": 27,
    "start_time": "2023-05-20T14:35:40.001Z"
   },
   {
    "duration": 16,
    "start_time": "2023-05-20T14:35:50.705Z"
   },
   {
    "duration": 696,
    "start_time": "2023-05-20T14:45:15.889Z"
   },
   {
    "duration": 18,
    "start_time": "2023-05-20T14:45:20.015Z"
   },
   {
    "duration": 16,
    "start_time": "2023-05-20T14:45:52.556Z"
   },
   {
    "duration": 725,
    "start_time": "2023-05-20T14:46:19.095Z"
   },
   {
    "duration": 2771,
    "start_time": "2023-05-20T14:46:19.822Z"
   },
   {
    "duration": 3,
    "start_time": "2023-05-20T14:46:22.595Z"
   },
   {
    "duration": 26,
    "start_time": "2023-05-20T14:46:22.599Z"
   },
   {
    "duration": 383,
    "start_time": "2023-05-20T14:46:22.626Z"
   },
   {
    "duration": 44,
    "start_time": "2023-05-20T14:46:23.010Z"
   },
   {
    "duration": 201,
    "start_time": "2023-05-20T14:46:23.056Z"
   },
   {
    "duration": 5,
    "start_time": "2023-05-20T14:46:23.601Z"
   },
   {
    "duration": 6532,
    "start_time": "2023-05-20T14:46:23.967Z"
   },
   {
    "duration": 24,
    "start_time": "2023-05-20T14:46:30.501Z"
   },
   {
    "duration": 25,
    "start_time": "2023-05-20T14:46:30.526Z"
   },
   {
    "duration": 61,
    "start_time": "2023-05-20T14:46:30.553Z"
   },
   {
    "duration": 40,
    "start_time": "2023-05-20T14:46:30.616Z"
   },
   {
    "duration": 34,
    "start_time": "2023-05-20T14:46:30.659Z"
   },
   {
    "duration": 26,
    "start_time": "2023-05-20T14:46:30.694Z"
   },
   {
    "duration": 28,
    "start_time": "2023-05-20T14:46:30.722Z"
   },
   {
    "duration": 5993,
    "start_time": "2023-05-20T14:46:31.564Z"
   },
   {
    "duration": 3,
    "start_time": "2023-05-20T14:46:37.560Z"
   },
   {
    "duration": 900,
    "start_time": "2023-05-20T14:46:37.564Z"
   },
   {
    "duration": 2066,
    "start_time": "2023-05-20T14:47:33.743Z"
   },
   {
    "duration": 1187,
    "start_time": "2023-05-20T14:47:35.812Z"
   },
   {
    "duration": 9,
    "start_time": "2023-05-20T14:47:37.001Z"
   },
   {
    "duration": 794,
    "start_time": "2023-05-20T14:47:37.012Z"
   },
   {
    "duration": 2961,
    "start_time": "2023-05-20T14:47:37.808Z"
   },
   {
    "duration": 3,
    "start_time": "2023-05-20T14:47:40.770Z"
   },
   {
    "duration": 18,
    "start_time": "2023-05-20T14:47:40.775Z"
   },
   {
    "duration": 444,
    "start_time": "2023-05-20T14:47:40.795Z"
   },
   {
    "duration": 45,
    "start_time": "2023-05-20T14:47:41.241Z"
   },
   {
    "duration": 185,
    "start_time": "2023-05-20T14:47:46.543Z"
   },
   {
    "duration": 5,
    "start_time": "2023-05-20T14:47:47.837Z"
   },
   {
    "duration": 6934,
    "start_time": "2023-05-20T14:47:48.400Z"
   },
   {
    "duration": 19,
    "start_time": "2023-05-20T14:47:55.336Z"
   },
   {
    "duration": 6,
    "start_time": "2023-05-20T14:47:59.956Z"
   },
   {
    "duration": 35,
    "start_time": "2023-05-20T14:48:01.252Z"
   },
   {
    "duration": 22,
    "start_time": "2023-05-20T14:48:02.246Z"
   },
   {
    "duration": 28,
    "start_time": "2023-05-20T14:48:06.646Z"
   },
   {
    "duration": 27,
    "start_time": "2023-05-20T14:48:07.772Z"
   },
   {
    "duration": 24,
    "start_time": "2023-05-20T14:48:08.847Z"
   },
   {
    "duration": 5824,
    "start_time": "2023-05-20T14:48:10.145Z"
   },
   {
    "duration": 1523,
    "start_time": "2023-05-20T14:48:34.550Z"
   },
   {
    "duration": 33,
    "start_time": "2023-05-20T14:50:30.247Z"
   },
   {
    "duration": 3,
    "start_time": "2023-05-20T14:50:47.896Z"
   },
   {
    "duration": 798,
    "start_time": "2023-05-20T14:50:48.747Z"
   },
   {
    "duration": 1426,
    "start_time": "2023-05-20T14:51:13.936Z"
   },
   {
    "duration": 10,
    "start_time": "2023-05-20T14:52:07.894Z"
   },
   {
    "duration": 58,
    "start_time": "2023-05-20T14:52:31.381Z"
   },
   {
    "duration": 720,
    "start_time": "2023-05-20T14:57:15.037Z"
   },
   {
    "duration": 2748,
    "start_time": "2023-05-20T14:57:15.759Z"
   },
   {
    "duration": 3,
    "start_time": "2023-05-20T14:57:18.517Z"
   },
   {
    "duration": 22,
    "start_time": "2023-05-20T14:57:18.521Z"
   },
   {
    "duration": 411,
    "start_time": "2023-05-20T14:57:18.546Z"
   },
   {
    "duration": 44,
    "start_time": "2023-05-20T14:57:18.958Z"
   },
   {
    "duration": 216,
    "start_time": "2023-05-20T14:57:19.004Z"
   },
   {
    "duration": 83,
    "start_time": "2023-05-20T14:57:19.488Z"
   },
   {
    "duration": 6464,
    "start_time": "2023-05-20T14:57:19.932Z"
   },
   {
    "duration": 24,
    "start_time": "2023-05-20T14:57:26.398Z"
   },
   {
    "duration": 6,
    "start_time": "2023-05-20T14:57:26.423Z"
   },
   {
    "duration": 34,
    "start_time": "2023-05-20T14:57:39.785Z"
   },
   {
    "duration": 24,
    "start_time": "2023-05-20T14:57:41.237Z"
   },
   {
    "duration": 26,
    "start_time": "2023-05-20T14:57:43.647Z"
   },
   {
    "duration": 25,
    "start_time": "2023-05-20T14:57:44.817Z"
   },
   {
    "duration": 23,
    "start_time": "2023-05-20T14:57:45.872Z"
   },
   {
    "duration": 5613,
    "start_time": "2023-05-20T14:57:46.906Z"
   },
   {
    "duration": 33,
    "start_time": "2023-05-20T14:57:52.521Z"
   },
   {
    "duration": 1479,
    "start_time": "2023-05-20T14:57:52.556Z"
   },
   {
    "duration": 3,
    "start_time": "2023-05-20T14:58:02.699Z"
   },
   {
    "duration": 58,
    "start_time": "2023-05-20T14:58:03.263Z"
   },
   {
    "duration": 773,
    "start_time": "2023-05-20T14:58:05.429Z"
   },
   {
    "duration": 1355,
    "start_time": "2023-05-20T14:58:14.412Z"
   },
   {
    "duration": 14,
    "start_time": "2023-05-20T14:58:25.472Z"
   },
   {
    "duration": 1182,
    "start_time": "2023-05-20T14:58:33.067Z"
   },
   {
    "duration": 12,
    "start_time": "2023-05-20T14:59:16.251Z"
   },
   {
    "duration": 5,
    "start_time": "2023-05-20T14:59:16.869Z"
   },
   {
    "duration": 4,
    "start_time": "2023-05-20T14:59:35.052Z"
   },
   {
    "duration": 14,
    "start_time": "2023-05-20T14:59:35.956Z"
   },
   {
    "duration": 39,
    "start_time": "2023-05-20T14:59:36.668Z"
   },
   {
    "duration": 728,
    "start_time": "2023-05-20T14:59:40.148Z"
   },
   {
    "duration": 22,
    "start_time": "2023-05-20T14:59:40.880Z"
   },
   {
    "duration": 16,
    "start_time": "2023-05-20T14:59:49.949Z"
   },
   {
    "duration": 6,
    "start_time": "2023-05-20T15:11:03.165Z"
   },
   {
    "duration": 158936,
    "start_time": "2023-05-20T15:11:40.229Z"
   },
   {
    "duration": 22,
    "start_time": "2023-05-20T15:34:51.345Z"
   },
   {
    "duration": 6,
    "start_time": "2023-05-20T15:35:13.582Z"
   },
   {
    "duration": 7,
    "start_time": "2023-05-20T15:36:01.809Z"
   },
   {
    "duration": 785,
    "start_time": "2023-05-20T15:36:31.314Z"
   },
   {
    "duration": 6,
    "start_time": "2023-05-20T15:38:49.849Z"
   },
   {
    "duration": 6,
    "start_time": "2023-05-20T15:39:03.389Z"
   },
   {
    "duration": 82064,
    "start_time": "2023-05-20T15:39:03.957Z"
   },
   {
    "duration": 6,
    "start_time": "2023-05-20T15:40:38.403Z"
   },
   {
    "duration": 75824,
    "start_time": "2023-05-20T15:40:39.396Z"
   },
   {
    "duration": 11,
    "start_time": "2023-05-20T15:47:11.720Z"
   },
   {
    "duration": 209973,
    "start_time": "2023-05-20T15:47:16.648Z"
   },
   {
    "duration": 6,
    "start_time": "2023-05-20T17:01:14.979Z"
   },
   {
    "duration": 845238,
    "start_time": "2023-05-20T17:01:16.089Z"
   },
   {
    "duration": 6,
    "start_time": "2023-05-20T17:19:58.803Z"
   },
   {
    "duration": 9,
    "start_time": "2023-05-20T17:19:59.264Z"
   },
   {
    "duration": 20,
    "start_time": "2023-05-20T17:22:02.175Z"
   },
   {
    "duration": 158889,
    "start_time": "2023-05-20T17:22:08.456Z"
   },
   {
    "duration": 3,
    "start_time": "2023-05-20T17:25:48.877Z"
   },
   {
    "duration": 5,
    "start_time": "2023-05-20T17:27:16.001Z"
   },
   {
    "duration": 5,
    "start_time": "2023-05-20T17:27:46.356Z"
   },
   {
    "duration": 10,
    "start_time": "2023-05-20T17:29:41.468Z"
   },
   {
    "duration": 4,
    "start_time": "2023-05-20T17:29:55.717Z"
   },
   {
    "duration": 4,
    "start_time": "2023-05-20T17:30:02.122Z"
   },
   {
    "duration": 8,
    "start_time": "2023-05-20T17:30:21.123Z"
   },
   {
    "duration": 4,
    "start_time": "2023-05-20T17:31:14.300Z"
   },
   {
    "duration": 10,
    "start_time": "2023-05-20T17:33:50.676Z"
   },
   {
    "duration": 9,
    "start_time": "2023-05-20T17:34:18.656Z"
   },
   {
    "duration": 4,
    "start_time": "2023-05-20T17:34:29.956Z"
   },
   {
    "duration": 4,
    "start_time": "2023-05-20T17:34:46.197Z"
   },
   {
    "duration": 5,
    "start_time": "2023-05-20T17:34:49.577Z"
   },
   {
    "duration": 5,
    "start_time": "2023-05-20T17:34:53.380Z"
   },
   {
    "duration": 3,
    "start_time": "2023-05-20T17:35:12.353Z"
   },
   {
    "duration": 5,
    "start_time": "2023-05-20T17:35:26.272Z"
   },
   {
    "duration": 5,
    "start_time": "2023-05-20T17:36:09.704Z"
   },
   {
    "duration": 3,
    "start_time": "2023-05-20T17:37:56.802Z"
   },
   {
    "duration": 7944,
    "start_time": "2023-05-20T17:42:25.312Z"
   },
   {
    "duration": 7,
    "start_time": "2023-05-20T17:42:33.564Z"
   },
   {
    "duration": 948373,
    "start_time": "2023-05-20T17:42:34.069Z"
   },
   {
    "duration": 7,
    "start_time": "2023-05-20T17:58:43.368Z"
   },
   {
    "duration": 1629162,
    "start_time": "2023-05-20T17:58:44.456Z"
   },
   {
    "duration": 10,
    "start_time": "2023-05-20T18:30:23.103Z"
   },
   {
    "duration": 710422,
    "start_time": "2023-05-20T18:30:25.099Z"
   },
   {
    "duration": 6,
    "start_time": "2023-05-20T18:49:19.302Z"
   },
   {
    "duration": 295556,
    "start_time": "2023-05-20T18:49:19.672Z"
   },
   {
    "duration": 3,
    "start_time": "2023-05-20T19:00:55.261Z"
   },
   {
    "duration": 731383,
    "start_time": "2023-05-20T19:00:55.668Z"
   },
   {
    "duration": 3,
    "start_time": "2023-05-20T19:13:09.266Z"
   },
   {
    "duration": 68646,
    "start_time": "2023-05-20T19:13:09.811Z"
   },
   {
    "duration": 3,
    "start_time": "2023-05-20T19:14:18.942Z"
   },
   {
    "duration": 389515,
    "start_time": "2023-05-20T19:14:19.848Z"
   },
   {
    "duration": 4,
    "start_time": "2023-05-20T19:28:41.191Z"
   },
   {
    "duration": 14,
    "start_time": "2023-05-20T19:28:42.164Z"
   },
   {
    "duration": 150271,
    "start_time": "2023-05-20T19:29:05.191Z"
   },
   {
    "duration": 4,
    "start_time": "2023-05-20T20:00:20.580Z"
   },
   {
    "duration": 572027,
    "start_time": "2023-05-20T20:00:20.876Z"
   },
   {
    "duration": 4,
    "start_time": "2023-05-20T20:11:53.513Z"
   },
   {
    "duration": 3,
    "start_time": "2023-05-20T20:12:12.556Z"
   },
   {
    "duration": 169739,
    "start_time": "2023-05-20T20:12:12.995Z"
   },
   {
    "duration": 10,
    "start_time": "2023-05-20T20:22:22.756Z"
   },
   {
    "duration": 4,
    "start_time": "2023-05-20T20:30:14.794Z"
   },
   {
    "duration": 1244689,
    "start_time": "2023-05-20T20:30:15.180Z"
   },
   {
    "duration": 14,
    "start_time": "2023-05-20T20:56:19.903Z"
   },
   {
    "duration": 2,
    "start_time": "2023-05-20T20:56:23.099Z"
   },
   {
    "duration": 180998,
    "start_time": "2023-05-20T20:56:23.469Z"
   },
   {
    "duration": 6593,
    "start_time": "2023-05-21T07:40:22.257Z"
   },
   {
    "duration": 1441,
    "start_time": "2023-05-21T07:40:28.853Z"
   },
   {
    "duration": 9,
    "start_time": "2023-05-21T07:40:30.296Z"
   },
   {
    "duration": 3284,
    "start_time": "2023-05-21T07:40:30.308Z"
   },
   {
    "duration": 3135,
    "start_time": "2023-05-21T07:40:33.594Z"
   },
   {
    "duration": 3,
    "start_time": "2023-05-21T07:40:36.731Z"
   },
   {
    "duration": 15,
    "start_time": "2023-05-21T07:40:36.735Z"
   },
   {
    "duration": 420,
    "start_time": "2023-05-21T07:40:36.751Z"
   },
   {
    "duration": 35,
    "start_time": "2023-05-21T07:40:37.172Z"
   },
   {
    "duration": 208,
    "start_time": "2023-05-21T07:40:37.210Z"
   },
   {
    "duration": 5,
    "start_time": "2023-05-21T07:40:37.419Z"
   },
   {
    "duration": 943,
    "start_time": "2023-05-21T07:40:37.426Z"
   },
   {
    "duration": 0,
    "start_time": "2023-05-21T07:40:38.375Z"
   },
   {
    "duration": 0,
    "start_time": "2023-05-21T07:40:38.376Z"
   },
   {
    "duration": 0,
    "start_time": "2023-05-21T07:40:38.377Z"
   },
   {
    "duration": 1,
    "start_time": "2023-05-21T07:40:38.378Z"
   },
   {
    "duration": 0,
    "start_time": "2023-05-21T07:40:38.380Z"
   },
   {
    "duration": 0,
    "start_time": "2023-05-21T07:40:38.381Z"
   },
   {
    "duration": 0,
    "start_time": "2023-05-21T07:40:38.382Z"
   },
   {
    "duration": 0,
    "start_time": "2023-05-21T07:40:38.384Z"
   },
   {
    "duration": 0,
    "start_time": "2023-05-21T07:40:38.385Z"
   },
   {
    "duration": 0,
    "start_time": "2023-05-21T07:40:38.386Z"
   },
   {
    "duration": 0,
    "start_time": "2023-05-21T07:40:38.387Z"
   },
   {
    "duration": 0,
    "start_time": "2023-05-21T07:40:38.389Z"
   },
   {
    "duration": 0,
    "start_time": "2023-05-21T07:40:38.390Z"
   },
   {
    "duration": 0,
    "start_time": "2023-05-21T07:40:38.390Z"
   },
   {
    "duration": 0,
    "start_time": "2023-05-21T07:40:38.391Z"
   },
   {
    "duration": 0,
    "start_time": "2023-05-21T07:40:38.392Z"
   },
   {
    "duration": 0,
    "start_time": "2023-05-21T07:40:38.393Z"
   },
   {
    "duration": 0,
    "start_time": "2023-05-21T07:40:38.394Z"
   },
   {
    "duration": 0,
    "start_time": "2023-05-21T07:40:38.396Z"
   },
   {
    "duration": 0,
    "start_time": "2023-05-21T07:40:38.396Z"
   },
   {
    "duration": 1,
    "start_time": "2023-05-21T07:40:38.397Z"
   },
   {
    "duration": 0,
    "start_time": "2023-05-21T07:40:38.399Z"
   },
   {
    "duration": 0,
    "start_time": "2023-05-21T07:40:38.400Z"
   },
   {
    "duration": 0,
    "start_time": "2023-05-21T07:40:38.401Z"
   },
   {
    "duration": 24,
    "start_time": "2023-05-21T07:45:25.662Z"
   },
   {
    "duration": 2098,
    "start_time": "2023-05-21T07:45:32.155Z"
   },
   {
    "duration": 1210,
    "start_time": "2023-05-21T07:45:34.256Z"
   },
   {
    "duration": 8,
    "start_time": "2023-05-21T07:45:35.468Z"
   },
   {
    "duration": 770,
    "start_time": "2023-05-21T07:45:35.477Z"
   },
   {
    "duration": 3012,
    "start_time": "2023-05-21T07:45:36.249Z"
   },
   {
    "duration": 3,
    "start_time": "2023-05-21T07:45:39.263Z"
   },
   {
    "duration": 12,
    "start_time": "2023-05-21T07:45:39.275Z"
   },
   {
    "duration": 416,
    "start_time": "2023-05-21T07:45:39.288Z"
   },
   {
    "duration": 43,
    "start_time": "2023-05-21T07:45:39.705Z"
   },
   {
    "duration": 185,
    "start_time": "2023-05-21T07:45:39.750Z"
   },
   {
    "duration": 79,
    "start_time": "2023-05-21T07:45:39.937Z"
   },
   {
    "duration": 6604,
    "start_time": "2023-05-21T07:45:40.018Z"
   },
   {
    "duration": 32,
    "start_time": "2023-05-21T07:45:46.623Z"
   },
   {
    "duration": 6,
    "start_time": "2023-05-21T07:45:46.657Z"
   },
   {
    "duration": 31,
    "start_time": "2023-05-21T07:45:46.675Z"
   },
   {
    "duration": 21,
    "start_time": "2023-05-21T07:45:46.708Z"
   },
   {
    "duration": 23,
    "start_time": "2023-05-21T07:45:46.731Z"
   },
   {
    "duration": 23,
    "start_time": "2023-05-21T07:45:46.776Z"
   },
   {
    "duration": 23,
    "start_time": "2023-05-21T07:45:46.801Z"
   },
   {
    "duration": 5610,
    "start_time": "2023-05-21T07:45:46.825Z"
   },
   {
    "duration": 39,
    "start_time": "2023-05-21T07:45:52.436Z"
   },
   {
    "duration": 3,
    "start_time": "2023-05-21T07:45:52.477Z"
   },
   {
    "duration": 826,
    "start_time": "2023-05-21T07:45:52.482Z"
   },
   {
    "duration": 18,
    "start_time": "2023-05-21T07:45:53.310Z"
   },
   {
    "duration": 18,
    "start_time": "2023-05-21T07:45:53.330Z"
   },
   {
    "duration": 4,
    "start_time": "2023-05-21T07:45:53.351Z"
   },
   {
    "duration": 13,
    "start_time": "2023-05-21T07:45:53.374Z"
   },
   {
    "duration": 53,
    "start_time": "2023-05-21T07:45:53.389Z"
   },
   {
    "duration": 933,
    "start_time": "2023-05-21T07:45:53.444Z"
   },
   {
    "duration": 7,
    "start_time": "2023-05-21T07:45:54.379Z"
   },
   {
    "duration": 121,
    "start_time": "2023-05-21T07:45:54.387Z"
   },
   {
    "duration": 0,
    "start_time": "2023-05-21T07:45:54.510Z"
   },
   {
    "duration": 0,
    "start_time": "2023-05-21T07:45:54.511Z"
   },
   {
    "duration": 0,
    "start_time": "2023-05-21T07:45:54.512Z"
   },
   {
    "duration": 0,
    "start_time": "2023-05-21T07:45:54.513Z"
   },
   {
    "duration": 0,
    "start_time": "2023-05-21T07:45:54.514Z"
   },
   {
    "duration": 11,
    "start_time": "2023-05-21T07:50:08.770Z"
   },
   {
    "duration": 2100,
    "start_time": "2023-05-21T07:50:13.562Z"
   },
   {
    "duration": 1266,
    "start_time": "2023-05-21T07:50:15.664Z"
   },
   {
    "duration": 0,
    "start_time": "2023-05-21T07:50:16.932Z"
   },
   {
    "duration": 0,
    "start_time": "2023-05-21T07:50:16.933Z"
   },
   {
    "duration": 0,
    "start_time": "2023-05-21T07:50:16.934Z"
   },
   {
    "duration": 0,
    "start_time": "2023-05-21T07:50:16.936Z"
   },
   {
    "duration": 0,
    "start_time": "2023-05-21T07:50:16.937Z"
   },
   {
    "duration": 0,
    "start_time": "2023-05-21T07:50:16.938Z"
   },
   {
    "duration": 0,
    "start_time": "2023-05-21T07:50:16.939Z"
   },
   {
    "duration": 0,
    "start_time": "2023-05-21T07:50:16.940Z"
   },
   {
    "duration": 0,
    "start_time": "2023-05-21T07:50:16.940Z"
   },
   {
    "duration": 0,
    "start_time": "2023-05-21T07:50:16.942Z"
   },
   {
    "duration": 0,
    "start_time": "2023-05-21T07:50:16.943Z"
   },
   {
    "duration": 0,
    "start_time": "2023-05-21T07:50:16.944Z"
   },
   {
    "duration": 0,
    "start_time": "2023-05-21T07:50:16.945Z"
   },
   {
    "duration": 0,
    "start_time": "2023-05-21T07:50:16.946Z"
   },
   {
    "duration": 0,
    "start_time": "2023-05-21T07:50:16.947Z"
   },
   {
    "duration": 0,
    "start_time": "2023-05-21T07:50:16.975Z"
   },
   {
    "duration": 0,
    "start_time": "2023-05-21T07:50:16.976Z"
   },
   {
    "duration": 0,
    "start_time": "2023-05-21T07:50:16.977Z"
   },
   {
    "duration": 0,
    "start_time": "2023-05-21T07:50:16.977Z"
   },
   {
    "duration": 1,
    "start_time": "2023-05-21T07:50:16.978Z"
   },
   {
    "duration": 0,
    "start_time": "2023-05-21T07:50:16.980Z"
   },
   {
    "duration": 0,
    "start_time": "2023-05-21T07:50:16.980Z"
   },
   {
    "duration": 0,
    "start_time": "2023-05-21T07:50:16.981Z"
   },
   {
    "duration": 0,
    "start_time": "2023-05-21T07:50:16.982Z"
   },
   {
    "duration": 0,
    "start_time": "2023-05-21T07:50:16.983Z"
   },
   {
    "duration": 0,
    "start_time": "2023-05-21T07:50:16.985Z"
   },
   {
    "duration": 0,
    "start_time": "2023-05-21T07:50:16.986Z"
   },
   {
    "duration": 0,
    "start_time": "2023-05-21T07:50:16.987Z"
   },
   {
    "duration": 0,
    "start_time": "2023-05-21T07:50:16.988Z"
   },
   {
    "duration": 0,
    "start_time": "2023-05-21T07:50:16.990Z"
   },
   {
    "duration": 0,
    "start_time": "2023-05-21T07:50:16.991Z"
   },
   {
    "duration": 0,
    "start_time": "2023-05-21T07:50:16.992Z"
   },
   {
    "duration": 0,
    "start_time": "2023-05-21T07:50:16.994Z"
   },
   {
    "duration": 0,
    "start_time": "2023-05-21T07:50:16.995Z"
   },
   {
    "duration": 56,
    "start_time": "2023-05-21T07:53:23.201Z"
   },
   {
    "duration": 2120,
    "start_time": "2023-05-21T07:53:29.172Z"
   },
   {
    "duration": 1194,
    "start_time": "2023-05-21T07:53:31.295Z"
   },
   {
    "duration": 9,
    "start_time": "2023-05-21T07:53:32.491Z"
   },
   {
    "duration": 762,
    "start_time": "2023-05-21T07:53:32.501Z"
   },
   {
    "duration": 3146,
    "start_time": "2023-05-21T07:53:33.265Z"
   },
   {
    "duration": 3,
    "start_time": "2023-05-21T07:53:36.413Z"
   },
   {
    "duration": 22,
    "start_time": "2023-05-21T07:53:36.417Z"
   },
   {
    "duration": 435,
    "start_time": "2023-05-21T07:53:36.440Z"
   },
   {
    "duration": 34,
    "start_time": "2023-05-21T07:53:36.876Z"
   },
   {
    "duration": 207,
    "start_time": "2023-05-21T07:53:36.912Z"
   },
   {
    "duration": 77,
    "start_time": "2023-05-21T07:53:37.120Z"
   },
   {
    "duration": 6317,
    "start_time": "2023-05-21T07:53:37.198Z"
   },
   {
    "duration": 35,
    "start_time": "2023-05-21T07:53:43.517Z"
   },
   {
    "duration": 21,
    "start_time": "2023-05-21T07:53:43.555Z"
   },
   {
    "duration": 31,
    "start_time": "2023-05-21T07:53:43.577Z"
   },
   {
    "duration": 23,
    "start_time": "2023-05-21T07:53:43.610Z"
   },
   {
    "duration": 54,
    "start_time": "2023-05-21T07:53:43.635Z"
   },
   {
    "duration": 25,
    "start_time": "2023-05-21T07:53:43.691Z"
   },
   {
    "duration": 24,
    "start_time": "2023-05-21T07:53:43.718Z"
   },
   {
    "duration": 5924,
    "start_time": "2023-05-21T07:53:43.743Z"
   },
   {
    "duration": 35,
    "start_time": "2023-05-21T07:53:49.669Z"
   },
   {
    "duration": 3,
    "start_time": "2023-05-21T07:53:49.706Z"
   },
   {
    "duration": 881,
    "start_time": "2023-05-21T07:53:49.711Z"
   },
   {
    "duration": 15,
    "start_time": "2023-05-21T07:53:50.594Z"
   },
   {
    "duration": 22,
    "start_time": "2023-05-21T07:53:50.611Z"
   },
   {
    "duration": 10,
    "start_time": "2023-05-21T07:53:50.635Z"
   },
   {
    "duration": 19,
    "start_time": "2023-05-21T07:53:50.647Z"
   },
   {
    "duration": 52,
    "start_time": "2023-05-21T07:53:50.675Z"
   },
   {
    "duration": 798,
    "start_time": "2023-05-21T07:53:50.729Z"
   },
   {
    "duration": 7,
    "start_time": "2023-05-21T07:53:51.528Z"
   },
   {
    "duration": 147438,
    "start_time": "2023-05-21T07:53:51.536Z"
   },
   {
    "duration": 6,
    "start_time": "2023-05-21T07:56:18.976Z"
   },
   {
    "duration": 87801,
    "start_time": "2023-05-21T07:56:18.984Z"
   },
   {
    "duration": 2,
    "start_time": "2023-05-21T07:57:46.787Z"
   },
   {
    "duration": 144766,
    "start_time": "2023-05-21T07:57:46.791Z"
   },
   {
    "duration": 114,
    "start_time": "2023-05-21T08:00:11.558Z"
   },
   {
    "duration": 13,
    "start_time": "2023-05-21T08:07:48.174Z"
   },
   {
    "duration": 3,
    "start_time": "2023-05-21T08:07:51.886Z"
   },
   {
    "duration": 152518,
    "start_time": "2023-05-21T08:07:52.310Z"
   },
   {
    "duration": 3,
    "start_time": "2023-05-21T08:22:42.083Z"
   },
   {
    "duration": 7,
    "start_time": "2023-05-21T08:29:40.783Z"
   },
   {
    "duration": 4,
    "start_time": "2023-05-21T08:30:03.415Z"
   },
   {
    "duration": 10,
    "start_time": "2023-05-21T08:30:08.061Z"
   },
   {
    "duration": 4,
    "start_time": "2023-05-21T08:30:15.666Z"
   },
   {
    "duration": 4,
    "start_time": "2023-05-21T08:30:18.654Z"
   },
   {
    "duration": 4,
    "start_time": "2023-05-21T08:45:43.862Z"
   },
   {
    "duration": 5,
    "start_time": "2023-05-21T08:51:26.795Z"
   },
   {
    "duration": 11,
    "start_time": "2023-05-21T08:51:27.854Z"
   },
   {
    "duration": 11,
    "start_time": "2023-05-21T08:52:01.854Z"
   },
   {
    "duration": 714,
    "start_time": "2023-05-21T08:53:15.988Z"
   },
   {
    "duration": 150,
    "start_time": "2023-05-21T08:58:26.121Z"
   },
   {
    "duration": 5,
    "start_time": "2023-05-21T08:58:47.658Z"
   },
   {
    "duration": 196917,
    "start_time": "2023-05-21T08:58:50.478Z"
   },
   {
    "duration": 5,
    "start_time": "2023-05-21T09:04:03.624Z"
   },
   {
    "duration": 26579,
    "start_time": "2023-05-21T09:04:04.477Z"
   },
   {
    "duration": 38278,
    "start_time": "2023-05-21T09:06:30.010Z"
   },
   {
    "duration": 732915,
    "start_time": "2023-05-21T09:08:59.914Z"
   },
   {
    "duration": 7,
    "start_time": "2023-05-21T09:27:56.710Z"
   },
   {
    "duration": 1749030,
    "start_time": "2023-05-21T09:27:57.962Z"
   },
   {
    "duration": 5,
    "start_time": "2023-05-21T09:57:12.510Z"
   },
   {
    "duration": 1538964,
    "start_time": "2023-05-21T09:57:13.845Z"
   },
   {
    "duration": 185423,
    "start_time": "2023-05-21T10:33:54.162Z"
   },
   {
    "duration": 0,
    "start_time": "2023-05-21T10:36:59.587Z"
   },
   {
    "duration": 204343,
    "start_time": "2023-05-21T10:37:14.503Z"
   },
   {
    "duration": 133521,
    "start_time": "2023-05-21T10:40:41.266Z"
   },
   {
    "duration": 27669,
    "start_time": "2023-05-21T10:44:47.472Z"
   },
   {
    "duration": 2697,
    "start_time": "2023-05-21T10:45:23.704Z"
   },
   {
    "duration": 4,
    "start_time": "2023-05-21T10:48:54.317Z"
   },
   {
    "duration": 55,
    "start_time": "2023-05-21T10:49:02.362Z"
   },
   {
    "duration": 4,
    "start_time": "2023-05-21T10:50:31.861Z"
   },
   {
    "duration": 8,
    "start_time": "2023-05-21T10:50:32.779Z"
   },
   {
    "duration": 58,
    "start_time": "2023-05-21T10:52:22.190Z"
   },
   {
    "duration": 17,
    "start_time": "2023-05-21T10:53:44.112Z"
   },
   {
    "duration": 28,
    "start_time": "2023-05-21T12:50:21.068Z"
   },
   {
    "duration": 17,
    "start_time": "2023-05-21T12:50:31.989Z"
   },
   {
    "duration": 19,
    "start_time": "2023-05-21T12:50:57.418Z"
   },
   {
    "duration": 15,
    "start_time": "2023-05-21T12:51:04.763Z"
   },
   {
    "duration": 2797,
    "start_time": "2023-05-21T12:59:18.379Z"
   },
   {
    "duration": 1916,
    "start_time": "2023-05-21T13:14:03.797Z"
   },
   {
    "duration": 8,
    "start_time": "2023-05-21T13:14:05.715Z"
   },
   {
    "duration": 2900,
    "start_time": "2023-05-21T13:14:05.725Z"
   },
   {
    "duration": 3117,
    "start_time": "2023-05-21T13:14:08.627Z"
   },
   {
    "duration": 4,
    "start_time": "2023-05-21T13:14:11.746Z"
   },
   {
    "duration": 14,
    "start_time": "2023-05-21T13:14:11.751Z"
   },
   {
    "duration": 483,
    "start_time": "2023-05-21T13:14:11.775Z"
   },
   {
    "duration": 46,
    "start_time": "2023-05-21T13:14:12.260Z"
   },
   {
    "duration": 196,
    "start_time": "2023-05-21T13:14:12.308Z"
   },
   {
    "duration": 5,
    "start_time": "2023-05-21T13:14:12.583Z"
   },
   {
    "duration": 6709,
    "start_time": "2023-05-21T13:14:12.589Z"
   },
   {
    "duration": 33,
    "start_time": "2023-05-21T13:14:19.300Z"
   },
   {
    "duration": 6,
    "start_time": "2023-05-21T13:14:19.335Z"
   },
   {
    "duration": 51,
    "start_time": "2023-05-21T13:14:19.343Z"
   },
   {
    "duration": 24,
    "start_time": "2023-05-21T13:14:19.395Z"
   },
   {
    "duration": 25,
    "start_time": "2023-05-21T13:14:19.420Z"
   },
   {
    "duration": 42,
    "start_time": "2023-05-21T13:14:19.447Z"
   },
   {
    "duration": 25,
    "start_time": "2023-05-21T13:14:19.491Z"
   },
   {
    "duration": 5880,
    "start_time": "2023-05-21T13:14:19.518Z"
   },
   {
    "duration": 35,
    "start_time": "2023-05-21T13:14:25.400Z"
   },
   {
    "duration": 3,
    "start_time": "2023-05-21T13:14:25.437Z"
   },
   {
    "duration": 870,
    "start_time": "2023-05-21T13:14:25.442Z"
   },
   {
    "duration": 16,
    "start_time": "2023-05-21T13:14:26.314Z"
   },
   {
    "duration": 18,
    "start_time": "2023-05-21T13:14:26.331Z"
   },
   {
    "duration": 4,
    "start_time": "2023-05-21T13:14:26.351Z"
   },
   {
    "duration": 30,
    "start_time": "2023-05-21T13:14:26.357Z"
   },
   {
    "duration": 54,
    "start_time": "2023-05-21T13:14:26.389Z"
   },
   {
    "duration": 792,
    "start_time": "2023-05-21T13:14:26.446Z"
   },
   {
    "duration": 130,
    "start_time": "2023-05-21T13:14:27.240Z"
   },
   {
    "duration": 8,
    "start_time": "2023-05-21T13:14:27.374Z"
   },
   {
    "duration": 152587,
    "start_time": "2023-05-21T13:14:27.384Z"
   },
   {
    "duration": 6,
    "start_time": "2023-05-21T13:16:59.972Z"
   },
   {
    "duration": 81006,
    "start_time": "2023-05-21T13:16:59.979Z"
   },
   {
    "duration": 5,
    "start_time": "2023-05-21T13:18:20.986Z"
   },
   {
    "duration": 156020,
    "start_time": "2023-05-21T13:18:20.992Z"
   },
   {
    "duration": 17,
    "start_time": "2023-05-21T13:20:57.013Z"
   },
   {
    "duration": 597529,
    "start_time": "2023-05-21T13:20:57.031Z"
   },
   {
    "duration": 4,
    "start_time": "2023-05-21T13:30:54.561Z"
   },
   {
    "duration": 50,
    "start_time": "2023-05-21T13:30:54.567Z"
   },
   {
    "duration": 2457,
    "start_time": "2023-05-21T13:30:54.619Z"
   },
   {
    "duration": 1196,
    "start_time": "2023-05-22T05:15:49.603Z"
   },
   {
    "duration": 8,
    "start_time": "2023-05-22T05:15:50.801Z"
   },
   {
    "duration": 777,
    "start_time": "2023-05-22T05:15:50.810Z"
   },
   {
    "duration": 2903,
    "start_time": "2023-05-22T05:15:51.588Z"
   },
   {
    "duration": 4,
    "start_time": "2023-05-22T05:15:54.497Z"
   },
   {
    "duration": 22,
    "start_time": "2023-05-22T05:15:54.503Z"
   },
   {
    "duration": 407,
    "start_time": "2023-05-22T05:15:54.526Z"
   },
   {
    "duration": 35,
    "start_time": "2023-05-22T05:15:54.936Z"
   },
   {
    "duration": 200,
    "start_time": "2023-05-22T05:15:54.973Z"
   },
   {
    "duration": 6,
    "start_time": "2023-05-22T05:15:55.174Z"
   },
   {
    "duration": 6342,
    "start_time": "2023-05-22T05:15:55.181Z"
   },
   {
    "duration": 32,
    "start_time": "2023-05-22T05:16:01.524Z"
   },
   {
    "duration": 6,
    "start_time": "2023-05-22T05:16:01.558Z"
   },
   {
    "duration": 55,
    "start_time": "2023-05-22T05:16:01.566Z"
   },
   {
    "duration": 43,
    "start_time": "2023-05-22T05:16:01.623Z"
   },
   {
    "duration": 28,
    "start_time": "2023-05-22T05:16:01.667Z"
   },
   {
    "duration": 26,
    "start_time": "2023-05-22T05:16:01.697Z"
   },
   {
    "duration": 25,
    "start_time": "2023-05-22T05:16:01.725Z"
   },
   {
    "duration": 5670,
    "start_time": "2023-05-22T05:16:01.751Z"
   },
   {
    "duration": 33,
    "start_time": "2023-05-22T05:16:07.423Z"
   },
   {
    "duration": 25,
    "start_time": "2023-05-22T05:16:07.457Z"
   },
   {
    "duration": 898,
    "start_time": "2023-05-22T05:16:07.483Z"
   },
   {
    "duration": 18,
    "start_time": "2023-05-22T05:16:08.383Z"
   },
   {
    "duration": 46,
    "start_time": "2023-05-22T05:16:08.403Z"
   },
   {
    "duration": 9,
    "start_time": "2023-05-22T05:16:08.451Z"
   },
   {
    "duration": 44,
    "start_time": "2023-05-22T05:16:08.461Z"
   },
   {
    "duration": 75,
    "start_time": "2023-05-22T05:16:08.507Z"
   },
   {
    "duration": 735,
    "start_time": "2023-05-22T05:16:08.584Z"
   },
   {
    "duration": 125,
    "start_time": "2023-05-22T05:16:09.321Z"
   },
   {
    "duration": 6,
    "start_time": "2023-05-22T05:16:09.448Z"
   },
   {
    "duration": 152064,
    "start_time": "2023-05-22T05:16:09.455Z"
   },
   {
    "duration": 6,
    "start_time": "2023-05-22T05:18:41.520Z"
   },
   {
    "duration": 74980,
    "start_time": "2023-05-22T05:18:41.527Z"
   },
   {
    "duration": 4,
    "start_time": "2023-05-22T05:19:56.509Z"
   },
   {
    "duration": 172324,
    "start_time": "2023-05-22T05:19:56.515Z"
   },
   {
    "duration": 11,
    "start_time": "2023-05-22T05:22:48.841Z"
   },
   {
    "duration": 669109,
    "start_time": "2023-05-22T05:22:48.854Z"
   },
   {
    "duration": 5,
    "start_time": "2023-05-22T05:33:57.965Z"
   },
   {
    "duration": 69,
    "start_time": "2023-05-22T05:33:57.972Z"
   },
   {
    "duration": 2769,
    "start_time": "2023-05-22T05:33:58.043Z"
   }
  ],
  "kernelspec": {
   "display_name": "Python 3 (ipykernel)",
   "language": "python",
   "name": "python3"
  },
  "language_info": {
   "codemirror_mode": {
    "name": "ipython",
    "version": 3
   },
   "file_extension": ".py",
   "mimetype": "text/x-python",
   "name": "python",
   "nbconvert_exporter": "python",
   "pygments_lexer": "ipython3",
   "version": "3.9.13"
  },
  "toc": {
   "base_numbering": 1,
   "nav_menu": {},
   "number_sections": true,
   "sideBar": true,
   "skip_h1_title": true,
   "title_cell": "Table of Contents",
   "title_sidebar": "Contents",
   "toc_cell": false,
   "toc_position": {
    "height": "calc(100% - 180px)",
    "left": "10px",
    "top": "150px",
    "width": "351.391px"
   },
   "toc_section_display": true,
   "toc_window_display": true
  }
 },
 "nbformat": 4,
 "nbformat_minor": 2
}
