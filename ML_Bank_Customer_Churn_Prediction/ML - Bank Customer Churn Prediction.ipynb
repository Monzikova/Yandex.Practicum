{
 "cells": [
  {
   "cell_type": "markdown",
   "metadata": {
    "toc": true
   },
   "source": [
    "<h1>Содержание<span class=\"tocSkip\"></span></h1>\n",
    "<div class=\"toc\"><ul class=\"toc-item\"><li><span><a href=\"#Подготовка-данных\" data-toc-modified-id=\"Подготовка-данных-1\"><span class=\"toc-item-num\">1&nbsp;&nbsp;</span>Подготовка данных</a></span></li><li><span><a href=\"#Исследование-задачи\" data-toc-modified-id=\"Исследование-задачи-2\"><span class=\"toc-item-num\">2&nbsp;&nbsp;</span>Исследование задачи</a></span><ul class=\"toc-item\"><li><span><a href=\"#Исследование-баланса-классов\" data-toc-modified-id=\"Исследование-баланса-классов-2.1\"><span class=\"toc-item-num\">2.1&nbsp;&nbsp;</span>Исследование баланса классов</a></span></li><li><span><a href=\"#Исследование-моделей-без-учета-дисбаланса\" data-toc-modified-id=\"Исследование-моделей-без-учета-дисбаланса-2.2\"><span class=\"toc-item-num\">2.2&nbsp;&nbsp;</span>Исследование моделей без учета дисбаланса</a></span><ul class=\"toc-item\"><li><span><a href=\"#Подготовка-данных-для-обучения\" data-toc-modified-id=\"Подготовка-данных-для-обучения-2.2.1\"><span class=\"toc-item-num\">2.2.1&nbsp;&nbsp;</span>Подготовка данных для обучения</a></span></li><li><span><a href=\"#Константная-модель\" data-toc-modified-id=\"Константная-модель-2.2.2\"><span class=\"toc-item-num\">2.2.2&nbsp;&nbsp;</span>Константная модель</a></span></li></ul></li><li><span><a href=\"#Перебор-моделей-и-гиперпараметров\" data-toc-modified-id=\"Перебор-моделей-и-гиперпараметров-2.3\"><span class=\"toc-item-num\">2.3&nbsp;&nbsp;</span>Перебор моделей и гиперпараметров</a></span><ul class=\"toc-item\"><li><span><a href=\"#Модель-решающего-дерева\" data-toc-modified-id=\"Модель-решающего-дерева-2.3.1\"><span class=\"toc-item-num\">2.3.1&nbsp;&nbsp;</span>Модель решающего дерева</a></span></li><li><span><a href=\"#Модель-случайного-леса\" data-toc-modified-id=\"Модель-случайного-леса-2.3.2\"><span class=\"toc-item-num\">2.3.2&nbsp;&nbsp;</span>Модель случайного леса</a></span></li><li><span><a href=\"#Модель-логистической-регрессии\" data-toc-modified-id=\"Модель-логистической-регрессии-2.3.3\"><span class=\"toc-item-num\">2.3.3&nbsp;&nbsp;</span>Модель логистической регрессии</a></span></li></ul></li><li><span><a href=\"#Вывод-по-разделу\" data-toc-modified-id=\"Вывод-по-разделу-2.4\"><span class=\"toc-item-num\">2.4&nbsp;&nbsp;</span>Вывод по разделу</a></span></li></ul></li><li><span><a href=\"#Борьба-с-дисбалансом\" data-toc-modified-id=\"Борьба-с-дисбалансом-3\"><span class=\"toc-item-num\">3&nbsp;&nbsp;</span>Борьба с дисбалансом</a></span><ul class=\"toc-item\"><li><span><a href=\"#Обучение-модели-со-взвешиванием-классов\" data-toc-modified-id=\"Обучение-модели-со-взвешиванием-классов-3.1\"><span class=\"toc-item-num\">3.1&nbsp;&nbsp;</span>Обучение модели со взвешиванием классов</a></span></li><li><span><a href=\"#Upsampling\" data-toc-modified-id=\"Upsampling-3.2\"><span class=\"toc-item-num\">3.2&nbsp;&nbsp;</span>Upsampling</a></span></li><li><span><a href=\"#Downsampling\" data-toc-modified-id=\"Downsampling-3.3\"><span class=\"toc-item-num\">3.3&nbsp;&nbsp;</span>Downsampling</a></span></li><li><span><a href=\"#Выбор-модели\" data-toc-modified-id=\"Выбор-модели-3.4\"><span class=\"toc-item-num\">3.4&nbsp;&nbsp;</span>Выбор модели</a></span></li><li><span><a href=\"#Вывод-по-разделу\" data-toc-modified-id=\"Вывод-по-разделу-3.5\"><span class=\"toc-item-num\">3.5&nbsp;&nbsp;</span>Вывод по разделу</a></span></li></ul></li><li><span><a href=\"#Тестирование-модели\" data-toc-modified-id=\"Тестирование-модели-4\"><span class=\"toc-item-num\">4&nbsp;&nbsp;</span>Тестирование модели</a></span><ul class=\"toc-item\"><li><span><a href=\"#Проверка-метрики-AUC-ROC\" data-toc-modified-id=\"Проверка-метрики-AUC-ROC-4.1\"><span class=\"toc-item-num\">4.1&nbsp;&nbsp;</span>Проверка метрики AUC-ROC</a></span></li></ul></li><li><span><a href=\"#Вывод\" data-toc-modified-id=\"Вывод-5\"><span class=\"toc-item-num\">5&nbsp;&nbsp;</span>Вывод</a></span></li><li><span><a href=\"#Чек-лист-готовности-проекта\" data-toc-modified-id=\"Чек-лист-готовности-проекта-6\"><span class=\"toc-item-num\">6&nbsp;&nbsp;</span>Чек-лист готовности проекта</a></span></li></ul></div>"
   ]
  },
  {
   "cell_type": "markdown",
   "metadata": {},
   "source": [
    "# Отток клиентов"
   ]
  },
  {
   "cell_type": "markdown",
   "metadata": {},
   "source": [
    "Из «Бета-Банка» стали уходить клиенты. Каждый месяц. Немного, но заметно. Банковские маркетологи посчитали: сохранять текущих клиентов дешевле, чем привлекать новых.\n",
    "\n",
    "Нужно спрогнозировать, уйдёт клиент из банка в ближайшее время или нет. Вам предоставлены исторические данные о поведении клиентов и расторжении договоров с банком. \n",
    "\n",
    "Постройте модель с предельно большим значением *F1*-меры. Чтобы сдать проект успешно, нужно довести метрику до 0.59. Проверьте *F1*-меру на тестовой выборке самостоятельно.\n",
    "\n",
    "Дополнительно измеряйте *AUC-ROC*, сравнивайте её значение с *F1*-мерой.\n",
    "\n",
    "Источник данных: [https://www.kaggle.com/barelydedicated/bank-customer-churn-modeling](https://www.kaggle.com/barelydedicated/bank-customer-churn-modeling)"
   ]
  },
  {
   "cell_type": "markdown",
   "metadata": {},
   "source": [
    "**Признаки**\n",
    "\n",
    "RowNumber — индекс строки в данных\n",
    "\n",
    "CustomerId — уникальный идентификатор клиента\n",
    "\n",
    "Surname — фамилия\n",
    "\n",
    "CreditScore — кредитный рейтинг\n",
    "\n",
    "Geography — страна проживания\n",
    "\n",
    "Gender — пол\n",
    "\n",
    "Age — возраст\n",
    "\n",
    "Tenure — сколько лет человек является клиентом банка\n",
    "\n",
    "Balance — баланс на счёте\n",
    "\n",
    "NumOfProducts — количество продуктов банка, используемых клиентом\n",
    "\n",
    "HasCrCard — наличие кредитной карты\n",
    "\n",
    "IsActiveMember — активность клиента\n",
    "\n",
    "EstimatedSalary — предполагаемая зарплата\n",
    "\n",
    "**Целевой признак**\n",
    "\n",
    "Exited — факт ухода клиента"
   ]
  },
  {
   "cell_type": "markdown",
   "metadata": {},
   "source": [
    "# Выполнение проекта"
   ]
  },
  {
   "cell_type": "markdown",
   "metadata": {},
   "source": [
    "Для начала установим несколько дополнительных библиотек, необходимых для работы кода"
   ]
  },
  {
   "cell_type": "code",
   "execution_count": 1,
   "metadata": {},
   "outputs": [
    {
     "name": "stdout",
     "output_type": "stream",
     "text": [
      "Requirement already satisfied: scikit-learn==1.1.3 in /opt/conda/lib/python3.9/site-packages (1.1.3)\n",
      "Requirement already satisfied: joblib>=1.0.0 in /opt/conda/lib/python3.9/site-packages (from scikit-learn==1.1.3) (1.2.0)\n",
      "Requirement already satisfied: scipy>=1.3.2 in /opt/conda/lib/python3.9/site-packages (from scikit-learn==1.1.3) (1.9.1)\n",
      "Requirement already satisfied: threadpoolctl>=2.0.0 in /opt/conda/lib/python3.9/site-packages (from scikit-learn==1.1.3) (3.1.0)\n",
      "Requirement already satisfied: numpy>=1.17.3 in /opt/conda/lib/python3.9/site-packages (from scikit-learn==1.1.3) (1.21.1)\n"
     ]
    }
   ],
   "source": [
    "# установим последнюю версию scikit-learn, если она не установлена\n",
    "# теперь для OneHotEncoder работает одновремеено drop='first' и handle_unknown='ignore'\n",
    "!pip install scikit-learn==1.1.3"
   ]
  },
  {
   "cell_type": "code",
   "execution_count": 2,
   "metadata": {},
   "outputs": [
    {
     "name": "stdout",
     "output_type": "stream",
     "text": [
      "Requirement already satisfied: imblearn in /opt/conda/lib/python3.9/site-packages (0.0)\n",
      "Requirement already satisfied: imbalanced-learn in /opt/conda/lib/python3.9/site-packages (from imblearn) (0.10.1)\n",
      "Requirement already satisfied: joblib>=1.1.1 in /opt/conda/lib/python3.9/site-packages (from imbalanced-learn->imblearn) (1.2.0)\n",
      "Requirement already satisfied: threadpoolctl>=2.0.0 in /opt/conda/lib/python3.9/site-packages (from imbalanced-learn->imblearn) (3.1.0)\n",
      "Requirement already satisfied: scipy>=1.3.2 in /opt/conda/lib/python3.9/site-packages (from imbalanced-learn->imblearn) (1.9.1)\n",
      "Requirement already satisfied: scikit-learn>=1.0.2 in /opt/conda/lib/python3.9/site-packages (from imbalanced-learn->imblearn) (1.1.3)\n",
      "Requirement already satisfied: numpy>=1.17.3 in /opt/conda/lib/python3.9/site-packages (from imbalanced-learn->imblearn) (1.21.1)\n"
     ]
    }
   ],
   "source": [
    "# библиотека для upsampling и downsampling\n",
    "!pip install imblearn"
   ]
  },
  {
   "cell_type": "code",
   "execution_count": 3,
   "metadata": {},
   "outputs": [],
   "source": [
    "\n",
    "import warnings\n",
    "\n",
    "import numpy as np\n",
    "import pandas as pd\n",
    "from matplotlib import pyplot as plt\n",
    "from matplotlib import cm\n",
    "import seaborn as sns\n",
    "from scipy import stats as st\n",
    "import re\n",
    "\n",
    "from sklearn.utils import shuffle\n",
    "from sklearn.tree import DecisionTreeClassifier\n",
    "from sklearn.ensemble import RandomForestClassifier \n",
    "from sklearn.dummy import DummyClassifier\n",
    "from sklearn.linear_model import LogisticRegression\n",
    "from sklearn.pipeline import make_pipeline\n",
    "from sklearn.model_selection import (\n",
    "    GridSearchCV, \n",
    "    RandomizedSearchCV,\n",
    "    train_test_split\n",
    ")\n",
    "\n",
    "from sklearn.preprocessing import (\n",
    "    OneHotEncoder,\n",
    "    StandardScaler\n",
    ")\n",
    "\n",
    "from sklearn.metrics import (\n",
    "    accuracy_score,\n",
    "    confusion_matrix,                             \n",
    "    precision_score,\n",
    "    recall_score,\n",
    "    f1_score,\n",
    "    roc_auc_score,\n",
    "    roc_curve\n",
    ")\n",
    "\n",
    "\n",
    "from imblearn.pipeline import Pipeline\n",
    "from imblearn.over_sampling import SMOTE\n",
    "from imblearn.under_sampling import RandomUnderSampler\n",
    "\n",
    "# настройки\n",
    "warnings.filterwarnings(\"ignore\")\n",
    "\n"
   ]
  },
  {
   "cell_type": "code",
   "execution_count": 4,
   "metadata": {},
   "outputs": [],
   "source": [
    "# Зададим дефолтные размеры шрифта в картинках для проекта\n",
    "SMALL_SIZE = 15\n",
    "MEDIUM_SIZE = 20\n",
    "BIGGER_SIZE = 25\n",
    "\n",
    "plt.rc('font', size=SMALL_SIZE)          # controls default text sizes\n",
    "plt.rc('axes', titlesize=SMALL_SIZE)     # fontsize of the axes title\n",
    "plt.rc('axes', labelsize=MEDIUM_SIZE)    # fontsize of the x and y labels\n",
    "plt.rc('xtick', labelsize=SMALL_SIZE)    # fontsize of the tick labels\n",
    "plt.rc('ytick', labelsize=SMALL_SIZE)    # fontsize of the tick labels\n",
    "plt.rc('legend', fontsize=SMALL_SIZE)    # legend fontsize\n",
    "plt.rc('figure', titlesize=BIGGER_SIZE)  # fontsize of the figure title"
   ]
  },
  {
   "cell_type": "markdown",
   "metadata": {},
   "source": [
    "## Подготовка данных"
   ]
  },
  {
   "cell_type": "code",
   "execution_count": 5,
   "metadata": {},
   "outputs": [],
   "source": [
    "# Универсальная функция для исследования проблем датасета \n",
    "def explore_dataset(dataset):\n",
    "    from IPython.display import display\n",
    "    \n",
    "    print('Первые пять строк датасета:')\n",
    "    display(dataset.head(5))\n",
    "    \n",
    "    \n",
    "    print('')\n",
    "    print(f'Датасет имеет размер {dataset.shape[0]} строк и {dataset.shape[1]} столбцов.')\n",
    "    missing_columns = dataset.isna().any()[lambda x: x]\n",
    "    missing_values = dataset.isnull().sum()/len(dataset)\n",
    "    missing_values = missing_values[missing_columns.keys()].sort_values(ascending = False)\n",
    "    if len(missing_columns)>0:\n",
    "        print(f'Из них {len(dataset.isna().any()[lambda x: x])} столбцов имеют пропуски в данных.')\n",
    "        print(f'Это столбцы: ', ', '.join(dataset.isna().any()[lambda x: x].keys()))\n",
    "        print('')    \n",
    "        bars = missing_values.plot(kind = 'barh', figsize=(10,6))\n",
    "        plt.title('Процент пропущенных значений по столбцам')\n",
    "        for i, v in enumerate(missing_values):\n",
    "            plt.gca().text(v + 0.005, i - 0.1, '{:.2%}'.format(v), color='black')\n",
    "        plt.show()\n",
    "        plt.close()\n",
    "    else:\n",
    "        print('Пропусков в данных нет')\n",
    "        \n",
    "        \n",
    "    if len(dataset[dataset.duplicated()])>0:\n",
    "        print(f'В датасете содержится {len(dataset[dataset.duplicated()])} дубликатов')\n",
    "    else:\n",
    "        print('В данных не найдено полных дубликатов.')\n",
    "        \n",
    "        \n",
    "    print('')\n",
    "    print('Столбцы имеют следующие типы данных:')    \n",
    "    print(dataset.dtypes)\n",
    "    \n",
    "    \n",
    "    print('')\n",
    "    print('Общая статистика по количественным переменным:')    \n",
    "    display(dataset.describe())\n",
    "    print('')\n",
    "    print('Общая статистика по категориальным переменным:')    \n",
    "    display(dataset.describe(include=[\"object\", \"bool\"]))\n",
    "    \n",
    "    \n",
    "    print('')\n",
    "    print('Распределение и выбросы данных в количественных переменных:')    \n",
    "    dataset.plot.box(subplots=True, \n",
    "                     layout=(1,len(dataset.select_dtypes(exclude=['object','bool']).columns)), \n",
    "                     vert='False',\n",
    "                     figsize=(2.5*len(dataset.select_dtypes(exclude=['object','bool']).columns),8));\n",
    "    plt.show()\n",
    "    plt.close()\n",
    "    return"
   ]
  },
  {
   "cell_type": "code",
   "execution_count": 6,
   "metadata": {},
   "outputs": [],
   "source": [
    "# открываем файл\n",
    "data = pd.read_csv('/datasets/Churn.csv') "
   ]
  },
  {
   "cell_type": "code",
   "execution_count": 7,
   "metadata": {
    "scrolled": false
   },
   "outputs": [
    {
     "name": "stdout",
     "output_type": "stream",
     "text": [
      "Первые пять строк датасета:\n"
     ]
    },
    {
     "data": {
      "text/html": [
       "<div>\n",
       "<style scoped>\n",
       "    .dataframe tbody tr th:only-of-type {\n",
       "        vertical-align: middle;\n",
       "    }\n",
       "\n",
       "    .dataframe tbody tr th {\n",
       "        vertical-align: top;\n",
       "    }\n",
       "\n",
       "    .dataframe thead th {\n",
       "        text-align: right;\n",
       "    }\n",
       "</style>\n",
       "<table border=\"1\" class=\"dataframe\">\n",
       "  <thead>\n",
       "    <tr style=\"text-align: right;\">\n",
       "      <th></th>\n",
       "      <th>RowNumber</th>\n",
       "      <th>CustomerId</th>\n",
       "      <th>Surname</th>\n",
       "      <th>CreditScore</th>\n",
       "      <th>Geography</th>\n",
       "      <th>Gender</th>\n",
       "      <th>Age</th>\n",
       "      <th>Tenure</th>\n",
       "      <th>Balance</th>\n",
       "      <th>NumOfProducts</th>\n",
       "      <th>HasCrCard</th>\n",
       "      <th>IsActiveMember</th>\n",
       "      <th>EstimatedSalary</th>\n",
       "      <th>Exited</th>\n",
       "    </tr>\n",
       "  </thead>\n",
       "  <tbody>\n",
       "    <tr>\n",
       "      <th>0</th>\n",
       "      <td>1</td>\n",
       "      <td>15634602</td>\n",
       "      <td>Hargrave</td>\n",
       "      <td>619</td>\n",
       "      <td>France</td>\n",
       "      <td>Female</td>\n",
       "      <td>42</td>\n",
       "      <td>2.0</td>\n",
       "      <td>0.00</td>\n",
       "      <td>1</td>\n",
       "      <td>1</td>\n",
       "      <td>1</td>\n",
       "      <td>101348.88</td>\n",
       "      <td>1</td>\n",
       "    </tr>\n",
       "    <tr>\n",
       "      <th>1</th>\n",
       "      <td>2</td>\n",
       "      <td>15647311</td>\n",
       "      <td>Hill</td>\n",
       "      <td>608</td>\n",
       "      <td>Spain</td>\n",
       "      <td>Female</td>\n",
       "      <td>41</td>\n",
       "      <td>1.0</td>\n",
       "      <td>83807.86</td>\n",
       "      <td>1</td>\n",
       "      <td>0</td>\n",
       "      <td>1</td>\n",
       "      <td>112542.58</td>\n",
       "      <td>0</td>\n",
       "    </tr>\n",
       "    <tr>\n",
       "      <th>2</th>\n",
       "      <td>3</td>\n",
       "      <td>15619304</td>\n",
       "      <td>Onio</td>\n",
       "      <td>502</td>\n",
       "      <td>France</td>\n",
       "      <td>Female</td>\n",
       "      <td>42</td>\n",
       "      <td>8.0</td>\n",
       "      <td>159660.80</td>\n",
       "      <td>3</td>\n",
       "      <td>1</td>\n",
       "      <td>0</td>\n",
       "      <td>113931.57</td>\n",
       "      <td>1</td>\n",
       "    </tr>\n",
       "    <tr>\n",
       "      <th>3</th>\n",
       "      <td>4</td>\n",
       "      <td>15701354</td>\n",
       "      <td>Boni</td>\n",
       "      <td>699</td>\n",
       "      <td>France</td>\n",
       "      <td>Female</td>\n",
       "      <td>39</td>\n",
       "      <td>1.0</td>\n",
       "      <td>0.00</td>\n",
       "      <td>2</td>\n",
       "      <td>0</td>\n",
       "      <td>0</td>\n",
       "      <td>93826.63</td>\n",
       "      <td>0</td>\n",
       "    </tr>\n",
       "    <tr>\n",
       "      <th>4</th>\n",
       "      <td>5</td>\n",
       "      <td>15737888</td>\n",
       "      <td>Mitchell</td>\n",
       "      <td>850</td>\n",
       "      <td>Spain</td>\n",
       "      <td>Female</td>\n",
       "      <td>43</td>\n",
       "      <td>2.0</td>\n",
       "      <td>125510.82</td>\n",
       "      <td>1</td>\n",
       "      <td>1</td>\n",
       "      <td>1</td>\n",
       "      <td>79084.10</td>\n",
       "      <td>0</td>\n",
       "    </tr>\n",
       "  </tbody>\n",
       "</table>\n",
       "</div>"
      ],
      "text/plain": [
       "   RowNumber  CustomerId   Surname  CreditScore Geography  Gender  Age  \\\n",
       "0          1    15634602  Hargrave          619    France  Female   42   \n",
       "1          2    15647311      Hill          608     Spain  Female   41   \n",
       "2          3    15619304      Onio          502    France  Female   42   \n",
       "3          4    15701354      Boni          699    France  Female   39   \n",
       "4          5    15737888  Mitchell          850     Spain  Female   43   \n",
       "\n",
       "   Tenure    Balance  NumOfProducts  HasCrCard  IsActiveMember  \\\n",
       "0     2.0       0.00              1          1               1   \n",
       "1     1.0   83807.86              1          0               1   \n",
       "2     8.0  159660.80              3          1               0   \n",
       "3     1.0       0.00              2          0               0   \n",
       "4     2.0  125510.82              1          1               1   \n",
       "\n",
       "   EstimatedSalary  Exited  \n",
       "0        101348.88       1  \n",
       "1        112542.58       0  \n",
       "2        113931.57       1  \n",
       "3         93826.63       0  \n",
       "4         79084.10       0  "
      ]
     },
     "metadata": {},
     "output_type": "display_data"
    },
    {
     "name": "stdout",
     "output_type": "stream",
     "text": [
      "\n",
      "Датасет имеет размер 10000 строк и 14 столбцов.\n",
      "Из них 1 столбцов имеют пропуски в данных.\n",
      "Это столбцы:  Tenure\n",
      "\n"
     ]
    },
    {
     "data": {
      "image/png": "[encoded data removed]",
      "text/plain": [
       "<Figure size 720x432 with 1 Axes>"
      ]
     },
     "metadata": {
      "needs_background": "light"
     },
     "output_type": "display_data"
    },
    {
     "name": "stdout",
     "output_type": "stream",
     "text": [
      "В данных не найдено полных дубликатов.\n",
      "\n",
      "Столбцы имеют следующие типы данных:\n",
      "RowNumber            int64\n",
      "CustomerId           int64\n",
      "Surname             object\n",
      "CreditScore          int64\n",
      "Geography           object\n",
      "Gender              object\n",
      "Age                  int64\n",
      "Tenure             float64\n",
      "Balance            float64\n",
      "NumOfProducts        int64\n",
      "HasCrCard            int64\n",
      "IsActiveMember       int64\n",
      "EstimatedSalary    float64\n",
      "Exited               int64\n",
      "dtype: object\n",
      "\n",
      "Общая статистика по количественным переменным:\n"
     ]
    },
    {
     "data": {
      "text/html": [
       "<div>\n",
       "<style scoped>\n",
       "    .dataframe tbody tr th:only-of-type {\n",
       "        vertical-align: middle;\n",
       "    }\n",
       "\n",
       "    .dataframe tbody tr th {\n",
       "        vertical-align: top;\n",
       "    }\n",
       "\n",
       "    .dataframe thead th {\n",
       "        text-align: right;\n",
       "    }\n",
       "</style>\n",
       "<table border=\"1\" class=\"dataframe\">\n",
       "  <thead>\n",
       "    <tr style=\"text-align: right;\">\n",
       "      <th></th>\n",
       "      <th>RowNumber</th>\n",
       "      <th>CustomerId</th>\n",
       "      <th>CreditScore</th>\n",
       "      <th>Age</th>\n",
       "      <th>Tenure</th>\n",
       "      <th>Balance</th>\n",
       "      <th>NumOfProducts</th>\n",
       "      <th>HasCrCard</th>\n",
       "      <th>IsActiveMember</th>\n",
       "      <th>EstimatedSalary</th>\n",
       "      <th>Exited</th>\n",
       "    </tr>\n",
       "  </thead>\n",
       "  <tbody>\n",
       "    <tr>\n",
       "      <th>count</th>\n",
       "      <td>10000.00000</td>\n",
       "      <td>1.000000e+04</td>\n",
       "      <td>10000.000000</td>\n",
       "      <td>10000.000000</td>\n",
       "      <td>9091.000000</td>\n",
       "      <td>10000.000000</td>\n",
       "      <td>10000.000000</td>\n",
       "      <td>10000.00000</td>\n",
       "      <td>10000.000000</td>\n",
       "      <td>10000.000000</td>\n",
       "      <td>10000.000000</td>\n",
       "    </tr>\n",
       "    <tr>\n",
       "      <th>mean</th>\n",
       "      <td>5000.50000</td>\n",
       "      <td>1.569094e+07</td>\n",
       "      <td>650.528800</td>\n",
       "      <td>38.921800</td>\n",
       "      <td>4.997690</td>\n",
       "      <td>76485.889288</td>\n",
       "      <td>1.530200</td>\n",
       "      <td>0.70550</td>\n",
       "      <td>0.515100</td>\n",
       "      <td>100090.239881</td>\n",
       "      <td>0.203700</td>\n",
       "    </tr>\n",
       "    <tr>\n",
       "      <th>std</th>\n",
       "      <td>2886.89568</td>\n",
       "      <td>7.193619e+04</td>\n",
       "      <td>96.653299</td>\n",
       "      <td>10.487806</td>\n",
       "      <td>2.894723</td>\n",
       "      <td>62397.405202</td>\n",
       "      <td>0.581654</td>\n",
       "      <td>0.45584</td>\n",
       "      <td>0.499797</td>\n",
       "      <td>57510.492818</td>\n",
       "      <td>0.402769</td>\n",
       "    </tr>\n",
       "    <tr>\n",
       "      <th>min</th>\n",
       "      <td>1.00000</td>\n",
       "      <td>1.556570e+07</td>\n",
       "      <td>350.000000</td>\n",
       "      <td>18.000000</td>\n",
       "      <td>0.000000</td>\n",
       "      <td>0.000000</td>\n",
       "      <td>1.000000</td>\n",
       "      <td>0.00000</td>\n",
       "      <td>0.000000</td>\n",
       "      <td>11.580000</td>\n",
       "      <td>0.000000</td>\n",
       "    </tr>\n",
       "    <tr>\n",
       "      <th>25%</th>\n",
       "      <td>2500.75000</td>\n",
       "      <td>1.562853e+07</td>\n",
       "      <td>584.000000</td>\n",
       "      <td>32.000000</td>\n",
       "      <td>2.000000</td>\n",
       "      <td>0.000000</td>\n",
       "      <td>1.000000</td>\n",
       "      <td>0.00000</td>\n",
       "      <td>0.000000</td>\n",
       "      <td>51002.110000</td>\n",
       "      <td>0.000000</td>\n",
       "    </tr>\n",
       "    <tr>\n",
       "      <th>50%</th>\n",
       "      <td>5000.50000</td>\n",
       "      <td>1.569074e+07</td>\n",
       "      <td>652.000000</td>\n",
       "      <td>37.000000</td>\n",
       "      <td>5.000000</td>\n",
       "      <td>97198.540000</td>\n",
       "      <td>1.000000</td>\n",
       "      <td>1.00000</td>\n",
       "      <td>1.000000</td>\n",
       "      <td>100193.915000</td>\n",
       "      <td>0.000000</td>\n",
       "    </tr>\n",
       "    <tr>\n",
       "      <th>75%</th>\n",
       "      <td>7500.25000</td>\n",
       "      <td>1.575323e+07</td>\n",
       "      <td>718.000000</td>\n",
       "      <td>44.000000</td>\n",
       "      <td>7.000000</td>\n",
       "      <td>127644.240000</td>\n",
       "      <td>2.000000</td>\n",
       "      <td>1.00000</td>\n",
       "      <td>1.000000</td>\n",
       "      <td>149388.247500</td>\n",
       "      <td>0.000000</td>\n",
       "    </tr>\n",
       "    <tr>\n",
       "      <th>max</th>\n",
       "      <td>10000.00000</td>\n",
       "      <td>1.581569e+07</td>\n",
       "      <td>850.000000</td>\n",
       "      <td>92.000000</td>\n",
       "      <td>10.000000</td>\n",
       "      <td>250898.090000</td>\n",
       "      <td>4.000000</td>\n",
       "      <td>1.00000</td>\n",
       "      <td>1.000000</td>\n",
       "      <td>199992.480000</td>\n",
       "      <td>1.000000</td>\n",
       "    </tr>\n",
       "  </tbody>\n",
       "</table>\n",
       "</div>"
      ],
      "text/plain": [
       "         RowNumber    CustomerId   CreditScore           Age       Tenure  \\\n",
       "count  10000.00000  1.000000e+04  10000.000000  10000.000000  9091.000000   \n",
       "mean    5000.50000  1.569094e+07    650.528800     38.921800     4.997690   \n",
       "std     2886.89568  7.193619e+04     96.653299     10.487806     2.894723   \n",
       "min        1.00000  1.556570e+07    350.000000     18.000000     0.000000   \n",
       "25%     2500.75000  1.562853e+07    584.000000     32.000000     2.000000   \n",
       "50%     5000.50000  1.569074e+07    652.000000     37.000000     5.000000   \n",
       "75%     7500.25000  1.575323e+07    718.000000     44.000000     7.000000   \n",
       "max    10000.00000  1.581569e+07    850.000000     92.000000    10.000000   \n",
       "\n",
       "             Balance  NumOfProducts    HasCrCard  IsActiveMember  \\\n",
       "count   10000.000000   10000.000000  10000.00000    10000.000000   \n",
       "mean    76485.889288       1.530200      0.70550        0.515100   \n",
       "std     62397.405202       0.581654      0.45584        0.499797   \n",
       "min         0.000000       1.000000      0.00000        0.000000   \n",
       "25%         0.000000       1.000000      0.00000        0.000000   \n",
       "50%     97198.540000       1.000000      1.00000        1.000000   \n",
       "75%    127644.240000       2.000000      1.00000        1.000000   \n",
       "max    250898.090000       4.000000      1.00000        1.000000   \n",
       "\n",
       "       EstimatedSalary        Exited  \n",
       "count     10000.000000  10000.000000  \n",
       "mean     100090.239881      0.203700  \n",
       "std       57510.492818      0.402769  \n",
       "min          11.580000      0.000000  \n",
       "25%       51002.110000      0.000000  \n",
       "50%      100193.915000      0.000000  \n",
       "75%      149388.247500      0.000000  \n",
       "max      199992.480000      1.000000  "
      ]
     },
     "metadata": {},
     "output_type": "display_data"
    },
    {
     "name": "stdout",
     "output_type": "stream",
     "text": [
      "\n",
      "Общая статистика по категориальным переменным:\n"
     ]
    },
    {
     "data": {
      "text/html": [
       "<div>\n",
       "<style scoped>\n",
       "    .dataframe tbody tr th:only-of-type {\n",
       "        vertical-align: middle;\n",
       "    }\n",
       "\n",
       "    .dataframe tbody tr th {\n",
       "        vertical-align: top;\n",
       "    }\n",
       "\n",
       "    .dataframe thead th {\n",
       "        text-align: right;\n",
       "    }\n",
       "</style>\n",
       "<table border=\"1\" class=\"dataframe\">\n",
       "  <thead>\n",
       "    <tr style=\"text-align: right;\">\n",
       "      <th></th>\n",
       "      <th>Surname</th>\n",
       "      <th>Geography</th>\n",
       "      <th>Gender</th>\n",
       "    </tr>\n",
       "  </thead>\n",
       "  <tbody>\n",
       "    <tr>\n",
       "      <th>count</th>\n",
       "      <td>10000</td>\n",
       "      <td>10000</td>\n",
       "      <td>10000</td>\n",
       "    </tr>\n",
       "    <tr>\n",
       "      <th>unique</th>\n",
       "      <td>2932</td>\n",
       "      <td>3</td>\n",
       "      <td>2</td>\n",
       "    </tr>\n",
       "    <tr>\n",
       "      <th>top</th>\n",
       "      <td>Smith</td>\n",
       "      <td>France</td>\n",
       "      <td>Male</td>\n",
       "    </tr>\n",
       "    <tr>\n",
       "      <th>freq</th>\n",
       "      <td>32</td>\n",
       "      <td>5014</td>\n",
       "      <td>5457</td>\n",
       "    </tr>\n",
       "  </tbody>\n",
       "</table>\n",
       "</div>"
      ],
      "text/plain": [
       "       Surname Geography Gender\n",
       "count    10000     10000  10000\n",
       "unique    2932         3      2\n",
       "top      Smith    France   Male\n",
       "freq        32      5014   5457"
      ]
     },
     "metadata": {},
     "output_type": "display_data"
    },
    {
     "name": "stdout",
     "output_type": "stream",
     "text": [
      "\n",
      "Распределение и выбросы данных в количественных переменных:\n"
     ]
    },
    {
     "data": {
      "image/png": "[encoded data removed]",
      "text/plain": [
       "<Figure size 1980x576 with 11 Axes>"
      ]
     },
     "metadata": {
      "needs_background": "light"
     },
     "output_type": "display_data"
    }
   ],
   "source": [
    "explore_dataset(data)"
   ]
  },
  {
   "cell_type": "markdown",
   "metadata": {},
   "source": [
    "Как видно из первичного анализа данных, в датасете имеются следующие проблемы:\n",
    "\n",
    "- пропуски в данных столбца Tenure;\n",
    "- верхний регистр в названии столбцов;\n",
    "\n",
    "Разберемся с названиями столбцов и трансформируем их согласно стилю snake_case"
   ]
  },
  {
   "cell_type": "code",
   "execution_count": 8,
   "metadata": {},
   "outputs": [],
   "source": [
    "def camel_to_snake(name):\n",
    "    name = re.sub('(.)([A-Z][a-z]+)', r'\\1_\\2', name)\n",
    "    return re.sub('([a-z0-9])([A-Z])', r'\\1_\\2', name).lower()"
   ]
  },
  {
   "cell_type": "code",
   "execution_count": 9,
   "metadata": {},
   "outputs": [
    {
     "name": "stdout",
     "output_type": "stream",
     "text": [
      "Index(['row_number', 'customer_id', 'surname', 'credit_score', 'geography',\n",
      "       'gender', 'age', 'tenure', 'balance', 'num_of_products', 'has_cr_card',\n",
      "       'is_active_member', 'estimated_salary', 'exited'],\n",
      "      dtype='object')\n"
     ]
    }
   ],
   "source": [
    "data.columns = [camel_to_snake(x) for x in data.columns]\n",
    "print(data.columns)"
   ]
  },
  {
   "cell_type": "markdown",
   "metadata": {},
   "source": [
    "Проверим пропуски в данных"
   ]
  },
  {
   "cell_type": "code",
   "execution_count": 10,
   "metadata": {},
   "outputs": [
    {
     "data": {
      "text/html": [
       "<div>\n",
       "<style scoped>\n",
       "    .dataframe tbody tr th:only-of-type {\n",
       "        vertical-align: middle;\n",
       "    }\n",
       "\n",
       "    .dataframe tbody tr th {\n",
       "        vertical-align: top;\n",
       "    }\n",
       "\n",
       "    .dataframe thead th {\n",
       "        text-align: right;\n",
       "    }\n",
       "</style>\n",
       "<table border=\"1\" class=\"dataframe\">\n",
       "  <thead>\n",
       "    <tr style=\"text-align: right;\">\n",
       "      <th></th>\n",
       "      <th>row_number</th>\n",
       "      <th>customer_id</th>\n",
       "      <th>surname</th>\n",
       "      <th>credit_score</th>\n",
       "      <th>geography</th>\n",
       "      <th>gender</th>\n",
       "      <th>age</th>\n",
       "      <th>tenure</th>\n",
       "      <th>balance</th>\n",
       "      <th>num_of_products</th>\n",
       "      <th>has_cr_card</th>\n",
       "      <th>is_active_member</th>\n",
       "      <th>estimated_salary</th>\n",
       "      <th>exited</th>\n",
       "    </tr>\n",
       "  </thead>\n",
       "  <tbody>\n",
       "    <tr>\n",
       "      <th>30</th>\n",
       "      <td>31</td>\n",
       "      <td>15589475</td>\n",
       "      <td>Azikiwe</td>\n",
       "      <td>591</td>\n",
       "      <td>Spain</td>\n",
       "      <td>Female</td>\n",
       "      <td>39</td>\n",
       "      <td>NaN</td>\n",
       "      <td>0.00</td>\n",
       "      <td>3</td>\n",
       "      <td>1</td>\n",
       "      <td>0</td>\n",
       "      <td>140469.38</td>\n",
       "      <td>1</td>\n",
       "    </tr>\n",
       "    <tr>\n",
       "      <th>48</th>\n",
       "      <td>49</td>\n",
       "      <td>15766205</td>\n",
       "      <td>Yin</td>\n",
       "      <td>550</td>\n",
       "      <td>Germany</td>\n",
       "      <td>Male</td>\n",
       "      <td>38</td>\n",
       "      <td>NaN</td>\n",
       "      <td>103391.38</td>\n",
       "      <td>1</td>\n",
       "      <td>0</td>\n",
       "      <td>1</td>\n",
       "      <td>90878.13</td>\n",
       "      <td>0</td>\n",
       "    </tr>\n",
       "    <tr>\n",
       "      <th>51</th>\n",
       "      <td>52</td>\n",
       "      <td>15768193</td>\n",
       "      <td>Trevisani</td>\n",
       "      <td>585</td>\n",
       "      <td>Germany</td>\n",
       "      <td>Male</td>\n",
       "      <td>36</td>\n",
       "      <td>NaN</td>\n",
       "      <td>146050.97</td>\n",
       "      <td>2</td>\n",
       "      <td>0</td>\n",
       "      <td>0</td>\n",
       "      <td>86424.57</td>\n",
       "      <td>0</td>\n",
       "    </tr>\n",
       "    <tr>\n",
       "      <th>53</th>\n",
       "      <td>54</td>\n",
       "      <td>15702298</td>\n",
       "      <td>Parkhill</td>\n",
       "      <td>655</td>\n",
       "      <td>Germany</td>\n",
       "      <td>Male</td>\n",
       "      <td>41</td>\n",
       "      <td>NaN</td>\n",
       "      <td>125561.97</td>\n",
       "      <td>1</td>\n",
       "      <td>0</td>\n",
       "      <td>0</td>\n",
       "      <td>164040.94</td>\n",
       "      <td>1</td>\n",
       "    </tr>\n",
       "    <tr>\n",
       "      <th>60</th>\n",
       "      <td>61</td>\n",
       "      <td>15651280</td>\n",
       "      <td>Hunter</td>\n",
       "      <td>742</td>\n",
       "      <td>Germany</td>\n",
       "      <td>Male</td>\n",
       "      <td>35</td>\n",
       "      <td>NaN</td>\n",
       "      <td>136857.00</td>\n",
       "      <td>1</td>\n",
       "      <td>0</td>\n",
       "      <td>0</td>\n",
       "      <td>84509.57</td>\n",
       "      <td>0</td>\n",
       "    </tr>\n",
       "    <tr>\n",
       "      <th>...</th>\n",
       "      <td>...</td>\n",
       "      <td>...</td>\n",
       "      <td>...</td>\n",
       "      <td>...</td>\n",
       "      <td>...</td>\n",
       "      <td>...</td>\n",
       "      <td>...</td>\n",
       "      <td>...</td>\n",
       "      <td>...</td>\n",
       "      <td>...</td>\n",
       "      <td>...</td>\n",
       "      <td>...</td>\n",
       "      <td>...</td>\n",
       "      <td>...</td>\n",
       "    </tr>\n",
       "    <tr>\n",
       "      <th>9944</th>\n",
       "      <td>9945</td>\n",
       "      <td>15703923</td>\n",
       "      <td>Cameron</td>\n",
       "      <td>744</td>\n",
       "      <td>Germany</td>\n",
       "      <td>Male</td>\n",
       "      <td>41</td>\n",
       "      <td>NaN</td>\n",
       "      <td>190409.34</td>\n",
       "      <td>2</td>\n",
       "      <td>1</td>\n",
       "      <td>1</td>\n",
       "      <td>138361.48</td>\n",
       "      <td>0</td>\n",
       "    </tr>\n",
       "    <tr>\n",
       "      <th>9956</th>\n",
       "      <td>9957</td>\n",
       "      <td>15707861</td>\n",
       "      <td>Nucci</td>\n",
       "      <td>520</td>\n",
       "      <td>France</td>\n",
       "      <td>Female</td>\n",
       "      <td>46</td>\n",
       "      <td>NaN</td>\n",
       "      <td>85216.61</td>\n",
       "      <td>1</td>\n",
       "      <td>1</td>\n",
       "      <td>0</td>\n",
       "      <td>117369.52</td>\n",
       "      <td>1</td>\n",
       "    </tr>\n",
       "    <tr>\n",
       "      <th>9964</th>\n",
       "      <td>9965</td>\n",
       "      <td>15642785</td>\n",
       "      <td>Douglas</td>\n",
       "      <td>479</td>\n",
       "      <td>France</td>\n",
       "      <td>Male</td>\n",
       "      <td>34</td>\n",
       "      <td>NaN</td>\n",
       "      <td>117593.48</td>\n",
       "      <td>2</td>\n",
       "      <td>0</td>\n",
       "      <td>0</td>\n",
       "      <td>113308.29</td>\n",
       "      <td>0</td>\n",
       "    </tr>\n",
       "    <tr>\n",
       "      <th>9985</th>\n",
       "      <td>9986</td>\n",
       "      <td>15586914</td>\n",
       "      <td>Nepean</td>\n",
       "      <td>659</td>\n",
       "      <td>France</td>\n",
       "      <td>Male</td>\n",
       "      <td>36</td>\n",
       "      <td>NaN</td>\n",
       "      <td>123841.49</td>\n",
       "      <td>2</td>\n",
       "      <td>1</td>\n",
       "      <td>0</td>\n",
       "      <td>96833.00</td>\n",
       "      <td>0</td>\n",
       "    </tr>\n",
       "    <tr>\n",
       "      <th>9999</th>\n",
       "      <td>10000</td>\n",
       "      <td>15628319</td>\n",
       "      <td>Walker</td>\n",
       "      <td>792</td>\n",
       "      <td>France</td>\n",
       "      <td>Female</td>\n",
       "      <td>28</td>\n",
       "      <td>NaN</td>\n",
       "      <td>130142.79</td>\n",
       "      <td>1</td>\n",
       "      <td>1</td>\n",
       "      <td>0</td>\n",
       "      <td>38190.78</td>\n",
       "      <td>0</td>\n",
       "    </tr>\n",
       "  </tbody>\n",
       "</table>\n",
       "<p>909 rows × 14 columns</p>\n",
       "</div>"
      ],
      "text/plain": [
       "      row_number  customer_id    surname  credit_score geography  gender  age  \\\n",
       "30            31     15589475    Azikiwe           591     Spain  Female   39   \n",
       "48            49     15766205        Yin           550   Germany    Male   38   \n",
       "51            52     15768193  Trevisani           585   Germany    Male   36   \n",
       "53            54     15702298   Parkhill           655   Germany    Male   41   \n",
       "60            61     15651280     Hunter           742   Germany    Male   35   \n",
       "...          ...          ...        ...           ...       ...     ...  ...   \n",
       "9944        9945     15703923    Cameron           744   Germany    Male   41   \n",
       "9956        9957     15707861      Nucci           520    France  Female   46   \n",
       "9964        9965     15642785    Douglas           479    France    Male   34   \n",
       "9985        9986     15586914     Nepean           659    France    Male   36   \n",
       "9999       10000     15628319     Walker           792    France  Female   28   \n",
       "\n",
       "      tenure    balance  num_of_products  has_cr_card  is_active_member  \\\n",
       "30       NaN       0.00                3            1                 0   \n",
       "48       NaN  103391.38                1            0                 1   \n",
       "51       NaN  146050.97                2            0                 0   \n",
       "53       NaN  125561.97                1            0                 0   \n",
       "60       NaN  136857.00                1            0                 0   \n",
       "...      ...        ...              ...          ...               ...   \n",
       "9944     NaN  190409.34                2            1                 1   \n",
       "9956     NaN   85216.61                1            1                 0   \n",
       "9964     NaN  117593.48                2            0                 0   \n",
       "9985     NaN  123841.49                2            1                 0   \n",
       "9999     NaN  130142.79                1            1                 0   \n",
       "\n",
       "      estimated_salary  exited  \n",
       "30           140469.38       1  \n",
       "48            90878.13       0  \n",
       "51            86424.57       0  \n",
       "53           164040.94       1  \n",
       "60            84509.57       0  \n",
       "...                ...     ...  \n",
       "9944         138361.48       0  \n",
       "9956         117369.52       1  \n",
       "9964         113308.29       0  \n",
       "9985          96833.00       0  \n",
       "9999          38190.78       0  \n",
       "\n",
       "[909 rows x 14 columns]"
      ]
     },
     "execution_count": 10,
     "metadata": {},
     "output_type": "execute_result"
    }
   ],
   "source": [
    "data[data['tenure'].isna()]"
   ]
  },
  {
   "cell_type": "markdown",
   "metadata": {},
   "source": [
    "В 9% данных имеются пропуски в столбце указывающем сколько лет человек является клиентом банка. Никакой взаимосвязи пропусков с остальными данными не выявлено, соответственно пропуски скорее всего вызваны технической ошибкой. Учитывая количество пропусков, существуют следующие варианты решения проблемы:\n",
    "  - Удаление строк с пропусками;\n",
    "  - Удаление столбца в котором содержатся пропуски. Этот вариант возможен в случае, если признак этого столбца не существенно коррелирует с целевым признаком;\n",
    "  - Заполнение пропущенных значений. \n",
    "  \n",
    "Рассмотрим подробнее взаимосвязь целевого признака и признака tenure для принятия взвешенного ршения. Для начала посмотрим на расспределение классов целевого признака для призннака Tenure:"
   ]
  },
  {
   "cell_type": "code",
   "execution_count": 11,
   "metadata": {},
   "outputs": [
    {
     "data": {
      "text/html": [
       "<div>\n",
       "<style scoped>\n",
       "    .dataframe tbody tr th:only-of-type {\n",
       "        vertical-align: middle;\n",
       "    }\n",
       "\n",
       "    .dataframe tbody tr th {\n",
       "        vertical-align: top;\n",
       "    }\n",
       "\n",
       "    .dataframe thead th {\n",
       "        text-align: right;\n",
       "    }\n",
       "</style>\n",
       "<table border=\"1\" class=\"dataframe\">\n",
       "  <thead>\n",
       "    <tr style=\"text-align: right;\">\n",
       "      <th></th>\n",
       "      <th>0</th>\n",
       "      <th>1</th>\n",
       "      <th>positive_class_ratio</th>\n",
       "    </tr>\n",
       "    <tr>\n",
       "      <th>tenure</th>\n",
       "      <th></th>\n",
       "      <th></th>\n",
       "      <th></th>\n",
       "    </tr>\n",
       "  </thead>\n",
       "  <tbody>\n",
       "    <tr>\n",
       "      <th>0.0</th>\n",
       "      <td>292</td>\n",
       "      <td>90</td>\n",
       "      <td>0.235602</td>\n",
       "    </tr>\n",
       "    <tr>\n",
       "      <th>1.0</th>\n",
       "      <td>739</td>\n",
       "      <td>213</td>\n",
       "      <td>0.223739</td>\n",
       "    </tr>\n",
       "    <tr>\n",
       "      <th>2.0</th>\n",
       "      <td>765</td>\n",
       "      <td>185</td>\n",
       "      <td>0.194737</td>\n",
       "    </tr>\n",
       "    <tr>\n",
       "      <th>3.0</th>\n",
       "      <td>730</td>\n",
       "      <td>198</td>\n",
       "      <td>0.213362</td>\n",
       "    </tr>\n",
       "    <tr>\n",
       "      <th>4.0</th>\n",
       "      <td>701</td>\n",
       "      <td>184</td>\n",
       "      <td>0.207910</td>\n",
       "    </tr>\n",
       "    <tr>\n",
       "      <th>5.0</th>\n",
       "      <td>740</td>\n",
       "      <td>187</td>\n",
       "      <td>0.201726</td>\n",
       "    </tr>\n",
       "    <tr>\n",
       "      <th>6.0</th>\n",
       "      <td>704</td>\n",
       "      <td>177</td>\n",
       "      <td>0.200908</td>\n",
       "    </tr>\n",
       "    <tr>\n",
       "      <th>7.0</th>\n",
       "      <td>765</td>\n",
       "      <td>160</td>\n",
       "      <td>0.172973</td>\n",
       "    </tr>\n",
       "    <tr>\n",
       "      <th>8.0</th>\n",
       "      <td>759</td>\n",
       "      <td>174</td>\n",
       "      <td>0.186495</td>\n",
       "    </tr>\n",
       "    <tr>\n",
       "      <th>9.0</th>\n",
       "      <td>688</td>\n",
       "      <td>194</td>\n",
       "      <td>0.219955</td>\n",
       "    </tr>\n",
       "    <tr>\n",
       "      <th>10.0</th>\n",
       "      <td>354</td>\n",
       "      <td>92</td>\n",
       "      <td>0.206278</td>\n",
       "    </tr>\n",
       "    <tr>\n",
       "      <th>NaN</th>\n",
       "      <td>726</td>\n",
       "      <td>183</td>\n",
       "      <td>0.201320</td>\n",
       "    </tr>\n",
       "  </tbody>\n",
       "</table>\n",
       "</div>"
      ],
      "text/plain": [
       "          0    1  positive_class_ratio\n",
       "tenure                                \n",
       "0.0     292   90              0.235602\n",
       "1.0     739  213              0.223739\n",
       "2.0     765  185              0.194737\n",
       "3.0     730  198              0.213362\n",
       "4.0     701  184              0.207910\n",
       "5.0     740  187              0.201726\n",
       "6.0     704  177              0.200908\n",
       "7.0     765  160              0.172973\n",
       "8.0     759  174              0.186495\n",
       "9.0     688  194              0.219955\n",
       "10.0    354   92              0.206278\n",
       "NaN     726  183              0.201320"
      ]
     },
     "execution_count": 11,
     "metadata": {},
     "output_type": "execute_result"
    }
   ],
   "source": [
    "grouped_by_tenure = data.groupby(['tenure','exited'], dropna=False).size().unstack(1)\n",
    "grouped_by_tenure.columns = ['0', '1']\n",
    "grouped_by_tenure['positive_class_ratio'] = grouped_by_tenure['1']/(grouped_by_tenure['0']+grouped_by_tenure['1'])\n",
    "grouped_by_tenure"
   ]
  },
  {
   "cell_type": "code",
   "execution_count": 12,
   "metadata": {},
   "outputs": [
    {
     "data": {
      "text/plain": [
       "<AxesSubplot:xlabel='tenure'>"
      ]
     },
     "execution_count": 12,
     "metadata": {},
     "output_type": "execute_result"
    },
    {
     "data": {
      "image/png": "[encoded data removed]",
      "text/plain": [
       "<Figure size 432x288 with 1 Axes>"
      ]
     },
     "metadata": {
      "needs_background": "light"
     },
     "output_type": "display_data"
    }
   ],
   "source": [
    "grouped_by_tenure.plot.bar(y=['0', '1'])"
   ]
  },
  {
   "cell_type": "code",
   "execution_count": 13,
   "metadata": {},
   "outputs": [
    {
     "data": {
      "text/plain": [
       "<AxesSubplot:xlabel='tenure'>"
      ]
     },
     "execution_count": 13,
     "metadata": {},
     "output_type": "execute_result"
    },
    {
     "data": {
      "image/png": "[encoded data removed]",
      "text/plain": [
       "<Figure size 432x288 with 1 Axes>"
      ]
     },
     "metadata": {
      "needs_background": "light"
     },
     "output_type": "display_data"
    }
   ],
   "source": [
    "grouped_by_tenure.plot.bar(y=['positive_class_ratio'])"
   ]
  },
  {
   "cell_type": "markdown",
   "metadata": {},
   "source": [
    "Как мы  можем увидеть, несмотря на то, что распределение количества клиентов по годам неравномерно, распределение по классам для каждого значения tenure практически неизменно и составляет примерно 20%. Это же значение наблюдается для пропущенных значений tenure. Таким образом, скорее всего этот признак не яляется определяющим для целевого признака и мы можем выбрать любую стратегию избавления от пропусков в этом столбце. Выберем самую непредвзятую стратегию - удалим данные с пропусками, природу которых мы точно не знаем. Баланс классов в датасете при этом останется неизменным."
   ]
  },
  {
   "cell_type": "code",
   "execution_count": 14,
   "metadata": {},
   "outputs": [],
   "source": [
    "data_dropna = data[~data['tenure'].isna()]"
   ]
  },
  {
   "cell_type": "markdown",
   "metadata": {},
   "source": [
    "Дополнительно проверим данные на неявные дубликаты по id клиента:"
   ]
  },
  {
   "cell_type": "code",
   "execution_count": 15,
   "metadata": {},
   "outputs": [
    {
     "data": {
      "text/html": [
       "<div>\n",
       "<style scoped>\n",
       "    .dataframe tbody tr th:only-of-type {\n",
       "        vertical-align: middle;\n",
       "    }\n",
       "\n",
       "    .dataframe tbody tr th {\n",
       "        vertical-align: top;\n",
       "    }\n",
       "\n",
       "    .dataframe thead th {\n",
       "        text-align: right;\n",
       "    }\n",
       "</style>\n",
       "<table border=\"1\" class=\"dataframe\">\n",
       "  <thead>\n",
       "    <tr style=\"text-align: right;\">\n",
       "      <th></th>\n",
       "      <th>row_number</th>\n",
       "      <th>customer_id</th>\n",
       "      <th>surname</th>\n",
       "      <th>credit_score</th>\n",
       "      <th>geography</th>\n",
       "      <th>gender</th>\n",
       "      <th>age</th>\n",
       "      <th>tenure</th>\n",
       "      <th>balance</th>\n",
       "      <th>num_of_products</th>\n",
       "      <th>has_cr_card</th>\n",
       "      <th>is_active_member</th>\n",
       "      <th>estimated_salary</th>\n",
       "      <th>exited</th>\n",
       "    </tr>\n",
       "  </thead>\n",
       "  <tbody>\n",
       "  </tbody>\n",
       "</table>\n",
       "</div>"
      ],
      "text/plain": [
       "Empty DataFrame\n",
       "Columns: [row_number, customer_id, surname, credit_score, geography, gender, age, tenure, balance, num_of_products, has_cr_card, is_active_member, estimated_salary, exited]\n",
       "Index: []"
      ]
     },
     "execution_count": 15,
     "metadata": {},
     "output_type": "execute_result"
    }
   ],
   "source": [
    "data[data.duplicated(subset=['customer_id'])]"
   ]
  },
  {
   "cell_type": "markdown",
   "metadata": {},
   "source": [
    "Дубликатов не найдено, пропуски и имена столбцов обработаны, можем перейти к исследованию задачи."
   ]
  },
  {
   "cell_type": "markdown",
   "metadata": {},
   "source": [
    "## Исследование задачи"
   ]
  },
  {
   "cell_type": "markdown",
   "metadata": {},
   "source": [
    "### Исследование баланса классов"
   ]
  },
  {
   "cell_type": "markdown",
   "metadata": {},
   "source": [
    "Для начала проанализируем данные на дисбаланс классов в целевом признаке:"
   ]
  },
  {
   "cell_type": "code",
   "execution_count": 16,
   "metadata": {},
   "outputs": [
    {
     "data": {
      "image/png": "[encoded data removed]",
      "text/plain": [
       "<Figure size 432x288 with 1 Axes>"
      ]
     },
     "metadata": {
      "needs_background": "light"
     },
     "output_type": "display_data"
    }
   ],
   "source": [
    "sns.countplot(data_dropna['exited'],label='count')\n",
    "plt.title('Баланс классов целевого признака \"exited\"');"
   ]
  },
  {
   "cell_type": "code",
   "execution_count": 17,
   "metadata": {},
   "outputs": [
    {
     "data": {
      "text/plain": [
       "0.2039379606203938"
      ]
     },
     "execution_count": 17,
     "metadata": {},
     "output_type": "execute_result"
    }
   ],
   "source": [
    "data_dropna['exited'].sum()/len(data_dropna['exited'])"
   ]
  },
  {
   "cell_type": "markdown",
   "metadata": {},
   "source": [
    "Как было замечено во время предобработки данных, присутствует значительный дисбаланс классов, доля клиентов ушедших из банка составляет примерно 20% от всего датасета.\n"
   ]
  },
  {
   "cell_type": "markdown",
   "metadata": {},
   "source": [
    "### Исследование моделей без учета дисбаланса\n",
    "\n",
    "Для исследования моделей надо разобраться с признаками которые мы будем исспользовать и разбить данные на обучающую, валидационную и тестовую выборки.\n",
    "Проверим признаки на коллинеарность:"
   ]
  },
  {
   "cell_type": "code",
   "execution_count": 18,
   "metadata": {},
   "outputs": [
    {
     "data": {
      "image/png": "[encoded data removed]",
      "text/plain": [
       "<Figure size 1440x720 with 2 Axes>"
      ]
     },
     "metadata": {
      "needs_background": "light"
     },
     "output_type": "display_data"
    }
   ],
   "source": [
    "plt.figure(figsize=(20,10)) \n",
    "sns.heatmap(data_dropna.corr(), annot=True) \n",
    "plt.show()"
   ]
  },
  {
   "cell_type": "markdown",
   "metadata": {},
   "source": [
    "Коррелирующих между собой признаков не выявлено, а значит мы можем использовать все признаки для обучения модели. За исключением признаков customer_id и surname, которые уникальны для каждого клиента и никак не влияют на отношения с банком.\n",
    "\n",
    "Для удобства дальнейшей работы определим функцию, рассчитывающую и визуализирующую основные метрики модели классификации."
   ]
  },
  {
   "cell_type": "code",
   "execution_count": 19,
   "metadata": {},
   "outputs": [],
   "source": [
    "def metrics_model_classification(model, features, target, threshold=None):\n",
    "    '''\n",
    "    Функция выводит метрики качества для модели классификации,\n",
    "    строит матрицу ошибок и roc-кривую\n",
    "    '''\n",
    "    \n",
    "    \n",
    "    prediction = model.predict(features)\n",
    "    probabilities = model.predict_proba(features)[:, 1]\n",
    "    if threshold != None:\n",
    "        prediction = (probabilities >= threshold).astype(int)\n",
    "        probabilities = prediction\n",
    "    acc = round(accuracy_score(target, prediction),2)\n",
    "    precision = round(precision_score(target, prediction),2)\n",
    "    recall = round(recall_score(target, prediction),2)\n",
    "    f1 = round(f1_score(target, prediction),2)\n",
    "    auc = round(roc_auc_score(target, probabilities),2)\n",
    "    \n",
    "    print('Accuracy   = ', acc)\n",
    "    print('Precision   = ', precision)\n",
    "    print('Recall = ', recall)\n",
    "    print('F1  = ', f1)\n",
    "    print('AUC-ROC  = ', auc)\n",
    "    \n",
    "    cm = confusion_matrix(target, prediction)\n",
    "    \n",
    "    group_names = ['TN','FP','FN','TP']\n",
    "    group_counts = [\"{0:0.0f}\".format(value) for value in\n",
    "                    cm.flatten()]\n",
    "\n",
    "    group_percentages = [\"{0:.2%}\".format(value) for value in\n",
    "                         cm.flatten()/np.sum(cm)]\n",
    "\n",
    "    labels = [f\"{v1}\\n{v2}\\n{v3}\" for v1, v2, v3 in\n",
    "              zip(group_names,group_counts,group_percentages)]\n",
    "\n",
    "    labels = np.asarray(labels).reshape(2,2)\n",
    "\n",
    "    ax = sns.heatmap(cm, annot=labels, fmt='', cmap='Blues')\n",
    "\n",
    "    ax.set_title('Confusion Matrix\\n\\n');\n",
    "    ax.set_xlabel('\\nPredicted Values')\n",
    "    ax.set_ylabel('Actual Values ');\n",
    "\n",
    "    ## Ticket labels - List must be in alphabetical order\n",
    "    ax.xaxis.set_ticklabels(['False','True'])\n",
    "    ax.yaxis.set_ticklabels(['False','True'])\n",
    "\n",
    "    ## Display the visualization of the Confusion Matrix.\n",
    "    plt.show()\n",
    "    \n",
    "    plt.figure()\n",
    "    fpr, tpr, _ = roc_curve(target, probabilities)\n",
    "    auc = round(roc_auc_score(target, probabilities),2)\n",
    "    plt.plot(fpr,tpr,label=\"ROC-AUC =\"+str(auc))\n",
    "    plt.plot([0, 1], [0, 1],'r--', label='Random classifier')\n",
    "    plt.xlim([0, 1])\n",
    "    plt.ylim([0, 1])\n",
    "    plt.legend(loc=4)\n",
    "    plt.title('ROC')\n",
    "    plt.ylabel('TPR')\n",
    "    plt.xlabel('FPR')\n",
    "    plt.show()\n",
    "    \n",
    "    return acc, precision, recall, f1, auc \n",
    "    "
   ]
  },
  {
   "cell_type": "markdown",
   "metadata": {},
   "source": [
    "#### Подготовка данных для обучения"
   ]
  },
  {
   "cell_type": "markdown",
   "metadata": {},
   "source": [
    "Выделим данные с признаками и целевым признаком:"
   ]
  },
  {
   "cell_type": "code",
   "execution_count": 20,
   "metadata": {},
   "outputs": [],
   "source": [
    "features = data_dropna.drop(['row_number','customer_id','surname','exited'], axis=1)\n",
    "target = data_dropna['exited']"
   ]
  },
  {
   "cell_type": "markdown",
   "metadata": {},
   "source": [
    "Разделим данные на тренировочную и тестировочную выборки в соотношении 75-25"
   ]
  },
  {
   "cell_type": "code",
   "execution_count": 21,
   "metadata": {},
   "outputs": [],
   "source": [
    "test_ratio = 0.25\n",
    "\n",
    "features_train, features_test, target_train, target_test =\\\n",
    "train_test_split(features, target, test_size=test_ratio,\n",
    "                 random_state=12345)\n"
   ]
  },
  {
   "cell_type": "code",
   "execution_count": 22,
   "metadata": {},
   "outputs": [
    {
     "name": "stdout",
     "output_type": "stream",
     "text": [
      "Размер обучающей выборки: 6818\n",
      "Размер тестовой выборки: 2273\n"
     ]
    }
   ],
   "source": [
    "print('Размер обучающей выборки:', features_train.shape[0])\n",
    "print('Размер тестовой выборки:', features_test.shape[0])"
   ]
  },
  {
   "cell_type": "markdown",
   "metadata": {},
   "source": [
    "Посмотрим на таблицу с признаками"
   ]
  },
  {
   "cell_type": "code",
   "execution_count": 23,
   "metadata": {},
   "outputs": [
    {
     "data": {
      "text/html": [
       "<div>\n",
       "<style scoped>\n",
       "    .dataframe tbody tr th:only-of-type {\n",
       "        vertical-align: middle;\n",
       "    }\n",
       "\n",
       "    .dataframe tbody tr th {\n",
       "        vertical-align: top;\n",
       "    }\n",
       "\n",
       "    .dataframe thead th {\n",
       "        text-align: right;\n",
       "    }\n",
       "</style>\n",
       "<table border=\"1\" class=\"dataframe\">\n",
       "  <thead>\n",
       "    <tr style=\"text-align: right;\">\n",
       "      <th></th>\n",
       "      <th>credit_score</th>\n",
       "      <th>geography</th>\n",
       "      <th>gender</th>\n",
       "      <th>age</th>\n",
       "      <th>tenure</th>\n",
       "      <th>balance</th>\n",
       "      <th>num_of_products</th>\n",
       "      <th>has_cr_card</th>\n",
       "      <th>is_active_member</th>\n",
       "      <th>estimated_salary</th>\n",
       "    </tr>\n",
       "  </thead>\n",
       "  <tbody>\n",
       "    <tr>\n",
       "      <th>1507</th>\n",
       "      <td>549</td>\n",
       "      <td>Germany</td>\n",
       "      <td>Female</td>\n",
       "      <td>43</td>\n",
       "      <td>3.0</td>\n",
       "      <td>134985.66</td>\n",
       "      <td>1</td>\n",
       "      <td>1</td>\n",
       "      <td>0</td>\n",
       "      <td>6101.41</td>\n",
       "    </tr>\n",
       "    <tr>\n",
       "      <th>7431</th>\n",
       "      <td>678</td>\n",
       "      <td>France</td>\n",
       "      <td>Male</td>\n",
       "      <td>38</td>\n",
       "      <td>3.0</td>\n",
       "      <td>0.00</td>\n",
       "      <td>2</td>\n",
       "      <td>1</td>\n",
       "      <td>0</td>\n",
       "      <td>66561.60</td>\n",
       "    </tr>\n",
       "    <tr>\n",
       "      <th>7509</th>\n",
       "      <td>545</td>\n",
       "      <td>Germany</td>\n",
       "      <td>Male</td>\n",
       "      <td>37</td>\n",
       "      <td>9.0</td>\n",
       "      <td>95829.13</td>\n",
       "      <td>2</td>\n",
       "      <td>0</td>\n",
       "      <td>1</td>\n",
       "      <td>104936.88</td>\n",
       "    </tr>\n",
       "    <tr>\n",
       "      <th>5674</th>\n",
       "      <td>540</td>\n",
       "      <td>Spain</td>\n",
       "      <td>Male</td>\n",
       "      <td>28</td>\n",
       "      <td>8.0</td>\n",
       "      <td>0.00</td>\n",
       "      <td>2</td>\n",
       "      <td>0</td>\n",
       "      <td>0</td>\n",
       "      <td>197588.32</td>\n",
       "    </tr>\n",
       "    <tr>\n",
       "      <th>7363</th>\n",
       "      <td>603</td>\n",
       "      <td>France</td>\n",
       "      <td>Male</td>\n",
       "      <td>40</td>\n",
       "      <td>4.0</td>\n",
       "      <td>102833.46</td>\n",
       "      <td>2</td>\n",
       "      <td>1</td>\n",
       "      <td>1</td>\n",
       "      <td>38829.11</td>\n",
       "    </tr>\n",
       "  </tbody>\n",
       "</table>\n",
       "</div>"
      ],
      "text/plain": [
       "      credit_score geography  gender  age  tenure    balance  num_of_products  \\\n",
       "1507           549   Germany  Female   43     3.0  134985.66                1   \n",
       "7431           678    France    Male   38     3.0       0.00                2   \n",
       "7509           545   Germany    Male   37     9.0   95829.13                2   \n",
       "5674           540     Spain    Male   28     8.0       0.00                2   \n",
       "7363           603    France    Male   40     4.0  102833.46                2   \n",
       "\n",
       "      has_cr_card  is_active_member  estimated_salary  \n",
       "1507            1                 0           6101.41  \n",
       "7431            1                 0          66561.60  \n",
       "7509            0                 1         104936.88  \n",
       "5674            0                 0         197588.32  \n",
       "7363            1                 1          38829.11  "
      ]
     },
     "execution_count": 23,
     "metadata": {},
     "output_type": "execute_result"
    }
   ],
   "source": [
    "features_train.head()"
   ]
  },
  {
   "cell_type": "markdown",
   "metadata": {},
   "source": [
    "В данных имеются категориальные признаки, которые мы обработаем с помощью метода OneHotEncoder библиотеки sklearn:"
   ]
  },
  {
   "cell_type": "code",
   "execution_count": 24,
   "metadata": {},
   "outputs": [],
   "source": [
    "# категориальные признаки\n",
    "ohe_features = ['geography', 'gender', 'has_cr_card', 'is_active_member']\n",
    "# числовые признаки\n",
    "num_features = ['credit_score', 'age', 'tenure', 'balance', 'num_of_products', 'estimated_salary']\n",
    "features_train_ohe_unscaled = features_train.copy()\n",
    "features_test_ohe_unscaled = features_test.copy()"
   ]
  },
  {
   "cell_type": "code",
   "execution_count": 25,
   "metadata": {},
   "outputs": [],
   "source": [
    "encoder_ohe = OneHotEncoder(drop='first', handle_unknown='ignore', sparse=False)\n",
    "encoder_ohe.fit(features_train[ohe_features])\n",
    "\n",
    "# добавляем закодированные признаки\n",
    "features_train_ohe_unscaled[encoder_ohe.get_feature_names_out()] =\\\n",
    " encoder_ohe.transform(features_train_ohe_unscaled[ohe_features])\n",
    "\n",
    "# удаляем незакодированные категориальные признаки (изначальные колонки)\n",
    "features_train_ohe_unscaled = features_train_ohe_unscaled.drop(ohe_features, axis=1)\n"
   ]
  },
  {
   "cell_type": "code",
   "execution_count": 26,
   "metadata": {},
   "outputs": [
    {
     "data": {
      "text/html": [
       "<div>\n",
       "<style scoped>\n",
       "    .dataframe tbody tr th:only-of-type {\n",
       "        vertical-align: middle;\n",
       "    }\n",
       "\n",
       "    .dataframe tbody tr th {\n",
       "        vertical-align: top;\n",
       "    }\n",
       "\n",
       "    .dataframe thead th {\n",
       "        text-align: right;\n",
       "    }\n",
       "</style>\n",
       "<table border=\"1\" class=\"dataframe\">\n",
       "  <thead>\n",
       "    <tr style=\"text-align: right;\">\n",
       "      <th></th>\n",
       "      <th>credit_score</th>\n",
       "      <th>age</th>\n",
       "      <th>tenure</th>\n",
       "      <th>balance</th>\n",
       "      <th>num_of_products</th>\n",
       "      <th>estimated_salary</th>\n",
       "      <th>geography_Germany</th>\n",
       "      <th>geography_Spain</th>\n",
       "      <th>gender_Male</th>\n",
       "      <th>has_cr_card_1</th>\n",
       "      <th>is_active_member_1</th>\n",
       "    </tr>\n",
       "  </thead>\n",
       "  <tbody>\n",
       "    <tr>\n",
       "      <th>1507</th>\n",
       "      <td>549</td>\n",
       "      <td>43</td>\n",
       "      <td>3.0</td>\n",
       "      <td>134985.66</td>\n",
       "      <td>1</td>\n",
       "      <td>6101.41</td>\n",
       "      <td>1.0</td>\n",
       "      <td>0.0</td>\n",
       "      <td>0.0</td>\n",
       "      <td>1.0</td>\n",
       "      <td>0.0</td>\n",
       "    </tr>\n",
       "    <tr>\n",
       "      <th>7431</th>\n",
       "      <td>678</td>\n",
       "      <td>38</td>\n",
       "      <td>3.0</td>\n",
       "      <td>0.00</td>\n",
       "      <td>2</td>\n",
       "      <td>66561.60</td>\n",
       "      <td>0.0</td>\n",
       "      <td>0.0</td>\n",
       "      <td>1.0</td>\n",
       "      <td>1.0</td>\n",
       "      <td>0.0</td>\n",
       "    </tr>\n",
       "    <tr>\n",
       "      <th>7509</th>\n",
       "      <td>545</td>\n",
       "      <td>37</td>\n",
       "      <td>9.0</td>\n",
       "      <td>95829.13</td>\n",
       "      <td>2</td>\n",
       "      <td>104936.88</td>\n",
       "      <td>1.0</td>\n",
       "      <td>0.0</td>\n",
       "      <td>1.0</td>\n",
       "      <td>0.0</td>\n",
       "      <td>1.0</td>\n",
       "    </tr>\n",
       "    <tr>\n",
       "      <th>5674</th>\n",
       "      <td>540</td>\n",
       "      <td>28</td>\n",
       "      <td>8.0</td>\n",
       "      <td>0.00</td>\n",
       "      <td>2</td>\n",
       "      <td>197588.32</td>\n",
       "      <td>0.0</td>\n",
       "      <td>1.0</td>\n",
       "      <td>1.0</td>\n",
       "      <td>0.0</td>\n",
       "      <td>0.0</td>\n",
       "    </tr>\n",
       "    <tr>\n",
       "      <th>7363</th>\n",
       "      <td>603</td>\n",
       "      <td>40</td>\n",
       "      <td>4.0</td>\n",
       "      <td>102833.46</td>\n",
       "      <td>2</td>\n",
       "      <td>38829.11</td>\n",
       "      <td>0.0</td>\n",
       "      <td>0.0</td>\n",
       "      <td>1.0</td>\n",
       "      <td>1.0</td>\n",
       "      <td>1.0</td>\n",
       "    </tr>\n",
       "  </tbody>\n",
       "</table>\n",
       "</div>"
      ],
      "text/plain": [
       "      credit_score  age  tenure    balance  num_of_products  estimated_salary  \\\n",
       "1507           549   43     3.0  134985.66                1           6101.41   \n",
       "7431           678   38     3.0       0.00                2          66561.60   \n",
       "7509           545   37     9.0   95829.13                2         104936.88   \n",
       "5674           540   28     8.0       0.00                2         197588.32   \n",
       "7363           603   40     4.0  102833.46                2          38829.11   \n",
       "\n",
       "      geography_Germany  geography_Spain  gender_Male  has_cr_card_1  \\\n",
       "1507                1.0              0.0          0.0            1.0   \n",
       "7431                0.0              0.0          1.0            1.0   \n",
       "7509                1.0              0.0          1.0            0.0   \n",
       "5674                0.0              1.0          1.0            0.0   \n",
       "7363                0.0              0.0          1.0            1.0   \n",
       "\n",
       "      is_active_member_1  \n",
       "1507                 0.0  \n",
       "7431                 0.0  \n",
       "7509                 1.0  \n",
       "5674                 0.0  \n",
       "7363                 1.0  "
      ]
     },
     "execution_count": 26,
     "metadata": {},
     "output_type": "execute_result"
    }
   ],
   "source": [
    "features_train_ohe_unscaled.head()"
   ]
  },
  {
   "cell_type": "markdown",
   "metadata": {},
   "source": [
    "Поскольку числовые признаки имеют очень большой порядковый разброс значений, для корректной работы моделей логистичекой регрессии данные необходимо масштабировать. Сделаем это с помощью метода StandardScaler() библиотеки sklearn. "
   ]
  },
  {
   "cell_type": "code",
   "execution_count": 27,
   "metadata": {},
   "outputs": [
    {
     "data": {
      "text/html": [
       "<div>\n",
       "<style scoped>\n",
       "    .dataframe tbody tr th:only-of-type {\n",
       "        vertical-align: middle;\n",
       "    }\n",
       "\n",
       "    .dataframe tbody tr th {\n",
       "        vertical-align: top;\n",
       "    }\n",
       "\n",
       "    .dataframe thead th {\n",
       "        text-align: right;\n",
       "    }\n",
       "</style>\n",
       "<table border=\"1\" class=\"dataframe\">\n",
       "  <thead>\n",
       "    <tr style=\"text-align: right;\">\n",
       "      <th></th>\n",
       "      <th>credit_score</th>\n",
       "      <th>age</th>\n",
       "      <th>tenure</th>\n",
       "      <th>balance</th>\n",
       "      <th>num_of_products</th>\n",
       "      <th>estimated_salary</th>\n",
       "      <th>geography_Germany</th>\n",
       "      <th>geography_Spain</th>\n",
       "      <th>gender_Male</th>\n",
       "      <th>has_cr_card_1</th>\n",
       "      <th>is_active_member_1</th>\n",
       "    </tr>\n",
       "  </thead>\n",
       "  <tbody>\n",
       "    <tr>\n",
       "      <th>1507</th>\n",
       "      <td>-1.037187</td>\n",
       "      <td>0.375163</td>\n",
       "      <td>-0.681448</td>\n",
       "      <td>0.937205</td>\n",
       "      <td>-0.91164</td>\n",
       "      <td>-1.635163</td>\n",
       "      <td>1.0</td>\n",
       "      <td>0.0</td>\n",
       "      <td>0.0</td>\n",
       "      <td>1.0</td>\n",
       "      <td>0.0</td>\n",
       "    </tr>\n",
       "    <tr>\n",
       "      <th>7431</th>\n",
       "      <td>0.297802</td>\n",
       "      <td>-0.096680</td>\n",
       "      <td>-0.681448</td>\n",
       "      <td>-1.233158</td>\n",
       "      <td>0.81060</td>\n",
       "      <td>-0.590123</td>\n",
       "      <td>0.0</td>\n",
       "      <td>0.0</td>\n",
       "      <td>1.0</td>\n",
       "      <td>1.0</td>\n",
       "      <td>0.0</td>\n",
       "    </tr>\n",
       "    <tr>\n",
       "      <th>7509</th>\n",
       "      <td>-1.078582</td>\n",
       "      <td>-0.191049</td>\n",
       "      <td>1.384103</td>\n",
       "      <td>0.307627</td>\n",
       "      <td>0.81060</td>\n",
       "      <td>0.073185</td>\n",
       "      <td>1.0</td>\n",
       "      <td>0.0</td>\n",
       "      <td>1.0</td>\n",
       "      <td>0.0</td>\n",
       "      <td>1.0</td>\n",
       "    </tr>\n",
       "    <tr>\n",
       "      <th>5674</th>\n",
       "      <td>-1.130326</td>\n",
       "      <td>-1.040366</td>\n",
       "      <td>1.039844</td>\n",
       "      <td>-1.233158</td>\n",
       "      <td>0.81060</td>\n",
       "      <td>1.674643</td>\n",
       "      <td>0.0</td>\n",
       "      <td>1.0</td>\n",
       "      <td>1.0</td>\n",
       "      <td>0.0</td>\n",
       "      <td>0.0</td>\n",
       "    </tr>\n",
       "    <tr>\n",
       "      <th>7363</th>\n",
       "      <td>-0.478354</td>\n",
       "      <td>0.092057</td>\n",
       "      <td>-0.337189</td>\n",
       "      <td>0.420246</td>\n",
       "      <td>0.81060</td>\n",
       "      <td>-1.069473</td>\n",
       "      <td>0.0</td>\n",
       "      <td>0.0</td>\n",
       "      <td>1.0</td>\n",
       "      <td>1.0</td>\n",
       "      <td>1.0</td>\n",
       "    </tr>\n",
       "  </tbody>\n",
       "</table>\n",
       "</div>"
      ],
      "text/plain": [
       "      credit_score       age    tenure   balance  num_of_products  \\\n",
       "1507     -1.037187  0.375163 -0.681448  0.937205         -0.91164   \n",
       "7431      0.297802 -0.096680 -0.681448 -1.233158          0.81060   \n",
       "7509     -1.078582 -0.191049  1.384103  0.307627          0.81060   \n",
       "5674     -1.130326 -1.040366  1.039844 -1.233158          0.81060   \n",
       "7363     -0.478354  0.092057 -0.337189  0.420246          0.81060   \n",
       "\n",
       "      estimated_salary  geography_Germany  geography_Spain  gender_Male  \\\n",
       "1507         -1.635163                1.0              0.0          0.0   \n",
       "7431         -0.590123                0.0              0.0          1.0   \n",
       "7509          0.073185                1.0              0.0          1.0   \n",
       "5674          1.674643                0.0              1.0          1.0   \n",
       "7363         -1.069473                0.0              0.0          1.0   \n",
       "\n",
       "      has_cr_card_1  is_active_member_1  \n",
       "1507            1.0                 0.0  \n",
       "7431            1.0                 0.0  \n",
       "7509            0.0                 1.0  \n",
       "5674            0.0                 0.0  \n",
       "7363            1.0                 1.0  "
      ]
     },
     "execution_count": 27,
     "metadata": {},
     "output_type": "execute_result"
    }
   ],
   "source": [
    "scaler = StandardScaler()\n",
    "features_train_ohe = features_train_ohe_unscaled.copy()\n",
    "features_train_ohe[num_features] = scaler.fit_transform(features_train_ohe_unscaled[num_features])\n",
    "\n",
    "features_train_ohe.head()"
   ]
  },
  {
   "cell_type": "code",
   "execution_count": 28,
   "metadata": {},
   "outputs": [
    {
     "data": {
      "text/html": [
       "<div>\n",
       "<style scoped>\n",
       "    .dataframe tbody tr th:only-of-type {\n",
       "        vertical-align: middle;\n",
       "    }\n",
       "\n",
       "    .dataframe tbody tr th {\n",
       "        vertical-align: top;\n",
       "    }\n",
       "\n",
       "    .dataframe thead th {\n",
       "        text-align: right;\n",
       "    }\n",
       "</style>\n",
       "<table border=\"1\" class=\"dataframe\">\n",
       "  <thead>\n",
       "    <tr style=\"text-align: right;\">\n",
       "      <th></th>\n",
       "      <th>credit_score</th>\n",
       "      <th>age</th>\n",
       "      <th>tenure</th>\n",
       "      <th>balance</th>\n",
       "      <th>num_of_products</th>\n",
       "      <th>estimated_salary</th>\n",
       "      <th>geography_Germany</th>\n",
       "      <th>geography_Spain</th>\n",
       "      <th>gender_Male</th>\n",
       "      <th>has_cr_card_1</th>\n",
       "      <th>is_active_member_1</th>\n",
       "    </tr>\n",
       "  </thead>\n",
       "  <tbody>\n",
       "    <tr>\n",
       "      <th>862</th>\n",
       "      <td>0.784194</td>\n",
       "      <td>0.186426</td>\n",
       "      <td>0.695586</td>\n",
       "      <td>0.599469</td>\n",
       "      <td>-0.91164</td>\n",
       "      <td>0.276581</td>\n",
       "      <td>0.0</td>\n",
       "      <td>0.0</td>\n",
       "      <td>1.0</td>\n",
       "      <td>1.0</td>\n",
       "      <td>1.0</td>\n",
       "    </tr>\n",
       "    <tr>\n",
       "      <th>9727</th>\n",
       "      <td>-1.233813</td>\n",
       "      <td>0.563900</td>\n",
       "      <td>-1.369965</td>\n",
       "      <td>-1.233158</td>\n",
       "      <td>-0.91164</td>\n",
       "      <td>1.554956</td>\n",
       "      <td>0.0</td>\n",
       "      <td>0.0</td>\n",
       "      <td>0.0</td>\n",
       "      <td>0.0</td>\n",
       "      <td>1.0</td>\n",
       "    </tr>\n",
       "    <tr>\n",
       "      <th>1717</th>\n",
       "      <td>0.597916</td>\n",
       "      <td>-0.379786</td>\n",
       "      <td>-0.681448</td>\n",
       "      <td>-0.321919</td>\n",
       "      <td>-0.91164</td>\n",
       "      <td>-1.429717</td>\n",
       "      <td>0.0</td>\n",
       "      <td>1.0</td>\n",
       "      <td>0.0</td>\n",
       "      <td>1.0</td>\n",
       "      <td>0.0</td>\n",
       "    </tr>\n",
       "    <tr>\n",
       "      <th>8640</th>\n",
       "      <td>0.835937</td>\n",
       "      <td>-0.662891</td>\n",
       "      <td>1.384103</td>\n",
       "      <td>0.819446</td>\n",
       "      <td>-0.91164</td>\n",
       "      <td>-0.687887</td>\n",
       "      <td>0.0</td>\n",
       "      <td>0.0</td>\n",
       "      <td>0.0</td>\n",
       "      <td>0.0</td>\n",
       "      <td>0.0</td>\n",
       "    </tr>\n",
       "    <tr>\n",
       "      <th>5288</th>\n",
       "      <td>-0.695678</td>\n",
       "      <td>-0.851628</td>\n",
       "      <td>-1.025706</td>\n",
       "      <td>-1.233158</td>\n",
       "      <td>0.81060</td>\n",
       "      <td>0.541482</td>\n",
       "      <td>0.0</td>\n",
       "      <td>0.0</td>\n",
       "      <td>1.0</td>\n",
       "      <td>1.0</td>\n",
       "      <td>1.0</td>\n",
       "    </tr>\n",
       "  </tbody>\n",
       "</table>\n",
       "</div>"
      ],
      "text/plain": [
       "      credit_score       age    tenure   balance  num_of_products  \\\n",
       "862       0.784194  0.186426  0.695586  0.599469         -0.91164   \n",
       "9727     -1.233813  0.563900 -1.369965 -1.233158         -0.91164   \n",
       "1717      0.597916 -0.379786 -0.681448 -0.321919         -0.91164   \n",
       "8640      0.835937 -0.662891  1.384103  0.819446         -0.91164   \n",
       "5288     -0.695678 -0.851628 -1.025706 -1.233158          0.81060   \n",
       "\n",
       "      estimated_salary  geography_Germany  geography_Spain  gender_Male  \\\n",
       "862           0.276581                0.0              0.0          1.0   \n",
       "9727          1.554956                0.0              0.0          0.0   \n",
       "1717         -1.429717                0.0              1.0          0.0   \n",
       "8640         -0.687887                0.0              0.0          0.0   \n",
       "5288          0.541482                0.0              0.0          1.0   \n",
       "\n",
       "      has_cr_card_1  is_active_member_1  \n",
       "862             1.0                 1.0  \n",
       "9727            0.0                 1.0  \n",
       "1717            1.0                 0.0  \n",
       "8640            0.0                 0.0  \n",
       "5288            1.0                 1.0  "
      ]
     },
     "execution_count": 28,
     "metadata": {},
     "output_type": "execute_result"
    }
   ],
   "source": [
    "features_test_ohe_unscaled[encoder_ohe.get_feature_names_out()] =\\\n",
    "encoder_ohe.transform(features_test_ohe_unscaled[ohe_features])\n",
    "\n",
    "features_test_ohe_unscaled = features_test_ohe_unscaled.drop(ohe_features, axis=1)\n",
    "\n",
    "features_test_ohe = features_test_ohe_unscaled.copy()\n",
    "features_test_ohe[num_features] = scaler.transform(features_test_ohe[num_features])\n",
    "\n",
    "features_test_ohe.head()"
   ]
  },
  {
   "cell_type": "markdown",
   "metadata": {},
   "source": [
    "Создадим таблицу для записи метрик обученных моделей."
   ]
  },
  {
   "cell_type": "code",
   "execution_count": 29,
   "metadata": {},
   "outputs": [],
   "source": [
    "metrics_table = pd.DataFrame(columns=['model', 'f1'])"
   ]
  },
  {
   "cell_type": "markdown",
   "metadata": {},
   "source": [
    "Для начала попробуем обучить модели решающего дерева, случайного леса и логистической регрессии со стандартными настройками на наших несбалансированных данных и посчитать метрики на валидационной выборке. А так же добавим в таблицу константную модель для оценки адекватности моделей."
   ]
  },
  {
   "cell_type": "markdown",
   "metadata": {},
   "source": [
    "#### Константная модель"
   ]
  },
  {
   "cell_type": "code",
   "execution_count": 30,
   "metadata": {},
   "outputs": [
    {
     "name": "stdout",
     "output_type": "stream",
     "text": [
      "Accuracy   =  0.21\n",
      "Precision   =  0.21\n",
      "Recall =  1.0\n",
      "F1  =  0.34\n",
      "AUC-ROC  =  0.5\n"
     ]
    },
    {
     "data": {
      "image/png": "[encoded data removed]",
      "text/plain": [
       "<Figure size 432x288 with 2 Axes>"
      ]
     },
     "metadata": {
      "needs_background": "light"
     },
     "output_type": "display_data"
    },
    {
     "data": {
      "image/png": "[encoded data removed]",
      "text/plain": [
       "<Figure size 432x288 with 1 Axes>"
      ]
     },
     "metadata": {
      "needs_background": "light"
     },
     "output_type": "display_data"
    }
   ],
   "source": [
    "model_dummy = DummyClassifier(strategy='constant', constant=1)\n",
    "model_dummy.fit(features_train_ohe, target_train)\n",
    "metrics = metrics_model_classification(model_dummy, features_train_ohe, target_train)\n",
    "metrics_table.loc[len(metrics_table)] = (['constant_model'] + [metrics[-2]]);"
   ]
  },
  {
   "cell_type": "markdown",
   "metadata": {},
   "source": [
    "### Перебор моделей и гиперпараметров"
   ]
  },
  {
   "cell_type": "markdown",
   "metadata": {},
   "source": [
    "Попробуем найти наилучшую модель и ее гиперпараметры для исходных данных с несбалансированными классами. Для этого мы будем использовать функцию RandomizedSearchCV. Несмотря на то что с помощью функции GridSearchCV можно подобрать параметры точнее, функция RandomizedSearchCV выполняет подбор параметров в разы быстрее, что ускоряет проверку данной работы. Стоит отметить, что при подборе гиперпараметров модели процесс масштабирования признаков вынесен в Pipeline(), чтобы, во-первых, не применять масштабирование для моделей в которых это не имеет смысла, а, во-вторых, недопустить \"утечку данных\" в процессе перекрестной проверки из тестовой выборки в валидационную.\n",
    "\n",
    "Выбор наилучшей модели будем делать по метрике F1."
   ]
  },
  {
   "cell_type": "markdown",
   "metadata": {},
   "source": [
    "#### Модель решающего дерева"
   ]
  },
  {
   "cell_type": "code",
   "execution_count": 31,
   "metadata": {},
   "outputs": [
    {
     "name": "stdout",
     "output_type": "stream",
     "text": [
      "Параметры наилучшей модели:\n",
      "classifier__criterion : gini\n",
      "classifier__max_depth : 10\n",
      "classifier__max_features : auto\n",
      "classifier__min_samples_leaf : 2\n",
      "classifier__min_samples_split : 8\n",
      "preprocessing : None\n",
      "Мера F1 для наилучшей модели: 0.5049\n"
     ]
    }
   ],
   "source": [
    "pipe = Pipeline([('preprocessing', StandardScaler()),\n",
    "                 ('classifier', DecisionTreeClassifier(random_state=12345))])\n",
    "\n",
    "param_grid = [{'classifier': [DecisionTreeClassifier(random_state=12345)],\n",
    "               'preprocessing': [None],\n",
    "               'classifier__max_depth':list(np.arange(5, 100, step=5)) + [None],\n",
    "               'classifier__criterion':['gini','entropy'],\n",
    "               'classifier__max_features':['auto','sqrt','log2'],\n",
    "               'classifier__min_samples_leaf': st.randint(1,4),\n",
    "               'classifier__min_samples_split': np.arange(2, 10, step=2)}]\n",
    "\n",
    "grid =  RandomizedSearchCV(pipe,\n",
    "                           param_distributions=param_grid,\n",
    "                           scoring='f1',\n",
    "                           n_iter=20,\n",
    "                           cv=3,\n",
    "                           random_state=12345,\n",
    "                           refit=True)\n",
    "\n",
    "grid.fit(features_train_ohe_unscaled, target_train)\n",
    "\n",
    "print('Параметры наилучшей модели:')\n",
    "print(\"\\n\".join(f'{k} : {v}' for k,v in grid.best_params_.items() if k!='classifier'))\n",
    "print(\"Мера F1 для наилучшей модели:\", round(grid.best_score_,4))\n",
    "\n",
    "tree_model_unbalanced = grid.best_estimator_\n",
    "metrics_table.loc[len(metrics_table)] = ['tree_model_unbalanced'] + [round(grid.best_score_,2)];"
   ]
  },
  {
   "cell_type": "markdown",
   "metadata": {},
   "source": [
    "#### Модель случайного леса"
   ]
  },
  {
   "cell_type": "code",
   "execution_count": 32,
   "metadata": {},
   "outputs": [
    {
     "name": "stdout",
     "output_type": "stream",
     "text": [
      "Параметры наилучшей модели:\n",
      "classifier__criterion : entropy\n",
      "classifier__max_depth : 25\n",
      "classifier__max_features : auto\n",
      "classifier__min_samples_leaf : 1\n",
      "classifier__min_samples_split : 2\n",
      "classifier__n_estimators : 260\n",
      "preprocessing : None\n",
      "Мера F1 для наилучшей модели: 0.5782\n"
     ]
    }
   ],
   "source": [
    "pipe = Pipeline([('preprocessing', StandardScaler()),\n",
    "                 ('classifier', RandomForestClassifier(random_state=12345))])\n",
    "\n",
    "param_grid = [ {'classifier': [RandomForestClassifier(random_state=12345)],\n",
    "               'preprocessing': [None], \n",
    "               'classifier__max_depth':list(np.arange(5, 100, step=5)) + [None],\n",
    "               'classifier__criterion':['gini','entropy'],\n",
    "               'classifier__n_estimators':np.arange(10, 500, step=50),\n",
    "               'classifier__max_features':['auto','sqrt','log2'],\n",
    "               'classifier__min_samples_leaf': st.randint(1,4),\n",
    "               'classifier__min_samples_split': np.arange(2, 10, step=2)},\n",
    "             ]\n",
    "\n",
    "grid =  RandomizedSearchCV(pipe,\n",
    "                           param_distributions=param_grid,\n",
    "                           scoring='f1',\n",
    "                           n_iter=10,\n",
    "                           cv=3,\n",
    "                           random_state=12345,\n",
    "                           refit=True)\n",
    "\n",
    "grid.fit(features_train_ohe_unscaled, target_train)\n",
    "\n",
    "print('Параметры наилучшей модели:')\n",
    "print(\"\\n\".join(f'{k} : {v}' for k,v in grid.best_params_.items() if k!='classifier'))\n",
    "print(\"Мера F1 для наилучшей модели:\", round(grid.best_score_,4))\n",
    "\n",
    "rf_model_unbalanced = grid.best_estimator_\n",
    "metrics_table.loc[len(metrics_table)] = ['rf_model_unbalanced'] + [round(grid.best_score_,2)];"
   ]
  },
  {
   "cell_type": "markdown",
   "metadata": {},
   "source": [
    "#### Модель логистической регрессии"
   ]
  },
  {
   "cell_type": "code",
   "execution_count": 33,
   "metadata": {},
   "outputs": [
    {
     "name": "stdout",
     "output_type": "stream",
     "text": [
      "Параметры наилучшей модели:\n",
      "preprocessing : StandardScaler()\n",
      "classifier__solver : saga\n",
      "classifier__penalty : none\n",
      "classifier__C : 0.001\n",
      "Мера F1 для наилучшей модели: 0.3019\n"
     ]
    }
   ],
   "source": [
    "pipe = Pipeline([('preprocessing', StandardScaler()),\n",
    "                 ('classifier', LogisticRegression(random_state=12345))])\n",
    "\n",
    "param_grid = [ {'classifier': [LogisticRegression(random_state=12345)],\n",
    "               'preprocessing': [StandardScaler()], \n",
    "               'classifier__solver': ['newton-cg', 'lbfgs', 'liblinear', 'sag', 'saga'],\n",
    "               'classifier__penalty':['none', 'elasticnet', 'l1', 'l2'],\n",
    "               'classifier__C':[0.001, 0.01, 0.1, 1, 10, 100]},\n",
    "             ]\n",
    "\n",
    "grid =  RandomizedSearchCV(pipe,\n",
    "                           param_distributions=param_grid,\n",
    "                           scoring='f1',\n",
    "                           n_iter=20,\n",
    "                           cv=3,\n",
    "                           random_state=12345,\n",
    "                           refit=True)\n",
    "\n",
    "grid.fit(features_train_ohe_unscaled, target_train)\n",
    "\n",
    "print('Параметры наилучшей модели:')\n",
    "print(\"\\n\".join(f'{k} : {v}' for k,v in grid.best_params_.items() if k!='classifier'))\n",
    "print(\"Мера F1 для наилучшей модели:\", round(grid.best_score_,4))\n",
    "\n",
    "logreg_model_unbalanced = grid.best_estimator_\n",
    "metrics_table.loc[len(metrics_table)] = ['logreg_model_unbalanced'] + [round(grid.best_score_,2)];"
   ]
  },
  {
   "cell_type": "code",
   "execution_count": 34,
   "metadata": {},
   "outputs": [
    {
     "data": {
      "text/html": [
       "<div>\n",
       "<style scoped>\n",
       "    .dataframe tbody tr th:only-of-type {\n",
       "        vertical-align: middle;\n",
       "    }\n",
       "\n",
       "    .dataframe tbody tr th {\n",
       "        vertical-align: top;\n",
       "    }\n",
       "\n",
       "    .dataframe thead th {\n",
       "        text-align: right;\n",
       "    }\n",
       "</style>\n",
       "<table border=\"1\" class=\"dataframe\">\n",
       "  <thead>\n",
       "    <tr style=\"text-align: right;\">\n",
       "      <th></th>\n",
       "      <th>model</th>\n",
       "      <th>f1</th>\n",
       "    </tr>\n",
       "  </thead>\n",
       "  <tbody>\n",
       "    <tr>\n",
       "      <th>0</th>\n",
       "      <td>constant_model</td>\n",
       "      <td>0.34</td>\n",
       "    </tr>\n",
       "    <tr>\n",
       "      <th>1</th>\n",
       "      <td>tree_model_unbalanced</td>\n",
       "      <td>0.50</td>\n",
       "    </tr>\n",
       "    <tr>\n",
       "      <th>2</th>\n",
       "      <td>rf_model_unbalanced</td>\n",
       "      <td>0.58</td>\n",
       "    </tr>\n",
       "    <tr>\n",
       "      <th>3</th>\n",
       "      <td>logreg_model_unbalanced</td>\n",
       "      <td>0.30</td>\n",
       "    </tr>\n",
       "  </tbody>\n",
       "</table>\n",
       "</div>"
      ],
      "text/plain": [
       "                     model    f1\n",
       "0           constant_model  0.34\n",
       "1    tree_model_unbalanced  0.50\n",
       "2      rf_model_unbalanced  0.58\n",
       "3  logreg_model_unbalanced  0.30"
      ]
     },
     "execution_count": 34,
     "metadata": {},
     "output_type": "execute_result"
    }
   ],
   "source": [
    "metrics_table"
   ]
  },
  {
   "cell_type": "markdown",
   "metadata": {},
   "source": [
    "Как видим из таблицы, без учета дисбаланса лучше всего показала себя модель случайного леса. Модель логистической регрессии при таком дисбалансе показала метрику хуже чем у константной модели, что говорит о ее неприменимости в случае с сильным дисбалансом классов."
   ]
  },
  {
   "cell_type": "markdown",
   "metadata": {},
   "source": [
    "### Вывод по разделу"
   ]
  },
  {
   "cell_type": "markdown",
   "metadata": {},
   "source": [
    "- В данных выявлен сильный дисбаланс классов по целевому признаку в соотношениии 20%/80%. \n",
    "\n",
    "\n",
    "- В данных не выявленно коллинерности признаков.\n",
    "\n",
    "\n",
    "- Для обработки категориальных признаков использовался метод OneHotEncoder(), а для масштабирования числовых признаков - StandardScaler().\n",
    "\n",
    "\n",
    "- Без учета дисбаланса классов наилучший результат показала модель случайного леса со следующими гиперпараметрами:\n",
    "\n",
    "`n_estimators = 460,\n",
    "min_samples_split = 2,\n",
    "min_samples_leaf = 1,\n",
    "max_features = 'log2',\n",
    "max_depth = 65,\n",
    "criterion = 'gini'`\n",
    "\n",
    "\n",
    "При этом модель дала значение метрики f1 равное 0.58. \n",
    "\n",
    "Относительно константной модели полученная модель без учета дисбаланса может быть оценена как хорошая модель. Однако мы не достигли необходимой по условиям задачи метрики f1 больше 0.59."
   ]
  },
  {
   "cell_type": "markdown",
   "metadata": {},
   "source": [
    "## Борьба с дисбалансом"
   ]
  },
  {
   "cell_type": "markdown",
   "metadata": {},
   "source": [
    "Для борьбы с дисбалансом попробуем следующие методы:\n",
    "- Обучение модели со взвешиванием классов\n",
    "- Upsampling\n",
    "- Downsampling"
   ]
  },
  {
   "cell_type": "markdown",
   "metadata": {},
   "source": [
    "### Обучение модели со взвешиванием классов\n",
    "\n",
    "Добавим в параметры для перебора гиперпараметр class_weight = 'balanced' и выберем наилучшие параметры по метрике F1 для каждой модели."
   ]
  },
  {
   "cell_type": "code",
   "execution_count": 35,
   "metadata": {},
   "outputs": [
    {
     "name": "stdout",
     "output_type": "stream",
     "text": [
      "Параметры наилучшей модели:\n",
      "classifier__class_weight : balanced\n",
      "classifier__criterion : entropy\n",
      "classifier__max_depth : 5\n",
      "classifier__max_features : log2\n",
      "classifier__min_samples_leaf : 3\n",
      "classifier__min_samples_split : 4\n",
      "preprocessing : None\n",
      "Мера F1 для наилучшей модели: 0.536\n"
     ]
    }
   ],
   "source": [
    "pipe = Pipeline([('preprocessing', StandardScaler()),\n",
    "                 ('classifier', DecisionTreeClassifier(random_state=12345))])\n",
    "\n",
    "param_grid = [{'classifier': [DecisionTreeClassifier(random_state=12345)],\n",
    "               'preprocessing': [None],\n",
    "               'classifier__class_weight':['balanced', None],\n",
    "               'classifier__max_depth':list(np.arange(5, 100, step=5)) + [None],\n",
    "               'classifier__criterion':['gini','entropy'],\n",
    "               'classifier__max_features':['auto','sqrt','log2'],\n",
    "               'classifier__min_samples_leaf': st.randint(1,4),\n",
    "               'classifier__min_samples_split': np.arange(2, 10, step=2)}]\n",
    "\n",
    "grid =  RandomizedSearchCV(pipe,\n",
    "                           param_distributions=param_grid,\n",
    "                           scoring='f1',\n",
    "                           n_iter=20,\n",
    "                           cv=3,\n",
    "                           random_state=12345,\n",
    "                           refit=True)\n",
    "\n",
    "grid.fit(features_train_ohe_unscaled, target_train)\n",
    "\n",
    "print('Параметры наилучшей модели:')\n",
    "print(\"\\n\".join(f'{k} : {v}' for k,v in grid.best_params_.items() if k!='classifier'))\n",
    "print(\"Мера F1 для наилучшей модели:\", round(grid.best_score_,4))\n",
    "\n",
    "tree_model_balanced = grid.best_estimator_\n",
    "metrics_table.loc[len(metrics_table)] = ['tree_model_balanced'] + [round(grid.best_score_,2)];"
   ]
  },
  {
   "cell_type": "code",
   "execution_count": 36,
   "metadata": {},
   "outputs": [
    {
     "name": "stdout",
     "output_type": "stream",
     "text": [
      "Параметры наилучшей модели:\n",
      "classifier__class_weight : balanced\n",
      "classifier__criterion : entropy\n",
      "classifier__max_depth : 10\n",
      "classifier__max_features : auto\n",
      "classifier__min_samples_leaf : 2\n",
      "classifier__min_samples_split : 6\n",
      "classifier__n_estimators : 260\n",
      "preprocessing : None\n",
      "Мера F1 для наилучшей модели: 0.618\n"
     ]
    }
   ],
   "source": [
    "pipe = Pipeline([('preprocessing', StandardScaler()),\n",
    "                 ('classifier', RandomForestClassifier(random_state=12345))])\n",
    "\n",
    "param_grid = [ {'classifier': [RandomForestClassifier(random_state=12345)],\n",
    "               'preprocessing': [None], \n",
    "               'classifier__class_weight':['balanced', None], \n",
    "               'classifier__max_depth':list(np.arange(5, 100, step=5)) + [None],\n",
    "               'classifier__criterion':['gini','entropy'],\n",
    "               'classifier__n_estimators':np.arange(10, 500, step=50),\n",
    "               'classifier__max_features':['auto','sqrt','log2'],\n",
    "               'classifier__min_samples_leaf': st.randint(1,4),\n",
    "               'classifier__min_samples_split': np.arange(2, 10, step=2)},\n",
    "             ]\n",
    "\n",
    "grid =  RandomizedSearchCV(pipe,\n",
    "                           param_distributions=param_grid,\n",
    "                           scoring='f1',\n",
    "                           n_iter=10,\n",
    "                           cv=3,\n",
    "                           random_state=12345,\n",
    "                           refit=True)\n",
    "\n",
    "grid.fit(features_train_ohe_unscaled, target_train)\n",
    "\n",
    "print('Параметры наилучшей модели:')\n",
    "print(\"\\n\".join(f'{k} : {v}' for k,v in grid.best_params_.items() if k!='classifier'))\n",
    "print(\"Мера F1 для наилучшей модели:\", round(grid.best_score_,4))\n",
    "\n",
    "rf_model_balanced = grid.best_estimator_\n",
    "metrics_table.loc[len(metrics_table)] = ['rf_model_balanced'] + [round(grid.best_score_,2)];"
   ]
  },
  {
   "cell_type": "code",
   "execution_count": 37,
   "metadata": {},
   "outputs": [
    {
     "name": "stdout",
     "output_type": "stream",
     "text": [
      "Параметры наилучшей модели:\n",
      "preprocessing : StandardScaler()\n",
      "classifier__solver : saga\n",
      "classifier__penalty : l1\n",
      "classifier__class_weight : balanced\n",
      "classifier__C : 0.1\n",
      "Мера F1 для наилучшей модели: 0.4953\n"
     ]
    }
   ],
   "source": [
    "pipe = Pipeline([('preprocessing', StandardScaler()),\n",
    "                 ('classifier', LogisticRegression(random_state=12345))])\n",
    "\n",
    "param_grid = [ {'classifier': [LogisticRegression(random_state=12345)],\n",
    "               'preprocessing': [StandardScaler()], \n",
    "               'classifier__class_weight':['balanced', None],\n",
    "               'classifier__solver': ['newton-cg', 'lbfgs', 'liblinear', 'sag', 'saga'],\n",
    "               'classifier__penalty':['none', 'elasticnet', 'l1', 'l2'],\n",
    "               'classifier__C':[0.001, 0.01, 0.1, 1, 10, 100]},\n",
    "             ]\n",
    "\n",
    "grid =  RandomizedSearchCV(pipe,\n",
    "                           param_distributions=param_grid,\n",
    "                           scoring='f1',\n",
    "                           n_iter=20,\n",
    "                           cv=3,\n",
    "                           random_state=12345,\n",
    "                           refit=True)\n",
    "\n",
    "grid.fit(features_train_ohe_unscaled, target_train)\n",
    "\n",
    "print('Параметры наилучшей модели:')\n",
    "print(\"\\n\".join(f'{k} : {v}' for k,v in grid.best_params_.items() if k!='classifier'))\n",
    "print(\"Мера F1 для наилучшей модели:\", round(grid.best_score_,4))\n",
    "\n",
    "logreg_model_balanced = grid.best_estimator_\n",
    "metrics_table.loc[len(metrics_table)] = ['logreg_model_balanced'] + [round(grid.best_score_,2)];"
   ]
  },
  {
   "cell_type": "code",
   "execution_count": 38,
   "metadata": {},
   "outputs": [
    {
     "data": {
      "text/html": [
       "<div>\n",
       "<style scoped>\n",
       "    .dataframe tbody tr th:only-of-type {\n",
       "        vertical-align: middle;\n",
       "    }\n",
       "\n",
       "    .dataframe tbody tr th {\n",
       "        vertical-align: top;\n",
       "    }\n",
       "\n",
       "    .dataframe thead th {\n",
       "        text-align: right;\n",
       "    }\n",
       "</style>\n",
       "<table border=\"1\" class=\"dataframe\">\n",
       "  <thead>\n",
       "    <tr style=\"text-align: right;\">\n",
       "      <th></th>\n",
       "      <th>model</th>\n",
       "      <th>f1</th>\n",
       "    </tr>\n",
       "  </thead>\n",
       "  <tbody>\n",
       "    <tr>\n",
       "      <th>0</th>\n",
       "      <td>constant_model</td>\n",
       "      <td>0.34</td>\n",
       "    </tr>\n",
       "    <tr>\n",
       "      <th>1</th>\n",
       "      <td>tree_model_unbalanced</td>\n",
       "      <td>0.50</td>\n",
       "    </tr>\n",
       "    <tr>\n",
       "      <th>2</th>\n",
       "      <td>rf_model_unbalanced</td>\n",
       "      <td>0.58</td>\n",
       "    </tr>\n",
       "    <tr>\n",
       "      <th>3</th>\n",
       "      <td>logreg_model_unbalanced</td>\n",
       "      <td>0.30</td>\n",
       "    </tr>\n",
       "    <tr>\n",
       "      <th>4</th>\n",
       "      <td>tree_model_balanced</td>\n",
       "      <td>0.54</td>\n",
       "    </tr>\n",
       "    <tr>\n",
       "      <th>5</th>\n",
       "      <td>rf_model_balanced</td>\n",
       "      <td>0.62</td>\n",
       "    </tr>\n",
       "    <tr>\n",
       "      <th>6</th>\n",
       "      <td>logreg_model_balanced</td>\n",
       "      <td>0.50</td>\n",
       "    </tr>\n",
       "  </tbody>\n",
       "</table>\n",
       "</div>"
      ],
      "text/plain": [
       "                     model    f1\n",
       "0           constant_model  0.34\n",
       "1    tree_model_unbalanced  0.50\n",
       "2      rf_model_unbalanced  0.58\n",
       "3  logreg_model_unbalanced  0.30\n",
       "4      tree_model_balanced  0.54\n",
       "5        rf_model_balanced  0.62\n",
       "6    logreg_model_balanced  0.50"
      ]
     },
     "execution_count": 38,
     "metadata": {},
     "output_type": "execute_result"
    }
   ],
   "source": [
    "metrics_table"
   ]
  },
  {
   "cell_type": "markdown",
   "metadata": {},
   "source": [
    "Лучшей моделью опять оказалась модель Random Forest. С помощью параметра class_weight = 'balanced' нам удалось достигнуть метрики F1 на валидационной выборке равной 0.62. При этом мы видим что с применением взвешенных классов метрика f1 повысилась у всех рассматриваемых моделей."
   ]
  },
  {
   "cell_type": "markdown",
   "metadata": {},
   "source": [
    "### Upsampling\n",
    "\n",
    "Увеличивать выборку мы будем с помощью метода SMOTE библиотеки imblearn. Как и в случае с масштабированием признаков, этот метод лучше применять внутри Pipline. чтобы не переобучить модель и не получить нереалистично завышенные метрики.\n",
    "Найдем наилучшую модель:\n"
   ]
  },
  {
   "cell_type": "code",
   "execution_count": 39,
   "metadata": {},
   "outputs": [
    {
     "name": "stdout",
     "output_type": "stream",
     "text": [
      "Параметры наилучшей модели:\n",
      "classifier__class_weight : None\n",
      "classifier__criterion : entropy\n",
      "classifier__max_depth : 10\n",
      "classifier__max_features : auto\n",
      "classifier__min_samples_leaf : 1\n",
      "classifier__min_samples_split : 8\n",
      "preprocessing : None\n",
      "sampling : SMOTE(random_state=12345)\n",
      "Мера F1 для наилучшей модели: 0.5362\n"
     ]
    }
   ],
   "source": [
    "pipe = Pipeline([\n",
    "    ('preprocessing', StandardScaler()),\n",
    "    ('sampling', SMOTE()),\n",
    "    ('classifier', DecisionTreeClassifier(random_state=12345))])\n",
    "\n",
    "param_grid = [{'classifier': [DecisionTreeClassifier(random_state=12345)],\n",
    "               'preprocessing': [None],\n",
    "               'sampling': [SMOTE(random_state=12345)],\n",
    "               'classifier__class_weight':[ None],\n",
    "               'classifier__max_depth':list(np.arange(5, 100, step=5)) + [None],\n",
    "               'classifier__criterion':['gini','entropy'],\n",
    "               'classifier__max_features':['auto','sqrt','log2'],\n",
    "               'classifier__min_samples_leaf': st.randint(1,4),\n",
    "               'classifier__min_samples_split': np.arange(2, 10, step=2)}]\n",
    "\n",
    "grid =  RandomizedSearchCV(pipe,\n",
    "                           param_distributions=param_grid,\n",
    "                           scoring='f1',\n",
    "                           n_iter=20,\n",
    "                           cv=3,\n",
    "                           random_state=12345,\n",
    "                           refit=True)\n",
    "\n",
    "grid.fit(features_train_ohe_unscaled, target_train)\n",
    "\n",
    "print('Параметры наилучшей модели:')\n",
    "print(\"\\n\".join(f'{k} : {v}' for k,v in grid.best_params_.items() if k!='classifier'))\n",
    "print(\"Мера F1 для наилучшей модели:\", round(grid.best_score_,4))\n",
    "\n",
    "tree_model_smote = grid.best_estimator_\n",
    "metrics_table.loc[len(metrics_table)] = ['tree_model_smote'] + [round(grid.best_score_,2)];"
   ]
  },
  {
   "cell_type": "code",
   "execution_count": 40,
   "metadata": {},
   "outputs": [
    {
     "name": "stdout",
     "output_type": "stream",
     "text": [
      "Параметры наилучшей модели:\n",
      "classifier__class_weight : None\n",
      "classifier__criterion : entropy\n",
      "classifier__max_depth : 35\n",
      "classifier__max_features : auto\n",
      "classifier__min_samples_leaf : 1\n",
      "classifier__min_samples_split : 8\n",
      "classifier__n_estimators : 260\n",
      "preprocessing : None\n",
      "sampling : SMOTE(random_state=12345)\n",
      "Мера F1 для наилучшей модели: 0.5996\n"
     ]
    }
   ],
   "source": [
    "pipe = Pipeline([\n",
    "    ('preprocessing', StandardScaler()),\n",
    "    ('sampling', SMOTE()),\n",
    "    ('classifier', RandomForestClassifier(random_state=12345))])\n",
    "\n",
    "param_grid = [ {'classifier': [RandomForestClassifier(random_state=12345)],\n",
    "               'preprocessing': [None],\n",
    "               'sampling': [SMOTE(random_state=12345)],\n",
    "               'classifier__class_weight':[ None],\n",
    "               'classifier__max_depth':list(np.arange(5, 100, step=5)) + [None],\n",
    "               'classifier__criterion':['gini','entropy'],\n",
    "               'classifier__n_estimators':np.arange(10, 500, step=50),\n",
    "               'classifier__max_features':['auto','sqrt','log2'],\n",
    "               'classifier__min_samples_leaf': st.randint(1,4),\n",
    "               'classifier__min_samples_split': np.arange(2, 10, step=2)},\n",
    "             ]\n",
    "\n",
    "grid =  RandomizedSearchCV(pipe,\n",
    "                           param_distributions=param_grid,\n",
    "                           scoring='f1',\n",
    "                           n_iter=10,\n",
    "                           cv=3,\n",
    "                           random_state=12345,\n",
    "                           refit=True)\n",
    "\n",
    "grid.fit(features_train_ohe_unscaled, target_train)\n",
    "\n",
    "print('Параметры наилучшей модели:')\n",
    "print(\"\\n\".join(f'{k} : {v}' for k,v in grid.best_params_.items() if k!='classifier'))\n",
    "print(\"Мера F1 для наилучшей модели:\", round(grid.best_score_,4))\n",
    "\n",
    "rf_model_smote = grid.best_estimator_\n",
    "metrics_table.loc[len(metrics_table)] = ['rf_model_smote'] + [round(grid.best_score_,2)];"
   ]
  },
  {
   "cell_type": "code",
   "execution_count": 41,
   "metadata": {},
   "outputs": [
    {
     "name": "stdout",
     "output_type": "stream",
     "text": [
      "Параметры наилучшей модели:\n",
      "sampling : SMOTE(random_state=12345)\n",
      "preprocessing : StandardScaler()\n",
      "classifier__solver : saga\n",
      "classifier__penalty : l2\n",
      "classifier__class_weight : None\n",
      "classifier__C : 0.001\n",
      "Мера F1 для наилучшей модели: 0.4948\n"
     ]
    }
   ],
   "source": [
    "pipe = Pipeline([\n",
    "    ('preprocessing', StandardScaler()),\n",
    "    ('sampling', SMOTE()),\n",
    "    ('classifier', LogisticRegression(random_state=12345))])\n",
    "\n",
    "param_grid = [ {'classifier': [LogisticRegression(random_state=12345)],\n",
    "              'preprocessing': [StandardScaler()], \n",
    "               'sampling': [SMOTE(random_state=12345)],\n",
    "               'classifier__class_weight':[ None],\n",
    "               'classifier__solver': ['newton-cg', 'lbfgs', 'liblinear', 'sag', 'saga'],\n",
    "               'classifier__penalty':['none', 'elasticnet', 'l1', 'l2'],\n",
    "               'classifier__C':[0.001, 0.01, 0.1, 1, 10, 100]},\n",
    "             ]\n",
    "\n",
    "grid =  RandomizedSearchCV(pipe,\n",
    "                           param_distributions=param_grid,\n",
    "                           scoring='f1',\n",
    "                           n_iter=20,\n",
    "                           cv=3,\n",
    "                           random_state=12345,\n",
    "                           refit=True)\n",
    "\n",
    "grid.fit(features_train_ohe_unscaled, target_train)\n",
    "\n",
    "print('Параметры наилучшей модели:')\n",
    "print(\"\\n\".join(f'{k} : {v}' for k,v in grid.best_params_.items() if k!='classifier'))\n",
    "print(\"Мера F1 для наилучшей модели:\", round(grid.best_score_,4))\n",
    "\n",
    "logreg_model_balanced = grid.best_estimator_\n",
    "metrics_table.loc[len(metrics_table)] = ['logreg_model_balanced'] + [round(grid.best_score_,2)];"
   ]
  },
  {
   "cell_type": "markdown",
   "metadata": {},
   "source": [
    "### Downsampling\n",
    "\n",
    "Уменьшать выборку мы будем с помощью метода RandomUnderSampler библиотеки imblearn. Как и в случае с масштабированием признаков, этот метод мы применим внутри Pipline.\n"
   ]
  },
  {
   "cell_type": "code",
   "execution_count": 42,
   "metadata": {},
   "outputs": [
    {
     "name": "stdout",
     "output_type": "stream",
     "text": [
      "Параметры наилучшей модели:\n",
      "classifier__criterion : entropy\n",
      "classifier__max_depth : 10\n",
      "classifier__max_features : auto\n",
      "classifier__min_samples_leaf : 1\n",
      "classifier__min_samples_split : 8\n",
      "preprocessing : None\n",
      "sampling : RandomUnderSampler(random_state=12345)\n",
      "Мера F1 для наилучшей модели: 0.5181\n"
     ]
    }
   ],
   "source": [
    "pipe = Pipeline([('preprocessing', StandardScaler()),\n",
    "                 ('sampling', RandomUnderSampler()),\n",
    "                 ('classifier', DecisionTreeClassifier(random_state=12345))])\n",
    "\n",
    "param_grid = [{'classifier': [DecisionTreeClassifier(random_state=12345)],\n",
    "               'preprocessing': [None],\n",
    "               'sampling': [RandomUnderSampler(random_state=12345)],\n",
    "               'classifier__max_depth':list(np.arange(5, 100, step=5)) + [None],\n",
    "               'classifier__criterion':['gini','entropy'],\n",
    "               'classifier__max_features':['auto','sqrt','log2'],\n",
    "               'classifier__min_samples_leaf': st.randint(1,4),\n",
    "               'classifier__min_samples_split': np.arange(2, 10, step=2)}]\n",
    "\n",
    "grid =  RandomizedSearchCV(pipe,\n",
    "                           param_distributions=param_grid,\n",
    "                           scoring='f1',\n",
    "                           n_iter=20,\n",
    "                           cv=3,\n",
    "                           random_state=12345,\n",
    "                           refit=True)\n",
    "\n",
    "grid.fit(features_train_ohe_unscaled, target_train)\n",
    "\n",
    "print('Параметры наилучшей модели:')\n",
    "print(\"\\n\".join(f'{k} : {v}' for k,v in grid.best_params_.items() if k!='classifier'))\n",
    "print(\"Мера F1 для наилучшей модели:\", round(grid.best_score_,4))\n",
    "\n",
    "tree_model_rus = grid.best_estimator_\n",
    "metrics_table.loc[len(metrics_table)] = ['tree_model_rus'] + [round(grid.best_score_,2)];"
   ]
  },
  {
   "cell_type": "code",
   "execution_count": 43,
   "metadata": {},
   "outputs": [
    {
     "name": "stdout",
     "output_type": "stream",
     "text": [
      "Параметры наилучшей модели:\n",
      "classifier__criterion : entropy\n",
      "classifier__max_depth : 35\n",
      "classifier__max_features : auto\n",
      "classifier__min_samples_leaf : 1\n",
      "classifier__min_samples_split : 8\n",
      "classifier__n_estimators : 300\n",
      "preprocessing : None\n",
      "sampling : RandomUnderSampler(random_state=12345)\n",
      "Мера F1 для наилучшей модели: 0.5932\n"
     ]
    }
   ],
   "source": [
    "pipe = Pipeline([('preprocessing', StandardScaler()),\n",
    "                 ('sampling', RandomUnderSampler()),\n",
    "                 ('classifier', RandomForestClassifier(random_state=12345))])\n",
    "\n",
    "param_grid = [ {'classifier': [RandomForestClassifier(random_state=12345)],\n",
    "               'preprocessing': [None], \n",
    "                'sampling': [RandomUnderSampler(random_state=12345)],\n",
    "               'classifier__max_depth':list(np.arange(5, 100, step=5)) + [None],\n",
    "               'classifier__criterion':['gini','entropy'],\n",
    "               'classifier__n_estimators':np.arange(50, 400, step=50),\n",
    "               'classifier__max_features':['auto','sqrt','log2'],\n",
    "               'classifier__min_samples_leaf': st.randint(1,4),\n",
    "               'classifier__min_samples_split': np.arange(2, 10, step=2)},\n",
    "             ]\n",
    "\n",
    "grid =  RandomizedSearchCV(pipe,\n",
    "                           param_distributions=param_grid,\n",
    "                           scoring='f1',\n",
    "                           n_iter=10,\n",
    "                           cv=3,\n",
    "                           random_state=12345,\n",
    "                           refit=True)\n",
    "\n",
    "grid.fit(features_train_ohe_unscaled, target_train)\n",
    "\n",
    "print('Параметры наилучшей модели:')\n",
    "print(\"\\n\".join(f'{k} : {v}' for k,v in grid.best_params_.items() if k!='classifier'))\n",
    "print(\"Мера F1 для наилучшей модели:\", round(grid.best_score_,4))\n",
    "\n",
    "rf_model_rus = grid.best_estimator_\n",
    "metrics_table.loc[len(metrics_table)] = ['rf_model_rus'] + [round(grid.best_score_,2)];"
   ]
  },
  {
   "cell_type": "code",
   "execution_count": 44,
   "metadata": {},
   "outputs": [
    {
     "name": "stdout",
     "output_type": "stream",
     "text": [
      "Параметры наилучшей модели:\n",
      "sampling : RandomUnderSampler(random_state=12345)\n",
      "preprocessing : StandardScaler()\n",
      "classifier__solver : liblinear\n",
      "classifier__penalty : l1\n",
      "classifier__C : 0.1\n",
      "Мера F1 для наилучшей модели: 0.4989\n"
     ]
    }
   ],
   "source": [
    "pipe = Pipeline([('preprocessing', StandardScaler()),\n",
    "                 ('sampling', RandomUnderSampler()),\n",
    "                 ('classifier', LogisticRegression(random_state=12345))])\n",
    "\n",
    "param_grid = [ {'classifier': [LogisticRegression(random_state=12345)],\n",
    "               'preprocessing': [StandardScaler()], \n",
    "               'sampling': [RandomUnderSampler(random_state=12345)],\n",
    "               'classifier__solver': ['newton-cg', 'lbfgs', 'liblinear', 'sag', 'saga'],\n",
    "               'classifier__penalty':['none', 'elasticnet', 'l1', 'l2'],\n",
    "               'classifier__C':[0.001, 0.01, 0.1, 1, 10, 100]},\n",
    "             ]\n",
    "\n",
    "grid =  RandomizedSearchCV(pipe,\n",
    "                           param_distributions=param_grid,\n",
    "                           scoring='f1',\n",
    "                           n_iter=20,\n",
    "                           cv=3,\n",
    "                           random_state=12345,\n",
    "                           refit=True)\n",
    "\n",
    "grid.fit(features_train_ohe_unscaled, target_train)\n",
    "\n",
    "print('Параметры наилучшей модели:')\n",
    "print(\"\\n\".join(f'{k} : {v}' for k,v in grid.best_params_.items() if k!='classifier'))\n",
    "print(\"Мера F1 для наилучшей модели:\", round(grid.best_score_,4))\n",
    "\n",
    "logreg_model_rus = grid.best_estimator_\n",
    "metrics_table.loc[len(metrics_table)] = ['logreg_model_rus'] + [round(grid.best_score_,2)];"
   ]
  },
  {
   "cell_type": "markdown",
   "metadata": {},
   "source": [
    "### Выбор модели"
   ]
  },
  {
   "cell_type": "code",
   "execution_count": 45,
   "metadata": {},
   "outputs": [
    {
     "data": {
      "text/html": [
       "<style  type=\"text/css\" >\n",
       "#T_c8ade_row0_col1{\n",
       "            background-color:  #ece7f2;\n",
       "            color:  #000000;\n",
       "        }#T_c8ade_row1_col1,#T_c8ade_row6_col1,#T_c8ade_row12_col1{\n",
       "            background-color:  #358fc0;\n",
       "            color:  #000000;\n",
       "        }#T_c8ade_row2_col1{\n",
       "            background-color:  #045a8d;\n",
       "            color:  #f1f1f1;\n",
       "        }#T_c8ade_row3_col1{\n",
       "            background-color:  #fff7fb;\n",
       "            color:  #000000;\n",
       "        }#T_c8ade_row4_col1,#T_c8ade_row7_col1{\n",
       "            background-color:  #056faf;\n",
       "            color:  #f1f1f1;\n",
       "        }#T_c8ade_row5_col1{\n",
       "            background-color:  #023858;\n",
       "            color:  #f1f1f1;\n",
       "        }#T_c8ade_row8_col1{\n",
       "            background-color:  #034871;\n",
       "            color:  #f1f1f1;\n",
       "        }#T_c8ade_row9_col1{\n",
       "            background-color:  #4496c3;\n",
       "            color:  #000000;\n",
       "        }#T_c8ade_row10_col1{\n",
       "            background-color:  #1c7fb8;\n",
       "            color:  #000000;\n",
       "        }#T_c8ade_row11_col1{\n",
       "            background-color:  #045280;\n",
       "            color:  #f1f1f1;\n",
       "        }</style><table id=\"T_c8ade_\" ><thead>    <tr>        <th class=\"blank level0\" ></th>        <th class=\"col_heading level0 col0\" >model</th>        <th class=\"col_heading level0 col1\" >f1</th>    </tr></thead><tbody>\n",
       "                <tr>\n",
       "                        <th id=\"T_c8ade_level0_row0\" class=\"row_heading level0 row0\" >0</th>\n",
       "                        <td id=\"T_c8ade_row0_col0\" class=\"data row0 col0\" >constant_model</td>\n",
       "                        <td id=\"T_c8ade_row0_col1\" class=\"data row0 col1\" >0.340000</td>\n",
       "            </tr>\n",
       "            <tr>\n",
       "                        <th id=\"T_c8ade_level0_row1\" class=\"row_heading level0 row1\" >1</th>\n",
       "                        <td id=\"T_c8ade_row1_col0\" class=\"data row1 col0\" >tree_model_unbalanced</td>\n",
       "                        <td id=\"T_c8ade_row1_col1\" class=\"data row1 col1\" >0.500000</td>\n",
       "            </tr>\n",
       "            <tr>\n",
       "                        <th id=\"T_c8ade_level0_row2\" class=\"row_heading level0 row2\" >2</th>\n",
       "                        <td id=\"T_c8ade_row2_col0\" class=\"data row2 col0\" >rf_model_unbalanced</td>\n",
       "                        <td id=\"T_c8ade_row2_col1\" class=\"data row2 col1\" >0.580000</td>\n",
       "            </tr>\n",
       "            <tr>\n",
       "                        <th id=\"T_c8ade_level0_row3\" class=\"row_heading level0 row3\" >3</th>\n",
       "                        <td id=\"T_c8ade_row3_col0\" class=\"data row3 col0\" >logreg_model_unbalanced</td>\n",
       "                        <td id=\"T_c8ade_row3_col1\" class=\"data row3 col1\" >0.300000</td>\n",
       "            </tr>\n",
       "            <tr>\n",
       "                        <th id=\"T_c8ade_level0_row4\" class=\"row_heading level0 row4\" >4</th>\n",
       "                        <td id=\"T_c8ade_row4_col0\" class=\"data row4 col0\" >tree_model_balanced</td>\n",
       "                        <td id=\"T_c8ade_row4_col1\" class=\"data row4 col1\" >0.540000</td>\n",
       "            </tr>\n",
       "            <tr>\n",
       "                        <th id=\"T_c8ade_level0_row5\" class=\"row_heading level0 row5\" >5</th>\n",
       "                        <td id=\"T_c8ade_row5_col0\" class=\"data row5 col0\" >rf_model_balanced</td>\n",
       "                        <td id=\"T_c8ade_row5_col1\" class=\"data row5 col1\" >0.620000</td>\n",
       "            </tr>\n",
       "            <tr>\n",
       "                        <th id=\"T_c8ade_level0_row6\" class=\"row_heading level0 row6\" >6</th>\n",
       "                        <td id=\"T_c8ade_row6_col0\" class=\"data row6 col0\" >logreg_model_balanced</td>\n",
       "                        <td id=\"T_c8ade_row6_col1\" class=\"data row6 col1\" >0.500000</td>\n",
       "            </tr>\n",
       "            <tr>\n",
       "                        <th id=\"T_c8ade_level0_row7\" class=\"row_heading level0 row7\" >7</th>\n",
       "                        <td id=\"T_c8ade_row7_col0\" class=\"data row7 col0\" >tree_model_smote</td>\n",
       "                        <td id=\"T_c8ade_row7_col1\" class=\"data row7 col1\" >0.540000</td>\n",
       "            </tr>\n",
       "            <tr>\n",
       "                        <th id=\"T_c8ade_level0_row8\" class=\"row_heading level0 row8\" >8</th>\n",
       "                        <td id=\"T_c8ade_row8_col0\" class=\"data row8 col0\" >rf_model_smote</td>\n",
       "                        <td id=\"T_c8ade_row8_col1\" class=\"data row8 col1\" >0.600000</td>\n",
       "            </tr>\n",
       "            <tr>\n",
       "                        <th id=\"T_c8ade_level0_row9\" class=\"row_heading level0 row9\" >9</th>\n",
       "                        <td id=\"T_c8ade_row9_col0\" class=\"data row9 col0\" >logreg_model_balanced</td>\n",
       "                        <td id=\"T_c8ade_row9_col1\" class=\"data row9 col1\" >0.490000</td>\n",
       "            </tr>\n",
       "            <tr>\n",
       "                        <th id=\"T_c8ade_level0_row10\" class=\"row_heading level0 row10\" >10</th>\n",
       "                        <td id=\"T_c8ade_row10_col0\" class=\"data row10 col0\" >tree_model_rus</td>\n",
       "                        <td id=\"T_c8ade_row10_col1\" class=\"data row10 col1\" >0.520000</td>\n",
       "            </tr>\n",
       "            <tr>\n",
       "                        <th id=\"T_c8ade_level0_row11\" class=\"row_heading level0 row11\" >11</th>\n",
       "                        <td id=\"T_c8ade_row11_col0\" class=\"data row11 col0\" >rf_model_rus</td>\n",
       "                        <td id=\"T_c8ade_row11_col1\" class=\"data row11 col1\" >0.590000</td>\n",
       "            </tr>\n",
       "            <tr>\n",
       "                        <th id=\"T_c8ade_level0_row12\" class=\"row_heading level0 row12\" >12</th>\n",
       "                        <td id=\"T_c8ade_row12_col0\" class=\"data row12 col0\" >logreg_model_rus</td>\n",
       "                        <td id=\"T_c8ade_row12_col1\" class=\"data row12 col1\" >0.500000</td>\n",
       "            </tr>\n",
       "    </tbody></table>"
      ],
      "text/plain": [
       "<pandas.io.formats.style.Styler at 0x7fb0c06acfd0>"
      ]
     },
     "execution_count": 45,
     "metadata": {},
     "output_type": "execute_result"
    }
   ],
   "source": [
    "metrics_table.style.background_gradient(subset = ['f1'])"
   ]
  },
  {
   "cell_type": "markdown",
   "metadata": {},
   "source": [
    "Как видно из таблицы, различные техники борьбы с дисбалансом по разному повлияли на метрики трех исследуемых моделей. В целом, самой неэффективной в нашей ситуации оказалась тактика уменьшения выборки, самой эффективной - взвешивание классов.\n",
    "\n",
    "По условиям задачи необходимо построить модель с предельно большим значением F1-меры. Поэтому в данном случае лучшей моделью является модель случайного леса с применением взвешивания классов со следующими гиперпараметрами:\n",
    "\n",
    "`n_estimators = 260,\n",
    "min_samples_split = 6,\n",
    "min_samples_leaf = 2,\n",
    "max_features = 'auto',\n",
    "max_depth = 10,\n",
    "criterion = 'entropy',\n",
    "class_weight = 'balanced'`\n",
    "\n",
    "Модель дала значение метрики F1 равное 0.62. "
   ]
  },
  {
   "cell_type": "markdown",
   "metadata": {},
   "source": [
    "### Вывод по разделу\n",
    "- Были рассмотренны три метода борьбы с дисбалансом классов:\n",
    "    * Обучение модели со взвешиванием классов\n",
    "    * Upsampling\n",
    "    * Downsampling\n",
    "\n",
    "- Все три метода показали увеличение метрики F1 относительно модели обученной без учета дисбаланса.\n",
    "\n",
    "- Во всех трех методах наилучшей моделю была выбрана модель RandomForest. \n",
    "\n",
    "- Наилучший результат по метрике F1 показала модель Random Forest со взвешиванием классов, F1 = 0.62\n",
    "\n"
   ]
  },
  {
   "cell_type": "markdown",
   "metadata": {},
   "source": [
    "## Тестирование модели"
   ]
  },
  {
   "cell_type": "markdown",
   "metadata": {},
   "source": [
    "Протестируем наилучшую модель по метрике F1 на тестовой выборке:"
   ]
  },
  {
   "cell_type": "code",
   "execution_count": 46,
   "metadata": {},
   "outputs": [
    {
     "name": "stdout",
     "output_type": "stream",
     "text": [
      "Accuracy   =  0.84\n",
      "Precision   =  0.58\n",
      "Recall =  0.67\n",
      "F1  =  0.62\n",
      "AUC-ROC  =  0.86\n"
     ]
    },
    {
     "data": {
      "image/png": "[encoded data removed]",
      "text/plain": [
       "<Figure size 432x288 with 2 Axes>"
      ]
     },
     "metadata": {
      "needs_background": "light"
     },
     "output_type": "display_data"
    },
    {
     "data": {
      "image/png": "[encoded data removed]",
      "text/plain": [
       "<Figure size 432x288 with 1 Axes>"
      ]
     },
     "metadata": {
      "needs_background": "light"
     },
     "output_type": "display_data"
    }
   ],
   "source": [
    "metrics = metrics_model_classification(rf_model_balanced, features_test_ohe_unscaled, target_test)"
   ]
  },
  {
   "cell_type": "markdown",
   "metadata": {},
   "source": [
    "Результат на тестовой выборке совпал с результатами кросс-валидации, F1  больше 0.59, а значит поставленная задача выполнена."
   ]
  },
  {
   "cell_type": "markdown",
   "metadata": {},
   "source": [
    "### Проверка метрики AUC-ROC"
   ]
  },
  {
   "cell_type": "markdown",
   "metadata": {},
   "source": [
    "Дополнительно проверим как себя ведут остальные метрики в том числе AUC-ROC на тестовой выборке. Для этого возьмем четыре модели с наилучшим результатом f1 по итогам кросс-валидации. Это все варианты модели случайного леса."
   ]
  },
  {
   "cell_type": "code",
   "execution_count": 47,
   "metadata": {},
   "outputs": [],
   "source": [
    "extended_metrics_table = pd.DataFrame(columns=['model', 'accuracy', 'precision', 'recall', 'f1', 'auc'])"
   ]
  },
  {
   "cell_type": "code",
   "execution_count": 48,
   "metadata": {},
   "outputs": [],
   "source": [
    "%%capture\n",
    "models_dict = {'rf_model_balanced': rf_model_balanced,            \n",
    "               'rf_model_smote': rf_model_smote,\n",
    "               'rf_model_rus': rf_model_rus, \n",
    "               'rf_model_unbalanced': rf_model_unbalanced}\n",
    "for model in models_dict:\n",
    "    metrics = metrics_model_classification(models_dict[model], features_test_ohe_unscaled, target_test);\n",
    "    extended_metrics_table.loc[len(extended_metrics_table)] = ([model] + list(metrics))"
   ]
  },
  {
   "cell_type": "code",
   "execution_count": 50,
   "metadata": {},
   "outputs": [
    {
     "data": {
      "text/html": [
       "<style  type=\"text/css\" >\n",
       "#T_5bcfe_row0_col2{\n",
       "            background-color:  #a8bedc;\n",
       "            color:  #000000;\n",
       "        }#T_5bcfe_row0_col3{\n",
       "            background-color:  #2d8abd;\n",
       "            color:  #000000;\n",
       "        }#T_5bcfe_row0_col4,#T_5bcfe_row2_col3,#T_5bcfe_row2_col5,#T_5bcfe_row3_col2{\n",
       "            background-color:  #023858;\n",
       "            color:  #f1f1f1;\n",
       "        }#T_5bcfe_row0_col5,#T_5bcfe_row1_col5,#T_5bcfe_row2_col2,#T_5bcfe_row3_col3,#T_5bcfe_row3_col4,#T_5bcfe_row3_col5{\n",
       "            background-color:  #fff7fb;\n",
       "            color:  #000000;\n",
       "        }#T_5bcfe_row1_col2{\n",
       "            background-color:  #167bb6;\n",
       "            color:  #000000;\n",
       "        }#T_5bcfe_row1_col3{\n",
       "            background-color:  #c1cae2;\n",
       "            color:  #000000;\n",
       "        }#T_5bcfe_row1_col4,#T_5bcfe_row2_col4{\n",
       "            background-color:  #2685bb;\n",
       "            color:  #000000;\n",
       "        }</style><table id=\"T_5bcfe_\" ><thead>    <tr>        <th class=\"blank level0\" ></th>        <th class=\"col_heading level0 col0\" >model</th>        <th class=\"col_heading level0 col1\" >accuracy</th>        <th class=\"col_heading level0 col2\" >precision</th>        <th class=\"col_heading level0 col3\" >recall</th>        <th class=\"col_heading level0 col4\" >f1</th>        <th class=\"col_heading level0 col5\" >auc</th>    </tr></thead><tbody>\n",
       "                <tr>\n",
       "                        <th id=\"T_5bcfe_level0_row0\" class=\"row_heading level0 row0\" >0</th>\n",
       "                        <td id=\"T_5bcfe_row0_col0\" class=\"data row0 col0\" >rf_model_balanced</td>\n",
       "                        <td id=\"T_5bcfe_row0_col1\" class=\"data row0 col1\" >0.840000</td>\n",
       "                        <td id=\"T_5bcfe_row0_col2\" class=\"data row0 col2\" >0.580000</td>\n",
       "                        <td id=\"T_5bcfe_row0_col3\" class=\"data row0 col3\" >0.670000</td>\n",
       "                        <td id=\"T_5bcfe_row0_col4\" class=\"data row0 col4\" >0.620000</td>\n",
       "                        <td id=\"T_5bcfe_row0_col5\" class=\"data row0 col5\" >0.860000</td>\n",
       "            </tr>\n",
       "            <tr>\n",
       "                        <th id=\"T_5bcfe_level0_row1\" class=\"row_heading level0 row1\" >1</th>\n",
       "                        <td id=\"T_5bcfe_row1_col0\" class=\"data row1 col0\" >rf_model_smote</td>\n",
       "                        <td id=\"T_5bcfe_row1_col1\" class=\"data row1 col1\" >0.860000</td>\n",
       "                        <td id=\"T_5bcfe_row1_col2\" class=\"data row1 col2\" >0.670000</td>\n",
       "                        <td id=\"T_5bcfe_row1_col3\" class=\"data row1 col3\" >0.550000</td>\n",
       "                        <td id=\"T_5bcfe_row1_col4\" class=\"data row1 col4\" >0.600000</td>\n",
       "                        <td id=\"T_5bcfe_row1_col5\" class=\"data row1 col5\" >0.860000</td>\n",
       "            </tr>\n",
       "            <tr>\n",
       "                        <th id=\"T_5bcfe_level0_row2\" class=\"row_heading level0 row2\" >2</th>\n",
       "                        <td id=\"T_5bcfe_row2_col0\" class=\"data row2 col0\" >rf_model_rus</td>\n",
       "                        <td id=\"T_5bcfe_row2_col1\" class=\"data row2 col1\" >0.790000</td>\n",
       "                        <td id=\"T_5bcfe_row2_col2\" class=\"data row2 col2\" >0.480000</td>\n",
       "                        <td id=\"T_5bcfe_row2_col3\" class=\"data row2 col3\" >0.790000</td>\n",
       "                        <td id=\"T_5bcfe_row2_col4\" class=\"data row2 col4\" >0.600000</td>\n",
       "                        <td id=\"T_5bcfe_row2_col5\" class=\"data row2 col5\" >0.870000</td>\n",
       "            </tr>\n",
       "            <tr>\n",
       "                        <th id=\"T_5bcfe_level0_row3\" class=\"row_heading level0 row3\" >3</th>\n",
       "                        <td id=\"T_5bcfe_row3_col0\" class=\"data row3 col0\" >rf_model_unbalanced</td>\n",
       "                        <td id=\"T_5bcfe_row3_col1\" class=\"data row3 col1\" >0.860000</td>\n",
       "                        <td id=\"T_5bcfe_row3_col2\" class=\"data row3 col2\" >0.750000</td>\n",
       "                        <td id=\"T_5bcfe_row3_col3\" class=\"data row3 col3\" >0.450000</td>\n",
       "                        <td id=\"T_5bcfe_row3_col4\" class=\"data row3 col4\" >0.560000</td>\n",
       "                        <td id=\"T_5bcfe_row3_col5\" class=\"data row3 col5\" >0.860000</td>\n",
       "            </tr>\n",
       "    </tbody></table>"
      ],
      "text/plain": [
       "<pandas.io.formats.style.Styler at 0x7fb14e8c43a0>"
      ]
     },
     "execution_count": 50,
     "metadata": {},
     "output_type": "execute_result"
    }
   ],
   "source": [
    "extended_metrics_table.style.background_gradient(subset = ['f1', 'auc', 'recall', 'precision'])"
   ]
  },
  {
   "cell_type": "markdown",
   "metadata": {},
   "source": [
    "Как видно из результата, несмотря на то что метрика f1 у нас меняется от 0.56 до 0.62, площадь под roc кривой остается практически неизменной, а значит плохо подходит для выбора наилучшей модели в нашем случае. \n",
    "Так же стоит отметить что, у нас есть три модели, метрики f1 которых на тестовой выборке больше 0.59. При этом значения точности и полноты разняться у трех моделей. Если бы у нас стояла задача выбрать модель которая реже бы ошибалась в выборе класса 0 вместо класса 1, то итоговой была бы модель с применением Downsampling техники."
   ]
  },
  {
   "cell_type": "markdown",
   "metadata": {},
   "source": [
    "## Вывод"
   ]
  },
  {
   "cell_type": "markdown",
   "metadata": {},
   "source": [
    "- В исходных данных для обучения модели классификации были выявлены пропуски в столбце Tenure, которые составили 9% от общего количества данных. В результате анализа распределения целевого класса по данным было выявлено, что распределение целевого признака в зависимости от значений в столбце Tenure равномерно. Таким образом было принято решение удалить пропуски в данных, поскольку это удаление не оказывает существенное влияние на распределение целевого признака. \n",
    "\n",
    "\n",
    "- В данных выявлен сильный дисбаланс классов по целевому признаку в соотношениии 20%/80%. \n",
    "\n",
    "\n",
    "- Без учета дисбаланса классов наилучший результат показала модель случайного леса, с метрикой F1 на валидационной выборке равной 0.58.\n",
    "\n",
    "\n",
    "- Были рассмотренны три метода борьбы с дисбалансом классов:\n",
    "    * Обучение модели со взвешиванием классов\n",
    "    * Upsampling\n",
    "    * Downsampling\n",
    "\n",
    "\n",
    "- Все три метода показали увеличение метрики F1 относительно модели обученной без учета дисбаланса.\n",
    "\n",
    "\n",
    "- Методы борьбы с дисбалансом класса не повлияли на метрику AUC-ROC, она осталась такой же как и у модели без учета дисбаланса.\n",
    "\n",
    "\n",
    "- Наилучший результат по метрике F1 показала модель случайного леса с применением взвешивания классов со следующими гиперпараметрами:\n",
    "\n",
    "   `n_estimators = 260,\n",
    "    min_samples_split = 6,\n",
    "    min_samples_leaf = 2,\n",
    "    max_features = 'auto',\n",
    "    max_depth = 10,\n",
    "    criterion = 'entropy',\n",
    "    class_weight = 'balanced'`\n",
    "\n",
    "\n",
    "\n",
    "- На тестовой выборке лучшая модель дала значение метрики F1 равное 0.62, точность 0.58, полноту 0.67, а площадь под ROC кривой - 0.86.\n",
    "\n",
    "Таким образом нам удалось достичь *F1*-меры не менее 0.59\n",
    "\n"
   ]
  }
 ],
 "metadata": {
  "ExecuteTimeLog": [
   {
    "duration": 1391,
    "start_time": "2023-03-21T12:27:58.418Z"
   },
   {
    "duration": 4,
    "start_time": "2023-03-21T12:27:59.811Z"
   },
   {
    "duration": 15,
    "start_time": "2023-03-21T12:27:59.817Z"
   },
   {
    "duration": 156,
    "start_time": "2023-03-21T12:28:00.413Z"
   },
   {
    "duration": 1539,
    "start_time": "2023-03-21T12:28:01.037Z"
   },
   {
    "duration": 238,
    "start_time": "2023-03-21T13:06:38.500Z"
   },
   {
    "duration": 109,
    "start_time": "2023-03-21T13:15:24.282Z"
   },
   {
    "duration": 5,
    "start_time": "2023-03-21T13:17:11.645Z"
   },
   {
    "duration": 4,
    "start_time": "2023-03-21T13:17:26.926Z"
   },
   {
    "duration": 5,
    "start_time": "2023-03-21T13:17:41.464Z"
   },
   {
    "duration": 6,
    "start_time": "2023-03-21T13:18:05.781Z"
   },
   {
    "duration": 28,
    "start_time": "2023-03-21T13:19:04.395Z"
   },
   {
    "duration": 10,
    "start_time": "2023-03-21T13:34:43.159Z"
   },
   {
    "duration": 16,
    "start_time": "2023-03-21T13:34:47.662Z"
   },
   {
    "duration": 55,
    "start_time": "2023-03-21T13:36:23.014Z"
   },
   {
    "duration": 23,
    "start_time": "2023-03-21T13:36:39.428Z"
   },
   {
    "duration": 27,
    "start_time": "2023-03-21T13:38:34.943Z"
   },
   {
    "duration": 13,
    "start_time": "2023-03-21T13:38:41.297Z"
   },
   {
    "duration": 16,
    "start_time": "2023-03-21T13:41:14.034Z"
   },
   {
    "duration": 19,
    "start_time": "2023-03-21T13:41:32.814Z"
   },
   {
    "duration": 14,
    "start_time": "2023-03-21T13:41:41.948Z"
   },
   {
    "duration": 315,
    "start_time": "2023-03-21T13:42:54.547Z"
   },
   {
    "duration": 15,
    "start_time": "2023-03-21T13:43:51.043Z"
   },
   {
    "duration": 8,
    "start_time": "2023-03-21T13:44:50.420Z"
   },
   {
    "duration": 13,
    "start_time": "2023-03-21T13:45:07.740Z"
   },
   {
    "duration": 23,
    "start_time": "2023-03-21T13:45:27.300Z"
   },
   {
    "duration": 312,
    "start_time": "2023-03-21T13:45:34.841Z"
   },
   {
    "duration": 8,
    "start_time": "2023-03-21T13:46:02.586Z"
   },
   {
    "duration": 13,
    "start_time": "2023-03-21T13:46:10.247Z"
   },
   {
    "duration": 10,
    "start_time": "2023-03-21T13:52:13.631Z"
   },
   {
    "duration": 42,
    "start_time": "2023-03-21T13:52:22.204Z"
   },
   {
    "duration": 22,
    "start_time": "2023-03-21T13:52:48.236Z"
   },
   {
    "duration": 883,
    "start_time": "2023-03-21T13:55:13.662Z"
   },
   {
    "duration": 970,
    "start_time": "2023-03-21T13:55:25.748Z"
   },
   {
    "duration": 16,
    "start_time": "2023-03-21T13:55:56.644Z"
   },
   {
    "duration": 8,
    "start_time": "2023-03-21T13:56:07.431Z"
   },
   {
    "duration": 15,
    "start_time": "2023-03-21T13:56:14.630Z"
   },
   {
    "duration": 695,
    "start_time": "2023-03-21T16:38:55.239Z"
   },
   {
    "duration": 110,
    "start_time": "2023-03-21T16:48:37.894Z"
   },
   {
    "duration": 5,
    "start_time": "2023-03-21T16:48:49.831Z"
   },
   {
    "duration": 4,
    "start_time": "2023-03-21T16:48:50.252Z"
   },
   {
    "duration": 8,
    "start_time": "2023-03-21T16:48:50.716Z"
   },
   {
    "duration": 81,
    "start_time": "2023-03-21T16:48:51.334Z"
   },
   {
    "duration": 1100,
    "start_time": "2023-03-21T16:48:51.827Z"
   },
   {
    "duration": 2,
    "start_time": "2023-03-21T16:48:55.450Z"
   },
   {
    "duration": 4,
    "start_time": "2023-03-21T16:48:56.609Z"
   },
   {
    "duration": 18,
    "start_time": "2023-03-21T16:49:00.390Z"
   },
   {
    "duration": 12,
    "start_time": "2023-03-21T16:49:04.294Z"
   },
   {
    "duration": 10,
    "start_time": "2023-03-21T16:49:05.911Z"
   },
   {
    "duration": 4,
    "start_time": "2023-03-21T16:49:18.152Z"
   },
   {
    "duration": 10,
    "start_time": "2023-03-21T16:51:13.018Z"
   },
   {
    "duration": 8,
    "start_time": "2023-03-21T16:51:22.338Z"
   },
   {
    "duration": 8,
    "start_time": "2023-03-21T16:51:29.929Z"
   },
   {
    "duration": 65,
    "start_time": "2023-03-21T16:55:56.616Z"
   },
   {
    "duration": 81,
    "start_time": "2023-03-21T16:56:02.789Z"
   },
   {
    "duration": 77,
    "start_time": "2023-03-21T16:57:00.517Z"
   },
   {
    "duration": 80,
    "start_time": "2023-03-21T17:42:58.990Z"
   },
   {
    "duration": 6,
    "start_time": "2023-03-21T17:44:02.000Z"
   },
   {
    "duration": 5,
    "start_time": "2023-03-21T17:44:17.591Z"
   },
   {
    "duration": 4,
    "start_time": "2023-03-21T17:46:47.797Z"
   },
   {
    "duration": 9,
    "start_time": "2023-03-21T17:46:51.182Z"
   },
   {
    "duration": 62,
    "start_time": "2023-03-21T17:47:14.587Z"
   },
   {
    "duration": 6,
    "start_time": "2023-03-21T17:47:23.734Z"
   },
   {
    "duration": 4,
    "start_time": "2023-03-21T17:53:41.734Z"
   },
   {
    "duration": 12,
    "start_time": "2023-03-21T17:55:44.507Z"
   },
   {
    "duration": 3,
    "start_time": "2023-03-21T18:08:26.729Z"
   },
   {
    "duration": 91,
    "start_time": "2023-03-21T18:08:27.480Z"
   },
   {
    "duration": 18,
    "start_time": "2023-03-21T18:08:41.686Z"
   },
   {
    "duration": 6228,
    "start_time": "2023-03-21T18:09:30.714Z"
   },
   {
    "duration": 5,
    "start_time": "2023-03-21T18:09:43.996Z"
   },
   {
    "duration": 16,
    "start_time": "2023-03-21T18:10:02.883Z"
   },
   {
    "duration": 1852,
    "start_time": "2023-03-21T18:10:17.582Z"
   },
   {
    "duration": 1155,
    "start_time": "2023-03-21T18:10:19.436Z"
   },
   {
    "duration": 3,
    "start_time": "2023-03-21T18:10:20.593Z"
   },
   {
    "duration": 22,
    "start_time": "2023-03-21T18:10:20.598Z"
   },
   {
    "duration": 46,
    "start_time": "2023-03-21T18:10:20.622Z"
   },
   {
    "duration": 1118,
    "start_time": "2023-03-21T18:10:20.669Z"
   },
   {
    "duration": 3,
    "start_time": "2023-03-21T18:10:21.789Z"
   },
   {
    "duration": 7,
    "start_time": "2023-03-21T18:10:21.793Z"
   },
   {
    "duration": 18,
    "start_time": "2023-03-21T18:10:21.802Z"
   },
   {
    "duration": 11,
    "start_time": "2023-03-21T18:10:21.822Z"
   },
   {
    "duration": 3,
    "start_time": "2023-03-21T18:10:21.834Z"
   },
   {
    "duration": 11,
    "start_time": "2023-03-21T18:10:21.839Z"
   },
   {
    "duration": 71,
    "start_time": "2023-03-21T18:10:21.851Z"
   },
   {
    "duration": 5,
    "start_time": "2023-03-21T18:10:21.923Z"
   },
   {
    "duration": 10,
    "start_time": "2023-03-21T18:10:21.929Z"
   },
   {
    "duration": 12,
    "start_time": "2023-03-21T18:10:21.940Z"
   },
   {
    "duration": 12,
    "start_time": "2023-03-21T18:10:21.954Z"
   },
   {
    "duration": 4,
    "start_time": "2023-03-21T18:10:21.967Z"
   },
   {
    "duration": 16,
    "start_time": "2023-03-21T18:10:21.972Z"
   },
   {
    "duration": 20,
    "start_time": "2023-03-21T18:10:21.990Z"
   },
   {
    "duration": 34,
    "start_time": "2023-03-21T18:11:52.223Z"
   },
   {
    "duration": 3,
    "start_time": "2023-03-21T18:17:55.921Z"
   },
   {
    "duration": 18,
    "start_time": "2023-03-21T18:17:58.874Z"
   },
   {
    "duration": 21,
    "start_time": "2023-03-21T18:17:59.416Z"
   },
   {
    "duration": 22,
    "start_time": "2023-03-21T18:18:00.475Z"
   },
   {
    "duration": 23,
    "start_time": "2023-03-21T18:18:02.124Z"
   },
   {
    "duration": 4,
    "start_time": "2023-03-21T18:18:28.388Z"
   },
   {
    "duration": 77,
    "start_time": "2023-03-21T18:30:28.692Z"
   },
   {
    "duration": 1021,
    "start_time": "2023-03-21T18:31:05.539Z"
   },
   {
    "duration": 29,
    "start_time": "2023-03-21T18:34:41.923Z"
   },
   {
    "duration": 265,
    "start_time": "2023-03-21T18:35:12.623Z"
   },
   {
    "duration": 108,
    "start_time": "2023-03-21T18:39:46.587Z"
   },
   {
    "duration": 3,
    "start_time": "2023-03-21T18:39:52.245Z"
   },
   {
    "duration": 600,
    "start_time": "2023-03-21T18:39:52.770Z"
   },
   {
    "duration": 4,
    "start_time": "2023-03-21T18:42:18.419Z"
   },
   {
    "duration": 5,
    "start_time": "2023-03-21T18:42:22.689Z"
   },
   {
    "duration": 23,
    "start_time": "2023-03-21T18:42:27.455Z"
   },
   {
    "duration": 259,
    "start_time": "2023-03-21T18:42:27.923Z"
   },
   {
    "duration": 16,
    "start_time": "2023-03-21T18:43:26.089Z"
   },
   {
    "duration": 1376424,
    "start_time": "2023-03-21T18:43:27.949Z"
   },
   {
    "duration": 3,
    "start_time": "2023-03-21T19:33:43.434Z"
   },
   {
    "duration": 57946,
    "start_time": "2023-03-21T19:34:21.076Z"
   },
   {
    "duration": 3,
    "start_time": "2023-03-21T19:39:18.025Z"
   },
   {
    "duration": 4,
    "start_time": "2023-03-21T19:39:24.256Z"
   },
   {
    "duration": 466023,
    "start_time": "2023-03-21T19:39:25.582Z"
   },
   {
    "duration": 4,
    "start_time": "2023-03-21T19:51:41.274Z"
   },
   {
    "duration": 13,
    "start_time": "2023-03-21T19:51:43.038Z"
   },
   {
    "duration": 20,
    "start_time": "2023-03-21T19:51:52.028Z"
   },
   {
    "duration": 464,
    "start_time": "2023-03-21T19:51:57.002Z"
   },
   {
    "duration": 687,
    "start_time": "2023-03-21T19:52:22.075Z"
   },
   {
    "duration": 1532,
    "start_time": "2023-03-21T19:52:36.436Z"
   },
   {
    "duration": 3,
    "start_time": "2023-03-21T19:55:04.749Z"
   },
   {
    "duration": 129335,
    "start_time": "2023-03-21T19:57:29.025Z"
   },
   {
    "duration": 273,
    "start_time": "2023-03-21T20:01:41.881Z"
   },
   {
    "duration": 251,
    "start_time": "2023-03-21T20:01:57.378Z"
   },
   {
    "duration": 6826,
    "start_time": "2023-03-22T10:13:31.321Z"
   },
   {
    "duration": 1423,
    "start_time": "2023-03-22T10:13:38.150Z"
   },
   {
    "duration": 5,
    "start_time": "2023-03-22T10:13:39.574Z"
   },
   {
    "duration": 17,
    "start_time": "2023-03-22T10:13:39.580Z"
   },
   {
    "duration": 108,
    "start_time": "2023-03-22T10:13:39.599Z"
   },
   {
    "duration": 1278,
    "start_time": "2023-03-22T10:13:39.709Z"
   },
   {
    "duration": 4,
    "start_time": "2023-03-22T10:13:40.988Z"
   },
   {
    "duration": 19,
    "start_time": "2023-03-22T10:13:40.993Z"
   },
   {
    "duration": 33,
    "start_time": "2023-03-22T10:13:41.014Z"
   },
   {
    "duration": 20,
    "start_time": "2023-03-22T10:13:41.048Z"
   },
   {
    "duration": 13,
    "start_time": "2023-03-22T10:13:41.069Z"
   },
   {
    "duration": 23,
    "start_time": "2023-03-22T10:13:41.084Z"
   },
   {
    "duration": 86,
    "start_time": "2023-03-22T10:13:41.108Z"
   },
   {
    "duration": 1142,
    "start_time": "2023-03-22T10:13:41.197Z"
   },
   {
    "duration": 7,
    "start_time": "2023-03-22T10:13:42.341Z"
   },
   {
    "duration": 19,
    "start_time": "2023-03-22T10:13:42.358Z"
   },
   {
    "duration": 17,
    "start_time": "2023-03-22T10:13:42.379Z"
   },
   {
    "duration": 14,
    "start_time": "2023-03-22T10:13:42.398Z"
   },
   {
    "duration": 25,
    "start_time": "2023-03-22T10:13:42.414Z"
   },
   {
    "duration": 16,
    "start_time": "2023-03-22T10:13:42.441Z"
   },
   {
    "duration": 30,
    "start_time": "2023-03-22T10:13:42.459Z"
   },
   {
    "duration": 25,
    "start_time": "2023-03-22T10:13:42.490Z"
   },
   {
    "duration": 25,
    "start_time": "2023-03-22T10:13:42.516Z"
   },
   {
    "duration": 33,
    "start_time": "2023-03-22T10:13:42.543Z"
   },
   {
    "duration": 25,
    "start_time": "2023-03-22T10:13:42.578Z"
   },
   {
    "duration": 279,
    "start_time": "2023-03-22T10:13:42.605Z"
   },
   {
    "duration": 4,
    "start_time": "2023-03-22T10:13:42.886Z"
   },
   {
    "duration": 870,
    "start_time": "2023-03-22T10:13:42.891Z"
   },
   {
    "duration": 98,
    "start_time": "2023-03-22T10:13:43.763Z"
   },
   {
    "duration": 762,
    "start_time": "2023-03-22T10:13:43.863Z"
   },
   {
    "duration": 24,
    "start_time": "2023-03-22T10:15:34.706Z"
   },
   {
    "duration": 268,
    "start_time": "2023-03-22T10:15:36.798Z"
   },
   {
    "duration": 1247,
    "start_time": "2023-03-22T10:47:56.150Z"
   },
   {
    "duration": 1580,
    "start_time": "2023-03-22T10:49:01.090Z"
   },
   {
    "duration": 1627,
    "start_time": "2023-03-22T10:49:14.207Z"
   },
   {
    "duration": 67,
    "start_time": "2023-03-22T10:49:40.690Z"
   },
   {
    "duration": 279,
    "start_time": "2023-03-22T10:49:47.786Z"
   },
   {
    "duration": 42871,
    "start_time": "2023-03-22T10:53:33.696Z"
   },
   {
    "duration": 137,
    "start_time": "2023-03-22T10:54:52.930Z"
   },
   {
    "duration": 736,
    "start_time": "2023-03-22T10:55:04.929Z"
   },
   {
    "duration": 1846,
    "start_time": "2023-03-22T10:56:39.143Z"
   },
   {
    "duration": 5953,
    "start_time": "2023-03-22T13:30:42.636Z"
   },
   {
    "duration": 4,
    "start_time": "2023-03-22T13:33:59.732Z"
   },
   {
    "duration": 38,
    "start_time": "2023-03-22T13:36:26.746Z"
   },
   {
    "duration": 5,
    "start_time": "2023-03-22T13:37:45.718Z"
   },
   {
    "duration": 19,
    "start_time": "2023-03-22T13:37:57.211Z"
   },
   {
    "duration": 6,
    "start_time": "2023-03-22T13:40:10.907Z"
   },
   {
    "duration": 4,
    "start_time": "2023-03-22T13:40:15.832Z"
   },
   {
    "duration": 10,
    "start_time": "2023-03-22T13:40:16.195Z"
   },
   {
    "duration": 141,
    "start_time": "2023-03-22T13:40:32.021Z"
   },
   {
    "duration": 822,
    "start_time": "2023-03-22T13:41:52.279Z"
   },
   {
    "duration": 818,
    "start_time": "2023-03-22T13:41:54.318Z"
   },
   {
    "duration": 1234,
    "start_time": "2023-03-22T13:42:10.534Z"
   },
   {
    "duration": 329,
    "start_time": "2023-03-22T13:42:11.921Z"
   },
   {
    "duration": 1139,
    "start_time": "2023-03-22T13:42:13.814Z"
   },
   {
    "duration": 12,
    "start_time": "2023-03-22T13:44:46.846Z"
   },
   {
    "duration": 8056,
    "start_time": "2023-03-23T08:56:41.780Z"
   },
   {
    "duration": 3972,
    "start_time": "2023-03-23T08:56:49.838Z"
   },
   {
    "duration": 1449,
    "start_time": "2023-03-23T08:56:53.812Z"
   },
   {
    "duration": 4,
    "start_time": "2023-03-23T08:56:55.263Z"
   },
   {
    "duration": 13,
    "start_time": "2023-03-23T08:56:55.269Z"
   },
   {
    "duration": 188,
    "start_time": "2023-03-23T08:56:55.284Z"
   },
   {
    "duration": 1415,
    "start_time": "2023-03-23T08:56:55.474Z"
   },
   {
    "duration": 3,
    "start_time": "2023-03-23T08:56:56.891Z"
   },
   {
    "duration": 13,
    "start_time": "2023-03-23T08:56:56.895Z"
   },
   {
    "duration": 53,
    "start_time": "2023-03-23T08:56:56.911Z"
   },
   {
    "duration": 16,
    "start_time": "2023-03-23T08:56:56.965Z"
   },
   {
    "duration": 5,
    "start_time": "2023-03-23T08:56:56.984Z"
   },
   {
    "duration": 27,
    "start_time": "2023-03-23T08:56:56.990Z"
   },
   {
    "duration": 110,
    "start_time": "2023-03-23T08:56:57.020Z"
   },
   {
    "duration": 1159,
    "start_time": "2023-03-23T08:56:57.131Z"
   },
   {
    "duration": 7,
    "start_time": "2023-03-23T08:56:58.291Z"
   },
   {
    "duration": 9,
    "start_time": "2023-03-23T08:56:58.299Z"
   },
   {
    "duration": 8,
    "start_time": "2023-03-23T08:56:58.309Z"
   },
   {
    "duration": 26,
    "start_time": "2023-03-23T08:56:58.319Z"
   },
   {
    "duration": 20,
    "start_time": "2023-03-23T08:56:58.346Z"
   },
   {
    "duration": 4,
    "start_time": "2023-03-23T08:56:58.368Z"
   },
   {
    "duration": 20,
    "start_time": "2023-03-23T08:56:58.374Z"
   },
   {
    "duration": 25,
    "start_time": "2023-03-23T08:56:58.395Z"
   },
   {
    "duration": 51,
    "start_time": "2023-03-23T08:56:58.421Z"
   },
   {
    "duration": 34,
    "start_time": "2023-03-23T08:56:58.473Z"
   },
   {
    "duration": 21,
    "start_time": "2023-03-23T08:56:58.509Z"
   },
   {
    "duration": 323,
    "start_time": "2023-03-23T08:56:58.531Z"
   },
   {
    "duration": 4,
    "start_time": "2023-03-23T08:56:58.858Z"
   },
   {
    "duration": 857,
    "start_time": "2023-03-23T08:56:58.864Z"
   },
   {
    "duration": 302,
    "start_time": "2023-03-23T08:56:59.723Z"
   },
   {
    "duration": 818,
    "start_time": "2023-03-23T08:57:00.026Z"
   },
   {
    "duration": 1568,
    "start_time": "2023-03-23T08:57:00.854Z"
   },
   {
    "duration": 4,
    "start_time": "2023-03-23T08:57:02.423Z"
   },
   {
    "duration": 41,
    "start_time": "2023-03-23T08:57:02.429Z"
   },
   {
    "duration": 217,
    "start_time": "2023-03-23T08:57:02.472Z"
   },
   {
    "duration": 937,
    "start_time": "2023-03-23T08:57:02.690Z"
   },
   {
    "duration": 297,
    "start_time": "2023-03-23T08:57:03.629Z"
   },
   {
    "duration": 1690,
    "start_time": "2023-03-23T08:57:03.928Z"
   },
   {
    "duration": 133,
    "start_time": "2023-03-23T08:57:05.620Z"
   },
   {
    "duration": 0,
    "start_time": "2023-03-23T08:57:05.755Z"
   },
   {
    "duration": 16,
    "start_time": "2023-03-23T08:57:13.736Z"
   },
   {
    "duration": 45,
    "start_time": "2023-03-23T08:58:19.135Z"
   },
   {
    "duration": 100,
    "start_time": "2023-03-23T08:58:25.985Z"
   },
   {
    "duration": 1142,
    "start_time": "2023-03-23T08:59:12.144Z"
   },
   {
    "duration": 301,
    "start_time": "2023-03-23T09:04:11.942Z"
   },
   {
    "duration": 1469,
    "start_time": "2023-03-23T09:04:33.551Z"
   },
   {
    "duration": 41,
    "start_time": "2023-03-23T09:08:23.408Z"
   },
   {
    "duration": 7,
    "start_time": "2023-03-23T09:12:15.101Z"
   },
   {
    "duration": 28,
    "start_time": "2023-03-23T09:12:46.339Z"
   },
   {
    "duration": 7,
    "start_time": "2023-03-23T09:13:01.635Z"
   },
   {
    "duration": 7,
    "start_time": "2023-03-23T09:13:22.099Z"
   },
   {
    "duration": 37,
    "start_time": "2023-03-23T09:13:26.659Z"
   },
   {
    "duration": 45,
    "start_time": "2023-03-23T09:14:25.869Z"
   },
   {
    "duration": 7,
    "start_time": "2023-03-23T09:15:27.337Z"
   },
   {
    "duration": 40,
    "start_time": "2023-03-23T09:15:32.101Z"
   },
   {
    "duration": 4,
    "start_time": "2023-03-23T09:16:02.737Z"
   },
   {
    "duration": 45,
    "start_time": "2023-03-23T09:16:13.807Z"
   },
   {
    "duration": 7,
    "start_time": "2023-03-23T09:23:20.209Z"
   },
   {
    "duration": 287,
    "start_time": "2023-03-23T09:23:23.738Z"
   },
   {
    "duration": 4,
    "start_time": "2023-03-23T09:34:52.548Z"
   },
   {
    "duration": 13,
    "start_time": "2023-03-23T09:34:59.439Z"
   },
   {
    "duration": 413,
    "start_time": "2023-03-23T09:35:06.447Z"
   },
   {
    "duration": 105,
    "start_time": "2023-03-23T09:37:56.838Z"
   },
   {
    "duration": 473,
    "start_time": "2023-03-23T09:38:00.381Z"
   },
   {
    "duration": 9,
    "start_time": "2023-03-23T09:43:17.762Z"
   },
   {
    "duration": 509,
    "start_time": "2023-03-23T09:43:23.134Z"
   },
   {
    "duration": 987,
    "start_time": "2023-03-23T09:44:20.396Z"
   },
   {
    "duration": 9,
    "start_time": "2023-03-23T09:50:13.166Z"
   },
   {
    "duration": 420,
    "start_time": "2023-03-23T09:50:39.747Z"
   },
   {
    "duration": 5,
    "start_time": "2023-03-23T09:58:15.458Z"
   },
   {
    "duration": 460,
    "start_time": "2023-03-23T09:58:17.566Z"
   },
   {
    "duration": 9,
    "start_time": "2023-03-23T09:58:26.461Z"
   },
   {
    "duration": 476,
    "start_time": "2023-03-23T09:58:41.551Z"
   },
   {
    "duration": 12,
    "start_time": "2023-03-23T09:58:47.627Z"
   },
   {
    "duration": 6,
    "start_time": "2023-03-23T09:58:52.956Z"
   },
   {
    "duration": 4,
    "start_time": "2023-03-23T10:02:33.069Z"
   },
   {
    "duration": 10,
    "start_time": "2023-03-23T10:04:29.455Z"
   },
   {
    "duration": 11,
    "start_time": "2023-03-23T10:04:44.298Z"
   },
   {
    "duration": 10,
    "start_time": "2023-03-23T10:04:47.935Z"
   },
   {
    "duration": 4,
    "start_time": "2023-03-23T10:04:57.460Z"
   },
   {
    "duration": 463,
    "start_time": "2023-03-23T10:05:04.391Z"
   },
   {
    "duration": 4,
    "start_time": "2023-03-23T10:06:08.390Z"
   },
   {
    "duration": 9,
    "start_time": "2023-03-23T10:06:23.456Z"
   },
   {
    "duration": 4,
    "start_time": "2023-03-23T10:06:29.344Z"
   },
   {
    "duration": 4,
    "start_time": "2023-03-23T10:06:33.327Z"
   },
   {
    "duration": 5,
    "start_time": "2023-03-23T10:07:16.977Z"
   },
   {
    "duration": 441,
    "start_time": "2023-03-23T10:07:17.740Z"
   },
   {
    "duration": 6,
    "start_time": "2023-03-23T10:09:03.247Z"
   },
   {
    "duration": 573,
    "start_time": "2023-03-23T10:09:04.470Z"
   },
   {
    "duration": 10,
    "start_time": "2023-03-23T10:09:16.973Z"
   },
   {
    "duration": 989,
    "start_time": "2023-03-23T10:10:17.716Z"
   },
   {
    "duration": 467,
    "start_time": "2023-03-23T10:10:46.513Z"
   },
   {
    "duration": 963,
    "start_time": "2023-03-23T10:11:14.340Z"
   },
   {
    "duration": 1094,
    "start_time": "2023-03-23T10:11:40.583Z"
   },
   {
    "duration": 459,
    "start_time": "2023-03-23T10:12:26.922Z"
   },
   {
    "duration": 1395,
    "start_time": "2023-03-23T10:12:52.295Z"
   },
   {
    "duration": 1016,
    "start_time": "2023-03-23T10:13:57.593Z"
   },
   {
    "duration": 505,
    "start_time": "2023-03-23T10:24:46.186Z"
   },
   {
    "duration": 1394,
    "start_time": "2023-03-23T10:26:38.089Z"
   },
   {
    "duration": 1540,
    "start_time": "2023-03-23T10:27:07.672Z"
   },
   {
    "duration": 14,
    "start_time": "2023-03-23T10:36:24.869Z"
   },
   {
    "duration": 13,
    "start_time": "2023-03-23T10:36:26.441Z"
   },
   {
    "duration": 11,
    "start_time": "2023-03-23T10:36:26.882Z"
   },
   {
    "duration": 169,
    "start_time": "2023-03-23T10:36:27.388Z"
   },
   {
    "duration": 524,
    "start_time": "2023-03-23T10:38:57.270Z"
   },
   {
    "duration": 943,
    "start_time": "2023-03-23T10:39:02.940Z"
   },
   {
    "duration": 2063,
    "start_time": "2023-03-23T10:39:07.522Z"
   },
   {
    "duration": 5,
    "start_time": "2023-03-23T10:44:39.413Z"
   },
   {
    "duration": 14,
    "start_time": "2023-03-23T11:03:30.765Z"
   },
   {
    "duration": 235,
    "start_time": "2023-03-23T11:05:01.265Z"
   },
   {
    "duration": 457,
    "start_time": "2023-03-23T11:05:19.816Z"
   },
   {
    "duration": 778,
    "start_time": "2023-03-23T11:05:20.316Z"
   },
   {
    "duration": 910,
    "start_time": "2023-03-23T11:05:27.990Z"
   },
   {
    "duration": 347,
    "start_time": "2023-03-23T11:12:12.473Z"
   },
   {
    "duration": 368,
    "start_time": "2023-03-23T11:13:21.140Z"
   },
   {
    "duration": 4,
    "start_time": "2023-03-23T11:13:24.532Z"
   },
   {
    "duration": 10,
    "start_time": "2023-03-23T11:15:43.791Z"
   },
   {
    "duration": 5,
    "start_time": "2023-03-23T11:15:44.374Z"
   },
   {
    "duration": 453,
    "start_time": "2023-03-23T11:19:34.178Z"
   },
   {
    "duration": 2381,
    "start_time": "2023-03-23T11:20:13.632Z"
   },
   {
    "duration": 2334,
    "start_time": "2023-03-23T11:20:16.015Z"
   },
   {
    "duration": 1380,
    "start_time": "2023-03-23T11:20:18.353Z"
   },
   {
    "duration": 8,
    "start_time": "2023-03-23T11:20:19.735Z"
   },
   {
    "duration": 16,
    "start_time": "2023-03-23T11:20:19.748Z"
   },
   {
    "duration": 52,
    "start_time": "2023-03-23T11:20:19.766Z"
   },
   {
    "duration": 1532,
    "start_time": "2023-03-23T11:20:19.821Z"
   },
   {
    "duration": 3,
    "start_time": "2023-03-23T11:20:21.355Z"
   },
   {
    "duration": 7,
    "start_time": "2023-03-23T11:20:21.360Z"
   },
   {
    "duration": 28,
    "start_time": "2023-03-23T11:20:21.369Z"
   },
   {
    "duration": 16,
    "start_time": "2023-03-23T11:20:21.399Z"
   },
   {
    "duration": 5,
    "start_time": "2023-03-23T11:20:21.416Z"
   },
   {
    "duration": 35,
    "start_time": "2023-03-23T11:20:21.423Z"
   },
   {
    "duration": 128,
    "start_time": "2023-03-23T11:20:21.462Z"
   },
   {
    "duration": 1300,
    "start_time": "2023-03-23T11:20:21.592Z"
   },
   {
    "duration": 10,
    "start_time": "2023-03-23T11:20:22.894Z"
   },
   {
    "duration": 8,
    "start_time": "2023-03-23T11:20:22.906Z"
   },
   {
    "duration": 25,
    "start_time": "2023-03-23T11:20:22.916Z"
   },
   {
    "duration": 9,
    "start_time": "2023-03-23T11:20:22.948Z"
   },
   {
    "duration": 32,
    "start_time": "2023-03-23T11:20:22.960Z"
   },
   {
    "duration": 7,
    "start_time": "2023-03-23T11:20:22.994Z"
   },
   {
    "duration": 20,
    "start_time": "2023-03-23T11:20:23.003Z"
   },
   {
    "duration": 34,
    "start_time": "2023-03-23T11:20:23.026Z"
   },
   {
    "duration": 38,
    "start_time": "2023-03-23T11:20:23.062Z"
   },
   {
    "duration": 45,
    "start_time": "2023-03-23T11:20:23.102Z"
   },
   {
    "duration": 6,
    "start_time": "2023-03-23T11:20:23.153Z"
   },
   {
    "duration": 554,
    "start_time": "2023-03-23T11:20:23.161Z"
   },
   {
    "duration": 4,
    "start_time": "2023-03-23T11:20:23.717Z"
   },
   {
    "duration": 1071,
    "start_time": "2023-03-23T11:20:23.722Z"
   },
   {
    "duration": 587,
    "start_time": "2023-03-23T11:20:24.795Z"
   },
   {
    "duration": 1608,
    "start_time": "2023-03-23T11:20:25.383Z"
   },
   {
    "duration": 1478,
    "start_time": "2023-03-23T11:20:26.993Z"
   },
   {
    "duration": 4,
    "start_time": "2023-03-23T11:20:28.473Z"
   },
   {
    "duration": 19,
    "start_time": "2023-03-23T11:20:28.478Z"
   },
   {
    "duration": 101,
    "start_time": "2023-03-23T11:20:28.499Z"
   },
   {
    "duration": 492,
    "start_time": "2023-03-23T11:20:28.602Z"
   },
   {
    "duration": 1294,
    "start_time": "2023-03-23T11:20:29.096Z"
   },
   {
    "duration": 1413,
    "start_time": "2023-03-23T11:20:30.392Z"
   },
   {
    "duration": 49,
    "start_time": "2023-03-23T11:20:31.807Z"
   },
   {
    "duration": 246,
    "start_time": "2023-03-23T11:20:31.858Z"
   },
   {
    "duration": 505,
    "start_time": "2023-03-23T11:20:32.109Z"
   },
   {
    "duration": 1457,
    "start_time": "2023-03-23T11:20:32.616Z"
   },
   {
    "duration": 1804,
    "start_time": "2023-03-23T11:20:34.076Z"
   },
   {
    "duration": 5,
    "start_time": "2023-03-23T11:20:35.882Z"
   },
   {
    "duration": 25,
    "start_time": "2023-03-23T11:20:35.889Z"
   },
   {
    "duration": 124,
    "start_time": "2023-03-23T11:20:35.917Z"
   },
   {
    "duration": 443,
    "start_time": "2023-03-23T11:20:36.047Z"
   },
   {
    "duration": 810,
    "start_time": "2023-03-23T11:20:36.493Z"
   },
   {
    "duration": 1059,
    "start_time": "2023-03-23T11:20:37.305Z"
   },
   {
    "duration": 119,
    "start_time": "2023-03-23T11:20:38.366Z"
   },
   {
    "duration": 509,
    "start_time": "2023-03-23T11:20:38.487Z"
   },
   {
    "duration": 891,
    "start_time": "2023-03-23T11:20:38.999Z"
   },
   {
    "duration": 1187,
    "start_time": "2023-03-23T11:20:39.892Z"
   },
   {
    "duration": 491,
    "start_time": "2023-03-23T11:20:41.081Z"
   },
   {
    "duration": 135,
    "start_time": "2023-03-23T11:20:41.574Z"
   },
   {
    "duration": 13,
    "start_time": "2023-03-23T11:25:43.990Z"
   },
   {
    "duration": 36,
    "start_time": "2023-03-23T11:28:23.330Z"
   },
   {
    "duration": 108,
    "start_time": "2023-03-23T11:29:05.466Z"
   },
   {
    "duration": 2482,
    "start_time": "2023-03-23T11:29:31.263Z"
   },
   {
    "duration": 151404,
    "start_time": "2023-03-23T11:30:33.373Z"
   },
   {
    "duration": 702,
    "start_time": "2023-03-23T11:41:44.523Z"
   },
   {
    "duration": 1141,
    "start_time": "2023-03-23T11:43:47.066Z"
   },
   {
    "duration": 1154,
    "start_time": "2023-03-23T11:44:01.311Z"
   },
   {
    "duration": 256692,
    "start_time": "2023-03-23T11:44:53.422Z"
   },
   {
    "duration": 1520,
    "start_time": "2023-03-23T11:53:33.386Z"
   },
   {
    "duration": 559,
    "start_time": "2023-03-23T11:54:42.829Z"
   },
   {
    "duration": 1031,
    "start_time": "2023-03-23T11:55:04.168Z"
   },
   {
    "duration": 79,
    "start_time": "2023-03-23T12:36:10.314Z"
   },
   {
    "duration": 43,
    "start_time": "2023-03-23T12:44:37.535Z"
   },
   {
    "duration": 257985,
    "start_time": "2023-03-23T12:45:22.690Z"
   },
   {
    "duration": 10,
    "start_time": "2023-03-23T12:57:40.210Z"
   },
   {
    "duration": 3,
    "start_time": "2023-03-23T12:57:51.637Z"
   },
   {
    "duration": 463,
    "start_time": "2023-03-23T12:58:15.631Z"
   },
   {
    "duration": 483,
    "start_time": "2023-03-23T12:58:57.373Z"
   },
   {
    "duration": 3,
    "start_time": "2023-03-23T13:35:53.154Z"
   },
   {
    "duration": 13,
    "start_time": "2023-03-23T13:35:54.130Z"
   },
   {
    "duration": 4,
    "start_time": "2023-03-23T13:36:03.793Z"
   },
   {
    "duration": 39,
    "start_time": "2023-03-23T13:36:04.329Z"
   },
   {
    "duration": 7,
    "start_time": "2023-03-23T13:36:21.675Z"
   },
   {
    "duration": 5,
    "start_time": "2023-03-23T13:36:22.467Z"
   },
   {
    "duration": 10,
    "start_time": "2023-03-23T13:36:22.874Z"
   },
   {
    "duration": 166,
    "start_time": "2023-03-23T13:36:23.326Z"
   },
   {
    "duration": 1322,
    "start_time": "2023-03-23T13:36:23.726Z"
   },
   {
    "duration": 10,
    "start_time": "2023-03-23T13:36:25.050Z"
   },
   {
    "duration": 10,
    "start_time": "2023-03-23T13:36:25.062Z"
   },
   {
    "duration": 34,
    "start_time": "2023-03-23T13:36:25.391Z"
   },
   {
    "duration": 21,
    "start_time": "2023-03-23T13:36:25.960Z"
   },
   {
    "duration": 7,
    "start_time": "2023-03-23T13:36:26.456Z"
   },
   {
    "duration": 10,
    "start_time": "2023-03-23T13:36:26.982Z"
   },
   {
    "duration": 103,
    "start_time": "2023-03-23T13:36:27.899Z"
   },
   {
    "duration": 1251,
    "start_time": "2023-03-23T13:36:28.534Z"
   },
   {
    "duration": 248,
    "start_time": "2023-03-23T13:36:29.788Z"
   },
   {
    "duration": 55,
    "start_time": "2023-03-23T13:36:30.044Z"
   },
   {
    "duration": 12,
    "start_time": "2023-03-23T13:36:30.596Z"
   },
   {
    "duration": 5,
    "start_time": "2023-03-23T13:36:31.569Z"
   },
   {
    "duration": 12,
    "start_time": "2023-03-23T13:36:32.288Z"
   },
   {
    "duration": 10,
    "start_time": "2023-03-23T13:36:33.653Z"
   },
   {
    "duration": 31,
    "start_time": "2023-03-23T13:36:35.382Z"
   },
   {
    "duration": 27,
    "start_time": "2023-03-23T13:37:21.628Z"
   },
   {
    "duration": 25,
    "start_time": "2023-03-23T13:37:22.733Z"
   },
   {
    "duration": 33,
    "start_time": "2023-03-23T13:37:25.126Z"
   },
   {
    "duration": 27,
    "start_time": "2023-03-23T13:37:26.459Z"
   },
   {
    "duration": 5,
    "start_time": "2023-03-23T13:37:33.257Z"
   },
   {
    "duration": 506,
    "start_time": "2023-03-23T13:37:35.216Z"
   },
   {
    "duration": 6,
    "start_time": "2023-03-23T13:37:49.457Z"
   },
   {
    "duration": 146210,
    "start_time": "2023-03-23T13:37:49.870Z"
   },
   {
    "duration": 12,
    "start_time": "2023-03-23T13:48:47.885Z"
   },
   {
    "duration": 4,
    "start_time": "2023-03-23T13:48:59.805Z"
   },
   {
    "duration": 19,
    "start_time": "2023-03-23T13:49:00.273Z"
   },
   {
    "duration": 22,
    "start_time": "2023-03-23T13:49:00.766Z"
   },
   {
    "duration": 27,
    "start_time": "2023-03-23T13:49:01.934Z"
   },
   {
    "duration": 27,
    "start_time": "2023-03-23T13:49:02.908Z"
   },
   {
    "duration": 441,
    "start_time": "2023-03-23T13:49:08.524Z"
   },
   {
    "duration": 6,
    "start_time": "2023-03-23T13:50:28.442Z"
   },
   {
    "duration": 6,
    "start_time": "2023-03-23T13:51:53.271Z"
   },
   {
    "duration": 399,
    "start_time": "2023-03-23T13:53:56.156Z"
   },
   {
    "duration": 77,
    "start_time": "2023-03-23T14:22:20.744Z"
   },
   {
    "duration": 76,
    "start_time": "2023-03-23T14:26:45.348Z"
   },
   {
    "duration": 80,
    "start_time": "2023-03-23T14:27:11.801Z"
   },
   {
    "duration": 326728,
    "start_time": "2023-03-23T14:27:30.712Z"
   },
   {
    "duration": 10,
    "start_time": "2023-03-23T14:49:46.524Z"
   },
   {
    "duration": 3,
    "start_time": "2023-03-23T14:50:17.134Z"
   },
   {
    "duration": 8231,
    "start_time": "2023-03-23T14:50:46.943Z"
   },
   {
    "duration": 5589,
    "start_time": "2023-03-23T14:53:32.088Z"
   },
   {
    "duration": 8147,
    "start_time": "2023-03-23T14:56:53.036Z"
   },
   {
    "duration": 13427,
    "start_time": "2023-03-23T15:04:47.260Z"
   },
   {
    "duration": 22541,
    "start_time": "2023-03-23T15:06:40.070Z"
   },
   {
    "duration": 43,
    "start_time": "2023-03-23T15:13:19.427Z"
   },
   {
    "duration": 72,
    "start_time": "2023-03-23T15:13:33.073Z"
   },
   {
    "duration": 32807,
    "start_time": "2023-03-23T15:13:57.888Z"
   },
   {
    "duration": 14738,
    "start_time": "2023-03-23T15:17:22.979Z"
   },
   {
    "duration": 18191,
    "start_time": "2023-03-23T15:19:21.874Z"
   },
   {
    "duration": 27765,
    "start_time": "2023-03-23T15:19:57.694Z"
   },
   {
    "duration": 14713,
    "start_time": "2023-03-23T15:20:34.130Z"
   },
   {
    "duration": 66,
    "start_time": "2023-03-23T15:21:47.290Z"
   },
   {
    "duration": 1979831,
    "start_time": "2023-03-23T15:21:59.225Z"
   },
   {
    "duration": 31,
    "start_time": "2023-03-23T15:55:14.959Z"
   },
   {
    "duration": 109655,
    "start_time": "2023-03-23T15:55:37.105Z"
   },
   {
    "duration": 16678,
    "start_time": "2023-03-23T15:59:01.127Z"
   },
   {
    "duration": 144,
    "start_time": "2023-03-23T16:01:25.827Z"
   },
   {
    "duration": 13838,
    "start_time": "2023-03-23T16:01:45.629Z"
   },
   {
    "duration": 2795,
    "start_time": "2023-03-23T16:04:11.669Z"
   },
   {
    "duration": 2467,
    "start_time": "2023-03-23T16:04:14.467Z"
   },
   {
    "duration": 2122,
    "start_time": "2023-03-23T16:04:16.937Z"
   },
   {
    "duration": 6,
    "start_time": "2023-03-23T16:04:19.062Z"
   },
   {
    "duration": 12,
    "start_time": "2023-03-23T16:04:19.071Z"
   },
   {
    "duration": 227,
    "start_time": "2023-03-23T16:04:19.085Z"
   },
   {
    "duration": 1714,
    "start_time": "2023-03-23T16:04:19.315Z"
   },
   {
    "duration": 4,
    "start_time": "2023-03-23T16:04:21.031Z"
   },
   {
    "duration": 17,
    "start_time": "2023-03-23T16:04:21.036Z"
   },
   {
    "duration": 35,
    "start_time": "2023-03-23T16:04:21.058Z"
   },
   {
    "duration": 16,
    "start_time": "2023-03-23T16:04:21.094Z"
   },
   {
    "duration": 5,
    "start_time": "2023-03-23T16:04:21.111Z"
   },
   {
    "duration": 10,
    "start_time": "2023-03-23T16:04:21.118Z"
   },
   {
    "duration": 118,
    "start_time": "2023-03-23T16:04:21.131Z"
   },
   {
    "duration": 1325,
    "start_time": "2023-03-23T16:04:21.251Z"
   },
   {
    "duration": 13,
    "start_time": "2023-03-23T16:04:22.578Z"
   },
   {
    "duration": 10,
    "start_time": "2023-03-23T16:04:22.594Z"
   },
   {
    "duration": 11,
    "start_time": "2023-03-23T16:04:22.606Z"
   },
   {
    "duration": 22,
    "start_time": "2023-03-23T16:04:22.619Z"
   },
   {
    "duration": 26,
    "start_time": "2023-03-23T16:04:22.650Z"
   },
   {
    "duration": 6,
    "start_time": "2023-03-23T16:04:22.678Z"
   },
   {
    "duration": 24,
    "start_time": "2023-03-23T16:04:22.688Z"
   },
   {
    "duration": 167,
    "start_time": "2023-03-23T16:04:22.714Z"
   },
   {
    "duration": 0,
    "start_time": "2023-03-23T16:04:22.882Z"
   },
   {
    "duration": 0,
    "start_time": "2023-03-23T16:04:22.884Z"
   },
   {
    "duration": 0,
    "start_time": "2023-03-23T16:04:22.885Z"
   },
   {
    "duration": 0,
    "start_time": "2023-03-23T16:04:22.886Z"
   },
   {
    "duration": 0,
    "start_time": "2023-03-23T16:04:22.888Z"
   },
   {
    "duration": 0,
    "start_time": "2023-03-23T16:04:22.889Z"
   },
   {
    "duration": 0,
    "start_time": "2023-03-23T16:04:22.890Z"
   },
   {
    "duration": 0,
    "start_time": "2023-03-23T16:04:22.892Z"
   },
   {
    "duration": 0,
    "start_time": "2023-03-23T16:04:22.893Z"
   },
   {
    "duration": 0,
    "start_time": "2023-03-23T16:04:22.894Z"
   },
   {
    "duration": 0,
    "start_time": "2023-03-23T16:04:22.895Z"
   },
   {
    "duration": 0,
    "start_time": "2023-03-23T16:04:22.897Z"
   },
   {
    "duration": 0,
    "start_time": "2023-03-23T16:04:22.898Z"
   },
   {
    "duration": 31,
    "start_time": "2023-03-23T16:06:11.839Z"
   },
   {
    "duration": 2407,
    "start_time": "2023-03-23T16:07:11.567Z"
   },
   {
    "duration": 2389,
    "start_time": "2023-03-23T16:07:13.976Z"
   },
   {
    "duration": 1390,
    "start_time": "2023-03-23T16:07:16.368Z"
   },
   {
    "duration": 4,
    "start_time": "2023-03-23T16:07:17.761Z"
   },
   {
    "duration": 11,
    "start_time": "2023-03-23T16:07:17.767Z"
   },
   {
    "duration": 47,
    "start_time": "2023-03-23T16:07:17.780Z"
   },
   {
    "duration": 1636,
    "start_time": "2023-03-23T16:07:17.830Z"
   },
   {
    "duration": 3,
    "start_time": "2023-03-23T16:07:19.467Z"
   },
   {
    "duration": 8,
    "start_time": "2023-03-23T16:07:19.472Z"
   },
   {
    "duration": 23,
    "start_time": "2023-03-23T16:07:19.482Z"
   },
   {
    "duration": 19,
    "start_time": "2023-03-23T16:07:19.507Z"
   },
   {
    "duration": 24,
    "start_time": "2023-03-23T16:07:19.529Z"
   },
   {
    "duration": 10,
    "start_time": "2023-03-23T16:07:19.558Z"
   },
   {
    "duration": 107,
    "start_time": "2023-03-23T16:07:19.570Z"
   },
   {
    "duration": 1176,
    "start_time": "2023-03-23T16:07:19.678Z"
   },
   {
    "duration": 14,
    "start_time": "2023-03-23T16:07:20.857Z"
   },
   {
    "duration": 17,
    "start_time": "2023-03-23T16:07:20.874Z"
   },
   {
    "duration": 17,
    "start_time": "2023-03-23T16:07:20.894Z"
   },
   {
    "duration": 12,
    "start_time": "2023-03-23T16:07:20.913Z"
   },
   {
    "duration": 34,
    "start_time": "2023-03-23T16:07:20.927Z"
   },
   {
    "duration": 21,
    "start_time": "2023-03-23T16:07:20.963Z"
   },
   {
    "duration": 27,
    "start_time": "2023-03-23T16:07:20.986Z"
   },
   {
    "duration": 39,
    "start_time": "2023-03-23T16:07:21.015Z"
   },
   {
    "duration": 44,
    "start_time": "2023-03-23T16:07:21.057Z"
   },
   {
    "duration": 50,
    "start_time": "2023-03-23T16:07:21.103Z"
   },
   {
    "duration": 7,
    "start_time": "2023-03-23T16:07:21.154Z"
   },
   {
    "duration": 496,
    "start_time": "2023-03-23T16:07:21.162Z"
   },
   {
    "duration": 528,
    "start_time": "2023-03-23T16:07:21.662Z"
   },
   {
    "duration": 14079,
    "start_time": "2023-03-23T16:07:22.192Z"
   },
   {
    "duration": 22561,
    "start_time": "2023-03-23T16:07:36.273Z"
   },
   {
    "duration": 40,
    "start_time": "2023-03-23T16:07:58.841Z"
   },
   {
    "duration": 162,
    "start_time": "2023-03-23T16:07:58.884Z"
   },
   {
    "duration": 39358,
    "start_time": "2023-03-23T16:07:59.048Z"
   },
   {
    "duration": 146,
    "start_time": "2023-03-23T16:08:38.408Z"
   },
   {
    "duration": 13848,
    "start_time": "2023-03-23T16:08:38.558Z"
   },
   {
    "duration": 12,
    "start_time": "2023-03-23T16:08:52.408Z"
   },
   {
    "duration": 25,
    "start_time": "2023-03-23T16:10:34.074Z"
   },
   {
    "duration": 6,
    "start_time": "2023-03-23T16:10:53.225Z"
   },
   {
    "duration": 7,
    "start_time": "2023-03-23T16:11:25.957Z"
   },
   {
    "duration": 52,
    "start_time": "2023-03-23T16:15:41.213Z"
   },
   {
    "duration": 149,
    "start_time": "2023-03-23T16:15:50.251Z"
   },
   {
    "duration": 486082,
    "start_time": "2023-03-23T16:16:20.824Z"
   },
   {
    "duration": 22595,
    "start_time": "2023-03-23T16:27:12.414Z"
   },
   {
    "duration": 37375,
    "start_time": "2023-03-23T16:27:35.012Z"
   },
   {
    "duration": 13420,
    "start_time": "2023-03-23T16:28:12.389Z"
   },
   {
    "duration": 606,
    "start_time": "2023-03-23T16:28:28.632Z"
   },
   {
    "duration": 757,
    "start_time": "2023-03-23T16:28:29.241Z"
   },
   {
    "duration": 513,
    "start_time": "2023-03-23T16:28:30.000Z"
   },
   {
    "duration": 537,
    "start_time": "2023-03-23T16:28:58.999Z"
   },
   {
    "duration": 800,
    "start_time": "2023-03-23T16:29:14.558Z"
   },
   {
    "duration": 520,
    "start_time": "2023-03-23T16:29:15.572Z"
   },
   {
    "duration": 289,
    "start_time": "2023-03-23T17:02:21.224Z"
   },
   {
    "duration": 311,
    "start_time": "2023-03-23T17:04:53.165Z"
   },
   {
    "duration": 521,
    "start_time": "2023-03-23T17:05:30.702Z"
   },
   {
    "duration": 7,
    "start_time": "2023-03-23T17:09:46.575Z"
   },
   {
    "duration": 2425,
    "start_time": "2023-03-23T17:10:51.558Z"
   },
   {
    "duration": 2463,
    "start_time": "2023-03-23T17:10:53.985Z"
   },
   {
    "duration": 1384,
    "start_time": "2023-03-23T17:10:56.450Z"
   },
   {
    "duration": 9,
    "start_time": "2023-03-23T17:10:57.836Z"
   },
   {
    "duration": 18,
    "start_time": "2023-03-23T17:10:57.848Z"
   },
   {
    "duration": 52,
    "start_time": "2023-03-23T17:10:57.868Z"
   },
   {
    "duration": 1631,
    "start_time": "2023-03-23T17:10:57.922Z"
   },
   {
    "duration": 5,
    "start_time": "2023-03-23T17:10:59.555Z"
   },
   {
    "duration": 6,
    "start_time": "2023-03-23T17:10:59.562Z"
   },
   {
    "duration": 33,
    "start_time": "2023-03-23T17:10:59.570Z"
   },
   {
    "duration": 14,
    "start_time": "2023-03-23T17:10:59.605Z"
   },
   {
    "duration": 241,
    "start_time": "2023-03-23T17:10:59.621Z"
   },
   {
    "duration": 197,
    "start_time": "2023-03-23T17:10:59.866Z"
   },
   {
    "duration": 5,
    "start_time": "2023-03-23T17:11:00.066Z"
   },
   {
    "duration": 26,
    "start_time": "2023-03-23T17:11:00.073Z"
   },
   {
    "duration": 108,
    "start_time": "2023-03-23T17:11:00.101Z"
   },
   {
    "duration": 1255,
    "start_time": "2023-03-23T17:11:00.211Z"
   },
   {
    "duration": 10,
    "start_time": "2023-03-23T17:11:01.468Z"
   },
   {
    "duration": 80,
    "start_time": "2023-03-23T17:11:01.480Z"
   },
   {
    "duration": 48,
    "start_time": "2023-03-23T17:11:01.562Z"
   },
   {
    "duration": 78,
    "start_time": "2023-03-23T17:11:01.613Z"
   },
   {
    "duration": 59,
    "start_time": "2023-03-23T17:11:01.693Z"
   },
   {
    "duration": 74,
    "start_time": "2023-03-23T17:11:01.753Z"
   },
   {
    "duration": 63,
    "start_time": "2023-03-23T17:11:01.829Z"
   },
   {
    "duration": 52,
    "start_time": "2023-03-23T17:11:01.894Z"
   },
   {
    "duration": 53,
    "start_time": "2023-03-23T17:11:01.952Z"
   },
   {
    "duration": 79,
    "start_time": "2023-03-23T17:11:02.008Z"
   },
   {
    "duration": 37,
    "start_time": "2023-03-23T17:11:02.089Z"
   },
   {
    "duration": 575,
    "start_time": "2023-03-23T17:11:02.129Z"
   },
   {
    "duration": 613,
    "start_time": "2023-03-23T17:11:02.706Z"
   },
   {
    "duration": 12574,
    "start_time": "2023-03-23T17:11:03.321Z"
   },
   {
    "duration": 21729,
    "start_time": "2023-03-23T17:11:15.897Z"
   },
   {
    "duration": 226,
    "start_time": "2023-03-23T17:11:37.629Z"
   },
   {
    "duration": 204,
    "start_time": "2023-03-23T17:11:37.858Z"
   },
   {
    "duration": 35748,
    "start_time": "2023-03-23T17:11:38.064Z"
   },
   {
    "duration": 145,
    "start_time": "2023-03-23T17:12:13.814Z"
   },
   {
    "duration": 13747,
    "start_time": "2023-03-23T17:12:13.961Z"
   },
   {
    "duration": 11,
    "start_time": "2023-03-23T17:12:27.710Z"
   },
   {
    "duration": 19,
    "start_time": "2023-03-23T17:12:27.723Z"
   },
   {
    "duration": 53591,
    "start_time": "2023-03-23T17:12:27.744Z"
   },
   {
    "duration": 0,
    "start_time": "2023-03-23T17:13:21.345Z"
   },
   {
    "duration": 2861,
    "start_time": "2023-03-23T17:15:37.090Z"
   },
   {
    "duration": 4071,
    "start_time": "2023-03-23T17:15:39.954Z"
   },
   {
    "duration": 1397,
    "start_time": "2023-03-23T17:15:44.028Z"
   },
   {
    "duration": 5,
    "start_time": "2023-03-23T17:15:45.428Z"
   },
   {
    "duration": 13,
    "start_time": "2023-03-23T17:15:45.440Z"
   },
   {
    "duration": 49,
    "start_time": "2023-03-23T17:15:45.456Z"
   },
   {
    "duration": 1616,
    "start_time": "2023-03-23T17:15:45.507Z"
   },
   {
    "duration": 3,
    "start_time": "2023-03-23T17:15:47.126Z"
   },
   {
    "duration": 11,
    "start_time": "2023-03-23T17:15:47.130Z"
   },
   {
    "duration": 33,
    "start_time": "2023-03-23T17:15:47.144Z"
   },
   {
    "duration": 18,
    "start_time": "2023-03-23T17:15:47.179Z"
   },
   {
    "duration": 261,
    "start_time": "2023-03-23T17:15:47.199Z"
   },
   {
    "duration": 283,
    "start_time": "2023-03-23T17:15:47.462Z"
   },
   {
    "duration": 6,
    "start_time": "2023-03-23T17:15:47.748Z"
   },
   {
    "duration": 19,
    "start_time": "2023-03-23T17:15:47.757Z"
   },
   {
    "duration": 169,
    "start_time": "2023-03-23T17:15:47.779Z"
   },
   {
    "duration": 1327,
    "start_time": "2023-03-23T17:15:47.950Z"
   },
   {
    "duration": 12,
    "start_time": "2023-03-23T17:15:49.279Z"
   },
   {
    "duration": 10,
    "start_time": "2023-03-23T17:15:49.293Z"
   },
   {
    "duration": 36,
    "start_time": "2023-03-23T17:15:49.305Z"
   },
   {
    "duration": 6,
    "start_time": "2023-03-23T17:15:49.343Z"
   },
   {
    "duration": 34,
    "start_time": "2023-03-23T17:15:49.353Z"
   },
   {
    "duration": 7,
    "start_time": "2023-03-23T17:15:49.389Z"
   },
   {
    "duration": 28,
    "start_time": "2023-03-23T17:15:49.399Z"
   },
   {
    "duration": 46,
    "start_time": "2023-03-23T17:15:49.430Z"
   },
   {
    "duration": 43,
    "start_time": "2023-03-23T17:15:49.478Z"
   },
   {
    "duration": 47,
    "start_time": "2023-03-23T17:15:49.523Z"
   },
   {
    "duration": 8,
    "start_time": "2023-03-23T17:15:49.575Z"
   },
   {
    "duration": 603,
    "start_time": "2023-03-23T17:15:49.585Z"
   },
   {
    "duration": 580,
    "start_time": "2023-03-23T17:15:50.190Z"
   },
   {
    "duration": 15960,
    "start_time": "2023-03-23T17:15:50.772Z"
   },
   {
    "duration": 25608,
    "start_time": "2023-03-23T17:16:06.742Z"
   },
   {
    "duration": 34,
    "start_time": "2023-03-23T17:16:32.353Z"
   },
   {
    "duration": 126,
    "start_time": "2023-03-23T17:16:32.389Z"
   },
   {
    "duration": 37476,
    "start_time": "2023-03-23T17:16:32.518Z"
   },
   {
    "duration": 139,
    "start_time": "2023-03-23T17:17:09.995Z"
   },
   {
    "duration": 13160,
    "start_time": "2023-03-23T17:17:10.142Z"
   },
   {
    "duration": 15,
    "start_time": "2023-03-23T17:17:23.304Z"
   },
   {
    "duration": 7,
    "start_time": "2023-03-23T17:17:23.340Z"
   },
   {
    "duration": 132249,
    "start_time": "2023-03-23T17:17:23.350Z"
   },
   {
    "duration": 0,
    "start_time": "2023-03-23T17:19:35.601Z"
   },
   {
    "duration": 1,
    "start_time": "2023-03-23T17:19:35.602Z"
   },
   {
    "duration": 0,
    "start_time": "2023-03-23T17:19:35.604Z"
   },
   {
    "duration": 113,
    "start_time": "2023-03-23T17:20:00.381Z"
   },
   {
    "duration": 5,
    "start_time": "2023-03-23T17:20:45.330Z"
   },
   {
    "duration": 8,
    "start_time": "2023-03-23T17:21:03.122Z"
   },
   {
    "duration": 15,
    "start_time": "2023-03-23T17:22:35.002Z"
   },
   {
    "duration": 62,
    "start_time": "2023-03-23T17:41:31.510Z"
   },
   {
    "duration": 1050,
    "start_time": "2023-03-23T17:50:08.163Z"
   },
   {
    "duration": 1429,
    "start_time": "2023-03-23T17:50:17.904Z"
   },
   {
    "duration": 3555,
    "start_time": "2023-03-23T17:50:45.583Z"
   },
   {
    "duration": 2676,
    "start_time": "2023-03-23T17:50:49.142Z"
   },
   {
    "duration": 1699,
    "start_time": "2023-03-23T17:50:51.821Z"
   },
   {
    "duration": 5,
    "start_time": "2023-03-23T17:50:53.523Z"
   },
   {
    "duration": 15,
    "start_time": "2023-03-23T17:50:53.532Z"
   },
   {
    "duration": 67,
    "start_time": "2023-03-23T17:50:53.549Z"
   },
   {
    "duration": 1671,
    "start_time": "2023-03-23T17:50:53.619Z"
   },
   {
    "duration": 4,
    "start_time": "2023-03-23T17:50:55.292Z"
   },
   {
    "duration": 17,
    "start_time": "2023-03-23T17:50:55.298Z"
   },
   {
    "duration": 35,
    "start_time": "2023-03-23T17:50:55.318Z"
   },
   {
    "duration": 20,
    "start_time": "2023-03-23T17:50:55.355Z"
   },
   {
    "duration": 264,
    "start_time": "2023-03-23T17:50:55.377Z"
   },
   {
    "duration": 221,
    "start_time": "2023-03-23T17:50:55.644Z"
   },
   {
    "duration": 6,
    "start_time": "2023-03-23T17:50:55.869Z"
   },
   {
    "duration": 14,
    "start_time": "2023-03-23T17:50:55.877Z"
   },
   {
    "duration": 146,
    "start_time": "2023-03-23T17:50:55.893Z"
   },
   {
    "duration": 22,
    "start_time": "2023-03-23T17:50:56.041Z"
   },
   {
    "duration": 1343,
    "start_time": "2023-03-23T17:50:56.065Z"
   },
   {
    "duration": 17,
    "start_time": "2023-03-23T17:50:57.411Z"
   },
   {
    "duration": 15,
    "start_time": "2023-03-23T17:50:57.442Z"
   },
   {
    "duration": 14,
    "start_time": "2023-03-23T17:50:57.459Z"
   },
   {
    "duration": 46,
    "start_time": "2023-03-23T17:50:57.476Z"
   },
   {
    "duration": 41,
    "start_time": "2023-03-23T17:50:57.525Z"
   },
   {
    "duration": 18,
    "start_time": "2023-03-23T17:50:57.569Z"
   },
   {
    "duration": 46,
    "start_time": "2023-03-23T17:50:57.589Z"
   },
   {
    "duration": 167,
    "start_time": "2023-03-23T17:50:57.637Z"
   },
   {
    "duration": 0,
    "start_time": "2023-03-23T17:50:57.807Z"
   },
   {
    "duration": 0,
    "start_time": "2023-03-23T17:50:57.808Z"
   },
   {
    "duration": 0,
    "start_time": "2023-03-23T17:50:57.809Z"
   },
   {
    "duration": 0,
    "start_time": "2023-03-23T17:50:57.811Z"
   },
   {
    "duration": 0,
    "start_time": "2023-03-23T17:50:57.817Z"
   },
   {
    "duration": 0,
    "start_time": "2023-03-23T17:50:57.818Z"
   },
   {
    "duration": 0,
    "start_time": "2023-03-23T17:50:57.819Z"
   },
   {
    "duration": 0,
    "start_time": "2023-03-23T17:50:57.820Z"
   },
   {
    "duration": 0,
    "start_time": "2023-03-23T17:50:57.822Z"
   },
   {
    "duration": 0,
    "start_time": "2023-03-23T17:50:57.823Z"
   },
   {
    "duration": 0,
    "start_time": "2023-03-23T17:50:57.842Z"
   },
   {
    "duration": 0,
    "start_time": "2023-03-23T17:50:57.843Z"
   },
   {
    "duration": 0,
    "start_time": "2023-03-23T17:50:57.845Z"
   },
   {
    "duration": 0,
    "start_time": "2023-03-23T17:50:57.846Z"
   },
   {
    "duration": 0,
    "start_time": "2023-03-23T17:50:57.848Z"
   },
   {
    "duration": 0,
    "start_time": "2023-03-23T17:50:57.850Z"
   },
   {
    "duration": 0,
    "start_time": "2023-03-23T17:50:57.852Z"
   },
   {
    "duration": 0,
    "start_time": "2023-03-23T17:50:57.854Z"
   },
   {
    "duration": 2612,
    "start_time": "2023-03-23T17:51:11.905Z"
   },
   {
    "duration": 2622,
    "start_time": "2023-03-23T17:51:14.521Z"
   },
   {
    "duration": 2512,
    "start_time": "2023-03-23T17:51:17.146Z"
   },
   {
    "duration": 6,
    "start_time": "2023-03-23T17:51:19.661Z"
   },
   {
    "duration": 80,
    "start_time": "2023-03-23T17:51:19.673Z"
   },
   {
    "duration": 51,
    "start_time": "2023-03-23T17:51:19.756Z"
   },
   {
    "duration": 1895,
    "start_time": "2023-03-23T17:51:19.809Z"
   },
   {
    "duration": 3,
    "start_time": "2023-03-23T17:51:21.707Z"
   },
   {
    "duration": 6,
    "start_time": "2023-03-23T17:51:21.712Z"
   },
   {
    "duration": 31,
    "start_time": "2023-03-23T17:51:21.721Z"
   },
   {
    "duration": 18,
    "start_time": "2023-03-23T17:51:21.754Z"
   },
   {
    "duration": 269,
    "start_time": "2023-03-23T17:51:21.774Z"
   },
   {
    "duration": 230,
    "start_time": "2023-03-23T17:51:22.046Z"
   },
   {
    "duration": 5,
    "start_time": "2023-03-23T17:51:22.278Z"
   },
   {
    "duration": 12,
    "start_time": "2023-03-23T17:51:22.285Z"
   },
   {
    "duration": 125,
    "start_time": "2023-03-23T17:51:22.299Z"
   },
   {
    "duration": 15,
    "start_time": "2023-03-23T17:51:22.426Z"
   },
   {
    "duration": 1323,
    "start_time": "2023-03-23T17:51:22.444Z"
   },
   {
    "duration": 10,
    "start_time": "2023-03-23T17:51:23.768Z"
   },
   {
    "duration": 20,
    "start_time": "2023-03-23T17:51:23.780Z"
   },
   {
    "duration": 8,
    "start_time": "2023-03-23T17:51:23.802Z"
   },
   {
    "duration": 5,
    "start_time": "2023-03-23T17:51:23.812Z"
   },
   {
    "duration": 24,
    "start_time": "2023-03-23T17:51:23.842Z"
   },
   {
    "duration": 6,
    "start_time": "2023-03-23T17:51:23.869Z"
   },
   {
    "duration": 27,
    "start_time": "2023-03-23T17:51:23.879Z"
   },
   {
    "duration": 61,
    "start_time": "2023-03-23T17:51:23.908Z"
   },
   {
    "duration": 38,
    "start_time": "2023-03-23T17:51:23.971Z"
   },
   {
    "duration": 52,
    "start_time": "2023-03-23T17:51:24.013Z"
   },
   {
    "duration": 7,
    "start_time": "2023-03-23T17:51:24.067Z"
   },
   {
    "duration": 580,
    "start_time": "2023-03-23T17:51:24.077Z"
   },
   {
    "duration": 539,
    "start_time": "2023-03-23T17:51:24.661Z"
   },
   {
    "duration": 1434,
    "start_time": "2023-03-23T17:51:25.201Z"
   },
   {
    "duration": 884,
    "start_time": "2023-03-23T17:51:26.641Z"
   },
   {
    "duration": 15382,
    "start_time": "2023-03-23T17:51:27.527Z"
   },
   {
    "duration": 25109,
    "start_time": "2023-03-23T17:51:42.911Z"
   },
   {
    "duration": 61,
    "start_time": "2023-03-23T17:52:08.022Z"
   },
   {
    "duration": 156,
    "start_time": "2023-03-23T17:52:08.085Z"
   },
   {
    "duration": 38659,
    "start_time": "2023-03-23T17:52:08.243Z"
   },
   {
    "duration": 175,
    "start_time": "2023-03-23T17:52:46.905Z"
   },
   {
    "duration": 14242,
    "start_time": "2023-03-23T17:52:47.083Z"
   },
   {
    "duration": 18,
    "start_time": "2023-03-23T17:53:01.327Z"
   },
   {
    "duration": 26,
    "start_time": "2023-03-23T17:53:01.347Z"
   },
   {
    "duration": 582,
    "start_time": "2023-03-23T17:53:01.375Z"
   },
   {
    "duration": 3724,
    "start_time": "2023-03-23T18:09:50.986Z"
   },
   {
    "duration": 2420,
    "start_time": "2023-03-23T18:09:54.713Z"
   },
   {
    "duration": 1966,
    "start_time": "2023-03-23T18:09:57.136Z"
   },
   {
    "duration": 5,
    "start_time": "2023-03-23T18:09:59.104Z"
   },
   {
    "duration": 20,
    "start_time": "2023-03-23T18:09:59.111Z"
   },
   {
    "duration": 170,
    "start_time": "2023-03-23T18:09:59.132Z"
   },
   {
    "duration": 1530,
    "start_time": "2023-03-23T18:09:59.304Z"
   },
   {
    "duration": 4,
    "start_time": "2023-03-23T18:10:00.835Z"
   },
   {
    "duration": 34,
    "start_time": "2023-03-23T18:10:00.841Z"
   },
   {
    "duration": 55,
    "start_time": "2023-03-23T18:10:00.878Z"
   },
   {
    "duration": 43,
    "start_time": "2023-03-23T18:10:00.935Z"
   },
   {
    "duration": 44,
    "start_time": "2023-03-23T18:10:00.980Z"
   },
   {
    "duration": 206,
    "start_time": "2023-03-23T18:10:01.026Z"
   },
   {
    "duration": 0,
    "start_time": "2023-03-23T18:10:01.235Z"
   },
   {
    "duration": 0,
    "start_time": "2023-03-23T18:10:01.237Z"
   },
   {
    "duration": 0,
    "start_time": "2023-03-23T18:10:01.238Z"
   },
   {
    "duration": 0,
    "start_time": "2023-03-23T18:10:01.240Z"
   },
   {
    "duration": 0,
    "start_time": "2023-03-23T18:10:01.241Z"
   },
   {
    "duration": 0,
    "start_time": "2023-03-23T18:10:01.242Z"
   },
   {
    "duration": 0,
    "start_time": "2023-03-23T18:10:01.244Z"
   },
   {
    "duration": 0,
    "start_time": "2023-03-23T18:10:01.245Z"
   },
   {
    "duration": 0,
    "start_time": "2023-03-23T18:10:01.246Z"
   },
   {
    "duration": 0,
    "start_time": "2023-03-23T18:10:01.247Z"
   },
   {
    "duration": 0,
    "start_time": "2023-03-23T18:10:01.249Z"
   },
   {
    "duration": 0,
    "start_time": "2023-03-23T18:10:01.250Z"
   },
   {
    "duration": 0,
    "start_time": "2023-03-23T18:10:01.251Z"
   },
   {
    "duration": 0,
    "start_time": "2023-03-23T18:10:01.252Z"
   },
   {
    "duration": 0,
    "start_time": "2023-03-23T18:10:01.253Z"
   },
   {
    "duration": 0,
    "start_time": "2023-03-23T18:10:01.254Z"
   },
   {
    "duration": 0,
    "start_time": "2023-03-23T18:10:01.256Z"
   },
   {
    "duration": 0,
    "start_time": "2023-03-23T18:10:01.257Z"
   },
   {
    "duration": 0,
    "start_time": "2023-03-23T18:10:01.258Z"
   },
   {
    "duration": 0,
    "start_time": "2023-03-23T18:10:01.259Z"
   },
   {
    "duration": 0,
    "start_time": "2023-03-23T18:10:01.260Z"
   },
   {
    "duration": 0,
    "start_time": "2023-03-23T18:10:01.261Z"
   },
   {
    "duration": 0,
    "start_time": "2023-03-23T18:10:01.262Z"
   },
   {
    "duration": 0,
    "start_time": "2023-03-23T18:10:01.263Z"
   },
   {
    "duration": 0,
    "start_time": "2023-03-23T18:10:01.264Z"
   },
   {
    "duration": 0,
    "start_time": "2023-03-23T18:10:01.265Z"
   },
   {
    "duration": 0,
    "start_time": "2023-03-23T18:10:01.267Z"
   },
   {
    "duration": 0,
    "start_time": "2023-03-23T18:10:01.269Z"
   },
   {
    "duration": 0,
    "start_time": "2023-03-23T18:10:01.270Z"
   },
   {
    "duration": 0,
    "start_time": "2023-03-23T18:10:01.271Z"
   },
   {
    "duration": 0,
    "start_time": "2023-03-23T18:10:01.272Z"
   },
   {
    "duration": 1,
    "start_time": "2023-03-23T18:10:01.273Z"
   },
   {
    "duration": 2922,
    "start_time": "2023-03-23T18:10:32.932Z"
   },
   {
    "duration": 2642,
    "start_time": "2023-03-23T18:10:35.857Z"
   },
   {
    "duration": 1360,
    "start_time": "2023-03-23T18:10:38.501Z"
   },
   {
    "duration": 4,
    "start_time": "2023-03-23T18:10:39.863Z"
   },
   {
    "duration": 10,
    "start_time": "2023-03-23T18:10:39.869Z"
   },
   {
    "duration": 45,
    "start_time": "2023-03-23T18:10:39.881Z"
   },
   {
    "duration": 1457,
    "start_time": "2023-03-23T18:10:39.928Z"
   },
   {
    "duration": 3,
    "start_time": "2023-03-23T18:10:41.388Z"
   },
   {
    "duration": 7,
    "start_time": "2023-03-23T18:10:41.393Z"
   },
   {
    "duration": 30,
    "start_time": "2023-03-23T18:10:41.403Z"
   },
   {
    "duration": 17,
    "start_time": "2023-03-23T18:10:41.435Z"
   },
   {
    "duration": 290,
    "start_time": "2023-03-23T18:10:41.453Z"
   },
   {
    "duration": 198,
    "start_time": "2023-03-23T18:10:41.745Z"
   },
   {
    "duration": 5,
    "start_time": "2023-03-23T18:10:41.945Z"
   },
   {
    "duration": 18,
    "start_time": "2023-03-23T18:10:41.952Z"
   },
   {
    "duration": 121,
    "start_time": "2023-03-23T18:10:41.972Z"
   },
   {
    "duration": 5,
    "start_time": "2023-03-23T18:10:42.095Z"
   },
   {
    "duration": 1245,
    "start_time": "2023-03-23T18:10:42.102Z"
   },
   {
    "duration": 11,
    "start_time": "2023-03-23T18:10:43.348Z"
   },
   {
    "duration": 8,
    "start_time": "2023-03-23T18:10:43.361Z"
   },
   {
    "duration": 10,
    "start_time": "2023-03-23T18:10:43.371Z"
   },
   {
    "duration": 4,
    "start_time": "2023-03-23T18:10:43.384Z"
   },
   {
    "duration": 51,
    "start_time": "2023-03-23T18:10:43.390Z"
   },
   {
    "duration": 5,
    "start_time": "2023-03-23T18:10:43.443Z"
   },
   {
    "duration": 31,
    "start_time": "2023-03-23T18:10:43.450Z"
   },
   {
    "duration": 33,
    "start_time": "2023-03-23T18:10:43.483Z"
   },
   {
    "duration": 29,
    "start_time": "2023-03-23T18:10:43.541Z"
   },
   {
    "duration": 32,
    "start_time": "2023-03-23T18:10:43.573Z"
   },
   {
    "duration": 4,
    "start_time": "2023-03-23T18:10:43.607Z"
   },
   {
    "duration": 445,
    "start_time": "2023-03-23T18:10:43.641Z"
   },
   {
    "duration": 505,
    "start_time": "2023-03-23T18:10:44.088Z"
   },
   {
    "duration": 1322,
    "start_time": "2023-03-23T18:10:44.595Z"
   },
   {
    "duration": 969,
    "start_time": "2023-03-23T18:10:45.920Z"
   },
   {
    "duration": 14542,
    "start_time": "2023-03-23T18:10:46.891Z"
   },
   {
    "duration": 7,
    "start_time": "2023-03-23T18:11:01.435Z"
   },
   {
    "duration": 10729,
    "start_time": "2023-03-23T18:11:01.444Z"
   },
   {
    "duration": 35,
    "start_time": "2023-03-23T18:11:12.175Z"
   },
   {
    "duration": 95,
    "start_time": "2023-03-23T18:11:12.212Z"
   },
   {
    "duration": 2458,
    "start_time": "2023-03-23T18:11:24.068Z"
   },
   {
    "duration": 2360,
    "start_time": "2023-03-23T18:11:26.529Z"
   },
   {
    "duration": 1349,
    "start_time": "2023-03-23T18:11:28.892Z"
   },
   {
    "duration": 4,
    "start_time": "2023-03-23T18:11:30.243Z"
   },
   {
    "duration": 47,
    "start_time": "2023-03-23T18:11:30.249Z"
   },
   {
    "duration": 103,
    "start_time": "2023-03-23T18:11:30.298Z"
   },
   {
    "duration": 1575,
    "start_time": "2023-03-23T18:11:30.403Z"
   },
   {
    "duration": 4,
    "start_time": "2023-03-23T18:11:31.980Z"
   },
   {
    "duration": 22,
    "start_time": "2023-03-23T18:11:31.985Z"
   },
   {
    "duration": 25,
    "start_time": "2023-03-23T18:11:32.010Z"
   },
   {
    "duration": 23,
    "start_time": "2023-03-23T18:11:32.037Z"
   },
   {
    "duration": 216,
    "start_time": "2023-03-23T18:11:32.061Z"
   },
   {
    "duration": 201,
    "start_time": "2023-03-23T18:11:32.279Z"
   },
   {
    "duration": 5,
    "start_time": "2023-03-23T18:11:32.482Z"
   },
   {
    "duration": 20,
    "start_time": "2023-03-23T18:11:32.488Z"
   },
   {
    "duration": 124,
    "start_time": "2023-03-23T18:11:32.510Z"
   },
   {
    "duration": 7,
    "start_time": "2023-03-23T18:11:32.640Z"
   },
   {
    "duration": 1175,
    "start_time": "2023-03-23T18:11:32.649Z"
   },
   {
    "duration": 20,
    "start_time": "2023-03-23T18:11:33.827Z"
   },
   {
    "duration": 17,
    "start_time": "2023-03-23T18:11:33.850Z"
   },
   {
    "duration": 10,
    "start_time": "2023-03-23T18:11:33.870Z"
   },
   {
    "duration": 5,
    "start_time": "2023-03-23T18:11:33.883Z"
   },
   {
    "duration": 15,
    "start_time": "2023-03-23T18:11:33.890Z"
   },
   {
    "duration": 5,
    "start_time": "2023-03-23T18:11:33.907Z"
   },
   {
    "duration": 44,
    "start_time": "2023-03-23T18:11:33.914Z"
   },
   {
    "duration": 28,
    "start_time": "2023-03-23T18:11:33.960Z"
   },
   {
    "duration": 51,
    "start_time": "2023-03-23T18:11:33.990Z"
   },
   {
    "duration": 30,
    "start_time": "2023-03-23T18:11:34.044Z"
   },
   {
    "duration": 5,
    "start_time": "2023-03-23T18:11:34.076Z"
   },
   {
    "duration": 516,
    "start_time": "2023-03-23T18:11:34.083Z"
   },
   {
    "duration": 487,
    "start_time": "2023-03-23T18:11:34.601Z"
   },
   {
    "duration": 1320,
    "start_time": "2023-03-23T18:11:35.090Z"
   },
   {
    "duration": 764,
    "start_time": "2023-03-23T18:11:36.413Z"
   },
   {
    "duration": 13443,
    "start_time": "2023-03-23T18:11:37.179Z"
   },
   {
    "duration": 20,
    "start_time": "2023-03-23T18:11:50.624Z"
   },
   {
    "duration": 22950,
    "start_time": "2023-03-23T18:11:50.646Z"
   },
   {
    "duration": 50,
    "start_time": "2023-03-23T18:12:13.600Z"
   },
   {
    "duration": 108,
    "start_time": "2023-03-23T18:12:13.652Z"
   },
   {
    "duration": 36061,
    "start_time": "2023-03-23T18:12:13.763Z"
   },
   {
    "duration": 117,
    "start_time": "2023-03-23T18:12:49.826Z"
   },
   {
    "duration": 12255,
    "start_time": "2023-03-23T18:12:49.944Z"
   },
   {
    "duration": 13,
    "start_time": "2023-03-23T18:13:02.201Z"
   },
   {
    "duration": 33,
    "start_time": "2023-03-23T18:13:02.216Z"
   },
   {
    "duration": 538,
    "start_time": "2023-03-23T18:13:02.251Z"
   },
   {
    "duration": 21,
    "start_time": "2023-03-23T18:16:16.910Z"
   },
   {
    "duration": 32841,
    "start_time": "2023-03-23T18:22:36.925Z"
   },
   {
    "duration": 13,
    "start_time": "2023-03-23T18:23:43.001Z"
   },
   {
    "duration": 21758,
    "start_time": "2023-03-23T18:24:08.072Z"
   },
   {
    "duration": 30,
    "start_time": "2023-03-23T18:42:38.301Z"
   },
   {
    "duration": 5,
    "start_time": "2023-03-23T18:42:46.636Z"
   },
   {
    "duration": 92,
    "start_time": "2023-03-23T18:42:53.863Z"
   },
   {
    "duration": 95,
    "start_time": "2023-03-23T18:43:49.563Z"
   },
   {
    "duration": 138,
    "start_time": "2023-03-23T18:43:59.118Z"
   },
   {
    "duration": 18789,
    "start_time": "2023-03-23T18:45:19.286Z"
   },
   {
    "duration": 209,
    "start_time": "2023-03-23T18:45:39.527Z"
   },
   {
    "duration": 210,
    "start_time": "2023-03-23T18:55:04.170Z"
   },
   {
    "duration": 125,
    "start_time": "2023-03-23T18:55:10.561Z"
   },
   {
    "duration": 104,
    "start_time": "2023-03-23T18:55:18.126Z"
   },
   {
    "duration": 3768,
    "start_time": "2023-03-23T18:56:53.082Z"
   },
   {
    "duration": 2744,
    "start_time": "2023-03-23T18:56:56.852Z"
   },
   {
    "duration": 2437,
    "start_time": "2023-03-23T18:56:59.599Z"
   },
   {
    "duration": 6,
    "start_time": "2023-03-23T18:57:02.039Z"
   },
   {
    "duration": 26,
    "start_time": "2023-03-23T18:57:02.048Z"
   },
   {
    "duration": 215,
    "start_time": "2023-03-23T18:57:02.076Z"
   },
   {
    "duration": 1616,
    "start_time": "2023-03-23T18:57:02.293Z"
   },
   {
    "duration": 4,
    "start_time": "2023-03-23T18:57:03.911Z"
   },
   {
    "duration": 9,
    "start_time": "2023-03-23T18:57:03.916Z"
   },
   {
    "duration": 37,
    "start_time": "2023-03-23T18:57:03.927Z"
   },
   {
    "duration": 17,
    "start_time": "2023-03-23T18:57:03.966Z"
   },
   {
    "duration": 260,
    "start_time": "2023-03-23T18:57:03.985Z"
   },
   {
    "duration": 196,
    "start_time": "2023-03-23T18:57:04.247Z"
   },
   {
    "duration": 6,
    "start_time": "2023-03-23T18:57:04.448Z"
   },
   {
    "duration": 22,
    "start_time": "2023-03-23T18:57:04.455Z"
   },
   {
    "duration": 157,
    "start_time": "2023-03-23T18:57:04.478Z"
   },
   {
    "duration": 10,
    "start_time": "2023-03-23T18:57:04.641Z"
   },
   {
    "duration": 1401,
    "start_time": "2023-03-23T18:57:04.660Z"
   },
   {
    "duration": 20,
    "start_time": "2023-03-23T18:57:06.065Z"
   },
   {
    "duration": 8,
    "start_time": "2023-03-23T18:57:06.087Z"
   },
   {
    "duration": 14,
    "start_time": "2023-03-23T18:57:06.097Z"
   },
   {
    "duration": 29,
    "start_time": "2023-03-23T18:57:06.113Z"
   },
   {
    "duration": 34,
    "start_time": "2023-03-23T18:57:06.144Z"
   },
   {
    "duration": 7,
    "start_time": "2023-03-23T18:57:06.181Z"
   },
   {
    "duration": 30,
    "start_time": "2023-03-23T18:57:06.190Z"
   },
   {
    "duration": 35,
    "start_time": "2023-03-23T18:57:06.240Z"
   },
   {
    "duration": 42,
    "start_time": "2023-03-23T18:57:06.277Z"
   },
   {
    "duration": 52,
    "start_time": "2023-03-23T18:57:06.321Z"
   },
   {
    "duration": 28,
    "start_time": "2023-03-23T18:57:06.375Z"
   },
   {
    "duration": 5,
    "start_time": "2023-03-23T18:57:06.405Z"
   },
   {
    "duration": 520,
    "start_time": "2023-03-23T18:57:06.411Z"
   },
   {
    "duration": 765,
    "start_time": "2023-03-23T18:57:06.934Z"
   },
   {
    "duration": 1351,
    "start_time": "2023-03-23T18:57:07.701Z"
   },
   {
    "duration": 898,
    "start_time": "2023-03-23T18:57:09.062Z"
   },
   {
    "duration": 20766,
    "start_time": "2023-03-23T18:57:09.962Z"
   },
   {
    "duration": 19,
    "start_time": "2023-03-23T18:57:30.730Z"
   },
   {
    "duration": 23652,
    "start_time": "2023-03-23T18:57:30.751Z"
   },
   {
    "duration": 48,
    "start_time": "2023-03-23T18:57:54.405Z"
   },
   {
    "duration": 116,
    "start_time": "2023-03-23T18:57:54.457Z"
   },
   {
    "duration": 19354,
    "start_time": "2023-03-23T18:57:54.576Z"
   },
   {
    "duration": 130,
    "start_time": "2023-03-23T18:58:13.934Z"
   },
   {
    "duration": 7832,
    "start_time": "2023-03-23T18:58:14.066Z"
   },
   {
    "duration": 14,
    "start_time": "2023-03-23T18:58:21.900Z"
   },
   {
    "duration": 26,
    "start_time": "2023-03-23T18:58:21.916Z"
   },
   {
    "duration": 35,
    "start_time": "2023-03-23T18:58:21.944Z"
   },
   {
    "duration": 5,
    "start_time": "2023-03-23T18:58:21.982Z"
   },
   {
    "duration": 147,
    "start_time": "2023-03-23T18:58:21.989Z"
   },
   {
    "duration": 0,
    "start_time": "2023-03-23T18:58:22.141Z"
   },
   {
    "duration": 0,
    "start_time": "2023-03-23T18:58:22.142Z"
   },
   {
    "duration": 0,
    "start_time": "2023-03-23T18:58:22.144Z"
   },
   {
    "duration": 18273,
    "start_time": "2023-03-23T18:59:41.133Z"
   },
   {
    "duration": 90,
    "start_time": "2023-03-23T19:01:04.097Z"
   },
   {
    "duration": 207,
    "start_time": "2023-03-23T19:01:05.334Z"
   },
   {
    "duration": 490,
    "start_time": "2023-03-23T19:01:09.707Z"
   },
   {
    "duration": 17,
    "start_time": "2023-03-23T19:04:28.390Z"
   },
   {
    "duration": 1360,
    "start_time": "2023-03-23T19:04:32.905Z"
   },
   {
    "duration": 17,
    "start_time": "2023-03-23T19:11:45.973Z"
   },
   {
    "duration": 629,
    "start_time": "2023-03-23T19:11:58.001Z"
   },
   {
    "duration": 703,
    "start_time": "2023-03-23T19:12:49.223Z"
   },
   {
    "duration": 1049,
    "start_time": "2023-03-23T19:15:15.306Z"
   },
   {
    "duration": 686,
    "start_time": "2023-03-23T19:15:51.862Z"
   },
   {
    "duration": 7,
    "start_time": "2023-03-23T19:24:24.275Z"
   },
   {
    "duration": 60,
    "start_time": "2023-03-23T19:25:02.081Z"
   },
   {
    "duration": 265,
    "start_time": "2023-03-23T19:25:03.361Z"
   },
   {
    "duration": 8,
    "start_time": "2023-03-23T19:25:05.204Z"
   },
   {
    "duration": 98,
    "start_time": "2023-03-23T19:50:51.586Z"
   },
   {
    "duration": 19,
    "start_time": "2023-03-23T19:51:37.616Z"
   },
   {
    "duration": 2824,
    "start_time": "2023-03-23T19:52:10.534Z"
   },
   {
    "duration": 2643,
    "start_time": "2023-03-23T19:52:13.360Z"
   },
   {
    "duration": 1993,
    "start_time": "2023-03-23T19:52:16.005Z"
   },
   {
    "duration": 5,
    "start_time": "2023-03-23T19:52:18.000Z"
   },
   {
    "duration": 15,
    "start_time": "2023-03-23T19:52:18.008Z"
   },
   {
    "duration": 240,
    "start_time": "2023-03-23T19:52:18.025Z"
   },
   {
    "duration": 1834,
    "start_time": "2023-03-23T19:52:18.267Z"
   },
   {
    "duration": 4,
    "start_time": "2023-03-23T19:52:20.104Z"
   },
   {
    "duration": 9,
    "start_time": "2023-03-23T19:52:20.110Z"
   },
   {
    "duration": 26,
    "start_time": "2023-03-23T19:52:20.122Z"
   },
   {
    "duration": 18,
    "start_time": "2023-03-23T19:52:20.149Z"
   },
   {
    "duration": 239,
    "start_time": "2023-03-23T19:52:20.169Z"
   },
   {
    "duration": 212,
    "start_time": "2023-03-23T19:52:20.410Z"
   },
   {
    "duration": 5,
    "start_time": "2023-03-23T19:52:20.624Z"
   },
   {
    "duration": 27,
    "start_time": "2023-03-23T19:52:20.630Z"
   },
   {
    "duration": 117,
    "start_time": "2023-03-23T19:52:20.658Z"
   },
   {
    "duration": 5,
    "start_time": "2023-03-23T19:52:20.777Z"
   },
   {
    "duration": 1393,
    "start_time": "2023-03-23T19:52:20.783Z"
   },
   {
    "duration": 14,
    "start_time": "2023-03-23T19:52:22.179Z"
   },
   {
    "duration": 11,
    "start_time": "2023-03-23T19:52:22.195Z"
   },
   {
    "duration": 20,
    "start_time": "2023-03-23T19:52:22.208Z"
   },
   {
    "duration": 34,
    "start_time": "2023-03-23T19:52:22.230Z"
   },
   {
    "duration": 18,
    "start_time": "2023-03-23T19:52:22.266Z"
   },
   {
    "duration": 10,
    "start_time": "2023-03-23T19:52:22.285Z"
   },
   {
    "duration": 23,
    "start_time": "2023-03-23T19:52:22.298Z"
   },
   {
    "duration": 15,
    "start_time": "2023-03-23T19:52:22.323Z"
   },
   {
    "duration": 36,
    "start_time": "2023-03-23T19:52:22.353Z"
   },
   {
    "duration": 30,
    "start_time": "2023-03-23T19:52:22.393Z"
   },
   {
    "duration": 53,
    "start_time": "2023-03-23T19:52:22.425Z"
   },
   {
    "duration": 6,
    "start_time": "2023-03-23T19:52:22.480Z"
   },
   {
    "duration": 544,
    "start_time": "2023-03-23T19:52:22.488Z"
   },
   {
    "duration": 571,
    "start_time": "2023-03-23T19:52:23.034Z"
   },
   {
    "duration": 1426,
    "start_time": "2023-03-23T19:52:23.607Z"
   },
   {
    "duration": 1092,
    "start_time": "2023-03-23T19:52:25.035Z"
   },
   {
    "duration": 21614,
    "start_time": "2023-03-23T19:52:26.129Z"
   },
   {
    "duration": 17,
    "start_time": "2023-03-23T19:52:47.745Z"
   },
   {
    "duration": 24713,
    "start_time": "2023-03-23T19:52:47.765Z"
   },
   {
    "duration": 24248,
    "start_time": "2023-03-23T19:53:12.480Z"
   },
   {
    "duration": 173,
    "start_time": "2023-03-23T19:53:36.730Z"
   },
   {
    "duration": 75,
    "start_time": "2023-03-23T19:53:36.905Z"
   },
   {
    "duration": 0,
    "start_time": "2023-03-23T19:53:36.986Z"
   },
   {
    "duration": 0,
    "start_time": "2023-03-23T19:53:36.988Z"
   },
   {
    "duration": 0,
    "start_time": "2023-03-23T19:53:36.993Z"
   },
   {
    "duration": 9227,
    "start_time": "2023-03-23T20:00:31.401Z"
   },
   {
    "duration": 74,
    "start_time": "2023-03-23T20:00:40.630Z"
   },
   {
    "duration": 568,
    "start_time": "2023-03-23T20:00:40.706Z"
   },
   {
    "duration": 20863,
    "start_time": "2023-03-23T20:05:00.115Z"
   },
   {
    "duration": 18,
    "start_time": "2023-03-23T20:05:25.287Z"
   },
   {
    "duration": 23160,
    "start_time": "2023-03-23T20:06:32.134Z"
   },
   {
    "duration": 2882,
    "start_time": "2023-03-23T20:07:09.407Z"
   },
   {
    "duration": 2899,
    "start_time": "2023-03-23T20:07:12.291Z"
   },
   {
    "duration": 1509,
    "start_time": "2023-03-23T20:07:15.193Z"
   },
   {
    "duration": 5,
    "start_time": "2023-03-23T20:07:16.705Z"
   },
   {
    "duration": 12,
    "start_time": "2023-03-23T20:07:16.712Z"
   },
   {
    "duration": 75,
    "start_time": "2023-03-23T20:07:16.726Z"
   },
   {
    "duration": 1731,
    "start_time": "2023-03-23T20:07:16.803Z"
   },
   {
    "duration": 4,
    "start_time": "2023-03-23T20:07:18.536Z"
   },
   {
    "duration": 7,
    "start_time": "2023-03-23T20:07:18.543Z"
   },
   {
    "duration": 51,
    "start_time": "2023-03-23T20:07:18.553Z"
   },
   {
    "duration": 19,
    "start_time": "2023-03-23T20:07:18.607Z"
   },
   {
    "duration": 275,
    "start_time": "2023-03-23T20:07:18.628Z"
   },
   {
    "duration": 263,
    "start_time": "2023-03-23T20:07:18.905Z"
   },
   {
    "duration": 13,
    "start_time": "2023-03-23T20:07:19.173Z"
   },
   {
    "duration": 21,
    "start_time": "2023-03-23T20:07:19.193Z"
   },
   {
    "duration": 165,
    "start_time": "2023-03-23T20:07:19.219Z"
   },
   {
    "duration": 35,
    "start_time": "2023-03-23T20:07:19.389Z"
   },
   {
    "duration": 1565,
    "start_time": "2023-03-23T20:07:19.435Z"
   },
   {
    "duration": 10,
    "start_time": "2023-03-23T20:07:21.002Z"
   },
   {
    "duration": 18,
    "start_time": "2023-03-23T20:07:21.014Z"
   },
   {
    "duration": 19,
    "start_time": "2023-03-23T20:07:21.034Z"
   },
   {
    "duration": 4,
    "start_time": "2023-03-23T20:07:21.063Z"
   },
   {
    "duration": 25,
    "start_time": "2023-03-23T20:07:21.071Z"
   },
   {
    "duration": 11,
    "start_time": "2023-03-23T20:07:21.098Z"
   },
   {
    "duration": 19,
    "start_time": "2023-03-23T20:07:21.111Z"
   },
   {
    "duration": 26,
    "start_time": "2023-03-23T20:07:21.132Z"
   },
   {
    "duration": 34,
    "start_time": "2023-03-23T20:07:21.164Z"
   },
   {
    "duration": 30,
    "start_time": "2023-03-23T20:07:21.201Z"
   },
   {
    "duration": 47,
    "start_time": "2023-03-23T20:07:21.240Z"
   },
   {
    "duration": 6,
    "start_time": "2023-03-23T20:07:21.289Z"
   },
   {
    "duration": 555,
    "start_time": "2023-03-23T20:07:21.297Z"
   },
   {
    "duration": 567,
    "start_time": "2023-03-23T20:07:21.864Z"
   },
   {
    "duration": 1465,
    "start_time": "2023-03-23T20:07:22.433Z"
   },
   {
    "duration": 1787,
    "start_time": "2023-03-23T20:07:23.900Z"
   },
   {
    "duration": 22094,
    "start_time": "2023-03-23T20:07:25.690Z"
   },
   {
    "duration": 17,
    "start_time": "2023-03-23T20:07:47.786Z"
   },
   {
    "duration": 24722,
    "start_time": "2023-03-23T20:07:47.806Z"
   },
   {
    "duration": 21592,
    "start_time": "2023-03-23T20:08:12.530Z"
   },
   {
    "duration": 134,
    "start_time": "2023-03-23T20:08:34.123Z"
   },
   {
    "duration": 8445,
    "start_time": "2023-03-23T20:08:34.259Z"
   },
   {
    "duration": 63,
    "start_time": "2023-03-23T20:08:42.706Z"
   },
   {
    "duration": 519,
    "start_time": "2023-03-23T20:08:42.772Z"
   },
   {
    "duration": 2450,
    "start_time": "2023-03-23T20:09:30.198Z"
   },
   {
    "duration": 2475,
    "start_time": "2023-03-23T20:09:32.651Z"
   },
   {
    "duration": 1391,
    "start_time": "2023-03-23T20:09:35.129Z"
   },
   {
    "duration": 4,
    "start_time": "2023-03-23T20:09:36.522Z"
   },
   {
    "duration": 26,
    "start_time": "2023-03-23T20:09:36.528Z"
   },
   {
    "duration": 50,
    "start_time": "2023-03-23T20:09:36.557Z"
   },
   {
    "duration": 1549,
    "start_time": "2023-03-23T20:09:36.609Z"
   },
   {
    "duration": 3,
    "start_time": "2023-03-23T20:09:38.160Z"
   },
   {
    "duration": 6,
    "start_time": "2023-03-23T20:09:38.165Z"
   },
   {
    "duration": 23,
    "start_time": "2023-03-23T20:09:38.173Z"
   },
   {
    "duration": 14,
    "start_time": "2023-03-23T20:09:38.198Z"
   },
   {
    "duration": 248,
    "start_time": "2023-03-23T20:09:38.213Z"
   },
   {
    "duration": 195,
    "start_time": "2023-03-23T20:09:38.463Z"
   },
   {
    "duration": 5,
    "start_time": "2023-03-23T20:09:38.661Z"
   },
   {
    "duration": 13,
    "start_time": "2023-03-23T20:09:38.668Z"
   },
   {
    "duration": 121,
    "start_time": "2023-03-23T20:09:38.682Z"
   },
   {
    "duration": 5,
    "start_time": "2023-03-23T20:09:38.805Z"
   },
   {
    "duration": 1307,
    "start_time": "2023-03-23T20:09:38.812Z"
   },
   {
    "duration": 10,
    "start_time": "2023-03-23T20:09:40.121Z"
   },
   {
    "duration": 15,
    "start_time": "2023-03-23T20:09:40.141Z"
   },
   {
    "duration": 10,
    "start_time": "2023-03-23T20:09:40.158Z"
   },
   {
    "duration": 9,
    "start_time": "2023-03-23T20:09:40.171Z"
   },
   {
    "duration": 14,
    "start_time": "2023-03-23T20:09:40.182Z"
   },
   {
    "duration": 5,
    "start_time": "2023-03-23T20:09:40.198Z"
   },
   {
    "duration": 38,
    "start_time": "2023-03-23T20:09:40.205Z"
   },
   {
    "duration": 20,
    "start_time": "2023-03-23T20:09:40.245Z"
   },
   {
    "duration": 28,
    "start_time": "2023-03-23T20:09:40.266Z"
   },
   {
    "duration": 57,
    "start_time": "2023-03-23T20:09:40.296Z"
   },
   {
    "duration": 29,
    "start_time": "2023-03-23T20:09:40.360Z"
   },
   {
    "duration": 4,
    "start_time": "2023-03-23T20:09:40.391Z"
   },
   {
    "duration": 515,
    "start_time": "2023-03-23T20:09:40.397Z"
   },
   {
    "duration": 605,
    "start_time": "2023-03-23T20:09:40.914Z"
   },
   {
    "duration": 1287,
    "start_time": "2023-03-23T20:09:41.521Z"
   },
   {
    "duration": 1490,
    "start_time": "2023-03-23T20:09:42.810Z"
   },
   {
    "duration": 19653,
    "start_time": "2023-03-23T20:09:44.302Z"
   },
   {
    "duration": 16,
    "start_time": "2023-03-23T20:10:03.958Z"
   },
   {
    "duration": 23654,
    "start_time": "2023-03-23T20:10:03.976Z"
   },
   {
    "duration": 8557,
    "start_time": "2023-03-23T20:10:49.062Z"
   },
   {
    "duration": 80,
    "start_time": "2023-03-23T20:10:57.623Z"
   },
   {
    "duration": 561,
    "start_time": "2023-03-23T20:10:57.706Z"
   },
   {
    "duration": 2548,
    "start_time": "2023-03-23T20:16:28.758Z"
   },
   {
    "duration": 2535,
    "start_time": "2023-03-23T20:16:31.310Z"
   },
   {
    "duration": 1411,
    "start_time": "2023-03-23T20:16:33.850Z"
   },
   {
    "duration": 6,
    "start_time": "2023-03-23T20:16:35.263Z"
   },
   {
    "duration": 13,
    "start_time": "2023-03-23T20:16:35.271Z"
   },
   {
    "duration": 54,
    "start_time": "2023-03-23T20:16:35.286Z"
   },
   {
    "duration": 1666,
    "start_time": "2023-03-23T20:16:35.344Z"
   },
   {
    "duration": 3,
    "start_time": "2023-03-23T20:16:37.011Z"
   },
   {
    "duration": 8,
    "start_time": "2023-03-23T20:16:37.016Z"
   },
   {
    "duration": 35,
    "start_time": "2023-03-23T20:16:37.025Z"
   },
   {
    "duration": 20,
    "start_time": "2023-03-23T20:16:37.062Z"
   },
   {
    "duration": 277,
    "start_time": "2023-03-23T20:16:37.084Z"
   },
   {
    "duration": 227,
    "start_time": "2023-03-23T20:16:37.365Z"
   },
   {
    "duration": 5,
    "start_time": "2023-03-23T20:16:37.596Z"
   },
   {
    "duration": 10,
    "start_time": "2023-03-23T20:16:37.602Z"
   },
   {
    "duration": 142,
    "start_time": "2023-03-23T20:16:37.614Z"
   },
   {
    "duration": 8,
    "start_time": "2023-03-23T20:16:37.760Z"
   },
   {
    "duration": 1223,
    "start_time": "2023-03-23T20:16:37.770Z"
   },
   {
    "duration": 17,
    "start_time": "2023-03-23T20:16:38.996Z"
   },
   {
    "duration": 18,
    "start_time": "2023-03-23T20:16:39.015Z"
   },
   {
    "duration": 28,
    "start_time": "2023-03-23T20:16:39.035Z"
   },
   {
    "duration": 24,
    "start_time": "2023-03-23T20:16:39.067Z"
   },
   {
    "duration": 25,
    "start_time": "2023-03-23T20:16:39.093Z"
   },
   {
    "duration": 7,
    "start_time": "2023-03-23T20:16:39.120Z"
   },
   {
    "duration": 31,
    "start_time": "2023-03-23T20:16:39.129Z"
   },
   {
    "duration": 24,
    "start_time": "2023-03-23T20:16:39.162Z"
   },
   {
    "duration": 39,
    "start_time": "2023-03-23T20:16:39.189Z"
   },
   {
    "duration": 43,
    "start_time": "2023-03-23T20:16:39.244Z"
   },
   {
    "duration": 32,
    "start_time": "2023-03-23T20:16:39.289Z"
   },
   {
    "duration": 30,
    "start_time": "2023-03-23T20:16:39.323Z"
   },
   {
    "duration": 457,
    "start_time": "2023-03-23T20:16:39.354Z"
   },
   {
    "duration": 618,
    "start_time": "2023-03-23T20:16:39.813Z"
   },
   {
    "duration": 1292,
    "start_time": "2023-03-23T20:16:40.434Z"
   },
   {
    "duration": 792,
    "start_time": "2023-03-23T20:16:41.729Z"
   },
   {
    "duration": 20403,
    "start_time": "2023-03-23T20:16:42.524Z"
   },
   {
    "duration": 31,
    "start_time": "2023-03-23T20:17:02.930Z"
   },
   {
    "duration": 23664,
    "start_time": "2023-03-23T20:17:02.963Z"
   },
   {
    "duration": 21172,
    "start_time": "2023-03-23T20:17:26.630Z"
   },
   {
    "duration": 142,
    "start_time": "2023-03-23T20:17:47.804Z"
   },
   {
    "duration": 8040,
    "start_time": "2023-03-23T20:17:47.956Z"
   },
   {
    "duration": 69,
    "start_time": "2023-03-23T20:17:55.999Z"
   },
   {
    "duration": 511,
    "start_time": "2023-03-23T20:17:56.070Z"
   },
   {
    "duration": 587,
    "start_time": "2023-03-23T20:32:38.297Z"
   },
   {
    "duration": 852,
    "start_time": "2023-03-23T20:34:00.330Z"
   },
   {
    "duration": 67,
    "start_time": "2023-03-23T20:44:30.444Z"
   },
   {
    "duration": 2251,
    "start_time": "2023-03-23T21:02:22.200Z"
   },
   {
    "duration": 2213,
    "start_time": "2023-03-23T21:02:24.454Z"
   },
   {
    "duration": 1314,
    "start_time": "2023-03-23T21:02:26.669Z"
   },
   {
    "duration": 4,
    "start_time": "2023-03-23T21:02:27.985Z"
   },
   {
    "duration": 10,
    "start_time": "2023-03-23T21:02:27.991Z"
   },
   {
    "duration": 47,
    "start_time": "2023-03-23T21:02:28.002Z"
   },
   {
    "duration": 1510,
    "start_time": "2023-03-23T21:02:28.051Z"
   },
   {
    "duration": 3,
    "start_time": "2023-03-23T21:02:29.563Z"
   },
   {
    "duration": 7,
    "start_time": "2023-03-23T21:02:29.568Z"
   },
   {
    "duration": 22,
    "start_time": "2023-03-23T21:02:29.577Z"
   },
   {
    "duration": 13,
    "start_time": "2023-03-23T21:02:29.601Z"
   },
   {
    "duration": 216,
    "start_time": "2023-03-23T21:02:29.615Z"
   },
   {
    "duration": 174,
    "start_time": "2023-03-23T21:02:29.840Z"
   },
   {
    "duration": 5,
    "start_time": "2023-03-23T21:02:30.018Z"
   },
   {
    "duration": 30,
    "start_time": "2023-03-23T21:02:30.024Z"
   },
   {
    "duration": 114,
    "start_time": "2023-03-23T21:02:30.056Z"
   },
   {
    "duration": 5,
    "start_time": "2023-03-23T21:02:30.173Z"
   },
   {
    "duration": 1205,
    "start_time": "2023-03-23T21:02:30.180Z"
   },
   {
    "duration": 11,
    "start_time": "2023-03-23T21:02:31.388Z"
   },
   {
    "duration": 29,
    "start_time": "2023-03-23T21:02:31.401Z"
   },
   {
    "duration": 26,
    "start_time": "2023-03-23T21:02:31.432Z"
   },
   {
    "duration": 35,
    "start_time": "2023-03-23T21:02:31.460Z"
   },
   {
    "duration": 31,
    "start_time": "2023-03-23T21:02:31.497Z"
   },
   {
    "duration": 8,
    "start_time": "2023-03-23T21:02:31.530Z"
   },
   {
    "duration": 40,
    "start_time": "2023-03-23T21:02:31.540Z"
   },
   {
    "duration": 17,
    "start_time": "2023-03-23T21:02:31.582Z"
   },
   {
    "duration": 49,
    "start_time": "2023-03-23T21:02:31.601Z"
   },
   {
    "duration": 35,
    "start_time": "2023-03-23T21:02:31.652Z"
   },
   {
    "duration": 27,
    "start_time": "2023-03-23T21:02:31.689Z"
   },
   {
    "duration": 5,
    "start_time": "2023-03-23T21:02:31.718Z"
   },
   {
    "duration": 464,
    "start_time": "2023-03-23T21:02:31.725Z"
   },
   {
    "duration": 592,
    "start_time": "2023-03-23T21:02:32.191Z"
   },
   {
    "duration": 1213,
    "start_time": "2023-03-23T21:02:32.784Z"
   },
   {
    "duration": 779,
    "start_time": "2023-03-23T21:02:33.998Z"
   },
   {
    "duration": 18125,
    "start_time": "2023-03-23T21:02:34.778Z"
   },
   {
    "duration": 11,
    "start_time": "2023-03-23T21:02:52.905Z"
   },
   {
    "duration": 20964,
    "start_time": "2023-03-23T21:02:52.918Z"
   },
   {
    "duration": 19627,
    "start_time": "2023-03-23T21:03:13.884Z"
   },
   {
    "duration": 115,
    "start_time": "2023-03-23T21:03:33.513Z"
   },
   {
    "duration": 7739,
    "start_time": "2023-03-23T21:03:33.629Z"
   },
   {
    "duration": 55,
    "start_time": "2023-03-23T21:03:41.373Z"
   },
   {
    "duration": 541,
    "start_time": "2023-03-23T21:03:41.430Z"
   },
   {
    "duration": 7237,
    "start_time": "2023-03-24T12:55:17.658Z"
   },
   {
    "duration": 3914,
    "start_time": "2023-03-24T12:55:24.898Z"
   },
   {
    "duration": 1540,
    "start_time": "2023-03-24T12:55:28.815Z"
   },
   {
    "duration": 5,
    "start_time": "2023-03-24T12:55:30.357Z"
   },
   {
    "duration": 40,
    "start_time": "2023-03-24T12:55:30.364Z"
   },
   {
    "duration": 94,
    "start_time": "2023-03-24T12:55:30.406Z"
   },
   {
    "duration": 1564,
    "start_time": "2023-03-24T12:55:30.502Z"
   },
   {
    "duration": 4,
    "start_time": "2023-03-24T12:55:32.070Z"
   },
   {
    "duration": 42,
    "start_time": "2023-03-24T12:55:32.077Z"
   },
   {
    "duration": 36,
    "start_time": "2023-03-24T12:55:32.122Z"
   },
   {
    "duration": 21,
    "start_time": "2023-03-24T12:55:32.160Z"
   },
   {
    "duration": 244,
    "start_time": "2023-03-24T12:55:32.183Z"
   },
   {
    "duration": 197,
    "start_time": "2023-03-24T12:55:32.429Z"
   },
   {
    "duration": 6,
    "start_time": "2023-03-24T12:55:32.629Z"
   },
   {
    "duration": 20,
    "start_time": "2023-03-24T12:55:32.637Z"
   },
   {
    "duration": 172,
    "start_time": "2023-03-24T12:55:32.659Z"
   },
   {
    "duration": 4,
    "start_time": "2023-03-24T12:55:32.833Z"
   },
   {
    "duration": 1241,
    "start_time": "2023-03-24T12:55:32.839Z"
   },
   {
    "duration": 10,
    "start_time": "2023-03-24T12:55:34.082Z"
   },
   {
    "duration": 5,
    "start_time": "2023-03-24T12:55:34.103Z"
   },
   {
    "duration": 10,
    "start_time": "2023-03-24T12:55:34.110Z"
   },
   {
    "duration": 7,
    "start_time": "2023-03-24T12:55:34.122Z"
   },
   {
    "duration": 13,
    "start_time": "2023-03-24T12:55:34.131Z"
   },
   {
    "duration": 5,
    "start_time": "2023-03-24T12:55:34.146Z"
   },
   {
    "duration": 66,
    "start_time": "2023-03-24T12:55:34.153Z"
   },
   {
    "duration": 21,
    "start_time": "2023-03-24T12:55:34.221Z"
   },
   {
    "duration": 35,
    "start_time": "2023-03-24T12:55:34.244Z"
   },
   {
    "duration": 43,
    "start_time": "2023-03-24T12:55:34.280Z"
   },
   {
    "duration": 29,
    "start_time": "2023-03-24T12:55:34.324Z"
   },
   {
    "duration": 5,
    "start_time": "2023-03-24T12:55:34.355Z"
   },
   {
    "duration": 512,
    "start_time": "2023-03-24T12:55:34.362Z"
   },
   {
    "duration": 618,
    "start_time": "2023-03-24T12:55:34.877Z"
   },
   {
    "duration": 1178,
    "start_time": "2023-03-24T12:55:35.497Z"
   },
   {
    "duration": 768,
    "start_time": "2023-03-24T12:55:36.677Z"
   },
   {
    "duration": 18263,
    "start_time": "2023-03-24T12:55:37.447Z"
   },
   {
    "duration": 11,
    "start_time": "2023-03-24T12:55:55.712Z"
   },
   {
    "duration": 20980,
    "start_time": "2023-03-24T12:55:55.725Z"
   },
   {
    "duration": 19737,
    "start_time": "2023-03-24T12:56:16.707Z"
   },
   {
    "duration": 120,
    "start_time": "2023-03-24T12:56:36.446Z"
   },
   {
    "duration": 8009,
    "start_time": "2023-03-24T12:56:36.568Z"
   },
   {
    "duration": 67,
    "start_time": "2023-03-24T12:56:44.582Z"
   },
   {
    "duration": 492,
    "start_time": "2023-03-24T12:56:44.652Z"
   },
   {
    "duration": 52,
    "start_time": "2023-03-25T15:05:19.618Z"
   },
   {
    "duration": 7622,
    "start_time": "2023-03-25T15:05:27.924Z"
   },
   {
    "duration": 3311,
    "start_time": "2023-03-25T15:05:35.548Z"
   },
   {
    "duration": 1677,
    "start_time": "2023-03-25T15:05:38.861Z"
   },
   {
    "duration": 4,
    "start_time": "2023-03-25T15:05:40.540Z"
   },
   {
    "duration": 18,
    "start_time": "2023-03-25T15:05:40.546Z"
   },
   {
    "duration": 184,
    "start_time": "2023-03-25T15:05:40.565Z"
   },
   {
    "duration": 1411,
    "start_time": "2023-03-25T15:05:40.750Z"
   },
   {
    "duration": 3,
    "start_time": "2023-03-25T15:05:42.163Z"
   },
   {
    "duration": 5,
    "start_time": "2023-03-25T15:05:42.168Z"
   },
   {
    "duration": 25,
    "start_time": "2023-03-25T15:05:42.175Z"
   },
   {
    "duration": 14,
    "start_time": "2023-03-25T15:05:47.698Z"
   },
   {
    "duration": 221,
    "start_time": "2023-03-25T15:05:48.023Z"
   },
   {
    "duration": 186,
    "start_time": "2023-03-25T15:05:48.355Z"
   },
   {
    "duration": 8,
    "start_time": "2023-03-25T15:05:49.779Z"
   },
   {
    "duration": 11,
    "start_time": "2023-03-25T15:05:53.615Z"
   },
   {
    "duration": 108,
    "start_time": "2023-03-25T15:05:56.341Z"
   },
   {
    "duration": 105,
    "start_time": "2023-03-25T15:06:07.115Z"
   },
   {
    "duration": 10,
    "start_time": "2023-03-25T15:08:02.761Z"
   },
   {
    "duration": 5,
    "start_time": "2023-03-25T15:08:04.203Z"
   },
   {
    "duration": 8,
    "start_time": "2023-03-25T15:08:04.924Z"
   },
   {
    "duration": 10,
    "start_time": "2023-03-25T15:08:05.278Z"
   },
   {
    "duration": 12,
    "start_time": "2023-03-25T15:08:06.442Z"
   },
   {
    "duration": 5,
    "start_time": "2023-03-25T15:08:07.398Z"
   },
   {
    "duration": 19,
    "start_time": "2023-03-25T15:08:07.834Z"
   },
   {
    "duration": 14,
    "start_time": "2023-03-25T15:08:08.299Z"
   },
   {
    "duration": 32,
    "start_time": "2023-03-25T15:08:09.447Z"
   },
   {
    "duration": 29,
    "start_time": "2023-03-25T15:08:10.024Z"
   },
   {
    "duration": 36,
    "start_time": "2023-03-25T15:08:11.119Z"
   },
   {
    "duration": 9,
    "start_time": "2023-03-25T15:08:13.475Z"
   },
   {
    "duration": 531,
    "start_time": "2023-03-25T15:08:15.260Z"
   },
   {
    "duration": 6914,
    "start_time": "2023-03-26T17:58:04.936Z"
   },
   {
    "duration": 3494,
    "start_time": "2023-03-26T17:58:11.853Z"
   },
   {
    "duration": 1382,
    "start_time": "2023-03-26T17:58:15.349Z"
   },
   {
    "duration": 4,
    "start_time": "2023-03-26T17:58:16.734Z"
   },
   {
    "duration": 17,
    "start_time": "2023-03-26T17:58:16.740Z"
   },
   {
    "duration": 383,
    "start_time": "2023-03-26T17:58:16.758Z"
   },
   {
    "duration": 1321,
    "start_time": "2023-03-26T17:58:17.143Z"
   },
   {
    "duration": 3,
    "start_time": "2023-03-26T17:58:18.467Z"
   },
   {
    "duration": 8,
    "start_time": "2023-03-26T17:58:18.472Z"
   },
   {
    "duration": 33,
    "start_time": "2023-03-26T17:58:18.482Z"
   },
   {
    "duration": 13,
    "start_time": "2023-03-26T17:58:18.517Z"
   },
   {
    "duration": 212,
    "start_time": "2023-03-26T17:58:18.532Z"
   },
   {
    "duration": 185,
    "start_time": "2023-03-26T17:58:18.746Z"
   },
   {
    "duration": 5,
    "start_time": "2023-03-26T17:58:18.932Z"
   },
   {
    "duration": 10,
    "start_time": "2023-03-26T17:58:18.940Z"
   },
   {
    "duration": 113,
    "start_time": "2023-03-26T17:58:18.952Z"
   },
   {
    "duration": 4,
    "start_time": "2023-03-26T17:58:19.067Z"
   },
   {
    "duration": 1204,
    "start_time": "2023-03-26T17:58:19.073Z"
   },
   {
    "duration": 12,
    "start_time": "2023-03-26T17:58:20.279Z"
   },
   {
    "duration": 13,
    "start_time": "2023-03-26T17:58:20.302Z"
   },
   {
    "duration": 10,
    "start_time": "2023-03-26T17:58:20.316Z"
   },
   {
    "duration": 4,
    "start_time": "2023-03-26T17:58:20.327Z"
   },
   {
    "duration": 12,
    "start_time": "2023-03-26T17:58:20.333Z"
   },
   {
    "duration": 6,
    "start_time": "2023-03-26T17:58:20.346Z"
   },
   {
    "duration": 22,
    "start_time": "2023-03-26T17:58:20.353Z"
   },
   {
    "duration": 35,
    "start_time": "2023-03-26T17:58:20.377Z"
   },
   {
    "duration": 29,
    "start_time": "2023-03-26T17:58:20.414Z"
   },
   {
    "duration": 27,
    "start_time": "2023-03-26T17:58:20.447Z"
   },
   {
    "duration": 49,
    "start_time": "2023-03-26T17:58:20.475Z"
   },
   {
    "duration": 5,
    "start_time": "2023-03-26T17:58:20.526Z"
   },
   {
    "duration": 419,
    "start_time": "2023-03-26T17:58:20.533Z"
   },
   {
    "duration": 574,
    "start_time": "2023-03-26T17:58:20.953Z"
   },
   {
    "duration": 1195,
    "start_time": "2023-03-26T17:58:21.529Z"
   },
   {
    "duration": 719,
    "start_time": "2023-03-26T17:58:22.725Z"
   },
   {
    "duration": 17178,
    "start_time": "2023-03-26T17:58:23.446Z"
   },
   {
    "duration": 9,
    "start_time": "2023-03-26T17:58:40.626Z"
   },
   {
    "duration": 20384,
    "start_time": "2023-03-26T17:58:40.638Z"
   },
   {
    "duration": 17979,
    "start_time": "2023-03-26T17:59:01.023Z"
   },
   {
    "duration": 108,
    "start_time": "2023-03-26T17:59:19.004Z"
   },
   {
    "duration": 7207,
    "start_time": "2023-03-26T17:59:19.113Z"
   },
   {
    "duration": 53,
    "start_time": "2023-03-26T17:59:26.322Z"
   },
   {
    "duration": 475,
    "start_time": "2023-03-26T17:59:26.377Z"
   },
   {
    "duration": 3,
    "start_time": "2023-03-26T18:16:27.547Z"
   },
   {
    "duration": 31279,
    "start_time": "2023-03-26T18:17:28.060Z"
   },
   {
    "duration": 27208,
    "start_time": "2023-03-26T18:21:53.743Z"
   },
   {
    "duration": 527,
    "start_time": "2023-03-26T18:23:49.844Z"
   },
   {
    "duration": 6,
    "start_time": "2023-03-26T18:46:47.228Z"
   },
   {
    "duration": 4,
    "start_time": "2023-03-26T18:46:48.510Z"
   },
   {
    "duration": 150,
    "start_time": "2023-03-26T18:48:47.960Z"
   },
   {
    "duration": 2021,
    "start_time": "2023-03-26T18:49:01.921Z"
   },
   {
    "duration": 2060,
    "start_time": "2023-03-26T18:49:03.944Z"
   },
   {
    "duration": 8,
    "start_time": "2023-03-26T18:49:06.006Z"
   },
   {
    "duration": 6,
    "start_time": "2023-03-26T18:49:06.016Z"
   },
   {
    "duration": 14,
    "start_time": "2023-03-26T18:49:06.024Z"
   },
   {
    "duration": 45,
    "start_time": "2023-03-26T18:49:06.040Z"
   },
   {
    "duration": 1366,
    "start_time": "2023-03-26T18:49:06.532Z"
   },
   {
    "duration": 3,
    "start_time": "2023-03-26T18:49:07.902Z"
   },
   {
    "duration": 4,
    "start_time": "2023-03-26T18:49:08.204Z"
   },
   {
    "duration": 21,
    "start_time": "2023-03-26T18:49:09.852Z"
   },
   {
    "duration": 15,
    "start_time": "2023-03-26T18:49:10.955Z"
   },
   {
    "duration": 206,
    "start_time": "2023-03-26T18:49:11.639Z"
   },
   {
    "duration": 173,
    "start_time": "2023-03-26T18:49:12.328Z"
   },
   {
    "duration": 5,
    "start_time": "2023-03-26T18:49:13.774Z"
   },
   {
    "duration": 10,
    "start_time": "2023-03-26T18:49:15.608Z"
   },
   {
    "duration": 94,
    "start_time": "2023-03-26T18:49:19.158Z"
   },
   {
    "duration": 5,
    "start_time": "2023-03-26T18:49:21.412Z"
   },
   {
    "duration": 1177,
    "start_time": "2023-03-26T18:49:23.789Z"
   },
   {
    "duration": 11,
    "start_time": "2023-03-26T18:49:24.968Z"
   },
   {
    "duration": 5,
    "start_time": "2023-03-26T18:49:29.085Z"
   },
   {
    "duration": 7,
    "start_time": "2023-03-26T18:49:31.329Z"
   },
   {
    "duration": 4,
    "start_time": "2023-03-26T18:49:32.310Z"
   },
   {
    "duration": 11,
    "start_time": "2023-03-26T18:49:34.397Z"
   },
   {
    "duration": 4,
    "start_time": "2023-03-26T18:49:35.987Z"
   },
   {
    "duration": 32,
    "start_time": "2023-03-26T18:49:37.123Z"
   },
   {
    "duration": 19,
    "start_time": "2023-03-26T18:49:38.003Z"
   },
   {
    "duration": 26,
    "start_time": "2023-03-26T18:49:39.179Z"
   },
   {
    "duration": 27,
    "start_time": "2023-03-26T18:49:40.563Z"
   },
   {
    "duration": 5,
    "start_time": "2023-03-26T18:49:42.741Z"
   },
   {
    "duration": 413,
    "start_time": "2023-03-26T18:49:45.414Z"
   },
   {
    "duration": 449,
    "start_time": "2023-03-26T18:54:15.306Z"
   },
   {
    "duration": 6,
    "start_time": "2023-03-26T19:04:07.249Z"
   },
   {
    "duration": 449,
    "start_time": "2023-03-26T19:04:53.887Z"
   },
   {
    "duration": 8,
    "start_time": "2023-03-26T19:05:11.749Z"
   },
   {
    "duration": 6,
    "start_time": "2023-03-26T19:05:22.416Z"
   },
   {
    "duration": 3,
    "start_time": "2023-03-26T19:05:35.252Z"
   },
   {
    "duration": 3,
    "start_time": "2023-03-26T19:05:39.572Z"
   },
   {
    "duration": 584,
    "start_time": "2023-03-26T19:05:50.308Z"
   },
   {
    "duration": 12,
    "start_time": "2023-03-26T19:05:52.002Z"
   },
   {
    "duration": 780,
    "start_time": "2023-03-26T19:06:59.911Z"
   },
   {
    "duration": 782,
    "start_time": "2023-03-26T19:07:06.979Z"
   },
   {
    "duration": 7,
    "start_time": "2023-03-26T19:07:11.681Z"
   },
   {
    "duration": 782,
    "start_time": "2023-03-26T19:07:48.568Z"
   },
   {
    "duration": 7,
    "start_time": "2023-03-26T19:07:50.530Z"
   },
   {
    "duration": 746,
    "start_time": "2023-03-26T19:09:32.817Z"
   },
   {
    "duration": 802,
    "start_time": "2023-03-26T19:10:06.625Z"
   },
   {
    "duration": 909,
    "start_time": "2023-03-26T19:12:50.361Z"
   },
   {
    "duration": 14,
    "start_time": "2023-03-26T19:13:02.880Z"
   },
   {
    "duration": 4,
    "start_time": "2023-03-26T19:13:20.130Z"
   },
   {
    "duration": 9,
    "start_time": "2023-03-26T19:13:29.496Z"
   },
   {
    "duration": 10,
    "start_time": "2023-03-26T19:13:33.759Z"
   },
   {
    "duration": 4,
    "start_time": "2023-03-26T19:13:45.148Z"
   },
   {
    "duration": 11,
    "start_time": "2023-03-26T19:14:22.261Z"
   },
   {
    "duration": 4,
    "start_time": "2023-03-26T19:15:07.557Z"
   },
   {
    "duration": 4,
    "start_time": "2023-03-26T19:15:11.236Z"
   },
   {
    "duration": 4,
    "start_time": "2023-03-26T19:15:20.111Z"
   },
   {
    "duration": 5,
    "start_time": "2023-03-26T19:15:23.099Z"
   },
   {
    "duration": 5,
    "start_time": "2023-03-26T19:15:42.642Z"
   },
   {
    "duration": 5,
    "start_time": "2023-03-26T19:16:14.046Z"
   },
   {
    "duration": 10,
    "start_time": "2023-03-26T19:16:21.414Z"
   },
   {
    "duration": 14,
    "start_time": "2023-03-26T19:19:37.173Z"
   },
   {
    "duration": 79,
    "start_time": "2023-03-26T19:20:20.319Z"
   },
   {
    "duration": 46,
    "start_time": "2023-03-26T19:20:31.296Z"
   },
   {
    "duration": 4,
    "start_time": "2023-03-26T19:20:45.928Z"
   },
   {
    "duration": 4,
    "start_time": "2023-03-26T19:20:53.273Z"
   },
   {
    "duration": 3,
    "start_time": "2023-03-26T19:21:08.226Z"
   },
   {
    "duration": 4,
    "start_time": "2023-03-26T19:22:51.570Z"
   },
   {
    "duration": 4,
    "start_time": "2023-03-26T19:23:08.479Z"
   },
   {
    "duration": 5,
    "start_time": "2023-03-26T19:23:27.259Z"
   },
   {
    "duration": 858,
    "start_time": "2023-03-26T19:23:40.685Z"
   },
   {
    "duration": 33,
    "start_time": "2023-03-26T19:24:47.501Z"
   },
   {
    "duration": 46,
    "start_time": "2023-03-26T19:24:54.969Z"
   },
   {
    "duration": 43,
    "start_time": "2023-03-26T19:25:39.027Z"
   },
   {
    "duration": 4,
    "start_time": "2023-03-26T19:25:52.451Z"
   },
   {
    "duration": 765,
    "start_time": "2023-03-26T19:26:02.634Z"
   },
   {
    "duration": 878,
    "start_time": "2023-03-26T19:26:17.431Z"
   },
   {
    "duration": 93660,
    "start_time": "2023-03-26T19:29:48.523Z"
   },
   {
    "duration": 38931,
    "start_time": "2023-03-26T19:33:00.223Z"
   },
   {
    "duration": 426,
    "start_time": "2023-03-26T19:34:05.937Z"
   },
   {
    "duration": 629,
    "start_time": "2023-03-26T19:34:10.031Z"
   },
   {
    "duration": 848,
    "start_time": "2023-03-26T19:34:27.292Z"
   },
   {
    "duration": 67591,
    "start_time": "2023-03-26T19:34:35.342Z"
   },
   {
    "duration": 5765,
    "start_time": "2023-03-26T19:37:25.321Z"
   },
   {
    "duration": 904,
    "start_time": "2023-03-26T19:41:37.360Z"
   },
   {
    "duration": 71916,
    "start_time": "2023-03-26T19:41:41.562Z"
   },
   {
    "duration": 7039,
    "start_time": "2023-03-26T19:42:53.479Z"
   },
   {
    "duration": 9,
    "start_time": "2023-03-26T19:43:28.994Z"
   },
   {
    "duration": 5,
    "start_time": "2023-03-26T19:43:52.499Z"
   },
   {
    "duration": 451,
    "start_time": "2023-03-26T19:43:55.287Z"
   },
   {
    "duration": 8798,
    "start_time": "2023-03-26T19:44:06.507Z"
   },
   {
    "duration": 8,
    "start_time": "2023-03-26T19:44:15.307Z"
   },
   {
    "duration": 2346,
    "start_time": "2023-03-26T19:51:03.946Z"
   },
   {
    "duration": 2227,
    "start_time": "2023-03-26T19:51:06.294Z"
   },
   {
    "duration": 1383,
    "start_time": "2023-03-26T19:51:08.523Z"
   },
   {
    "duration": 7,
    "start_time": "2023-03-26T19:51:09.910Z"
   },
   {
    "duration": 20,
    "start_time": "2023-03-26T19:51:09.922Z"
   },
   {
    "duration": 45,
    "start_time": "2023-03-26T19:51:09.945Z"
   },
   {
    "duration": 1659,
    "start_time": "2023-03-26T19:51:09.992Z"
   },
   {
    "duration": 4,
    "start_time": "2023-03-26T19:51:11.653Z"
   },
   {
    "duration": 26,
    "start_time": "2023-03-26T19:51:11.659Z"
   },
   {
    "duration": 43,
    "start_time": "2023-03-26T19:51:11.688Z"
   },
   {
    "duration": 20,
    "start_time": "2023-03-26T19:51:11.733Z"
   },
   {
    "duration": 303,
    "start_time": "2023-03-26T19:51:11.758Z"
   },
   {
    "duration": 224,
    "start_time": "2023-03-26T19:51:12.064Z"
   },
   {
    "duration": 5,
    "start_time": "2023-03-26T19:51:12.291Z"
   },
   {
    "duration": 15,
    "start_time": "2023-03-26T19:51:12.304Z"
   },
   {
    "duration": 139,
    "start_time": "2023-03-26T19:51:12.323Z"
   },
   {
    "duration": 7,
    "start_time": "2023-03-26T19:51:12.464Z"
   },
   {
    "duration": 1311,
    "start_time": "2023-03-26T19:51:12.473Z"
   },
   {
    "duration": 18,
    "start_time": "2023-03-26T19:51:13.786Z"
   },
   {
    "duration": 12,
    "start_time": "2023-03-26T19:51:13.811Z"
   },
   {
    "duration": 18,
    "start_time": "2023-03-26T19:51:13.824Z"
   },
   {
    "duration": 7,
    "start_time": "2023-03-26T19:51:13.844Z"
   },
   {
    "duration": 14,
    "start_time": "2023-03-26T19:51:13.852Z"
   },
   {
    "duration": 6,
    "start_time": "2023-03-26T19:51:13.868Z"
   },
   {
    "duration": 35,
    "start_time": "2023-03-26T19:51:13.875Z"
   },
   {
    "duration": 21,
    "start_time": "2023-03-26T19:51:13.912Z"
   },
   {
    "duration": 41,
    "start_time": "2023-03-26T19:51:13.935Z"
   },
   {
    "duration": 71,
    "start_time": "2023-03-26T19:51:13.981Z"
   },
   {
    "duration": 10,
    "start_time": "2023-03-26T19:51:14.053Z"
   },
   {
    "duration": 528,
    "start_time": "2023-03-26T19:51:14.065Z"
   },
   {
    "duration": 894,
    "start_time": "2023-03-26T19:51:14.595Z"
   },
   {
    "duration": 71073,
    "start_time": "2023-03-26T19:51:15.491Z"
   },
   {
    "duration": 5750,
    "start_time": "2023-03-26T19:52:26.566Z"
   },
   {
    "duration": 8,
    "start_time": "2023-03-26T19:52:32.318Z"
   },
   {
    "duration": 899,
    "start_time": "2023-03-26T19:52:32.328Z"
   },
   {
    "duration": 74999,
    "start_time": "2023-03-26T19:52:33.229Z"
   },
   {
    "duration": 16500,
    "start_time": "2023-03-26T19:53:48.230Z"
   },
   {
    "duration": 9,
    "start_time": "2023-03-26T19:54:04.732Z"
   },
   {
    "duration": 2801,
    "start_time": "2023-03-26T19:54:04.743Z"
   },
   {
    "duration": 107007,
    "start_time": "2023-03-26T19:54:07.546Z"
   },
   {
    "duration": 7895,
    "start_time": "2023-03-26T19:55:54.555Z"
   },
   {
    "duration": 172,
    "start_time": "2023-03-26T19:56:02.452Z"
   },
   {
    "duration": 1147,
    "start_time": "2023-03-26T19:56:02.627Z"
   },
   {
    "duration": 74271,
    "start_time": "2023-03-26T19:56:03.776Z"
   },
   {
    "duration": 6228,
    "start_time": "2023-03-26T19:57:18.052Z"
   },
   {
    "duration": 22,
    "start_time": "2023-03-26T19:57:24.282Z"
   },
   {
    "duration": 130,
    "start_time": "2023-03-26T19:57:24.306Z"
   },
   {
    "duration": 24034,
    "start_time": "2023-03-26T19:58:07.172Z"
   },
   {
    "duration": 25131,
    "start_time": "2023-03-26T19:58:35.111Z"
   },
   {
    "duration": 42133,
    "start_time": "2023-03-26T19:59:05.395Z"
   },
   {
    "duration": 43060,
    "start_time": "2023-03-26T20:00:11.330Z"
   },
   {
    "duration": 50145,
    "start_time": "2023-03-26T20:01:20.241Z"
   },
   {
    "duration": 139,
    "start_time": "2023-03-26T20:03:05.379Z"
   },
   {
    "duration": 114,
    "start_time": "2023-03-26T20:03:15.766Z"
   },
   {
    "duration": 52,
    "start_time": "2023-03-26T20:03:39.089Z"
   },
   {
    "duration": 829,
    "start_time": "2023-03-26T20:04:54.616Z"
   },
   {
    "duration": 12,
    "start_time": "2023-03-26T20:09:27.315Z"
   },
   {
    "duration": 11,
    "start_time": "2023-03-26T20:09:38.020Z"
   },
   {
    "duration": 5,
    "start_time": "2023-03-26T20:09:52.873Z"
   },
   {
    "duration": 60,
    "start_time": "2023-03-26T20:09:59.843Z"
   },
   {
    "duration": 6,
    "start_time": "2023-03-26T20:10:16.120Z"
   },
   {
    "duration": 6,
    "start_time": "2023-03-26T20:10:19.909Z"
   },
   {
    "duration": 9,
    "start_time": "2023-03-26T20:10:35.563Z"
   },
   {
    "duration": 12,
    "start_time": "2023-03-26T20:11:07.649Z"
   },
   {
    "duration": 7,
    "start_time": "2023-03-26T20:11:16.321Z"
   },
   {
    "duration": 786,
    "start_time": "2023-03-26T20:11:19.985Z"
   },
   {
    "duration": 8,
    "start_time": "2023-03-26T20:11:27.128Z"
   },
   {
    "duration": 11,
    "start_time": "2023-03-26T20:11:43.219Z"
   },
   {
    "duration": 7,
    "start_time": "2023-03-26T20:11:50.179Z"
   },
   {
    "duration": 5,
    "start_time": "2023-03-26T20:13:45.764Z"
   },
   {
    "duration": 18,
    "start_time": "2023-03-26T20:15:00.958Z"
   },
   {
    "duration": 4,
    "start_time": "2023-03-26T20:15:15.363Z"
   },
   {
    "duration": 21,
    "start_time": "2023-03-26T20:16:12.255Z"
   },
   {
    "duration": 757,
    "start_time": "2023-03-26T20:16:28.458Z"
   },
   {
    "duration": 7,
    "start_time": "2023-03-26T20:17:11.730Z"
   },
   {
    "duration": 3231,
    "start_time": "2023-03-26T20:17:12.224Z"
   },
   {
    "duration": 5,
    "start_time": "2023-03-26T20:19:33.347Z"
   },
   {
    "duration": 2976,
    "start_time": "2023-03-26T20:19:33.353Z"
   },
   {
    "duration": 11,
    "start_time": "2023-03-26T20:19:39.857Z"
   },
   {
    "duration": 14,
    "start_time": "2023-03-26T20:20:00.121Z"
   },
   {
    "duration": 13,
    "start_time": "2023-03-26T20:22:04.500Z"
   },
   {
    "duration": 12,
    "start_time": "2023-03-26T20:24:57.266Z"
   },
   {
    "duration": 11,
    "start_time": "2023-03-26T20:25:01.679Z"
   },
   {
    "duration": 4,
    "start_time": "2023-03-26T20:25:09.053Z"
   },
   {
    "duration": 9,
    "start_time": "2023-03-26T20:25:34.840Z"
   },
   {
    "duration": 3210,
    "start_time": "2023-03-26T20:25:36.942Z"
   },
   {
    "duration": 5,
    "start_time": "2023-03-26T20:25:41.387Z"
   },
   {
    "duration": 2985,
    "start_time": "2023-03-26T20:25:41.959Z"
   },
   {
    "duration": 11,
    "start_time": "2023-03-26T20:25:44.947Z"
   },
   {
    "duration": 2593,
    "start_time": "2023-03-26T20:41:11.680Z"
   },
   {
    "duration": 2315,
    "start_time": "2023-03-26T20:41:14.277Z"
   },
   {
    "duration": 1503,
    "start_time": "2023-03-26T20:41:16.606Z"
   },
   {
    "duration": 8,
    "start_time": "2023-03-26T20:41:18.114Z"
   },
   {
    "duration": 14,
    "start_time": "2023-03-26T20:41:18.125Z"
   },
   {
    "duration": 46,
    "start_time": "2023-03-26T20:41:18.140Z"
   },
   {
    "duration": 1881,
    "start_time": "2023-03-26T20:41:18.188Z"
   },
   {
    "duration": 3,
    "start_time": "2023-03-26T20:41:20.072Z"
   },
   {
    "duration": 13,
    "start_time": "2023-03-26T20:41:20.077Z"
   },
   {
    "duration": 27,
    "start_time": "2023-03-26T20:41:20.092Z"
   },
   {
    "duration": 16,
    "start_time": "2023-03-26T20:41:20.121Z"
   },
   {
    "duration": 263,
    "start_time": "2023-03-26T20:41:20.139Z"
   },
   {
    "duration": 214,
    "start_time": "2023-03-26T20:41:20.404Z"
   },
   {
    "duration": 8,
    "start_time": "2023-03-26T20:41:20.622Z"
   },
   {
    "duration": 11,
    "start_time": "2023-03-26T20:41:20.632Z"
   },
   {
    "duration": 136,
    "start_time": "2023-03-26T20:41:20.645Z"
   },
   {
    "duration": 5,
    "start_time": "2023-03-26T20:41:20.785Z"
   },
   {
    "duration": 1544,
    "start_time": "2023-03-26T20:41:20.792Z"
   },
   {
    "duration": 17,
    "start_time": "2023-03-26T20:41:22.339Z"
   },
   {
    "duration": 8,
    "start_time": "2023-03-26T20:41:22.359Z"
   },
   {
    "duration": 9,
    "start_time": "2023-03-26T20:41:22.370Z"
   },
   {
    "duration": 5,
    "start_time": "2023-03-26T20:41:22.381Z"
   },
   {
    "duration": 21,
    "start_time": "2023-03-26T20:41:22.404Z"
   },
   {
    "duration": 6,
    "start_time": "2023-03-26T20:41:22.428Z"
   },
   {
    "duration": 34,
    "start_time": "2023-03-26T20:41:22.436Z"
   },
   {
    "duration": 40,
    "start_time": "2023-03-26T20:41:22.473Z"
   },
   {
    "duration": 44,
    "start_time": "2023-03-26T20:41:22.516Z"
   },
   {
    "duration": 71,
    "start_time": "2023-03-26T20:41:22.562Z"
   },
   {
    "duration": 14,
    "start_time": "2023-03-26T20:41:22.639Z"
   },
   {
    "duration": 579,
    "start_time": "2023-03-26T20:41:22.663Z"
   },
   {
    "duration": 1207,
    "start_time": "2023-03-26T20:41:23.245Z"
   },
   {
    "duration": 53719,
    "start_time": "2023-03-26T20:41:24.454Z"
   },
   {
    "duration": 6148,
    "start_time": "2023-03-26T20:42:18.179Z"
   },
   {
    "duration": 11,
    "start_time": "2023-03-26T20:42:24.330Z"
   },
   {
    "duration": 1546,
    "start_time": "2023-03-26T20:42:24.343Z"
   },
   {
    "duration": 62646,
    "start_time": "2023-03-26T20:42:25.892Z"
   },
   {
    "duration": 10666,
    "start_time": "2023-03-26T20:43:28.540Z"
   },
   {
    "duration": 10,
    "start_time": "2023-03-26T20:43:39.211Z"
   },
   {
    "duration": 2351,
    "start_time": "2023-03-26T20:43:39.224Z"
   },
   {
    "duration": 72157,
    "start_time": "2023-03-26T20:43:41.579Z"
   },
   {
    "duration": 7831,
    "start_time": "2023-03-26T20:44:53.741Z"
   },
   {
    "duration": 149,
    "start_time": "2023-03-26T20:45:01.573Z"
   },
   {
    "duration": 789,
    "start_time": "2023-03-26T20:45:01.724Z"
   },
   {
    "duration": 25581,
    "start_time": "2023-03-26T20:45:02.533Z"
   },
   {
    "duration": 4566,
    "start_time": "2023-03-26T20:45:28.116Z"
   },
   {
    "duration": 73,
    "start_time": "2023-03-26T20:45:32.684Z"
   },
   {
    "duration": 857,
    "start_time": "2023-03-26T20:45:32.759Z"
   },
   {
    "duration": 7,
    "start_time": "2023-03-26T20:45:33.618Z"
   },
   {
    "duration": 3037,
    "start_time": "2023-03-26T20:45:33.626Z"
   },
   {
    "duration": 13,
    "start_time": "2023-03-26T20:45:36.665Z"
   },
   {
    "duration": 724,
    "start_time": "2023-03-26T20:56:44.838Z"
   },
   {
    "duration": 995,
    "start_time": "2023-03-26T21:00:40.826Z"
   },
   {
    "duration": 1349,
    "start_time": "2023-03-26T21:02:12.021Z"
   },
   {
    "duration": 2433,
    "start_time": "2023-03-26T21:09:08.038Z"
   },
   {
    "duration": 2469,
    "start_time": "2023-03-26T21:09:10.474Z"
   },
   {
    "duration": 1459,
    "start_time": "2023-03-26T21:09:12.945Z"
   },
   {
    "duration": 6,
    "start_time": "2023-03-26T21:09:14.406Z"
   },
   {
    "duration": 14,
    "start_time": "2023-03-26T21:09:14.413Z"
   },
   {
    "duration": 45,
    "start_time": "2023-03-26T21:09:14.428Z"
   },
   {
    "duration": 1604,
    "start_time": "2023-03-26T21:09:14.475Z"
   },
   {
    "duration": 4,
    "start_time": "2023-03-26T21:09:16.082Z"
   },
   {
    "duration": 7,
    "start_time": "2023-03-26T21:09:16.088Z"
   },
   {
    "duration": 28,
    "start_time": "2023-03-26T21:09:16.098Z"
   },
   {
    "duration": 24,
    "start_time": "2023-03-26T21:09:16.128Z"
   },
   {
    "duration": 230,
    "start_time": "2023-03-26T21:09:16.153Z"
   },
   {
    "duration": 274,
    "start_time": "2023-03-26T21:09:16.385Z"
   },
   {
    "duration": 5,
    "start_time": "2023-03-26T21:09:16.661Z"
   },
   {
    "duration": 11,
    "start_time": "2023-03-26T21:09:16.668Z"
   },
   {
    "duration": 113,
    "start_time": "2023-03-26T21:09:16.681Z"
   },
   {
    "duration": 5,
    "start_time": "2023-03-26T21:09:16.796Z"
   },
   {
    "duration": 1277,
    "start_time": "2023-03-26T21:09:16.803Z"
   },
   {
    "duration": 13,
    "start_time": "2023-03-26T21:09:18.082Z"
   },
   {
    "duration": 14,
    "start_time": "2023-03-26T21:09:18.097Z"
   },
   {
    "duration": 13,
    "start_time": "2023-03-26T21:09:18.114Z"
   },
   {
    "duration": 15,
    "start_time": "2023-03-26T21:09:18.129Z"
   },
   {
    "duration": 16,
    "start_time": "2023-03-26T21:09:18.146Z"
   },
   {
    "duration": 15,
    "start_time": "2023-03-26T21:09:18.164Z"
   },
   {
    "duration": 26,
    "start_time": "2023-03-26T21:09:18.181Z"
   },
   {
    "duration": 20,
    "start_time": "2023-03-26T21:09:18.211Z"
   },
   {
    "duration": 34,
    "start_time": "2023-03-26T21:09:18.233Z"
   },
   {
    "duration": 55,
    "start_time": "2023-03-26T21:09:18.272Z"
   },
   {
    "duration": 6,
    "start_time": "2023-03-26T21:09:18.329Z"
   },
   {
    "duration": 492,
    "start_time": "2023-03-26T21:09:18.336Z"
   },
   {
    "duration": 854,
    "start_time": "2023-03-26T21:09:18.829Z"
   },
   {
    "duration": 43781,
    "start_time": "2023-03-26T21:09:19.684Z"
   },
   {
    "duration": 5424,
    "start_time": "2023-03-26T21:10:03.467Z"
   },
   {
    "duration": 17,
    "start_time": "2023-03-26T21:10:08.892Z"
   },
   {
    "duration": 951,
    "start_time": "2023-03-26T21:10:08.914Z"
   },
   {
    "duration": 53286,
    "start_time": "2023-03-26T21:10:09.867Z"
   },
   {
    "duration": 12990,
    "start_time": "2023-03-26T21:11:03.155Z"
   },
   {
    "duration": 7,
    "start_time": "2023-03-26T21:11:16.147Z"
   },
   {
    "duration": 1945,
    "start_time": "2023-03-26T21:11:16.156Z"
   },
   {
    "duration": 67469,
    "start_time": "2023-03-26T21:11:18.103Z"
   },
   {
    "duration": 7192,
    "start_time": "2023-03-26T21:12:25.574Z"
   },
   {
    "duration": 1062,
    "start_time": "2023-03-26T21:12:32.768Z"
   },
   {
    "duration": 26609,
    "start_time": "2023-03-26T21:12:33.839Z"
   },
   {
    "duration": 5017,
    "start_time": "2023-03-26T21:13:00.450Z"
   },
   {
    "duration": 53,
    "start_time": "2023-03-26T21:13:05.470Z"
   },
   {
    "duration": 715,
    "start_time": "2023-03-26T21:13:05.524Z"
   },
   {
    "duration": 834,
    "start_time": "2023-03-26T21:13:06.241Z"
   },
   {
    "duration": 5,
    "start_time": "2023-03-26T21:13:07.077Z"
   },
   {
    "duration": 2862,
    "start_time": "2023-03-26T21:13:07.083Z"
   },
   {
    "duration": 11,
    "start_time": "2023-03-26T21:13:09.947Z"
   },
   {
    "duration": 6,
    "start_time": "2023-03-26T21:25:30.106Z"
   },
   {
    "duration": 3977,
    "start_time": "2023-03-26T21:25:30.461Z"
   },
   {
    "duration": 12,
    "start_time": "2023-03-26T21:25:34.440Z"
   },
   {
    "duration": 5,
    "start_time": "2023-03-26T21:26:34.056Z"
   },
   {
    "duration": 2877,
    "start_time": "2023-03-26T21:26:34.392Z"
   },
   {
    "duration": 10,
    "start_time": "2023-03-26T21:26:37.271Z"
   },
   {
    "duration": 63,
    "start_time": "2023-03-26T21:37:58.266Z"
   },
   {
    "duration": 43,
    "start_time": "2023-03-26T21:38:17.137Z"
   },
   {
    "duration": 3259,
    "start_time": "2023-03-26T21:46:58.655Z"
   },
   {
    "duration": 2561,
    "start_time": "2023-03-26T21:47:01.918Z"
   },
   {
    "duration": 1693,
    "start_time": "2023-03-26T21:47:04.482Z"
   },
   {
    "duration": 6,
    "start_time": "2023-03-26T21:47:06.180Z"
   },
   {
    "duration": 14,
    "start_time": "2023-03-26T21:47:06.188Z"
   },
   {
    "duration": 68,
    "start_time": "2023-03-26T21:47:06.206Z"
   },
   {
    "duration": 2145,
    "start_time": "2023-03-26T21:47:06.276Z"
   },
   {
    "duration": 4,
    "start_time": "2023-03-26T21:47:08.426Z"
   },
   {
    "duration": 7,
    "start_time": "2023-03-26T21:47:08.433Z"
   },
   {
    "duration": 38,
    "start_time": "2023-03-26T21:47:08.444Z"
   },
   {
    "duration": 28,
    "start_time": "2023-03-26T21:47:08.484Z"
   },
   {
    "duration": 311,
    "start_time": "2023-03-26T21:47:08.514Z"
   },
   {
    "duration": 263,
    "start_time": "2023-03-26T21:47:08.827Z"
   },
   {
    "duration": 22,
    "start_time": "2023-03-26T21:47:09.093Z"
   },
   {
    "duration": 15,
    "start_time": "2023-03-26T21:47:09.117Z"
   },
   {
    "duration": 150,
    "start_time": "2023-03-26T21:47:09.134Z"
   },
   {
    "duration": 17,
    "start_time": "2023-03-26T21:47:09.290Z"
   },
   {
    "duration": 1259,
    "start_time": "2023-03-26T21:47:09.312Z"
   },
   {
    "duration": 11,
    "start_time": "2023-03-26T21:47:10.573Z"
   },
   {
    "duration": 22,
    "start_time": "2023-03-26T21:47:10.585Z"
   },
   {
    "duration": 7,
    "start_time": "2023-03-26T21:47:10.615Z"
   },
   {
    "duration": 10,
    "start_time": "2023-03-26T21:47:10.626Z"
   },
   {
    "duration": 17,
    "start_time": "2023-03-26T21:47:10.638Z"
   },
   {
    "duration": 10,
    "start_time": "2023-03-26T21:47:10.657Z"
   },
   {
    "duration": 25,
    "start_time": "2023-03-26T21:47:10.669Z"
   },
   {
    "duration": 27,
    "start_time": "2023-03-26T21:47:10.696Z"
   },
   {
    "duration": 29,
    "start_time": "2023-03-26T21:47:10.727Z"
   },
   {
    "duration": 52,
    "start_time": "2023-03-26T21:47:10.762Z"
   },
   {
    "duration": 10,
    "start_time": "2023-03-26T21:47:10.816Z"
   },
   {
    "duration": 484,
    "start_time": "2023-03-26T21:47:10.830Z"
   },
   {
    "duration": 983,
    "start_time": "2023-03-26T21:47:11.316Z"
   },
   {
    "duration": 45056,
    "start_time": "2023-03-26T21:47:12.303Z"
   },
   {
    "duration": 5267,
    "start_time": "2023-03-26T21:47:57.362Z"
   },
   {
    "duration": 11,
    "start_time": "2023-03-26T21:48:02.634Z"
   },
   {
    "duration": 976,
    "start_time": "2023-03-26T21:48:02.647Z"
   },
   {
    "duration": 53950,
    "start_time": "2023-03-26T21:48:03.626Z"
   },
   {
    "duration": 15796,
    "start_time": "2023-03-26T21:48:57.579Z"
   },
   {
    "duration": 10,
    "start_time": "2023-03-26T21:49:13.377Z"
   },
   {
    "duration": 2374,
    "start_time": "2023-03-26T21:49:13.389Z"
   },
   {
    "duration": 65459,
    "start_time": "2023-03-26T21:49:15.765Z"
   },
   {
    "duration": 7206,
    "start_time": "2023-03-26T21:50:21.226Z"
   },
   {
    "duration": 1006,
    "start_time": "2023-03-26T21:50:28.434Z"
   },
   {
    "duration": 24643,
    "start_time": "2023-03-26T21:50:29.442Z"
   },
   {
    "duration": 5209,
    "start_time": "2023-03-26T21:50:54.087Z"
   },
   {
    "duration": 60,
    "start_time": "2023-03-26T21:50:59.306Z"
   },
   {
    "duration": 863,
    "start_time": "2023-03-26T21:50:59.368Z"
   },
   {
    "duration": 7,
    "start_time": "2023-03-26T21:51:00.233Z"
   },
   {
    "duration": 3069,
    "start_time": "2023-03-26T21:51:00.242Z"
   },
   {
    "duration": 15,
    "start_time": "2023-03-26T21:51:03.316Z"
   },
   {
    "duration": 20,
    "start_time": "2023-03-26T21:52:06.399Z"
   }
  ],
  "kernelspec": {
   "display_name": "Python 3 (ipykernel)",
   "language": "python",
   "name": "python3"
  },
  "language_info": {
   "codemirror_mode": {
    "name": "ipython",
    "version": 3
   },
   "file_extension": ".py",
   "mimetype": "text/x-python",
   "name": "python",
   "nbconvert_exporter": "python",
   "pygments_lexer": "ipython3",
   "version": "3.9.13"
  },
  "toc": {
   "base_numbering": 1,
   "nav_menu": {},
   "number_sections": true,
   "sideBar": true,
   "skip_h1_title": true,
   "title_cell": "Содержание",
   "title_sidebar": "Contents",
   "toc_cell": true,
   "toc_position": {
    "height": "calc(100% - 180px)",
    "left": "10px",
    "top": "150px",
    "width": "371.594px"
   },
   "toc_section_display": true,
   "toc_window_display": true
  }
 },
 "nbformat": 4,
 "nbformat_minor": 2
}
