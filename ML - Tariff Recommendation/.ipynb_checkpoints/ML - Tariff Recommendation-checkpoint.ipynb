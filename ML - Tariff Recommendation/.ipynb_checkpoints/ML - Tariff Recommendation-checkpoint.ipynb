{
 "cells": [
  {
   "cell_type": "markdown",
   "metadata": {},
   "source": [
    "# Рекомендация тарифов"
   ]
  },
  {
   "cell_type": "markdown",
   "metadata": {},
   "source": [
    "Оператор мобильной связи «Мегалайн» выяснил: многие клиенты пользуются архивными тарифами. Они хотят построить систему, способную проанализировать поведение клиентов и предложить пользователям новый тариф: «Смарт» или «Ультра».\n",
    "\n",
    "В вашем распоряжении данные о поведении клиентов, которые уже перешли на эти тарифы. Нужно построить модель для задачи классификации, которая выберет подходящий тариф. Предобработка данных не понадобится — вы её уже сделали.\n",
    "\n",
    "Постройте модель с максимально большим значением *accuracy*. Чтобы сдать проект успешно, нужно довести долю правильных ответов по крайней мере до 0.75. Проверьте *accuracy* на тестовой выборке самостоятельно."
   ]
  },
  {
   "cell_type": "markdown",
   "metadata": {},
   "source": [
    "# Описание данных\n",
    "\n",
    "Каждый объект в наборе данных — это информация о поведении одного пользователя за месяц. Известно:\n",
    "\n",
    "сalls — количество звонков,\n",
    "\n",
    "minutes — суммарная длительность звонков в минутах,\n",
    "\n",
    "messages — количество sms-сообщений,\n",
    "\n",
    "mb_used — израсходованный интернет-трафик в Мб,\n",
    "\n",
    "is_ultra — каким тарифом пользовался в течение месяца («Ультра» — 1, «Смарт» — 0)."
   ]
  },
  {
   "cell_type": "code",
   "execution_count": 1,
   "metadata": {},
   "outputs": [],
   "source": [
    "import pandas as pd\n",
    "from sklearn.tree import DecisionTreeClassifier\n",
    "from sklearn.ensemble import RandomForestClassifier \n",
    "from sklearn.linear_model import LogisticRegression\n",
    "from sklearn.model_selection import train_test_split\n",
    "from sklearn.metrics import accuracy_score"
   ]
  },
  {
   "cell_type": "markdown",
   "metadata": {},
   "source": [
    "## Откройте и изучите файл"
   ]
  },
  {
   "cell_type": "code",
   "execution_count": 2,
   "metadata": {},
   "outputs": [
    {
     "data": {
      "text/html": [
       "<div>\n",
       "<style scoped>\n",
       "    .dataframe tbody tr th:only-of-type {\n",
       "        vertical-align: middle;\n",
       "    }\n",
       "\n",
       "    .dataframe tbody tr th {\n",
       "        vertical-align: top;\n",
       "    }\n",
       "\n",
       "    .dataframe thead th {\n",
       "        text-align: right;\n",
       "    }\n",
       "</style>\n",
       "<table border=\"1\" class=\"dataframe\">\n",
       "  <thead>\n",
       "    <tr style=\"text-align: right;\">\n",
       "      <th></th>\n",
       "      <th>calls</th>\n",
       "      <th>minutes</th>\n",
       "      <th>messages</th>\n",
       "      <th>mb_used</th>\n",
       "      <th>is_ultra</th>\n",
       "    </tr>\n",
       "  </thead>\n",
       "  <tbody>\n",
       "    <tr>\n",
       "      <th>0</th>\n",
       "      <td>40.0</td>\n",
       "      <td>311.90</td>\n",
       "      <td>83.0</td>\n",
       "      <td>19915.42</td>\n",
       "      <td>0</td>\n",
       "    </tr>\n",
       "    <tr>\n",
       "      <th>1</th>\n",
       "      <td>85.0</td>\n",
       "      <td>516.75</td>\n",
       "      <td>56.0</td>\n",
       "      <td>22696.96</td>\n",
       "      <td>0</td>\n",
       "    </tr>\n",
       "    <tr>\n",
       "      <th>2</th>\n",
       "      <td>77.0</td>\n",
       "      <td>467.66</td>\n",
       "      <td>86.0</td>\n",
       "      <td>21060.45</td>\n",
       "      <td>0</td>\n",
       "    </tr>\n",
       "    <tr>\n",
       "      <th>3</th>\n",
       "      <td>106.0</td>\n",
       "      <td>745.53</td>\n",
       "      <td>81.0</td>\n",
       "      <td>8437.39</td>\n",
       "      <td>1</td>\n",
       "    </tr>\n",
       "    <tr>\n",
       "      <th>4</th>\n",
       "      <td>66.0</td>\n",
       "      <td>418.74</td>\n",
       "      <td>1.0</td>\n",
       "      <td>14502.75</td>\n",
       "      <td>0</td>\n",
       "    </tr>\n",
       "    <tr>\n",
       "      <th>5</th>\n",
       "      <td>58.0</td>\n",
       "      <td>344.56</td>\n",
       "      <td>21.0</td>\n",
       "      <td>15823.37</td>\n",
       "      <td>0</td>\n",
       "    </tr>\n",
       "    <tr>\n",
       "      <th>6</th>\n",
       "      <td>57.0</td>\n",
       "      <td>431.64</td>\n",
       "      <td>20.0</td>\n",
       "      <td>3738.90</td>\n",
       "      <td>1</td>\n",
       "    </tr>\n",
       "    <tr>\n",
       "      <th>7</th>\n",
       "      <td>15.0</td>\n",
       "      <td>132.40</td>\n",
       "      <td>6.0</td>\n",
       "      <td>21911.60</td>\n",
       "      <td>0</td>\n",
       "    </tr>\n",
       "    <tr>\n",
       "      <th>8</th>\n",
       "      <td>7.0</td>\n",
       "      <td>43.39</td>\n",
       "      <td>3.0</td>\n",
       "      <td>2538.67</td>\n",
       "      <td>1</td>\n",
       "    </tr>\n",
       "    <tr>\n",
       "      <th>9</th>\n",
       "      <td>90.0</td>\n",
       "      <td>665.41</td>\n",
       "      <td>38.0</td>\n",
       "      <td>17358.61</td>\n",
       "      <td>0</td>\n",
       "    </tr>\n",
       "  </tbody>\n",
       "</table>\n",
       "</div>"
      ],
      "text/plain": [
       "   calls  minutes  messages   mb_used  is_ultra\n",
       "0   40.0   311.90      83.0  19915.42         0\n",
       "1   85.0   516.75      56.0  22696.96         0\n",
       "2   77.0   467.66      86.0  21060.45         0\n",
       "3  106.0   745.53      81.0   8437.39         1\n",
       "4   66.0   418.74       1.0  14502.75         0\n",
       "5   58.0   344.56      21.0  15823.37         0\n",
       "6   57.0   431.64      20.0   3738.90         1\n",
       "7   15.0   132.40       6.0  21911.60         0\n",
       "8    7.0    43.39       3.0   2538.67         1\n",
       "9   90.0   665.41      38.0  17358.61         0"
      ]
     },
     "execution_count": 2,
     "metadata": {},
     "output_type": "execute_result"
    }
   ],
   "source": [
    "df = pd.read_csv('/datasets/users_behavior.csv')\n",
    "df.head(10)"
   ]
  },
  {
   "cell_type": "code",
   "execution_count": 3,
   "metadata": {},
   "outputs": [
    {
     "name": "stdout",
     "output_type": "stream",
     "text": [
      "<class 'pandas.core.frame.DataFrame'>\n",
      "RangeIndex: 3214 entries, 0 to 3213\n",
      "Data columns (total 5 columns):\n",
      " #   Column    Non-Null Count  Dtype  \n",
      "---  ------    --------------  -----  \n",
      " 0   calls     3214 non-null   float64\n",
      " 1   minutes   3214 non-null   float64\n",
      " 2   messages  3214 non-null   float64\n",
      " 3   mb_used   3214 non-null   float64\n",
      " 4   is_ultra  3214 non-null   int64  \n",
      "dtypes: float64(4), int64(1)\n",
      "memory usage: 125.7 KB\n"
     ]
    }
   ],
   "source": [
    "df.info()"
   ]
  },
  {
   "cell_type": "markdown",
   "metadata": {},
   "source": [
    "Данные загружены. Они не содержат пропусков, типы данных приведены в соответствие с самими данными. С такими данными можно работать без предварительной обработки."
   ]
  },
  {
   "cell_type": "markdown",
   "metadata": {},
   "source": [
    "## Разбейте данные на выборки"
   ]
  },
  {
   "cell_type": "markdown",
   "metadata": {},
   "source": [
    "Целевой признак, который нам необходимо предсказать - это выбор тарифа пользователем. В датасете обозначается переменной 'is_ultra'. Остальные переменные будут признаками для обучения модели, это количество звонков (calls), минут разговоров (minutes), сообщений (messages) и использованных мб интернета (mb_used)."
   ]
  },
  {
   "cell_type": "code",
   "execution_count": 4,
   "metadata": {},
   "outputs": [],
   "source": [
    "features = df.drop(['is_ultra'], axis=1)\n",
    "target = df['is_ultra']"
   ]
  },
  {
   "cell_type": "markdown",
   "metadata": {},
   "source": [
    "Разобьем нашу выборку данных на обучающую, валидационную и тестовую в следующем процентном соотношении: 60% - 20% - 20%."
   ]
  },
  {
   "cell_type": "code",
   "execution_count": 5,
   "metadata": {},
   "outputs": [],
   "source": [
    "train_ratio = 0.60\n",
    "validation_ratio = 0.20\n",
    "test_ratio = 0.20\n",
    "\n",
    "# сначала отделяем тренировочную выборку\n",
    "features_train, features_test, target_train, target_test =\\\n",
    "train_test_split(features, target, test_size=1 - train_ratio,\n",
    "                 random_state=12345)\n",
    "\n",
    "#делим оставшиеся данные на тестовую и валидационную выборки\n",
    "features_valid, features_test, target_valid, target_test =\\\n",
    "train_test_split(features_test, target_test, \n",
    "                 test_size=test_ratio/(test_ratio + validation_ratio),\n",
    "                 random_state=12345)\n"
   ]
  },
  {
   "cell_type": "code",
   "execution_count": 6,
   "metadata": {},
   "outputs": [
    {
     "name": "stdout",
     "output_type": "stream",
     "text": [
      "Размер обучающей выборки: 1928\n",
      "Размер валидационной выборки: 643\n",
      "Размер тестовой выборки: 643\n"
     ]
    }
   ],
   "source": [
    "print('Размер обучающей выборки:', features_train.shape[0])\n",
    "print('Размер валидационной выборки:', features_valid.shape[0])\n",
    "print('Размер тестовой выборки:', features_test.shape[0])"
   ]
  },
  {
   "cell_type": "markdown",
   "metadata": {},
   "source": [
    "## Исследуйте модели"
   ]
  },
  {
   "cell_type": "markdown",
   "metadata": {},
   "source": [
    "Целевой признак наших данных может принимать всего два значения - 0 и 1, где 0 - это тариф \"Смарт\", а 1 - тариф \"Ультра\". Таким образом перед нами стоит задача бинарной классификации. Для выбора наилучшей модели протестируем следующие виды моделей подходящие для подобного рода задач:\n",
    "\n",
    "- Решающее дерево (Decision Tree);\n",
    "- Случайный лес (Random Forest);\n",
    "- Логистическая регрессия (Logistic Regression)\n",
    "\n",
    "Модели мы будем обучать на обучающей выборки, а проверять ее работу на валидационной выборке с помощью метрики Accuracy, равной отношению числа правильных ответов к размеру тестовой выборки."
   ]
  },
  {
   "cell_type": "markdown",
   "metadata": {},
   "source": [
    "### Модель решающего дерева\n",
    "\n",
    "Основным гиперпараметром определяющим работу данной модели, является значение глубины (max_depth). Найдем такое значение этого гиперпараметра, при котором модель покажет наибольшее значение метрики Accuracy:"
   ]
  },
  {
   "cell_type": "code",
   "execution_count": 7,
   "metadata": {},
   "outputs": [
    {
     "name": "stdout",
     "output_type": "stream",
     "text": [
      "Лучший результат показала модель с глубиной 3 и accuracy 0.7853810264385692\n"
     ]
    }
   ],
   "source": [
    "best_result = 0\n",
    "for depth in range(1,30):\n",
    "    model = DecisionTreeClassifier(random_state=12345, max_depth=depth)\n",
    "    model.fit(features_train, target_train)\n",
    "    predictions_valid = model.predict(features_valid)\n",
    "    result_valid = model.score(features_valid, target_valid)\n",
    "    if result_valid > best_result:\n",
    "        best_result = result_valid\n",
    "        best_model_tree = model\n",
    "        best_max_depth = depth\n",
    "        \n",
    "print('Лучший результат показала модель с глубиной', best_max_depth, 'и accuracy', best_result)"
   ]
  },
  {
   "cell_type": "markdown",
   "metadata": {},
   "source": [
    "Как видим, в данной задаче нам потребовалась совсем небольшая глубина модели для достижения наилучшего результата. При большей глубине модель уже начинает переобучаться и выдавать достойный результат только на обучающей выборке."
   ]
  },
  {
   "cell_type": "markdown",
   "metadata": {},
   "source": [
    "### Модель случайного леса\n",
    "\n",
    "Основными гиперпараметрами определяющими работу данной модели, являются значение глубины (max_depth) и количества деревьев (n_estimators). Найдем такие значения этих гиперпараметров, при которых модель покажет наибольшее значение метрики Accuracy:"
   ]
  },
  {
   "cell_type": "code",
   "execution_count": 8,
   "metadata": {},
   "outputs": [
    {
     "name": "stdout",
     "output_type": "stream",
     "text": [
      "Лучший результат показала модель с глубиной 8 и количеством деревьев 40 , acuuracy равно 0.8087091757387247\n"
     ]
    }
   ],
   "source": [
    "range_est = range(10, 51, 5)\n",
    "range_depth = range (1, 10) \n",
    "best_result = 0\n",
    "\n",
    "for est in range_est:\n",
    "    for depth in range_depth:\n",
    "        model = RandomForestClassifier(random_state=12345, n_estimators=est, max_depth=depth)\n",
    "        model.fit(features_train, target_train)\n",
    "        result_valid = model.score(features_valid, target_valid)\n",
    "        if result_valid > best_result:\n",
    "            best_result = result_valid\n",
    "            best_model_forest = model\n",
    "            best_max_depth = depth\n",
    "            best_est = est\n",
    "        \n",
    "print('Лучший результат показала модель с глубиной', best_max_depth, 'и количеством деревьев',\n",
    "      best_est, ', acuuracy равно', best_result)"
   ]
  },
  {
   "cell_type": "markdown",
   "metadata": {},
   "source": [
    "Ожидаемо, случайны лес показал лучший результат нежели у модели решающего дерева. Однако гиперпараметры при этом выбраны не самые оптимальные для скорости работы такой модели. Если бы наш датасет был не такой маленький, то максимальные величины гиперпараметров модели случайного леса, при которых модель обучается за адекватное время, были бы для нас куда меньше."
   ]
  },
  {
   "cell_type": "markdown",
   "metadata": {},
   "source": [
    "### Модель логистической регрессии\n",
    "\n",
    "Эта модель не склонна к переобучению, основными гиперпараметрами являются максимальное количество итераций (max_iter) и выбор решателя (solver). поскольку у нас небольшой набор данных и все модели обучаются быстро, поставим максимальное значение итераций достаточно большим, что бы все варианты моделей сошлись. Выбор параметра solvers предлагает нам следующие варианты:\n",
    "\n",
    "- liblinear,\n",
    "- newton-cg (этот параметр на наших данных выдает ошибку не сходимости решения, поэтому его уберем из эксперимента),\n",
    "- lbfgs,\n",
    "- sag,\n",
    "- saga.\n",
    "\n",
    "Для небольших наборов данных рекомендуется использовать параметр 'lbfgs', для больших 'sag' или 'saga'. Но мы выясним на практике какой из них лучше подойдет для нашей задачи. Найдем такое значение гиперпараметра solver, при котором модель покажет наибольшее значение метрики Accuracy:"
   ]
  },
  {
   "cell_type": "code",
   "execution_count": 9,
   "metadata": {},
   "outputs": [
    {
     "name": "stdout",
     "output_type": "stream",
     "text": [
      "Лучший результат показала модель с solver = lbfgs accuracy равно 0.7107309486780715\n"
     ]
    }
   ],
   "source": [
    "best_result = 0\n",
    "for solver in ['liblinear', 'lbfgs', 'sag', 'saga']:\n",
    "    model = LogisticRegression(random_state=12345, solver=solver, max_iter=5000)\n",
    "    model.fit(features_train, target_train)\n",
    "    result_valid = model.score(features_valid, target_valid)\n",
    "    if result_valid > best_result:\n",
    "        best_result = result_valid\n",
    "        best_model_logistic = model\n",
    "        best_solver = solver\n",
    "\n",
    "print(\"Лучший результат показала модель с solver =\", best_solver, 'accuracy равно', best_result)"
   ]
  },
  {
   "cell_type": "markdown",
   "metadata": {},
   "source": [
    "Таким образом лучший результат в модели логистической регрессии показал решатель 'lbfgs', который согласно документации лучше подходит для малых объемов данных.\n",
    "\n",
    "**Вывод по исследованию моделей:**\n",
    "\n",
    "Согласно метрике качества accuracy. наилучший результат из всех моделей показала модель случайного леса с гиперпараметрами n_estimators=40, max_depth=8.\n",
    "\n",
    "Протестируем эту модель на тестовой выборке."
   ]
  },
  {
   "cell_type": "markdown",
   "metadata": {},
   "source": [
    "## Проверьте модель на тестовой выборке"
   ]
  },
  {
   "cell_type": "code",
   "execution_count": 10,
   "metadata": {},
   "outputs": [
    {
     "name": "stdout",
     "output_type": "stream",
     "text": [
      "Результат лучшей модели случайного леса на тестовой выборке, accuracy = 0.7962674961119751\n"
     ]
    }
   ],
   "source": [
    "result_test = best_model_forest.score(features_test, target_test)\n",
    "print('Результат лучшей модели случайного леса на тестовой выборке, accuracy =', result_test)"
   ]
  },
  {
   "cell_type": "markdown",
   "metadata": {},
   "source": [
    "Результат на тестовой выборке получился слегка меньше чем на валидационной, однако все равно больше чем у остальных тестируемых моделей и больше необходимого нам по условиям задачи минимального значения 0.75."
   ]
  },
  {
   "cell_type": "markdown",
   "metadata": {},
   "source": [
    "## (бонус) Проверьте модели на адекватность"
   ]
  },
  {
   "cell_type": "markdown",
   "metadata": {},
   "source": [
    "Проверим какой результат показала бы случайная модель дающая в качестве предсказания всегда одно и то же значение - 0 и проверим ее точность на тестовой выборке:"
   ]
  },
  {
   "cell_type": "code",
   "execution_count": 11,
   "metadata": {},
   "outputs": [
    {
     "data": {
      "text/plain": [
       "0.6842923794712286"
      ]
     },
     "execution_count": 11,
     "metadata": {},
     "output_type": "execute_result"
    }
   ],
   "source": [
    "predictions = pd.Series(0, index=target_test.index)\n",
    "accuracy_score(target_test, predictions)"
   ]
  },
  {
   "cell_type": "markdown",
   "metadata": {},
   "source": [
    "Точность такой модели говорит нам о том что распределение значений целевого признака в выборке смещено в сторону значения 0. И если мы всем новым пользователям будем давать тариф \"Смарт\", мы угадаем с выбором в 68% случаев. Значение accuracy нашей наилучшей модели почти 80%, что говорит о ее адекватности. Однако если бы мы остановили свой выбор на модели логистической регрессии, то вероятность была бы очень близка к вероятности нашей случайной модели, а значит смысла в такой модели на практике не много. "
   ]
  },
  {
   "cell_type": "markdown",
   "metadata": {},
   "source": [
    "# Вывод по проекту\n",
    "\n",
    "Для задачи подбора подходящего тарифа было протестировано три типа модели классификации: решающее дерево, случайный лес и логистическая регрессия. Опытным путем определено, что наилучший результат дает модель случайного леса с гиперпараметрами n_estimators=40, max_depth=8. На тестовой выборке эта модель показала значение Accuracy = 0.796. Это значение больше минимального допустимого по условиям задачи 0.75, а значит модель подходит для решения поставленной задачи. "
   ]
  }
 ],
 "metadata": {
  "ExecuteTimeLog": [
   {
    "duration": 44,
    "start_time": "2023-02-28T12:39:08.387Z"
   },
   {
    "duration": 90,
    "start_time": "2023-02-28T12:39:13.675Z"
   },
   {
    "duration": 1104,
    "start_time": "2023-02-28T12:39:20.044Z"
   },
   {
    "duration": 154,
    "start_time": "2023-02-28T12:39:22.243Z"
   },
   {
    "duration": 12,
    "start_time": "2023-02-28T12:39:29.647Z"
   },
   {
    "duration": 94,
    "start_time": "2023-02-28T12:44:49.879Z"
   },
   {
    "duration": 463,
    "start_time": "2023-02-28T12:45:05.993Z"
   },
   {
    "duration": 64,
    "start_time": "2023-02-28T12:46:59.428Z"
   },
   {
    "duration": 7,
    "start_time": "2023-02-28T12:47:04.010Z"
   },
   {
    "duration": 13,
    "start_time": "2023-02-28T12:47:05.035Z"
   },
   {
    "duration": 5,
    "start_time": "2023-02-28T12:47:22.280Z"
   },
   {
    "duration": 5,
    "start_time": "2023-02-28T13:56:42.817Z"
   },
   {
    "duration": 10,
    "start_time": "2023-02-28T13:56:51.683Z"
   },
   {
    "duration": 3,
    "start_time": "2023-02-28T14:00:17.036Z"
   },
   {
    "duration": 36,
    "start_time": "2023-02-28T14:00:22.148Z"
   },
   {
    "duration": 9,
    "start_time": "2023-02-28T14:01:11.542Z"
   },
   {
    "duration": 15,
    "start_time": "2023-02-28T14:02:39.674Z"
   },
   {
    "duration": 12,
    "start_time": "2023-02-28T14:03:08.435Z"
   },
   {
    "duration": 5,
    "start_time": "2023-02-28T14:05:48.698Z"
   },
   {
    "duration": 13,
    "start_time": "2023-02-28T14:06:01.185Z"
   },
   {
    "duration": 7,
    "start_time": "2023-02-28T14:07:01.912Z"
   },
   {
    "duration": 40,
    "start_time": "2023-02-28T14:07:36.019Z"
   },
   {
    "duration": 51,
    "start_time": "2023-02-28T14:09:48.069Z"
   },
   {
    "duration": 93,
    "start_time": "2023-02-28T14:10:14.879Z"
   },
   {
    "duration": 99,
    "start_time": "2023-02-28T14:17:43.926Z"
   },
   {
    "duration": 375,
    "start_time": "2023-02-28T14:17:53.103Z"
   },
   {
    "duration": 593,
    "start_time": "2023-02-28T14:18:53.121Z"
   },
   {
    "duration": 131,
    "start_time": "2023-02-28T14:19:22.133Z"
   },
   {
    "duration": 115,
    "start_time": "2023-02-28T14:19:28.569Z"
   },
   {
    "duration": 216,
    "start_time": "2023-02-28T14:19:59.324Z"
   },
   {
    "duration": 160,
    "start_time": "2023-02-28T14:20:08.085Z"
   },
   {
    "duration": 372,
    "start_time": "2023-02-28T14:20:14.244Z"
   },
   {
    "duration": 154,
    "start_time": "2023-02-28T14:20:17.863Z"
   },
   {
    "duration": 454,
    "start_time": "2023-02-28T14:25:06.741Z"
   },
   {
    "duration": 467,
    "start_time": "2023-02-28T14:25:19.769Z"
   },
   {
    "duration": 386,
    "start_time": "2023-02-28T14:25:34.545Z"
   },
   {
    "duration": 16,
    "start_time": "2023-02-28T14:25:38.085Z"
   },
   {
    "duration": 3883,
    "start_time": "2023-02-28T14:26:08.210Z"
   },
   {
    "duration": 4,
    "start_time": "2023-02-28T14:28:02.346Z"
   },
   {
    "duration": 3741,
    "start_time": "2023-02-28T14:29:03.565Z"
   },
   {
    "duration": 9,
    "start_time": "2023-02-28T14:29:25.421Z"
   },
   {
    "duration": 8,
    "start_time": "2023-02-28T14:29:40.009Z"
   },
   {
    "duration": 187,
    "start_time": "2023-02-28T14:31:04.775Z"
   },
   {
    "duration": 112,
    "start_time": "2023-02-28T14:32:02.295Z"
   },
   {
    "duration": 10,
    "start_time": "2023-02-28T14:32:39.121Z"
   },
   {
    "duration": 90,
    "start_time": "2023-02-28T14:33:07.843Z"
   },
   {
    "duration": 101,
    "start_time": "2023-02-28T14:34:48.990Z"
   },
   {
    "duration": 3783,
    "start_time": "2023-02-28T14:36:39.283Z"
   },
   {
    "duration": 12,
    "start_time": "2023-02-28T14:36:43.746Z"
   },
   {
    "duration": 3753,
    "start_time": "2023-02-28T14:36:59.048Z"
   },
   {
    "duration": 11,
    "start_time": "2023-02-28T14:37:06.706Z"
   },
   {
    "duration": 88,
    "start_time": "2023-02-28T14:37:10.284Z"
   },
   {
    "duration": 3886,
    "start_time": "2023-02-28T14:38:58.281Z"
   },
   {
    "duration": 8,
    "start_time": "2023-02-28T14:39:02.169Z"
   },
   {
    "duration": 89,
    "start_time": "2023-02-28T14:39:05.037Z"
   },
   {
    "duration": 9,
    "start_time": "2023-02-28T14:39:13.780Z"
   },
   {
    "duration": 9,
    "start_time": "2023-02-28T14:39:52.731Z"
   },
   {
    "duration": 8,
    "start_time": "2023-02-28T14:39:56.306Z"
   },
   {
    "duration": 216,
    "start_time": "2023-02-28T14:40:01.736Z"
   },
   {
    "duration": 5,
    "start_time": "2023-02-28T14:43:13.077Z"
   },
   {
    "duration": 4,
    "start_time": "2023-02-28T14:43:18.115Z"
   },
   {
    "duration": 318,
    "start_time": "2023-02-28T14:44:58.041Z"
   },
   {
    "duration": 13,
    "start_time": "2023-02-28T14:45:30.136Z"
   },
   {
    "duration": 11,
    "start_time": "2023-02-28T14:45:54.071Z"
   },
   {
    "duration": 10,
    "start_time": "2023-02-28T14:45:59.700Z"
   },
   {
    "duration": 11,
    "start_time": "2023-02-28T14:46:09.333Z"
   },
   {
    "duration": 12,
    "start_time": "2023-02-28T14:46:14.804Z"
   },
   {
    "duration": 3,
    "start_time": "2023-02-28T14:46:25.553Z"
   },
   {
    "duration": 13,
    "start_time": "2023-02-28T14:46:26.735Z"
   },
   {
    "duration": 19,
    "start_time": "2023-02-28T14:46:29.058Z"
   },
   {
    "duration": 705,
    "start_time": "2023-02-28T14:46:32.402Z"
   },
   {
    "duration": 16,
    "start_time": "2023-02-28T14:47:08.664Z"
   },
   {
    "duration": 3954,
    "start_time": "2023-02-28T14:47:46.277Z"
   },
   {
    "duration": 10,
    "start_time": "2023-02-28T14:47:50.233Z"
   },
   {
    "duration": 10,
    "start_time": "2023-02-28T14:47:53.219Z"
   },
   {
    "duration": 3949,
    "start_time": "2023-02-28T14:48:09.392Z"
   },
   {
    "duration": 9,
    "start_time": "2023-02-28T14:48:13.343Z"
   },
   {
    "duration": 10,
    "start_time": "2023-02-28T14:48:13.748Z"
   },
   {
    "duration": 21,
    "start_time": "2023-02-28T14:48:19.473Z"
   },
   {
    "duration": 20,
    "start_time": "2023-02-28T14:48:44.320Z"
   },
   {
    "duration": 22,
    "start_time": "2023-02-28T14:49:04.892Z"
   },
   {
    "duration": 17440,
    "start_time": "2023-02-28T14:50:23.730Z"
   },
   {
    "duration": 17,
    "start_time": "2023-02-28T14:50:41.173Z"
   },
   {
    "duration": 34,
    "start_time": "2023-02-28T14:50:41.191Z"
   },
   {
    "duration": 19630,
    "start_time": "2023-02-28T14:53:37.967Z"
   },
   {
    "duration": 14,
    "start_time": "2023-02-28T14:53:57.599Z"
   },
   {
    "duration": 39,
    "start_time": "2023-02-28T14:53:57.615Z"
   },
   {
    "duration": 24128,
    "start_time": "2023-02-28T14:58:19.761Z"
   },
   {
    "duration": 27,
    "start_time": "2023-02-28T14:58:43.892Z"
   },
   {
    "duration": 41,
    "start_time": "2023-02-28T14:58:43.921Z"
   },
   {
    "duration": 36,
    "start_time": "2023-02-28T14:59:17.590Z"
   },
   {
    "duration": 36,
    "start_time": "2023-02-28T15:08:07.765Z"
   },
   {
    "duration": 1203,
    "start_time": "2023-03-01T08:21:22.138Z"
   },
   {
    "duration": 148,
    "start_time": "2023-03-01T08:21:24.065Z"
   },
   {
    "duration": 14,
    "start_time": "2023-03-01T08:21:24.999Z"
   },
   {
    "duration": 3,
    "start_time": "2023-03-01T08:21:27.088Z"
   },
   {
    "duration": 7,
    "start_time": "2023-03-01T08:21:27.550Z"
   },
   {
    "duration": 5,
    "start_time": "2023-03-01T08:21:28.428Z"
   },
   {
    "duration": 90,
    "start_time": "2023-03-01T08:25:33.404Z"
   },
   {
    "duration": 346,
    "start_time": "2023-03-01T08:25:41.347Z"
   },
   {
    "duration": 295,
    "start_time": "2023-03-01T08:26:25.535Z"
   },
   {
    "duration": 6271,
    "start_time": "2023-03-01T08:30:34.454Z"
   },
   {
    "duration": 6174,
    "start_time": "2023-03-01T08:31:33.570Z"
   },
   {
    "duration": 106,
    "start_time": "2023-03-01T09:15:25.238Z"
   },
   {
    "duration": 585,
    "start_time": "2023-03-01T09:18:54.845Z"
   },
   {
    "duration": 248,
    "start_time": "2023-03-01T09:19:24.262Z"
   },
   {
    "duration": 1113,
    "start_time": "2023-03-01T09:20:33.695Z"
   },
   {
    "duration": 199,
    "start_time": "2023-03-01T09:21:08.750Z"
   },
   {
    "duration": 28,
    "start_time": "2023-03-01T09:21:22.063Z"
   },
   {
    "duration": 385,
    "start_time": "2023-03-01T09:21:31.076Z"
   },
   {
    "duration": 481,
    "start_time": "2023-03-01T09:21:45.229Z"
   },
   {
    "duration": 705,
    "start_time": "2023-03-01T09:22:00.096Z"
   },
   {
    "duration": 199,
    "start_time": "2023-03-01T09:22:06.016Z"
   },
   {
    "duration": 642,
    "start_time": "2023-03-01T09:22:09.907Z"
   },
   {
    "duration": 180,
    "start_time": "2023-03-01T09:22:23.577Z"
   },
   {
    "duration": 174,
    "start_time": "2023-03-01T09:22:26.580Z"
   },
   {
    "duration": 1061,
    "start_time": "2023-03-01T09:23:10.261Z"
   },
   {
    "duration": 1099,
    "start_time": "2023-03-01T09:23:32.553Z"
   },
   {
    "duration": 1104,
    "start_time": "2023-03-01T09:23:50.331Z"
   },
   {
    "duration": 762,
    "start_time": "2023-03-01T09:24:12.045Z"
   },
   {
    "duration": 1063,
    "start_time": "2023-03-01T09:24:19.292Z"
   },
   {
    "duration": 13,
    "start_time": "2023-03-01T09:27:06.382Z"
   },
   {
    "duration": 1139,
    "start_time": "2023-03-01T09:27:47.780Z"
   },
   {
    "duration": 49,
    "start_time": "2023-03-01T09:27:48.921Z"
   },
   {
    "duration": 11,
    "start_time": "2023-03-01T09:27:48.972Z"
   },
   {
    "duration": 7,
    "start_time": "2023-03-01T09:27:48.985Z"
   },
   {
    "duration": 12,
    "start_time": "2023-03-01T09:27:48.993Z"
   },
   {
    "duration": 5,
    "start_time": "2023-03-01T09:27:49.007Z"
   },
   {
    "duration": 320,
    "start_time": "2023-03-01T09:27:49.013Z"
   },
   {
    "duration": 6306,
    "start_time": "2023-03-01T09:27:49.335Z"
   },
   {
    "duration": 1121,
    "start_time": "2023-03-01T09:27:55.643Z"
   },
   {
    "duration": 4,
    "start_time": "2023-03-01T09:27:56.767Z"
   },
   {
    "duration": 16,
    "start_time": "2023-03-01T09:27:56.773Z"
   },
   {
    "duration": 7,
    "start_time": "2023-03-01T09:29:09.357Z"
   },
   {
    "duration": 4,
    "start_time": "2023-03-01T09:29:10.877Z"
   },
   {
    "duration": 1152,
    "start_time": "2023-03-01T09:29:20.525Z"
   },
   {
    "duration": 46,
    "start_time": "2023-03-01T09:29:21.679Z"
   },
   {
    "duration": 13,
    "start_time": "2023-03-01T09:29:21.727Z"
   },
   {
    "duration": 6,
    "start_time": "2023-03-01T09:29:21.742Z"
   },
   {
    "duration": 14,
    "start_time": "2023-03-01T09:29:21.750Z"
   },
   {
    "duration": 5,
    "start_time": "2023-03-01T09:29:21.765Z"
   },
   {
    "duration": 305,
    "start_time": "2023-03-01T09:29:21.772Z"
   },
   {
    "duration": 6167,
    "start_time": "2023-03-01T09:29:22.079Z"
   },
   {
    "duration": 1015,
    "start_time": "2023-03-01T09:29:28.248Z"
   },
   {
    "duration": 4,
    "start_time": "2023-03-01T09:29:29.265Z"
   },
   {
    "duration": 19,
    "start_time": "2023-03-01T09:29:29.271Z"
   },
   {
    "duration": 1065,
    "start_time": "2023-03-01T09:29:43.694Z"
   },
   {
    "duration": 46,
    "start_time": "2023-03-01T09:29:44.760Z"
   },
   {
    "duration": 12,
    "start_time": "2023-03-01T09:29:44.808Z"
   },
   {
    "duration": 5,
    "start_time": "2023-03-01T09:29:44.822Z"
   },
   {
    "duration": 10,
    "start_time": "2023-03-01T09:29:44.829Z"
   },
   {
    "duration": 6,
    "start_time": "2023-03-01T09:29:44.840Z"
   },
   {
    "duration": 319,
    "start_time": "2023-03-01T09:29:44.848Z"
   },
   {
    "duration": 6175,
    "start_time": "2023-03-01T09:29:45.169Z"
   },
   {
    "duration": 1025,
    "start_time": "2023-03-01T09:29:51.345Z"
   },
   {
    "duration": 3,
    "start_time": "2023-03-01T09:29:52.373Z"
   },
   {
    "duration": 17,
    "start_time": "2023-03-01T09:29:52.377Z"
   },
   {
    "duration": 35,
    "start_time": "2023-03-01T09:32:08.455Z"
   },
   {
    "duration": 23,
    "start_time": "2023-03-01T09:33:35.227Z"
   },
   {
    "duration": 37,
    "start_time": "2023-03-01T09:33:39.751Z"
   },
   {
    "duration": 30,
    "start_time": "2023-03-01T09:33:43.933Z"
   },
   {
    "duration": 109,
    "start_time": "2023-03-01T09:34:19.580Z"
   },
   {
    "duration": 34,
    "start_time": "2023-03-01T09:34:26.435Z"
   },
   {
    "duration": 4,
    "start_time": "2023-03-01T09:39:10.376Z"
   },
   {
    "duration": 3,
    "start_time": "2023-03-01T09:41:18.802Z"
   },
   {
    "duration": 5,
    "start_time": "2023-03-01T09:42:34.529Z"
   },
   {
    "duration": 6,
    "start_time": "2023-03-01T09:42:38.085Z"
   },
   {
    "duration": 92,
    "start_time": "2023-03-01T09:43:17.098Z"
   },
   {
    "duration": 7,
    "start_time": "2023-03-01T09:43:20.604Z"
   },
   {
    "duration": 301,
    "start_time": "2023-03-01T10:11:14.675Z"
   },
   {
    "duration": 312,
    "start_time": "2023-03-01T10:11:20.898Z"
   },
   {
    "duration": 6433,
    "start_time": "2023-03-01T10:11:21.816Z"
   },
   {
    "duration": 1183,
    "start_time": "2023-03-01T10:14:01.113Z"
   },
   {
    "duration": 45,
    "start_time": "2023-03-01T10:14:02.298Z"
   },
   {
    "duration": 11,
    "start_time": "2023-03-01T10:14:02.345Z"
   },
   {
    "duration": 10,
    "start_time": "2023-03-01T10:14:02.358Z"
   },
   {
    "duration": 8,
    "start_time": "2023-03-01T10:14:02.370Z"
   },
   {
    "duration": 7,
    "start_time": "2023-03-01T10:14:02.380Z"
   },
   {
    "duration": 320,
    "start_time": "2023-03-01T10:14:02.389Z"
   },
   {
    "duration": 6178,
    "start_time": "2023-03-01T10:14:02.710Z"
   },
   {
    "duration": 1016,
    "start_time": "2023-03-01T10:14:08.890Z"
   },
   {
    "duration": 4,
    "start_time": "2023-03-01T10:14:09.909Z"
   },
   {
    "duration": 21,
    "start_time": "2023-03-01T10:14:09.914Z"
   },
   {
    "duration": 16,
    "start_time": "2023-03-01T10:14:09.937Z"
   },
   {
    "duration": 6,
    "start_time": "2023-03-01T10:15:04.991Z"
   },
   {
    "duration": 5,
    "start_time": "2023-03-01T10:15:07.270Z"
   },
   {
    "duration": 1028,
    "start_time": "2023-03-01T10:38:38.551Z"
   },
   {
    "duration": 1095,
    "start_time": "2023-03-01T11:00:58.276Z"
   },
   {
    "duration": 45,
    "start_time": "2023-03-01T11:00:59.373Z"
   },
   {
    "duration": 12,
    "start_time": "2023-03-01T11:00:59.419Z"
   },
   {
    "duration": 7,
    "start_time": "2023-03-01T11:00:59.433Z"
   },
   {
    "duration": 11,
    "start_time": "2023-03-01T11:00:59.441Z"
   },
   {
    "duration": 5,
    "start_time": "2023-03-01T11:00:59.453Z"
   },
   {
    "duration": 296,
    "start_time": "2023-03-01T11:00:59.460Z"
   },
   {
    "duration": 6136,
    "start_time": "2023-03-01T11:00:59.758Z"
   },
   {
    "duration": 1054,
    "start_time": "2023-03-01T11:01:05.896Z"
   },
   {
    "duration": 14,
    "start_time": "2023-03-01T11:01:06.953Z"
   },
   {
    "duration": 17,
    "start_time": "2023-03-01T11:01:06.968Z"
   },
   {
    "duration": 1127,
    "start_time": "2023-03-01T11:02:21.955Z"
   },
   {
    "duration": 45,
    "start_time": "2023-03-01T11:02:23.084Z"
   },
   {
    "duration": 18,
    "start_time": "2023-03-01T11:02:23.131Z"
   },
   {
    "duration": 18,
    "start_time": "2023-03-01T11:02:23.152Z"
   },
   {
    "duration": 35,
    "start_time": "2023-03-01T11:02:23.172Z"
   },
   {
    "duration": 24,
    "start_time": "2023-03-01T11:02:23.210Z"
   },
   {
    "duration": 346,
    "start_time": "2023-03-01T11:02:23.235Z"
   },
   {
    "duration": 6189,
    "start_time": "2023-03-01T11:02:23.582Z"
   },
   {
    "duration": 1031,
    "start_time": "2023-03-01T11:02:29.773Z"
   },
   {
    "duration": 14,
    "start_time": "2023-03-01T11:02:30.807Z"
   },
   {
    "duration": 24,
    "start_time": "2023-03-01T11:02:30.823Z"
   }
  ],
  "kernelspec": {
   "display_name": "Python 3 (ipykernel)",
   "language": "python",
   "name": "python3"
  },
  "language_info": {
   "codemirror_mode": {
    "name": "ipython",
    "version": 3
   },
   "file_extension": ".py",
   "mimetype": "text/x-python",
   "name": "python",
   "nbconvert_exporter": "python",
   "pygments_lexer": "ipython3",
   "version": "3.9.13"
  },
  "toc": {
   "base_numbering": 1,
   "nav_menu": {},
   "number_sections": true,
   "sideBar": true,
   "skip_h1_title": true,
   "title_cell": "Table of Contents",
   "title_sidebar": "Contents",
   "toc_cell": false,
   "toc_position": {},
   "toc_section_display": true,
   "toc_window_display": false
  }
 },
 "nbformat": 4,
 "nbformat_minor": 2
}
